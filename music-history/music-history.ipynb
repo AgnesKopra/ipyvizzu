{
 "cells": [
  {
   "cell_type": "code",
   "execution_count": 59,
   "metadata": {
    "scrolled": true
   },
   "outputs": [
    {
     "data": {
      "text/html": [
       "<script id=\"myVizzu_6874eba\">\n",
       "    let myVizzu_f00ad30 = document.createElement(\"div\");\n",
       "    myVizzu_f00ad30.style.cssText = \"width: 640px; height: =360px;\";\n",
       "    let chart_f00ad30 = import(\"https://cdn.jsdelivr.net/npm/vizzu@~0.4.0/dist/vizzu.min.js\").then(Vizzu => new Vizzu.default(myVizzu_f00ad30).initializing);\n",
       "    myVizzu_6874eba.parentNode.insertBefore(myVizzu_f00ad30, myVizzu_6874eba);\n",
       "</script>"
      ]
     },
     "metadata": {},
     "output_type": "display_data"
    },
    {
     "data": {
      "text/html": [
       "<script id=\"myVizzu_904fbe7\">\n",
       "    let display_904fbe7 = myVizzu_904fbe7.parentNode.parentNode.style.display;\n",
       "    myVizzu_904fbe7.parentNode.parentNode.style.display = \"none\";\n",
       "    chart_f00ad30 = chart_f00ad30.then(chart => {\n",
       "        if (myVizzu_f00ad30.parentNode && myVizzu_f00ad30.parentNode.parentNode) {\n",
       "            myVizzu_f00ad30.parentNode.parentNode.style.display = \"none\";\n",
       "        }\n",
       "        myVizzu_904fbe7.parentNode.parentNode.style.display = display_904fbe7;\n",
       "        myVizzu_904fbe7.parentNode.insertBefore(myVizzu_f00ad30, myVizzu_904fbe7);\n",
       "        myVizzu_f00ad30.scrollIntoView({behavior: \"auto\", block: \"center\"});\n",
       "        return chart.animate({\"data\": {\"series\": [{\"name\": \"Year\", \"type\": \"dimension\", \"values\": [\"1972\", \"1972\", \"1972\", \"1972\", \"1972\", \"1972\", \"1972\", \"1972\", \"1973\", \"1973\", \"1973\", \"1974\", \"1974\", \"1974\", \"1975\", \"1975\", \"1975\", \"1976\", \"1976\", \"1976\", \"1977\", \"1977\", \"1977\", \"1978\", \"1978\", \"1978\", \"1979\", \"1979\", \"1979\", \"1980\", \"1980\", \"1980\", \"1981\", \"1981\", \"1981\", \"1982\", \"1982\", \"1982\", \"1983\", \"1983\", \"1983\", \"1984\", \"1984\", \"1984\", \"1985\", \"1985\", \"1985\", \"1986\", \"1986\", \"1986\", \"1987\", \"1987\", \"1987\", \"1988\", \"1988\", \"1988\", \"1989\", \"1989\", \"1989\", \"1989\", \"1990\", \"1990\", \"1990\", \"1990\", \"1991\", \"1991\", \"1991\", \"1991\", \"1992\", \"1992\", \"1992\", \"1992\", \"1993\", \"1993\", \"1993\", \"1993\", \"1994\", \"1994\", \"1994\", \"1994\", \"1995\", \"1995\", \"1995\", \"1995\", \"1996\", \"1996\", \"1996\", \"1996\", \"1997\", \"1997\", \"1997\", \"1997\", \"1998\", \"1998\", \"1998\", \"1998\", \"1999\", \"1999\", \"1999\", \"1999\", \"2000\", \"2000\", \"2000\", \"2000\", \"2001\", \"2001\", \"2001\", \"2001\", \"2002\", \"2002\", \"2002\", \"2002\", \"2003\", \"2003\", \"2003\", \"2003\", \"2004\", \"2004\", \"2004\", \"2004\", \"2004\", \"2004\", \"2005\", \"2005\", \"2005\", \"2005\", \"2005\", \"2005\", \"2005\", \"2006\", \"2006\", \"2006\", \"2006\", \"2006\", \"2006\", \"2006\", \"2007\", \"2007\", \"2007\", \"2007\", \"2007\", \"2007\", \"2007\", \"2008\", \"2008\", \"2008\", \"2008\", \"2008\", \"2008\", \"2008\", \"2009\", \"2009\", \"2009\", \"2009\", \"2009\", \"2009\", \"2010\", \"2010\", \"2010\", \"2010\", \"2010\", \"2010\", \"2011\", \"2011\", \"2011\", \"2011\", \"2011\", \"2011\", \"2012\", \"2012\", \"2012\", \"2012\", \"2012\", \"2012\", \"2013\", \"2013\", \"2013\", \"2013\", \"2013\", \"2013\", \"2014\", \"2014\", \"2014\", \"2014\", \"2014\", \"2014\", \"2015\", \"2015\", \"2015\", \"2015\", \"2015\", \"2015\", \"2016\", \"2016\", \"2016\", \"2016\", \"2016\", \"2016\", \"2017\", \"2017\", \"2017\", \"2017\", \"2017\", \"2017\", \"2018\", \"2018\", \"2018\", \"2018\", \"2018\", \"2018\", \"2019\", \"2019\", \"2019\", \"2019\", \"2019\", \"2019\", \"2020\", \"2020\", \"2020\", \"2020\", \"2020\", \"2020\"]}, {\"name\": \"Format\", \"type\": \"dimension\", \"values\": [\"Other\", \"DVD\", \"Tapes\", \"Download\", \"Streaming\", \"Cassette\", \"Vinyl\", \"CD\", \"Cassette\", \"Tapes\", \"Vinyl\", \"Cassette\", \"Tapes\", \"Vinyl\", \"Cassette\", \"Tapes\", \"Vinyl\", \"Cassette\", \"Tapes\", \"Vinyl\", \"Cassette\", \"Tapes\", \"Vinyl\", \"Cassette\", \"Tapes\", \"Vinyl\", \"Cassette\", \"Tapes\", \"Vinyl\", \"Tapes\", \"Cassette\", \"Vinyl\", \"Tapes\", \"Cassette\", \"Vinyl\", \"Tapes\", \"Cassette\", \"Vinyl\", \"CD\", \"Cassette\", \"Vinyl\", \"CD\", \"Vinyl\", \"Cassette\", \"CD\", \"Vinyl\", \"Cassette\", \"CD\", \"Vinyl\", \"Cassette\", \"Vinyl\", \"CD\", \"Cassette\", \"Vinyl\", \"CD\", \"Cassette\", \"DVD\", \"Vinyl\", \"CD\", \"Cassette\", \"DVD\", \"Vinyl\", \"CD\", \"Cassette\", \"Vinyl\", \"DVD\", \"Cassette\", \"CD\", \"Vinyl\", \"DVD\", \"Cassette\", \"CD\", \"Vinyl\", \"DVD\", \"Cassette\", \"CD\", \"Vinyl\", \"DVD\", \"Cassette\", \"CD\", \"Vinyl\", \"DVD\", \"Cassette\", \"CD\", \"Vinyl\", \"DVD\", \"Cassette\", \"CD\", \"Vinyl\", \"DVD\", \"Cassette\", \"CD\", \"Vinyl\", \"DVD\", \"Cassette\", \"CD\", \"Vinyl\", \"DVD\", \"Cassette\", \"CD\", \"Vinyl\", \"DVD\", \"Cassette\", \"CD\", \"Vinyl\", \"DVD\", \"Cassette\", \"CD\", \"Vinyl\", \"Cassette\", \"DVD\", \"CD\", \"Vinyl\", \"Cassette\", \"DVD\", \"CD\", \"Streaming\", \"Cassette\", \"Vinyl\", \"Download\", \"DVD\", \"CD\", \"Cassette\", \"Vinyl\", \"Streaming\", \"Other\", \"Download\", \"DVD\", \"CD\", \"Cassette\", \"Vinyl\", \"Streaming\", \"DVD\", \"Other\", \"Download\", \"CD\", \"Cassette\", \"Vinyl\", \"Streaming\", \"DVD\", \"Other\", \"Download\", \"CD\", \"Cassette\", \"Vinyl\", \"DVD\", \"Streaming\", \"Other\", \"Download\", \"CD\", \"Vinyl\", \"DVD\", \"Streaming\", \"Other\", \"Download\", \"CD\", \"Vinyl\", \"DVD\", \"Streaming\", \"Other\", \"Download\", \"CD\", \"Vinyl\", \"DVD\", \"Other\", \"Streaming\", \"Download\", \"CD\", \"DVD\", \"Vinyl\", \"Other\", \"Streaming\", \"CD\", \"Download\", \"DVD\", \"Vinyl\", \"Other\", \"Streaming\", \"CD\", \"Download\", \"DVD\", \"Vinyl\", \"Other\", \"CD\", \"Streaming\", \"Download\", \"DVD\", \"Other\", \"Vinyl\", \"CD\", \"Download\", \"Streaming\", \"DVD\", \"Other\", \"Vinyl\", \"CD\", \"Download\", \"Streaming\", \"DVD\", \"Other\", \"Vinyl\", \"CD\", \"Download\", \"Streaming\", \"DVD\", \"Other\", \"Vinyl\", \"CD\", \"Download\", \"Streaming\", \"DVD\", \"Other\", \"Vinyl\", \"CD\", \"Download\", \"Streaming\", \"DVD\", \"Other\", \"CD\", \"Vinyl\", \"Download\", \"Streaming\"]}, {\"name\": \"Revenue [m$]\", \"type\": \"measure\", \"values\": [0.0, 0.0, 0.0, 0.0, 0.0, 0.0, 0.0, 0.0, 443.0, 2941.0, 8371.0, 458.0, 2953.0, 8137.0, 475.0, 2854.0, 8161.0, 663.0, 3108.0, 8679.0, 1066.0, 3464.0, 10422.0, 1786.0, 3763.0, 10851.0, 2070.0, 2440.0, 8594.0, 1655.0, 2214.0, 7695.0, 891.0, 3026.0, 7397.0, 97.0, 3713.0, 5922.0, 45.0, 4706.0, 5089.0, 257.0, 4602.0, 5938.0, 937.0, 3756.0, 5800.0, 2196.0, 2860.0, 5902.0, 2270.0, 3631.0, 6776.0, 1559.0, 4594.0, 7531.0, 241.0, 703.0, 5401.0, 7390.0, 341.0, 358.0, 6847.0, 7387.0, 177.0, 224.0, 6176.0, 8309.0, 147.0, 290.0, 6300.0, 9909.0, 111.0, 382.0, 5757.0, 11745.0, 114.0, 404.0, 5678.0, 14880.0, 122.0, 374.0, 4313.0, 16113.0, 139.0, 390.0, 3455.0, 16691.0, 111.0, 522.0, 2671.0, 16428.0, 95.0, 807.0, 2404.0, 18465.0, 93.0, 585.0, 1724.0, 20256.0, 81.0, 424.0, 948.0, 20075.0, 86.0, 490.0, 531.0, 18982.0, 65.0, 302.0, 427.0, 17355.0, 61.0, 152.0, 574.0, 15888.0, 10.0, 33.0, 54.0, 251.0, 841.0, 15726.0, 17.0, 36.0, 225.0, 560.0, 666.0, 813.0, 13969.0, 5.0, 33.0, 307.0, 582.0, 996.0, 1125.0, 12049.0, 4.0, 34.0, 337.0, 609.0, 1321.0, 1669.0, 9324.0, 1.0, 72.0, 275.0, 386.0, 1178.0, 2054.0, 6585.0, 80.0, 255.0, 436.0, 1098.0, 2361.0, 5217.0, 108.0, 212.0, 548.0, 763.0, 2665.0, 4028.0, 143.0, 174.0, 547.0, 752.0, 3021.0, 3573.0, 132.0, 187.0, 384.0, 1164.0, 2807.0, 3236.0, 118.0, 237.0, 327.0, 1616.0, 2382.0, 3136.0, 100.0, 273.0, 283.0, 1947.0, 1998.0, 2719.0, 83.0, 285.0, 370.0, 1580.0, 2464.0, 2546.0, 64.0, 296.0, 389.0, 1221.0, 1930.0, 4179.0, 40.0, 285.0, 417.0, 1103.0, 1412.0, 5721.0, 30.0, 322.0, 438.0, 718.0, 1038.0, 7491.0, 28.0, 307.0, 492.0, 639.0, 810.0, 8992.0, 29.0, 287.0, 484.0, 626.0, 653.0, 10075.0]}]}, \"style\": {\"fontSize\": 12.5, \"title\": {\"fontWeight\": 200}, \"plot\": {\"paddingLeft\": 100, \"paddingTop\": 25, \"yAxis\": {\"color\": \"#ffffff00\", \"label\": {\"paddingRight\": 10}}, \"xAxis\": {\"title\": {\"color\": \"#ffffff00\"}, \"label\": {\"color\": \"#ffffff00\", \"numberFormat\": \"grouped\"}}, \"marker\": {\"colorPalette\": \"#b74c20FF #c47f58FF #1c9761FF #ea4549FF #875792FF #3562b6FF #ee7c34FF #efae3aFF\"}}}});\n",
       "    });\n",
       "</script>"
      ]
     },
     "metadata": {},
     "output_type": "display_data"
    },
    {
     "data": {
      "text/html": [
       "<script id=\"myVizzu_c9bedb3\">\n",
       "    let display_c9bedb3 = myVizzu_c9bedb3.parentNode.parentNode.style.display;\n",
       "    myVizzu_c9bedb3.parentNode.parentNode.style.display = \"none\";\n",
       "    chart_f00ad30 = chart_f00ad30.then(chart => {\n",
       "        if (myVizzu_f00ad30.parentNode && myVizzu_f00ad30.parentNode.parentNode) {\n",
       "            myVizzu_f00ad30.parentNode.parentNode.style.display = \"none\";\n",
       "        }\n",
       "        myVizzu_c9bedb3.parentNode.parentNode.style.display = display_c9bedb3;\n",
       "        myVizzu_c9bedb3.parentNode.insertBefore(myVizzu_f00ad30, myVizzu_c9bedb3);\n",
       "        myVizzu_f00ad30.scrollIntoView({behavior: \"auto\", block: \"center\"});\n",
       "        return chart.animate({\"data\": {\"filter\": record => { return (parseInt(record.Year) == 1973) }}, \"config\": {\"channels\": {\"y\": {\"set\": [\"Format\"]}, \"x\": {\"set\": [\"Revenue [m$]\"]}, \"label\": {\"set\": [\"Revenue [m$]\"]}, \"color\": {\"set\": [\"Format\"]}}, \"title\": \"Music Revenue by Format - Year by Year 1973\", \"sort\": \"byValue\"}}, {\"duration\": 0.2, \"x\": {\"easing\": \"linear\", \"delay\": 0}, \"y\": {\"delay\": 0}, \"show\": {\"delay\": 0}, \"hide\": {\"delay\": 0}, \"title\": {\"duration\": 0, \"delay\": 0}});\n",
       "    });\n",
       "</script>"
      ]
     },
     "metadata": {},
     "output_type": "display_data"
    },
    {
     "data": {
      "text/html": [
       "<script id=\"myVizzu_dfae174\">\n",
       "    let display_dfae174 = myVizzu_dfae174.parentNode.parentNode.style.display;\n",
       "    myVizzu_dfae174.parentNode.parentNode.style.display = \"none\";\n",
       "    chart_f00ad30 = chart_f00ad30.then(chart => {\n",
       "        if (myVizzu_f00ad30.parentNode && myVizzu_f00ad30.parentNode.parentNode) {\n",
       "            myVizzu_f00ad30.parentNode.parentNode.style.display = \"none\";\n",
       "        }\n",
       "        myVizzu_dfae174.parentNode.parentNode.style.display = display_dfae174;\n",
       "        myVizzu_dfae174.parentNode.insertBefore(myVizzu_f00ad30, myVizzu_dfae174);\n",
       "        myVizzu_f00ad30.scrollIntoView({behavior: \"auto\", block: \"center\"});\n",
       "        return chart.animate({\"data\": {\"filter\": record => { return (parseInt(record.Year) == 1974) }}, \"config\": {\"channels\": {\"y\": {\"set\": [\"Format\"]}, \"x\": {\"set\": [\"Revenue [m$]\"]}, \"label\": {\"set\": [\"Revenue [m$]\"]}, \"color\": {\"set\": [\"Format\"]}}, \"title\": \"Music Revenue by Format - Year by Year 1974\", \"sort\": \"byValue\"}}, {\"duration\": 0.2, \"x\": {\"easing\": \"linear\", \"delay\": 0}, \"y\": {\"delay\": 0}, \"show\": {\"delay\": 0}, \"hide\": {\"delay\": 0}, \"title\": {\"duration\": 0, \"delay\": 0}});\n",
       "    });\n",
       "</script>"
      ]
     },
     "metadata": {},
     "output_type": "display_data"
    },
    {
     "data": {
      "text/html": [
       "<script id=\"myVizzu_0e11885\">\n",
       "    let display_0e11885 = myVizzu_0e11885.parentNode.parentNode.style.display;\n",
       "    myVizzu_0e11885.parentNode.parentNode.style.display = \"none\";\n",
       "    chart_f00ad30 = chart_f00ad30.then(chart => {\n",
       "        if (myVizzu_f00ad30.parentNode && myVizzu_f00ad30.parentNode.parentNode) {\n",
       "            myVizzu_f00ad30.parentNode.parentNode.style.display = \"none\";\n",
       "        }\n",
       "        myVizzu_0e11885.parentNode.parentNode.style.display = display_0e11885;\n",
       "        myVizzu_0e11885.parentNode.insertBefore(myVizzu_f00ad30, myVizzu_0e11885);\n",
       "        myVizzu_f00ad30.scrollIntoView({behavior: \"auto\", block: \"center\"});\n",
       "        return chart.animate({\"data\": {\"filter\": record => { return (parseInt(record.Year) == 1975) }}, \"config\": {\"channels\": {\"y\": {\"set\": [\"Format\"]}, \"x\": {\"set\": [\"Revenue [m$]\"]}, \"label\": {\"set\": [\"Revenue [m$]\"]}, \"color\": {\"set\": [\"Format\"]}}, \"title\": \"Music Revenue by Format - Year by Year 1975\", \"sort\": \"byValue\"}}, {\"duration\": 0.2, \"x\": {\"easing\": \"linear\", \"delay\": 0}, \"y\": {\"delay\": 0}, \"show\": {\"delay\": 0}, \"hide\": {\"delay\": 0}, \"title\": {\"duration\": 0, \"delay\": 0}});\n",
       "    });\n",
       "</script>"
      ]
     },
     "metadata": {},
     "output_type": "display_data"
    },
    {
     "data": {
      "text/html": [
       "<script id=\"myVizzu_71ab1c6\">\n",
       "    let display_71ab1c6 = myVizzu_71ab1c6.parentNode.parentNode.style.display;\n",
       "    myVizzu_71ab1c6.parentNode.parentNode.style.display = \"none\";\n",
       "    chart_f00ad30 = chart_f00ad30.then(chart => {\n",
       "        if (myVizzu_f00ad30.parentNode && myVizzu_f00ad30.parentNode.parentNode) {\n",
       "            myVizzu_f00ad30.parentNode.parentNode.style.display = \"none\";\n",
       "        }\n",
       "        myVizzu_71ab1c6.parentNode.parentNode.style.display = display_71ab1c6;\n",
       "        myVizzu_71ab1c6.parentNode.insertBefore(myVizzu_f00ad30, myVizzu_71ab1c6);\n",
       "        myVizzu_f00ad30.scrollIntoView({behavior: \"auto\", block: \"center\"});\n",
       "        return chart.animate({\"data\": {\"filter\": record => { return (parseInt(record.Year) == 1976) }}, \"config\": {\"channels\": {\"y\": {\"set\": [\"Format\"]}, \"x\": {\"set\": [\"Revenue [m$]\"]}, \"label\": {\"set\": [\"Revenue [m$]\"]}, \"color\": {\"set\": [\"Format\"]}}, \"title\": \"Music Revenue by Format - Year by Year 1976\", \"sort\": \"byValue\"}}, {\"duration\": 0.2, \"x\": {\"easing\": \"linear\", \"delay\": 0}, \"y\": {\"delay\": 0}, \"show\": {\"delay\": 0}, \"hide\": {\"delay\": 0}, \"title\": {\"duration\": 0, \"delay\": 0}});\n",
       "    });\n",
       "</script>"
      ]
     },
     "metadata": {},
     "output_type": "display_data"
    },
    {
     "data": {
      "text/html": [
       "<script id=\"myVizzu_b3ab90d\">\n",
       "    let display_b3ab90d = myVizzu_b3ab90d.parentNode.parentNode.style.display;\n",
       "    myVizzu_b3ab90d.parentNode.parentNode.style.display = \"none\";\n",
       "    chart_f00ad30 = chart_f00ad30.then(chart => {\n",
       "        if (myVizzu_f00ad30.parentNode && myVizzu_f00ad30.parentNode.parentNode) {\n",
       "            myVizzu_f00ad30.parentNode.parentNode.style.display = \"none\";\n",
       "        }\n",
       "        myVizzu_b3ab90d.parentNode.parentNode.style.display = display_b3ab90d;\n",
       "        myVizzu_b3ab90d.parentNode.insertBefore(myVizzu_f00ad30, myVizzu_b3ab90d);\n",
       "        myVizzu_f00ad30.scrollIntoView({behavior: \"auto\", block: \"center\"});\n",
       "        return chart.animate({\"data\": {\"filter\": record => { return (parseInt(record.Year) == 1977) }}, \"config\": {\"channels\": {\"y\": {\"set\": [\"Format\"]}, \"x\": {\"set\": [\"Revenue [m$]\"]}, \"label\": {\"set\": [\"Revenue [m$]\"]}, \"color\": {\"set\": [\"Format\"]}}, \"title\": \"Music Revenue by Format - Year by Year 1977\", \"sort\": \"byValue\"}}, {\"duration\": 0.2, \"x\": {\"easing\": \"linear\", \"delay\": 0}, \"y\": {\"delay\": 0}, \"show\": {\"delay\": 0}, \"hide\": {\"delay\": 0}, \"title\": {\"duration\": 0, \"delay\": 0}});\n",
       "    });\n",
       "</script>"
      ]
     },
     "metadata": {},
     "output_type": "display_data"
    },
    {
     "data": {
      "text/html": [
       "<script id=\"myVizzu_58f7c45\">\n",
       "    let display_58f7c45 = myVizzu_58f7c45.parentNode.parentNode.style.display;\n",
       "    myVizzu_58f7c45.parentNode.parentNode.style.display = \"none\";\n",
       "    chart_f00ad30 = chart_f00ad30.then(chart => {\n",
       "        if (myVizzu_f00ad30.parentNode && myVizzu_f00ad30.parentNode.parentNode) {\n",
       "            myVizzu_f00ad30.parentNode.parentNode.style.display = \"none\";\n",
       "        }\n",
       "        myVizzu_58f7c45.parentNode.parentNode.style.display = display_58f7c45;\n",
       "        myVizzu_58f7c45.parentNode.insertBefore(myVizzu_f00ad30, myVizzu_58f7c45);\n",
       "        myVizzu_f00ad30.scrollIntoView({behavior: \"auto\", block: \"center\"});\n",
       "        return chart.animate({\"data\": {\"filter\": record => { return (parseInt(record.Year) == 1978) }}, \"config\": {\"channels\": {\"y\": {\"set\": [\"Format\"]}, \"x\": {\"set\": [\"Revenue [m$]\"]}, \"label\": {\"set\": [\"Revenue [m$]\"]}, \"color\": {\"set\": [\"Format\"]}}, \"title\": \"Music Revenue by Format - Year by Year 1978\", \"sort\": \"byValue\"}}, {\"duration\": 0.2, \"x\": {\"easing\": \"linear\", \"delay\": 0}, \"y\": {\"delay\": 0}, \"show\": {\"delay\": 0}, \"hide\": {\"delay\": 0}, \"title\": {\"duration\": 0, \"delay\": 0}});\n",
       "    });\n",
       "</script>"
      ]
     },
     "metadata": {},
     "output_type": "display_data"
    },
    {
     "data": {
      "text/html": [
       "<script id=\"myVizzu_0f36a00\">\n",
       "    let display_0f36a00 = myVizzu_0f36a00.parentNode.parentNode.style.display;\n",
       "    myVizzu_0f36a00.parentNode.parentNode.style.display = \"none\";\n",
       "    chart_f00ad30 = chart_f00ad30.then(chart => {\n",
       "        if (myVizzu_f00ad30.parentNode && myVizzu_f00ad30.parentNode.parentNode) {\n",
       "            myVizzu_f00ad30.parentNode.parentNode.style.display = \"none\";\n",
       "        }\n",
       "        myVizzu_0f36a00.parentNode.parentNode.style.display = display_0f36a00;\n",
       "        myVizzu_0f36a00.parentNode.insertBefore(myVizzu_f00ad30, myVizzu_0f36a00);\n",
       "        myVizzu_f00ad30.scrollIntoView({behavior: \"auto\", block: \"center\"});\n",
       "        return chart.animate({\"data\": {\"filter\": record => { return (parseInt(record.Year) == 1979) }}, \"config\": {\"channels\": {\"y\": {\"set\": [\"Format\"]}, \"x\": {\"set\": [\"Revenue [m$]\"]}, \"label\": {\"set\": [\"Revenue [m$]\"]}, \"color\": {\"set\": [\"Format\"]}}, \"title\": \"Music Revenue by Format - Year by Year 1979\", \"sort\": \"byValue\"}}, {\"duration\": 0.2, \"x\": {\"easing\": \"linear\", \"delay\": 0}, \"y\": {\"delay\": 0}, \"show\": {\"delay\": 0}, \"hide\": {\"delay\": 0}, \"title\": {\"duration\": 0, \"delay\": 0}});\n",
       "    });\n",
       "</script>"
      ]
     },
     "metadata": {},
     "output_type": "display_data"
    },
    {
     "data": {
      "text/html": [
       "<script id=\"myVizzu_5b0d16a\">\n",
       "    let display_5b0d16a = myVizzu_5b0d16a.parentNode.parentNode.style.display;\n",
       "    myVizzu_5b0d16a.parentNode.parentNode.style.display = \"none\";\n",
       "    chart_f00ad30 = chart_f00ad30.then(chart => {\n",
       "        if (myVizzu_f00ad30.parentNode && myVizzu_f00ad30.parentNode.parentNode) {\n",
       "            myVizzu_f00ad30.parentNode.parentNode.style.display = \"none\";\n",
       "        }\n",
       "        myVizzu_5b0d16a.parentNode.parentNode.style.display = display_5b0d16a;\n",
       "        myVizzu_5b0d16a.parentNode.insertBefore(myVizzu_f00ad30, myVizzu_5b0d16a);\n",
       "        myVizzu_f00ad30.scrollIntoView({behavior: \"auto\", block: \"center\"});\n",
       "        return chart.animate({\"data\": {\"filter\": record => { return (parseInt(record.Year) == 1980) }}, \"config\": {\"channels\": {\"y\": {\"set\": [\"Format\"]}, \"x\": {\"set\": [\"Revenue [m$]\"]}, \"label\": {\"set\": [\"Revenue [m$]\"]}, \"color\": {\"set\": [\"Format\"]}}, \"title\": \"Music Revenue by Format - Year by Year 1980\", \"sort\": \"byValue\"}}, {\"duration\": 0.2, \"x\": {\"easing\": \"linear\", \"delay\": 0}, \"y\": {\"delay\": 0}, \"show\": {\"delay\": 0}, \"hide\": {\"delay\": 0}, \"title\": {\"duration\": 0, \"delay\": 0}});\n",
       "    });\n",
       "</script>"
      ]
     },
     "metadata": {},
     "output_type": "display_data"
    },
    {
     "data": {
      "text/html": [
       "<script id=\"myVizzu_cc4c7b1\">\n",
       "    let display_cc4c7b1 = myVizzu_cc4c7b1.parentNode.parentNode.style.display;\n",
       "    myVizzu_cc4c7b1.parentNode.parentNode.style.display = \"none\";\n",
       "    chart_f00ad30 = chart_f00ad30.then(chart => {\n",
       "        if (myVizzu_f00ad30.parentNode && myVizzu_f00ad30.parentNode.parentNode) {\n",
       "            myVizzu_f00ad30.parentNode.parentNode.style.display = \"none\";\n",
       "        }\n",
       "        myVizzu_cc4c7b1.parentNode.parentNode.style.display = display_cc4c7b1;\n",
       "        myVizzu_cc4c7b1.parentNode.insertBefore(myVizzu_f00ad30, myVizzu_cc4c7b1);\n",
       "        myVizzu_f00ad30.scrollIntoView({behavior: \"auto\", block: \"center\"});\n",
       "        return chart.animate({\"data\": {\"filter\": record => { return (parseInt(record.Year) == 1981) }}, \"config\": {\"channels\": {\"y\": {\"set\": [\"Format\"]}, \"x\": {\"set\": [\"Revenue [m$]\"]}, \"label\": {\"set\": [\"Revenue [m$]\"]}, \"color\": {\"set\": [\"Format\"]}}, \"title\": \"Music Revenue by Format - Year by Year 1981\", \"sort\": \"byValue\"}}, {\"duration\": 0.2, \"x\": {\"easing\": \"linear\", \"delay\": 0}, \"y\": {\"delay\": 0}, \"show\": {\"delay\": 0}, \"hide\": {\"delay\": 0}, \"title\": {\"duration\": 0, \"delay\": 0}});\n",
       "    });\n",
       "</script>"
      ]
     },
     "metadata": {},
     "output_type": "display_data"
    },
    {
     "data": {
      "text/html": [
       "<script id=\"myVizzu_1775c37\">\n",
       "    let display_1775c37 = myVizzu_1775c37.parentNode.parentNode.style.display;\n",
       "    myVizzu_1775c37.parentNode.parentNode.style.display = \"none\";\n",
       "    chart_f00ad30 = chart_f00ad30.then(chart => {\n",
       "        if (myVizzu_f00ad30.parentNode && myVizzu_f00ad30.parentNode.parentNode) {\n",
       "            myVizzu_f00ad30.parentNode.parentNode.style.display = \"none\";\n",
       "        }\n",
       "        myVizzu_1775c37.parentNode.parentNode.style.display = display_1775c37;\n",
       "        myVizzu_1775c37.parentNode.insertBefore(myVizzu_f00ad30, myVizzu_1775c37);\n",
       "        myVizzu_f00ad30.scrollIntoView({behavior: \"auto\", block: \"center\"});\n",
       "        return chart.animate({\"data\": {\"filter\": record => { return (parseInt(record.Year) == 1982) }}, \"config\": {\"channels\": {\"y\": {\"set\": [\"Format\"]}, \"x\": {\"set\": [\"Revenue [m$]\"]}, \"label\": {\"set\": [\"Revenue [m$]\"]}, \"color\": {\"set\": [\"Format\"]}}, \"title\": \"Music Revenue by Format - Year by Year 1982\", \"sort\": \"byValue\"}}, {\"duration\": 0.2, \"x\": {\"easing\": \"linear\", \"delay\": 0}, \"y\": {\"delay\": 0}, \"show\": {\"delay\": 0}, \"hide\": {\"delay\": 0}, \"title\": {\"duration\": 0, \"delay\": 0}});\n",
       "    });\n",
       "</script>"
      ]
     },
     "metadata": {},
     "output_type": "display_data"
    },
    {
     "data": {
      "text/html": [
       "<script id=\"myVizzu_f8551c5\">\n",
       "    let display_f8551c5 = myVizzu_f8551c5.parentNode.parentNode.style.display;\n",
       "    myVizzu_f8551c5.parentNode.parentNode.style.display = \"none\";\n",
       "    chart_f00ad30 = chart_f00ad30.then(chart => {\n",
       "        if (myVizzu_f00ad30.parentNode && myVizzu_f00ad30.parentNode.parentNode) {\n",
       "            myVizzu_f00ad30.parentNode.parentNode.style.display = \"none\";\n",
       "        }\n",
       "        myVizzu_f8551c5.parentNode.parentNode.style.display = display_f8551c5;\n",
       "        myVizzu_f8551c5.parentNode.insertBefore(myVizzu_f00ad30, myVizzu_f8551c5);\n",
       "        myVizzu_f00ad30.scrollIntoView({behavior: \"auto\", block: \"center\"});\n",
       "        return chart.animate({\"data\": {\"filter\": record => { return (parseInt(record.Year) == 1983) }}, \"config\": {\"channels\": {\"y\": {\"set\": [\"Format\"]}, \"x\": {\"set\": [\"Revenue [m$]\"]}, \"label\": {\"set\": [\"Revenue [m$]\"]}, \"color\": {\"set\": [\"Format\"]}}, \"title\": \"Music Revenue by Format - Year by Year 1983\", \"sort\": \"byValue\"}}, {\"duration\": 0.2, \"x\": {\"easing\": \"linear\", \"delay\": 0}, \"y\": {\"delay\": 0}, \"show\": {\"delay\": 0}, \"hide\": {\"delay\": 0}, \"title\": {\"duration\": 0, \"delay\": 0}});\n",
       "    });\n",
       "</script>"
      ]
     },
     "metadata": {},
     "output_type": "display_data"
    },
    {
     "data": {
      "text/html": [
       "<script id=\"myVizzu_1147f65\">\n",
       "    let display_1147f65 = myVizzu_1147f65.parentNode.parentNode.style.display;\n",
       "    myVizzu_1147f65.parentNode.parentNode.style.display = \"none\";\n",
       "    chart_f00ad30 = chart_f00ad30.then(chart => {\n",
       "        if (myVizzu_f00ad30.parentNode && myVizzu_f00ad30.parentNode.parentNode) {\n",
       "            myVizzu_f00ad30.parentNode.parentNode.style.display = \"none\";\n",
       "        }\n",
       "        myVizzu_1147f65.parentNode.parentNode.style.display = display_1147f65;\n",
       "        myVizzu_1147f65.parentNode.insertBefore(myVizzu_f00ad30, myVizzu_1147f65);\n",
       "        myVizzu_f00ad30.scrollIntoView({behavior: \"auto\", block: \"center\"});\n",
       "        return chart.animate({\"data\": {\"filter\": record => { return (parseInt(record.Year) == 1984) }}, \"config\": {\"channels\": {\"y\": {\"set\": [\"Format\"]}, \"x\": {\"set\": [\"Revenue [m$]\"]}, \"label\": {\"set\": [\"Revenue [m$]\"]}, \"color\": {\"set\": [\"Format\"]}}, \"title\": \"Music Revenue by Format - Year by Year 1984\", \"sort\": \"byValue\"}}, {\"duration\": 0.2, \"x\": {\"easing\": \"linear\", \"delay\": 0}, \"y\": {\"delay\": 0}, \"show\": {\"delay\": 0}, \"hide\": {\"delay\": 0}, \"title\": {\"duration\": 0, \"delay\": 0}});\n",
       "    });\n",
       "</script>"
      ]
     },
     "metadata": {},
     "output_type": "display_data"
    },
    {
     "data": {
      "text/html": [
       "<script id=\"myVizzu_30909d5\">\n",
       "    let display_30909d5 = myVizzu_30909d5.parentNode.parentNode.style.display;\n",
       "    myVizzu_30909d5.parentNode.parentNode.style.display = \"none\";\n",
       "    chart_f00ad30 = chart_f00ad30.then(chart => {\n",
       "        if (myVizzu_f00ad30.parentNode && myVizzu_f00ad30.parentNode.parentNode) {\n",
       "            myVizzu_f00ad30.parentNode.parentNode.style.display = \"none\";\n",
       "        }\n",
       "        myVizzu_30909d5.parentNode.parentNode.style.display = display_30909d5;\n",
       "        myVizzu_30909d5.parentNode.insertBefore(myVizzu_f00ad30, myVizzu_30909d5);\n",
       "        myVizzu_f00ad30.scrollIntoView({behavior: \"auto\", block: \"center\"});\n",
       "        return chart.animate({\"data\": {\"filter\": record => { return (parseInt(record.Year) == 1985) }}, \"config\": {\"channels\": {\"y\": {\"set\": [\"Format\"]}, \"x\": {\"set\": [\"Revenue [m$]\"]}, \"label\": {\"set\": [\"Revenue [m$]\"]}, \"color\": {\"set\": [\"Format\"]}}, \"title\": \"Music Revenue by Format - Year by Year 1985\", \"sort\": \"byValue\"}}, {\"duration\": 0.2, \"x\": {\"easing\": \"linear\", \"delay\": 0}, \"y\": {\"delay\": 0}, \"show\": {\"delay\": 0}, \"hide\": {\"delay\": 0}, \"title\": {\"duration\": 0, \"delay\": 0}});\n",
       "    });\n",
       "</script>"
      ]
     },
     "metadata": {},
     "output_type": "display_data"
    },
    {
     "data": {
      "text/html": [
       "<script id=\"myVizzu_27dc8c8\">\n",
       "    let display_27dc8c8 = myVizzu_27dc8c8.parentNode.parentNode.style.display;\n",
       "    myVizzu_27dc8c8.parentNode.parentNode.style.display = \"none\";\n",
       "    chart_f00ad30 = chart_f00ad30.then(chart => {\n",
       "        if (myVizzu_f00ad30.parentNode && myVizzu_f00ad30.parentNode.parentNode) {\n",
       "            myVizzu_f00ad30.parentNode.parentNode.style.display = \"none\";\n",
       "        }\n",
       "        myVizzu_27dc8c8.parentNode.parentNode.style.display = display_27dc8c8;\n",
       "        myVizzu_27dc8c8.parentNode.insertBefore(myVizzu_f00ad30, myVizzu_27dc8c8);\n",
       "        myVizzu_f00ad30.scrollIntoView({behavior: \"auto\", block: \"center\"});\n",
       "        return chart.animate({\"data\": {\"filter\": record => { return (parseInt(record.Year) == 1986) }}, \"config\": {\"channels\": {\"y\": {\"set\": [\"Format\"]}, \"x\": {\"set\": [\"Revenue [m$]\"]}, \"label\": {\"set\": [\"Revenue [m$]\"]}, \"color\": {\"set\": [\"Format\"]}}, \"title\": \"Music Revenue by Format - Year by Year 1986\", \"sort\": \"byValue\"}}, {\"duration\": 0.2, \"x\": {\"easing\": \"linear\", \"delay\": 0}, \"y\": {\"delay\": 0}, \"show\": {\"delay\": 0}, \"hide\": {\"delay\": 0}, \"title\": {\"duration\": 0, \"delay\": 0}});\n",
       "    });\n",
       "</script>"
      ]
     },
     "metadata": {},
     "output_type": "display_data"
    },
    {
     "data": {
      "text/html": [
       "<script id=\"myVizzu_f693acc\">\n",
       "    let display_f693acc = myVizzu_f693acc.parentNode.parentNode.style.display;\n",
       "    myVizzu_f693acc.parentNode.parentNode.style.display = \"none\";\n",
       "    chart_f00ad30 = chart_f00ad30.then(chart => {\n",
       "        if (myVizzu_f00ad30.parentNode && myVizzu_f00ad30.parentNode.parentNode) {\n",
       "            myVizzu_f00ad30.parentNode.parentNode.style.display = \"none\";\n",
       "        }\n",
       "        myVizzu_f693acc.parentNode.parentNode.style.display = display_f693acc;\n",
       "        myVizzu_f693acc.parentNode.insertBefore(myVizzu_f00ad30, myVizzu_f693acc);\n",
       "        myVizzu_f00ad30.scrollIntoView({behavior: \"auto\", block: \"center\"});\n",
       "        return chart.animate({\"data\": {\"filter\": record => { return (parseInt(record.Year) == 1987) }}, \"config\": {\"channels\": {\"y\": {\"set\": [\"Format\"]}, \"x\": {\"set\": [\"Revenue [m$]\"]}, \"label\": {\"set\": [\"Revenue [m$]\"]}, \"color\": {\"set\": [\"Format\"]}}, \"title\": \"Music Revenue by Format - Year by Year 1987\", \"sort\": \"byValue\"}}, {\"duration\": 0.2, \"x\": {\"easing\": \"linear\", \"delay\": 0}, \"y\": {\"delay\": 0}, \"show\": {\"delay\": 0}, \"hide\": {\"delay\": 0}, \"title\": {\"duration\": 0, \"delay\": 0}});\n",
       "    });\n",
       "</script>"
      ]
     },
     "metadata": {},
     "output_type": "display_data"
    },
    {
     "data": {
      "text/html": [
       "<script id=\"myVizzu_89f1edd\">\n",
       "    let display_89f1edd = myVizzu_89f1edd.parentNode.parentNode.style.display;\n",
       "    myVizzu_89f1edd.parentNode.parentNode.style.display = \"none\";\n",
       "    chart_f00ad30 = chart_f00ad30.then(chart => {\n",
       "        if (myVizzu_f00ad30.parentNode && myVizzu_f00ad30.parentNode.parentNode) {\n",
       "            myVizzu_f00ad30.parentNode.parentNode.style.display = \"none\";\n",
       "        }\n",
       "        myVizzu_89f1edd.parentNode.parentNode.style.display = display_89f1edd;\n",
       "        myVizzu_89f1edd.parentNode.insertBefore(myVizzu_f00ad30, myVizzu_89f1edd);\n",
       "        myVizzu_f00ad30.scrollIntoView({behavior: \"auto\", block: \"center\"});\n",
       "        return chart.animate({\"data\": {\"filter\": record => { return (parseInt(record.Year) == 1988) }}, \"config\": {\"channels\": {\"y\": {\"set\": [\"Format\"]}, \"x\": {\"set\": [\"Revenue [m$]\"]}, \"label\": {\"set\": [\"Revenue [m$]\"]}, \"color\": {\"set\": [\"Format\"]}}, \"title\": \"Music Revenue by Format - Year by Year 1988\", \"sort\": \"byValue\"}}, {\"duration\": 0.2, \"x\": {\"easing\": \"linear\", \"delay\": 0}, \"y\": {\"delay\": 0}, \"show\": {\"delay\": 0}, \"hide\": {\"delay\": 0}, \"title\": {\"duration\": 0, \"delay\": 0}});\n",
       "    });\n",
       "</script>"
      ]
     },
     "metadata": {},
     "output_type": "display_data"
    },
    {
     "data": {
      "text/html": [
       "<script id=\"myVizzu_6f48a8c\">\n",
       "    let display_6f48a8c = myVizzu_6f48a8c.parentNode.parentNode.style.display;\n",
       "    myVizzu_6f48a8c.parentNode.parentNode.style.display = \"none\";\n",
       "    chart_f00ad30 = chart_f00ad30.then(chart => {\n",
       "        if (myVizzu_f00ad30.parentNode && myVizzu_f00ad30.parentNode.parentNode) {\n",
       "            myVizzu_f00ad30.parentNode.parentNode.style.display = \"none\";\n",
       "        }\n",
       "        myVizzu_6f48a8c.parentNode.parentNode.style.display = display_6f48a8c;\n",
       "        myVizzu_6f48a8c.parentNode.insertBefore(myVizzu_f00ad30, myVizzu_6f48a8c);\n",
       "        myVizzu_f00ad30.scrollIntoView({behavior: \"auto\", block: \"center\"});\n",
       "        return chart.animate({\"data\": {\"filter\": record => { return (parseInt(record.Year) == 1989) }}, \"config\": {\"channels\": {\"y\": {\"set\": [\"Format\"]}, \"x\": {\"set\": [\"Revenue [m$]\"]}, \"label\": {\"set\": [\"Revenue [m$]\"]}, \"color\": {\"set\": [\"Format\"]}}, \"title\": \"Music Revenue by Format - Year by Year 1989\", \"sort\": \"byValue\"}}, {\"duration\": 0.2, \"x\": {\"easing\": \"linear\", \"delay\": 0}, \"y\": {\"delay\": 0}, \"show\": {\"delay\": 0}, \"hide\": {\"delay\": 0}, \"title\": {\"duration\": 0, \"delay\": 0}});\n",
       "    });\n",
       "</script>"
      ]
     },
     "metadata": {},
     "output_type": "display_data"
    },
    {
     "data": {
      "text/html": [
       "<script id=\"myVizzu_dc80eac\">\n",
       "    let display_dc80eac = myVizzu_dc80eac.parentNode.parentNode.style.display;\n",
       "    myVizzu_dc80eac.parentNode.parentNode.style.display = \"none\";\n",
       "    chart_f00ad30 = chart_f00ad30.then(chart => {\n",
       "        if (myVizzu_f00ad30.parentNode && myVizzu_f00ad30.parentNode.parentNode) {\n",
       "            myVizzu_f00ad30.parentNode.parentNode.style.display = \"none\";\n",
       "        }\n",
       "        myVizzu_dc80eac.parentNode.parentNode.style.display = display_dc80eac;\n",
       "        myVizzu_dc80eac.parentNode.insertBefore(myVizzu_f00ad30, myVizzu_dc80eac);\n",
       "        myVizzu_f00ad30.scrollIntoView({behavior: \"auto\", block: \"center\"});\n",
       "        return chart.animate({\"data\": {\"filter\": record => { return (parseInt(record.Year) == 1990) }}, \"config\": {\"channels\": {\"y\": {\"set\": [\"Format\"]}, \"x\": {\"set\": [\"Revenue [m$]\"]}, \"label\": {\"set\": [\"Revenue [m$]\"]}, \"color\": {\"set\": [\"Format\"]}}, \"title\": \"Music Revenue by Format - Year by Year 1990\", \"sort\": \"byValue\"}}, {\"duration\": 0.2, \"x\": {\"easing\": \"linear\", \"delay\": 0}, \"y\": {\"delay\": 0}, \"show\": {\"delay\": 0}, \"hide\": {\"delay\": 0}, \"title\": {\"duration\": 0, \"delay\": 0}});\n",
       "    });\n",
       "</script>"
      ]
     },
     "metadata": {},
     "output_type": "display_data"
    },
    {
     "data": {
      "text/html": [
       "<script id=\"myVizzu_02da247\">\n",
       "    let display_02da247 = myVizzu_02da247.parentNode.parentNode.style.display;\n",
       "    myVizzu_02da247.parentNode.parentNode.style.display = \"none\";\n",
       "    chart_f00ad30 = chart_f00ad30.then(chart => {\n",
       "        if (myVizzu_f00ad30.parentNode && myVizzu_f00ad30.parentNode.parentNode) {\n",
       "            myVizzu_f00ad30.parentNode.parentNode.style.display = \"none\";\n",
       "        }\n",
       "        myVizzu_02da247.parentNode.parentNode.style.display = display_02da247;\n",
       "        myVizzu_02da247.parentNode.insertBefore(myVizzu_f00ad30, myVizzu_02da247);\n",
       "        myVizzu_f00ad30.scrollIntoView({behavior: \"auto\", block: \"center\"});\n",
       "        return chart.animate({\"data\": {\"filter\": record => { return (parseInt(record.Year) == 1991) }}, \"config\": {\"channels\": {\"y\": {\"set\": [\"Format\"]}, \"x\": {\"set\": [\"Revenue [m$]\"]}, \"label\": {\"set\": [\"Revenue [m$]\"]}, \"color\": {\"set\": [\"Format\"]}}, \"title\": \"Music Revenue by Format - Year by Year 1991\", \"sort\": \"byValue\"}}, {\"duration\": 0.2, \"x\": {\"easing\": \"linear\", \"delay\": 0}, \"y\": {\"delay\": 0}, \"show\": {\"delay\": 0}, \"hide\": {\"delay\": 0}, \"title\": {\"duration\": 0, \"delay\": 0}});\n",
       "    });\n",
       "</script>"
      ]
     },
     "metadata": {},
     "output_type": "display_data"
    },
    {
     "data": {
      "text/html": [
       "<script id=\"myVizzu_1d7ee11\">\n",
       "    let display_1d7ee11 = myVizzu_1d7ee11.parentNode.parentNode.style.display;\n",
       "    myVizzu_1d7ee11.parentNode.parentNode.style.display = \"none\";\n",
       "    chart_f00ad30 = chart_f00ad30.then(chart => {\n",
       "        if (myVizzu_f00ad30.parentNode && myVizzu_f00ad30.parentNode.parentNode) {\n",
       "            myVizzu_f00ad30.parentNode.parentNode.style.display = \"none\";\n",
       "        }\n",
       "        myVizzu_1d7ee11.parentNode.parentNode.style.display = display_1d7ee11;\n",
       "        myVizzu_1d7ee11.parentNode.insertBefore(myVizzu_f00ad30, myVizzu_1d7ee11);\n",
       "        myVizzu_f00ad30.scrollIntoView({behavior: \"auto\", block: \"center\"});\n",
       "        return chart.animate({\"data\": {\"filter\": record => { return (parseInt(record.Year) == 1992) }}, \"config\": {\"channels\": {\"y\": {\"set\": [\"Format\"]}, \"x\": {\"set\": [\"Revenue [m$]\"]}, \"label\": {\"set\": [\"Revenue [m$]\"]}, \"color\": {\"set\": [\"Format\"]}}, \"title\": \"Music Revenue by Format - Year by Year 1992\", \"sort\": \"byValue\"}}, {\"duration\": 0.2, \"x\": {\"easing\": \"linear\", \"delay\": 0}, \"y\": {\"delay\": 0}, \"show\": {\"delay\": 0}, \"hide\": {\"delay\": 0}, \"title\": {\"duration\": 0, \"delay\": 0}});\n",
       "    });\n",
       "</script>"
      ]
     },
     "metadata": {},
     "output_type": "display_data"
    },
    {
     "data": {
      "text/html": [
       "<script id=\"myVizzu_2324c5a\">\n",
       "    let display_2324c5a = myVizzu_2324c5a.parentNode.parentNode.style.display;\n",
       "    myVizzu_2324c5a.parentNode.parentNode.style.display = \"none\";\n",
       "    chart_f00ad30 = chart_f00ad30.then(chart => {\n",
       "        if (myVizzu_f00ad30.parentNode && myVizzu_f00ad30.parentNode.parentNode) {\n",
       "            myVizzu_f00ad30.parentNode.parentNode.style.display = \"none\";\n",
       "        }\n",
       "        myVizzu_2324c5a.parentNode.parentNode.style.display = display_2324c5a;\n",
       "        myVizzu_2324c5a.parentNode.insertBefore(myVizzu_f00ad30, myVizzu_2324c5a);\n",
       "        myVizzu_f00ad30.scrollIntoView({behavior: \"auto\", block: \"center\"});\n",
       "        return chart.animate({\"data\": {\"filter\": record => { return (parseInt(record.Year) == 1993) }}, \"config\": {\"channels\": {\"y\": {\"set\": [\"Format\"]}, \"x\": {\"set\": [\"Revenue [m$]\"]}, \"label\": {\"set\": [\"Revenue [m$]\"]}, \"color\": {\"set\": [\"Format\"]}}, \"title\": \"Music Revenue by Format - Year by Year 1993\", \"sort\": \"byValue\"}}, {\"duration\": 0.2, \"x\": {\"easing\": \"linear\", \"delay\": 0}, \"y\": {\"delay\": 0}, \"show\": {\"delay\": 0}, \"hide\": {\"delay\": 0}, \"title\": {\"duration\": 0, \"delay\": 0}});\n",
       "    });\n",
       "</script>"
      ]
     },
     "metadata": {},
     "output_type": "display_data"
    },
    {
     "data": {
      "text/html": [
       "<script id=\"myVizzu_53f3b59\">\n",
       "    let display_53f3b59 = myVizzu_53f3b59.parentNode.parentNode.style.display;\n",
       "    myVizzu_53f3b59.parentNode.parentNode.style.display = \"none\";\n",
       "    chart_f00ad30 = chart_f00ad30.then(chart => {\n",
       "        if (myVizzu_f00ad30.parentNode && myVizzu_f00ad30.parentNode.parentNode) {\n",
       "            myVizzu_f00ad30.parentNode.parentNode.style.display = \"none\";\n",
       "        }\n",
       "        myVizzu_53f3b59.parentNode.parentNode.style.display = display_53f3b59;\n",
       "        myVizzu_53f3b59.parentNode.insertBefore(myVizzu_f00ad30, myVizzu_53f3b59);\n",
       "        myVizzu_f00ad30.scrollIntoView({behavior: \"auto\", block: \"center\"});\n",
       "        return chart.animate({\"data\": {\"filter\": record => { return (parseInt(record.Year) == 1994) }}, \"config\": {\"channels\": {\"y\": {\"set\": [\"Format\"]}, \"x\": {\"set\": [\"Revenue [m$]\"]}, \"label\": {\"set\": [\"Revenue [m$]\"]}, \"color\": {\"set\": [\"Format\"]}}, \"title\": \"Music Revenue by Format - Year by Year 1994\", \"sort\": \"byValue\"}}, {\"duration\": 0.2, \"x\": {\"easing\": \"linear\", \"delay\": 0}, \"y\": {\"delay\": 0}, \"show\": {\"delay\": 0}, \"hide\": {\"delay\": 0}, \"title\": {\"duration\": 0, \"delay\": 0}});\n",
       "    });\n",
       "</script>"
      ]
     },
     "metadata": {},
     "output_type": "display_data"
    },
    {
     "data": {
      "text/html": [
       "<script id=\"myVizzu_84cb5db\">\n",
       "    let display_84cb5db = myVizzu_84cb5db.parentNode.parentNode.style.display;\n",
       "    myVizzu_84cb5db.parentNode.parentNode.style.display = \"none\";\n",
       "    chart_f00ad30 = chart_f00ad30.then(chart => {\n",
       "        if (myVizzu_f00ad30.parentNode && myVizzu_f00ad30.parentNode.parentNode) {\n",
       "            myVizzu_f00ad30.parentNode.parentNode.style.display = \"none\";\n",
       "        }\n",
       "        myVizzu_84cb5db.parentNode.parentNode.style.display = display_84cb5db;\n",
       "        myVizzu_84cb5db.parentNode.insertBefore(myVizzu_f00ad30, myVizzu_84cb5db);\n",
       "        myVizzu_f00ad30.scrollIntoView({behavior: \"auto\", block: \"center\"});\n",
       "        return chart.animate({\"data\": {\"filter\": record => { return (parseInt(record.Year) == 1995) }}, \"config\": {\"channels\": {\"y\": {\"set\": [\"Format\"]}, \"x\": {\"set\": [\"Revenue [m$]\"]}, \"label\": {\"set\": [\"Revenue [m$]\"]}, \"color\": {\"set\": [\"Format\"]}}, \"title\": \"Music Revenue by Format - Year by Year 1995\", \"sort\": \"byValue\"}}, {\"duration\": 0.2, \"x\": {\"easing\": \"linear\", \"delay\": 0}, \"y\": {\"delay\": 0}, \"show\": {\"delay\": 0}, \"hide\": {\"delay\": 0}, \"title\": {\"duration\": 0, \"delay\": 0}});\n",
       "    });\n",
       "</script>"
      ]
     },
     "metadata": {},
     "output_type": "display_data"
    },
    {
     "data": {
      "text/html": [
       "<script id=\"myVizzu_5f0de4e\">\n",
       "    let display_5f0de4e = myVizzu_5f0de4e.parentNode.parentNode.style.display;\n",
       "    myVizzu_5f0de4e.parentNode.parentNode.style.display = \"none\";\n",
       "    chart_f00ad30 = chart_f00ad30.then(chart => {\n",
       "        if (myVizzu_f00ad30.parentNode && myVizzu_f00ad30.parentNode.parentNode) {\n",
       "            myVizzu_f00ad30.parentNode.parentNode.style.display = \"none\";\n",
       "        }\n",
       "        myVizzu_5f0de4e.parentNode.parentNode.style.display = display_5f0de4e;\n",
       "        myVizzu_5f0de4e.parentNode.insertBefore(myVizzu_f00ad30, myVizzu_5f0de4e);\n",
       "        myVizzu_f00ad30.scrollIntoView({behavior: \"auto\", block: \"center\"});\n",
       "        return chart.animate({\"data\": {\"filter\": record => { return (parseInt(record.Year) == 1996) }}, \"config\": {\"channels\": {\"y\": {\"set\": [\"Format\"]}, \"x\": {\"set\": [\"Revenue [m$]\"]}, \"label\": {\"set\": [\"Revenue [m$]\"]}, \"color\": {\"set\": [\"Format\"]}}, \"title\": \"Music Revenue by Format - Year by Year 1996\", \"sort\": \"byValue\"}}, {\"duration\": 0.2, \"x\": {\"easing\": \"linear\", \"delay\": 0}, \"y\": {\"delay\": 0}, \"show\": {\"delay\": 0}, \"hide\": {\"delay\": 0}, \"title\": {\"duration\": 0, \"delay\": 0}});\n",
       "    });\n",
       "</script>"
      ]
     },
     "metadata": {},
     "output_type": "display_data"
    },
    {
     "data": {
      "text/html": [
       "<script id=\"myVizzu_e65b8d6\">\n",
       "    let display_e65b8d6 = myVizzu_e65b8d6.parentNode.parentNode.style.display;\n",
       "    myVizzu_e65b8d6.parentNode.parentNode.style.display = \"none\";\n",
       "    chart_f00ad30 = chart_f00ad30.then(chart => {\n",
       "        if (myVizzu_f00ad30.parentNode && myVizzu_f00ad30.parentNode.parentNode) {\n",
       "            myVizzu_f00ad30.parentNode.parentNode.style.display = \"none\";\n",
       "        }\n",
       "        myVizzu_e65b8d6.parentNode.parentNode.style.display = display_e65b8d6;\n",
       "        myVizzu_e65b8d6.parentNode.insertBefore(myVizzu_f00ad30, myVizzu_e65b8d6);\n",
       "        myVizzu_f00ad30.scrollIntoView({behavior: \"auto\", block: \"center\"});\n",
       "        return chart.animate({\"data\": {\"filter\": record => { return (parseInt(record.Year) == 1997) }}, \"config\": {\"channels\": {\"y\": {\"set\": [\"Format\"]}, \"x\": {\"set\": [\"Revenue [m$]\"]}, \"label\": {\"set\": [\"Revenue [m$]\"]}, \"color\": {\"set\": [\"Format\"]}}, \"title\": \"Music Revenue by Format - Year by Year 1997\", \"sort\": \"byValue\"}}, {\"duration\": 0.2, \"x\": {\"easing\": \"linear\", \"delay\": 0}, \"y\": {\"delay\": 0}, \"show\": {\"delay\": 0}, \"hide\": {\"delay\": 0}, \"title\": {\"duration\": 0, \"delay\": 0}});\n",
       "    });\n",
       "</script>"
      ]
     },
     "metadata": {},
     "output_type": "display_data"
    },
    {
     "data": {
      "text/html": [
       "<script id=\"myVizzu_b39d08d\">\n",
       "    let display_b39d08d = myVizzu_b39d08d.parentNode.parentNode.style.display;\n",
       "    myVizzu_b39d08d.parentNode.parentNode.style.display = \"none\";\n",
       "    chart_f00ad30 = chart_f00ad30.then(chart => {\n",
       "        if (myVizzu_f00ad30.parentNode && myVizzu_f00ad30.parentNode.parentNode) {\n",
       "            myVizzu_f00ad30.parentNode.parentNode.style.display = \"none\";\n",
       "        }\n",
       "        myVizzu_b39d08d.parentNode.parentNode.style.display = display_b39d08d;\n",
       "        myVizzu_b39d08d.parentNode.insertBefore(myVizzu_f00ad30, myVizzu_b39d08d);\n",
       "        myVizzu_f00ad30.scrollIntoView({behavior: \"auto\", block: \"center\"});\n",
       "        return chart.animate({\"data\": {\"filter\": record => { return (parseInt(record.Year) == 1998) }}, \"config\": {\"channels\": {\"y\": {\"set\": [\"Format\"]}, \"x\": {\"set\": [\"Revenue [m$]\"]}, \"label\": {\"set\": [\"Revenue [m$]\"]}, \"color\": {\"set\": [\"Format\"]}}, \"title\": \"Music Revenue by Format - Year by Year 1998\", \"sort\": \"byValue\"}}, {\"duration\": 0.2, \"x\": {\"easing\": \"linear\", \"delay\": 0}, \"y\": {\"delay\": 0}, \"show\": {\"delay\": 0}, \"hide\": {\"delay\": 0}, \"title\": {\"duration\": 0, \"delay\": 0}});\n",
       "    });\n",
       "</script>"
      ]
     },
     "metadata": {},
     "output_type": "display_data"
    },
    {
     "data": {
      "text/html": [
       "<script id=\"myVizzu_0659e54\">\n",
       "    let display_0659e54 = myVizzu_0659e54.parentNode.parentNode.style.display;\n",
       "    myVizzu_0659e54.parentNode.parentNode.style.display = \"none\";\n",
       "    chart_f00ad30 = chart_f00ad30.then(chart => {\n",
       "        if (myVizzu_f00ad30.parentNode && myVizzu_f00ad30.parentNode.parentNode) {\n",
       "            myVizzu_f00ad30.parentNode.parentNode.style.display = \"none\";\n",
       "        }\n",
       "        myVizzu_0659e54.parentNode.parentNode.style.display = display_0659e54;\n",
       "        myVizzu_0659e54.parentNode.insertBefore(myVizzu_f00ad30, myVizzu_0659e54);\n",
       "        myVizzu_f00ad30.scrollIntoView({behavior: \"auto\", block: \"center\"});\n",
       "        return chart.animate({\"data\": {\"filter\": record => { return (parseInt(record.Year) == 1999) }}, \"config\": {\"channels\": {\"y\": {\"set\": [\"Format\"]}, \"x\": {\"set\": [\"Revenue [m$]\"]}, \"label\": {\"set\": [\"Revenue [m$]\"]}, \"color\": {\"set\": [\"Format\"]}}, \"title\": \"Music Revenue by Format - Year by Year 1999\", \"sort\": \"byValue\"}}, {\"duration\": 0.2, \"x\": {\"easing\": \"linear\", \"delay\": 0}, \"y\": {\"delay\": 0}, \"show\": {\"delay\": 0}, \"hide\": {\"delay\": 0}, \"title\": {\"duration\": 0, \"delay\": 0}});\n",
       "    });\n",
       "</script>"
      ]
     },
     "metadata": {},
     "output_type": "display_data"
    },
    {
     "data": {
      "text/html": [
       "<script id=\"myVizzu_ceece4e\">\n",
       "    let display_ceece4e = myVizzu_ceece4e.parentNode.parentNode.style.display;\n",
       "    myVizzu_ceece4e.parentNode.parentNode.style.display = \"none\";\n",
       "    chart_f00ad30 = chart_f00ad30.then(chart => {\n",
       "        if (myVizzu_f00ad30.parentNode && myVizzu_f00ad30.parentNode.parentNode) {\n",
       "            myVizzu_f00ad30.parentNode.parentNode.style.display = \"none\";\n",
       "        }\n",
       "        myVizzu_ceece4e.parentNode.parentNode.style.display = display_ceece4e;\n",
       "        myVizzu_ceece4e.parentNode.insertBefore(myVizzu_f00ad30, myVizzu_ceece4e);\n",
       "        myVizzu_f00ad30.scrollIntoView({behavior: \"auto\", block: \"center\"});\n",
       "        return chart.animate({\"data\": {\"filter\": record => { return (parseInt(record.Year) == 2000) }}, \"config\": {\"channels\": {\"y\": {\"set\": [\"Format\"]}, \"x\": {\"set\": [\"Revenue [m$]\"]}, \"label\": {\"set\": [\"Revenue [m$]\"]}, \"color\": {\"set\": [\"Format\"]}}, \"title\": \"Music Revenue by Format - Year by Year 2000\", \"sort\": \"byValue\"}}, {\"duration\": 0.2, \"x\": {\"easing\": \"linear\", \"delay\": 0}, \"y\": {\"delay\": 0}, \"show\": {\"delay\": 0}, \"hide\": {\"delay\": 0}, \"title\": {\"duration\": 0, \"delay\": 0}});\n",
       "    });\n",
       "</script>"
      ]
     },
     "metadata": {},
     "output_type": "display_data"
    },
    {
     "data": {
      "text/html": [
       "<script id=\"myVizzu_29f75aa\">\n",
       "    let display_29f75aa = myVizzu_29f75aa.parentNode.parentNode.style.display;\n",
       "    myVizzu_29f75aa.parentNode.parentNode.style.display = \"none\";\n",
       "    chart_f00ad30 = chart_f00ad30.then(chart => {\n",
       "        if (myVizzu_f00ad30.parentNode && myVizzu_f00ad30.parentNode.parentNode) {\n",
       "            myVizzu_f00ad30.parentNode.parentNode.style.display = \"none\";\n",
       "        }\n",
       "        myVizzu_29f75aa.parentNode.parentNode.style.display = display_29f75aa;\n",
       "        myVizzu_29f75aa.parentNode.insertBefore(myVizzu_f00ad30, myVizzu_29f75aa);\n",
       "        myVizzu_f00ad30.scrollIntoView({behavior: \"auto\", block: \"center\"});\n",
       "        return chart.animate({\"data\": {\"filter\": record => { return (parseInt(record.Year) == 2001) }}, \"config\": {\"channels\": {\"y\": {\"set\": [\"Format\"]}, \"x\": {\"set\": [\"Revenue [m$]\"]}, \"label\": {\"set\": [\"Revenue [m$]\"]}, \"color\": {\"set\": [\"Format\"]}}, \"title\": \"Music Revenue by Format - Year by Year 2001\", \"sort\": \"byValue\"}}, {\"duration\": 0.2, \"x\": {\"easing\": \"linear\", \"delay\": 0}, \"y\": {\"delay\": 0}, \"show\": {\"delay\": 0}, \"hide\": {\"delay\": 0}, \"title\": {\"duration\": 0, \"delay\": 0}});\n",
       "    });\n",
       "</script>"
      ]
     },
     "metadata": {},
     "output_type": "display_data"
    },
    {
     "data": {
      "text/html": [
       "<script id=\"myVizzu_cf4aba0\">\n",
       "    let display_cf4aba0 = myVizzu_cf4aba0.parentNode.parentNode.style.display;\n",
       "    myVizzu_cf4aba0.parentNode.parentNode.style.display = \"none\";\n",
       "    chart_f00ad30 = chart_f00ad30.then(chart => {\n",
       "        if (myVizzu_f00ad30.parentNode && myVizzu_f00ad30.parentNode.parentNode) {\n",
       "            myVizzu_f00ad30.parentNode.parentNode.style.display = \"none\";\n",
       "        }\n",
       "        myVizzu_cf4aba0.parentNode.parentNode.style.display = display_cf4aba0;\n",
       "        myVizzu_cf4aba0.parentNode.insertBefore(myVizzu_f00ad30, myVizzu_cf4aba0);\n",
       "        myVizzu_f00ad30.scrollIntoView({behavior: \"auto\", block: \"center\"});\n",
       "        return chart.animate({\"data\": {\"filter\": record => { return (parseInt(record.Year) == 2002) }}, \"config\": {\"channels\": {\"y\": {\"set\": [\"Format\"]}, \"x\": {\"set\": [\"Revenue [m$]\"]}, \"label\": {\"set\": [\"Revenue [m$]\"]}, \"color\": {\"set\": [\"Format\"]}}, \"title\": \"Music Revenue by Format - Year by Year 2002\", \"sort\": \"byValue\"}}, {\"duration\": 0.2, \"x\": {\"easing\": \"linear\", \"delay\": 0}, \"y\": {\"delay\": 0}, \"show\": {\"delay\": 0}, \"hide\": {\"delay\": 0}, \"title\": {\"duration\": 0, \"delay\": 0}});\n",
       "    });\n",
       "</script>"
      ]
     },
     "metadata": {},
     "output_type": "display_data"
    },
    {
     "data": {
      "text/html": [
       "<script id=\"myVizzu_20212cc\">\n",
       "    let display_20212cc = myVizzu_20212cc.parentNode.parentNode.style.display;\n",
       "    myVizzu_20212cc.parentNode.parentNode.style.display = \"none\";\n",
       "    chart_f00ad30 = chart_f00ad30.then(chart => {\n",
       "        if (myVizzu_f00ad30.parentNode && myVizzu_f00ad30.parentNode.parentNode) {\n",
       "            myVizzu_f00ad30.parentNode.parentNode.style.display = \"none\";\n",
       "        }\n",
       "        myVizzu_20212cc.parentNode.parentNode.style.display = display_20212cc;\n",
       "        myVizzu_20212cc.parentNode.insertBefore(myVizzu_f00ad30, myVizzu_20212cc);\n",
       "        myVizzu_f00ad30.scrollIntoView({behavior: \"auto\", block: \"center\"});\n",
       "        return chart.animate({\"data\": {\"filter\": record => { return (parseInt(record.Year) == 2003) }}, \"config\": {\"channels\": {\"y\": {\"set\": [\"Format\"]}, \"x\": {\"set\": [\"Revenue [m$]\"]}, \"label\": {\"set\": [\"Revenue [m$]\"]}, \"color\": {\"set\": [\"Format\"]}}, \"title\": \"Music Revenue by Format - Year by Year 2003\", \"sort\": \"byValue\"}}, {\"duration\": 0.2, \"x\": {\"easing\": \"linear\", \"delay\": 0}, \"y\": {\"delay\": 0}, \"show\": {\"delay\": 0}, \"hide\": {\"delay\": 0}, \"title\": {\"duration\": 0, \"delay\": 0}});\n",
       "    });\n",
       "</script>"
      ]
     },
     "metadata": {},
     "output_type": "display_data"
    },
    {
     "data": {
      "text/html": [
       "<script id=\"myVizzu_f33a469\">\n",
       "    let display_f33a469 = myVizzu_f33a469.parentNode.parentNode.style.display;\n",
       "    myVizzu_f33a469.parentNode.parentNode.style.display = \"none\";\n",
       "    chart_f00ad30 = chart_f00ad30.then(chart => {\n",
       "        if (myVizzu_f00ad30.parentNode && myVizzu_f00ad30.parentNode.parentNode) {\n",
       "            myVizzu_f00ad30.parentNode.parentNode.style.display = \"none\";\n",
       "        }\n",
       "        myVizzu_f33a469.parentNode.parentNode.style.display = display_f33a469;\n",
       "        myVizzu_f33a469.parentNode.insertBefore(myVizzu_f00ad30, myVizzu_f33a469);\n",
       "        myVizzu_f00ad30.scrollIntoView({behavior: \"auto\", block: \"center\"});\n",
       "        return chart.animate({\"data\": {\"filter\": record => { return (parseInt(record.Year) == 2004) }}, \"config\": {\"channels\": {\"y\": {\"set\": [\"Format\"]}, \"x\": {\"set\": [\"Revenue [m$]\"]}, \"label\": {\"set\": [\"Revenue [m$]\"]}, \"color\": {\"set\": [\"Format\"]}}, \"title\": \"Music Revenue by Format - Year by Year 2004\", \"sort\": \"byValue\"}}, {\"duration\": 0.2, \"x\": {\"easing\": \"linear\", \"delay\": 0}, \"y\": {\"delay\": 0}, \"show\": {\"delay\": 0}, \"hide\": {\"delay\": 0}, \"title\": {\"duration\": 0, \"delay\": 0}});\n",
       "    });\n",
       "</script>"
      ]
     },
     "metadata": {},
     "output_type": "display_data"
    },
    {
     "data": {
      "text/html": [
       "<script id=\"myVizzu_605578d\">\n",
       "    let display_605578d = myVizzu_605578d.parentNode.parentNode.style.display;\n",
       "    myVizzu_605578d.parentNode.parentNode.style.display = \"none\";\n",
       "    chart_f00ad30 = chart_f00ad30.then(chart => {\n",
       "        if (myVizzu_f00ad30.parentNode && myVizzu_f00ad30.parentNode.parentNode) {\n",
       "            myVizzu_f00ad30.parentNode.parentNode.style.display = \"none\";\n",
       "        }\n",
       "        myVizzu_605578d.parentNode.parentNode.style.display = display_605578d;\n",
       "        myVizzu_605578d.parentNode.insertBefore(myVizzu_f00ad30, myVizzu_605578d);\n",
       "        myVizzu_f00ad30.scrollIntoView({behavior: \"auto\", block: \"center\"});\n",
       "        return chart.animate({\"data\": {\"filter\": record => { return (parseInt(record.Year) == 2005) }}, \"config\": {\"channels\": {\"y\": {\"set\": [\"Format\"]}, \"x\": {\"set\": [\"Revenue [m$]\"]}, \"label\": {\"set\": [\"Revenue [m$]\"]}, \"color\": {\"set\": [\"Format\"]}}, \"title\": \"Music Revenue by Format - Year by Year 2005\", \"sort\": \"byValue\"}}, {\"duration\": 0.2, \"x\": {\"easing\": \"linear\", \"delay\": 0}, \"y\": {\"delay\": 0}, \"show\": {\"delay\": 0}, \"hide\": {\"delay\": 0}, \"title\": {\"duration\": 0, \"delay\": 0}});\n",
       "    });\n",
       "</script>"
      ]
     },
     "metadata": {},
     "output_type": "display_data"
    },
    {
     "data": {
      "text/html": [
       "<script id=\"myVizzu_3e26f11\">\n",
       "    let display_3e26f11 = myVizzu_3e26f11.parentNode.parentNode.style.display;\n",
       "    myVizzu_3e26f11.parentNode.parentNode.style.display = \"none\";\n",
       "    chart_f00ad30 = chart_f00ad30.then(chart => {\n",
       "        if (myVizzu_f00ad30.parentNode && myVizzu_f00ad30.parentNode.parentNode) {\n",
       "            myVizzu_f00ad30.parentNode.parentNode.style.display = \"none\";\n",
       "        }\n",
       "        myVizzu_3e26f11.parentNode.parentNode.style.display = display_3e26f11;\n",
       "        myVizzu_3e26f11.parentNode.insertBefore(myVizzu_f00ad30, myVizzu_3e26f11);\n",
       "        myVizzu_f00ad30.scrollIntoView({behavior: \"auto\", block: \"center\"});\n",
       "        return chart.animate({\"data\": {\"filter\": record => { return (parseInt(record.Year) == 2006) }}, \"config\": {\"channels\": {\"y\": {\"set\": [\"Format\"]}, \"x\": {\"set\": [\"Revenue [m$]\"]}, \"label\": {\"set\": [\"Revenue [m$]\"]}, \"color\": {\"set\": [\"Format\"]}}, \"title\": \"Music Revenue by Format - Year by Year 2006\", \"sort\": \"byValue\"}}, {\"duration\": 0.2, \"x\": {\"easing\": \"linear\", \"delay\": 0}, \"y\": {\"delay\": 0}, \"show\": {\"delay\": 0}, \"hide\": {\"delay\": 0}, \"title\": {\"duration\": 0, \"delay\": 0}});\n",
       "    });\n",
       "</script>"
      ]
     },
     "metadata": {},
     "output_type": "display_data"
    },
    {
     "data": {
      "text/html": [
       "<script id=\"myVizzu_a39ce3f\">\n",
       "    let display_a39ce3f = myVizzu_a39ce3f.parentNode.parentNode.style.display;\n",
       "    myVizzu_a39ce3f.parentNode.parentNode.style.display = \"none\";\n",
       "    chart_f00ad30 = chart_f00ad30.then(chart => {\n",
       "        if (myVizzu_f00ad30.parentNode && myVizzu_f00ad30.parentNode.parentNode) {\n",
       "            myVizzu_f00ad30.parentNode.parentNode.style.display = \"none\";\n",
       "        }\n",
       "        myVizzu_a39ce3f.parentNode.parentNode.style.display = display_a39ce3f;\n",
       "        myVizzu_a39ce3f.parentNode.insertBefore(myVizzu_f00ad30, myVizzu_a39ce3f);\n",
       "        myVizzu_f00ad30.scrollIntoView({behavior: \"auto\", block: \"center\"});\n",
       "        return chart.animate({\"data\": {\"filter\": record => { return (parseInt(record.Year) == 2007) }}, \"config\": {\"channels\": {\"y\": {\"set\": [\"Format\"]}, \"x\": {\"set\": [\"Revenue [m$]\"]}, \"label\": {\"set\": [\"Revenue [m$]\"]}, \"color\": {\"set\": [\"Format\"]}}, \"title\": \"Music Revenue by Format - Year by Year 2007\", \"sort\": \"byValue\"}}, {\"duration\": 0.2, \"x\": {\"easing\": \"linear\", \"delay\": 0}, \"y\": {\"delay\": 0}, \"show\": {\"delay\": 0}, \"hide\": {\"delay\": 0}, \"title\": {\"duration\": 0, \"delay\": 0}});\n",
       "    });\n",
       "</script>"
      ]
     },
     "metadata": {},
     "output_type": "display_data"
    },
    {
     "data": {
      "text/html": [
       "<script id=\"myVizzu_3a3f586\">\n",
       "    let display_3a3f586 = myVizzu_3a3f586.parentNode.parentNode.style.display;\n",
       "    myVizzu_3a3f586.parentNode.parentNode.style.display = \"none\";\n",
       "    chart_f00ad30 = chart_f00ad30.then(chart => {\n",
       "        if (myVizzu_f00ad30.parentNode && myVizzu_f00ad30.parentNode.parentNode) {\n",
       "            myVizzu_f00ad30.parentNode.parentNode.style.display = \"none\";\n",
       "        }\n",
       "        myVizzu_3a3f586.parentNode.parentNode.style.display = display_3a3f586;\n",
       "        myVizzu_3a3f586.parentNode.insertBefore(myVizzu_f00ad30, myVizzu_3a3f586);\n",
       "        myVizzu_f00ad30.scrollIntoView({behavior: \"auto\", block: \"center\"});\n",
       "        return chart.animate({\"data\": {\"filter\": record => { return (parseInt(record.Year) == 2008) }}, \"config\": {\"channels\": {\"y\": {\"set\": [\"Format\"]}, \"x\": {\"set\": [\"Revenue [m$]\"]}, \"label\": {\"set\": [\"Revenue [m$]\"]}, \"color\": {\"set\": [\"Format\"]}}, \"title\": \"Music Revenue by Format - Year by Year 2008\", \"sort\": \"byValue\"}}, {\"duration\": 0.2, \"x\": {\"easing\": \"linear\", \"delay\": 0}, \"y\": {\"delay\": 0}, \"show\": {\"delay\": 0}, \"hide\": {\"delay\": 0}, \"title\": {\"duration\": 0, \"delay\": 0}});\n",
       "    });\n",
       "</script>"
      ]
     },
     "metadata": {},
     "output_type": "display_data"
    },
    {
     "data": {
      "text/html": [
       "<script id=\"myVizzu_c77efe5\">\n",
       "    let display_c77efe5 = myVizzu_c77efe5.parentNode.parentNode.style.display;\n",
       "    myVizzu_c77efe5.parentNode.parentNode.style.display = \"none\";\n",
       "    chart_f00ad30 = chart_f00ad30.then(chart => {\n",
       "        if (myVizzu_f00ad30.parentNode && myVizzu_f00ad30.parentNode.parentNode) {\n",
       "            myVizzu_f00ad30.parentNode.parentNode.style.display = \"none\";\n",
       "        }\n",
       "        myVizzu_c77efe5.parentNode.parentNode.style.display = display_c77efe5;\n",
       "        myVizzu_c77efe5.parentNode.insertBefore(myVizzu_f00ad30, myVizzu_c77efe5);\n",
       "        myVizzu_f00ad30.scrollIntoView({behavior: \"auto\", block: \"center\"});\n",
       "        return chart.animate({\"data\": {\"filter\": record => { return (parseInt(record.Year) == 2009) }}, \"config\": {\"channels\": {\"y\": {\"set\": [\"Format\"]}, \"x\": {\"set\": [\"Revenue [m$]\"]}, \"label\": {\"set\": [\"Revenue [m$]\"]}, \"color\": {\"set\": [\"Format\"]}}, \"title\": \"Music Revenue by Format - Year by Year 2009\", \"sort\": \"byValue\"}}, {\"duration\": 0.2, \"x\": {\"easing\": \"linear\", \"delay\": 0}, \"y\": {\"delay\": 0}, \"show\": {\"delay\": 0}, \"hide\": {\"delay\": 0}, \"title\": {\"duration\": 0, \"delay\": 0}});\n",
       "    });\n",
       "</script>"
      ]
     },
     "metadata": {},
     "output_type": "display_data"
    },
    {
     "data": {
      "text/html": [
       "<script id=\"myVizzu_b2be6d4\">\n",
       "    let display_b2be6d4 = myVizzu_b2be6d4.parentNode.parentNode.style.display;\n",
       "    myVizzu_b2be6d4.parentNode.parentNode.style.display = \"none\";\n",
       "    chart_f00ad30 = chart_f00ad30.then(chart => {\n",
       "        if (myVizzu_f00ad30.parentNode && myVizzu_f00ad30.parentNode.parentNode) {\n",
       "            myVizzu_f00ad30.parentNode.parentNode.style.display = \"none\";\n",
       "        }\n",
       "        myVizzu_b2be6d4.parentNode.parentNode.style.display = display_b2be6d4;\n",
       "        myVizzu_b2be6d4.parentNode.insertBefore(myVizzu_f00ad30, myVizzu_b2be6d4);\n",
       "        myVizzu_f00ad30.scrollIntoView({behavior: \"auto\", block: \"center\"});\n",
       "        return chart.animate({\"data\": {\"filter\": record => { return (parseInt(record.Year) == 2010) }}, \"config\": {\"channels\": {\"y\": {\"set\": [\"Format\"]}, \"x\": {\"set\": [\"Revenue [m$]\"]}, \"label\": {\"set\": [\"Revenue [m$]\"]}, \"color\": {\"set\": [\"Format\"]}}, \"title\": \"Music Revenue by Format - Year by Year 2010\", \"sort\": \"byValue\"}}, {\"duration\": 0.2, \"x\": {\"easing\": \"linear\", \"delay\": 0}, \"y\": {\"delay\": 0}, \"show\": {\"delay\": 0}, \"hide\": {\"delay\": 0}, \"title\": {\"duration\": 0, \"delay\": 0}});\n",
       "    });\n",
       "</script>"
      ]
     },
     "metadata": {},
     "output_type": "display_data"
    },
    {
     "data": {
      "text/html": [
       "<script id=\"myVizzu_d136e34\">\n",
       "    let display_d136e34 = myVizzu_d136e34.parentNode.parentNode.style.display;\n",
       "    myVizzu_d136e34.parentNode.parentNode.style.display = \"none\";\n",
       "    chart_f00ad30 = chart_f00ad30.then(chart => {\n",
       "        if (myVizzu_f00ad30.parentNode && myVizzu_f00ad30.parentNode.parentNode) {\n",
       "            myVizzu_f00ad30.parentNode.parentNode.style.display = \"none\";\n",
       "        }\n",
       "        myVizzu_d136e34.parentNode.parentNode.style.display = display_d136e34;\n",
       "        myVizzu_d136e34.parentNode.insertBefore(myVizzu_f00ad30, myVizzu_d136e34);\n",
       "        myVizzu_f00ad30.scrollIntoView({behavior: \"auto\", block: \"center\"});\n",
       "        return chart.animate({\"data\": {\"filter\": record => { return (parseInt(record.Year) == 2011) }}, \"config\": {\"channels\": {\"y\": {\"set\": [\"Format\"]}, \"x\": {\"set\": [\"Revenue [m$]\"]}, \"label\": {\"set\": [\"Revenue [m$]\"]}, \"color\": {\"set\": [\"Format\"]}}, \"title\": \"Music Revenue by Format - Year by Year 2011\", \"sort\": \"byValue\"}}, {\"duration\": 0.2, \"x\": {\"easing\": \"linear\", \"delay\": 0}, \"y\": {\"delay\": 0}, \"show\": {\"delay\": 0}, \"hide\": {\"delay\": 0}, \"title\": {\"duration\": 0, \"delay\": 0}});\n",
       "    });\n",
       "</script>"
      ]
     },
     "metadata": {},
     "output_type": "display_data"
    },
    {
     "data": {
      "text/html": [
       "<script id=\"myVizzu_1a2bce4\">\n",
       "    let display_1a2bce4 = myVizzu_1a2bce4.parentNode.parentNode.style.display;\n",
       "    myVizzu_1a2bce4.parentNode.parentNode.style.display = \"none\";\n",
       "    chart_f00ad30 = chart_f00ad30.then(chart => {\n",
       "        if (myVizzu_f00ad30.parentNode && myVizzu_f00ad30.parentNode.parentNode) {\n",
       "            myVizzu_f00ad30.parentNode.parentNode.style.display = \"none\";\n",
       "        }\n",
       "        myVizzu_1a2bce4.parentNode.parentNode.style.display = display_1a2bce4;\n",
       "        myVizzu_1a2bce4.parentNode.insertBefore(myVizzu_f00ad30, myVizzu_1a2bce4);\n",
       "        myVizzu_f00ad30.scrollIntoView({behavior: \"auto\", block: \"center\"});\n",
       "        return chart.animate({\"data\": {\"filter\": record => { return (parseInt(record.Year) == 2012) }}, \"config\": {\"channels\": {\"y\": {\"set\": [\"Format\"]}, \"x\": {\"set\": [\"Revenue [m$]\"]}, \"label\": {\"set\": [\"Revenue [m$]\"]}, \"color\": {\"set\": [\"Format\"]}}, \"title\": \"Music Revenue by Format - Year by Year 2012\", \"sort\": \"byValue\"}}, {\"duration\": 0.2, \"x\": {\"easing\": \"linear\", \"delay\": 0}, \"y\": {\"delay\": 0}, \"show\": {\"delay\": 0}, \"hide\": {\"delay\": 0}, \"title\": {\"duration\": 0, \"delay\": 0}});\n",
       "    });\n",
       "</script>"
      ]
     },
     "metadata": {},
     "output_type": "display_data"
    },
    {
     "data": {
      "text/html": [
       "<script id=\"myVizzu_f6395ca\">\n",
       "    let display_f6395ca = myVizzu_f6395ca.parentNode.parentNode.style.display;\n",
       "    myVizzu_f6395ca.parentNode.parentNode.style.display = \"none\";\n",
       "    chart_f00ad30 = chart_f00ad30.then(chart => {\n",
       "        if (myVizzu_f00ad30.parentNode && myVizzu_f00ad30.parentNode.parentNode) {\n",
       "            myVizzu_f00ad30.parentNode.parentNode.style.display = \"none\";\n",
       "        }\n",
       "        myVizzu_f6395ca.parentNode.parentNode.style.display = display_f6395ca;\n",
       "        myVizzu_f6395ca.parentNode.insertBefore(myVizzu_f00ad30, myVizzu_f6395ca);\n",
       "        myVizzu_f00ad30.scrollIntoView({behavior: \"auto\", block: \"center\"});\n",
       "        return chart.animate({\"data\": {\"filter\": record => { return (parseInt(record.Year) == 2013) }}, \"config\": {\"channels\": {\"y\": {\"set\": [\"Format\"]}, \"x\": {\"set\": [\"Revenue [m$]\"]}, \"label\": {\"set\": [\"Revenue [m$]\"]}, \"color\": {\"set\": [\"Format\"]}}, \"title\": \"Music Revenue by Format - Year by Year 2013\", \"sort\": \"byValue\"}}, {\"duration\": 0.2, \"x\": {\"easing\": \"linear\", \"delay\": 0}, \"y\": {\"delay\": 0}, \"show\": {\"delay\": 0}, \"hide\": {\"delay\": 0}, \"title\": {\"duration\": 0, \"delay\": 0}});\n",
       "    });\n",
       "</script>"
      ]
     },
     "metadata": {},
     "output_type": "display_data"
    },
    {
     "data": {
      "text/html": [
       "<script id=\"myVizzu_a59ff8a\">\n",
       "    let display_a59ff8a = myVizzu_a59ff8a.parentNode.parentNode.style.display;\n",
       "    myVizzu_a59ff8a.parentNode.parentNode.style.display = \"none\";\n",
       "    chart_f00ad30 = chart_f00ad30.then(chart => {\n",
       "        if (myVizzu_f00ad30.parentNode && myVizzu_f00ad30.parentNode.parentNode) {\n",
       "            myVizzu_f00ad30.parentNode.parentNode.style.display = \"none\";\n",
       "        }\n",
       "        myVizzu_a59ff8a.parentNode.parentNode.style.display = display_a59ff8a;\n",
       "        myVizzu_a59ff8a.parentNode.insertBefore(myVizzu_f00ad30, myVizzu_a59ff8a);\n",
       "        myVizzu_f00ad30.scrollIntoView({behavior: \"auto\", block: \"center\"});\n",
       "        return chart.animate({\"data\": {\"filter\": record => { return (parseInt(record.Year) == 2014) }}, \"config\": {\"channels\": {\"y\": {\"set\": [\"Format\"]}, \"x\": {\"set\": [\"Revenue [m$]\"]}, \"label\": {\"set\": [\"Revenue [m$]\"]}, \"color\": {\"set\": [\"Format\"]}}, \"title\": \"Music Revenue by Format - Year by Year 2014\", \"sort\": \"byValue\"}}, {\"duration\": 0.2, \"x\": {\"easing\": \"linear\", \"delay\": 0}, \"y\": {\"delay\": 0}, \"show\": {\"delay\": 0}, \"hide\": {\"delay\": 0}, \"title\": {\"duration\": 0, \"delay\": 0}});\n",
       "    });\n",
       "</script>"
      ]
     },
     "metadata": {},
     "output_type": "display_data"
    },
    {
     "data": {
      "text/html": [
       "<script id=\"myVizzu_549df7d\">\n",
       "    let display_549df7d = myVizzu_549df7d.parentNode.parentNode.style.display;\n",
       "    myVizzu_549df7d.parentNode.parentNode.style.display = \"none\";\n",
       "    chart_f00ad30 = chart_f00ad30.then(chart => {\n",
       "        if (myVizzu_f00ad30.parentNode && myVizzu_f00ad30.parentNode.parentNode) {\n",
       "            myVizzu_f00ad30.parentNode.parentNode.style.display = \"none\";\n",
       "        }\n",
       "        myVizzu_549df7d.parentNode.parentNode.style.display = display_549df7d;\n",
       "        myVizzu_549df7d.parentNode.insertBefore(myVizzu_f00ad30, myVizzu_549df7d);\n",
       "        myVizzu_f00ad30.scrollIntoView({behavior: \"auto\", block: \"center\"});\n",
       "        return chart.animate({\"data\": {\"filter\": record => { return (parseInt(record.Year) == 2015) }}, \"config\": {\"channels\": {\"y\": {\"set\": [\"Format\"]}, \"x\": {\"set\": [\"Revenue [m$]\"]}, \"label\": {\"set\": [\"Revenue [m$]\"]}, \"color\": {\"set\": [\"Format\"]}}, \"title\": \"Music Revenue by Format - Year by Year 2015\", \"sort\": \"byValue\"}}, {\"duration\": 0.2, \"x\": {\"easing\": \"linear\", \"delay\": 0}, \"y\": {\"delay\": 0}, \"show\": {\"delay\": 0}, \"hide\": {\"delay\": 0}, \"title\": {\"duration\": 0, \"delay\": 0}});\n",
       "    });\n",
       "</script>"
      ]
     },
     "metadata": {},
     "output_type": "display_data"
    },
    {
     "data": {
      "text/html": [
       "<script id=\"myVizzu_7721bb8\">\n",
       "    let display_7721bb8 = myVizzu_7721bb8.parentNode.parentNode.style.display;\n",
       "    myVizzu_7721bb8.parentNode.parentNode.style.display = \"none\";\n",
       "    chart_f00ad30 = chart_f00ad30.then(chart => {\n",
       "        if (myVizzu_f00ad30.parentNode && myVizzu_f00ad30.parentNode.parentNode) {\n",
       "            myVizzu_f00ad30.parentNode.parentNode.style.display = \"none\";\n",
       "        }\n",
       "        myVizzu_7721bb8.parentNode.parentNode.style.display = display_7721bb8;\n",
       "        myVizzu_7721bb8.parentNode.insertBefore(myVizzu_f00ad30, myVizzu_7721bb8);\n",
       "        myVizzu_f00ad30.scrollIntoView({behavior: \"auto\", block: \"center\"});\n",
       "        return chart.animate({\"data\": {\"filter\": record => { return (parseInt(record.Year) == 2016) }}, \"config\": {\"channels\": {\"y\": {\"set\": [\"Format\"]}, \"x\": {\"set\": [\"Revenue [m$]\"]}, \"label\": {\"set\": [\"Revenue [m$]\"]}, \"color\": {\"set\": [\"Format\"]}}, \"title\": \"Music Revenue by Format - Year by Year 2016\", \"sort\": \"byValue\"}}, {\"duration\": 0.2, \"x\": {\"easing\": \"linear\", \"delay\": 0}, \"y\": {\"delay\": 0}, \"show\": {\"delay\": 0}, \"hide\": {\"delay\": 0}, \"title\": {\"duration\": 0, \"delay\": 0}});\n",
       "    });\n",
       "</script>"
      ]
     },
     "metadata": {},
     "output_type": "display_data"
    },
    {
     "data": {
      "text/html": [
       "<script id=\"myVizzu_4cf2546\">\n",
       "    let display_4cf2546 = myVizzu_4cf2546.parentNode.parentNode.style.display;\n",
       "    myVizzu_4cf2546.parentNode.parentNode.style.display = \"none\";\n",
       "    chart_f00ad30 = chart_f00ad30.then(chart => {\n",
       "        if (myVizzu_f00ad30.parentNode && myVizzu_f00ad30.parentNode.parentNode) {\n",
       "            myVizzu_f00ad30.parentNode.parentNode.style.display = \"none\";\n",
       "        }\n",
       "        myVizzu_4cf2546.parentNode.parentNode.style.display = display_4cf2546;\n",
       "        myVizzu_4cf2546.parentNode.insertBefore(myVizzu_f00ad30, myVizzu_4cf2546);\n",
       "        myVizzu_f00ad30.scrollIntoView({behavior: \"auto\", block: \"center\"});\n",
       "        return chart.animate({\"data\": {\"filter\": record => { return (parseInt(record.Year) == 2017) }}, \"config\": {\"channels\": {\"y\": {\"set\": [\"Format\"]}, \"x\": {\"set\": [\"Revenue [m$]\"]}, \"label\": {\"set\": [\"Revenue [m$]\"]}, \"color\": {\"set\": [\"Format\"]}}, \"title\": \"Music Revenue by Format - Year by Year 2017\", \"sort\": \"byValue\"}}, {\"duration\": 0.2, \"x\": {\"easing\": \"linear\", \"delay\": 0}, \"y\": {\"delay\": 0}, \"show\": {\"delay\": 0}, \"hide\": {\"delay\": 0}, \"title\": {\"duration\": 0, \"delay\": 0}});\n",
       "    });\n",
       "</script>"
      ]
     },
     "metadata": {},
     "output_type": "display_data"
    },
    {
     "data": {
      "text/html": [
       "<script id=\"myVizzu_b206f82\">\n",
       "    let display_b206f82 = myVizzu_b206f82.parentNode.parentNode.style.display;\n",
       "    myVizzu_b206f82.parentNode.parentNode.style.display = \"none\";\n",
       "    chart_f00ad30 = chart_f00ad30.then(chart => {\n",
       "        if (myVizzu_f00ad30.parentNode && myVizzu_f00ad30.parentNode.parentNode) {\n",
       "            myVizzu_f00ad30.parentNode.parentNode.style.display = \"none\";\n",
       "        }\n",
       "        myVizzu_b206f82.parentNode.parentNode.style.display = display_b206f82;\n",
       "        myVizzu_b206f82.parentNode.insertBefore(myVizzu_f00ad30, myVizzu_b206f82);\n",
       "        myVizzu_f00ad30.scrollIntoView({behavior: \"auto\", block: \"center\"});\n",
       "        return chart.animate({\"data\": {\"filter\": record => { return (parseInt(record.Year) == 2018) }}, \"config\": {\"channels\": {\"y\": {\"set\": [\"Format\"]}, \"x\": {\"set\": [\"Revenue [m$]\"]}, \"label\": {\"set\": [\"Revenue [m$]\"]}, \"color\": {\"set\": [\"Format\"]}}, \"title\": \"Music Revenue by Format - Year by Year 2018\", \"sort\": \"byValue\"}}, {\"duration\": 0.2, \"x\": {\"easing\": \"linear\", \"delay\": 0}, \"y\": {\"delay\": 0}, \"show\": {\"delay\": 0}, \"hide\": {\"delay\": 0}, \"title\": {\"duration\": 0, \"delay\": 0}});\n",
       "    });\n",
       "</script>"
      ]
     },
     "metadata": {},
     "output_type": "display_data"
    },
    {
     "data": {
      "text/html": [
       "<script id=\"myVizzu_db8b091\">\n",
       "    let display_db8b091 = myVizzu_db8b091.parentNode.parentNode.style.display;\n",
       "    myVizzu_db8b091.parentNode.parentNode.style.display = \"none\";\n",
       "    chart_f00ad30 = chart_f00ad30.then(chart => {\n",
       "        if (myVizzu_f00ad30.parentNode && myVizzu_f00ad30.parentNode.parentNode) {\n",
       "            myVizzu_f00ad30.parentNode.parentNode.style.display = \"none\";\n",
       "        }\n",
       "        myVizzu_db8b091.parentNode.parentNode.style.display = display_db8b091;\n",
       "        myVizzu_db8b091.parentNode.insertBefore(myVizzu_f00ad30, myVizzu_db8b091);\n",
       "        myVizzu_f00ad30.scrollIntoView({behavior: \"auto\", block: \"center\"});\n",
       "        return chart.animate({\"data\": {\"filter\": record => { return (parseInt(record.Year) == 2019) }}, \"config\": {\"channels\": {\"y\": {\"set\": [\"Format\"]}, \"x\": {\"set\": [\"Revenue [m$]\"]}, \"label\": {\"set\": [\"Revenue [m$]\"]}, \"color\": {\"set\": [\"Format\"]}}, \"title\": \"Music Revenue by Format - Year by Year 2019\", \"sort\": \"byValue\"}}, {\"duration\": 0.2, \"x\": {\"easing\": \"linear\", \"delay\": 0}, \"y\": {\"delay\": 0}, \"show\": {\"delay\": 0}, \"hide\": {\"delay\": 0}, \"title\": {\"duration\": 0, \"delay\": 0}});\n",
       "    });\n",
       "</script>"
      ]
     },
     "metadata": {},
     "output_type": "display_data"
    },
    {
     "data": {
      "text/html": [
       "<script id=\"myVizzu_b7556bb\">\n",
       "    let display_b7556bb = myVizzu_b7556bb.parentNode.parentNode.style.display;\n",
       "    myVizzu_b7556bb.parentNode.parentNode.style.display = \"none\";\n",
       "    chart_f00ad30 = chart_f00ad30.then(chart => {\n",
       "        if (myVizzu_f00ad30.parentNode && myVizzu_f00ad30.parentNode.parentNode) {\n",
       "            myVizzu_f00ad30.parentNode.parentNode.style.display = \"none\";\n",
       "        }\n",
       "        myVizzu_b7556bb.parentNode.parentNode.style.display = display_b7556bb;\n",
       "        myVizzu_b7556bb.parentNode.insertBefore(myVizzu_f00ad30, myVizzu_b7556bb);\n",
       "        myVizzu_f00ad30.scrollIntoView({behavior: \"auto\", block: \"center\"});\n",
       "        return chart.animate({\"data\": {\"filter\": record => { return (parseInt(record.Year) == 2020) }}, \"config\": {\"channels\": {\"y\": {\"set\": [\"Format\"]}, \"x\": {\"set\": [\"Revenue [m$]\"]}, \"label\": {\"set\": [\"Revenue [m$]\"]}, \"color\": {\"set\": [\"Format\"]}}, \"title\": \"Music Revenue by Format - Year by Year 2020\", \"sort\": \"byValue\"}}, {\"duration\": 0.2, \"x\": {\"easing\": \"linear\", \"delay\": 0}, \"y\": {\"delay\": 0}, \"show\": {\"delay\": 0}, \"hide\": {\"delay\": 0}, \"title\": {\"duration\": 0, \"delay\": 0}});\n",
       "    });\n",
       "</script>"
      ]
     },
     "metadata": {},
     "output_type": "display_data"
    }
   ],
   "source": [
    "import pandas as pd\n",
    "from ipyvizzu import Chart, Data, Config, Style\n",
    "\n",
    "data_frame = pd.read_csv('data.csv')\n",
    "data = Data()\n",
    "data.add_data_frame(data_frame, infer_types={\"Year\": \"dimension\"})\n",
    "\n",
    "config = Config({\n",
    "    \"channels\": {\n",
    "        \"y\": { \"set\": [\"Format\"], },\n",
    "        \"x\": { \"set\": [\"Revenue [m$]\"] },\n",
    "        \"label\": { \"set\": [\"Revenue [m$]\"] },\n",
    "        \"color\": { \"set\": [\"Format\"] }\n",
    "    },\n",
    "    \"title\": 'Music Revenue by Format - Year by Year     ',\n",
    "    \"sort\": 'byValue'\n",
    "})\n",
    "\n",
    "style = Style({\n",
    "    \"fontSize\": 12.5,\n",
    "    \"title\":\n",
    "    {\n",
    "        \"fontWeight\": 200\n",
    "    },\n",
    "    \"plot\": {\n",
    "        \"paddingLeft\": 100,\n",
    "        \"paddingTop\": 25,\n",
    "        \"yAxis\": {\n",
    "            \"color\": \"#ffffff00\",\n",
    "            \"label\": {\n",
    "                \"paddingRight\": 10\n",
    "            },\n",
    "        },\n",
    "        \"xAxis\": {\n",
    "            \"title\": { \"color\": \"#ffffff00\" },\n",
    "            \"label\": { \"color\": \"#ffffff00\", \"numberFormat\": \"grouped\" }\n",
    "        },\n",
    "        \"marker\": {\n",
    "            \"colorPalette\": '#b74c20FF #c47f58FF #1c9761FF #ea4549FF #875792FF #3562b6FF #ee7c34FF #efae3aFF'\n",
    "        }\n",
    "    }\n",
    "})\n",
    "\n",
    "chart = Chart(width=\"640px\", height=\"=360px\")\n",
    "\n",
    "chart.animate(data, style)\n",
    "\n",
    "for year in range(1973, 2021):\n",
    "    config[\"title\"] = f\"Music Revenue by Format - Year by Year {year}\";\n",
    "    chart.animate(\n",
    "        Data.filter(f\"parseInt(record.Year) == {year}\"),\n",
    "        config,\n",
    "        duration = 0.2,\n",
    "        x = { \"easing\": \"linear\", \"delay\": 0 },\n",
    "        y = { \"delay\": 0 },\n",
    "        show = { \"delay\": 0 },\n",
    "        hide = { \"delay\": 0 },\n",
    "        title = { \"duration\": 0, \"delay\": 0 }\n",
    "    )"
   ]
  },
  {
   "cell_type": "code",
   "execution_count": 60,
   "metadata": {},
   "outputs": [
    {
     "data": {
      "text/html": [
       "<script id=\"myVizzu_f915921\">\n",
       "    let display_f915921 = myVizzu_f915921.parentNode.parentNode.style.display;\n",
       "    myVizzu_f915921.parentNode.parentNode.style.display = \"none\";\n",
       "    chart_f00ad30 = chart_f00ad30.then(chart => {\n",
       "        if (myVizzu_f00ad30.parentNode && myVizzu_f00ad30.parentNode.parentNode) {\n",
       "            myVizzu_f00ad30.parentNode.parentNode.style.display = \"none\";\n",
       "        }\n",
       "        myVizzu_f915921.parentNode.parentNode.style.display = display_f915921;\n",
       "        myVizzu_f915921.parentNode.insertBefore(myVizzu_f00ad30, myVizzu_f915921);\n",
       "        myVizzu_f00ad30.scrollIntoView({behavior: \"auto\", block: \"center\"});\n",
       "        return chart.animate({\"config\": {\"channels\": {\"x\": {\"attach\": [\"Year\"]}, \"label\": {\"set\": null}}}}, {\"duration\": 0.3});\n",
       "    });\n",
       "</script>"
      ]
     },
     "metadata": {},
     "output_type": "display_data"
    },
    {
     "data": {
      "text/html": [
       "<script id=\"myVizzu_5797b74\">\n",
       "    let display_5797b74 = myVizzu_5797b74.parentNode.parentNode.style.display;\n",
       "    myVizzu_5797b74.parentNode.parentNode.style.display = \"none\";\n",
       "    chart_f00ad30 = chart_f00ad30.then(chart => {\n",
       "        if (myVizzu_f00ad30.parentNode && myVizzu_f00ad30.parentNode.parentNode) {\n",
       "            myVizzu_f00ad30.parentNode.parentNode.style.display = \"none\";\n",
       "        }\n",
       "        myVizzu_5797b74.parentNode.parentNode.style.display = display_5797b74;\n",
       "        myVizzu_5797b74.parentNode.insertBefore(myVizzu_f00ad30, myVizzu_5797b74);\n",
       "        myVizzu_f00ad30.scrollIntoView({behavior: \"auto\", block: \"center\"});\n",
       "        return chart.animate({\"data\": {\"filter\": record => { return (record.Year == '2020' || record.Year == '1972') }}, \"config\": {\"title\": \"Lets see the total of the last 47 years\"}}, {\"duration\": 2});\n",
       "    });\n",
       "</script>"
      ]
     },
     "metadata": {},
     "output_type": "display_data"
    },
    {
     "data": {
      "text/html": [
       "<script id=\"myVizzu_470f4bd\">\n",
       "    let display_470f4bd = myVizzu_470f4bd.parentNode.parentNode.style.display;\n",
       "    myVizzu_470f4bd.parentNode.parentNode.style.display = \"none\";\n",
       "    chart_f00ad30 = chart_f00ad30.then(chart => {\n",
       "        if (myVizzu_f00ad30.parentNode && myVizzu_f00ad30.parentNode.parentNode) {\n",
       "            myVizzu_f00ad30.parentNode.parentNode.style.display = \"none\";\n",
       "        }\n",
       "        myVizzu_470f4bd.parentNode.parentNode.style.display = display_470f4bd;\n",
       "        myVizzu_470f4bd.parentNode.insertBefore(myVizzu_f00ad30, myVizzu_470f4bd);\n",
       "        myVizzu_f00ad30.scrollIntoView({behavior: \"auto\", block: \"center\"});\n",
       "        return chart.animate({\"config\": {\"sort\": \"none\"}}, {\"delay\": 0, \"duration\": 2});\n",
       "    });\n",
       "</script>"
      ]
     },
     "metadata": {},
     "output_type": "display_data"
    },
    {
     "data": {
      "text/html": [
       "<script id=\"myVizzu_8b3355e\">\n",
       "    let display_8b3355e = myVizzu_8b3355e.parentNode.parentNode.style.display;\n",
       "    myVizzu_8b3355e.parentNode.parentNode.style.display = \"none\";\n",
       "    chart_f00ad30 = chart_f00ad30.then(chart => {\n",
       "        if (myVizzu_f00ad30.parentNode && myVizzu_f00ad30.parentNode.parentNode) {\n",
       "            myVizzu_f00ad30.parentNode.parentNode.style.display = \"none\";\n",
       "        }\n",
       "        myVizzu_8b3355e.parentNode.parentNode.style.display = display_8b3355e;\n",
       "        myVizzu_8b3355e.parentNode.insertBefore(myVizzu_f00ad30, myVizzu_8b3355e);\n",
       "        myVizzu_f00ad30.scrollIntoView({behavior: \"auto\", block: \"center\"});\n",
       "        return chart.animate({\"data\": {\"filter\": record => { return (parseInt(record.Year) >= 2019 || record.Year == '1972') }}, \"config\": {\"split\": true}, \"style\": {\"plot.xAxis.interlacing.color\": \"#ffffff\"}}, {\"duration\": 0.005});\n",
       "    });\n",
       "</script>"
      ]
     },
     "metadata": {},
     "output_type": "display_data"
    },
    {
     "data": {
      "text/html": [
       "<script id=\"myVizzu_800c010\">\n",
       "    let display_800c010 = myVizzu_800c010.parentNode.parentNode.style.display;\n",
       "    myVizzu_800c010.parentNode.parentNode.style.display = \"none\";\n",
       "    chart_f00ad30 = chart_f00ad30.then(chart => {\n",
       "        if (myVizzu_f00ad30.parentNode && myVizzu_f00ad30.parentNode.parentNode) {\n",
       "            myVizzu_f00ad30.parentNode.parentNode.style.display = \"none\";\n",
       "        }\n",
       "        myVizzu_800c010.parentNode.parentNode.style.display = display_800c010;\n",
       "        myVizzu_800c010.parentNode.insertBefore(myVizzu_f00ad30, myVizzu_800c010);\n",
       "        myVizzu_f00ad30.scrollIntoView({behavior: \"auto\", block: \"center\"});\n",
       "        return chart.animate({\"data\": {\"filter\": record => { return (parseInt(record.Year) >= 2018 || record.Year == '1972') }}, \"config\": {\"split\": true}, \"style\": {\"plot.xAxis.interlacing.color\": \"#ffffff\"}}, {\"duration\": 0.005});\n",
       "    });\n",
       "</script>"
      ]
     },
     "metadata": {},
     "output_type": "display_data"
    },
    {
     "data": {
      "text/html": [
       "<script id=\"myVizzu_17c5476\">\n",
       "    let display_17c5476 = myVizzu_17c5476.parentNode.parentNode.style.display;\n",
       "    myVizzu_17c5476.parentNode.parentNode.style.display = \"none\";\n",
       "    chart_f00ad30 = chart_f00ad30.then(chart => {\n",
       "        if (myVizzu_f00ad30.parentNode && myVizzu_f00ad30.parentNode.parentNode) {\n",
       "            myVizzu_f00ad30.parentNode.parentNode.style.display = \"none\";\n",
       "        }\n",
       "        myVizzu_17c5476.parentNode.parentNode.style.display = display_17c5476;\n",
       "        myVizzu_17c5476.parentNode.insertBefore(myVizzu_f00ad30, myVizzu_17c5476);\n",
       "        myVizzu_f00ad30.scrollIntoView({behavior: \"auto\", block: \"center\"});\n",
       "        return chart.animate({\"data\": {\"filter\": record => { return (parseInt(record.Year) >= 2017 || record.Year == '1972') }}, \"config\": {\"split\": true}, \"style\": {\"plot.xAxis.interlacing.color\": \"#ffffff\"}}, {\"duration\": 0.005});\n",
       "    });\n",
       "</script>"
      ]
     },
     "metadata": {},
     "output_type": "display_data"
    },
    {
     "data": {
      "text/html": [
       "<script id=\"myVizzu_5d5fb74\">\n",
       "    let display_5d5fb74 = myVizzu_5d5fb74.parentNode.parentNode.style.display;\n",
       "    myVizzu_5d5fb74.parentNode.parentNode.style.display = \"none\";\n",
       "    chart_f00ad30 = chart_f00ad30.then(chart => {\n",
       "        if (myVizzu_f00ad30.parentNode && myVizzu_f00ad30.parentNode.parentNode) {\n",
       "            myVizzu_f00ad30.parentNode.parentNode.style.display = \"none\";\n",
       "        }\n",
       "        myVizzu_5d5fb74.parentNode.parentNode.style.display = display_5d5fb74;\n",
       "        myVizzu_5d5fb74.parentNode.insertBefore(myVizzu_f00ad30, myVizzu_5d5fb74);\n",
       "        myVizzu_f00ad30.scrollIntoView({behavior: \"auto\", block: \"center\"});\n",
       "        return chart.animate({\"data\": {\"filter\": record => { return (parseInt(record.Year) >= 2016 || record.Year == '1972') }}, \"config\": {\"split\": true}, \"style\": {\"plot.xAxis.interlacing.color\": \"#ffffff\"}}, {\"duration\": 0.005});\n",
       "    });\n",
       "</script>"
      ]
     },
     "metadata": {},
     "output_type": "display_data"
    },
    {
     "data": {
      "text/html": [
       "<script id=\"myVizzu_e7d73c7\">\n",
       "    let display_e7d73c7 = myVizzu_e7d73c7.parentNode.parentNode.style.display;\n",
       "    myVizzu_e7d73c7.parentNode.parentNode.style.display = \"none\";\n",
       "    chart_f00ad30 = chart_f00ad30.then(chart => {\n",
       "        if (myVizzu_f00ad30.parentNode && myVizzu_f00ad30.parentNode.parentNode) {\n",
       "            myVizzu_f00ad30.parentNode.parentNode.style.display = \"none\";\n",
       "        }\n",
       "        myVizzu_e7d73c7.parentNode.parentNode.style.display = display_e7d73c7;\n",
       "        myVizzu_e7d73c7.parentNode.insertBefore(myVizzu_f00ad30, myVizzu_e7d73c7);\n",
       "        myVizzu_f00ad30.scrollIntoView({behavior: \"auto\", block: \"center\"});\n",
       "        return chart.animate({\"data\": {\"filter\": record => { return (parseInt(record.Year) >= 2015 || record.Year == '1972') }}, \"config\": {\"split\": true}, \"style\": {\"plot.xAxis.interlacing.color\": \"#ffffff\"}}, {\"duration\": 0.005});\n",
       "    });\n",
       "</script>"
      ]
     },
     "metadata": {},
     "output_type": "display_data"
    },
    {
     "data": {
      "text/html": [
       "<script id=\"myVizzu_1bfde56\">\n",
       "    let display_1bfde56 = myVizzu_1bfde56.parentNode.parentNode.style.display;\n",
       "    myVizzu_1bfde56.parentNode.parentNode.style.display = \"none\";\n",
       "    chart_f00ad30 = chart_f00ad30.then(chart => {\n",
       "        if (myVizzu_f00ad30.parentNode && myVizzu_f00ad30.parentNode.parentNode) {\n",
       "            myVizzu_f00ad30.parentNode.parentNode.style.display = \"none\";\n",
       "        }\n",
       "        myVizzu_1bfde56.parentNode.parentNode.style.display = display_1bfde56;\n",
       "        myVizzu_1bfde56.parentNode.insertBefore(myVizzu_f00ad30, myVizzu_1bfde56);\n",
       "        myVizzu_f00ad30.scrollIntoView({behavior: \"auto\", block: \"center\"});\n",
       "        return chart.animate({\"data\": {\"filter\": record => { return (parseInt(record.Year) >= 2014 || record.Year == '1972') }}, \"config\": {\"split\": true}, \"style\": {\"plot.xAxis.interlacing.color\": \"#ffffff\"}}, {\"duration\": 0.005});\n",
       "    });\n",
       "</script>"
      ]
     },
     "metadata": {},
     "output_type": "display_data"
    },
    {
     "data": {
      "text/html": [
       "<script id=\"myVizzu_e266ea9\">\n",
       "    let display_e266ea9 = myVizzu_e266ea9.parentNode.parentNode.style.display;\n",
       "    myVizzu_e266ea9.parentNode.parentNode.style.display = \"none\";\n",
       "    chart_f00ad30 = chart_f00ad30.then(chart => {\n",
       "        if (myVizzu_f00ad30.parentNode && myVizzu_f00ad30.parentNode.parentNode) {\n",
       "            myVizzu_f00ad30.parentNode.parentNode.style.display = \"none\";\n",
       "        }\n",
       "        myVizzu_e266ea9.parentNode.parentNode.style.display = display_e266ea9;\n",
       "        myVizzu_e266ea9.parentNode.insertBefore(myVizzu_f00ad30, myVizzu_e266ea9);\n",
       "        myVizzu_f00ad30.scrollIntoView({behavior: \"auto\", block: \"center\"});\n",
       "        return chart.animate({\"data\": {\"filter\": record => { return (parseInt(record.Year) >= 2013 || record.Year == '1972') }}, \"config\": {\"split\": true}, \"style\": {\"plot.xAxis.interlacing.color\": \"#ffffff\"}}, {\"duration\": 0.005});\n",
       "    });\n",
       "</script>"
      ]
     },
     "metadata": {},
     "output_type": "display_data"
    },
    {
     "data": {
      "text/html": [
       "<script id=\"myVizzu_fe4dbac\">\n",
       "    let display_fe4dbac = myVizzu_fe4dbac.parentNode.parentNode.style.display;\n",
       "    myVizzu_fe4dbac.parentNode.parentNode.style.display = \"none\";\n",
       "    chart_f00ad30 = chart_f00ad30.then(chart => {\n",
       "        if (myVizzu_f00ad30.parentNode && myVizzu_f00ad30.parentNode.parentNode) {\n",
       "            myVizzu_f00ad30.parentNode.parentNode.style.display = \"none\";\n",
       "        }\n",
       "        myVizzu_fe4dbac.parentNode.parentNode.style.display = display_fe4dbac;\n",
       "        myVizzu_fe4dbac.parentNode.insertBefore(myVizzu_f00ad30, myVizzu_fe4dbac);\n",
       "        myVizzu_f00ad30.scrollIntoView({behavior: \"auto\", block: \"center\"});\n",
       "        return chart.animate({\"data\": {\"filter\": record => { return (parseInt(record.Year) >= 2012 || record.Year == '1972') }}, \"config\": {\"split\": true}, \"style\": {\"plot.xAxis.interlacing.color\": \"#ffffff\"}}, {\"duration\": 0.005});\n",
       "    });\n",
       "</script>"
      ]
     },
     "metadata": {},
     "output_type": "display_data"
    },
    {
     "data": {
      "text/html": [
       "<script id=\"myVizzu_1497cfd\">\n",
       "    let display_1497cfd = myVizzu_1497cfd.parentNode.parentNode.style.display;\n",
       "    myVizzu_1497cfd.parentNode.parentNode.style.display = \"none\";\n",
       "    chart_f00ad30 = chart_f00ad30.then(chart => {\n",
       "        if (myVizzu_f00ad30.parentNode && myVizzu_f00ad30.parentNode.parentNode) {\n",
       "            myVizzu_f00ad30.parentNode.parentNode.style.display = \"none\";\n",
       "        }\n",
       "        myVizzu_1497cfd.parentNode.parentNode.style.display = display_1497cfd;\n",
       "        myVizzu_1497cfd.parentNode.insertBefore(myVizzu_f00ad30, myVizzu_1497cfd);\n",
       "        myVizzu_f00ad30.scrollIntoView({behavior: \"auto\", block: \"center\"});\n",
       "        return chart.animate({\"data\": {\"filter\": record => { return (parseInt(record.Year) >= 2011 || record.Year == '1972') }}, \"config\": {\"split\": true}, \"style\": {\"plot.xAxis.interlacing.color\": \"#ffffff\"}}, {\"duration\": 0.005});\n",
       "    });\n",
       "</script>"
      ]
     },
     "metadata": {},
     "output_type": "display_data"
    },
    {
     "data": {
      "text/html": [
       "<script id=\"myVizzu_9a358af\">\n",
       "    let display_9a358af = myVizzu_9a358af.parentNode.parentNode.style.display;\n",
       "    myVizzu_9a358af.parentNode.parentNode.style.display = \"none\";\n",
       "    chart_f00ad30 = chart_f00ad30.then(chart => {\n",
       "        if (myVizzu_f00ad30.parentNode && myVizzu_f00ad30.parentNode.parentNode) {\n",
       "            myVizzu_f00ad30.parentNode.parentNode.style.display = \"none\";\n",
       "        }\n",
       "        myVizzu_9a358af.parentNode.parentNode.style.display = display_9a358af;\n",
       "        myVizzu_9a358af.parentNode.insertBefore(myVizzu_f00ad30, myVizzu_9a358af);\n",
       "        myVizzu_f00ad30.scrollIntoView({behavior: \"auto\", block: \"center\"});\n",
       "        return chart.animate({\"data\": {\"filter\": record => { return (parseInt(record.Year) >= 2010 || record.Year == '1972') }}, \"config\": {\"split\": true}, \"style\": {\"plot.xAxis.interlacing.color\": \"#ffffff\"}}, {\"duration\": 0.005});\n",
       "    });\n",
       "</script>"
      ]
     },
     "metadata": {},
     "output_type": "display_data"
    },
    {
     "data": {
      "text/html": [
       "<script id=\"myVizzu_d2f7744\">\n",
       "    let display_d2f7744 = myVizzu_d2f7744.parentNode.parentNode.style.display;\n",
       "    myVizzu_d2f7744.parentNode.parentNode.style.display = \"none\";\n",
       "    chart_f00ad30 = chart_f00ad30.then(chart => {\n",
       "        if (myVizzu_f00ad30.parentNode && myVizzu_f00ad30.parentNode.parentNode) {\n",
       "            myVizzu_f00ad30.parentNode.parentNode.style.display = \"none\";\n",
       "        }\n",
       "        myVizzu_d2f7744.parentNode.parentNode.style.display = display_d2f7744;\n",
       "        myVizzu_d2f7744.parentNode.insertBefore(myVizzu_f00ad30, myVizzu_d2f7744);\n",
       "        myVizzu_f00ad30.scrollIntoView({behavior: \"auto\", block: \"center\"});\n",
       "        return chart.animate({\"data\": {\"filter\": record => { return (parseInt(record.Year) >= 2009 || record.Year == '1972') }}, \"config\": {\"split\": true}, \"style\": {\"plot.xAxis.interlacing.color\": \"#ffffff\"}}, {\"duration\": 0.005});\n",
       "    });\n",
       "</script>"
      ]
     },
     "metadata": {},
     "output_type": "display_data"
    },
    {
     "data": {
      "text/html": [
       "<script id=\"myVizzu_c9d39e6\">\n",
       "    let display_c9d39e6 = myVizzu_c9d39e6.parentNode.parentNode.style.display;\n",
       "    myVizzu_c9d39e6.parentNode.parentNode.style.display = \"none\";\n",
       "    chart_f00ad30 = chart_f00ad30.then(chart => {\n",
       "        if (myVizzu_f00ad30.parentNode && myVizzu_f00ad30.parentNode.parentNode) {\n",
       "            myVizzu_f00ad30.parentNode.parentNode.style.display = \"none\";\n",
       "        }\n",
       "        myVizzu_c9d39e6.parentNode.parentNode.style.display = display_c9d39e6;\n",
       "        myVizzu_c9d39e6.parentNode.insertBefore(myVizzu_f00ad30, myVizzu_c9d39e6);\n",
       "        myVizzu_f00ad30.scrollIntoView({behavior: \"auto\", block: \"center\"});\n",
       "        return chart.animate({\"data\": {\"filter\": record => { return (parseInt(record.Year) >= 2008 || record.Year == '1972') }}, \"config\": {\"split\": true}, \"style\": {\"plot.xAxis.interlacing.color\": \"#ffffff\"}}, {\"duration\": 0.005});\n",
       "    });\n",
       "</script>"
      ]
     },
     "metadata": {},
     "output_type": "display_data"
    },
    {
     "data": {
      "text/html": [
       "<script id=\"myVizzu_8ab1134\">\n",
       "    let display_8ab1134 = myVizzu_8ab1134.parentNode.parentNode.style.display;\n",
       "    myVizzu_8ab1134.parentNode.parentNode.style.display = \"none\";\n",
       "    chart_f00ad30 = chart_f00ad30.then(chart => {\n",
       "        if (myVizzu_f00ad30.parentNode && myVizzu_f00ad30.parentNode.parentNode) {\n",
       "            myVizzu_f00ad30.parentNode.parentNode.style.display = \"none\";\n",
       "        }\n",
       "        myVizzu_8ab1134.parentNode.parentNode.style.display = display_8ab1134;\n",
       "        myVizzu_8ab1134.parentNode.insertBefore(myVizzu_f00ad30, myVizzu_8ab1134);\n",
       "        myVizzu_f00ad30.scrollIntoView({behavior: \"auto\", block: \"center\"});\n",
       "        return chart.animate({\"data\": {\"filter\": record => { return (parseInt(record.Year) >= 2007 || record.Year == '1972') }}, \"config\": {\"split\": true}, \"style\": {\"plot.xAxis.interlacing.color\": \"#ffffff\"}}, {\"duration\": 0.005});\n",
       "    });\n",
       "</script>"
      ]
     },
     "metadata": {},
     "output_type": "display_data"
    },
    {
     "data": {
      "text/html": [
       "<script id=\"myVizzu_d153558\">\n",
       "    let display_d153558 = myVizzu_d153558.parentNode.parentNode.style.display;\n",
       "    myVizzu_d153558.parentNode.parentNode.style.display = \"none\";\n",
       "    chart_f00ad30 = chart_f00ad30.then(chart => {\n",
       "        if (myVizzu_f00ad30.parentNode && myVizzu_f00ad30.parentNode.parentNode) {\n",
       "            myVizzu_f00ad30.parentNode.parentNode.style.display = \"none\";\n",
       "        }\n",
       "        myVizzu_d153558.parentNode.parentNode.style.display = display_d153558;\n",
       "        myVizzu_d153558.parentNode.insertBefore(myVizzu_f00ad30, myVizzu_d153558);\n",
       "        myVizzu_f00ad30.scrollIntoView({behavior: \"auto\", block: \"center\"});\n",
       "        return chart.animate({\"data\": {\"filter\": record => { return (parseInt(record.Year) >= 2006 || record.Year == '1972') }}, \"config\": {\"split\": true}, \"style\": {\"plot.xAxis.interlacing.color\": \"#ffffff\"}}, {\"duration\": 0.005});\n",
       "    });\n",
       "</script>"
      ]
     },
     "metadata": {},
     "output_type": "display_data"
    },
    {
     "data": {
      "text/html": [
       "<script id=\"myVizzu_a050704\">\n",
       "    let display_a050704 = myVizzu_a050704.parentNode.parentNode.style.display;\n",
       "    myVizzu_a050704.parentNode.parentNode.style.display = \"none\";\n",
       "    chart_f00ad30 = chart_f00ad30.then(chart => {\n",
       "        if (myVizzu_f00ad30.parentNode && myVizzu_f00ad30.parentNode.parentNode) {\n",
       "            myVizzu_f00ad30.parentNode.parentNode.style.display = \"none\";\n",
       "        }\n",
       "        myVizzu_a050704.parentNode.parentNode.style.display = display_a050704;\n",
       "        myVizzu_a050704.parentNode.insertBefore(myVizzu_f00ad30, myVizzu_a050704);\n",
       "        myVizzu_f00ad30.scrollIntoView({behavior: \"auto\", block: \"center\"});\n",
       "        return chart.animate({\"data\": {\"filter\": record => { return (parseInt(record.Year) >= 2005 || record.Year == '1972') }}, \"config\": {\"split\": true}, \"style\": {\"plot.xAxis.interlacing.color\": \"#ffffff\"}}, {\"duration\": 0.005});\n",
       "    });\n",
       "</script>"
      ]
     },
     "metadata": {},
     "output_type": "display_data"
    },
    {
     "data": {
      "text/html": [
       "<script id=\"myVizzu_331a86f\">\n",
       "    let display_331a86f = myVizzu_331a86f.parentNode.parentNode.style.display;\n",
       "    myVizzu_331a86f.parentNode.parentNode.style.display = \"none\";\n",
       "    chart_f00ad30 = chart_f00ad30.then(chart => {\n",
       "        if (myVizzu_f00ad30.parentNode && myVizzu_f00ad30.parentNode.parentNode) {\n",
       "            myVizzu_f00ad30.parentNode.parentNode.style.display = \"none\";\n",
       "        }\n",
       "        myVizzu_331a86f.parentNode.parentNode.style.display = display_331a86f;\n",
       "        myVizzu_331a86f.parentNode.insertBefore(myVizzu_f00ad30, myVizzu_331a86f);\n",
       "        myVizzu_f00ad30.scrollIntoView({behavior: \"auto\", block: \"center\"});\n",
       "        return chart.animate({\"data\": {\"filter\": record => { return (parseInt(record.Year) >= 2004 || record.Year == '1972') }}, \"config\": {\"split\": true}, \"style\": {\"plot.xAxis.interlacing.color\": \"#ffffff\"}}, {\"duration\": 0.005});\n",
       "    });\n",
       "</script>"
      ]
     },
     "metadata": {},
     "output_type": "display_data"
    },
    {
     "data": {
      "text/html": [
       "<script id=\"myVizzu_89c72a9\">\n",
       "    let display_89c72a9 = myVizzu_89c72a9.parentNode.parentNode.style.display;\n",
       "    myVizzu_89c72a9.parentNode.parentNode.style.display = \"none\";\n",
       "    chart_f00ad30 = chart_f00ad30.then(chart => {\n",
       "        if (myVizzu_f00ad30.parentNode && myVizzu_f00ad30.parentNode.parentNode) {\n",
       "            myVizzu_f00ad30.parentNode.parentNode.style.display = \"none\";\n",
       "        }\n",
       "        myVizzu_89c72a9.parentNode.parentNode.style.display = display_89c72a9;\n",
       "        myVizzu_89c72a9.parentNode.insertBefore(myVizzu_f00ad30, myVizzu_89c72a9);\n",
       "        myVizzu_f00ad30.scrollIntoView({behavior: \"auto\", block: \"center\"});\n",
       "        return chart.animate({\"data\": {\"filter\": record => { return (parseInt(record.Year) >= 2003 || record.Year == '1972') }}, \"config\": {\"split\": true}, \"style\": {\"plot.xAxis.interlacing.color\": \"#ffffff\"}}, {\"duration\": 0.005});\n",
       "    });\n",
       "</script>"
      ]
     },
     "metadata": {},
     "output_type": "display_data"
    },
    {
     "data": {
      "text/html": [
       "<script id=\"myVizzu_7184e0c\">\n",
       "    let display_7184e0c = myVizzu_7184e0c.parentNode.parentNode.style.display;\n",
       "    myVizzu_7184e0c.parentNode.parentNode.style.display = \"none\";\n",
       "    chart_f00ad30 = chart_f00ad30.then(chart => {\n",
       "        if (myVizzu_f00ad30.parentNode && myVizzu_f00ad30.parentNode.parentNode) {\n",
       "            myVizzu_f00ad30.parentNode.parentNode.style.display = \"none\";\n",
       "        }\n",
       "        myVizzu_7184e0c.parentNode.parentNode.style.display = display_7184e0c;\n",
       "        myVizzu_7184e0c.parentNode.insertBefore(myVizzu_f00ad30, myVizzu_7184e0c);\n",
       "        myVizzu_f00ad30.scrollIntoView({behavior: \"auto\", block: \"center\"});\n",
       "        return chart.animate({\"data\": {\"filter\": record => { return (parseInt(record.Year) >= 2002 || record.Year == '1972') }}, \"config\": {\"split\": true}, \"style\": {\"plot.xAxis.interlacing.color\": \"#ffffff\"}}, {\"duration\": 0.005});\n",
       "    });\n",
       "</script>"
      ]
     },
     "metadata": {},
     "output_type": "display_data"
    },
    {
     "data": {
      "text/html": [
       "<script id=\"myVizzu_e0c5571\">\n",
       "    let display_e0c5571 = myVizzu_e0c5571.parentNode.parentNode.style.display;\n",
       "    myVizzu_e0c5571.parentNode.parentNode.style.display = \"none\";\n",
       "    chart_f00ad30 = chart_f00ad30.then(chart => {\n",
       "        if (myVizzu_f00ad30.parentNode && myVizzu_f00ad30.parentNode.parentNode) {\n",
       "            myVizzu_f00ad30.parentNode.parentNode.style.display = \"none\";\n",
       "        }\n",
       "        myVizzu_e0c5571.parentNode.parentNode.style.display = display_e0c5571;\n",
       "        myVizzu_e0c5571.parentNode.insertBefore(myVizzu_f00ad30, myVizzu_e0c5571);\n",
       "        myVizzu_f00ad30.scrollIntoView({behavior: \"auto\", block: \"center\"});\n",
       "        return chart.animate({\"data\": {\"filter\": record => { return (parseInt(record.Year) >= 2001 || record.Year == '1972') }}, \"config\": {\"split\": true}, \"style\": {\"plot.xAxis.interlacing.color\": \"#ffffff\"}}, {\"duration\": 0.005});\n",
       "    });\n",
       "</script>"
      ]
     },
     "metadata": {},
     "output_type": "display_data"
    },
    {
     "data": {
      "text/html": [
       "<script id=\"myVizzu_dc855e2\">\n",
       "    let display_dc855e2 = myVizzu_dc855e2.parentNode.parentNode.style.display;\n",
       "    myVizzu_dc855e2.parentNode.parentNode.style.display = \"none\";\n",
       "    chart_f00ad30 = chart_f00ad30.then(chart => {\n",
       "        if (myVizzu_f00ad30.parentNode && myVizzu_f00ad30.parentNode.parentNode) {\n",
       "            myVizzu_f00ad30.parentNode.parentNode.style.display = \"none\";\n",
       "        }\n",
       "        myVizzu_dc855e2.parentNode.parentNode.style.display = display_dc855e2;\n",
       "        myVizzu_dc855e2.parentNode.insertBefore(myVizzu_f00ad30, myVizzu_dc855e2);\n",
       "        myVizzu_f00ad30.scrollIntoView({behavior: \"auto\", block: \"center\"});\n",
       "        return chart.animate({\"data\": {\"filter\": record => { return (parseInt(record.Year) >= 2000 || record.Year == '1972') }}, \"config\": {\"split\": true}, \"style\": {\"plot.xAxis.interlacing.color\": \"#ffffff\"}}, {\"duration\": 0.005});\n",
       "    });\n",
       "</script>"
      ]
     },
     "metadata": {},
     "output_type": "display_data"
    },
    {
     "data": {
      "text/html": [
       "<script id=\"myVizzu_cf3db24\">\n",
       "    let display_cf3db24 = myVizzu_cf3db24.parentNode.parentNode.style.display;\n",
       "    myVizzu_cf3db24.parentNode.parentNode.style.display = \"none\";\n",
       "    chart_f00ad30 = chart_f00ad30.then(chart => {\n",
       "        if (myVizzu_f00ad30.parentNode && myVizzu_f00ad30.parentNode.parentNode) {\n",
       "            myVizzu_f00ad30.parentNode.parentNode.style.display = \"none\";\n",
       "        }\n",
       "        myVizzu_cf3db24.parentNode.parentNode.style.display = display_cf3db24;\n",
       "        myVizzu_cf3db24.parentNode.insertBefore(myVizzu_f00ad30, myVizzu_cf3db24);\n",
       "        myVizzu_f00ad30.scrollIntoView({behavior: \"auto\", block: \"center\"});\n",
       "        return chart.animate({\"data\": {\"filter\": record => { return (parseInt(record.Year) >= 1999 || record.Year == '1972') }}, \"config\": {\"split\": true}, \"style\": {\"plot.xAxis.interlacing.color\": \"#ffffff\"}}, {\"duration\": 0.005});\n",
       "    });\n",
       "</script>"
      ]
     },
     "metadata": {},
     "output_type": "display_data"
    },
    {
     "data": {
      "text/html": [
       "<script id=\"myVizzu_91cf569\">\n",
       "    let display_91cf569 = myVizzu_91cf569.parentNode.parentNode.style.display;\n",
       "    myVizzu_91cf569.parentNode.parentNode.style.display = \"none\";\n",
       "    chart_f00ad30 = chart_f00ad30.then(chart => {\n",
       "        if (myVizzu_f00ad30.parentNode && myVizzu_f00ad30.parentNode.parentNode) {\n",
       "            myVizzu_f00ad30.parentNode.parentNode.style.display = \"none\";\n",
       "        }\n",
       "        myVizzu_91cf569.parentNode.parentNode.style.display = display_91cf569;\n",
       "        myVizzu_91cf569.parentNode.insertBefore(myVizzu_f00ad30, myVizzu_91cf569);\n",
       "        myVizzu_f00ad30.scrollIntoView({behavior: \"auto\", block: \"center\"});\n",
       "        return chart.animate({\"data\": {\"filter\": record => { return (parseInt(record.Year) >= 1998 || record.Year == '1972') }}, \"config\": {\"split\": true}, \"style\": {\"plot.xAxis.interlacing.color\": \"#ffffff\"}}, {\"duration\": 0.005});\n",
       "    });\n",
       "</script>"
      ]
     },
     "metadata": {},
     "output_type": "display_data"
    },
    {
     "data": {
      "text/html": [
       "<script id=\"myVizzu_e53650f\">\n",
       "    let display_e53650f = myVizzu_e53650f.parentNode.parentNode.style.display;\n",
       "    myVizzu_e53650f.parentNode.parentNode.style.display = \"none\";\n",
       "    chart_f00ad30 = chart_f00ad30.then(chart => {\n",
       "        if (myVizzu_f00ad30.parentNode && myVizzu_f00ad30.parentNode.parentNode) {\n",
       "            myVizzu_f00ad30.parentNode.parentNode.style.display = \"none\";\n",
       "        }\n",
       "        myVizzu_e53650f.parentNode.parentNode.style.display = display_e53650f;\n",
       "        myVizzu_e53650f.parentNode.insertBefore(myVizzu_f00ad30, myVizzu_e53650f);\n",
       "        myVizzu_f00ad30.scrollIntoView({behavior: \"auto\", block: \"center\"});\n",
       "        return chart.animate({\"data\": {\"filter\": record => { return (parseInt(record.Year) >= 1997 || record.Year == '1972') }}, \"config\": {\"split\": true}, \"style\": {\"plot.xAxis.interlacing.color\": \"#ffffff\"}}, {\"duration\": 0.005});\n",
       "    });\n",
       "</script>"
      ]
     },
     "metadata": {},
     "output_type": "display_data"
    },
    {
     "data": {
      "text/html": [
       "<script id=\"myVizzu_23f627b\">\n",
       "    let display_23f627b = myVizzu_23f627b.parentNode.parentNode.style.display;\n",
       "    myVizzu_23f627b.parentNode.parentNode.style.display = \"none\";\n",
       "    chart_f00ad30 = chart_f00ad30.then(chart => {\n",
       "        if (myVizzu_f00ad30.parentNode && myVizzu_f00ad30.parentNode.parentNode) {\n",
       "            myVizzu_f00ad30.parentNode.parentNode.style.display = \"none\";\n",
       "        }\n",
       "        myVizzu_23f627b.parentNode.parentNode.style.display = display_23f627b;\n",
       "        myVizzu_23f627b.parentNode.insertBefore(myVizzu_f00ad30, myVizzu_23f627b);\n",
       "        myVizzu_f00ad30.scrollIntoView({behavior: \"auto\", block: \"center\"});\n",
       "        return chart.animate({\"data\": {\"filter\": record => { return (parseInt(record.Year) >= 1996 || record.Year == '1972') }}, \"config\": {\"split\": true}, \"style\": {\"plot.xAxis.interlacing.color\": \"#ffffff\"}}, {\"duration\": 0.005});\n",
       "    });\n",
       "</script>"
      ]
     },
     "metadata": {},
     "output_type": "display_data"
    },
    {
     "data": {
      "text/html": [
       "<script id=\"myVizzu_88e9005\">\n",
       "    let display_88e9005 = myVizzu_88e9005.parentNode.parentNode.style.display;\n",
       "    myVizzu_88e9005.parentNode.parentNode.style.display = \"none\";\n",
       "    chart_f00ad30 = chart_f00ad30.then(chart => {\n",
       "        if (myVizzu_f00ad30.parentNode && myVizzu_f00ad30.parentNode.parentNode) {\n",
       "            myVizzu_f00ad30.parentNode.parentNode.style.display = \"none\";\n",
       "        }\n",
       "        myVizzu_88e9005.parentNode.parentNode.style.display = display_88e9005;\n",
       "        myVizzu_88e9005.parentNode.insertBefore(myVizzu_f00ad30, myVizzu_88e9005);\n",
       "        myVizzu_f00ad30.scrollIntoView({behavior: \"auto\", block: \"center\"});\n",
       "        return chart.animate({\"data\": {\"filter\": record => { return (parseInt(record.Year) >= 1995 || record.Year == '1972') }}, \"config\": {\"split\": true}, \"style\": {\"plot.xAxis.interlacing.color\": \"#ffffff\"}}, {\"duration\": 0.005});\n",
       "    });\n",
       "</script>"
      ]
     },
     "metadata": {},
     "output_type": "display_data"
    },
    {
     "data": {
      "text/html": [
       "<script id=\"myVizzu_8061c75\">\n",
       "    let display_8061c75 = myVizzu_8061c75.parentNode.parentNode.style.display;\n",
       "    myVizzu_8061c75.parentNode.parentNode.style.display = \"none\";\n",
       "    chart_f00ad30 = chart_f00ad30.then(chart => {\n",
       "        if (myVizzu_f00ad30.parentNode && myVizzu_f00ad30.parentNode.parentNode) {\n",
       "            myVizzu_f00ad30.parentNode.parentNode.style.display = \"none\";\n",
       "        }\n",
       "        myVizzu_8061c75.parentNode.parentNode.style.display = display_8061c75;\n",
       "        myVizzu_8061c75.parentNode.insertBefore(myVizzu_f00ad30, myVizzu_8061c75);\n",
       "        myVizzu_f00ad30.scrollIntoView({behavior: \"auto\", block: \"center\"});\n",
       "        return chart.animate({\"data\": {\"filter\": record => { return (parseInt(record.Year) >= 1994 || record.Year == '1972') }}, \"config\": {\"split\": true}, \"style\": {\"plot.xAxis.interlacing.color\": \"#ffffff\"}}, {\"duration\": 0.005});\n",
       "    });\n",
       "</script>"
      ]
     },
     "metadata": {},
     "output_type": "display_data"
    },
    {
     "data": {
      "text/html": [
       "<script id=\"myVizzu_342a038\">\n",
       "    let display_342a038 = myVizzu_342a038.parentNode.parentNode.style.display;\n",
       "    myVizzu_342a038.parentNode.parentNode.style.display = \"none\";\n",
       "    chart_f00ad30 = chart_f00ad30.then(chart => {\n",
       "        if (myVizzu_f00ad30.parentNode && myVizzu_f00ad30.parentNode.parentNode) {\n",
       "            myVizzu_f00ad30.parentNode.parentNode.style.display = \"none\";\n",
       "        }\n",
       "        myVizzu_342a038.parentNode.parentNode.style.display = display_342a038;\n",
       "        myVizzu_342a038.parentNode.insertBefore(myVizzu_f00ad30, myVizzu_342a038);\n",
       "        myVizzu_f00ad30.scrollIntoView({behavior: \"auto\", block: \"center\"});\n",
       "        return chart.animate({\"data\": {\"filter\": record => { return (parseInt(record.Year) >= 1993 || record.Year == '1972') }}, \"config\": {\"split\": true}, \"style\": {\"plot.xAxis.interlacing.color\": \"#ffffff\"}}, {\"duration\": 0.005});\n",
       "    });\n",
       "</script>"
      ]
     },
     "metadata": {},
     "output_type": "display_data"
    },
    {
     "data": {
      "text/html": [
       "<script id=\"myVizzu_4796bb0\">\n",
       "    let display_4796bb0 = myVizzu_4796bb0.parentNode.parentNode.style.display;\n",
       "    myVizzu_4796bb0.parentNode.parentNode.style.display = \"none\";\n",
       "    chart_f00ad30 = chart_f00ad30.then(chart => {\n",
       "        if (myVizzu_f00ad30.parentNode && myVizzu_f00ad30.parentNode.parentNode) {\n",
       "            myVizzu_f00ad30.parentNode.parentNode.style.display = \"none\";\n",
       "        }\n",
       "        myVizzu_4796bb0.parentNode.parentNode.style.display = display_4796bb0;\n",
       "        myVizzu_4796bb0.parentNode.insertBefore(myVizzu_f00ad30, myVizzu_4796bb0);\n",
       "        myVizzu_f00ad30.scrollIntoView({behavior: \"auto\", block: \"center\"});\n",
       "        return chart.animate({\"data\": {\"filter\": record => { return (parseInt(record.Year) >= 1992 || record.Year == '1972') }}, \"config\": {\"split\": true}, \"style\": {\"plot.xAxis.interlacing.color\": \"#ffffff\"}}, {\"duration\": 0.005});\n",
       "    });\n",
       "</script>"
      ]
     },
     "metadata": {},
     "output_type": "display_data"
    },
    {
     "data": {
      "text/html": [
       "<script id=\"myVizzu_75b0a45\">\n",
       "    let display_75b0a45 = myVizzu_75b0a45.parentNode.parentNode.style.display;\n",
       "    myVizzu_75b0a45.parentNode.parentNode.style.display = \"none\";\n",
       "    chart_f00ad30 = chart_f00ad30.then(chart => {\n",
       "        if (myVizzu_f00ad30.parentNode && myVizzu_f00ad30.parentNode.parentNode) {\n",
       "            myVizzu_f00ad30.parentNode.parentNode.style.display = \"none\";\n",
       "        }\n",
       "        myVizzu_75b0a45.parentNode.parentNode.style.display = display_75b0a45;\n",
       "        myVizzu_75b0a45.parentNode.insertBefore(myVizzu_f00ad30, myVizzu_75b0a45);\n",
       "        myVizzu_f00ad30.scrollIntoView({behavior: \"auto\", block: \"center\"});\n",
       "        return chart.animate({\"data\": {\"filter\": record => { return (parseInt(record.Year) >= 1991 || record.Year == '1972') }}, \"config\": {\"split\": true}, \"style\": {\"plot.xAxis.interlacing.color\": \"#ffffff\"}}, {\"duration\": 0.005});\n",
       "    });\n",
       "</script>"
      ]
     },
     "metadata": {},
     "output_type": "display_data"
    },
    {
     "data": {
      "text/html": [
       "<script id=\"myVizzu_63a88f9\">\n",
       "    let display_63a88f9 = myVizzu_63a88f9.parentNode.parentNode.style.display;\n",
       "    myVizzu_63a88f9.parentNode.parentNode.style.display = \"none\";\n",
       "    chart_f00ad30 = chart_f00ad30.then(chart => {\n",
       "        if (myVizzu_f00ad30.parentNode && myVizzu_f00ad30.parentNode.parentNode) {\n",
       "            myVizzu_f00ad30.parentNode.parentNode.style.display = \"none\";\n",
       "        }\n",
       "        myVizzu_63a88f9.parentNode.parentNode.style.display = display_63a88f9;\n",
       "        myVizzu_63a88f9.parentNode.insertBefore(myVizzu_f00ad30, myVizzu_63a88f9);\n",
       "        myVizzu_f00ad30.scrollIntoView({behavior: \"auto\", block: \"center\"});\n",
       "        return chart.animate({\"data\": {\"filter\": record => { return (parseInt(record.Year) >= 1990 || record.Year == '1972') }}, \"config\": {\"split\": true}, \"style\": {\"plot.xAxis.interlacing.color\": \"#ffffff\"}}, {\"duration\": 0.005});\n",
       "    });\n",
       "</script>"
      ]
     },
     "metadata": {},
     "output_type": "display_data"
    },
    {
     "data": {
      "text/html": [
       "<script id=\"myVizzu_9c57bf1\">\n",
       "    let display_9c57bf1 = myVizzu_9c57bf1.parentNode.parentNode.style.display;\n",
       "    myVizzu_9c57bf1.parentNode.parentNode.style.display = \"none\";\n",
       "    chart_f00ad30 = chart_f00ad30.then(chart => {\n",
       "        if (myVizzu_f00ad30.parentNode && myVizzu_f00ad30.parentNode.parentNode) {\n",
       "            myVizzu_f00ad30.parentNode.parentNode.style.display = \"none\";\n",
       "        }\n",
       "        myVizzu_9c57bf1.parentNode.parentNode.style.display = display_9c57bf1;\n",
       "        myVizzu_9c57bf1.parentNode.insertBefore(myVizzu_f00ad30, myVizzu_9c57bf1);\n",
       "        myVizzu_f00ad30.scrollIntoView({behavior: \"auto\", block: \"center\"});\n",
       "        return chart.animate({\"data\": {\"filter\": record => { return (parseInt(record.Year) >= 1989 || record.Year == '1972') }}, \"config\": {\"split\": true}, \"style\": {\"plot.xAxis.interlacing.color\": \"#ffffff\"}}, {\"duration\": 0.005});\n",
       "    });\n",
       "</script>"
      ]
     },
     "metadata": {},
     "output_type": "display_data"
    },
    {
     "data": {
      "text/html": [
       "<script id=\"myVizzu_66913b2\">\n",
       "    let display_66913b2 = myVizzu_66913b2.parentNode.parentNode.style.display;\n",
       "    myVizzu_66913b2.parentNode.parentNode.style.display = \"none\";\n",
       "    chart_f00ad30 = chart_f00ad30.then(chart => {\n",
       "        if (myVizzu_f00ad30.parentNode && myVizzu_f00ad30.parentNode.parentNode) {\n",
       "            myVizzu_f00ad30.parentNode.parentNode.style.display = \"none\";\n",
       "        }\n",
       "        myVizzu_66913b2.parentNode.parentNode.style.display = display_66913b2;\n",
       "        myVizzu_66913b2.parentNode.insertBefore(myVizzu_f00ad30, myVizzu_66913b2);\n",
       "        myVizzu_f00ad30.scrollIntoView({behavior: \"auto\", block: \"center\"});\n",
       "        return chart.animate({\"data\": {\"filter\": record => { return (parseInt(record.Year) >= 1988 || record.Year == '1972') }}, \"config\": {\"split\": true}, \"style\": {\"plot.xAxis.interlacing.color\": \"#ffffff\"}}, {\"duration\": 0.005});\n",
       "    });\n",
       "</script>"
      ]
     },
     "metadata": {},
     "output_type": "display_data"
    },
    {
     "data": {
      "text/html": [
       "<script id=\"myVizzu_5c44439\">\n",
       "    let display_5c44439 = myVizzu_5c44439.parentNode.parentNode.style.display;\n",
       "    myVizzu_5c44439.parentNode.parentNode.style.display = \"none\";\n",
       "    chart_f00ad30 = chart_f00ad30.then(chart => {\n",
       "        if (myVizzu_f00ad30.parentNode && myVizzu_f00ad30.parentNode.parentNode) {\n",
       "            myVizzu_f00ad30.parentNode.parentNode.style.display = \"none\";\n",
       "        }\n",
       "        myVizzu_5c44439.parentNode.parentNode.style.display = display_5c44439;\n",
       "        myVizzu_5c44439.parentNode.insertBefore(myVizzu_f00ad30, myVizzu_5c44439);\n",
       "        myVizzu_f00ad30.scrollIntoView({behavior: \"auto\", block: \"center\"});\n",
       "        return chart.animate({\"data\": {\"filter\": record => { return (parseInt(record.Year) >= 1987 || record.Year == '1972') }}, \"config\": {\"split\": true}, \"style\": {\"plot.xAxis.interlacing.color\": \"#ffffff\"}}, {\"duration\": 0.005});\n",
       "    });\n",
       "</script>"
      ]
     },
     "metadata": {},
     "output_type": "display_data"
    },
    {
     "data": {
      "text/html": [
       "<script id=\"myVizzu_84a6e3b\">\n",
       "    let display_84a6e3b = myVizzu_84a6e3b.parentNode.parentNode.style.display;\n",
       "    myVizzu_84a6e3b.parentNode.parentNode.style.display = \"none\";\n",
       "    chart_f00ad30 = chart_f00ad30.then(chart => {\n",
       "        if (myVizzu_f00ad30.parentNode && myVizzu_f00ad30.parentNode.parentNode) {\n",
       "            myVizzu_f00ad30.parentNode.parentNode.style.display = \"none\";\n",
       "        }\n",
       "        myVizzu_84a6e3b.parentNode.parentNode.style.display = display_84a6e3b;\n",
       "        myVizzu_84a6e3b.parentNode.insertBefore(myVizzu_f00ad30, myVizzu_84a6e3b);\n",
       "        myVizzu_f00ad30.scrollIntoView({behavior: \"auto\", block: \"center\"});\n",
       "        return chart.animate({\"data\": {\"filter\": record => { return (parseInt(record.Year) >= 1986 || record.Year == '1972') }}, \"config\": {\"split\": true}, \"style\": {\"plot.xAxis.interlacing.color\": \"#ffffff\"}}, {\"duration\": 0.005});\n",
       "    });\n",
       "</script>"
      ]
     },
     "metadata": {},
     "output_type": "display_data"
    },
    {
     "data": {
      "text/html": [
       "<script id=\"myVizzu_2ad99fe\">\n",
       "    let display_2ad99fe = myVizzu_2ad99fe.parentNode.parentNode.style.display;\n",
       "    myVizzu_2ad99fe.parentNode.parentNode.style.display = \"none\";\n",
       "    chart_f00ad30 = chart_f00ad30.then(chart => {\n",
       "        if (myVizzu_f00ad30.parentNode && myVizzu_f00ad30.parentNode.parentNode) {\n",
       "            myVizzu_f00ad30.parentNode.parentNode.style.display = \"none\";\n",
       "        }\n",
       "        myVizzu_2ad99fe.parentNode.parentNode.style.display = display_2ad99fe;\n",
       "        myVizzu_2ad99fe.parentNode.insertBefore(myVizzu_f00ad30, myVizzu_2ad99fe);\n",
       "        myVizzu_f00ad30.scrollIntoView({behavior: \"auto\", block: \"center\"});\n",
       "        return chart.animate({\"data\": {\"filter\": record => { return (parseInt(record.Year) >= 1985 || record.Year == '1972') }}, \"config\": {\"split\": true}, \"style\": {\"plot.xAxis.interlacing.color\": \"#ffffff\"}}, {\"duration\": 0.005});\n",
       "    });\n",
       "</script>"
      ]
     },
     "metadata": {},
     "output_type": "display_data"
    },
    {
     "data": {
      "text/html": [
       "<script id=\"myVizzu_07f75e5\">\n",
       "    let display_07f75e5 = myVizzu_07f75e5.parentNode.parentNode.style.display;\n",
       "    myVizzu_07f75e5.parentNode.parentNode.style.display = \"none\";\n",
       "    chart_f00ad30 = chart_f00ad30.then(chart => {\n",
       "        if (myVizzu_f00ad30.parentNode && myVizzu_f00ad30.parentNode.parentNode) {\n",
       "            myVizzu_f00ad30.parentNode.parentNode.style.display = \"none\";\n",
       "        }\n",
       "        myVizzu_07f75e5.parentNode.parentNode.style.display = display_07f75e5;\n",
       "        myVizzu_07f75e5.parentNode.insertBefore(myVizzu_f00ad30, myVizzu_07f75e5);\n",
       "        myVizzu_f00ad30.scrollIntoView({behavior: \"auto\", block: \"center\"});\n",
       "        return chart.animate({\"data\": {\"filter\": record => { return (parseInt(record.Year) >= 1984 || record.Year == '1972') }}, \"config\": {\"split\": true}, \"style\": {\"plot.xAxis.interlacing.color\": \"#ffffff\"}}, {\"duration\": 0.005});\n",
       "    });\n",
       "</script>"
      ]
     },
     "metadata": {},
     "output_type": "display_data"
    },
    {
     "data": {
      "text/html": [
       "<script id=\"myVizzu_1f2536b\">\n",
       "    let display_1f2536b = myVizzu_1f2536b.parentNode.parentNode.style.display;\n",
       "    myVizzu_1f2536b.parentNode.parentNode.style.display = \"none\";\n",
       "    chart_f00ad30 = chart_f00ad30.then(chart => {\n",
       "        if (myVizzu_f00ad30.parentNode && myVizzu_f00ad30.parentNode.parentNode) {\n",
       "            myVizzu_f00ad30.parentNode.parentNode.style.display = \"none\";\n",
       "        }\n",
       "        myVizzu_1f2536b.parentNode.parentNode.style.display = display_1f2536b;\n",
       "        myVizzu_1f2536b.parentNode.insertBefore(myVizzu_f00ad30, myVizzu_1f2536b);\n",
       "        myVizzu_f00ad30.scrollIntoView({behavior: \"auto\", block: \"center\"});\n",
       "        return chart.animate({\"data\": {\"filter\": record => { return (parseInt(record.Year) >= 1983 || record.Year == '1972') }}, \"config\": {\"split\": true}, \"style\": {\"plot.xAxis.interlacing.color\": \"#ffffff\"}}, {\"duration\": 0.005});\n",
       "    });\n",
       "</script>"
      ]
     },
     "metadata": {},
     "output_type": "display_data"
    },
    {
     "data": {
      "text/html": [
       "<script id=\"myVizzu_d6bf055\">\n",
       "    let display_d6bf055 = myVizzu_d6bf055.parentNode.parentNode.style.display;\n",
       "    myVizzu_d6bf055.parentNode.parentNode.style.display = \"none\";\n",
       "    chart_f00ad30 = chart_f00ad30.then(chart => {\n",
       "        if (myVizzu_f00ad30.parentNode && myVizzu_f00ad30.parentNode.parentNode) {\n",
       "            myVizzu_f00ad30.parentNode.parentNode.style.display = \"none\";\n",
       "        }\n",
       "        myVizzu_d6bf055.parentNode.parentNode.style.display = display_d6bf055;\n",
       "        myVizzu_d6bf055.parentNode.insertBefore(myVizzu_f00ad30, myVizzu_d6bf055);\n",
       "        myVizzu_f00ad30.scrollIntoView({behavior: \"auto\", block: \"center\"});\n",
       "        return chart.animate({\"data\": {\"filter\": record => { return (parseInt(record.Year) >= 1982 || record.Year == '1972') }}, \"config\": {\"split\": true}, \"style\": {\"plot.xAxis.interlacing.color\": \"#ffffff\"}}, {\"duration\": 0.005});\n",
       "    });\n",
       "</script>"
      ]
     },
     "metadata": {},
     "output_type": "display_data"
    },
    {
     "data": {
      "text/html": [
       "<script id=\"myVizzu_262c5a4\">\n",
       "    let display_262c5a4 = myVizzu_262c5a4.parentNode.parentNode.style.display;\n",
       "    myVizzu_262c5a4.parentNode.parentNode.style.display = \"none\";\n",
       "    chart_f00ad30 = chart_f00ad30.then(chart => {\n",
       "        if (myVizzu_f00ad30.parentNode && myVizzu_f00ad30.parentNode.parentNode) {\n",
       "            myVizzu_f00ad30.parentNode.parentNode.style.display = \"none\";\n",
       "        }\n",
       "        myVizzu_262c5a4.parentNode.parentNode.style.display = display_262c5a4;\n",
       "        myVizzu_262c5a4.parentNode.insertBefore(myVizzu_f00ad30, myVizzu_262c5a4);\n",
       "        myVizzu_f00ad30.scrollIntoView({behavior: \"auto\", block: \"center\"});\n",
       "        return chart.animate({\"data\": {\"filter\": record => { return (parseInt(record.Year) >= 1981 || record.Year == '1972') }}, \"config\": {\"split\": true}, \"style\": {\"plot.xAxis.interlacing.color\": \"#ffffff\"}}, {\"duration\": 0.005});\n",
       "    });\n",
       "</script>"
      ]
     },
     "metadata": {},
     "output_type": "display_data"
    },
    {
     "data": {
      "text/html": [
       "<script id=\"myVizzu_7968c40\">\n",
       "    let display_7968c40 = myVizzu_7968c40.parentNode.parentNode.style.display;\n",
       "    myVizzu_7968c40.parentNode.parentNode.style.display = \"none\";\n",
       "    chart_f00ad30 = chart_f00ad30.then(chart => {\n",
       "        if (myVizzu_f00ad30.parentNode && myVizzu_f00ad30.parentNode.parentNode) {\n",
       "            myVizzu_f00ad30.parentNode.parentNode.style.display = \"none\";\n",
       "        }\n",
       "        myVizzu_7968c40.parentNode.parentNode.style.display = display_7968c40;\n",
       "        myVizzu_7968c40.parentNode.insertBefore(myVizzu_f00ad30, myVizzu_7968c40);\n",
       "        myVizzu_f00ad30.scrollIntoView({behavior: \"auto\", block: \"center\"});\n",
       "        return chart.animate({\"data\": {\"filter\": record => { return (parseInt(record.Year) >= 1980 || record.Year == '1972') }}, \"config\": {\"split\": true}, \"style\": {\"plot.xAxis.interlacing.color\": \"#ffffff\"}}, {\"duration\": 0.005});\n",
       "    });\n",
       "</script>"
      ]
     },
     "metadata": {},
     "output_type": "display_data"
    },
    {
     "data": {
      "text/html": [
       "<script id=\"myVizzu_a8ec648\">\n",
       "    let display_a8ec648 = myVizzu_a8ec648.parentNode.parentNode.style.display;\n",
       "    myVizzu_a8ec648.parentNode.parentNode.style.display = \"none\";\n",
       "    chart_f00ad30 = chart_f00ad30.then(chart => {\n",
       "        if (myVizzu_f00ad30.parentNode && myVizzu_f00ad30.parentNode.parentNode) {\n",
       "            myVizzu_f00ad30.parentNode.parentNode.style.display = \"none\";\n",
       "        }\n",
       "        myVizzu_a8ec648.parentNode.parentNode.style.display = display_a8ec648;\n",
       "        myVizzu_a8ec648.parentNode.insertBefore(myVizzu_f00ad30, myVizzu_a8ec648);\n",
       "        myVizzu_f00ad30.scrollIntoView({behavior: \"auto\", block: \"center\"});\n",
       "        return chart.animate({\"data\": {\"filter\": record => { return (parseInt(record.Year) >= 1979 || record.Year == '1972') }}, \"config\": {\"split\": true}, \"style\": {\"plot.xAxis.interlacing.color\": \"#ffffff\"}}, {\"duration\": 0.005});\n",
       "    });\n",
       "</script>"
      ]
     },
     "metadata": {},
     "output_type": "display_data"
    },
    {
     "data": {
      "text/html": [
       "<script id=\"myVizzu_0ab46be\">\n",
       "    let display_0ab46be = myVizzu_0ab46be.parentNode.parentNode.style.display;\n",
       "    myVizzu_0ab46be.parentNode.parentNode.style.display = \"none\";\n",
       "    chart_f00ad30 = chart_f00ad30.then(chart => {\n",
       "        if (myVizzu_f00ad30.parentNode && myVizzu_f00ad30.parentNode.parentNode) {\n",
       "            myVizzu_f00ad30.parentNode.parentNode.style.display = \"none\";\n",
       "        }\n",
       "        myVizzu_0ab46be.parentNode.parentNode.style.display = display_0ab46be;\n",
       "        myVizzu_0ab46be.parentNode.insertBefore(myVizzu_f00ad30, myVizzu_0ab46be);\n",
       "        myVizzu_f00ad30.scrollIntoView({behavior: \"auto\", block: \"center\"});\n",
       "        return chart.animate({\"data\": {\"filter\": record => { return (parseInt(record.Year) >= 1978 || record.Year == '1972') }}, \"config\": {\"split\": true}, \"style\": {\"plot.xAxis.interlacing.color\": \"#ffffff\"}}, {\"duration\": 0.005});\n",
       "    });\n",
       "</script>"
      ]
     },
     "metadata": {},
     "output_type": "display_data"
    },
    {
     "data": {
      "text/html": [
       "<script id=\"myVizzu_1fb4f4c\">\n",
       "    let display_1fb4f4c = myVizzu_1fb4f4c.parentNode.parentNode.style.display;\n",
       "    myVizzu_1fb4f4c.parentNode.parentNode.style.display = \"none\";\n",
       "    chart_f00ad30 = chart_f00ad30.then(chart => {\n",
       "        if (myVizzu_f00ad30.parentNode && myVizzu_f00ad30.parentNode.parentNode) {\n",
       "            myVizzu_f00ad30.parentNode.parentNode.style.display = \"none\";\n",
       "        }\n",
       "        myVizzu_1fb4f4c.parentNode.parentNode.style.display = display_1fb4f4c;\n",
       "        myVizzu_1fb4f4c.parentNode.insertBefore(myVizzu_f00ad30, myVizzu_1fb4f4c);\n",
       "        myVizzu_f00ad30.scrollIntoView({behavior: \"auto\", block: \"center\"});\n",
       "        return chart.animate({\"data\": {\"filter\": record => { return (parseInt(record.Year) >= 1977 || record.Year == '1972') }}, \"config\": {\"split\": true}, \"style\": {\"plot.xAxis.interlacing.color\": \"#ffffff\"}}, {\"duration\": 0.005});\n",
       "    });\n",
       "</script>"
      ]
     },
     "metadata": {},
     "output_type": "display_data"
    },
    {
     "data": {
      "text/html": [
       "<script id=\"myVizzu_d0ed453\">\n",
       "    let display_d0ed453 = myVizzu_d0ed453.parentNode.parentNode.style.display;\n",
       "    myVizzu_d0ed453.parentNode.parentNode.style.display = \"none\";\n",
       "    chart_f00ad30 = chart_f00ad30.then(chart => {\n",
       "        if (myVizzu_f00ad30.parentNode && myVizzu_f00ad30.parentNode.parentNode) {\n",
       "            myVizzu_f00ad30.parentNode.parentNode.style.display = \"none\";\n",
       "        }\n",
       "        myVizzu_d0ed453.parentNode.parentNode.style.display = display_d0ed453;\n",
       "        myVizzu_d0ed453.parentNode.insertBefore(myVizzu_f00ad30, myVizzu_d0ed453);\n",
       "        myVizzu_f00ad30.scrollIntoView({behavior: \"auto\", block: \"center\"});\n",
       "        return chart.animate({\"data\": {\"filter\": record => { return (parseInt(record.Year) >= 1976 || record.Year == '1972') }}, \"config\": {\"split\": true}, \"style\": {\"plot.xAxis.interlacing.color\": \"#ffffff\"}}, {\"duration\": 0.005});\n",
       "    });\n",
       "</script>"
      ]
     },
     "metadata": {},
     "output_type": "display_data"
    },
    {
     "data": {
      "text/html": [
       "<script id=\"myVizzu_779b2e3\">\n",
       "    let display_779b2e3 = myVizzu_779b2e3.parentNode.parentNode.style.display;\n",
       "    myVizzu_779b2e3.parentNode.parentNode.style.display = \"none\";\n",
       "    chart_f00ad30 = chart_f00ad30.then(chart => {\n",
       "        if (myVizzu_f00ad30.parentNode && myVizzu_f00ad30.parentNode.parentNode) {\n",
       "            myVizzu_f00ad30.parentNode.parentNode.style.display = \"none\";\n",
       "        }\n",
       "        myVizzu_779b2e3.parentNode.parentNode.style.display = display_779b2e3;\n",
       "        myVizzu_779b2e3.parentNode.insertBefore(myVizzu_f00ad30, myVizzu_779b2e3);\n",
       "        myVizzu_f00ad30.scrollIntoView({behavior: \"auto\", block: \"center\"});\n",
       "        return chart.animate({\"data\": {\"filter\": record => { return (parseInt(record.Year) >= 1975 || record.Year == '1972') }}, \"config\": {\"split\": true}, \"style\": {\"plot.xAxis.interlacing.color\": \"#ffffff\"}}, {\"duration\": 0.005});\n",
       "    });\n",
       "</script>"
      ]
     },
     "metadata": {},
     "output_type": "display_data"
    },
    {
     "data": {
      "text/html": [
       "<script id=\"myVizzu_491cc7b\">\n",
       "    let display_491cc7b = myVizzu_491cc7b.parentNode.parentNode.style.display;\n",
       "    myVizzu_491cc7b.parentNode.parentNode.style.display = \"none\";\n",
       "    chart_f00ad30 = chart_f00ad30.then(chart => {\n",
       "        if (myVizzu_f00ad30.parentNode && myVizzu_f00ad30.parentNode.parentNode) {\n",
       "            myVizzu_f00ad30.parentNode.parentNode.style.display = \"none\";\n",
       "        }\n",
       "        myVizzu_491cc7b.parentNode.parentNode.style.display = display_491cc7b;\n",
       "        myVizzu_491cc7b.parentNode.insertBefore(myVizzu_f00ad30, myVizzu_491cc7b);\n",
       "        myVizzu_f00ad30.scrollIntoView({behavior: \"auto\", block: \"center\"});\n",
       "        return chart.animate({\"data\": {\"filter\": record => { return (parseInt(record.Year) >= 1974 || record.Year == '1972') }}, \"config\": {\"split\": true}, \"style\": {\"plot.xAxis.interlacing.color\": \"#ffffff\"}}, {\"duration\": 0.005});\n",
       "    });\n",
       "</script>"
      ]
     },
     "metadata": {},
     "output_type": "display_data"
    },
    {
     "data": {
      "text/html": [
       "<script id=\"myVizzu_d45af53\">\n",
       "    let display_d45af53 = myVizzu_d45af53.parentNode.parentNode.style.display;\n",
       "    myVizzu_d45af53.parentNode.parentNode.style.display = \"none\";\n",
       "    chart_f00ad30 = chart_f00ad30.then(chart => {\n",
       "        if (myVizzu_f00ad30.parentNode && myVizzu_f00ad30.parentNode.parentNode) {\n",
       "            myVizzu_f00ad30.parentNode.parentNode.style.display = \"none\";\n",
       "        }\n",
       "        myVizzu_d45af53.parentNode.parentNode.style.display = display_d45af53;\n",
       "        myVizzu_d45af53.parentNode.insertBefore(myVizzu_f00ad30, myVizzu_d45af53);\n",
       "        myVizzu_f00ad30.scrollIntoView({behavior: \"auto\", block: \"center\"});\n",
       "        return chart.animate({\"data\": {\"filter\": record => { return (parseInt(record.Year) >= 1973 || record.Year == '1972') }}, \"config\": {\"split\": true}, \"style\": {\"plot.xAxis.interlacing.color\": \"#ffffff\"}}, {\"duration\": 0.005});\n",
       "    });\n",
       "</script>"
      ]
     },
     "metadata": {},
     "output_type": "display_data"
    },
    {
     "data": {
      "text/html": [
       "<script id=\"myVizzu_e05a6b8\">\n",
       "    let display_e05a6b8 = myVizzu_e05a6b8.parentNode.parentNode.style.display;\n",
       "    myVizzu_e05a6b8.parentNode.parentNode.style.display = \"none\";\n",
       "    chart_f00ad30 = chart_f00ad30.then(chart => {\n",
       "        if (myVizzu_f00ad30.parentNode && myVizzu_f00ad30.parentNode.parentNode) {\n",
       "            myVizzu_f00ad30.parentNode.parentNode.style.display = \"none\";\n",
       "        }\n",
       "        myVizzu_e05a6b8.parentNode.parentNode.style.display = display_e05a6b8;\n",
       "        myVizzu_e05a6b8.parentNode.insertBefore(myVizzu_f00ad30, myVizzu_e05a6b8);\n",
       "        myVizzu_f00ad30.scrollIntoView({behavior: \"auto\", block: \"center\"});\n",
       "        return chart.animate({\"data\": {\"filter\": record => { return (record.Year != '1972') }}, \"config\": {\"split\": false}}, {\"duration\": 1.5});\n",
       "    });\n",
       "</script>"
      ]
     },
     "metadata": {},
     "output_type": "display_data"
    },
    {
     "data": {
      "text/html": [
       "<script id=\"myVizzu_70b5c9b\">\n",
       "    let display_70b5c9b = myVizzu_70b5c9b.parentNode.parentNode.style.display;\n",
       "    myVizzu_70b5c9b.parentNode.parentNode.style.display = \"none\";\n",
       "    chart_f00ad30 = chart_f00ad30.then(chart => {\n",
       "        if (myVizzu_f00ad30.parentNode && myVizzu_f00ad30.parentNode.parentNode) {\n",
       "            myVizzu_f00ad30.parentNode.parentNode.style.display = \"none\";\n",
       "        }\n",
       "        myVizzu_70b5c9b.parentNode.parentNode.style.display = display_70b5c9b;\n",
       "        myVizzu_70b5c9b.parentNode.insertBefore(myVizzu_f00ad30, myVizzu_70b5c9b);\n",
       "        myVizzu_f00ad30.scrollIntoView({behavior: \"auto\", block: \"center\"});\n",
       "        return chart.animate({\"config\": {\"channels\": {\"x\": {\"detach\": [\"Year\"]}}}}, {\"duration\": 0});\n",
       "    });\n",
       "</script>"
      ]
     },
     "metadata": {},
     "output_type": "display_data"
    },
    {
     "data": {
      "text/html": [
       "<script id=\"myVizzu_c1507bc\">\n",
       "    let display_c1507bc = myVizzu_c1507bc.parentNode.parentNode.style.display;\n",
       "    myVizzu_c1507bc.parentNode.parentNode.style.display = \"none\";\n",
       "    chart_f00ad30 = chart_f00ad30.then(chart => {\n",
       "        if (myVizzu_f00ad30.parentNode && myVizzu_f00ad30.parentNode.parentNode) {\n",
       "            myVizzu_f00ad30.parentNode.parentNode.style.display = \"none\";\n",
       "        }\n",
       "        myVizzu_c1507bc.parentNode.parentNode.style.display = display_c1507bc;\n",
       "        myVizzu_c1507bc.parentNode.insertBefore(myVizzu_f00ad30, myVizzu_c1507bc);\n",
       "        myVizzu_f00ad30.scrollIntoView({behavior: \"auto\", block: \"center\"});\n",
       "        return chart.animate({\"config\": {\"channels\": {\"label\": {\"set\": [\"Revenue [m$]\"]}}}}, {\"duration\": 0.1});\n",
       "    });\n",
       "</script>"
      ]
     },
     "metadata": {},
     "output_type": "display_data"
    }
   ],
   "source": [
    "chart.animate(\n",
    "    Config({\n",
    "        \"channels\": {\n",
    "            \"x\": { \"attach\": [\"Year\"] },\n",
    "            \"label\": { \"set\": None }\n",
    "        }\n",
    "    }),\n",
    "    duration = 0.3\n",
    ")\n",
    "\n",
    "chart.animate(\n",
    "    Data.filter(\"record.Year == '2020' || record.Year == '1972'\"),\n",
    "    Config({\n",
    "        \"title\": \"Lets see the total of the last 47 years\"\n",
    "    }),\n",
    "    duration = 2\n",
    ")\n",
    "\n",
    "chart.animate(Config({ \"sort\": \"none\" }), delay = 0, duration = 2)\n",
    "\n",
    "\n",
    "for year in reversed(range(1973, 2020)):\n",
    "    chart.animate(\n",
    "        Data.filter(f\"parseInt(record.Year) >= {year} || record.Year == '1972'\"),\n",
    "        Config({ \"split\": True }),\n",
    "        Style({ \"plot.xAxis.interlacing.color\": \"#ffffff\" }),\n",
    "        duration = 0.005\n",
    "    )\n",
    "\n",
    "chart.animate(\n",
    "    Data.filter(\"record.Year != '1972'\"),\n",
    "    Config({ \"split\": False }),\n",
    "    duration = 1.5\n",
    ")\n",
    "\n",
    "\n",
    "chart.animate(\n",
    "    Config({\n",
    "        \"channels\": {\n",
    "            \"x\": { \"detach\": [\"Year\"] }\n",
    "        }\n",
    "    }),\n",
    "    duration = 0\n",
    ")\n",
    "\n",
    "chart.animate(\n",
    "    Config({\n",
    "        \"channels\": {\n",
    "            \"label\": { \"set\": [\"Revenue [m$]\"] }\n",
    "        }\n",
    "    }),\n",
    "    duration = 0.1\n",
    ")\n"
   ]
  },
  {
   "cell_type": "code",
   "execution_count": 61,
   "metadata": {},
   "outputs": [
    {
     "data": {
      "text/html": [
       "<script id=\"myVizzu_1b3ca1a\">\n",
       "    let display_1b3ca1a = myVizzu_1b3ca1a.parentNode.parentNode.style.display;\n",
       "    myVizzu_1b3ca1a.parentNode.parentNode.style.display = \"none\";\n",
       "    chart_f00ad30 = chart_f00ad30.then(chart => {\n",
       "        if (myVizzu_f00ad30.parentNode && myVizzu_f00ad30.parentNode.parentNode) {\n",
       "            myVizzu_f00ad30.parentNode.parentNode.style.display = \"none\";\n",
       "        }\n",
       "        myVizzu_1b3ca1a.parentNode.parentNode.style.display = display_1b3ca1a;\n",
       "        myVizzu_1b3ca1a.parentNode.insertBefore(myVizzu_f00ad30, myVizzu_1b3ca1a);\n",
       "        myVizzu_f00ad30.scrollIntoView({behavior: \"auto\", block: \"center\"});\n",
       "        return chart.animate({\"config\": {\"channels\": {\"x\": {\"attach\": [\"Year\"]}, \"label\": {\"detach\": [\"Revenue [m$]\"]}}}}, {\"duration\": 1});\n",
       "    });\n",
       "</script>"
      ]
     },
     "metadata": {},
     "output_type": "display_data"
    },
    {
     "data": {
      "text/html": [
       "<script id=\"myVizzu_42ff9d0\">\n",
       "    let display_42ff9d0 = myVizzu_42ff9d0.parentNode.parentNode.style.display;\n",
       "    myVizzu_42ff9d0.parentNode.parentNode.style.display = \"none\";\n",
       "    chart_f00ad30 = chart_f00ad30.then(chart => {\n",
       "        if (myVizzu_f00ad30.parentNode && myVizzu_f00ad30.parentNode.parentNode) {\n",
       "            myVizzu_f00ad30.parentNode.parentNode.style.display = \"none\";\n",
       "        }\n",
       "        myVizzu_42ff9d0.parentNode.parentNode.style.display = display_42ff9d0;\n",
       "        myVizzu_42ff9d0.parentNode.insertBefore(myVizzu_f00ad30, myVizzu_42ff9d0);\n",
       "        myVizzu_f00ad30.scrollIntoView({behavior: \"auto\", block: \"center\"});\n",
       "        return chart.animate({\"config\": {\"channels\": {\"x\": {\"set\": [\"Year\"]}, \"y\": {\"set\": [\"Revenue [m$]\", \"Format\"], \"range\": {\"min\": null, \"max\": null}}, \"color\": {\"set\": [\"Format\"]}}, \"title\": \"Music Revenue by Format in the USA 1973 - 2020\", \"split\": true}, \"style\": {\"plot\": {\"paddingLeft\": 7.5, \"paddingTop\": 25, \"xAxis\": {\"label\": {\"fontSize\": 9, \"angle\": 2.0, \"color\": \"#8e8e8e\"}}, \"yAxis\": {\"interlacing\": {\"color\": \"#ffffff00\"}, \"title\": {\"color\": \"#ffffff00\"}, \"label\": {\"color\": \"#ffffff00\"}}}}}, {\"duration\": 2});\n",
       "    });\n",
       "</script>"
      ]
     },
     "metadata": {},
     "output_type": "display_data"
    },
    {
     "data": {
      "text/html": [
       "<script id=\"myVizzu_4275362\">\n",
       "    let display_4275362 = myVizzu_4275362.parentNode.parentNode.style.display;\n",
       "    myVizzu_4275362.parentNode.parentNode.style.display = \"none\";\n",
       "    chart_f00ad30 = chart_f00ad30.then(chart => {\n",
       "        if (myVizzu_f00ad30.parentNode && myVizzu_f00ad30.parentNode.parentNode) {\n",
       "            myVizzu_f00ad30.parentNode.parentNode.style.display = \"none\";\n",
       "        }\n",
       "        myVizzu_4275362.parentNode.parentNode.style.display = display_4275362;\n",
       "        myVizzu_4275362.parentNode.insertBefore(myVizzu_f00ad30, myVizzu_4275362);\n",
       "        myVizzu_f00ad30.scrollIntoView({behavior: \"auto\", block: \"center\"});\n",
       "        return chart.animate({\"config\": {\"geometry\": \"area\"}}, {\"duration\": 1});\n",
       "    });\n",
       "</script>"
      ]
     },
     "metadata": {},
     "output_type": "display_data"
    }
   ],
   "source": [
    "chart.animate(\n",
    "    Config({\n",
    "        \"channels\": {\n",
    "            \"x\": { \"attach\": [\"Year\"] },\n",
    "            \"label\": { \"detach\": [\"Revenue [m$]\"] }\n",
    "        }\n",
    "    }),\n",
    "    duration = 1\n",
    ")\n",
    "\n",
    "chart.animate(\n",
    "    Config({\n",
    "        \"channels\": {\n",
    "            \"x\": { \"set\": ['Year'] },\n",
    "            \"y\": { \"set\": ['Revenue [m$]', 'Format'], \"range\": { \"min\": None, \"max\": None } },\n",
    "            \"color\": { \"set\": ['Format'] }\n",
    "        },\n",
    "        \"title\": 'Music Revenue by Format in the USA 1973 - 2020',\n",
    "        \"split\": True\n",
    "    }),\n",
    "    Style({\n",
    "        \"plot\": {\n",
    "            \"paddingLeft\": 7.5,\n",
    "            \"paddingTop\": 25,\n",
    "            \"xAxis\": {\n",
    "                \"label\": {\n",
    "                    \"fontSize\": 9,\n",
    "                    \"angle\": 2.0,\n",
    "                    \"color\": \"#8e8e8e\"\n",
    "                }\n",
    "            },\n",
    "            \"yAxis\": {\n",
    "                \"interlacing\": { \"color\": \"#ffffff00\" },\n",
    "                \"title\": { \"color\": \"#ffffff00\" },\n",
    "                \"label\": { \"color\": \"#ffffff00\" }\n",
    "            }\n",
    "        }\n",
    "    }),\n",
    "    duration = 2\n",
    ")\n",
    "\n",
    "chart.animate(Config({ \"geometry\": \"area\" }), duration = 1)\n",
    "\n"
   ]
  },
  {
   "cell_type": "code",
   "execution_count": 62,
   "metadata": {},
   "outputs": [
    {
     "data": {
      "text/html": [
       "<script id=\"myVizzu_969b26b\">\n",
       "    let display_969b26b = myVizzu_969b26b.parentNode.parentNode.style.display;\n",
       "    myVizzu_969b26b.parentNode.parentNode.style.display = \"none\";\n",
       "    chart_f00ad30 = chart_f00ad30.then(chart => {\n",
       "        if (myVizzu_f00ad30.parentNode && myVizzu_f00ad30.parentNode.parentNode) {\n",
       "            myVizzu_f00ad30.parentNode.parentNode.style.display = \"none\";\n",
       "        }\n",
       "        myVizzu_969b26b.parentNode.parentNode.style.display = display_969b26b;\n",
       "        myVizzu_969b26b.parentNode.insertBefore(myVizzu_f00ad30, myVizzu_969b26b);\n",
       "        myVizzu_f00ad30.scrollIntoView({behavior: \"auto\", block: \"center\"});\n",
       "        return chart.animate({\"config\": {\"channels\": {\"x\": {\"set\": [\"Year\"]}, \"y\": {\"range\": {\"max\": \"110%\"}}}, \"align\": \"center\", \"split\": false}, \"style\": {\"plot.marker.borderWidth\": 1}}, {\"duration\": 1});\n",
       "    });\n",
       "</script>"
      ]
     },
     "metadata": {},
     "output_type": "display_data"
    }
   ],
   "source": [
    "chart.animate(\n",
    "    Config({\n",
    "        \"channels\": {\n",
    "            \"x\": { \"set\": [\"Year\"] },\n",
    "            \"y\": {\n",
    "                \"range\": {\n",
    "                    \"max\": \"110%\"\n",
    "                }\n",
    "            }\n",
    "        },\n",
    "        \"align\": \"center\",\n",
    "        \"split\": False\n",
    "    }),\n",
    "    Style({ \"plot.marker.borderWidth\": 1 }),\n",
    "    duration = 1\n",
    ")"
   ]
  },
  {
   "cell_type": "code",
   "execution_count": null,
   "metadata": {},
   "outputs": [],
   "source": []
  }
 ],
 "metadata": {
  "kernelspec": {
   "display_name": "Python 3 (ipykernel)",
   "language": "python",
   "name": "python3"
  },
  "language_info": {
   "codemirror_mode": {
    "name": "ipython",
    "version": 3
   },
   "file_extension": ".py",
   "mimetype": "text/x-python",
   "name": "python",
   "nbconvert_exporter": "python",
   "pygments_lexer": "ipython3",
   "version": "3.8.10"
  }
 },
 "nbformat": 4,
 "nbformat_minor": 2
}
