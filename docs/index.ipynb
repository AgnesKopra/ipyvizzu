{
 "cells": [
  {
   "cell_type": "markdown",
   "id": "c688d4ac",
   "metadata": {},
   "source": [
    "# vizzu\n",
    "\n",
    "[Vizzu](https://lib.vizzuhq.com/) is a free, open-source Javascript/C++ library utilizing a generic dataviz engine that generates many types of charts and seamlessly animates between them. It can be used to create static charts but more importantly it is designed for building animated data stories and interactive explorers as Vizzu enables showing different perspectives of the data that the viewers can easily follow due to the animation.\n",
    "\n",
    "\n",
    "\n",
    "# ipyvizzu\n",
    "\n",
    "ipyvizzu is a [jupyter notebook](https://jupyter.org/) integration for the vizzu project. ipyvizzu works only in the jupyter notebook environment.\n",
    "\n",
    "The examples bellow are copied from the [vizzu tutorial](https://lib.vizzuhq.com/0.4/). You can read more information from there."
   ]
  },
  {
   "cell_type": "code",
   "execution_count": 1,
   "id": "af20f729",
   "metadata": {},
   "outputs": [
    {
     "data": {
      "text/html": [
       "\n",
       "<div id=\"myVizzu_140448721664944\" style=\"width:800px; height:480px;\" />\n",
       "<script type=\"module\">\n",
       "import Vizzu from 'https://cdn.jsdelivr.net/npm/vizzu@latest/dist/vizzu.min.js';\n",
       "\n",
       "let chart = new Vizzu('myVizzu_140448721664944');\n",
       "chart.initializing.then( chart => {\n",
       "\n",
       "chart.animate({\"data\": {\"series\": [{\"name\": \"Foo\", \"values\": [\"Alice\", \"Bob\", \"Ted\"]}, {\"name\": \"Bar\", \"values\": [15, 32, 12]}, {\"name\": \"Baz\", \"values\": [5, 2, 2]}]}});\n",
       "chart.animate({\"x\": \"Foo\", \"y\": \"Bar\", \"color\": \"Foo\"});\n",
       "chart.animate({\"geometry\": \"circle\"});\n",
       "chart.animate({\"x\": \"Foo\", \"y\": \"Baz\", \"color\": \"Foo\"});\n",
       "chart.animate({\"geometry\": \"rectangle\"});\n",
       "} );\n",
       "</script>"
      ]
     },
     "metadata": {},
     "output_type": "display_data"
    }
   ],
   "source": [
    "import ipyvizzu\n",
    "\n",
    "data = ipyvizzu.Data()\n",
    "data.add_serie(\"Foo\", ['Alice', 'Bob', 'Ted'])\n",
    "data.add_serie(\"Bar\", [15, 32, 12])\n",
    "data.add_serie(\"Baz\", [5, 2, 2])\n",
    "\n",
    "chart = ipyvizzu.Chart()\n",
    "chart.set_data(data)\n",
    "\n",
    "chart.animate(x=\"Foo\", y=\"Bar\", color=\"Foo\")\n",
    "chart.animate(geometry=\"circle\")\n",
    "chart.animate(x=\"Foo\", y=\"Baz\", color=\"Foo\")\n",
    "chart.animate(geometry=\"rectangle\")\n",
    "\n",
    "chart.show()"
   ]
  },
  {
   "cell_type": "markdown",
   "id": "9b68a06e",
   "metadata": {},
   "source": [
    "# Data\n",
    "\n",
    "## Data types\n",
    "\n",
    "Vizzu currently supports two types of data series: dimensions and measures. Dimensions slice the data cube Vizzu uses, whereas measures are values within the cube.\n",
    "\n",
    "Dimensions are categorical series that can contain strings and numbers, but both will be treated as strings. Temporal data such as dates or timestamps should also be added as dimensions. Vizzu will draw the elements on the chart in the order they are provided in the data set by default. Thus we suggest adding temporal data in a sorted format from oldest to newest.\n",
    "\n",
    "Measure in the current beta phase can only be numerical.\n",
    "Adding data\n",
    "\n",
    "There are multiple ways you can add data to Vizzu:\n",
    "\n",
    "* Specified by series - column after column if you think of a spreadsheet\n",
    "* Specified by records - row after row.\n",
    "* Data cube form\n",
    "\n",
    "Elements with a missing value should contain the number zero. `null`, `undefined` and empty cells will result in an error. In case of dimensions, add '' as a value to have a category without a name.\n",
    "\n",
    "In the first two cases, data has to be in first normal form. Here is an example of that:\n",
    "\n",
    "|Genres |\tTypes | Popularity |\n",
    "|---|---|---|\n",
    "|Pop \t |Hard \t|114|\n",
    "|Rock \t |Hard \t|96|\n",
    "|Jazz \t |Hard \t|78|\n",
    "|Metal \t |Hard \t|52|\n",
    "|Pop \t |Smooth \t|56|\n",
    "|Rock \t |Smooth \t|36|\n",
    "|Jazz \t |Smooth \t|174|\n",
    "|Metal \t |Smooth \t|121|\n",
    "|Pop \t |Experimental \t|127|\n",
    "|Rock \t |Experimental \t|83|\n",
    "|Jazz \t |Experimental \t|94|\n",
    "|Metal \t |Experimental \t|58|\n",
    "\n",
    "In the type parameter, you can set if a series is a dimension or a measure. Adding the type parameter is optional. If omitted, Vizzu will automatically select the type depending on the first element of the values array using the typeof operator. If all items are numbers, it will be declared as a measure, in any other case, a dimension.\n"
   ]
  },
  {
   "cell_type": "markdown",
   "id": "83fca0c8",
   "metadata": {},
   "source": [
    "Data specified by series:"
   ]
  },
  {
   "cell_type": "code",
   "execution_count": 2,
   "id": "bb92ccaf",
   "metadata": {},
   "outputs": [],
   "source": [
    "import ipyvizzu\n",
    "\n",
    "data_series = ipyvizzu.Data()\n",
    "data_series.add_serie(\n",
    "    \"Genres\",\n",
    "    [\"Pop\", \"Rock\", \"Jazz\", \"Metal\",\n",
    "     \"Pop\", \"Rock\", \"Jazz\", \"Metal\",\n",
    "     \"Pop\", \"Rock\", \"Jazz\", \"Metal\"],\n",
    "    type=\"dimension\"\n",
    ")\n",
    "data_series.add_serie(\n",
    "    \"Types\",\n",
    "    [\"Hard\", \"Hard\", \"Hard\", \"Hard\",\n",
    "     \"Smooth\", \"Smooth\", \"Smooth\", \"Smooth\",\n",
    "     \"Experimental\", \"Experimental\", \"Experimental\", \"Experimental\"],\n",
    "    type=\"dimension\"\n",
    ")\n",
    "data_series.add_serie(\n",
    "    \"Popularity\",\n",
    "    [114, 96, 78, 52, 56, 36, 174, 121, 127, 83, 94, 58],\n",
    "    type=\"measure\"\n",
    ")"
   ]
  },
  {
   "cell_type": "markdown",
   "id": "46210c8c",
   "metadata": {},
   "source": [
    "Data specified by records:"
   ]
  },
  {
   "cell_type": "code",
   "execution_count": 3,
   "id": "7db79113",
   "metadata": {},
   "outputs": [],
   "source": [
    "import ipyvizzu\n",
    "\n",
    "data_records = ipyvizzu.Data()\n",
    "\n",
    "data_records.add_serie('Genres', type='dimension')\n",
    "data_records.add_serie('Types', type='dimension')\n",
    "data_records.add_serie('Popularity', type='measure')\n",
    "\n",
    "records = [\n",
    "    ['Pop', 'Hard', 114],\n",
    "    ['Rock', 'Hard', 96],\n",
    "    ['Jazz', 'Hard', 78],\n",
    "    ['Metal', 'Hard', 52],\n",
    "    ['Pop', 'Smooth', 56],\n",
    "    ['Rock', 'Smooth', 36],\n",
    "    ['Jazz', 'Smooth', 174],\n",
    "    ['Metal', 'Smooth', 121],\n",
    "    ['Pop', 'Experimental', 127],\n",
    "    ['Rock', 'Experimental', 83],\n",
    "    ['Jazz', 'Experimental', 94],\n",
    "    ['Metal', 'Experimental', 58],\n",
    "]\n",
    "\n",
    "result = map(data_records.add_record, records)"
   ]
  },
  {
   "cell_type": "markdown",
   "id": "b2f94552",
   "metadata": {},
   "source": [
    "Data cube"
   ]
  },
  {
   "cell_type": "code",
   "execution_count": 4,
   "id": "1dcd113e",
   "metadata": {},
   "outputs": [],
   "source": [
    "import ipyvizzu\n",
    "\n",
    "data_cube = ipyvizzu.Data()\n",
    "\n",
    "data_cube.add_dimension('Genres', [ 'Pop', 'Rock', 'Jazz', 'Metal'])\n",
    "data_cube.add_dimension('Types', [ 'Hard', 'Smooth', 'Experimental' ])\n",
    "\n",
    "data_cube.add_measure(\n",
    "    'Popularity',\n",
    "    [\n",
    "        [114, 96, 78, 52],\n",
    "        [56, 36, 174, 121],\n",
    "        [127, 83, 94, 58],\n",
    "    ]\n",
    ")"
   ]
  },
  {
   "cell_type": "markdown",
   "id": "789167c4",
   "metadata": {},
   "source": [
    "## Axes, title, tooltip\n",
    "\n",
    "To build a chart with Vizzu, you have to add data series to the channels.\n",
    "\n",
    "The first step is to create a simple column chart, adding one of the dimensions (Genre) to the x-axis and the measure (Popularity) to the y-axis using the set property.\n",
    "\n",
    "In the next step, the chart is rearranged by putting both series on the y-axis using once again the set property, resulting in a single column chart. Vizzu automatically animates between the initial state and this one.\n",
    "\n",
    "Or instead of set, you can use attach and detach to add or remove series to/from the channels.\n",
    "\n",
    "Using attach & detach makes it easier to build your animated charts step-by-step, however you either have to keep in mind what you had on which channel in the previous step or add the following code to access the actual configuration of the chart."
   ]
  },
  {
   "cell_type": "code",
   "execution_count": 5,
   "id": "8f05ec83",
   "metadata": {},
   "outputs": [
    {
     "data": {
      "text/html": [
       "\n",
       "<div id=\"myVizzu_140448721662352\" style=\"width:800px; height:480px;\" />\n",
       "<script type=\"module\">\n",
       "import Vizzu from 'https://cdn.jsdelivr.net/npm/vizzu@latest/dist/vizzu.min.js';\n",
       "\n",
       "let chart = new Vizzu('myVizzu_140448721662352');\n",
       "chart.initializing.then( chart => {\n",
       "\n",
       "chart.animate({\"data\": {\"dimensions\": [{\"name\": \"Genres\", \"values\": [\"Pop\", \"Rock\", \"Jazz\", \"Metal\"]}, {\"name\": \"Types\", \"values\": [\"Hard\", \"Smooth\", \"Experimental\"]}], \"measures\": [{\"name\": \"Popularity\", \"values\": [[114, 96, 78, 52], [56, 36, 174, 121], [127, 83, 94, 58]]}]}});\n",
       "chart.animate({\"config\": {\"channels\": {\"y\": {\"set\": \"Popularity\"}, \"x\": {\"set\": \"Genres\"}}}});\n",
       "chart.animate({\"config\": {\"channels\": {\"y\": {\"set\": [\"Popularity\", \"Genres\"]}, \"x\": {\"set\": null}}}});\n",
       "chart.animate({\"config\": {\"channels\": {\"y\": {\"detach\": \"Popularity\"}, \"x\": {\"attach\": \"Popularity\"}}}});\n",
       "} );\n",
       "</script>"
      ]
     },
     "metadata": {},
     "output_type": "display_data"
    }
   ],
   "source": [
    "import ipyvizzu\n",
    "\n",
    "data = ipyvizzu.Data()\n",
    "\n",
    "data.add_dimension('Genres', [ 'Pop', 'Rock', 'Jazz', 'Metal'])\n",
    "data.add_dimension('Types', [ 'Hard', 'Smooth', 'Experimental' ])\n",
    "\n",
    "data.add_measure(\n",
    "    'Popularity',\n",
    "    [\n",
    "        [114, 96, 78, 52],\n",
    "        [56, 36, 174, 121],\n",
    "        [127, 83, 94, 58],\n",
    "    ]\n",
    ")\n",
    "\n",
    "chart = ipyvizzu.Chart()\n",
    "chart.set_data(data)\n",
    "chart.set_config({\"channels\": {\"y\": {\"set\": \"Popularity\"}, \"x\": {\"set\": \"Genres\"}}})\n",
    "chart.set_config({\"channels\": {\"y\": {\"set\": [\"Popularity\", \"Genres\"]}, \"x\": {\"set\": None}}})\n",
    "chart.set_config({\"channels\": {\"y\": {\"detach\": \"Popularity\"}, \"x\": {\"attach\": \"Popularity\"}}})\n",
    "chart.show()"
   ]
  },
  {
   "cell_type": "markdown",
   "id": "86c8b72b",
   "metadata": {},
   "source": [
    "Setting the chart title with the title command."
   ]
  },
  {
   "cell_type": "code",
   "execution_count": 6,
   "id": "e642e113",
   "metadata": {},
   "outputs": [
    {
     "data": {
      "text/html": [
       "\n",
       "<div id=\"myVizzu_140448721659808\" style=\"width:800px; height:480px;\" />\n",
       "<script type=\"module\">\n",
       "import Vizzu from 'https://cdn.jsdelivr.net/npm/vizzu@latest/dist/vizzu.min.js';\n",
       "\n",
       "let chart = new Vizzu('myVizzu_140448721659808');\n",
       "chart.initializing.then( chart => {\n",
       "\n",
       "chart.animate({\"data\": {\"dimensions\": [{\"name\": \"Genres\", \"values\": [\"Pop\", \"Rock\", \"Jazz\", \"Metal\"]}, {\"name\": \"Types\", \"values\": [\"Hard\", \"Smooth\", \"Experimental\"]}], \"measures\": [{\"name\": \"Popularity\", \"values\": [[114, 96, 78, 52], [56, 36, 174, 121], [127, 83, 94, 58]]}]}});\n",
       "chart.animate({\"config\": {\"channels\": {\"y\": {\"set\": \"Popularity\"}, \"x\": {\"set\": \"Genres\"}}}});\n",
       "chart.animate({\"title\": \"My first chart\"});\n",
       "} );\n",
       "</script>"
      ]
     },
     "metadata": {},
     "output_type": "display_data"
    }
   ],
   "source": [
    "import ipyvizzu\n",
    "\n",
    "data = ipyvizzu.Data()\n",
    "\n",
    "data.add_dimension('Genres', [ 'Pop', 'Rock', 'Jazz', 'Metal'])\n",
    "data.add_dimension('Types', [ 'Hard', 'Smooth', 'Experimental' ])\n",
    "\n",
    "data.add_measure(\n",
    "    'Popularity',\n",
    "    [\n",
    "        [114, 96, 78, 52],\n",
    "        [56, 36, 174, 121],\n",
    "        [127, 83, 94, 58],\n",
    "    ]\n",
    ")\n",
    "\n",
    "chart = ipyvizzu.Chart()\n",
    "chart.set_data(data)\n",
    "chart.set_config({\"channels\": {\"y\": {\"set\": \"Popularity\"}, \"x\": {\"set\": \"Genres\"}}})\n",
    "chart.animate(title=\"My first chart\")\n",
    "chart.show()"
   ]
  },
  {
   "cell_type": "markdown",
   "id": "faee856f",
   "metadata": {},
   "source": [
    "Switching on the tooltips that appear on the chart elements when the user hovers over them with their mouse by adding the (tooltip, true) parameters to the chart.feature method. "
   ]
  },
  {
   "cell_type": "code",
   "execution_count": 7,
   "id": "6a541934",
   "metadata": {},
   "outputs": [
    {
     "data": {
      "text/html": [
       "\n",
       "<div id=\"myVizzu_140448721663312\" style=\"width:800px; height:480px;\" />\n",
       "<script type=\"module\">\n",
       "import Vizzu from 'https://cdn.jsdelivr.net/npm/vizzu@latest/dist/vizzu.min.js';\n",
       "\n",
       "let chart = new Vizzu('myVizzu_140448721663312');\n",
       "chart.initializing.then( chart => {\n",
       "\n",
       "chart.animate({\"data\": {\"dimensions\": [{\"name\": \"Genres\", \"values\": [\"Pop\", \"Rock\", \"Jazz\", \"Metal\"]}, {\"name\": \"Types\", \"values\": [\"Hard\", \"Smooth\", \"Experimental\"]}], \"measures\": [{\"name\": \"Popularity\", \"values\": [[114, 96, 78, 52], [56, 36, 174, 121], [127, 83, 94, 58]]}]}});\n",
       "chart.animate({\"config\": {\"channels\": {\"y\": {\"set\": \"Popularity\"}, \"x\": {\"set\": \"Genres\"}}}});\n",
       "chart.feature(\"tooltip\", true);\n",
       "} );\n",
       "</script>"
      ]
     },
     "metadata": {},
     "output_type": "display_data"
    }
   ],
   "source": [
    "import ipyvizzu\n",
    "\n",
    "data = ipyvizzu.Data()\n",
    "\n",
    "data.add_dimension('Genres', [ 'Pop', 'Rock', 'Jazz', 'Metal'])\n",
    "data.add_dimension('Types', [ 'Hard', 'Smooth', 'Experimental' ])\n",
    "\n",
    "data.add_measure(\n",
    "    'Popularity',\n",
    "    [\n",
    "        [114, 96, 78, 52],\n",
    "        [56, 36, 174, 121],\n",
    "        [127, 83, 94, 58],\n",
    "    ]\n",
    ")\n",
    "\n",
    "chart = ipyvizzu.Chart()\n",
    "chart.set_data(data)\n",
    "chart.set_config({\"channels\": {\"y\": {\"set\": \"Popularity\"}, \"x\": {\"set\": \"Genres\"}}})\n",
    "chart.set_feature(\"tooltip\", True)\n",
    "chart.show()"
   ]
  },
  {
   "cell_type": "markdown",
   "id": "1bf735b9",
   "metadata": {},
   "source": [
    "## Geometry\n",
    "\n",
    "In Vizzu you can set the geometric elements used to represent your data by the geometry property within the config object. "
   ]
  },
  {
   "cell_type": "code",
   "execution_count": 12,
   "id": "8ca1d294",
   "metadata": {},
   "outputs": [
    {
     "data": {
      "text/html": [
       "\n",
       "<div id=\"myVizzu_140448721650832\" style=\"width:800px; height:480px;\" />\n",
       "<script type=\"module\">\n",
       "import Vizzu from 'https://cdn.jsdelivr.net/npm/vizzu@latest/dist/vizzu.min.js';\n",
       "\n",
       "let chart = new Vizzu('myVizzu_140448721650832');\n",
       "chart.initializing.then( chart => {\n",
       "\n",
       "chart.animate({\"data\": {\"dimensions\": [{\"name\": \"Genres\", \"values\": [\"Pop\", \"Rock\", \"Jazz\", \"Metal\"]}, {\"name\": \"Types\", \"values\": [\"Hard\", \"Smooth\", \"Experimental\"]}], \"measures\": [{\"name\": \"Popularity\", \"values\": [[114, 96, 78, 52], [56, 36, 174, 121], [127, 83, 94, 58]]}]}});\n",
       "chart.animate({\"config\": {\"channels\": {\"y\": {\"set\": \"Popularity\"}, \"x\": {\"set\": \"Genres\"}}}});\n",
       "chart.animate({\"config\": {\"geometry\": \"area\"}});\n",
       "chart.animate({\"config\": {\"geometry\": \"line\"}});\n",
       "chart.animate({\"config\": {\"geometry\": \"circle\"}});\n",
       "chart.animate({\"config\": {\"geometry\": \"rectangle\"}});\n",
       "} );\n",
       "</script>"
      ]
     },
     "metadata": {},
     "output_type": "display_data"
    }
   ],
   "source": [
    "import ipyvizzu\n",
    "\n",
    "data = ipyvizzu.Data()\n",
    "\n",
    "data.add_dimension('Genres', [ 'Pop', 'Rock', 'Jazz', 'Metal'])\n",
    "data.add_dimension('Types', [ 'Hard', 'Smooth', 'Experimental' ])\n",
    "\n",
    "data.add_measure(\n",
    "    'Popularity',\n",
    "    [\n",
    "        [114, 96, 78, 52],\n",
    "        [56, 36, 174, 121],\n",
    "        [127, 83, 94, 58],\n",
    "    ]\n",
    ")\n",
    "\n",
    "chart = ipyvizzu.Chart()\n",
    "chart.set_data(data)\n",
    "chart.set_config({\"channels\": {\"y\": {\"set\": \"Popularity\"}, \"x\": {\"set\": \"Genres\"}}})\n",
    "chart.set_config({\"geometry\": \"area\"})\n",
    "chart.set_config({\"geometry\": \"line\"})\n",
    "chart.set_config({\"geometry\": \"circle\"})\n",
    "chart.set_config({\"geometry\": \"rectangle\"})\n",
    "chart.show()"
   ]
  },
  {
   "cell_type": "markdown",
   "id": "66c92835",
   "metadata": {},
   "source": [
    "## Channels & legend\n",
    "\n",
    "Besides the x-axis and the y-axis, there are five more channels in Vizzu you can use to visualize your data. Similarly to the axes you can put any number of dimensions and/or one measure to a channel. In the following example the four most commonly used channels are shown. The fifth, noop channel is introduced later in the Without coordinates & noop channel chapter.\n",
    "\n",
    "Data on the label channel will be written on the markers on the chart. Vizzu automatically determines the best way to position these labels, but you can set them differently with the style object introduced in the Color palette & fonts chapter."
   ]
  },
  {
   "cell_type": "code",
   "execution_count": 13,
   "id": "e481054a",
   "metadata": {},
   "outputs": [
    {
     "data": {
      "text/html": [
       "\n",
       "<div id=\"myVizzu_140448721659376\" style=\"width:800px; height:480px;\" />\n",
       "<script type=\"module\">\n",
       "import Vizzu from 'https://cdn.jsdelivr.net/npm/vizzu@latest/dist/vizzu.min.js';\n",
       "\n",
       "let chart = new Vizzu('myVizzu_140448721659376');\n",
       "chart.initializing.then( chart => {\n",
       "\n",
       "chart.animate({\"data\": {\"dimensions\": [{\"name\": \"Genres\", \"values\": [\"Pop\", \"Rock\", \"Jazz\", \"Metal\"]}, {\"name\": \"Types\", \"values\": [\"Hard\", \"Smooth\", \"Experimental\"]}], \"measures\": [{\"name\": \"Popularity\", \"values\": [[114, 96, 78, 52], [56, 36, 174, 121], [127, 83, 94, 58]]}]}});\n",
       "chart.animate({\"config\": {\"channels\": {\"y\": {\"set\": \"Popularity\"}, \"x\": {\"set\": \"Genres\"}}}});\n",
       "chart.animate({\"config\": {\"channels\": {\"label\": {\"attach\": [\"Popularity\"]}}}});\n",
       "} );\n",
       "</script>"
      ]
     },
     "metadata": {},
     "output_type": "display_data"
    }
   ],
   "source": [
    "import ipyvizzu\n",
    "\n",
    "data = ipyvizzu.Data()\n",
    "\n",
    "data.add_dimension('Genres', [ 'Pop', 'Rock', 'Jazz', 'Metal'])\n",
    "data.add_dimension('Types', [ 'Hard', 'Smooth', 'Experimental' ])\n",
    "\n",
    "data.add_measure(\n",
    "    'Popularity',\n",
    "    [\n",
    "        [114, 96, 78, 52],\n",
    "        [56, 36, 174, 121],\n",
    "        [127, 83, 94, 58],\n",
    "    ]\n",
    ")\n",
    "\n",
    "chart = ipyvizzu.Chart()\n",
    "chart.set_data(data)\n",
    "chart.set_config({\"channels\": {\"y\": {\"set\": \"Popularity\"}, \"x\": {\"set\": \"Genres\"}}})\n",
    "chart.set_config({\"channels\": {\"label\": {\"attach\": [\"Popularity\"]}}})\n",
    "chart.show()"
   ]
  },
  {
   "cell_type": "markdown",
   "id": "ba8113d2",
   "metadata": {},
   "source": [
    "The lightness channel sets the lightness of the markers. In this case the same measure (Popularity) is added to it that is on the y-axis, meaning that columns’ height and lightness represent the same values. The legend for the lightness channel is turned on using the legend property.\n",
    "\n",
    "Note: This is an example when we explicitly instruct Vizzu to show the legend. By default Vizzu automatically shows/hides the legend when it's necessary. You can also turn it off with the legend : null command or set back to automatic mode with legend : 'auto'."
   ]
  },
  {
   "cell_type": "code",
   "execution_count": 15,
   "id": "c1cbd29d",
   "metadata": {},
   "outputs": [
    {
     "data": {
      "text/html": [
       "\n",
       "<div id=\"myVizzu_140448721659472\" style=\"width:800px; height:480px;\" />\n",
       "<script type=\"module\">\n",
       "import Vizzu from 'https://cdn.jsdelivr.net/npm/vizzu@latest/dist/vizzu.min.js';\n",
       "\n",
       "let chart = new Vizzu('myVizzu_140448721659472');\n",
       "chart.initializing.then( chart => {\n",
       "\n",
       "chart.animate({\"data\": {\"dimensions\": [{\"name\": \"Genres\", \"values\": [\"Pop\", \"Rock\", \"Jazz\", \"Metal\"]}, {\"name\": \"Types\", \"values\": [\"Hard\", \"Smooth\", \"Experimental\"]}], \"measures\": [{\"name\": \"Popularity\", \"values\": [[114, 96, 78, 52], [56, 36, 174, 121], [127, 83, 94, 58]]}]}});\n",
       "chart.animate({\"config\": {\"channels\": {\"y\": {\"set\": \"Popularity\"}, \"x\": {\"set\": \"Genres\"}}}});\n",
       "chart.animate({\"config\": {\"channels\": {\"lightness\": {\"attach\": [\"Popularity\"]}}, \"legend\": \"lightness\"}});\n",
       "} );\n",
       "</script>"
      ]
     },
     "metadata": {},
     "output_type": "display_data"
    }
   ],
   "source": [
    "import ipyvizzu\n",
    "\n",
    "data = ipyvizzu.Data()\n",
    "\n",
    "data.add_dimension('Genres', [ 'Pop', 'Rock', 'Jazz', 'Metal'])\n",
    "data.add_dimension('Types', [ 'Hard', 'Smooth', 'Experimental' ])\n",
    "\n",
    "data.add_measure(\n",
    "    'Popularity',\n",
    "    [\n",
    "        [114, 96, 78, 52],\n",
    "        [56, 36, 174, 121],\n",
    "        [127, 83, 94, 58],\n",
    "    ]\n",
    ")\n",
    "\n",
    "chart = ipyvizzu.Chart()\n",
    "chart.set_data(data)\n",
    "chart.set_config({\"channels\": {\"y\": {\"set\": \"Popularity\"}, \"x\": {\"set\": \"Genres\"}}})\n",
    "chart.set_config({\n",
    "    \"channels\": {\n",
    "        \"lightness\": {\"attach\": [\"Popularity\"]}\n",
    "    },\n",
    "    \"legend\": \"lightness\"\n",
    "})\n",
    "chart.show()"
   ]
  },
  {
   "cell_type": "markdown",
   "id": "17fa6898",
   "metadata": {},
   "source": [
    "The color channel sets the color of the markers. The same dimension (Genres) is put on it that is on the x-axis resulting in each bar having a different color. If a measure is put on the color channel, a color range will be used.\n",
    "\n",
    "Note: The value on the lightness channel is removed in this step as it doesn’t make sense to use it together with the color channel in this case."
   ]
  },
  {
   "cell_type": "code",
   "execution_count": 18,
   "id": "9c9a3ee3",
   "metadata": {},
   "outputs": [
    {
     "data": {
      "text/html": [
       "\n",
       "<div id=\"myVizzu_140448721656112\" style=\"width:800px; height:480px;\" />\n",
       "<script type=\"module\">\n",
       "import Vizzu from 'https://cdn.jsdelivr.net/npm/vizzu@latest/dist/vizzu.min.js';\n",
       "\n",
       "let chart = new Vizzu('myVizzu_140448721656112');\n",
       "chart.initializing.then( chart => {\n",
       "\n",
       "chart.animate({\"data\": {\"dimensions\": [{\"name\": \"Genres\", \"values\": [\"Pop\", \"Rock\", \"Jazz\", \"Metal\"]}, {\"name\": \"Types\", \"values\": [\"Hard\", \"Smooth\", \"Experimental\"]}], \"measures\": [{\"name\": \"Popularity\", \"values\": [[114, 96, 78, 52], [56, 36, 174, 121], [127, 83, 94, 58]]}]}});\n",
       "chart.animate({\"config\": {\"channels\": {\"y\": {\"set\": \"Popularity\"}, \"x\": {\"set\": \"Genres\"}}}});\n",
       "chart.animate({\"config\": {\"channels\": {\"color\": {\"attach\": [\"Genres\"]}}, \"legend\": \"color\"}});\n",
       "} );\n",
       "</script>"
      ]
     },
     "metadata": {},
     "output_type": "display_data"
    }
   ],
   "source": [
    "import ipyvizzu\n",
    "\n",
    "data = ipyvizzu.Data()\n",
    "\n",
    "data.add_dimension('Genres', [ 'Pop', 'Rock', 'Jazz', 'Metal'])\n",
    "data.add_dimension('Types', [ 'Hard', 'Smooth', 'Experimental' ])\n",
    "\n",
    "data.add_measure(\n",
    "    'Popularity',\n",
    "    [\n",
    "        [114, 96, 78, 52],\n",
    "        [56, 36, 174, 121],\n",
    "        [127, 83, 94, 58],\n",
    "    ]\n",
    ")\n",
    "\n",
    "chart = ipyvizzu.Chart()\n",
    "chart.set_data(data)\n",
    "chart.set_config({\"channels\": {\"y\": {\"set\": \"Popularity\"}, \"x\": {\"set\": \"Genres\"}}})\n",
    "chart.set_config({\n",
    "    \"channels\": {\n",
    "        \"color\": {\"attach\": [\"Genres\"]}\n",
    "    },\n",
    "    \"legend\": \"color\"\n",
    "})\n",
    "chart.show()"
   ]
  },
  {
   "cell_type": "markdown",
   "id": "3c262250",
   "metadata": {},
   "source": [
    "The size channel sets the size of the markers if the geometry is circle - where size sets the radius of the circles - or line - where size determines line width. It is ignored when using rectangle or area geometry. This is why we change the geometry to circle in the example."
   ]
  },
  {
   "cell_type": "code",
   "execution_count": 20,
   "id": "e5d66264",
   "metadata": {},
   "outputs": [
    {
     "data": {
      "text/html": [
       "\n",
       "<div id=\"myVizzu_140448721137728\" style=\"width:800px; height:480px;\" />\n",
       "<script type=\"module\">\n",
       "import Vizzu from 'https://cdn.jsdelivr.net/npm/vizzu@latest/dist/vizzu.min.js';\n",
       "\n",
       "let chart = new Vizzu('myVizzu_140448721137728');\n",
       "chart.initializing.then( chart => {\n",
       "\n",
       "chart.animate({\"data\": {\"dimensions\": [{\"name\": \"Genres\", \"values\": [\"Pop\", \"Rock\", \"Jazz\", \"Metal\"]}, {\"name\": \"Types\", \"values\": [\"Hard\", \"Smooth\", \"Experimental\"]}], \"measures\": [{\"name\": \"Popularity\", \"values\": [[114, 96, 78, 52], [56, 36, 174, 121], [127, 83, 94, 58]]}]}});\n",
       "chart.animate({\"config\": {\"channels\": {\"y\": {\"set\": \"Popularity\"}, \"x\": {\"set\": \"Genres\"}}}});\n",
       "chart.animate({\"config\": {\"channels\": {\"size\": {\"set\": [\"Popularity\"]}}, \"geometry\": \"circle\"}});\n",
       "} );\n",
       "</script>"
      ]
     },
     "metadata": {},
     "output_type": "display_data"
    }
   ],
   "source": [
    "import ipyvizzu\n",
    "\n",
    "data = ipyvizzu.Data()\n",
    "\n",
    "data.add_dimension('Genres', [ 'Pop', 'Rock', 'Jazz', 'Metal'])\n",
    "data.add_dimension('Types', [ 'Hard', 'Smooth', 'Experimental' ])\n",
    "\n",
    "data.add_measure(\n",
    "    'Popularity',\n",
    "    [\n",
    "        [114, 96, 78, 52],\n",
    "        [56, 36, 174, 121],\n",
    "        [127, 83, 94, 58],\n",
    "    ]\n",
    ")\n",
    "\n",
    "chart = ipyvizzu.Chart()\n",
    "chart.set_data(data)\n",
    "chart.set_config({\"channels\": {\"y\": {\"set\": \"Popularity\"}, \"x\": {\"set\": \"Genres\"}}})\n",
    "chart.set_config({\n",
    "    \"channels\": {\n",
    "        \"size\": {\"set\": [\"Popularity\"]}\n",
    "    },\n",
    "    \"geometry\": \"circle\"\n",
    "})\n",
    "chart.show()"
   ]
  },
  {
   "cell_type": "markdown",
   "id": "b849e313",
   "metadata": {},
   "source": [
    "## Group/stack\n",
    "\n",
    "When you add dimensions to the channels, there is a simple rule to keep in mind in the current beta phase of Vizzu. The following example also shows how to group and stack elements of a bar chart.\n",
    "\n",
    "The rule: When you add a dimension (Type) to a channel (x-axis) with only dimensions on it, Vizzu will fade between the states, as shown here. Thus, you get a grouped bar chart, but the connection between the original state and this one will be unclear for the viewer because of the fading."
   ]
  },
  {
   "cell_type": "code",
   "execution_count": 21,
   "id": "653a46e3",
   "metadata": {},
   "outputs": [
    {
     "data": {
      "text/html": [
       "\n",
       "<div id=\"myVizzu_140448721655584\" style=\"width:800px; height:480px;\" />\n",
       "<script type=\"module\">\n",
       "import Vizzu from 'https://cdn.jsdelivr.net/npm/vizzu@latest/dist/vizzu.min.js';\n",
       "\n",
       "let chart = new Vizzu('myVizzu_140448721655584');\n",
       "chart.initializing.then( chart => {\n",
       "\n",
       "chart.animate({\"data\": {\"dimensions\": [{\"name\": \"Genres\", \"values\": [\"Pop\", \"Rock\", \"Jazz\", \"Metal\"]}, {\"name\": \"Types\", \"values\": [\"Hard\", \"Smooth\", \"Experimental\"]}], \"measures\": [{\"name\": \"Popularity\", \"values\": [[114, 96, 78, 52], [56, 36, 174, 121], [127, 83, 94, 58]]}]}});\n",
       "chart.animate({\"config\": {\"channels\": {\"y\": {\"set\": \"Popularity\"}, \"x\": {\"set\": \"Genres\"}}}});\n",
       "chart.animate({\"config\": {\"channels\": {\"x\": {\"set\": [\"Genres\", \"Types\"]}, \"color\": {\"attach\": [\"Types\"]}}}});\n",
       "} );\n",
       "</script>"
      ]
     },
     "metadata": {},
     "output_type": "display_data"
    }
   ],
   "source": [
    "import ipyvizzu\n",
    "\n",
    "data = ipyvizzu.Data()\n",
    "\n",
    "data.add_dimension('Genres', [ 'Pop', 'Rock', 'Jazz', 'Metal'])\n",
    "data.add_dimension('Types', [ 'Hard', 'Smooth', 'Experimental' ])\n",
    "\n",
    "data.add_measure(\n",
    "    'Popularity',\n",
    "    [\n",
    "        [114, 96, 78, 52],\n",
    "        [56, 36, 174, 121],\n",
    "        [127, 83, 94, 58],\n",
    "    ]\n",
    ")\n",
    "\n",
    "chart = ipyvizzu.Chart()\n",
    "chart.set_data(data)\n",
    "chart.set_config({\"channels\": {\"y\": {\"set\": \"Popularity\"}, \"x\": {\"set\": \"Genres\"}}})\n",
    "chart.set_config({\n",
    "    \"channels\": {\n",
    "        \"x\": {\"set\": [\"Genres\", \"Types\"]},\n",
    "        \"color\": {\"attach\": [\"Types\"]},\n",
    "    },\n",
    "})\n",
    "chart.show()"
   ]
  },
  {
   "cell_type": "markdown",
   "id": "a65104ac",
   "metadata": {},
   "source": [
    "Let’s get back to the original state by removing the extra dimension - Vizzu will also simply fade between these states."
   ]
  },
  {
   "cell_type": "code",
   "execution_count": 22,
   "id": "8f0b83c4",
   "metadata": {},
   "outputs": [
    {
     "data": {
      "text/html": [
       "\n",
       "<div id=\"myVizzu_140448721654384\" style=\"width:800px; height:480px;\" />\n",
       "<script type=\"module\">\n",
       "import Vizzu from 'https://cdn.jsdelivr.net/npm/vizzu@latest/dist/vizzu.min.js';\n",
       "\n",
       "let chart = new Vizzu('myVizzu_140448721654384');\n",
       "chart.initializing.then( chart => {\n",
       "\n",
       "chart.animate({\"data\": {\"dimensions\": [{\"name\": \"Genres\", \"values\": [\"Pop\", \"Rock\", \"Jazz\", \"Metal\"]}, {\"name\": \"Types\", \"values\": [\"Hard\", \"Smooth\", \"Experimental\"]}], \"measures\": [{\"name\": \"Popularity\", \"values\": [[114, 96, 78, 52], [56, 36, 174, 121], [127, 83, 94, 58]]}]}});\n",
       "chart.animate({\"config\": {\"channels\": {\"y\": {\"set\": \"Popularity\"}, \"x\": {\"set\": \"Genres\"}}}});\n",
       "chart.animate({\"config\": {\"channels\": {\"x\": {\"set\": [\"Genres\", \"Types\"]}, \"color\": {\"attach\": [\"Types\"]}}}});\n",
       "chart.animate({\"config\": {\"channels\": {\"x\": {\"detach\": [\"Types\"]}, \"color\": {\"set\": null}}}});\n",
       "} );\n",
       "</script>"
      ]
     },
     "metadata": {},
     "output_type": "display_data"
    }
   ],
   "source": [
    "import ipyvizzu\n",
    "\n",
    "data = ipyvizzu.Data()\n",
    "\n",
    "data.add_dimension('Genres', [ 'Pop', 'Rock', 'Jazz', 'Metal'])\n",
    "data.add_dimension('Types', [ 'Hard', 'Smooth', 'Experimental' ])\n",
    "\n",
    "data.add_measure(\n",
    "    'Popularity',\n",
    "    [\n",
    "        [114, 96, 78, 52],\n",
    "        [56, 36, 174, 121],\n",
    "        [127, 83, 94, 58],\n",
    "    ]\n",
    ")\n",
    "\n",
    "chart = ipyvizzu.Chart()\n",
    "chart.set_data(data)\n",
    "chart.set_config({\"channels\": {\"y\": {\"set\": \"Popularity\"}, \"x\": {\"set\": \"Genres\"}}})\n",
    "chart.set_config({\n",
    "    \"channels\": {\n",
    "        \"x\": {\"set\": [\"Genres\", \"Types\"]},\n",
    "        \"color\": {\"attach\": [\"Types\"]},\n",
    "    },\n",
    "})\n",
    "chart.set_config({\n",
    "    \"channels\": {\n",
    "        \"x\": {\"detach\": [\"Types\"]},\n",
    "        \"color\": {\"set\": None},\n",
    "    },\n",
    "})\n",
    "\n",
    "chart.show()"
   ]
  },
  {
   "cell_type": "markdown",
   "id": "e2ebf669",
   "metadata": {},
   "source": [
    "The right way is to add the new dimension to the same channel where the measure is: the y-axis. However, since doing only this would result in multiple column chart elements with the same color stacked on top of each other, we also add the same dimension (Type) to the color channel."
   ]
  },
  {
   "cell_type": "code",
   "execution_count": 23,
   "id": "f7d17f21",
   "metadata": {},
   "outputs": [
    {
     "data": {
      "text/html": [
       "\n",
       "<div id=\"myVizzu_140448721660192\" style=\"width:800px; height:480px;\" />\n",
       "<script type=\"module\">\n",
       "import Vizzu from 'https://cdn.jsdelivr.net/npm/vizzu@latest/dist/vizzu.min.js';\n",
       "\n",
       "let chart = new Vizzu('myVizzu_140448721660192');\n",
       "chart.initializing.then( chart => {\n",
       "\n",
       "chart.animate({\"data\": {\"dimensions\": [{\"name\": \"Genres\", \"values\": [\"Pop\", \"Rock\", \"Jazz\", \"Metal\"]}, {\"name\": \"Types\", \"values\": [\"Hard\", \"Smooth\", \"Experimental\"]}], \"measures\": [{\"name\": \"Popularity\", \"values\": [[114, 96, 78, 52], [56, 36, 174, 121], [127, 83, 94, 58]]}]}});\n",
       "chart.animate({\"config\": {\"channels\": {\"y\": {\"set\": \"Popularity\"}, \"x\": {\"set\": \"Genres\"}}}});\n",
       "chart.animate({\"config\": {\"channels\": {\"y\": {\"attach\": [\"Types\"]}, \"color\": {\"attach\": [\"Types\"]}}}});\n",
       "} );\n",
       "</script>"
      ]
     },
     "metadata": {},
     "output_type": "display_data"
    }
   ],
   "source": [
    "import ipyvizzu\n",
    "\n",
    "data = ipyvizzu.Data()\n",
    "\n",
    "data.add_dimension('Genres', [ 'Pop', 'Rock', 'Jazz', 'Metal'])\n",
    "data.add_dimension('Types', [ 'Hard', 'Smooth', 'Experimental' ])\n",
    "\n",
    "data.add_measure(\n",
    "    'Popularity',\n",
    "    [\n",
    "        [114, 96, 78, 52],\n",
    "        [56, 36, 174, 121],\n",
    "        [127, 83, 94, 58],\n",
    "    ]\n",
    ")\n",
    "\n",
    "chart = ipyvizzu.Chart()\n",
    "chart.set_data(data)\n",
    "chart.set_config({\"channels\": {\"y\": {\"set\": \"Popularity\"}, \"x\": {\"set\": \"Genres\"}}})\n",
    "chart.set_config({\n",
    "    \"channels\": {\n",
    "        \"y\": {\"attach\": [\"Types\"]},\n",
    "        \"color\": {\"attach\": [\"Types\"]},\n",
    "    },\n",
    "})\n",
    "\n",
    "chart.show()"
   ]
  },
  {
   "cell_type": "markdown",
   "id": "9a7ec47a",
   "metadata": {},
   "source": [
    "By detaching this newly added dimension from the y-axis and attaching it to the x-axis, you get to the same grouped bar chart as in the first step but in a way that is easy to follow for the viewer."
   ]
  },
  {
   "cell_type": "code",
   "execution_count": 24,
   "id": "90804963",
   "metadata": {},
   "outputs": [
    {
     "data": {
      "text/html": [
       "\n",
       "<div id=\"myVizzu_140448721653616\" style=\"width:800px; height:480px;\" />\n",
       "<script type=\"module\">\n",
       "import Vizzu from 'https://cdn.jsdelivr.net/npm/vizzu@latest/dist/vizzu.min.js';\n",
       "\n",
       "let chart = new Vizzu('myVizzu_140448721653616');\n",
       "chart.initializing.then( chart => {\n",
       "\n",
       "chart.animate({\"data\": {\"dimensions\": [{\"name\": \"Genres\", \"values\": [\"Pop\", \"Rock\", \"Jazz\", \"Metal\"]}, {\"name\": \"Types\", \"values\": [\"Hard\", \"Smooth\", \"Experimental\"]}], \"measures\": [{\"name\": \"Popularity\", \"values\": [[114, 96, 78, 52], [56, 36, 174, 121], [127, 83, 94, 58]]}]}});\n",
       "chart.animate({\"config\": {\"channels\": {\"y\": {\"set\": \"Popularity\"}, \"x\": {\"set\": \"Genres\"}}}});\n",
       "chart.animate({\"config\": {\"channels\": {\"y\": {\"attach\": [\"Types\"]}, \"color\": {\"attach\": [\"Types\"]}}}});\n",
       "chart.animate({\"config\": {\"channels\": {\"y\": {\"detach\": [\"Types\"]}, \"x\": {\"attach\": [\"Types\"]}}}});\n",
       "} );\n",
       "</script>"
      ]
     },
     "metadata": {},
     "output_type": "display_data"
    }
   ],
   "source": [
    "import ipyvizzu\n",
    "\n",
    "data = ipyvizzu.Data()\n",
    "\n",
    "data.add_dimension('Genres', [ 'Pop', 'Rock', 'Jazz', 'Metal'])\n",
    "data.add_dimension('Types', [ 'Hard', 'Smooth', 'Experimental' ])\n",
    "\n",
    "data.add_measure(\n",
    "    'Popularity',\n",
    "    [\n",
    "        [114, 96, 78, 52],\n",
    "        [56, 36, 174, 121],\n",
    "        [127, 83, 94, 58],\n",
    "    ]\n",
    ")\n",
    "\n",
    "chart = ipyvizzu.Chart()\n",
    "chart.set_data(data)\n",
    "chart.set_config({\"channels\": {\"y\": {\"set\": \"Popularity\"}, \"x\": {\"set\": \"Genres\"}}})\n",
    "chart.set_config({\n",
    "    \"channels\": {\n",
    "        \"y\": {\"attach\": [\"Types\"]},\n",
    "        \"color\": {\"attach\": [\"Types\"]},\n",
    "    },\n",
    "})\n",
    "chart.set_config({\n",
    "    \"channels\": {\n",
    "        \"y\": {\"detach\": [\"Types\"]},\n",
    "        \"x\": {\"attach\": [\"Types\"]},\n",
    "    },\n",
    "})\n",
    "\n",
    "chart.show()"
   ]
  },
  {
   "cell_type": "markdown",
   "id": "9b312032",
   "metadata": {},
   "source": [
    "To stack a grouped chart, you just have to do the same thing the other way around: detach the dimension from the x-axis and attach it to the y-axis."
   ]
  },
  {
   "cell_type": "code",
   "execution_count": 28,
   "id": "701ff80f",
   "metadata": {},
   "outputs": [
    {
     "data": {
      "text/html": [
       "\n",
       "<div id=\"myVizzu_140448721652896\" style=\"width:800px; height:480px;\" />\n",
       "<script type=\"module\">\n",
       "import Vizzu from 'https://cdn.jsdelivr.net/npm/vizzu@latest/dist/vizzu.min.js';\n",
       "\n",
       "let chart = new Vizzu('myVizzu_140448721652896');\n",
       "chart.initializing.then( chart => {\n",
       "\n",
       "chart.animate({\"data\": {\"dimensions\": [{\"name\": \"Genres\", \"values\": [\"Pop\", \"Rock\", \"Jazz\", \"Metal\"]}, {\"name\": \"Types\", \"values\": [\"Hard\", \"Smooth\", \"Experimental\"]}], \"measures\": [{\"name\": \"Popularity\", \"values\": [[114, 96, 78, 52], [56, 36, 174, 121], [127, 83, 94, 58]]}]}});\n",
       "chart.animate({\"config\": {\"channels\": {\"y\": {\"set\": \"Popularity\"}, \"x\": {\"set\": \"Genres\"}}}});\n",
       "chart.animate({\"config\": {\"channels\": {\"y\": {\"attach\": [\"Types\"]}, \"color\": {\"attach\": [\"Types\"]}}}});\n",
       "chart.animate({\"config\": {\"channels\": {\"y\": {\"detach\": [\"Types\"]}, \"x\": {\"attach\": [\"Types\"]}}}});\n",
       "chart.animate({\"config\": {\"channels\": {\"y\": {\"attach\": [\"Types\"]}, \"x\": {\"detach\": [\"Types\"]}}}});\n",
       "} );\n",
       "</script>"
      ]
     },
     "metadata": {},
     "output_type": "display_data"
    }
   ],
   "source": [
    "import ipyvizzu\n",
    "\n",
    "data = ipyvizzu.Data()\n",
    "\n",
    "data.add_dimension('Genres', [ 'Pop', 'Rock', 'Jazz', 'Metal'])\n",
    "data.add_dimension('Types', [ 'Hard', 'Smooth', 'Experimental' ])\n",
    "\n",
    "data.add_measure(\n",
    "    'Popularity',\n",
    "    [\n",
    "        [114, 96, 78, 52],\n",
    "        [56, 36, 174, 121],\n",
    "        [127, 83, 94, 58],\n",
    "    ]\n",
    ")\n",
    "\n",
    "chart = ipyvizzu.Chart()\n",
    "chart.set_data(data)\n",
    "chart.set_config({\"channels\": {\"y\": {\"set\": \"Popularity\"}, \"x\": {\"set\": \"Genres\"}}})\n",
    "chart.set_config({\n",
    "    \"channels\": {\n",
    "        \"y\": {\"attach\": [\"Types\"]},\n",
    "        \"color\": {\"attach\": [\"Types\"]},\n",
    "    },\n",
    "})\n",
    "chart.set_config({\n",
    "    \"channels\": {\n",
    "        \"y\": {\"detach\": [\"Types\"]},\n",
    "        \"x\": {\"attach\": [\"Types\"]},\n",
    "    },\n",
    "})\n",
    "\n",
    "chart.set_config({\n",
    "    \"channels\": {\n",
    "        \"y\": {\"attach\": [\"Types\"]},\n",
    "        \"x\": {\"detach\": [\"Types\"]},\n",
    "    },\n",
    "})\n",
    "\n",
    "chart.show()"
   ]
  },
  {
   "cell_type": "markdown",
   "id": "216f8a16",
   "metadata": {},
   "source": [
    "## Sorting\n",
    "\n",
    "Vizzu provides multiple options to sort data. By default, the data is sorted by the order it is added to Vizzu. This is why we suggest to add temporal data such as dates in chronological order - from oldest to newest.\n",
    "\n",
    "You can also sort the elements by value, which will provide you with an ascending order."
   ]
  },
  {
   "cell_type": "code",
   "execution_count": 33,
   "id": "2090a7c9",
   "metadata": {},
   "outputs": [
    {
     "data": {
      "text/html": [
       "\n",
       "<div id=\"myVizzu_140448721660528\" style=\"width:800px; height:480px;\" />\n",
       "<script type=\"module\">\n",
       "import Vizzu from 'https://cdn.jsdelivr.net/npm/vizzu@latest/dist/vizzu.min.js';\n",
       "\n",
       "let chart = new Vizzu('myVizzu_140448721660528');\n",
       "chart.initializing.then( chart => {\n",
       "\n",
       "chart.animate({\"data\": {\"dimensions\": [{\"name\": \"Genres\", \"values\": [\"Pop\", \"Rock\", \"Jazz\", \"Metal\"]}, {\"name\": \"Types\", \"values\": [\"Hard\", \"Smooth\", \"Experimental\"]}], \"measures\": [{\"name\": \"Popularity\", \"values\": [[114, 96, 78, 52], [56, 36, 174, 121], [127, 83, 94, 58]]}]}});\n",
       "chart.animate({\"config\": {\"channels\": {\"y\": {\"set\": \"Popularity\"}, \"x\": {\"set\": \"Genres\"}}}});\n",
       "chart.animate({\"color\": \"Genres\"});\n",
       "chart.animate({\"config\": {\"sort\": \"byValue\"}});\n",
       "} );\n",
       "</script>"
      ]
     },
     "metadata": {},
     "output_type": "display_data"
    }
   ],
   "source": [
    "import ipyvizzu\n",
    "\n",
    "data = ipyvizzu.Data()\n",
    "\n",
    "data.add_dimension('Genres', [ 'Pop', 'Rock', 'Jazz', 'Metal'])\n",
    "data.add_dimension('Types', [ 'Hard', 'Smooth', 'Experimental' ])\n",
    "\n",
    "data.add_measure(\n",
    "    'Popularity',\n",
    "    [\n",
    "        [114, 96, 78, 52],\n",
    "        [56, 36, 174, 121],\n",
    "        [127, 83, 94, 58],\n",
    "    ]\n",
    ")\n",
    "\n",
    "chart = ipyvizzu.Chart()\n",
    "chart.set_data(data)\n",
    "chart.set_config({\"channels\": {\"y\": {\"set\": \"Popularity\"}, \"x\": {\"set\": \"Genres\"}}})\n",
    "chart.animate(color=\"Genres\")\n",
    "chart.set_config({\n",
    "    \"sort\": \"byValue\",\n",
    "})\n",
    "\n",
    "chart.show()"
   ]
  },
  {
   "cell_type": "markdown",
   "id": "bf8bfa5f",
   "metadata": {},
   "source": [
    "If you want descending order instead, you have to set the reverse parameter to true. When used without setting the sorting to byValue, the elements will be in the opposite order than they are in the data set added to Vizzu."
   ]
  },
  {
   "cell_type": "code",
   "execution_count": 34,
   "id": "ef468eba",
   "metadata": {},
   "outputs": [
    {
     "data": {
      "text/html": [
       "\n",
       "<div id=\"myVizzu_140448721655824\" style=\"width:800px; height:480px;\" />\n",
       "<script type=\"module\">\n",
       "import Vizzu from 'https://cdn.jsdelivr.net/npm/vizzu@latest/dist/vizzu.min.js';\n",
       "\n",
       "let chart = new Vizzu('myVizzu_140448721655824');\n",
       "chart.initializing.then( chart => {\n",
       "\n",
       "chart.animate({\"data\": {\"dimensions\": [{\"name\": \"Genres\", \"values\": [\"Pop\", \"Rock\", \"Jazz\", \"Metal\"]}, {\"name\": \"Types\", \"values\": [\"Hard\", \"Smooth\", \"Experimental\"]}], \"measures\": [{\"name\": \"Popularity\", \"values\": [[114, 96, 78, 52], [56, 36, 174, 121], [127, 83, 94, 58]]}]}});\n",
       "chart.animate({\"config\": {\"channels\": {\"y\": {\"set\": \"Popularity\"}, \"x\": {\"set\": \"Genres\"}}}});\n",
       "chart.animate({\"color\": \"Genres\"});\n",
       "chart.animate({\"config\": {\"sort\": \"byValue\", \"reverse\": true}});\n",
       "} );\n",
       "</script>"
      ]
     },
     "metadata": {},
     "output_type": "display_data"
    }
   ],
   "source": [
    "import ipyvizzu\n",
    "\n",
    "data = ipyvizzu.Data()\n",
    "\n",
    "data.add_dimension('Genres', [ 'Pop', 'Rock', 'Jazz', 'Metal'])\n",
    "data.add_dimension('Types', [ 'Hard', 'Smooth', 'Experimental' ])\n",
    "\n",
    "data.add_measure(\n",
    "    'Popularity',\n",
    "    [\n",
    "        [114, 96, 78, 52],\n",
    "        [56, 36, 174, 121],\n",
    "        [127, 83, 94, 58],\n",
    "    ]\n",
    ")\n",
    "\n",
    "chart = ipyvizzu.Chart()\n",
    "chart.set_data(data)\n",
    "chart.set_config({\"channels\": {\"y\": {\"set\": \"Popularity\"}, \"x\": {\"set\": \"Genres\"}}})\n",
    "chart.animate(color=\"Genres\")\n",
    "chart.set_config({\n",
    "    \"sort\": \"byValue\",\n",
    "    \"reverse\": True,\n",
    "})\n",
    "\n",
    "chart.show()"
   ]
  },
  {
   "cell_type": "markdown",
   "id": "ee41d7e8",
   "metadata": {},
   "source": [
    "This is how to switch back to the default sorting"
   ]
  },
  {
   "cell_type": "code",
   "execution_count": 35,
   "id": "4dc6d6a1",
   "metadata": {},
   "outputs": [
    {
     "data": {
      "text/html": [
       "\n",
       "<div id=\"myVizzu_140448721664128\" style=\"width:800px; height:480px;\" />\n",
       "<script type=\"module\">\n",
       "import Vizzu from 'https://cdn.jsdelivr.net/npm/vizzu@latest/dist/vizzu.min.js';\n",
       "\n",
       "let chart = new Vizzu('myVizzu_140448721664128');\n",
       "chart.initializing.then( chart => {\n",
       "\n",
       "chart.animate({\"data\": {\"dimensions\": [{\"name\": \"Genres\", \"values\": [\"Pop\", \"Rock\", \"Jazz\", \"Metal\"]}, {\"name\": \"Types\", \"values\": [\"Hard\", \"Smooth\", \"Experimental\"]}], \"measures\": [{\"name\": \"Popularity\", \"values\": [[114, 96, 78, 52], [56, 36, 174, 121], [127, 83, 94, 58]]}]}});\n",
       "chart.animate({\"config\": {\"channels\": {\"y\": {\"set\": \"Popularity\"}, \"x\": {\"set\": \"Genres\"}}}});\n",
       "chart.animate({\"color\": \"Genres\"});\n",
       "chart.animate({\"config\": {\"sort\": \"byValue\", \"reverse\": true}});\n",
       "chart.animate({\"config\": {\"sort\": \"none\", \"reverse\": false}});\n",
       "} );\n",
       "</script>"
      ]
     },
     "metadata": {},
     "output_type": "display_data"
    }
   ],
   "source": [
    "import ipyvizzu\n",
    "\n",
    "data = ipyvizzu.Data()\n",
    "\n",
    "data.add_dimension('Genres', [ 'Pop', 'Rock', 'Jazz', 'Metal'])\n",
    "data.add_dimension('Types', [ 'Hard', 'Smooth', 'Experimental' ])\n",
    "\n",
    "data.add_measure(\n",
    "    'Popularity',\n",
    "    [\n",
    "        [114, 96, 78, 52],\n",
    "        [56, 36, 174, 121],\n",
    "        [127, 83, 94, 58],\n",
    "    ]\n",
    ")\n",
    "\n",
    "chart = ipyvizzu.Chart()\n",
    "chart.set_data(data)\n",
    "chart.set_config({\"channels\": {\"y\": {\"set\": \"Popularity\"}, \"x\": {\"set\": \"Genres\"}}})\n",
    "chart.animate(color=\"Genres\")\n",
    "chart.set_config({\n",
    "    \"sort\": \"byValue\",\n",
    "    \"reverse\": True,\n",
    "})\n",
    "chart.set_config({\n",
    "    \"sort\": \"none\",\n",
    "    \"reverse\": False,\n",
    "})\n",
    "\n",
    "chart.show()"
   ]
  },
  {
   "cell_type": "markdown",
   "id": "faf2cf26",
   "metadata": {},
   "source": [
    "When you have more than one dimension on a channel, their order determines how the elements are grouped. "
   ]
  },
  {
   "cell_type": "code",
   "execution_count": 36,
   "id": "335b3bb3",
   "metadata": {},
   "outputs": [
    {
     "data": {
      "text/html": [
       "\n",
       "<div id=\"myVizzu_140448721652752\" style=\"width:800px; height:480px;\" />\n",
       "<script type=\"module\">\n",
       "import Vizzu from 'https://cdn.jsdelivr.net/npm/vizzu@latest/dist/vizzu.min.js';\n",
       "\n",
       "let chart = new Vizzu('myVizzu_140448721652752');\n",
       "chart.initializing.then( chart => {\n",
       "\n",
       "chart.animate({\"data\": {\"dimensions\": [{\"name\": \"Genres\", \"values\": [\"Pop\", \"Rock\", \"Jazz\", \"Metal\"]}, {\"name\": \"Types\", \"values\": [\"Hard\", \"Smooth\", \"Experimental\"]}], \"measures\": [{\"name\": \"Popularity\", \"values\": [[114, 96, 78, 52], [56, 36, 174, 121], [127, 83, 94, 58]]}]}});\n",
       "chart.animate({\"config\": {\"channels\": {\"y\": {\"set\": \"Popularity\"}, \"x\": {\"set\": \"Genres\"}}}});\n",
       "chart.animate({\"color\": \"Genres\"});\n",
       "chart.animate({\"config\": {\"channels\": {\"y\": {\"detach\": [\"Types\"]}, \"x\": {\"set\": [\"Genres\", \"Types\"]}}}});\n",
       "} );\n",
       "</script>"
      ]
     },
     "metadata": {},
     "output_type": "display_data"
    }
   ],
   "source": [
    "import ipyvizzu\n",
    "\n",
    "data = ipyvizzu.Data()\n",
    "\n",
    "data.add_dimension('Genres', [ 'Pop', 'Rock', 'Jazz', 'Metal'])\n",
    "data.add_dimension('Types', [ 'Hard', 'Smooth', 'Experimental' ])\n",
    "\n",
    "data.add_measure(\n",
    "    'Popularity',\n",
    "    [\n",
    "        [114, 96, 78, 52],\n",
    "        [56, 36, 174, 121],\n",
    "        [127, 83, 94, 58],\n",
    "    ]\n",
    ")\n",
    "\n",
    "chart = ipyvizzu.Chart()\n",
    "chart.set_data(data)\n",
    "chart.set_config({\"channels\": {\"y\": {\"set\": \"Popularity\"}, \"x\": {\"set\": \"Genres\"}}})\n",
    "chart.animate(color=\"Genres\")\n",
    "chart.set_config({\n",
    "    \"channels\": {\n",
    "        \"y\": {\"detach\": [\"Types\"]},\n",
    "        \"x\": {\"set\": [\"Genres\", \"Types\"]},\n",
    "    }\n",
    "})\n",
    "\n",
    "chart.show()"
   ]
  },
  {
   "cell_type": "markdown",
   "id": "502c5e83",
   "metadata": {},
   "source": [
    "When switching the order of dimensions on the x-axis Vizzu will rearrange the elements according to this new logic."
   ]
  },
  {
   "cell_type": "code",
   "execution_count": 37,
   "id": "f8b24dbf",
   "metadata": {},
   "outputs": [
    {
     "data": {
      "text/html": [
       "\n",
       "<div id=\"myVizzu_140448721137152\" style=\"width:800px; height:480px;\" />\n",
       "<script type=\"module\">\n",
       "import Vizzu from 'https://cdn.jsdelivr.net/npm/vizzu@latest/dist/vizzu.min.js';\n",
       "\n",
       "let chart = new Vizzu('myVizzu_140448721137152');\n",
       "chart.initializing.then( chart => {\n",
       "\n",
       "chart.animate({\"data\": {\"dimensions\": [{\"name\": \"Genres\", \"values\": [\"Pop\", \"Rock\", \"Jazz\", \"Metal\"]}, {\"name\": \"Types\", \"values\": [\"Hard\", \"Smooth\", \"Experimental\"]}], \"measures\": [{\"name\": \"Popularity\", \"values\": [[114, 96, 78, 52], [56, 36, 174, 121], [127, 83, 94, 58]]}]}});\n",
       "chart.animate({\"config\": {\"channels\": {\"y\": {\"set\": \"Popularity\"}, \"x\": {\"set\": \"Genres\"}}}});\n",
       "chart.animate({\"color\": \"Genres\"});\n",
       "chart.animate({\"config\": {\"channels\": {\"y\": {\"detach\": [\"Types\"]}, \"x\": {\"set\": [\"Genres\", \"Types\"]}}}});\n",
       "chart.animate({\"config\": {\"channels\": {\"x\": {\"set\": [\"Types\", \"Genres\"]}}}});\n",
       "} );\n",
       "</script>"
      ]
     },
     "metadata": {},
     "output_type": "display_data"
    }
   ],
   "source": [
    "import ipyvizzu\n",
    "\n",
    "data = ipyvizzu.Data()\n",
    "\n",
    "data.add_dimension('Genres', [ 'Pop', 'Rock', 'Jazz', 'Metal'])\n",
    "data.add_dimension('Types', [ 'Hard', 'Smooth', 'Experimental' ])\n",
    "\n",
    "data.add_measure(\n",
    "    'Popularity',\n",
    "    [\n",
    "        [114, 96, 78, 52],\n",
    "        [56, 36, 174, 121],\n",
    "        [127, 83, 94, 58],\n",
    "    ]\n",
    ")\n",
    "\n",
    "chart = ipyvizzu.Chart()\n",
    "chart.set_data(data)\n",
    "chart.set_config({\"channels\": {\"y\": {\"set\": \"Popularity\"}, \"x\": {\"set\": \"Genres\"}}})\n",
    "chart.animate(color=\"Genres\")\n",
    "chart.set_config({\n",
    "    \"channels\": {\n",
    "        \"y\": {\"detach\": [\"Types\"]},\n",
    "        \"x\": {\"set\": [\"Genres\", \"Types\"]},\n",
    "    }\n",
    "})\n",
    "chart.set_config({\n",
    "    \"channels\": {\n",
    "        \"x\": {\"set\": [\"Types\", \"Genres\"]},\n",
    "    }\n",
    "})\n",
    "\n",
    "chart.show()"
   ]
  }
 ],
 "metadata": {
  "kernelspec": {
   "display_name": "Python 3 (ipykernel)",
   "language": "python",
   "name": "python3"
  },
  "language_info": {
   "codemirror_mode": {
    "name": "ipython",
    "version": 3
   },
   "file_extension": ".py",
   "mimetype": "text/x-python",
   "name": "python",
   "nbconvert_exporter": "python",
   "pygments_lexer": "ipython3",
   "version": "3.10.1"
  }
 },
 "nbformat": 4,
 "nbformat_minor": 5
}
