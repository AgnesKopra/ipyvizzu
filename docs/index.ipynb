{
 "cells": [
  {
   "cell_type": "code",
   "execution_count": 1,
   "id": "c2644418",
   "metadata": {},
   "outputs": [
    {
     "data": {
      "text/html": [
       "\n",
       "<div id=\"myVizzu\" style=\"width:800px; height:480px;\" />\n",
       "<script type=\"module\">\n",
       "import Vizzu from 'https://cdn.jsdelivr.net/npm/vizzu@latest/dist/vizzu.min.js';\n",
       "\n",
       "let chart = new Vizzu('myVizzu');\n",
       "\n",
       "chart.animate({\"data\": {\"series\": [{\"name\": \"Foo\", \"values\": [\"Alice\", \"Bob\", \"Ted\"]}, {\"name\": \"Bar\", \"values\": [15, 32, 12]}, {\"name\": \"Baz\", \"values\": [5, 2, 2]}]}});\n",
       "chart.animate({\"x\": \"Foo\", \"y\": \"Bar\", \"color\": \"Foo\"});\n",
       "chart.animate({\"geometry\": \"circle\"});\n",
       "chart.animate({\"x\": \"Foo\", \"y\": \"Baz\", \"color\": \"Foo\"});\n",
       "chart.animate({\"geometry\": \"rectangle\"});\n",
       "</script>"
      ]
     },
     "metadata": {},
     "output_type": "display_data"
    }
   ],
   "source": [
    "import ipyvizzu\n",
    "\n",
    "data = ipyvizzu.Data()\n",
    "data.add_serie(\"Foo\", ['Alice', 'Bob', 'Ted'])\n",
    "data.add_serie(\"Bar\", [15, 32, 12])\n",
    "data.add_serie(\"Baz\", [5, 2, 2])\n",
    "\n",
    "chart = ipyvizzu.Chart()\n",
    "chart.set_data(data)\n",
    "\n",
    "chart.animate(x=\"Foo\", y=\"Bar\", color=\"Foo\")\n",
    "chart.animate(geometry=\"circle\")\n",
    "chart.animate(x=\"Foo\", y=\"Baz\", color=\"Foo\")\n",
    "chart.animate(geometry=\"rectangle\")\n",
    "\n",
    "chart.show()"
   ]
  }
 ],
 "metadata": {
  "kernelspec": {
   "display_name": "Python 3 (ipykernel)",
   "language": "python",
   "name": "python3"
  },
  "language_info": {
   "codemirror_mode": {
    "name": "ipython",
    "version": 3
   },
   "file_extension": ".py",
   "mimetype": "text/x-python",
   "name": "python",
   "nbconvert_exporter": "python",
   "pygments_lexer": "ipython3",
   "version": "3.10.1"
  }
 },
 "nbformat": 4,
 "nbformat_minor": 5
}
