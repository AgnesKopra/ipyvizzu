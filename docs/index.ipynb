{
 "cells": [
  {
   "cell_type": "markdown",
   "id": "c688d4ac",
   "metadata": {},
   "source": [
    "# ipyvizzu\n",
    "\n",
    "ipyvizzu is the [Jupyter Notebook](https://jupyter.org/) integration of Vizzu.\n",
    "\n",
    "# Vizzu\n",
    "\n",
    "[Vizzu](https://lib.vizzuhq.com/) is a free, open-source Javascript/C++ library utilizing a generic dataviz engine that generates many types of charts and seamlessly animates between them. It can be used to create static charts but more importantly it is designed for building animated data stories and interactive explorers as Vizzu enables showing different perspectives of the data that the viewers can easily follow due to the animation. Visit [Vizzu on Github](https://github.com/vizzuhq/vizzu-lib)."
   ]
  },
  {
   "cell_type": "code",
   "execution_count": 19,
   "id": "af20f729",
   "metadata": {},
   "outputs": [
    {
     "data": {
      "text/html": [
       "<script id=\"myVizzu_537ff94\">\n",
       "    document.inhibitScroll = false;\n",
       "    document.addEventListener('wheel', function (evt) { document.inhibitScroll = true }, true);\n",
       "    document.addEventListener('keydown', function (evt) { document.inhibitScroll = true }, true);\n",
       "    document.addEventListener('touchstart', function (evt) { document.inhibitScroll = true }, true);\n",
       "    let myVizzu_23eb59c = document.createElement(\"div\");\n",
       "    myVizzu_23eb59c.style.cssText = \"width: 800px; height: 480px;\";\n",
       "    let chart_23eb59c = import(\"https://cdn.jsdelivr.net/npm/vizzu@~0.4.0/dist/vizzu.min.js\").then(Vizzu => new Vizzu.default(myVizzu_23eb59c).initializing);\n",
       "    myVizzu_537ff94.parentNode.insertBefore(myVizzu_23eb59c, myVizzu_537ff94);\n",
       "</script>"
      ]
     },
     "metadata": {},
     "output_type": "display_data"
    },
    {
     "data": {
      "text/html": [
       "<script id=\"myVizzu_b6132be\">\n",
       "    let display_b6132be = myVizzu_b6132be.parentNode.parentNode.style.display;\n",
       "    myVizzu_b6132be.parentNode.parentNode.style.display = \"none\";\n",
       "    chart_23eb59c = chart_23eb59c.then(chart => {\n",
       "        if (myVizzu_23eb59c.parentNode && myVizzu_23eb59c.parentNode.parentNode) {\n",
       "            myVizzu_23eb59c.parentNode.parentNode.style.display = \"none\";\n",
       "        }\n",
       "        myVizzu_b6132be.parentNode.parentNode.style.display = display_b6132be;\n",
       "        myVizzu_b6132be.parentNode.insertBefore(myVizzu_23eb59c, myVizzu_b6132be);\n",
       "        if (!document.inhibitScroll && true) {\n",
       "            myVizzu_23eb59c.scrollIntoView({behavior: \"auto\", block: \"center\"});\n",
       "        }\n",
       "        return chart.animate({\"data\": {\"series\": [{\"name\": \"Foo\", \"values\": [\"Alice\", \"Bob\", \"Ted\"]}, {\"name\": \"Bar\", \"values\": [15, 32, 12]}, {\"name\": \"Baz\", \"values\": [5, 2, 2]}]}});\n",
       "    });\n",
       "</script>"
      ]
     },
     "metadata": {},
     "output_type": "display_data"
    },
    {
     "data": {
      "text/html": [
       "<script id=\"myVizzu_d9b0aa3\">\n",
       "    let display_d9b0aa3 = myVizzu_d9b0aa3.parentNode.parentNode.style.display;\n",
       "    myVizzu_d9b0aa3.parentNode.parentNode.style.display = \"none\";\n",
       "    chart_23eb59c = chart_23eb59c.then(chart => {\n",
       "        if (myVizzu_23eb59c.parentNode && myVizzu_23eb59c.parentNode.parentNode) {\n",
       "            myVizzu_23eb59c.parentNode.parentNode.style.display = \"none\";\n",
       "        }\n",
       "        myVizzu_d9b0aa3.parentNode.parentNode.style.display = display_d9b0aa3;\n",
       "        myVizzu_d9b0aa3.parentNode.insertBefore(myVizzu_23eb59c, myVizzu_d9b0aa3);\n",
       "        if (!document.inhibitScroll && true) {\n",
       "            myVizzu_23eb59c.scrollIntoView({behavior: \"auto\", block: \"center\"});\n",
       "        }\n",
       "        return chart.animate({\"config\": {\"x\": \"Foo\", \"y\": \"Bar\", \"color\": \"Foo\"}});\n",
       "    });\n",
       "</script>"
      ]
     },
     "metadata": {},
     "output_type": "display_data"
    },
    {
     "data": {
      "text/html": [
       "<script id=\"myVizzu_05bb7e1\">\n",
       "    let display_05bb7e1 = myVizzu_05bb7e1.parentNode.parentNode.style.display;\n",
       "    myVizzu_05bb7e1.parentNode.parentNode.style.display = \"none\";\n",
       "    chart_23eb59c = chart_23eb59c.then(chart => {\n",
       "        if (myVizzu_23eb59c.parentNode && myVizzu_23eb59c.parentNode.parentNode) {\n",
       "            myVizzu_23eb59c.parentNode.parentNode.style.display = \"none\";\n",
       "        }\n",
       "        myVizzu_05bb7e1.parentNode.parentNode.style.display = display_05bb7e1;\n",
       "        myVizzu_05bb7e1.parentNode.insertBefore(myVizzu_23eb59c, myVizzu_05bb7e1);\n",
       "        if (!document.inhibitScroll && true) {\n",
       "            myVizzu_23eb59c.scrollIntoView({behavior: \"auto\", block: \"center\"});\n",
       "        }\n",
       "        return chart.animate({\"config\": {\"geometry\": \"circle\"}});\n",
       "    });\n",
       "</script>"
      ]
     },
     "metadata": {},
     "output_type": "display_data"
    },
    {
     "data": {
      "text/html": [
       "<script id=\"myVizzu_317f362\">\n",
       "    let display_317f362 = myVizzu_317f362.parentNode.parentNode.style.display;\n",
       "    myVizzu_317f362.parentNode.parentNode.style.display = \"none\";\n",
       "    chart_23eb59c = chart_23eb59c.then(chart => {\n",
       "        if (myVizzu_23eb59c.parentNode && myVizzu_23eb59c.parentNode.parentNode) {\n",
       "            myVizzu_23eb59c.parentNode.parentNode.style.display = \"none\";\n",
       "        }\n",
       "        myVizzu_317f362.parentNode.parentNode.style.display = display_317f362;\n",
       "        myVizzu_317f362.parentNode.insertBefore(myVizzu_23eb59c, myVizzu_317f362);\n",
       "        if (!document.inhibitScroll && true) {\n",
       "            myVizzu_23eb59c.scrollIntoView({behavior: \"auto\", block: \"center\"});\n",
       "        }\n",
       "        return chart.animate({\"config\": {\"x\": \"Foo\", \"y\": \"Baz\", \"color\": \"Foo\"}});\n",
       "    });\n",
       "</script>"
      ]
     },
     "metadata": {},
     "output_type": "display_data"
    },
    {
     "data": {
      "text/html": [
       "<script id=\"myVizzu_3e8ad5d\">\n",
       "    let display_3e8ad5d = myVizzu_3e8ad5d.parentNode.parentNode.style.display;\n",
       "    myVizzu_3e8ad5d.parentNode.parentNode.style.display = \"none\";\n",
       "    chart_23eb59c = chart_23eb59c.then(chart => {\n",
       "        if (myVizzu_23eb59c.parentNode && myVizzu_23eb59c.parentNode.parentNode) {\n",
       "            myVizzu_23eb59c.parentNode.parentNode.style.display = \"none\";\n",
       "        }\n",
       "        myVizzu_3e8ad5d.parentNode.parentNode.style.display = display_3e8ad5d;\n",
       "        myVizzu_3e8ad5d.parentNode.insertBefore(myVizzu_23eb59c, myVizzu_3e8ad5d);\n",
       "        if (!document.inhibitScroll && true) {\n",
       "            myVizzu_23eb59c.scrollIntoView({behavior: \"auto\", block: \"center\"});\n",
       "        }\n",
       "        return chart.animate({\"config\": {\"geometry\": \"rectangle\"}});\n",
       "    });\n",
       "</script>"
      ]
     },
     "metadata": {},
     "output_type": "display_data"
    }
   ],
   "source": [
    "#sample\n",
    "import pandas as pd\n",
    "from ipyvizzu import Chart, Data, Config, Style\n",
    "\n",
    "data_frame = pd.read_csv('./titanic.csv')\n",
    "data = Data()\n",
    "data.add_data_frame(data_frame)\n",
    "\n",
    "chart = Chart()\n",
    "\n",
    "chart.animate(data)\n",
    "\n",
    "chart.animate(Config({\"x\": \"Count\", \"y\": \"Sex\", \"label\": \"Count\",\"title\":\"Passengers of the Titanic\"}))\n",
    "chart.animate(Config({\"x\": [\"Count\",\"Survived\"], \"label\": [\"Count\",\"Survived\"], \"color\": \"Survived\"}))\n"
   ]
  },
  {
   "cell_type": "code",
   "execution_count": null,
   "id": "a2bcd26e",
   "metadata": {},
   "outputs": [],
   "source": [
    "chart.animate(Config({\"x\": \"Count\", \"y\": [\"Sex\",\"Survived\"]}))\n"
   ]
  },
  {
   "cell_type": "markdown",
   "id": "f07fd301",
   "metadata": {},
   "source": [
    "**Note:** `Chart` only generates the Javascript code, the Vizzu calls are evaluated by the browser. Therefore if a blank space appears where the vizzu should be, check the console of your browser where the Javascript lib reports its errors.\n",
    "\n",
    "# Installation\n",
    "\n",
    "ipyvizzu requires the `IPython` and `NumPy` packages.\n",
    "The `notebook` project has to be installed as ipyvizzu can only be used within a Jupyter Notebook.\n",
    "\n",
    "```python\n",
    "pip install ipyvizzu\n",
    "pip install notebook\n",
    "```\n",
    "You can also use local installation, there's more info about this in the [Intro](tutorial/intro.html) section of the documentation.\n",
    "\n",
    "# Documentation\n",
    "\n",
    "Description of the different options available when using ipyvizzu\n",
    "\n",
    "* [ipyvizzu options](options.html)\n",
    "\n",
    "The following tutorial is an excellent place to start using ipyvizzu, as it walks you through the installation, introduces the logic ipyvizzu employs and the different settings to control how your charts look and behave.\n",
    "\n",
    "* [Intro](tutorial/intro.html)\n",
    "* [Data](tutorial/data.html)\n",
    "* [Axes, title, tooltip](tutorial/axes.html)\n",
    "* [Geometry](tutorial/geometry.html)\n",
    "* [Channels & legend](tutorial/channels.html)\n",
    "* [Group/stack](tutorial/group.html)\n",
    "* [Sorting](tutorial/sorting.html)\n",
    "* [Align & range](tutorial/align.html)\n",
    "* [Aggregate/drill-down](tutorial/aggregate.html)\n",
    "* [Orientation, split & polar](tutorial/orientation.html)\n",
    "* [Filtering & adding new records](tutorial/filter.html)\n",
    "* [Without coordinates & noop channel](tutorial/without_coordinates.html)\n",
    "* [Color palette & fonts](tutorial/palette_font.html)\n",
    "* [Chart layout](tutorial/layout.html)\n",
    "* [Animation options](tutorial/animation_options.html)"
   ]
  }
 ],
 "metadata": {
  "interpreter": {
   "hash": "ac66d1bd39984e4519ceb3060cabedab691f867d7b44eada92a2f40d8a64edd1"
  },
  "kernelspec": {
   "display_name": ".venv",
   "language": "python",
   "name": ".venv"
  },
  "language_info": {
   "codemirror_mode": {
    "name": "ipython",
    "version": 3
   },
   "file_extension": ".py",
   "mimetype": "text/x-python",
   "name": "python",
   "nbconvert_exporter": "python",
   "pygments_lexer": "ipython3",
   "version": "3.9.12"
  }
 },
 "nbformat": 4,
 "nbformat_minor": 5
}
