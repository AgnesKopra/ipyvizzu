{
 "cells": [
  {
   "cell_type": "markdown",
   "id": "c688d4ac",
   "metadata": {},
   "source": [
    "# vizzu\n",
    "\n",
    "[Vizzu](https://lib.vizzuhq.com/) is a free, open-source Javascript/C++ library utilizing a generic dataviz engine that generates many types of charts and seamlessly animates between them. It can be used to create static charts but more importantly it is designed for building animated data stories and interactive explorers as Vizzu enables showing different perspectives of the data that the viewers can easily follow due to the animation.\n",
    "\n",
    "\n",
    "\n",
    "# ipyvizzu\n",
    "\n",
    "ipyvizzu is a [jupyter notebook](https://jupyter.org/) integration for the vizzu project. ipyvizzu works only in the jupyter notebook environment."
   ]
  },
  {
   "cell_type": "code",
   "execution_count": 1,
   "id": "af20f729",
   "metadata": {},
   "outputs": [
    {
     "data": {
      "text/html": [
       "<script>\n",
       "    let myVizzu_6e5ae07 = document.createElement(\"div\");\n",
       "    myVizzu_6e5ae07.style.cssText = \"width: 800px; height: 480px;\";\n",
       "    let chart_6e5ae07 = import(\"https://cdn.jsdelivr.net/npm/vizzu@~0.4.0/dist/vizzu.min.js\").then(Vizzu => new Vizzu.default(myVizzu_6e5ae07).initializing);\n",
       "</script>"
      ]
     },
     "metadata": {},
     "output_type": "display_data"
    },
    {
     "data": {
      "text/html": [
       "<script id=\"myVizzu_5942663\">\n",
       "    chart_6e5ae07 = chart_6e5ae07.then(chart => {\n",
       "        let script = document.getElementById(\"myVizzu_5942663\");\n",
       "        if (myVizzu_6e5ae07.parentNode && myVizzu_6e5ae07.parentNode.parentNode) {\n",
       "            let display = myVizzu_6e5ae07.parentNode.parentNode.style.display;\n",
       "            myVizzu_6e5ae07.parentNode.parentNode.style.display = \"none\";\n",
       "            script.parentNode.parentNode.style.display = display;\n",
       "        }\n",
       "        script.parentNode.insertBefore(myVizzu_6e5ae07, script);\n",
       "        return chart.animate({\"data\": {\"series\": [{\"name\": \"Foo\", \"values\": [\"Alice\", \"Bob\", \"Ted\"]}, {\"name\": \"Bar\", \"values\": [15, 32, 12]}, {\"name\": \"Baz\", \"values\": [5, 2, 2]}]}});\n",
       "    });\n",
       "</script>"
      ]
     },
     "metadata": {},
     "output_type": "display_data"
    },
    {
     "data": {
      "text/html": [
       "<script id=\"myVizzu_f93cd66\">\n",
       "    chart_6e5ae07 = chart_6e5ae07.then(chart => {\n",
       "        let script = document.getElementById(\"myVizzu_f93cd66\");\n",
       "        if (myVizzu_6e5ae07.parentNode && myVizzu_6e5ae07.parentNode.parentNode) {\n",
       "            let display = myVizzu_6e5ae07.parentNode.parentNode.style.display;\n",
       "            myVizzu_6e5ae07.parentNode.parentNode.style.display = \"none\";\n",
       "            script.parentNode.parentNode.style.display = display;\n",
       "        }\n",
       "        script.parentNode.insertBefore(myVizzu_6e5ae07, script);\n",
       "        return chart.animate({\"config\": {\"x\": \"Foo\", \"y\": \"Bar\", \"color\": \"Foo\"}});\n",
       "    });\n",
       "</script>"
      ]
     },
     "metadata": {},
     "output_type": "display_data"
    },
    {
     "data": {
      "text/html": [
       "<script id=\"myVizzu_4bf0369\">\n",
       "    chart_6e5ae07 = chart_6e5ae07.then(chart => {\n",
       "        let script = document.getElementById(\"myVizzu_4bf0369\");\n",
       "        if (myVizzu_6e5ae07.parentNode && myVizzu_6e5ae07.parentNode.parentNode) {\n",
       "            let display = myVizzu_6e5ae07.parentNode.parentNode.style.display;\n",
       "            myVizzu_6e5ae07.parentNode.parentNode.style.display = \"none\";\n",
       "            script.parentNode.parentNode.style.display = display;\n",
       "        }\n",
       "        script.parentNode.insertBefore(myVizzu_6e5ae07, script);\n",
       "        return chart.animate({\"config\": {\"geometry\": \"circle\"}});\n",
       "    });\n",
       "</script>"
      ]
     },
     "metadata": {},
     "output_type": "display_data"
    },
    {
     "data": {
      "text/html": [
       "<script id=\"myVizzu_49f63a5\">\n",
       "    chart_6e5ae07 = chart_6e5ae07.then(chart => {\n",
       "        let script = document.getElementById(\"myVizzu_49f63a5\");\n",
       "        if (myVizzu_6e5ae07.parentNode && myVizzu_6e5ae07.parentNode.parentNode) {\n",
       "            let display = myVizzu_6e5ae07.parentNode.parentNode.style.display;\n",
       "            myVizzu_6e5ae07.parentNode.parentNode.style.display = \"none\";\n",
       "            script.parentNode.parentNode.style.display = display;\n",
       "        }\n",
       "        script.parentNode.insertBefore(myVizzu_6e5ae07, script);\n",
       "        return chart.animate({\"config\": {\"x\": \"Foo\", \"y\": \"Baz\", \"color\": \"Foo\"}});\n",
       "    });\n",
       "</script>"
      ]
     },
     "metadata": {},
     "output_type": "display_data"
    },
    {
     "data": {
      "text/html": [
       "<script id=\"myVizzu_d4986b7\">\n",
       "    chart_6e5ae07 = chart_6e5ae07.then(chart => {\n",
       "        let script = document.getElementById(\"myVizzu_d4986b7\");\n",
       "        if (myVizzu_6e5ae07.parentNode && myVizzu_6e5ae07.parentNode.parentNode) {\n",
       "            let display = myVizzu_6e5ae07.parentNode.parentNode.style.display;\n",
       "            myVizzu_6e5ae07.parentNode.parentNode.style.display = \"none\";\n",
       "            script.parentNode.parentNode.style.display = display;\n",
       "        }\n",
       "        script.parentNode.insertBefore(myVizzu_6e5ae07, script);\n",
       "        return chart.animate({\"config\": {\"geometry\": \"rectangle\"}});\n",
       "    });\n",
       "</script>"
      ]
     },
     "metadata": {},
     "output_type": "display_data"
    }
   ],
   "source": [
    "from ipyvizzu import Chart, Data, Config\n",
    "\n",
    "data = Data()\n",
    "data.add_series(\"Foo\", ['Alice', 'Bob', 'Ted'])\n",
    "data.add_series(\"Bar\", [15, 32, 12])\n",
    "data.add_series(\"Baz\", [5, 2, 2])\n",
    "\n",
    "chart = Chart()\n",
    "chart.animate(data)\n",
    "\n",
    "chart.animate(Config({\"x\": \"Foo\", \"y\": \"Bar\", \"color\": \"Foo\"}))\n",
    "chart.animate(Config({\"geometry\": \"circle\"}))\n",
    "chart.animate(Config({\"x\": \"Foo\", \"y\": \"Baz\", \"color\": \"Foo\"}))\n",
    "chart.animate(Config({\"geometry\": \"rectangle\"}))"
   ]
  },
  {
   "cell_type": "markdown",
   "id": "f07fd301",
   "metadata": {},
   "source": [
    "**Note:** `Chart` only generates a javascript code. The vizzu calls are evaulated by the browser. Therefore if the vizzu figure is blank you should check the console of your browser where the javascript reports its errors.\n",
    "\n",
    "* [ipyvizzu options](options.html)\n",
    "\n",
    "The examples bellow are copied from the [vizzu tutorial](https://lib.vizzuhq.com/0.4/). You can read more information from there.\n",
    "* [Data](examples/data.html)\n",
    "* [Axes, title, tooltip](examples/axes.html)\n",
    "* [Geometry](examples/geometry.html)\n",
    "* [Channels & legend](examples/channels.html)\n",
    "* [Group/stack](examples/group.html)\n",
    "* [Sorting](examples/sorting.html)\n",
    "* [Align & range](examples/align.html)\n",
    "* [Aggregate/drill-down](examples/aggregate.html)\n",
    "* [Orientation, split & polar](examples/orientation.html)\n",
    "* [Without coordinates & noop channel](examples/without_coordinates.html)\n",
    "* [Color palette & fonts](examples/palette_font.html)\n",
    "* [Chart layout](examples/layout.html)\n",
    "* [Animation options](examples/animation_options.html)"
   ]
  }
 ],
 "metadata": {
  "kernelspec": {
   "display_name": "Python 3 (ipykernel)",
   "language": "python",
   "name": "python3"
  },
  "language_info": {
   "codemirror_mode": {
    "name": "ipython",
    "version": 3
   },
   "file_extension": ".py",
   "mimetype": "text/x-python",
   "name": "python",
   "nbconvert_exporter": "python",
   "pygments_lexer": "ipython3",
   "version": "3.8.10"
  }
 },
 "nbformat": 4,
 "nbformat_minor": 5
}
