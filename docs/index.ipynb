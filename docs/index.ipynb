{
 "cells": [
  {
   "cell_type": "markdown",
   "id": "c688d4ac",
   "metadata": {},
   "source": [
    "# vizzu\n",
    "\n",
    "[Vizzu](https://lib.vizzuhq.com/) is a free, open-source Javascript/C++ library utilizing a generic dataviz engine that generates many types of charts and seamlessly animates between them. It can be used to create static charts but more importantly it is designed for building animated data stories and interactive explorers as Vizzu enables showing different perspectives of the data that the viewers can easily follow due to the animation.\n",
    "\n",
    "\n",
    "\n",
    "# ipyvizzu\n",
    "\n",
    "ipyvizzu is a [jupyter notebook](https://jupyter.org/) integration for the vizzu project. ipyvizzu works only in the jupyter notebook environment."
   ]
  },
  {
   "cell_type": "code",
   "execution_count": 1,
   "id": "af20f729",
   "metadata": {},
   "outputs": [
    {
     "data": {
      "text/html": [
       "<script id=\"myVizzu_ea3c35f\">\n",
       "        document.getElementById(\"myVizzu_ea3c35f\").parentNode.style.padding = \"0px\";\n",
       "        </script>\n",
       "<div id=\"myVizzu_4bc50fc\" style=\"width:800px; height:480px;\"/>\n",
       "        <script>\n",
       "        let myVizzu_4bc50fc = document.getElementById(\"myVizzu_4bc50fc\")\n",
       "        let chart_4bc50fc = import(\"https://cdn.jsdelivr.net/npm/vizzu@~0.4.0/dist/vizzu.min.js\").then(Vizzu => new Vizzu.default(\"myVizzu_4bc50fc\").initializing);\n",
       "        </script>"
      ]
     },
     "metadata": {},
     "output_type": "display_data"
    },
    {
     "data": {
      "text/html": [
       "<script id=\"myVizzu_c7697d3\">\n",
       "        document.getElementById(\"myVizzu_c7697d3\").parentNode.style.padding = \"0px\";\n",
       "        </script>\n",
       "<div id=\"myVizzu_81ef174\"/>\n",
       "        <script>\n",
       "        \n",
       "        chart_4bc50fc = chart_4bc50fc.then(chart => {\n",
       "            document.getElementById(\"myVizzu_81ef174\").appendChild(myVizzu_4bc50fc);\n",
       "            return chart.animate({\"data\": {\"series\": [{\"name\": \"Foo\", \"values\": [\"Alice\", \"Bob\", \"Ted\"]}, {\"name\": \"Bar\", \"values\": [15, 32, 12]}, {\"name\": \"Baz\", \"values\": [5, 2, 2]}]}})\n",
       "        });\n",
       "        </script>"
      ]
     },
     "metadata": {},
     "output_type": "display_data"
    },
    {
     "data": {
      "text/html": [
       "<script id=\"myVizzu_88cb06b\">\n",
       "        document.getElementById(\"myVizzu_88cb06b\").parentNode.style.padding = \"0px\";\n",
       "        </script>\n",
       "<div id=\"myVizzu_a393236\"/>\n",
       "        <script>\n",
       "        \n",
       "        chart_4bc50fc = chart_4bc50fc.then(chart => {\n",
       "            document.getElementById(\"myVizzu_a393236\").appendChild(myVizzu_4bc50fc);\n",
       "            return chart.animate({\"config\": {\"x\": \"Foo\", \"y\": \"Bar\", \"color\": \"Foo\"}})\n",
       "        });\n",
       "        </script>"
      ]
     },
     "metadata": {},
     "output_type": "display_data"
    },
    {
     "data": {
      "text/html": [
       "<script id=\"myVizzu_83bb4aa\">\n",
       "        document.getElementById(\"myVizzu_83bb4aa\").parentNode.style.padding = \"0px\";\n",
       "        </script>\n",
       "<div id=\"myVizzu_628d398\"/>\n",
       "        <script>\n",
       "        \n",
       "        chart_4bc50fc = chart_4bc50fc.then(chart => {\n",
       "            document.getElementById(\"myVizzu_628d398\").appendChild(myVizzu_4bc50fc);\n",
       "            return chart.animate({\"config\": {\"geometry\": \"circle\"}})\n",
       "        });\n",
       "        </script>"
      ]
     },
     "metadata": {},
     "output_type": "display_data"
    },
    {
     "data": {
      "text/html": [
       "<script id=\"myVizzu_c175937\">\n",
       "        document.getElementById(\"myVizzu_c175937\").parentNode.style.padding = \"0px\";\n",
       "        </script>\n",
       "<div id=\"myVizzu_5df8457\"/>\n",
       "        <script>\n",
       "        \n",
       "        chart_4bc50fc = chart_4bc50fc.then(chart => {\n",
       "            document.getElementById(\"myVizzu_5df8457\").appendChild(myVizzu_4bc50fc);\n",
       "            return chart.animate({\"config\": {\"x\": \"Foo\", \"y\": \"Baz\", \"color\": \"Foo\"}})\n",
       "        });\n",
       "        </script>"
      ]
     },
     "metadata": {},
     "output_type": "display_data"
    },
    {
     "data": {
      "text/html": [
       "<script id=\"myVizzu_fa1b860\">\n",
       "        document.getElementById(\"myVizzu_fa1b860\").parentNode.style.padding = \"0px\";\n",
       "        </script>\n",
       "<div id=\"myVizzu_300ad88\"/>\n",
       "        <script>\n",
       "        \n",
       "        chart_4bc50fc = chart_4bc50fc.then(chart => {\n",
       "            document.getElementById(\"myVizzu_300ad88\").appendChild(myVizzu_4bc50fc);\n",
       "            return chart.animate({\"config\": {\"geometry\": \"rectangle\"}})\n",
       "        });\n",
       "        </script>"
      ]
     },
     "metadata": {},
     "output_type": "display_data"
    }
   ],
   "source": [
    "from ipyvizzu import Chart, Data, Config\n",
    "\n",
    "data = Data()\n",
    "data.add_series(\"Foo\", ['Alice', 'Bob', 'Ted'])\n",
    "data.add_series(\"Bar\", [15, 32, 12])\n",
    "data.add_series(\"Baz\", [5, 2, 2])\n",
    "\n",
    "chart = Chart()\n",
    "chart.animate(data)\n",
    "\n",
    "chart.animate(Config({\"x\": \"Foo\", \"y\": \"Bar\", \"color\": \"Foo\"}))\n",
    "chart.animate(Config({\"geometry\": \"circle\"}))\n",
    "chart.animate(Config({\"x\": \"Foo\", \"y\": \"Baz\", \"color\": \"Foo\"}))\n",
    "chart.animate(Config({\"geometry\": \"rectangle\"}))"
   ]
  },
  {
   "cell_type": "markdown",
   "id": "f07fd301",
   "metadata": {},
   "source": [
    "**Note:** `Chart.show(...)` only generates a javascript code. The vizzu calls are evaulated by the browser. Therefore if the vizzu figure is blank you should check the console of your browser where the javascript reports its errors.\n",
    "\n",
    "The examples bellow are copied from the [vizzu tutorial](https://lib.vizzuhq.com/0.4/). You can read more information from there.\n",
    "* [Data](examples/data.html)\n",
    "* [Axes, title, tooltip](examples/axes.html)\n",
    "* [Geometry](examples/geometry.html)\n",
    "* [Channels & legend](examples/channels.html)\n",
    "* [Group/stack](examples/group.html)\n",
    "* [Sorting](examples/sorting.html)\n",
    "* [Align & range](examples/align.html)\n",
    "* [Aggregate/drill-down](examples/aggregate.html)\n",
    "* [Orientation, split & polar](examples/orientation.html)\n",
    "* [Without coordinates & noop channel](examples/without_coordinates.html)\n",
    "* [Color palette & fonts](examples/palette_font.html)\n",
    "* [Chart layout](examples/layout.html)\n",
    "* [Animation options](examples/animation_options.html)"
   ]
  }
 ],
 "metadata": {
  "kernelspec": {
   "display_name": "Python 3 (ipykernel)",
   "language": "python",
   "name": "python3"
  },
  "language_info": {
   "codemirror_mode": {
    "name": "ipython",
    "version": 3
   },
   "file_extension": ".py",
   "mimetype": "text/x-python",
   "name": "python",
   "nbconvert_exporter": "python",
   "pygments_lexer": "ipython3",
   "version": "3.8.10"
  }
 },
 "nbformat": 4,
 "nbformat_minor": 5
}
