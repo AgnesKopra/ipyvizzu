{
 "cells": [
  {
   "cell_type": "markdown",
   "id": "c688d4ac",
   "metadata": {},
   "source": [
    "# vizzu\n",
    "\n",
    "[Vizzu](https://lib.vizzuhq.com/) is a free, open-source Javascript/C++ library utilizing a generic dataviz engine that generates many types of charts and seamlessly animates between them. It can be used to create static charts but more importantly it is designed for building animated data stories and interactive explorers as Vizzu enables showing different perspectives of the data that the viewers can easily follow due to the animation.\n",
    "\n",
    "\n",
    "\n",
    "# ipyvizzu\n",
    "\n",
    "ipyvizzu is a [jupyter notebook](https://jupyter.org/) integration for the vizzu project. ipyvizzu works only in the jupyter notebook environment."
   ]
  },
  {
   "cell_type": "code",
   "execution_count": 1,
   "id": "af20f729",
   "metadata": {},
   "outputs": [
    {
     "data": {
      "text/html": [
       "\n",
       "<div id=\"myVizzu_140281895238672\" style=\"width:800px; height:480px;\" />\n",
       "<script type=\"module\">\n",
       "import Vizzu from 'https://cdn.jsdelivr.net/npm/vizzu@latest/dist/vizzu.min.js';\n",
       "\n",
       "let chart = new Vizzu('myVizzu_140281895238672');\n",
       "chart.initializing.then( chart => {\n",
       "\n",
       "chart.animate({\"data\": {\"series\": [{\"name\": \"Foo\", \"values\": [\"Alice\", \"Bob\", \"Ted\"]}, {\"name\": \"Bar\", \"values\": [15, 32, 12]}, {\"name\": \"Baz\", \"values\": [5, 2, 2]}]}});\n",
       "chart.animate({\"x\": \"Foo\", \"y\": \"Bar\", \"color\": \"Foo\"});\n",
       "chart.animate({\"geometry\": \"circle\"});\n",
       "chart.animate({\"x\": \"Foo\", \"y\": \"Baz\", \"color\": \"Foo\"});\n",
       "chart.animate({\"geometry\": \"rectangle\"});\n",
       "} );\n",
       "</script>"
      ]
     },
     "metadata": {},
     "output_type": "display_data"
    }
   ],
   "source": [
    "from ipyvizzu import Chart, Data, Config\n",
    "\n",
    "data = Data()\n",
    "data.add_serie(\"Foo\", ['Alice', 'Bob', 'Ted'])\n",
    "data.add_serie(\"Bar\", [15, 32, 12])\n",
    "data.add_serie(\"Baz\", [5, 2, 2])\n",
    "\n",
    "chart = Chart()\n",
    "chart.animate(data)\n",
    "\n",
    "chart.animate(x=\"Foo\", y=\"Bar\", color=\"Foo\")\n",
    "chart.animate(geometry=\"circle\")\n",
    "chart.animate(x=\"Foo\", y=\"Baz\", color=\"Foo\")\n",
    "chart.animate(geometry=\"rectangle\")\n",
    "\n",
    "chart.show()"
   ]
  },
  {
   "cell_type": "markdown",
   "id": "f07fd301",
   "metadata": {},
   "source": [
    "**Note:** `Chart.show(...)` only generates a javascript code. The vizzu calls are evaulated by the browser. Therefore if the vizzu figure is blank you should check the console of your browser where the javascript reports its errors.\n",
    "\n",
    "The examples bellow are copied from the [vizzu tutorial](https://lib.vizzuhq.com/0.4/). You can read more information from there.\n",
    "* [Data](examples/data.html)\n",
    "* [Axes, title, tooltip](examples/axes.html)\n",
    "* [Geometry](examples/geometry.html)\n",
    "* [Channels & legend](examples/channels.html)\n",
    "* [Group/stack](examples/group.html)\n",
    "* [Sorting](examples/sorting.html)\n",
    "* [Align & range](examples/align.html)\n",
    "* [Aggregate/drill-down](examples/aggregate.html)\n",
    "* [Orientation, split & polar](examples/orientation.html)\n",
    "* [Without coordinates](examples/without_coordinates.html)\n",
    "* [Color palette & fonts](examples/palette_font.html)\n",
    "* [Chart layout](examples/layout.html)"
   ]
  }
 ],
 "metadata": {
  "kernelspec": {
   "display_name": "Python 3 (ipykernel)",
   "language": "python",
   "name": "python3"
  },
  "language_info": {
   "codemirror_mode": {
    "name": "ipython",
    "version": 3
   },
   "file_extension": ".py",
   "mimetype": "text/x-python",
   "name": "python",
   "nbconvert_exporter": "python",
   "pygments_lexer": "ipython3",
   "version": "3.10.1"
  }
 },
 "nbformat": 4,
 "nbformat_minor": 5
}
