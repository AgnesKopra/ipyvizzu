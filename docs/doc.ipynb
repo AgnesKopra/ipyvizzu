{
 "cells": [
  {
   "cell_type": "markdown",
   "source": [
    "# ipyvizzu\n",
    "\n",
    "ipyvizzu is the [Jupyter Notebook](https://jupyter.org/) integration of Vizzu.\n",
    "\n",
    "# Vizzu\n",
    "\n",
    "[Vizzu](https://lib.vizzuhq.com/) is a free, open-source Javascript/C++ library utilizing a generic dataviz engine that generates many types of charts and seamlessly animates between them. It can be used to create static charts but more importantly it is designed for building animated data stories and interactive explorers as Vizzu enables showing different perspectives of the data that the viewers can easily follow due to the animation. Visit [Vizzu on Github](https://github.com/vizzuhq/vizzu-lib)."
   ],
   "metadata": {}
  },
  {
   "cell_type": "code",
   "execution_count": null,
   "source": [
    "# sample\n",
    "\n",
    "import pandas as pd\n",
    "from ipyvizzu import Chart, Data, Config\n",
    "\n",
    "data_frame = pd.read_csv('./examples/stories/titanic/titanic.csv')\n",
    "data = Data()\n",
    "data.add_data_frame(data_frame)\n",
    "\n",
    "chart = Chart()\n",
    "\n",
    "chart.animate(data)\n",
    "\n",
    "chart.animate(Config({\"x\": \"Count\", \"y\": \"Sex\", \"label\": \"Count\",\"title\":\"Passengers of the Titanic\"}))\n",
    "chart.animate(Config({\"x\": [\"Count\",\"Survived\"], \"label\": [\"Count\",\"Survived\"], \"color\": \"Survived\"}))\n"
   ],
   "outputs": [],
   "metadata": {}
  },
  {
   "cell_type": "code",
   "execution_count": null,
   "source": [
    "chart.animate(Config({\"x\": \"Count\", \"y\": [\"Sex\",\"Survived\"]}))\n"
   ],
   "outputs": [],
   "metadata": {}
  },
  {
   "cell_type": "markdown",
   "source": [
    "**Note:** The data used in this example is available [here](https://github.com/vizzuhq/ipyvizzu/blob/gh-pages/docs/examples/stories/titanic/titanic.csv). You can read more about the available types of data in the [Adding data](tutorial/01_02_adding_data.ipynb) chapter."
   ],
   "metadata": {}
  },
  {
   "cell_type": "markdown",
   "source": [
    "**Note:** `Chart` only generates the Javascript code, the Vizzu calls are evaluated by the browser. Therefore if a blank space appears where the vizzu should be, check the console of your browser where the Javascript lib reports its errors.\n",
    "\n",
    "# Installation\n",
    "\n",
    "ipyvizzu requires the `IPython` and `pandas` packages.\n",
    "The `notebook` project has to be installed as ipyvizzu can only be used within a Jupyter Notebook.\n",
    "\n",
    "```python\n",
    "pip install ipyvizzu\n",
    "pip install notebook\n",
    "```\n",
    "\n",
    "<a id=\"tutorial\"></a>\n",
    "# Documentation\n",
    "\n",
    "Description of the different options available when using ipyvizzu\n",
    "\n",
    "* [ipyvizzu options](options.ipynb)\n",
    "\n",
    "The following tutorial is an excellent place to start using ipyvizzu, as it walks you through the installation, introduces the logic ipyvizzu employs and the different settings to control how your charts look and behave.\n",
    "\n",
    "* [Intro](tutorial/01_01_intro.ipynb)\n",
    "* [Adding data](tutorial/01_02_adding_data.ipynb)\n",
    "* [Axes, title, tooltip](tutorial/01_03_axes_title_tooltip.ipynb)\n",
    "* [Geometry](tutorial/01_04_geometry.ipynb)\n",
    "* [Channels & legend](tutorial/01_05_channels_legend.ipynb)\n",
    "* [Group/stack](tutorial/01_06_group_stack.ipynb)\n",
    "* [Sorting](tutorial/01_07_sorting.ipynb)\n",
    "* [Align & range](tutorial/01_08_align_range.ipynb)\n",
    "* [Aggregate/drill-down](tutorial/01_09_aggregate_drilldown.ipynb)\n",
    "* [Orientation, split & polar](tutorial/01_10_orientation_split_polar.ipynb)\n",
    "* [Filtering & adding new records](tutorial/01_11_filter_add_new_records.ipynb)\n",
    "* [Without coordinates & noop channel](tutorial/01_12_without_coordinates_noop_channel.ipynb)\n",
    "* [Color palette & fonts](tutorial/01_13_color_palette_fonts.ipynb)\n",
    "* [Chart layout](tutorial/01_14_chart_layout.ipynb)\n",
    "* [Animation options](tutorial/01_15_animation_options.ipynb)\n",
    "* [Events](tutorial/01_17_events.ipynb)\n",
    "\n",
    "# Examples\n",
    "\n",
    "For a selection of common static charts and further animated examples visit our [Gallery](examples/examples.ipynb). "
   ],
   "metadata": {}
  }
 ],
 "metadata": {
  "interpreter": {
   "hash": "ac66d1bd39984e4519ceb3060cabedab691f867d7b44eada92a2f40d8a64edd1"
  },
  "kernelspec": {
   "display_name": ".venv",
   "language": "python",
   "name": ".venv"
  },
  "language_info": {
   "codemirror_mode": {
    "name": "ipython",
    "version": 3
   },
   "file_extension": ".py",
   "mimetype": "text/x-python",
   "name": "python",
   "nbconvert_exporter": "python",
   "pygments_lexer": "ipython3",
   "version": "3.8.10"
  },
  "title": "ipyvizzu"
 },
 "nbformat": 4,
 "nbformat_minor": 5
}