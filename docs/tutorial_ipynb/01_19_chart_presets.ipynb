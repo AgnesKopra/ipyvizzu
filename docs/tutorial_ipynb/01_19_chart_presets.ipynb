{
 "cells": [
  {
   "cell_type": "markdown",
   "id": "54d87fb9",
   "metadata": {},
   "source": [
    "# Chart presets\n",
    "\n",
    "Throughout this tutorial, we have shown you how to create charts with Vizzu using a chart type-agnostic, uniform way without being limited to a predefined set of available charts. But sometimes, when you know the chart type you want to use, it is easier to start with that and skip configuring it from scratch. For this reason, Vizzu provides preset chart configurations for many known chart types. See the preset galery for all available presets.\n",
    "\n",
    "Use the methods of the `presets` static property of the Vizzu class to build a chart based on a preset. These methods return chart configuration objects that can be passed to the `animate` method. For example, this is how to create a stacked bubble chart using its preset."
   ]
  },
  {
   "cell_type": "markdown",
   "id": "39f1a656",
   "metadata": {},
   "source": [
    "**Note:** The data used in this tutorial is available [here](https://github.com/vizzuhq/ipyvizzu/blob/gh-pages/docs/tutorial/music_data.json). You can read more about the available types of data in the [Adding data](./01_02_adding_data.ipynb) chapter."
   ]
  },
  {
   "cell_type": "code",
   "execution_count": null,
   "id": "db528594",
   "metadata": {},
   "outputs": [],
   "source": [
    "from ipyvizzu import Chart, Data, Config, Style\n",
    "\n",
    "\n",
    "data = Data.from_json(\"./music_data.json\")\n",
    "\n",
    "\n",
    "chart = Chart()\n",
    "\n",
    "chart.animate(data)\n",
    "\n",
    "chart.animate(\n",
    "    Config.stackedBubble(\n",
    "        {\n",
    "            \"size\": \"Popularity\",\n",
    "            \"color\": \"Kinds\",\n",
    "            \"stackedBy\": \"Genres\",\n",
    "        }\n",
    "    )\n",
    ")\n",
    "\n",
    "snapshot1 = chart.store()"
   ]
  },
  {
   "cell_type": "markdown",
   "id": "cef6be7a",
   "metadata": {},
   "source": [
    "Presets will override all channels, removing all previously set series from the chart. Using a preset will also explicitly set most chart configuration parameters. Exceptions to this are the `legend`, `title`, `reverse`, and `sort` properties that can be set while using a preset. Here's an example of a preset where chart elements are sorted by value."
   ]
  },
  {
   "cell_type": "code",
   "execution_count": null,
   "id": "cec13f2d",
   "metadata": {},
   "outputs": [],
   "source": [
    "chart.animate(snapshot1)\n",
    "\n",
    "chart.animate(\n",
    "    Config.radialStackedBar(\n",
    "        {\n",
    "            \"angle\": \"Popularity\",\n",
    "            \"radius\": \"Genres\",\n",
    "            \"stackedBy\": \"Kinds\",\n",
    "            \"sort\": \"byValue\",\n",
    "        }\n",
    "    )\n",
    ")\n",
    "\n",
    "snapshot2 = chart.store()"
   ]
  },
  {
   "cell_type": "markdown",
   "id": "9a5c7947",
   "metadata": {},
   "source": [
    "As you will see, the preset doesn't override the previously configured sorting and wouldn't affect the rest of the chart config parameters mentioned above either.\n",
    "\n",
    "Presets will affect chart configuration, but you might also want to set the style or the underlying data."
   ]
  },
  {
   "cell_type": "code",
   "execution_count": null,
   "id": "d8da17f4",
   "metadata": {},
   "outputs": [],
   "source": [
    "chart.animate(snapshot2)\n",
    "\n",
    "chart.animate(\n",
    "    Config.radialBar(\n",
    "        {\n",
    "            \"angle\": \"Popularity\",\n",
    "            \"radius\": \"Genres\",\n",
    "        }\n",
    "    ),\n",
    "    Style({\"plot.xAxis.interlacing.color\": \"#ffffff00\"}),\n",
    ");"
   ]
  },
  {
   "cell_type": "markdown",
   "id": "445db1cc",
   "metadata": {},
   "source": [
    "Previous chapter: [Shorthands & Store](./01_18_shorthands_store.ipynb) ----- Back to the [Table of contents](../doc.ipynb#tutorial)"
   ]
  }
 ],
 "metadata": {
  "kernelspec": {
   "display_name": ".venv",
   "language": "python",
   "name": ".venv"
  },
  "language_info": {
   "codemirror_mode": {
    "name": "ipython",
    "version": 3
   },
   "file_extension": ".py",
   "mimetype": "text/x-python",
   "name": "python",
   "nbconvert_exporter": "python",
   "pygments_lexer": "ipython3",
   "version": "3.8.10"
  },
  "title": "ipyvizzu - Chart presets"
 },
 "nbformat": 4,
 "nbformat_minor": 5
}
