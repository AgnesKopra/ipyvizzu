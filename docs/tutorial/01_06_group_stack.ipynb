{
 "cells": [
  {
   "cell_type": "markdown",
   "id": "f91c5d2c",
   "metadata": {},
   "source": [
    "# Group/stack\n",
    "\n",
    "The following example shows how to group and stack elements of a bar chart.\n",
    "\n",
    "To get a stacked chart, you need to add a new dimension to the same channel \n",
    "where the measure is: the y-axis. However, since doing only this \n",
    "would result in multiple column chart elements with the same color stacked on\n",
    "top of each other, we also add the same dimension to the color channel."
   ]
  },
  {
   "cell_type": "markdown",
   "id": "29903ddf",
   "metadata": {},
   "source": [
    "**Note:** The data used in this tutorial is available [here](https://github.com/vizzuhq/ipyvizzu/blob/gh-pages/docs/tutorial/music_data.json). You can read more about the available types of data in the [Adding data](./01_02_adding_data.ipynb) chapter."
   ]
  },
  {
   "cell_type": "code",
   "execution_count": null,
   "id": "448a1754",
   "metadata": {},
   "outputs": [],
   "source": [
    "from ipyvizzu import Chart, Data, Config\n",
    "\n",
    "chart = Chart()\n",
    "\n",
    "data = Data.from_json(\"./music_data.json\")\n",
    "\n",
    "chart.animate(data)\n",
    "\n",
    "chart.animate(\n",
    "    Config(\n",
    "        {\n",
    "            \"channels\": {\"y\": {\"set\": \"Popularity\"}, \"x\": {\"set\": \"Genres\"}},\n",
    "            \"title\": \"Creating a stacked chart\",\n",
    "        }\n",
    "    )\n",
    ")\n",
    "\n",
    "chart.animate(\n",
    "    Config(\n",
    "        {\n",
    "            \"channels\": {\n",
    "                \"y\": {\"attach\": \"Kinds\"},\n",
    "                \"color\": {\"attach\": \"Kinds\"},\n",
    "            },\n",
    "        }\n",
    "    )\n",
    ")\n",
    "\n",
    "snapshot1 = chart.store()"
   ]
  },
  {
   "cell_type": "markdown",
   "id": "91e9379e",
   "metadata": {},
   "source": [
    "By detaching this newly added dimension from the y-axis and attaching it to the x-axis, you get a grouped bar chart in a way that is easy to follow for the viewer."
   ]
  },
  {
   "cell_type": "code",
   "execution_count": null,
   "id": "79c51c5f",
   "metadata": {},
   "outputs": [],
   "source": [
    "chart.animate(snapshot1)\n",
    "\n",
    "chart.animate(\n",
    "    Config({\"title\": \"...then you can add it to another channel = group elements...\"})\n",
    ")\n",
    "\n",
    "chart.animate(\n",
    "    Config(\n",
    "        {\n",
    "            \"channels\": {\n",
    "                \"y\": {\"detach\": \"Kinds\"},\n",
    "                \"x\": {\"attach\": \"Kinds\"},\n",
    "            }\n",
    "        }\n",
    "    )\n",
    ")\n",
    "\n",
    "snapshot2 = chart.store()"
   ]
  },
  {
   "cell_type": "markdown",
   "id": "642ef7d7",
   "metadata": {},
   "source": [
    "To stack a grouped chart, you just have to do the same thing the other way around: detach the dimension from the x-axis and attach it to the y-axis."
   ]
  },
  {
   "cell_type": "code",
   "execution_count": null,
   "id": "20e5ca06",
   "metadata": {},
   "outputs": [],
   "source": [
    "chart.animate(snapshot2)\n",
    "\n",
    "chart.animate(\n",
    "    Config({\"title\": \"...doing it the other way is how you stack your chart\"})\n",
    ")\n",
    "\n",
    "chart.animate(\n",
    "    Config(\n",
    "        {\n",
    "            \"channels\": {\n",
    "                \"y\": {\"attach\": \"Kinds\"},\n",
    "                \"x\": {\"detach\": \"Kinds\"},\n",
    "            }\n",
    "        }\n",
    "    )\n",
    ")"
   ]
  },
  {
   "cell_type": "markdown",
   "id": "37a1fb9c",
   "metadata": {},
   "source": [
    "Next chapter: [Sorting](./01_07_sorting.ipynb) ----- Previous chapter: [Channels & legend](./01_05_channels_legend.ipynb) ----- Back to the [Table of contents](../doc.ipynb#tutorial)"
   ]
  }
 ],
 "metadata": {
  "kernelspec": {
   "display_name": ".venv",
   "language": "python",
   "name": ".venv"
  },
  "language_info": {
   "codemirror_mode": {
    "name": "ipython",
    "version": 3
   },
   "file_extension": ".py",
   "mimetype": "text/x-python",
   "name": "python",
   "nbconvert_exporter": "python",
   "pygments_lexer": "ipython3",
   "version": "3.8.10"
  },
  "title": "ipyvizzu - Group/stack"
 },
 "nbformat": 4,
 "nbformat_minor": 5
}
