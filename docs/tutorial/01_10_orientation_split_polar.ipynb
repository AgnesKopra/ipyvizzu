{
 "cells": [
  {
   "cell_type": "markdown",
   "source": [
    "## Orientation, split & polar\n",
    "\n",
    "Now that you are familiar with the basic logic and operation of Vizzu, let's dive in with some more advanced features that you can use to create animated data stories and show the data from different perspectives.\n",
    "\n",
    "Switching orientation means that you put a measure from one axis to the other to see the data from a different perspective. This is once again a state you should only use temporarily."
   ],
   "metadata": {}
  },
  {
   "cell_type": "markdown",
   "source": [
    "**Note:** The data used in this tutorial is available [here](https://github.com/vizzuhq/ipyvizzu/blob/gh-pages/docs/tutorial/music_data.json). You can read more about the available types of data in the [Adding data](./01_02_adding_data.ipynb) chapter."
   ],
   "metadata": {}
  },
  {
   "cell_type": "code",
   "execution_count": null,
   "source": [
    "from ipyvizzu import Chart, Data, Config\n",
    "\n",
    "chart = Chart()\n",
    "\n",
    "data = Data.from_json(\"./music_data.json\")\n",
    "\n",
    "chart.animate(data)\n",
    "\n",
    "chart.animate(\n",
    "    Config(\n",
    "        {\n",
    "            \"channels\": {\n",
    "                \"y\": {\"set\": [\"Popularity\", \"Kinds\"]},\n",
    "                \"x\": {\"set\": \"Genres\"},\n",
    "                \"label\": {\"attach\": \"Popularity\"},\n",
    "            },\n",
    "            \"color\": {\"attach\": \"Kinds\"},\n",
    "            \"title\": \"Switch the orientation = arrange by other axis\",\n",
    "        }\n",
    "    )\n",
    ")\n",
    "\n",
    "chart.animate(\n",
    "    Config(\n",
    "        {\n",
    "            \"channels\": {\n",
    "                \"y\": {\n",
    "                    \"detach\": \"Popularity\",\n",
    "                },\n",
    "                \"x\": {\n",
    "                    \"attach\": \"Popularity\",\n",
    "                },\n",
    "            }\n",
    "        }\n",
    "    )\n",
    ")\n",
    "\n",
    "snapshot1 = chart.store()"
   ],
   "outputs": [],
   "metadata": {}
  },
  {
   "cell_type": "markdown",
   "source": [
    "By turning the split parameter on, you can see stacked elements side-by-side, which enables the comparison of the components."
   ],
   "metadata": {}
  },
  {
   "cell_type": "code",
   "execution_count": null,
   "source": [
    "chart.animate(snapshot1)\n",
    "\n",
    "chart.animate(Config({\"title\": \"Split stacked values = show side-by-side\"}))\n",
    "\n",
    "chart.animate(Config({\"split\": True}))\n",
    "\n",
    "snapshot2 = chart.store()"
   ],
   "outputs": [],
   "metadata": {}
  },
  {
   "cell_type": "markdown",
   "source": [
    "Merging the components by turning the split parameter off."
   ],
   "metadata": {}
  },
  {
   "cell_type": "code",
   "execution_count": null,
   "source": [
    "chart.animate(snapshot2)\n",
    "\n",
    "chart.animate(Config({\"title\": \"Merge\"}))\n",
    "\n",
    "chart.animate(Config({\"split\": False}))\n",
    "\n",
    "snapshot3 = chart.store()"
   ],
   "outputs": [],
   "metadata": {}
  },
  {
   "cell_type": "markdown",
   "source": [
    "We aggregate the data by removing the Genres dimension from the x-axis."
   ],
   "metadata": {}
  },
  {
   "cell_type": "code",
   "execution_count": null,
   "source": [
    "chart.animate(snapshot3)\n",
    "\n",
    "chart.animate(Config({\"title\": \"Aggregate\"}))\n",
    "\n",
    "chart.animate(\n",
    "    Config(\n",
    "        {\n",
    "            \"channels\": {\n",
    "                \"x\": {\n",
    "                    \"detach\": \"Genres\",\n",
    "                }\n",
    "            }\n",
    "        }\n",
    "    )\n",
    ")\n",
    "\n",
    "snapshot4 = chart.store()"
   ],
   "outputs": [],
   "metadata": {}
  },
  {
   "cell_type": "markdown",
   "source": [
    "Switching from cartesian coordinates to polar. When doing so, it is worth setting the axis range on the axis with the dimension so that the viewers can easily compare the values shown. If you want to return to the default cartesian coordinates, just set the coordSystem parameter to ‘cartesian’.\n",
    "\n",
    "**Note:** The range of the x-axis is automatically set to max:133% as this is the standard way to show radial charts."
   ],
   "metadata": {}
  },
  {
   "cell_type": "code",
   "execution_count": null,
   "source": [
    "chart.animate(snapshot4)\n",
    "\n",
    "chart.animate(Config({\"title\": \"Polar coordinates\"}))\n",
    "\n",
    "chart.animate(\n",
    "    Config(\n",
    "        {\n",
    "            \"channels\": {\n",
    "                \"y\": {\n",
    "                    \"range\": {\n",
    "                        \"min\": \"-30%\",\n",
    "                    },\n",
    "                },\n",
    "            },\n",
    "            \"coordSystem\": \"polar\",\n",
    "        }\n",
    "    )\n",
    ")"
   ],
   "outputs": [],
   "metadata": {}
  },
  {
   "cell_type": "markdown",
   "source": [
    "Next chapter: [Filtering & adding new records](./01_11_filter_add_new_records.ipynb) ----- Previous chapter: [Aggregate/drill-down](./01_09_aggregate_drilldown.ipynb) ----- Back to the [Table of contents](../doc.ipynb#tutorial)"
   ],
   "metadata": {}
  }
 ],
 "metadata": {
  "kernelspec": {
   "display_name": ".venv",
   "language": "python",
   "name": ".venv"
  },
  "language_info": {
   "codemirror_mode": {
    "name": "ipython",
    "version": 3
   },
   "file_extension": ".py",
   "mimetype": "text/x-python",
   "name": "python",
   "nbconvert_exporter": "python",
   "pygments_lexer": "ipython3",
   "version": "3.8.10"
  },
  "title": "ipyvizzu - Orientation, split & polar"
 },
 "nbformat": 4,
 "nbformat_minor": 5
}