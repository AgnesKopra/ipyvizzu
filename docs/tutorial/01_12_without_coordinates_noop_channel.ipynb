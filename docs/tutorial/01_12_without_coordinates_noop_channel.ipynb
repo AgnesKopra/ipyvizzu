{
 "cells": [
  {
   "cell_type": "markdown",
   "id": "78f3b017",
   "metadata": {},
   "source": [
    "# Without coordinates & noop channel\n",
    "\n",
    "Certain chart types have neither measures nor dimensions on the axes such as treemaps and bubble charts. This is a case when the noop channel comes in handy for grouping and stacking elements in these kinds of charts.\n",
    "\n",
    "To get to a treemap, we have to detach all dimensions and the measure from the axes and put two of them on the size channel, whereas the other dimension is still on the color channel. Since the same dimensions are used in both cases Vizzu will be able to animate between these states."
   ]
  },
  {
   "cell_type": "markdown",
   "id": "88d8362f",
   "metadata": {},
   "source": [
    "**Note:** The data used in this tutorial is available [here](https://github.com/vizzuhq/ipyvizzu/blob/gh-pages/docs/tutorial/music_data.json). You can read more about the available types of data in the [Adding data](./01_02_adding_data.ipynb) chapter."
   ]
  },
  {
   "cell_type": "code",
   "execution_count": null,
   "id": "fed12445",
   "metadata": {},
   "outputs": [],
   "source": [
    "from ipyvizzu import Chart, Data, Config\n",
    "\n",
    "chart = Chart()\n",
    "\n",
    "data = Data.from_json(\"./music_data.json\")\n",
    "\n",
    "chart.animate(data)\n",
    "\n",
    "chart.animate(\n",
    "    Config(\n",
    "        {\n",
    "            \"channels\": {\n",
    "                \"y\": {\"set\": [\"Kinds\", \"Popularity\"]},\n",
    "                \"x\": {\"set\": \"Genres\"},\n",
    "                \"label\": {\"attach\": \"Popularity\"},\n",
    "            },\n",
    "            \"color\": {\"set\": \"Kinds\"},\n",
    "            \"title\": \"Treemap\",\n",
    "        }\n",
    "    )\n",
    ")\n",
    "\n",
    "chart.animate(\n",
    "    Config(\n",
    "        {\n",
    "            \"channels\": {\n",
    "                \"y\": {\n",
    "                    \"set\": None,\n",
    "                },\n",
    "                \"x\": {\n",
    "                    \"set\": None,\n",
    "                },\n",
    "                \"size\": {\n",
    "                    \"attach\": [\"Genres\", \"Popularity\"],\n",
    "                },\n",
    "            }\n",
    "        }\n",
    "    )\n",
    ")\n",
    "\n",
    "snapshot1 = chart.store()"
   ]
  },
  {
   "cell_type": "markdown",
   "id": "0e7624ec",
   "metadata": {},
   "source": [
    "Getting from a treemap to a bubble chart is simply by changing the geometry to circle. This bubble chart is stacked by the Type dimension that is on the size channel - this is why the bubbles are in separate, small groups."
   ]
  },
  {
   "cell_type": "code",
   "execution_count": null,
   "id": "88e597b2",
   "metadata": {},
   "outputs": [],
   "source": [
    "chart.animate(snapshot1)\n",
    "\n",
    "chart.animate(Config({\"title\": \"Bubble chart - stacked\"}))\n",
    "\n",
    "chart.animate(\n",
    "    Config(\n",
    "        {\n",
    "            \"geometry\": \"circle\",\n",
    "        }\n",
    "    )\n",
    ")\n",
    "\n",
    "snapshot2 = chart.store()"
   ]
  },
  {
   "cell_type": "markdown",
   "id": "19498f62",
   "metadata": {},
   "source": [
    "In order to show all bubbles as one group, we use the noop (no operations) channel for the Genres dimension. The noop channel enables us to have a dimension on the chart, that doesn’t affect any parameter of the elements, only their count."
   ]
  },
  {
   "cell_type": "code",
   "execution_count": null,
   "id": "4ef4ee88",
   "metadata": {},
   "outputs": [],
   "source": [
    "chart.animate(snapshot2)\n",
    "\n",
    "chart.animate(Config({\"title\": \"Bubble chart - grouped - using the noop channel\"}))\n",
    "\n",
    "chart.animate(\n",
    "    Config({\"channels\": {\"size\": {\"detach\": \"Genres\"}, \"noop\": {\"set\": \"Genres\"}}})\n",
    ")"
   ]
  },
  {
   "cell_type": "markdown",
   "id": "575bedd4",
   "metadata": {},
   "source": [
    "Next chapter: [Color palette & fonts](./01_13_color_palette_fonts.ipynb) ----- Previous chapter: [Filtering & adding new records](./01_11_filter_add_new_records.ipynb) ----- Back to the [Table of contents](../doc.ipynb#tutorial)"
   ]
  }
 ],
 "metadata": {
  "kernelspec": {
   "display_name": ".venv",
   "language": "python",
   "name": ".venv"
  },
  "language_info": {
   "codemirror_mode": {
    "name": "ipython",
    "version": 3
   },
   "file_extension": ".py",
   "mimetype": "text/x-python",
   "name": "python",
   "nbconvert_exporter": "python",
   "pygments_lexer": "ipython3",
   "version": "3.8.10"
  },
  "title": "ipyvizzu - Without coordinates & noop channel"
 },
 "nbformat": 4,
 "nbformat_minor": 5
}
