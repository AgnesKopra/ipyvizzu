{
 "cells": [
  {
   "cell_type": "markdown",
   "id": "6e2cf17a",
   "metadata": {},
   "source": [
    "# Align & range\n",
    "\n",
    "Vizzu offers different options to align your chart elements and to set the range of values shown on the axes. Alignment can be used to create charts like a stream chart where the elements are vertically centered. A good example for using range is when you fix the y-axis so that it would not adapt to the data being shown.\n",
    "\n",
    "Centered alignment. The effect of this parameter depends on the orientation of the chart. For example, on a column chart, elements will be vertically centered, whereas on a bar chart, horizontally. Be careful: note in this first example that the bars no longer make sense with their y axis labels as the bars float off of the x-axis. For this reason - we can also make the labels fade out during this animation."
   ]
  },
  {
   "cell_type": "markdown",
   "id": "0217c405",
   "metadata": {},
   "source": [
    "**Note:** The data used in this tutorial is available [here](https://github.com/vizzuhq/ipyvizzu/blob/gh-pages/docs/tutorial/music_data.json). You can read more about the available types of data in the [Adding data](./01_02_adding_data.ipynb) chapter."
   ]
  },
  {
   "cell_type": "code",
   "execution_count": null,
   "id": "93e45914",
   "metadata": {},
   "outputs": [],
   "source": [
    "from ipyvizzu import Chart, Data, Config, Style\n",
    "\n",
    "chart = Chart()\n",
    "\n",
    "data = Data.from_json(\"./music_data.json\")\n",
    "\n",
    "chart.animate(data)\n",
    "\n",
    "chart.animate(\n",
    "    Config(\n",
    "        {\n",
    "            \"channels\": {\n",
    "                \"y\": {\"set\": [\"Popularity\", \"Kinds\"]},\n",
    "                \"x\": {\"set\": \"Genres\"},\n",
    "                \"label\": {\"attach\": \"Popularity\"},\n",
    "            },\n",
    "            \"color\": {\"attach\": \"Kinds\"},\n",
    "            \"title\": \"Align: center\",\n",
    "        }\n",
    "    )\n",
    ")\n",
    "\n",
    "# This part configures the y axis labels to disappear during the animation\n",
    "style = Style(\n",
    "    {\n",
    "        \"plot\": {\n",
    "            \"yAxis\": {\n",
    "                \"label\": {\"color\": \"#ffffff00\"},\n",
    "            },\n",
    "        }\n",
    "    }\n",
    ")\n",
    "\n",
    "chart.animate(Config({\"align\": \"center\"}), style)\n",
    "\n",
    "snapshot1 = chart.store()"
   ]
  },
  {
   "cell_type": "markdown",
   "id": "5f291cbf",
   "metadata": {},
   "source": [
    "Stretched alignment. This way the elements will proportionally fill the entire plot area, effectively showing proportions in stacked charts. This is why the scale will also switch from values to percentages when used."
   ]
  },
  {
   "cell_type": "code",
   "execution_count": null,
   "id": "b90e9ee8",
   "metadata": {},
   "outputs": [],
   "source": [
    "chart.animate(snapshot1)\n",
    "\n",
    "chart.animate(Config({\"title\": \"Align: stretch = % view\"}))\n",
    "\n",
    "chart.animate(Config({\"align\": \"stretch\"}))\n",
    "\n",
    "snapshot2 = chart.store()"
   ]
  },
  {
   "cell_type": "markdown",
   "id": "a7d998e0",
   "metadata": {},
   "source": [
    "Getting back to the default alignment."
   ]
  },
  {
   "cell_type": "code",
   "execution_count": null,
   "id": "12f6b6b8",
   "metadata": {},
   "outputs": [],
   "source": [
    "chart.animate(snapshot2)\n",
    "\n",
    "chart.animate(Config({\"title\": \"Align: none - default\"}))\n",
    "\n",
    "chart.animate(Config({\"align\": \"none\"}))\n",
    "\n",
    "snapshot3 = chart.store()"
   ]
  },
  {
   "cell_type": "markdown",
   "id": "b9de54ad",
   "metadata": {},
   "source": [
    "You can set the range of an axis by setting the minimum and maximum values of it. Both parameters are optional so that you can set only one of those, and you either set specific values or a relative value by adding the % sign. In this example, we set the range of the y-axis in a way that the max value is 150% of the biggest element’s value."
   ]
  },
  {
   "cell_type": "code",
   "execution_count": null,
   "id": "a3f80091",
   "metadata": {},
   "outputs": [],
   "source": [
    "chart.animate(snapshot3)\n",
    "\n",
    "chart.animate(Config({\"title\": \"Axis range set proportionally to shown values\"}))\n",
    "\n",
    "chart.animate(Config({\"channels\": {\"y\": {\"range\": {\"max\": \"150%\"}}}}))\n",
    "\n",
    "snapshot4 = chart.store()"
   ]
  },
  {
   "cell_type": "markdown",
   "id": "6ae323c4",
   "metadata": {},
   "source": [
    "You can also set the range for an axis with a dimension on it. You can even use this feature to filter certain elements, just like in the following example."
   ]
  },
  {
   "cell_type": "code",
   "execution_count": null,
   "id": "eb8eafdf",
   "metadata": {},
   "outputs": [],
   "source": [
    "chart.animate(snapshot4)\n",
    "\n",
    "chart.animate(\n",
    "    Config({\"title\": \"Axis range set explicitly on an axis with discrete series\"})\n",
    ")\n",
    "\n",
    "chart.animate(\n",
    "    Config(\n",
    "        {\n",
    "            \"channels\": {\n",
    "                \"x\": {\n",
    "                    \"range\": {\n",
    "                        \"min\": -2,\n",
    "                        \"max\": 3,\n",
    "                    }\n",
    "                }\n",
    "            }\n",
    "        }\n",
    "    )\n",
    ")\n",
    "\n",
    "snapshot5 = chart.store()"
   ]
  },
  {
   "cell_type": "markdown",
   "id": "9bec39a7",
   "metadata": {},
   "source": [
    "Ranges have certain defaults depending on the chart's configuration, based on common data viz guidelines because we wanted to make it easy for you to create sleek charts. For example, in the cartesian coordinate system, the range will be automatically set to the max:110% for an axis with a measure on it. Polar coordinates work differently, as you can see for yourself in the [Orientation, split & polar](./01_10_orientation_split_polar.ipynb) chapter.\n",
    "\n",
    "Whenever you want to set your ranges back to the default value, just set them to ‘auto’."
   ]
  },
  {
   "cell_type": "code",
   "execution_count": null,
   "id": "61e6fd48",
   "metadata": {},
   "outputs": [],
   "source": [
    "chart.animate(snapshot5)\n",
    "\n",
    "chart.animate(Config({\"title\": \"Back to the default ranges\"}))\n",
    "\n",
    "chart.animate(\n",
    "    Config(\n",
    "        {\n",
    "            \"channels\": {\n",
    "                \"y\": {\"range\": {\"max\": \"auto\"}},\n",
    "                \"x\": {\n",
    "                    \"range\": {\n",
    "                        \"min\": \"auto\",\n",
    "                        \"max\": \"auto\",\n",
    "                    }\n",
    "                },\n",
    "            }\n",
    "        }\n",
    "    )\n",
    ")"
   ]
  },
  {
   "cell_type": "markdown",
   "id": "c45fe591",
   "metadata": {},
   "source": [
    "Next chapter: [Aggregate/drill-down](./01_09_aggregate_drilldown.ipynb) ----- Previous chapter: [Sorting](./01_07_sorting.ipynb) ----- Back to the [Table of contents](../doc.ipynb#tutorial)"
   ]
  }
 ],
 "metadata": {
  "kernelspec": {
   "display_name": ".venv",
   "language": "python",
   "name": ".venv"
  },
  "language_info": {
   "codemirror_mode": {
    "name": "ipython",
    "version": 3
   },
   "file_extension": ".py",
   "mimetype": "text/x-python",
   "name": "python",
   "nbconvert_exporter": "python",
   "pygments_lexer": "ipython3",
   "version": "3.8.10"
  },
  "title": "ipyvizzu - Align & range"
 },
 "nbformat": 4,
 "nbformat_minor": 5
}
