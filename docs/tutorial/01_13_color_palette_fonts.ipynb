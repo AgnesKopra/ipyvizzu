{
 "cells": [
  {
   "cell_type": "markdown",
   "id": "ea27757b",
   "metadata": {},
   "source": [
    "# Color palette & fonts\n",
    "\n",
    "This and the next chapter provide a quick intro to the styling of the charts. You can either use the style property like in the following examples or use CSS. By using CSS, it's easier to set the same style for multiple charts on one page or re-use style settings.\n",
    "\n",
    "If you use CSS, don't change the set parameters later on via the style property.\n",
    "\n",
    "The font sizes automatically adjust to the chart size to help readability, and can also be set separately or for specific groups.\n",
    "\n",
    "The color palette is changed to the colors we add here. The order of the dimension’s items in the data set determine which color belongs to which item as the colors are added one-by-one. If you want to use the same setting via CSS, you should add `--vizzu-plot-marker-colorPalette: #9355e8FF #123456FF #BDAF10FF;`"
   ]
  },
  {
   "cell_type": "markdown",
   "id": "e3dd67df",
   "metadata": {},
   "source": [
    "**Note:** The data used in this tutorial is available [here](https://github.com/vizzuhq/ipyvizzu/blob/gh-pages/docs/tutorial/music_data.json). You can read more about the available types of data in the [Adding data](./01_02_adding_data.ipynb) chapter."
   ]
  },
  {
   "cell_type": "code",
   "execution_count": null,
   "id": "bbe3386a",
   "metadata": {},
   "outputs": [],
   "source": [
    "from ipyvizzu import Chart, Data, Config, Style\n",
    "\n",
    "chart = Chart()\n",
    "\n",
    "data = Data.from_json(\"./music_data.json\")\n",
    "\n",
    "chart.animate(data)\n",
    "\n",
    "chart.animate(\n",
    "    Config(\n",
    "        {\n",
    "            \"channels\": {\"y\": {\"set\": [\"Popularity\", \"Kinds\"]}, \"x\": {\"set\": \"Genres\"}},\n",
    "            \"label\": {\"attach\": \"Popularity\"},\n",
    "            \"color\": {\"set\": \"Kinds\"},\n",
    "            \"title\": \"Color palette\",\n",
    "        }\n",
    "    )\n",
    ")\n",
    "\n",
    "chart.animate(\n",
    "    Style({\"plot\": {\"marker\": {\"colorPalette\": \"#9355e8FF #123456FF #BDAF10FF\"}}})\n",
    ")\n",
    "\n",
    "snapshot1 = chart.store()"
   ]
  },
  {
   "cell_type": "markdown",
   "id": "468fb09b",
   "metadata": {},
   "source": [
    "**Note:** Add the following code to log the actual style of the chart in the browser console."
   ]
  },
  {
   "cell_type": "code",
   "execution_count": null,
   "id": "17229daa",
   "metadata": {},
   "outputs": [],
   "source": [
    "from ipyvizzu import ChartProperty\n",
    "\n",
    "chart.log(ChartProperty.STYLE)"
   ]
  },
  {
   "cell_type": "markdown",
   "id": "642f8b68",
   "metadata": {},
   "source": [
    "Changing the title font size will only affect the title; all other font sizes remain the same. CSS version: `--vizzu-title-fontSize: 50;`"
   ]
  },
  {
   "cell_type": "code",
   "execution_count": null,
   "id": "01106e00",
   "metadata": {},
   "outputs": [],
   "source": [
    "chart.animate(snapshot1)\n",
    "\n",
    "chart.animate(Config({\"title\": \"Title font size\"}))\n",
    "\n",
    "chart.animate(Style({\"title\": {\"fontSize\": 50}}))\n",
    "\n",
    "snapshot2 = chart.store()"
   ]
  },
  {
   "cell_type": "markdown",
   "id": "9de54d22",
   "metadata": {},
   "source": [
    "This is how to set the font size back to its default value."
   ]
  },
  {
   "cell_type": "code",
   "execution_count": null,
   "id": "50fae329",
   "metadata": {},
   "outputs": [],
   "source": [
    "chart.animate(snapshot2)\n",
    "\n",
    "chart.animate(Config({\"title\": \"Title font size - back to default\"}))\n",
    "\n",
    "chart.animate(Style({\"title\": {\"fontSize\": None}}))\n",
    "\n",
    "snapshot3 = chart.store()"
   ]
  },
  {
   "cell_type": "markdown",
   "id": "8402ba9a",
   "metadata": {},
   "source": [
    "In case you change the font size of the whole chart with the top-level fontSize parameter then every font on the chart will grow/shrink proportionally. The size refers to the font size of the axis labels by default."
   ]
  },
  {
   "cell_type": "code",
   "execution_count": null,
   "id": "bd0ac670",
   "metadata": {},
   "outputs": [],
   "source": [
    "chart.animate(snapshot3)\n",
    "\n",
    "chart.animate(Config({\"title\": \"Setting all font sizes in one step\"}))\n",
    "\n",
    "chart.animate(Style({\"fontSize\": 20}))\n",
    "\n",
    "snapshot4 = chart.store()"
   ]
  },
  {
   "cell_type": "markdown",
   "id": "578d6070",
   "metadata": {},
   "source": [
    "You can reset styles to default on any levels by setting them to null."
   ]
  },
  {
   "cell_type": "code",
   "execution_count": null,
   "id": "179e29eb",
   "metadata": {},
   "outputs": [],
   "source": [
    "chart.animate(snapshot4)\n",
    "\n",
    "chart.animate(Config({\"title\": \"Setting all style settings back to default\"}))\n",
    "\n",
    "chart.animate(Style(None))"
   ]
  },
  {
   "cell_type": "markdown",
   "id": "319e02db",
   "metadata": {},
   "source": [
    "For information on all available style parameters see the [reference](https://lib.vizzuhq.com/latest/reference/index.html) documentation."
   ]
  },
  {
   "cell_type": "markdown",
   "id": "f7b6b719",
   "metadata": {},
   "source": [
    "Next chapter: [Chart layout](./01_14_chart_layout.ipynb) ----- Previous chapter: [Without coordinates & noop channel](./01_12_without_coordinates_noop_channel.ipynb) ----- Back to the [Table of contents](../doc.ipynb#tutorial)"
   ]
  }
 ],
 "metadata": {
  "kernelspec": {
   "display_name": ".venv",
   "language": "python",
   "name": ".venv"
  },
  "language_info": {
   "codemirror_mode": {
    "name": "ipython",
    "version": 3
   },
   "file_extension": ".py",
   "mimetype": "text/x-python",
   "name": "python",
   "nbconvert_exporter": "python",
   "pygments_lexer": "ipython3",
   "version": "3.8.10"
  },
  "title": "ipyvizzu - Color palette & fonts"
 },
 "nbformat": 4,
 "nbformat_minor": 5
}
