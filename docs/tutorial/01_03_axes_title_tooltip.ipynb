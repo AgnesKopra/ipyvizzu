{
 "cells": [
  {
   "cell_type": "markdown",
   "id": "c5eba19a",
   "metadata": {},
   "source": [
    "## Axes, title, tooltip\n",
    "\n",
    "To build a chart with ipyvizzu, you have to add data series to the channels.\n",
    "\n",
    "**Note:** From this point on there are ipyvizzu code snippets in the notebook cells within the Tutorial that you can run to see how they work.\n",
    "\n",
    "**Note:** As you can see, at the end of the first cell (and all the other cells except for the last one), we create a snapshot of the last phase of the chart created within the cell with the `chart.store()` method. Then, at the beginning of the next cell, we use the same snapshot to start the animation. Although this is NOT necessary when using ipyvizzu, it is added to ensure that no matter which notebook cell you run, the animation will start from the phase it should be. For example, without this, if you rerun the 2nd cell after the whole notebook has been run, then ipyvizzu will try to animate from the end of the last phase to the end of the 2nd cell.\n",
    "\n",
    "The first step is to create a simple column chart, adding one of the dimensions from the data set we added in the previous chapter (Genre) to the x-axis and the measure (Popularity) to the y-axis using the set property.\n",
    "\n",
    "In the next step, the chart is rearranged by putting both series on the y-axis using once again the set property, resulting in a single column chart. Vizzu automatically animates between the initial state and this one.\n",
    "\n",
    "Or instead of set, you can use attach and detach to add or remove series to/from the channels."
   ]
  },
  {
   "cell_type": "markdown",
   "id": "3d93563e",
   "metadata": {},
   "source": [
    "**Note:** The data used in this tutorial is available [here](https://github.com/vizzuhq/ipyvizzu/blob/gh-pages/docs/tutorial/music_data.json). You can read more about the available types of data in the [Adding data](./01_02_adding_data.ipynb) chapter."
   ]
  },
  {
   "cell_type": "code",
   "execution_count": null,
   "id": "899cfd84",
   "metadata": {},
   "outputs": [],
   "source": [
    "from ipyvizzu import Chart, Data, Config\n",
    "\n",
    "chart = Chart()\n",
    "\n",
    "data = Data.from_json(\"./music_data.json\")\n",
    "\n",
    "chart.animate(data)\n",
    "\n",
    "chart.animate(\n",
    "    Config({\"channels\": {\"y\": {\"set\": \"Popularity\"}, \"x\": {\"set\": \"Genres\"}}})\n",
    ")\n",
    "\n",
    "chart.animate(\n",
    "    Config({\"channels\": {\"y\": {\"set\": [\"Popularity\", \"Genres\"]}, \"x\": {\"set\": None}}})\n",
    ")\n",
    "\n",
    "chart.animate(\n",
    "    Config({\"channels\": {\"y\": {\"detach\": \"Popularity\"}, \"x\": {\"attach\": \"Popularity\"}}})\n",
    ")\n",
    "\n",
    "snapshot1 = chart.store()"
   ]
  },
  {
   "cell_type": "markdown",
   "id": "56aa8bd6",
   "metadata": {},
   "source": [
    "Using attach & detach makes it easier to build your animated charts step-by-step, however you either have to keep in mind what you had on which channel in the previous step.\n",
    "\n",
    "**Note:** Add the following code to log the actual configuration of the chart in the browser console."
   ]
  },
  {
   "cell_type": "code",
   "execution_count": null,
   "id": "5a4ae088",
   "metadata": {},
   "outputs": [],
   "source": [
    "from ipyvizzu import ChartProperty\n",
    "\n",
    "chart.log(ChartProperty.CONFIG)"
   ]
  },
  {
   "cell_type": "markdown",
   "id": "1622cbc6",
   "metadata": {},
   "source": [
    "Setting the chart title with the title command."
   ]
  },
  {
   "cell_type": "code",
   "execution_count": null,
   "id": "92195a22",
   "metadata": {},
   "outputs": [],
   "source": [
    "chart.animate(snapshot1)\n",
    "\n",
    "chart.animate(Config({\"title\": \"My first chart\"}))\n",
    "\n",
    "snapshot2 = chart.store()"
   ]
  },
  {
   "cell_type": "markdown",
   "id": "8dc9d064",
   "metadata": {},
   "source": [
    "Switching on the tooltips that appear on the chart elements when the user hovers over them with their mouse by adding the (tooltip, true) parameters to the chart.feature method."
   ]
  },
  {
   "cell_type": "code",
   "execution_count": null,
   "id": "84906a32",
   "metadata": {},
   "outputs": [],
   "source": [
    "chart.animate(snapshot2)\n",
    "\n",
    "chart.feature(\"tooltip\", True)"
   ]
  },
  {
   "cell_type": "markdown",
   "id": "6c67b1df",
   "metadata": {},
   "source": [
    "Next chapter: [Geometry](./01_04_geometry.ipynb) ----- Previous chapter: [Adding data](./01_02_adding_data.ipynb) ----- Back to the [Table of contents](../doc.ipynb#tutorial)"
   ]
  }
 ],
 "metadata": {
  "kernelspec": {
   "display_name": ".venv",
   "language": "python",
   "name": ".venv"
  },
  "language_info": {
   "codemirror_mode": {
    "name": "ipython",
    "version": 3
   },
   "file_extension": ".py",
   "mimetype": "text/x-python",
   "name": "python",
   "nbconvert_exporter": "python",
   "pygments_lexer": "ipython3",
   "version": "3.8.10"
  },
  "title": "ipyvizzu - Axes, title, tooltip"
 },
 "nbformat": 4,
 "nbformat_minor": 5
}
