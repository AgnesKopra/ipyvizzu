{
 "cells": [
  {
   "cell_type": "markdown",
   "source": [
    "## Geometry\n",
    "\n",
    "In Vizzu you can set the geometric elements used to represent your data by the geometry property within the config object.\n",
    "\n",
    "The first step is switching the geometry to area.\n",
    "\n",
    "The second step is drawing a line chart.\n",
    "\n",
    "The third step is switching the geometry to circle. This setting is the most useful when used together with the size channel, as shown in the next chapter of the tutorial.\n",
    "\n",
    "The last step is switching the geometry to rectangle. Rectangle geometry is the default setting in Vizzu, used for most common charts like bar and column charts."
   ],
   "metadata": {}
  },
  {
   "cell_type": "markdown",
   "source": [
    "**Note:** The data used in this tutorial is available [here](https://github.com/vizzuhq/ipyvizzu/blob/gh-pages/docs/tutorial/music_data.json). You can read more about the available types of data in the [Adding data](./data.ipynb) chapter."
   ],
   "metadata": {}
  },
  {
   "cell_type": "code",
   "execution_count": null,
   "source": [
    "from ipyvizzu import Chart, Data, Config\n",
    "\n",
    "chart = Chart()\n",
    "\n",
    "data = Data.from_json(\"./music_data.json\")\n",
    "\n",
    "chart.animate(data)\n",
    "\n",
    "chart.animate(Config({\n",
    "    \"channels\": {\n",
    "        \"y\": {\n",
    "            \"set\": \"Popularity\"\n",
    "        }, \n",
    "        \"x\": {\n",
    "            \"set\": \"Genres\"\n",
    "        }\n",
    "    }\n",
    "}))\n",
    "\n",
    "chart.animate(Config({\n",
    "    \"title\": \"Geometry: area\"\n",
    "}))\n",
    "\n",
    "chart.animate(Config({\n",
    "    \"geometry\": \"area\"\n",
    "}))\n",
    "\n",
    "chart.animate(Config({\n",
    "    \"title\": \"Geometry: line\"\n",
    "}))\n",
    "\n",
    "chart.animate(Config({\n",
    "    \"geometry\": \"line\"\n",
    "}))\n",
    "\n",
    "chart.animate(Config({\n",
    "    \"title\": \"Geometry: circle\"\n",
    "}))\n",
    "\n",
    "chart.animate(Config({\n",
    "    \"geometry\": \"circle\"\n",
    "}))\n",
    "\n",
    "chart.animate(Config({\n",
    "    \"title\": \"Geometry: rectangle - default\"\n",
    "}))\n",
    "\n",
    "chart.animate(Config({\n",
    "    \"geometry\": \"rectangle\"\n",
    "}))"
   ],
   "outputs": [],
   "metadata": {}
  },
  {
   "cell_type": "markdown",
   "source": [
    "Next chapter: [Channels & legend](./channels.ipynb) ----- Previous chapter: [Axes, title, tooltip](./axes.ipynb) ----- Back to the [Table of contents](../doc.ipynb#tutorial)"
   ],
   "metadata": {}
  }
 ],
 "metadata": {
  "kernelspec": {
   "display_name": ".venv",
   "language": "python",
   "name": ".venv"
  },
  "language_info": {
   "codemirror_mode": {
    "name": "ipython",
    "version": 3
   },
   "file_extension": ".py",
   "mimetype": "text/x-python",
   "name": "python",
   "nbconvert_exporter": "python",
   "pygments_lexer": "ipython3",
   "version": "3.8.10"
  },
  "title": "ipyvizzu - Geometry"
 },
 "nbformat": 4,
 "nbformat_minor": 5
}