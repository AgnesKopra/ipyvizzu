{
 "cells": [
  {
   "cell_type": "markdown",
   "id": "8518ab11",
   "metadata": {},
   "source": [
    "## Geometry\n",
    "\n",
    "In Vizzu you can set the geometric elements used to represent your data by the geometry property within the config object.\n",
    "\n",
    "The first step is switching the geometry to area.\n",
    "\n",
    "The second step is drawing a line chart.\n",
    "\n",
    "The third step is switching the geometry to circle. This setting is the most useful when used together with the size channel, as shown in the next chapter of the tutorial.\n",
    "\n",
    "The last step is switching the geometry to rectangle. Rectangle geometry is the default setting in Vizzu, used for most common charts like bar and column charts."
   ]
  },
  {
   "cell_type": "code",
   "execution_count": 1,
   "id": "b0552636",
   "metadata": {},
   "outputs": [
    {
     "data": {
      "text/html": [
       "<script id=\"myVizzu_762c86a\">\n",
       "    document.inhibitScroll = false;\n",
       "    document.addEventListener('wheel', function (evt) { document.inhibitScroll = true }, true);\n",
       "    document.addEventListener('keydown', function (evt) { document.inhibitScroll = true }, true);\n",
       "    document.addEventListener('touchstart', function (evt) { document.inhibitScroll = true }, true);\n",
       "    let myVizzu_6d3c38f = document.createElement(\"div\");\n",
       "    myVizzu_6d3c38f.style.cssText = \"width: 800px; height: 480px;\";\n",
       "    let chart_6d3c38f = import(\"https://cdn.jsdelivr.net/npm/vizzu@~0.4.0/dist/vizzu.min.js\").then(Vizzu => new Vizzu.default(myVizzu_6d3c38f).initializing);\n",
       "    myVizzu_762c86a.parentNode.insertBefore(myVizzu_6d3c38f, myVizzu_762c86a);\n",
       "</script>"
      ]
     },
     "metadata": {},
     "output_type": "display_data"
    },
    {
     "data": {
      "text/html": [
       "<script id=\"myVizzu_3e927ef\">\n",
       "    let display_3e927ef = myVizzu_3e927ef.parentNode.parentNode.style.display;\n",
       "    myVizzu_3e927ef.parentNode.parentNode.style.display = \"none\";\n",
       "    chart_6d3c38f = chart_6d3c38f.then(chart => {\n",
       "        if (myVizzu_6d3c38f.parentNode && myVizzu_6d3c38f.parentNode.parentNode) {\n",
       "            myVizzu_6d3c38f.parentNode.parentNode.style.display = \"none\";\n",
       "        }\n",
       "        myVizzu_3e927ef.parentNode.parentNode.style.display = display_3e927ef;\n",
       "        myVizzu_3e927ef.parentNode.insertBefore(myVizzu_6d3c38f, myVizzu_3e927ef);\n",
       "        if (!document.inhibitScroll && true) {\n",
       "            myVizzu_6d3c38f.scrollIntoView({behavior: \"auto\", block: \"center\"});\n",
       "        }\n",
       "        return chart.animate({\"data\": {\"dimensions\": [{\"name\": \"Genres\", \"values\": [\"Pop\", \"Rock\", \"Jazz\", \"Metal\"]}, {\"name\": \"Types\", \"values\": [\"Hard\", \"Smooth\", \"Experimental\"]}], \"measures\": [{\"name\": \"Popularity\", \"values\": [[114, 96, 78, 52], [56, 36, 174, 121], [127, 83, 94, 58]]}]}});\n",
       "    });\n",
       "</script>"
      ]
     },
     "metadata": {},
     "output_type": "display_data"
    },
    {
     "data": {
      "text/html": [
       "<script id=\"myVizzu_a4e237c\">\n",
       "    let display_a4e237c = myVizzu_a4e237c.parentNode.parentNode.style.display;\n",
       "    myVizzu_a4e237c.parentNode.parentNode.style.display = \"none\";\n",
       "    chart_6d3c38f = chart_6d3c38f.then(chart => {\n",
       "        if (myVizzu_6d3c38f.parentNode && myVizzu_6d3c38f.parentNode.parentNode) {\n",
       "            myVizzu_6d3c38f.parentNode.parentNode.style.display = \"none\";\n",
       "        }\n",
       "        myVizzu_a4e237c.parentNode.parentNode.style.display = display_a4e237c;\n",
       "        myVizzu_a4e237c.parentNode.insertBefore(myVizzu_6d3c38f, myVizzu_a4e237c);\n",
       "        if (!document.inhibitScroll && true) {\n",
       "            myVizzu_6d3c38f.scrollIntoView({behavior: \"auto\", block: \"center\"});\n",
       "        }\n",
       "        return chart.animate({\"config\": {\"channels\": {\"y\": {\"set\": \"Popularity\"}, \"x\": {\"set\": \"Genres\"}}}});\n",
       "    });\n",
       "</script>"
      ]
     },
     "metadata": {},
     "output_type": "display_data"
    },
    {
     "data": {
      "text/html": [
       "<script id=\"myVizzu_381dbe8\">\n",
       "    let display_381dbe8 = myVizzu_381dbe8.parentNode.parentNode.style.display;\n",
       "    myVizzu_381dbe8.parentNode.parentNode.style.display = \"none\";\n",
       "    chart_6d3c38f = chart_6d3c38f.then(chart => {\n",
       "        if (myVizzu_6d3c38f.parentNode && myVizzu_6d3c38f.parentNode.parentNode) {\n",
       "            myVizzu_6d3c38f.parentNode.parentNode.style.display = \"none\";\n",
       "        }\n",
       "        myVizzu_381dbe8.parentNode.parentNode.style.display = display_381dbe8;\n",
       "        myVizzu_381dbe8.parentNode.insertBefore(myVizzu_6d3c38f, myVizzu_381dbe8);\n",
       "        if (!document.inhibitScroll && true) {\n",
       "            myVizzu_6d3c38f.scrollIntoView({behavior: \"auto\", block: \"center\"});\n",
       "        }\n",
       "        return chart.animate({\"config\": {\"title\": \"Geometry: area\"}});\n",
       "    });\n",
       "</script>"
      ]
     },
     "metadata": {},
     "output_type": "display_data"
    },
    {
     "data": {
      "text/html": [
       "<script id=\"myVizzu_fb2cce9\">\n",
       "    let display_fb2cce9 = myVizzu_fb2cce9.parentNode.parentNode.style.display;\n",
       "    myVizzu_fb2cce9.parentNode.parentNode.style.display = \"none\";\n",
       "    chart_6d3c38f = chart_6d3c38f.then(chart => {\n",
       "        if (myVizzu_6d3c38f.parentNode && myVizzu_6d3c38f.parentNode.parentNode) {\n",
       "            myVizzu_6d3c38f.parentNode.parentNode.style.display = \"none\";\n",
       "        }\n",
       "        myVizzu_fb2cce9.parentNode.parentNode.style.display = display_fb2cce9;\n",
       "        myVizzu_fb2cce9.parentNode.insertBefore(myVizzu_6d3c38f, myVizzu_fb2cce9);\n",
       "        if (!document.inhibitScroll && true) {\n",
       "            myVizzu_6d3c38f.scrollIntoView({behavior: \"auto\", block: \"center\"});\n",
       "        }\n",
       "        return chart.animate({\"config\": {\"geometry\": \"area\"}});\n",
       "    });\n",
       "</script>"
      ]
     },
     "metadata": {},
     "output_type": "display_data"
    },
    {
     "data": {
      "text/html": [
       "<script id=\"myVizzu_f5f1be4\">\n",
       "    let display_f5f1be4 = myVizzu_f5f1be4.parentNode.parentNode.style.display;\n",
       "    myVizzu_f5f1be4.parentNode.parentNode.style.display = \"none\";\n",
       "    chart_6d3c38f = chart_6d3c38f.then(chart => {\n",
       "        if (myVizzu_6d3c38f.parentNode && myVizzu_6d3c38f.parentNode.parentNode) {\n",
       "            myVizzu_6d3c38f.parentNode.parentNode.style.display = \"none\";\n",
       "        }\n",
       "        myVizzu_f5f1be4.parentNode.parentNode.style.display = display_f5f1be4;\n",
       "        myVizzu_f5f1be4.parentNode.insertBefore(myVizzu_6d3c38f, myVizzu_f5f1be4);\n",
       "        if (!document.inhibitScroll && true) {\n",
       "            myVizzu_6d3c38f.scrollIntoView({behavior: \"auto\", block: \"center\"});\n",
       "        }\n",
       "        return chart.animate({\"config\": {\"title\": \"Geometry: line\"}});\n",
       "    });\n",
       "</script>"
      ]
     },
     "metadata": {},
     "output_type": "display_data"
    },
    {
     "data": {
      "text/html": [
       "<script id=\"myVizzu_e401df6\">\n",
       "    let display_e401df6 = myVizzu_e401df6.parentNode.parentNode.style.display;\n",
       "    myVizzu_e401df6.parentNode.parentNode.style.display = \"none\";\n",
       "    chart_6d3c38f = chart_6d3c38f.then(chart => {\n",
       "        if (myVizzu_6d3c38f.parentNode && myVizzu_6d3c38f.parentNode.parentNode) {\n",
       "            myVizzu_6d3c38f.parentNode.parentNode.style.display = \"none\";\n",
       "        }\n",
       "        myVizzu_e401df6.parentNode.parentNode.style.display = display_e401df6;\n",
       "        myVizzu_e401df6.parentNode.insertBefore(myVizzu_6d3c38f, myVizzu_e401df6);\n",
       "        if (!document.inhibitScroll && true) {\n",
       "            myVizzu_6d3c38f.scrollIntoView({behavior: \"auto\", block: \"center\"});\n",
       "        }\n",
       "        return chart.animate({\"config\": {\"geometry\": \"line\"}});\n",
       "    });\n",
       "</script>"
      ]
     },
     "metadata": {},
     "output_type": "display_data"
    },
    {
     "data": {
      "text/html": [
       "<script id=\"myVizzu_fefeaa2\">\n",
       "    let display_fefeaa2 = myVizzu_fefeaa2.parentNode.parentNode.style.display;\n",
       "    myVizzu_fefeaa2.parentNode.parentNode.style.display = \"none\";\n",
       "    chart_6d3c38f = chart_6d3c38f.then(chart => {\n",
       "        if (myVizzu_6d3c38f.parentNode && myVizzu_6d3c38f.parentNode.parentNode) {\n",
       "            myVizzu_6d3c38f.parentNode.parentNode.style.display = \"none\";\n",
       "        }\n",
       "        myVizzu_fefeaa2.parentNode.parentNode.style.display = display_fefeaa2;\n",
       "        myVizzu_fefeaa2.parentNode.insertBefore(myVizzu_6d3c38f, myVizzu_fefeaa2);\n",
       "        if (!document.inhibitScroll && true) {\n",
       "            myVizzu_6d3c38f.scrollIntoView({behavior: \"auto\", block: \"center\"});\n",
       "        }\n",
       "        return chart.animate({\"config\": {\"title\": \"Geometry: circle\"}});\n",
       "    });\n",
       "</script>"
      ]
     },
     "metadata": {},
     "output_type": "display_data"
    },
    {
     "data": {
      "text/html": [
       "<script id=\"myVizzu_9ef2213\">\n",
       "    let display_9ef2213 = myVizzu_9ef2213.parentNode.parentNode.style.display;\n",
       "    myVizzu_9ef2213.parentNode.parentNode.style.display = \"none\";\n",
       "    chart_6d3c38f = chart_6d3c38f.then(chart => {\n",
       "        if (myVizzu_6d3c38f.parentNode && myVizzu_6d3c38f.parentNode.parentNode) {\n",
       "            myVizzu_6d3c38f.parentNode.parentNode.style.display = \"none\";\n",
       "        }\n",
       "        myVizzu_9ef2213.parentNode.parentNode.style.display = display_9ef2213;\n",
       "        myVizzu_9ef2213.parentNode.insertBefore(myVizzu_6d3c38f, myVizzu_9ef2213);\n",
       "        if (!document.inhibitScroll && true) {\n",
       "            myVizzu_6d3c38f.scrollIntoView({behavior: \"auto\", block: \"center\"});\n",
       "        }\n",
       "        return chart.animate({\"config\": {\"geometry\": \"circle\"}});\n",
       "    });\n",
       "</script>"
      ]
     },
     "metadata": {},
     "output_type": "display_data"
    },
    {
     "data": {
      "text/html": [
       "<script id=\"myVizzu_2e11dce\">\n",
       "    let display_2e11dce = myVizzu_2e11dce.parentNode.parentNode.style.display;\n",
       "    myVizzu_2e11dce.parentNode.parentNode.style.display = \"none\";\n",
       "    chart_6d3c38f = chart_6d3c38f.then(chart => {\n",
       "        if (myVizzu_6d3c38f.parentNode && myVizzu_6d3c38f.parentNode.parentNode) {\n",
       "            myVizzu_6d3c38f.parentNode.parentNode.style.display = \"none\";\n",
       "        }\n",
       "        myVizzu_2e11dce.parentNode.parentNode.style.display = display_2e11dce;\n",
       "        myVizzu_2e11dce.parentNode.insertBefore(myVizzu_6d3c38f, myVizzu_2e11dce);\n",
       "        if (!document.inhibitScroll && true) {\n",
       "            myVizzu_6d3c38f.scrollIntoView({behavior: \"auto\", block: \"center\"});\n",
       "        }\n",
       "        return chart.animate({\"config\": {\"title\": \"Geometry: rectangle - default\"}});\n",
       "    });\n",
       "</script>"
      ]
     },
     "metadata": {},
     "output_type": "display_data"
    },
    {
     "data": {
      "text/html": [
       "<script id=\"myVizzu_3f7bd45\">\n",
       "    let display_3f7bd45 = myVizzu_3f7bd45.parentNode.parentNode.style.display;\n",
       "    myVizzu_3f7bd45.parentNode.parentNode.style.display = \"none\";\n",
       "    chart_6d3c38f = chart_6d3c38f.then(chart => {\n",
       "        if (myVizzu_6d3c38f.parentNode && myVizzu_6d3c38f.parentNode.parentNode) {\n",
       "            myVizzu_6d3c38f.parentNode.parentNode.style.display = \"none\";\n",
       "        }\n",
       "        myVizzu_3f7bd45.parentNode.parentNode.style.display = display_3f7bd45;\n",
       "        myVizzu_3f7bd45.parentNode.insertBefore(myVizzu_6d3c38f, myVizzu_3f7bd45);\n",
       "        if (!document.inhibitScroll && true) {\n",
       "            myVizzu_6d3c38f.scrollIntoView({behavior: \"auto\", block: \"center\"});\n",
       "        }\n",
       "        return chart.animate({\"config\": {\"geometry\": \"rectangle\"}});\n",
       "    });\n",
       "</script>"
      ]
     },
     "metadata": {},
     "output_type": "display_data"
    }
   ],
   "source": [
    "from ipyvizzu import Chart, Data, Config\n",
    "\n",
    "chart = Chart()\n",
    "\n",
    "data = Data.from_json(\"./music_data.json\")\n",
    "\n",
    "chart.animate(data)\n",
    "\n",
    "chart.animate(Config({\n",
    "    \"channels\": {\n",
    "        \"y\": {\n",
    "            \"set\": \"Popularity\"\n",
    "        }, \n",
    "        \"x\": {\n",
    "            \"set\": \"Genres\"\n",
    "        }\n",
    "    }\n",
    "}))\n",
    "\n",
    "chart.animate(Config({\n",
    "    \"title\": \"Geometry: area\"\n",
    "}))\n",
    "\n",
    "chart.animate(Config({\n",
    "    \"geometry\": \"area\"\n",
    "}))\n",
    "\n",
    "chart.animate(Config({\n",
    "    \"title\": \"Geometry: line\"\n",
    "}))\n",
    "\n",
    "chart.animate(Config({\n",
    "    \"geometry\": \"line\"\n",
    "}))\n",
    "\n",
    "chart.animate(Config({\n",
    "    \"title\": \"Geometry: circle\"\n",
    "}))\n",
    "\n",
    "chart.animate(Config({\n",
    "    \"geometry\": \"circle\"\n",
    "}))\n",
    "\n",
    "chart.animate(Config({\n",
    "    \"title\": \"Geometry: rectangle - default\"\n",
    "}))\n",
    "\n",
    "chart.animate(Config({\n",
    "    \"geometry\": \"rectangle\"\n",
    "}))"
   ]
  },
  {
   "cell_type": "markdown",
   "id": "dd367af6",
   "metadata": {},
   "source": [
    "Next chapter: [Channels & legend](./channels.ipynb) ----- Previous chapter: [Axes, title, tooltip](./axes.ipynb) ----- Back to the [Table of contents](../index.ipynb)"
   ]
  }
 ],
 "metadata": {
  "kernelspec": {
   "display_name": ".venv",
   "language": "python",
   "name": ".venv"
  },
  "language_info": {
   "codemirror_mode": {
    "name": "ipython",
    "version": 3
   },
   "file_extension": ".py",
   "mimetype": "text/x-python",
   "name": "python",
   "nbconvert_exporter": "python",
   "pygments_lexer": "ipython3",
   "version": "3.8.10"
  }
 },
 "nbformat": 4,
 "nbformat_minor": 5
}
