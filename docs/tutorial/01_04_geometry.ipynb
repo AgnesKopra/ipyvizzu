{
 "cells": [
  {
   "cell_type": "markdown",
   "id": "66a74bfa",
   "metadata": {},
   "source": [
    "# Geometry\n",
    "\n",
    "In ipyvizzu you can set the geometric elements used to represent your data by the geometry property within the config object. This is where the library shines - beautifully animating between the geometries!\n",
    "\n",
    "The first step is switching the geometry to area.\n",
    "\n",
    "The second step is drawing a line chart.\n",
    "\n",
    "The third step is switching the geometry to circle. This setting is the most useful when used together with the size channel, as shown in the next chapter of the tutorial.\n",
    "\n",
    "The last step is switching the geometry to rectangle. Rectangle geometry is the default setting in Vizzu, used for most common charts like bar and column charts."
   ]
  },
  {
   "cell_type": "markdown",
   "id": "2464bb58",
   "metadata": {},
   "source": [
    "**Note:** The data used in this tutorial is available [here](https://github.com/vizzuhq/ipyvizzu/blob/gh-pages/docs/tutorial/music_data.json). You can read more about the available types of data in the [Adding data](./01_02_adding_data.ipynb) chapter."
   ]
  },
  {
   "cell_type": "code",
   "execution_count": null,
   "id": "4306bf06",
   "metadata": {},
   "outputs": [],
   "source": [
    "from ipyvizzu import Chart, Data, Config\n",
    "\n",
    "chart = Chart()\n",
    "\n",
    "data = Data.from_json(\"./music_data.json\")\n",
    "\n",
    "chart.animate(data)\n",
    "\n",
    "chart.animate(\n",
    "    Config({\"channels\": {\"y\": {\"set\": \"Popularity\"}, \"x\": {\"set\": \"Genres\"}}})\n",
    ")\n",
    "\n",
    "chart.animate(Config({\"title\": \"Geometry: area\"}))\n",
    "\n",
    "chart.animate(Config({\"geometry\": \"area\"}))\n",
    "\n",
    "chart.animate(Config({\"title\": \"Geometry: line\"}))\n",
    "\n",
    "chart.animate(Config({\"geometry\": \"line\"}))\n",
    "\n",
    "chart.animate(Config({\"title\": \"Geometry: circle\"}))\n",
    "\n",
    "chart.animate(Config({\"geometry\": \"circle\"}))\n",
    "\n",
    "chart.animate(Config({\"title\": \"Geometry: rectangle - default\"}))\n",
    "\n",
    "chart.animate(Config({\"geometry\": \"rectangle\"}))"
   ]
  },
  {
   "cell_type": "markdown",
   "id": "c0ce1b75",
   "metadata": {},
   "source": [
    "Next chapter: [Channels & legend](./01_05_channels_legend.ipynb) ----- Previous chapter: [Axes, title, tooltip](./01_03_axes_title_tooltip.ipynb) ----- Back to the [Table of contents](../doc.ipynb#tutorial)"
   ]
  }
 ],
 "metadata": {
  "kernelspec": {
   "display_name": ".venv",
   "language": "python",
   "name": ".venv"
  },
  "language_info": {
   "codemirror_mode": {
    "name": "ipython",
    "version": 3
   },
   "file_extension": ".py",
   "mimetype": "text/x-python",
   "name": "python",
   "nbconvert_exporter": "python",
   "pygments_lexer": "ipython3",
   "version": "3.8.10"
  },
  "title": "ipyvizzu - Geometry"
 },
 "nbformat": 4,
 "nbformat_minor": 5
}
