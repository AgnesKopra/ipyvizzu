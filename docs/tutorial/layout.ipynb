{
 "cells": [
  {
   "cell_type": "markdown",
   "source": [
    "## Chart layout\n",
    "\n",
    "Vizzu has three separate parts of the chart layout: the plot area that contains the chart, the title containing the chart title on the top, and the legend on the left. Vizzu automatically hides the legend when it’s unnecessary to show it. When the title is not in use, Vizzu hides that part automatically as well. Each of these parts have their own paddings on all four sides that adjust to the chart size by default, but can also be set with the appropriate settings in the style object. All size parameters can be set in pixel, percentage and em.\n",
    "\n",
    "We add different background colors to the parts of the layout to show how they are aligned."
   ],
   "metadata": {}
  },
  {
   "cell_type": "markdown",
   "source": [
    "**Note:** The data used in this tutorial is available [here](https://github.com/vizzuhq/ipyvizzu/blob/gh-pages/docs/tutorial/music_data.json). You can read more about the available types of data in the [Adding data](./data.ipynb) chapter."
   ],
   "metadata": {}
  },
  {
   "cell_type": "code",
   "execution_count": null,
   "source": [
    "from ipyvizzu import Chart, Data, Config, Style\n",
    "\n",
    "chart = Chart()\n",
    "\n",
    "data = Data.from_json(\"./music_data.json\")\n",
    "\n",
    "chart.animate(data)\n",
    "\n",
    "chart.animate(Config({\n",
    "    \"channels\": {\n",
    "        \"y\": {\n",
    "            \"set\": [\"Popularity\", \"Kinds\"]\n",
    "        }, \n",
    "        \"x\": {\n",
    "            \"set\": \"Genres\"\n",
    "        }\n",
    "    }, \n",
    "    \"label\": {\n",
    "        \"attach\": \"Popularity\"\n",
    "    },\n",
    "    \"color\": {\n",
    "        \"set\": \"Kinds\"\n",
    "    },\n",
    "    \"title\": \"Plot, title and legend background\"\n",
    "}))\n",
    "\n",
    "chart.animate(Style({\n",
    "    \"title\": { \n",
    "        \"backgroundColor\": '#A0A0A0' \n",
    "    },\n",
    "    \"plot\": { \n",
    "        \"backgroundColor\": '#D2D2D2' \n",
    "    },\n",
    "    \"legend\": { \n",
    "        \"backgroundColor\": '#808080' \n",
    "    }\n",
    "}))\n",
    "\n",
    "snapshot1 = chart.store()"
   ],
   "outputs": [],
   "metadata": {}
  },
  {
   "cell_type": "markdown",
   "source": [
    "Setting the width of the legend."
   ],
   "metadata": {}
  },
  {
   "cell_type": "code",
   "execution_count": null,
   "source": [
    "chart.animate(snapshot1)\n",
    "\n",
    "chart.animate(Config({\"title\": \"Legend width\"}))\n",
    "\n",
    "chart.animate(Style({\n",
    "    \"legend\": { \n",
    "        \"width\": 50 \n",
    "    }\n",
    "}))\n",
    "\n",
    "snapshot2 = chart.store()"
   ],
   "outputs": [],
   "metadata": {}
  },
  {
   "cell_type": "markdown",
   "source": [
    "Setting the legend width back to its default value."
   ],
   "metadata": {}
  },
  {
   "cell_type": "code",
   "execution_count": null,
   "source": [
    "chart.animate(snapshot2)\n",
    "\n",
    "chart.animate(Style({\n",
    "    \"legend\": { \n",
    "        \"width\": None \n",
    "    }\n",
    "}))\n",
    "\n",
    "snapshot3 = chart.store()"
   ],
   "outputs": [],
   "metadata": {}
  },
  {
   "cell_type": "markdown",
   "source": [
    "Changing the title paddings. By default, the title is horizontally centered above the chart. In this example, we set the title’s left padding, resulting in the text moving to the right."
   ],
   "metadata": {}
  },
  {
   "cell_type": "code",
   "execution_count": null,
   "source": [
    "chart.animate(snapshot3)\n",
    "\n",
    "chart.animate(Config({\"title\": \"Title padding\"}))\n",
    "\n",
    "chart.animate(Style({\n",
    "    \"title\": {\n",
    "        \"paddingTop\": 20,\n",
    "        \"paddingBottom\": 20,\n",
    "        \"paddingLeft\": 200\n",
    "    }\n",
    "}))\n",
    "\n",
    "snapshot4 = chart.store()"
   ],
   "outputs": [],
   "metadata": {}
  },
  {
   "cell_type": "markdown",
   "source": [
    "Setting the title paddings back to their default values."
   ],
   "metadata": {}
  },
  {
   "cell_type": "code",
   "execution_count": null,
   "source": [
    "chart.animate(snapshot4)\n",
    "\n",
    "chart.animate(Style({\n",
    "    \"title\": {\n",
    "        \"paddingTop\": None,\n",
    "        \"paddingBottom\": None,\n",
    "        \"paddingLeft\": None\n",
    "    }\n",
    "}))\n",
    "\n",
    "snapshot5 = chart.store()"
   ],
   "outputs": [],
   "metadata": {}
  },
  {
   "cell_type": "markdown",
   "source": [
    "Changing the paddings of the plot area to position the plot. The texts on the axes are drawn on the padding of the plot and not the plot itself."
   ],
   "metadata": {}
  },
  {
   "cell_type": "code",
   "execution_count": null,
   "source": [
    "chart.animate(snapshot5)\n",
    "\n",
    "chart.animate(Config({\"title\": \"Plot padding\"}))\n",
    "\n",
    "chart.animate(Style({\n",
    "    \"plot\": {\n",
    "        \"paddingLeft\": 100,\n",
    "        \"paddingRight\": 100\n",
    "    }\n",
    "}))\n",
    "\n",
    "snapshot6 = chart.store()"
   ],
   "outputs": [],
   "metadata": {}
  },
  {
   "cell_type": "markdown",
   "source": [
    "Setting the plot paddings back to their default values."
   ],
   "metadata": {}
  },
  {
   "cell_type": "code",
   "execution_count": null,
   "source": [
    "chart.animate(snapshot6)\n",
    "\n",
    "chart.animate(Style({\n",
    "    \"plot\": {\n",
    "        \"paddingLeft\": None,\n",
    "        \"paddingRight\": None\n",
    "    }\n",
    "}))"
   ],
   "outputs": [],
   "metadata": {}
  },
  {
   "cell_type": "markdown",
   "source": [
    "Next chapter: [Animation options](./animation_options.ipynb) ----- Previous chapter: [Color palette & fonts](./palette_font.ipynb) ----- Back to the [Table of contents](../doc.ipynb#tutorial)"
   ],
   "metadata": {}
  }
 ],
 "metadata": {
  "kernelspec": {
   "display_name": ".venv",
   "language": "python",
   "name": ".venv"
  },
  "language_info": {
   "codemirror_mode": {
    "name": "ipython",
    "version": 3
   },
   "file_extension": ".py",
   "mimetype": "text/x-python",
   "name": "python",
   "nbconvert_exporter": "python",
   "pygments_lexer": "ipython3",
   "version": "3.8.10"
  },
  "title": "ipyvizzu - Chart layout"
 },
 "nbformat": 4,
 "nbformat_minor": 5
}