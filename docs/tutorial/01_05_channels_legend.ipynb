{
 "cells": [
  {
   "cell_type": "markdown",
   "id": "13259f2a",
   "metadata": {},
   "source": [
    "# Channels & legend\n",
    "\n",
    "Besides the x-axis and the y-axis, there are five more channels in Vizzu you can use to visualize your data. Similarly to the axes you can put any number of dimensions and/or one measure to a channel. In the following example the four most commonly used channels are shown. The fifth, noop channel is introduced later in the [Without coordinates & noop channel](./01_12_without_coordinates_noop_channel.ipynb) chapter.\n",
    "\n",
    "Data on the label channel will be written on the markers on the chart. Vizzu automatically determines the best way to position these labels, but you can set them differently with the style object introduced in the [Color palette & fonts](./01_13_color_palette_fonts.ipynb) chapter."
   ]
  },
  {
   "cell_type": "markdown",
   "id": "9b69ea9d",
   "metadata": {},
   "source": [
    "**Note:** The data used in this tutorial is available [here](https://github.com/vizzuhq/ipyvizzu/blob/gh-pages/docs/tutorial/music_data.json). You can read more about the available types of data in the [Adding data](./01_02_adding_data.ipynb) chapter."
   ]
  },
  {
   "cell_type": "code",
   "execution_count": 1,
   "id": "c663a45e",
   "metadata": {},
   "outputs": [
    {
     "data": {
      "application/javascript": [
       "if (!window.IpyVizzu) {\n",
       "    class IpyVizzu \n",
       "    {\n",
       "        constructor()\n",
       "        {\n",
       "            IpyVizzu.inhibitScroll = false;\n",
       "            IpyVizzu.nbconvert = false;\n",
       "            document.addEventListener('wheel', (evt) => { IpyVizzu.inhibitScroll = true }, true);\n",
       "            document.addEventListener('keydown', (evt) => { IpyVizzu.inhibitScroll = true }, true);\n",
       "            document.addEventListener('touchstart', (evt) => { IpyVizzu.inhibitScroll = true }, true);\n",
       "\n",
       "            this.elements = {};\n",
       "            this.charts = {};\n",
       "            \n",
       "            this.snapshots = {};\n",
       "            this.displays = {};\n",
       "\n",
       "            this.events = {};\n",
       "            this.loaded = {};\n",
       "            this.libs = {};\n",
       "        }\n",
       "\n",
       "        static clearInhibitScroll(element)\n",
       "        {\n",
       "            if (IpyVizzu.nbconvert) IpyVizzu._hide(element);\n",
       "            IpyVizzu.inhibitScroll = false;\n",
       "        }\n",
       "\n",
       "        createChart(element, chartId, vizzulib, divWidth, divHeight) {\n",
       "            this.elements[chartId] = document.createElement(\"div\");\n",
       "            this.elements[chartId].style.cssText = `width: ${divWidth}; height: ${divHeight};`;\n",
       "            this.loaded[chartId] = import(vizzulib);\n",
       "            this.charts[chartId] = this.loaded[chartId].then(Vizzu => {\n",
       "                this.libs[chartId] = Vizzu.default;\n",
       "                return new Vizzu.default(this.elements[chartId]).initializing\n",
       "            });\n",
       "            this._moveHere(chartId, element);\n",
       "        }\n",
       "\n",
       "        animate(element, chartId, displayTarget, scrollEnabled, getChartTarget, chartAnimOpts)\n",
       "        {\n",
       "            if (IpyVizzu.nbconvert) IpyVizzu._hide(element);\n",
       "            if (displayTarget === 'end') this._moveHere(chartId, element);\n",
       "            this.charts[chartId] = this.charts[chartId].then(chart => {\n",
       "                if (displayTarget === 'actual') this._moveHere(chartId, element);\n",
       "                this._scroll(chartId, scrollEnabled);\n",
       "                let chartTarget = getChartTarget(this.libs[chartId]);\n",
       "                if (typeof chartTarget === 'string') chartTarget = this.snapshots[chartTarget];\n",
       "                return chart.animate(chartTarget, chartAnimOpts);\n",
       "            });\n",
       "        }\n",
       "\n",
       "        store(element, chartId, id)\n",
       "        {\n",
       "            if (IpyVizzu.nbconvert) IpyVizzu._hide(element);\n",
       "            this.charts[chartId] = this.charts[chartId].then(chart => {\n",
       "                this.snapshots[id] = chart.store();\n",
       "                return chart;\n",
       "            });\n",
       "        }\n",
       "\n",
       "        feature(element, chartId, name, enabled)\n",
       "        {\n",
       "            if (IpyVizzu.nbconvert) IpyVizzu._hide(element);\n",
       "            this.charts[chartId] = this.charts[chartId].then(chart => {\n",
       "                chart.feature(name, enabled);\n",
       "                return chart;\n",
       "            });\n",
       "        }\n",
       "\n",
       "        setEvent(element, chartId, id, event, handler)\n",
       "        {\n",
       "            if (IpyVizzu.nbconvert) IpyVizzu._hide(element);\n",
       "            this.charts[chartId] = this.charts[chartId].then(chart => {\n",
       "                this.events[id] = handler;\n",
       "                chart.on(event, this.events[id]);\n",
       "                return chart;\n",
       "            });\n",
       "        }\n",
       "\n",
       "        clearEvent(element, chartId, id, event)\n",
       "        {\n",
       "            if (IpyVizzu.nbconvert) IpyVizzu._hide(element);\n",
       "            this.charts[chartId] = this.charts[chartId].then(chart => {\n",
       "                chart.off(event, this.events[id]);\n",
       "                return chart;\n",
       "            });\n",
       "        }\n",
       "\n",
       "        log(element, chartId, chartProperty)\n",
       "        {\n",
       "            if (IpyVizzu.nbconvert) IpyVizzu._hide(element);\n",
       "            this.charts[chartId] = this.charts[chartId].then(chart => {\n",
       "                console.log(chart[chartProperty])\n",
       "                return chart;\n",
       "            });\n",
       "        }\n",
       "\n",
       "        _moveHere(chartId, element)\n",
       "        {\n",
       "            if (IpyVizzu.nbconvert) IpyVizzu._display(this.elements[chartId], element);\n",
       "            element.append(this.elements[chartId]);\n",
       "        }\n",
       "\n",
       "        _scroll(chartId, enabled)\n",
       "        {\n",
       "            if (!IpyVizzu.inhibitScroll && enabled) {\n",
       "                this.elements[chartId].scrollIntoView({ behavior: \"auto\", block: \"center\" });\n",
       "            }\n",
       "        }\n",
       "\n",
       "        static _hide(element) {\n",
       "            document.getElementById(element.selector.substring(1)).parentNode.style.display = 'none';\n",
       "        }\n",
       "\n",
       "        static _display(prevElement, element) {\n",
       "            if (prevElement.parentNode) {\n",
       "                prevElement.parentNode.style.display = \"none\";\n",
       "            }\n",
       "            document.getElementById(element.selector.substring(1)).parentNode.style.display = 'flex';\n",
       "            document.getElementById(element.selector.substring(1)).parentNode.style.margin = 'auto';\n",
       "        }\n",
       "    }\n",
       "\n",
       "    window.IpyVizzu = IpyVizzu;\n",
       "    window.ipyvizzu = new window.IpyVizzu();\n",
       "}"
      ]
     },
     "metadata": {},
     "output_type": "display_data"
    },
    {
     "data": {
      "application/javascript": [
       "window.ipyvizzu.createChart(element, 'a6fa420', 'https://cdn.jsdelivr.net/npm/vizzu@~0.6.0/dist/vizzu.min.js', '800px', '480px');"
      ]
     },
     "metadata": {},
     "output_type": "display_data"
    },
    {
     "data": {
      "application/javascript": [
       "window.ipyvizzu.animate(element, 'a6fa420', 'actual', false, lib => { return {\"data\": {\"dimensions\": [{\"name\": \"Genres\", \"values\": [\"Pop\", \"Rock\", \"Jazz\", \"Metal\"]}, {\"name\": \"Kinds\", \"values\": [\"Hard\", \"Smooth\", \"Experimental\"]}], \"measures\": [{\"name\": \"Popularity\", \"values\": [[114, 96, 78, 52], [56, 36, 174, 121], [127, 83, 94, 58]]}]}} }, undefined);"
      ]
     },
     "metadata": {},
     "output_type": "display_data"
    },
    {
     "data": {
      "application/javascript": [
       "window.ipyvizzu.animate(element, 'a6fa420', 'actual', false, lib => { return {\"config\": {\"channels\": {\"y\": {\"set\": \"Popularity\"}, \"x\": {\"set\": \"Genres\"}}, \"title\": \"Label\"}} }, undefined);"
      ]
     },
     "metadata": {},
     "output_type": "display_data"
    },
    {
     "data": {
      "application/javascript": [
       "window.ipyvizzu.animate(element, 'a6fa420', 'actual', false, lib => { return {\"config\": {\"channels\": {\"label\": {\"attach\": \"Popularity\"}}}} }, undefined);"
      ]
     },
     "metadata": {},
     "output_type": "display_data"
    },
    {
     "data": {
      "application/javascript": [
       "window.ipyvizzu.store(element, 'a6fa420', '60e65a4');"
      ]
     },
     "metadata": {},
     "output_type": "display_data"
    }
   ],
   "source": [
    "from ipyvizzu import Chart, Data, Config\n",
    "\n",
    "chart = Chart()\n",
    "\n",
    "data = Data.from_json(\"./music_data.json\")\n",
    "\n",
    "chart.animate(data)\n",
    "\n",
    "chart.animate(\n",
    "    Config(\n",
    "        {\n",
    "            \"channels\": {\"y\": {\"set\": \"Popularity\"}, \"x\": {\"set\": \"Genres\"}},\n",
    "            \"title\": \"Label\",\n",
    "        }\n",
    "    )\n",
    ")\n",
    "\n",
    "chart.animate(Config({\"channels\": {\"label\": {\"attach\": \"Popularity\"}}}))\n",
    "\n",
    "snapshot1 = chart.store()"
   ]
  },
  {
   "cell_type": "markdown",
   "id": "258b5958",
   "metadata": {},
   "source": [
    "The lightness channel sets the lightness of the markers. In this case the same measure (Popularity) is added to it that is on the y-axis, meaning that columns’ height and lightness represent the same values. The legend for the lightness channel is turned on using the legend property.\n",
    "\n",
    "**Note:** This is an example when we explicitly instruct Vizzu to show the legend. By default Vizzu automatically shows/hides the legend when it's necessary. You can also turn it off with the legend : null command or set back to automatic mode with legend : 'auto'."
   ]
  },
  {
   "cell_type": "code",
   "execution_count": 2,
   "id": "8c24f483",
   "metadata": {},
   "outputs": [
    {
     "data": {
      "application/javascript": [
       "if (window.IpyVizzu) { window.IpyVizzu.clearInhibitScroll(element); }"
      ]
     },
     "metadata": {},
     "output_type": "display_data"
    },
    {
     "data": {
      "application/javascript": [
       "window.ipyvizzu.animate(element, 'a6fa420', 'actual', false, lib => { return '60e65a4' }, undefined);"
      ]
     },
     "metadata": {},
     "output_type": "display_data"
    },
    {
     "data": {
      "application/javascript": [
       "window.ipyvizzu.animate(element, 'a6fa420', 'actual', false, lib => { return {\"config\": {\"title\": \"Lightness - legend on\"}} }, undefined);"
      ]
     },
     "metadata": {},
     "output_type": "display_data"
    },
    {
     "data": {
      "application/javascript": [
       "window.ipyvizzu.animate(element, 'a6fa420', 'actual', false, lib => { return {\"config\": {\"channels\": {\"lightness\": {\"attach\": \"Popularity\"}}, \"legend\": \"lightness\"}} }, undefined);"
      ]
     },
     "metadata": {},
     "output_type": "display_data"
    },
    {
     "data": {
      "application/javascript": [
       "window.ipyvizzu.store(element, 'a6fa420', '2cf8c11');"
      ]
     },
     "metadata": {},
     "output_type": "display_data"
    }
   ],
   "source": [
    "chart.animate(snapshot1)\n",
    "\n",
    "chart.animate(Config({\"title\": \"Lightness - legend on\"}))\n",
    "\n",
    "chart.animate(\n",
    "    Config({\"channels\": {\"lightness\": {\"attach\": \"Popularity\"}}, \"legend\": \"lightness\"})\n",
    ")\n",
    "\n",
    "snapshot2 = chart.store()"
   ]
  },
  {
   "cell_type": "markdown",
   "id": "17cf4ea1",
   "metadata": {},
   "source": [
    "The color channel sets the color of the markers. The same dimension (Genres) is put on it that is on the x-axis resulting in each bar having a different color. If a measure is put on the color channel, a color range will be used.\n",
    "\n",
    "**Note:** The value on the lightness channel is removed in this step as it doesn’t make sense to use it together with the color channel in this case."
   ]
  },
  {
   "cell_type": "code",
   "execution_count": 3,
   "id": "e1c94da6",
   "metadata": {},
   "outputs": [
    {
     "data": {
      "application/javascript": [
       "if (window.IpyVizzu) { window.IpyVizzu.clearInhibitScroll(element); }"
      ]
     },
     "metadata": {},
     "output_type": "display_data"
    },
    {
     "data": {
      "application/javascript": [
       "window.ipyvizzu.animate(element, 'a6fa420', 'actual', false, lib => { return '2cf8c11' }, undefined);"
      ]
     },
     "metadata": {},
     "output_type": "display_data"
    },
    {
     "data": {
      "application/javascript": [
       "window.ipyvizzu.animate(element, 'a6fa420', 'actual', false, lib => { return {\"config\": {\"title\": \"Color\"}} }, undefined);"
      ]
     },
     "metadata": {},
     "output_type": "display_data"
    },
    {
     "data": {
      "application/javascript": [
       "window.ipyvizzu.animate(element, 'a6fa420', 'actual', false, lib => { return {\"config\": {\"channels\": {\"color\": {\"attach\": \"Genres\"}}, \"legend\": \"color\"}} }, undefined);"
      ]
     },
     "metadata": {},
     "output_type": "display_data"
    },
    {
     "data": {
      "application/javascript": [
       "window.ipyvizzu.store(element, 'a6fa420', 'bdefbc7');"
      ]
     },
     "metadata": {},
     "output_type": "display_data"
    }
   ],
   "source": [
    "chart.animate(snapshot2)\n",
    "\n",
    "chart.animate(Config({\"title\": \"Color\"}))\n",
    "\n",
    "chart.animate(Config({\"channels\": {\"color\": {\"attach\": \"Genres\"}}, \"legend\": \"color\"}))\n",
    "\n",
    "snapshot3 = chart.store()"
   ]
  },
  {
   "cell_type": "markdown",
   "id": "6cde407d",
   "metadata": {},
   "source": [
    "The size channel sets the size of the markers if the geometry is circle - where size sets the radius of the circles - or line - where size determines line width. It is ignored when using rectangle or area geometry. This is why we change the geometry to circle in the example."
   ]
  },
  {
   "cell_type": "code",
   "execution_count": 4,
   "id": "56b8a91b",
   "metadata": {},
   "outputs": [
    {
     "data": {
      "application/javascript": [
       "if (window.IpyVizzu) { window.IpyVizzu.clearInhibitScroll(element); }"
      ]
     },
     "metadata": {},
     "output_type": "display_data"
    },
    {
     "data": {
      "application/javascript": [
       "window.ipyvizzu.animate(element, 'a6fa420', 'actual', false, lib => { return 'bdefbc7' }, undefined);"
      ]
     },
     "metadata": {},
     "output_type": "display_data"
    },
    {
     "data": {
      "application/javascript": [
       "window.ipyvizzu.animate(element, 'a6fa420', 'actual', false, lib => { return {\"config\": {\"title\": \"Size - change of geometry required\"}} }, undefined);"
      ]
     },
     "metadata": {},
     "output_type": "display_data"
    },
    {
     "data": {
      "application/javascript": [
       "window.ipyvizzu.animate(element, 'a6fa420', 'actual', false, lib => { return {\"config\": {\"channels\": {\"size\": {\"set\": \"Popularity\"}}, \"geometry\": \"circle\"}} }, undefined);"
      ]
     },
     "metadata": {},
     "output_type": "display_data"
    }
   ],
   "source": [
    "chart.animate(snapshot3)\n",
    "\n",
    "chart.animate(Config({\"title\": \"Size - change of geometry required\"}))\n",
    "\n",
    "chart.animate(\n",
    "    Config({\"channels\": {\"size\": {\"set\": \"Popularity\"}}, \"geometry\": \"circle\"})\n",
    ")"
   ]
  },
  {
   "cell_type": "markdown",
   "id": "157ff91a",
   "metadata": {},
   "source": [
    "Next chapter: [Group/stack](./01_06_group_stack.ipynb) ----- Previous chapter: [Geometry](./01_04_geometry.ipynb) ----- Back to the [Table of contents](../doc.ipynb#tutorial)"
   ]
  }
 ],
 "metadata": {
  "kernelspec": {
   "display_name": "Python 3 (ipykernel)",
   "language": "python",
   "name": "python3"
  },
  "language_info": {
   "codemirror_mode": {
    "name": "ipython",
    "version": 3
   },
   "file_extension": ".py",
   "mimetype": "text/x-python",
   "name": "python",
   "nbconvert_exporter": "python",
   "pygments_lexer": "ipython3",
   "version": "3.11.0"
  },
  "title": "ipyvizzu - Channels & legend"
 },
 "nbformat": 4,
 "nbformat_minor": 5
}
