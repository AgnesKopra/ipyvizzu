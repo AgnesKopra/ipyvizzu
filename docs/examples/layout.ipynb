{
 "cells": [
  {
   "cell_type": "markdown",
   "id": "8518ab11",
   "metadata": {},
   "source": [
    "## Chart layout\n",
    "\n",
    "Vizzu has three separate parts of the chart layout: the plot area that contains the chart, the title containing the chart title on the top, and the legend on the left. Vizzu automatically hides the legend when it’s unnecessary to show it. When the title is not in use, Vizzu hides that part automatically as well. Each of these parts have their own paddings on all four sides that adjust to the chart size by default, but can also be set with the appropriate settings in the style object. All size parameters can be set in pixel, percentage and em.\n",
    "\n",
    "We add different background colors to the parts of the layout to show how they are aligned."
   ]
  },
  {
   "cell_type": "code",
   "execution_count": 1,
   "id": "b0552636",
   "metadata": {},
   "outputs": [
    {
     "data": {
      "text/html": [
       "\n",
       "<div id=\"myVizzu_139983459274560\" style=\"width:800px; height:480px;\" />\n",
       "<script type=\"module\">\n",
       "import Vizzu from 'https://cdn.jsdelivr.net/npm/vizzu@latest/dist/vizzu.min.js';\n",
       "\n",
       "let chart = new Vizzu('myVizzu_139983459274560');\n",
       "chart.initializing.then( chart => {\n",
       "\n",
       "chart.animate({\"data\": {\"dimensions\": [{\"name\": \"Genres\", \"values\": [\"Pop\", \"Rock\", \"Jazz\", \"Metal\"]}, {\"name\": \"Types\", \"values\": [\"Hard\", \"Smooth\", \"Experimental\"]}], \"measures\": [{\"name\": \"Popularity\", \"values\": [[114, 96, 78, 52], [56, 36, 174, 121], [127, 83, 94, 58]]}]}});\n",
       "chart.animate({\"config\": {\"channels\": {\"y\": {\"set\": [\"Popularity\", \"Types\"]}, \"x\": {\"set\": \"Genres\"}}, \"label\": {\"attach\": [\"Popularity\"]}, \"color\": {\"set\": [\"Types\"]}, \"title\": \"Plot, title and legend background\"}});\n",
       "chart.animate({\"style\": {\"title\": {\"backgroundColor\": \"#A0A0A0\"}, \"plot\": {\"backgroundColor\": \"#D2D2D2\"}, \"legend\": {\"backgroundColor\": \"#808080\"}}});\n",
       "} );\n",
       "</script>"
      ]
     },
     "metadata": {},
     "output_type": "display_data"
    }
   ],
   "source": [
    "from ipyvizzu import Chart, Data, Config, Style\n",
    "\n",
    "data = Data()\n",
    "\n",
    "data.add_dimension('Genres', [ 'Pop', 'Rock', 'Jazz', 'Metal'])\n",
    "data.add_dimension('Types', [ 'Hard', 'Smooth', 'Experimental' ])\n",
    "\n",
    "data.add_measure(\n",
    "    'Popularity',\n",
    "    [\n",
    "        [114, 96, 78, 52],\n",
    "        [56, 36, 174, 121],\n",
    "        [127, 83, 94, 58],\n",
    "    ]\n",
    ")\n",
    "\n",
    "chart = Chart()\n",
    "chart.animate(data)\n",
    "chart.animate(Config({\n",
    "    \"channels\": {\"y\": {\"set\": [\"Popularity\", \"Types\"]}, \"x\": {\"set\": \"Genres\"}}, \n",
    "    \"label\": {\"attach\": [\"Popularity\"]},\n",
    "    \"color\": {\"set\": [\"Types\"]},\n",
    "    \"title\": \"Plot, title and legend background\"\n",
    "}))\n",
    "chart.animate(Style({\n",
    "    \"title\": { \"backgroundColor\": '#A0A0A0' },\n",
    "    \"plot\": { \"backgroundColor\": '#D2D2D2' },\n",
    "    \"legend\": { \"backgroundColor\": '#808080' }\n",
    "}))\n",
    "chart.show()"
   ]
  },
  {
   "cell_type": "markdown",
   "id": "00bf9cba",
   "metadata": {},
   "source": [
    "Setting the width of the legend."
   ]
  },
  {
   "cell_type": "code",
   "execution_count": 2,
   "id": "9a7fe9b8",
   "metadata": {},
   "outputs": [
    {
     "data": {
      "text/html": [
       "\n",
       "<div id=\"myVizzu_139983459271680\" style=\"width:800px; height:480px;\" />\n",
       "<script type=\"module\">\n",
       "import Vizzu from 'https://cdn.jsdelivr.net/npm/vizzu@latest/dist/vizzu.min.js';\n",
       "\n",
       "let chart = new Vizzu('myVizzu_139983459271680');\n",
       "chart.initializing.then( chart => {\n",
       "\n",
       "chart.animate({\"data\": {\"dimensions\": [{\"name\": \"Genres\", \"values\": [\"Pop\", \"Rock\", \"Jazz\", \"Metal\"]}, {\"name\": \"Types\", \"values\": [\"Hard\", \"Smooth\", \"Experimental\"]}], \"measures\": [{\"name\": \"Popularity\", \"values\": [[114, 96, 78, 52], [56, 36, 174, 121], [127, 83, 94, 58]]}]}});\n",
       "chart.animate({\"config\": {\"channels\": {\"y\": {\"set\": [\"Popularity\", \"Types\"]}, \"x\": {\"set\": \"Genres\"}}, \"label\": {\"attach\": [\"Popularity\"]}, \"color\": {\"set\": [\"Types\"]}, \"title\": \"Legend width\"}, \"style\": {\"title\": {\"backgroundColor\": \"#A0A0A0\"}, \"plot\": {\"backgroundColor\": \"#D2D2D2\"}, \"legend\": {\"backgroundColor\": \"#808080\"}}});\n",
       "chart.animate({\"style\": {\"legend\": {\"width\": 50}}});\n",
       "} );\n",
       "</script>"
      ]
     },
     "metadata": {},
     "output_type": "display_data"
    }
   ],
   "source": [
    "from ipyvizzu import Chart, Data, Config, Style\n",
    "\n",
    "data = Data()\n",
    "\n",
    "data.add_dimension('Genres', [ 'Pop', 'Rock', 'Jazz', 'Metal'])\n",
    "data.add_dimension('Types', [ 'Hard', 'Smooth', 'Experimental' ])\n",
    "\n",
    "data.add_measure(\n",
    "    'Popularity',\n",
    "    [\n",
    "        [114, 96, 78, 52],\n",
    "        [56, 36, 174, 121],\n",
    "        [127, 83, 94, 58],\n",
    "    ]\n",
    ")\n",
    "\n",
    "chart = Chart()\n",
    "chart.animate(data)\n",
    "chart.animate(\n",
    "    Config({\n",
    "        \"channels\": {\"y\": {\"set\": [\"Popularity\", \"Types\"]}, \"x\": {\"set\": \"Genres\"}}, \n",
    "        \"label\": {\"attach\": [\"Popularity\"]},\n",
    "        \"color\": {\"set\": [\"Types\"]},\n",
    "        \"title\": \"Legend width\"\n",
    "    }),\n",
    "    Style({\n",
    "    \"title\": { \"backgroundColor\": '#A0A0A0' },\n",
    "    \"plot\": { \"backgroundColor\": '#D2D2D2' },\n",
    "    \"legend\": { \"backgroundColor\": '#808080' }\n",
    "    }))\n",
    "chart.animate(Style({\n",
    "    \"legend\": { \"width\": 50 }\n",
    "}))\n",
    "chart.show()"
   ]
  },
  {
   "cell_type": "markdown",
   "id": "fa329122",
   "metadata": {},
   "source": [
    "Setting the legend width back to its default value."
   ]
  },
  {
   "cell_type": "code",
   "execution_count": 3,
   "id": "88fa24a8",
   "metadata": {},
   "outputs": [
    {
     "data": {
      "text/html": [
       "\n",
       "<div id=\"myVizzu_139983459363760\" style=\"width:800px; height:480px;\" />\n",
       "<script type=\"module\">\n",
       "import Vizzu from 'https://cdn.jsdelivr.net/npm/vizzu@latest/dist/vizzu.min.js';\n",
       "\n",
       "let chart = new Vizzu('myVizzu_139983459363760');\n",
       "chart.initializing.then( chart => {\n",
       "\n",
       "chart.animate({\"data\": {\"dimensions\": [{\"name\": \"Genres\", \"values\": [\"Pop\", \"Rock\", \"Jazz\", \"Metal\"]}, {\"name\": \"Types\", \"values\": [\"Hard\", \"Smooth\", \"Experimental\"]}], \"measures\": [{\"name\": \"Popularity\", \"values\": [[114, 96, 78, 52], [56, 36, 174, 121], [127, 83, 94, 58]]}]}});\n",
       "chart.animate({\"config\": {\"channels\": {\"y\": {\"set\": [\"Popularity\", \"Types\"]}, \"x\": {\"set\": \"Genres\"}}, \"label\": {\"attach\": [\"Popularity\"]}, \"color\": {\"set\": [\"Types\"]}, \"title\": \"Legend width\"}, \"style\": {\"title\": {\"backgroundColor\": \"#A0A0A0\"}, \"plot\": {\"backgroundColor\": \"#D2D2D2\"}, \"legend\": {\"backgroundColor\": \"#808080\", \"width\": 50}}});\n",
       "chart.animate({\"style\": {\"legend\": {\"width\": null}}});\n",
       "} );\n",
       "</script>"
      ]
     },
     "metadata": {},
     "output_type": "display_data"
    }
   ],
   "source": [
    "from ipyvizzu import Chart, Data, Config, Style\n",
    "\n",
    "data = Data()\n",
    "\n",
    "data.add_dimension('Genres', [ 'Pop', 'Rock', 'Jazz', 'Metal'])\n",
    "data.add_dimension('Types', [ 'Hard', 'Smooth', 'Experimental' ])\n",
    "\n",
    "data.add_measure(\n",
    "    'Popularity',\n",
    "    [\n",
    "        [114, 96, 78, 52],\n",
    "        [56, 36, 174, 121],\n",
    "        [127, 83, 94, 58],\n",
    "    ]\n",
    ")\n",
    "\n",
    "chart = Chart()\n",
    "chart.animate(data)\n",
    "chart.animate(\n",
    "    Config({\n",
    "        \"channels\": {\"y\": {\"set\": [\"Popularity\", \"Types\"]}, \"x\": {\"set\": \"Genres\"}}, \n",
    "        \"label\": {\"attach\": [\"Popularity\"]},\n",
    "        \"color\": {\"set\": [\"Types\"]},\n",
    "        \"title\": \"Legend width\"\n",
    "    }),\n",
    "    Style({\n",
    "    \"title\": { \"backgroundColor\": '#A0A0A0' },\n",
    "    \"plot\": { \"backgroundColor\": '#D2D2D2' },\n",
    "    \"legend\": {\n",
    "        \"backgroundColor\": '#808080',\n",
    "        \"width\": 50\n",
    "    }}))\n",
    "chart.animate(Style({\n",
    "    \"legend\": { \"width\": None }\n",
    "}))\n",
    "chart.show()"
   ]
  },
  {
   "cell_type": "markdown",
   "id": "3d68c376",
   "metadata": {},
   "source": [
    "Changing the title paddings. By default, the title is horizontally centered above the chart. In this example, we set the title’s left padding, resulting in the text moving to the right."
   ]
  },
  {
   "cell_type": "code",
   "execution_count": 4,
   "id": "c7e60196",
   "metadata": {},
   "outputs": [
    {
     "data": {
      "text/html": [
       "\n",
       "<div id=\"myVizzu_139983459273552\" style=\"width:800px; height:480px;\" />\n",
       "<script type=\"module\">\n",
       "import Vizzu from 'https://cdn.jsdelivr.net/npm/vizzu@latest/dist/vizzu.min.js';\n",
       "\n",
       "let chart = new Vizzu('myVizzu_139983459273552');\n",
       "chart.initializing.then( chart => {\n",
       "\n",
       "chart.animate({\"data\": {\"dimensions\": [{\"name\": \"Genres\", \"values\": [\"Pop\", \"Rock\", \"Jazz\", \"Metal\"]}, {\"name\": \"Types\", \"values\": [\"Hard\", \"Smooth\", \"Experimental\"]}], \"measures\": [{\"name\": \"Popularity\", \"values\": [[114, 96, 78, 52], [56, 36, 174, 121], [127, 83, 94, 58]]}]}});\n",
       "chart.animate({\"config\": {\"channels\": {\"y\": {\"set\": [\"Popularity\", \"Types\"]}, \"x\": {\"set\": \"Genres\"}}, \"label\": {\"attach\": [\"Popularity\"]}, \"color\": {\"set\": [\"Types\"]}, \"title\": \"Title padding\"}, \"style\": {\"title\": {\"backgroundColor\": \"#A0A0A0\"}, \"plot\": {\"backgroundColor\": \"#D2D2D2\"}, \"legend\": {\"backgroundColor\": \"#808080\"}}});\n",
       "chart.animate({\"style\": {\"title\": {\"paddingTop\": 20, \"paddingBottom\": 20, \"paddingLeft\": 200}}});\n",
       "} );\n",
       "</script>"
      ]
     },
     "metadata": {},
     "output_type": "display_data"
    }
   ],
   "source": [
    "from ipyvizzu import Chart, Data, Config, Style\n",
    "\n",
    "data = Data()\n",
    "\n",
    "data.add_dimension('Genres', [ 'Pop', 'Rock', 'Jazz', 'Metal'])\n",
    "data.add_dimension('Types', [ 'Hard', 'Smooth', 'Experimental' ])\n",
    "\n",
    "data.add_measure(\n",
    "    'Popularity',\n",
    "    [\n",
    "        [114, 96, 78, 52],\n",
    "        [56, 36, 174, 121],\n",
    "        [127, 83, 94, 58],\n",
    "    ]\n",
    ")\n",
    "\n",
    "chart = Chart()\n",
    "chart.animate(data)\n",
    "chart.animate(\n",
    "    Config({\n",
    "        \"channels\": {\"y\": {\"set\": [\"Popularity\", \"Types\"]}, \"x\": {\"set\": \"Genres\"}}, \n",
    "        \"label\": {\"attach\": [\"Popularity\"]},\n",
    "        \"color\": {\"set\": [\"Types\"]},\n",
    "        \"title\": \"Title padding\"\n",
    "    }),\n",
    "    Style({\n",
    "    \"title\": { \"backgroundColor\": '#A0A0A0' },\n",
    "    \"plot\": { \"backgroundColor\": '#D2D2D2' },\n",
    "    \"legend\": { \"backgroundColor\": '#808080'}}))\n",
    "chart.animate(Style({\n",
    "    \"title\": {\n",
    "        \"paddingTop\": 20,\n",
    "        \"paddingBottom\": 20,\n",
    "        \"paddingLeft\": 200\n",
    "    }\n",
    "}))\n",
    "chart.show()"
   ]
  },
  {
   "cell_type": "markdown",
   "id": "b45e96b6",
   "metadata": {},
   "source": [
    "Setting the title paddings back to their default values."
   ]
  },
  {
   "cell_type": "code",
   "execution_count": 5,
   "id": "d58b14d9",
   "metadata": {},
   "outputs": [
    {
     "data": {
      "text/html": [
       "\n",
       "<div id=\"myVizzu_139983459623840\" style=\"width:800px; height:480px;\" />\n",
       "<script type=\"module\">\n",
       "import Vizzu from 'https://cdn.jsdelivr.net/npm/vizzu@latest/dist/vizzu.min.js';\n",
       "\n",
       "let chart = new Vizzu('myVizzu_139983459623840');\n",
       "chart.initializing.then( chart => {\n",
       "\n",
       "chart.animate({\"data\": {\"dimensions\": [{\"name\": \"Genres\", \"values\": [\"Pop\", \"Rock\", \"Jazz\", \"Metal\"]}, {\"name\": \"Types\", \"values\": [\"Hard\", \"Smooth\", \"Experimental\"]}], \"measures\": [{\"name\": \"Popularity\", \"values\": [[114, 96, 78, 52], [56, 36, 174, 121], [127, 83, 94, 58]]}]}});\n",
       "chart.animate({\"config\": {\"channels\": {\"y\": {\"set\": [\"Popularity\", \"Types\"]}, \"x\": {\"set\": \"Genres\"}}, \"label\": {\"attach\": [\"Popularity\"]}, \"color\": {\"set\": [\"Types\"]}, \"title\": \"Title padding\"}, \"style\": {\"title\": {\"backgroundColor\": \"#A0A0A0\", \"paddingTop\": 20, \"paddingBottom\": 20, \"paddingLeft\": 200}, \"plot\": {\"backgroundColor\": \"#D2D2D2\"}, \"legend\": {\"backgroundColor\": \"#808080\"}}});\n",
       "chart.animate({\"style\": {\"title\": {\"paddingTop\": null, \"paddingBottom\": null, \"paddingLeft\": null}}});\n",
       "} );\n",
       "</script>"
      ]
     },
     "metadata": {},
     "output_type": "display_data"
    }
   ],
   "source": [
    "from ipyvizzu import Chart, Data, Config, Style\n",
    "\n",
    "data = Data()\n",
    "\n",
    "data.add_dimension('Genres', [ 'Pop', 'Rock', 'Jazz', 'Metal'])\n",
    "data.add_dimension('Types', [ 'Hard', 'Smooth', 'Experimental' ])\n",
    "\n",
    "data.add_measure(\n",
    "    'Popularity',\n",
    "    [\n",
    "        [114, 96, 78, 52],\n",
    "        [56, 36, 174, 121],\n",
    "        [127, 83, 94, 58],\n",
    "    ]\n",
    ")\n",
    "\n",
    "chart = Chart()\n",
    "chart.animate(data)\n",
    "chart.animate(\n",
    "    Config({\n",
    "        \"channels\": {\"y\": {\"set\": [\"Popularity\", \"Types\"]}, \"x\": {\"set\": \"Genres\"}}, \n",
    "        \"label\": {\"attach\": [\"Popularity\"]},\n",
    "        \"color\": {\"set\": [\"Types\"]},\n",
    "        \"title\": \"Title padding\"\n",
    "    }),\n",
    "    Style({\n",
    "    \"title\": {\n",
    "        \"backgroundColor\": '#A0A0A0',\n",
    "        \"paddingTop\": 20,\n",
    "        \"paddingBottom\": 20,\n",
    "        \"paddingLeft\": 200},\n",
    "    \"plot\": { \"backgroundColor\": '#D2D2D2' },\n",
    "    \"legend\": { \"backgroundColor\": '#808080'}}))\n",
    "chart.animate(Style({\n",
    "    \"title\": {\n",
    "        \"paddingTop\": None,\n",
    "        \"paddingBottom\": None,\n",
    "        \"paddingLeft\": None\n",
    "    }\n",
    "}))\n",
    "chart.show()"
   ]
  },
  {
   "cell_type": "markdown",
   "id": "6af0c821",
   "metadata": {},
   "source": [
    "Changing the paddings of the plot area to position the plot. The texts on the axes are drawn on the padding of the plot and not the plot itself."
   ]
  },
  {
   "cell_type": "code",
   "execution_count": 6,
   "id": "054257d1",
   "metadata": {},
   "outputs": [
    {
     "data": {
      "text/html": [
       "\n",
       "<div id=\"myVizzu_139983459363280\" style=\"width:800px; height:480px;\" />\n",
       "<script type=\"module\">\n",
       "import Vizzu from 'https://cdn.jsdelivr.net/npm/vizzu@latest/dist/vizzu.min.js';\n",
       "\n",
       "let chart = new Vizzu('myVizzu_139983459363280');\n",
       "chart.initializing.then( chart => {\n",
       "\n",
       "chart.animate({\"data\": {\"dimensions\": [{\"name\": \"Genres\", \"values\": [\"Pop\", \"Rock\", \"Jazz\", \"Metal\"]}, {\"name\": \"Types\", \"values\": [\"Hard\", \"Smooth\", \"Experimental\"]}], \"measures\": [{\"name\": \"Popularity\", \"values\": [[114, 96, 78, 52], [56, 36, 174, 121], [127, 83, 94, 58]]}]}});\n",
       "chart.animate({\"config\": {\"channels\": {\"y\": {\"set\": [\"Popularity\", \"Types\"]}, \"x\": {\"set\": \"Genres\"}}, \"label\": {\"attach\": [\"Popularity\"]}, \"color\": {\"set\": [\"Types\"]}, \"title\": \"Plot padding\"}, \"style\": {\"title\": {\"backgroundColor\": \"#A0A0A0\"}, \"plot\": {\"backgroundColor\": \"#D2D2D2\"}, \"legend\": {\"backgroundColor\": \"#808080\"}}});\n",
       "chart.animate({\"style\": {\"plot\": {\"paddingLeft\": 100, \"paddingRight\": 100}}});\n",
       "} );\n",
       "</script>"
      ]
     },
     "metadata": {},
     "output_type": "display_data"
    }
   ],
   "source": [
    "from ipyvizzu import Chart, Data, Config, Style\n",
    "\n",
    "data = Data()\n",
    "\n",
    "data.add_dimension('Genres', [ 'Pop', 'Rock', 'Jazz', 'Metal'])\n",
    "data.add_dimension('Types', [ 'Hard', 'Smooth', 'Experimental' ])\n",
    "\n",
    "data.add_measure(\n",
    "    'Popularity',\n",
    "    [\n",
    "        [114, 96, 78, 52],\n",
    "        [56, 36, 174, 121],\n",
    "        [127, 83, 94, 58],\n",
    "    ]\n",
    ")\n",
    "\n",
    "chart = Chart()\n",
    "chart.animate(data)\n",
    "chart.animate(\n",
    "    Config({\n",
    "        \"channels\": {\"y\": {\"set\": [\"Popularity\", \"Types\"]}, \"x\": {\"set\": \"Genres\"}}, \n",
    "        \"label\": {\"attach\": [\"Popularity\"]},\n",
    "        \"color\": {\"set\": [\"Types\"]},\n",
    "        \"title\": \"Plot padding\"\n",
    "    }),\n",
    "    Style({\n",
    "    \"title\": {\n",
    "        \"backgroundColor\": '#A0A0A0'},\n",
    "    \"plot\": { \"backgroundColor\": '#D2D2D2' },\n",
    "    \"legend\": { \"backgroundColor\": '#808080'}}))\n",
    "chart.animate(Style({\n",
    "    \"plot\": {\n",
    "        \"paddingLeft\": 100,\n",
    "        \"paddingRight\": 100\n",
    "    }\n",
    "}))\n",
    "chart.show()"
   ]
  },
  {
   "cell_type": "markdown",
   "id": "9e4b5dad",
   "metadata": {},
   "source": [
    "Setting the plot paddings back to their default values."
   ]
  },
  {
   "cell_type": "code",
   "execution_count": 7,
   "id": "28536d66",
   "metadata": {},
   "outputs": [
    {
     "data": {
      "text/html": [
       "\n",
       "<div id=\"myVizzu_139983459625136\" style=\"width:800px; height:480px;\" />\n",
       "<script type=\"module\">\n",
       "import Vizzu from 'https://cdn.jsdelivr.net/npm/vizzu@latest/dist/vizzu.min.js';\n",
       "\n",
       "let chart = new Vizzu('myVizzu_139983459625136');\n",
       "chart.initializing.then( chart => {\n",
       "\n",
       "chart.animate({\"data\": {\"dimensions\": [{\"name\": \"Genres\", \"values\": [\"Pop\", \"Rock\", \"Jazz\", \"Metal\"]}, {\"name\": \"Types\", \"values\": [\"Hard\", \"Smooth\", \"Experimental\"]}], \"measures\": [{\"name\": \"Popularity\", \"values\": [[114, 96, 78, 52], [56, 36, 174, 121], [127, 83, 94, 58]]}]}});\n",
       "chart.animate({\"config\": {\"channels\": {\"y\": {\"set\": [\"Popularity\", \"Types\"]}, \"x\": {\"set\": \"Genres\"}}, \"label\": {\"attach\": [\"Popularity\"]}, \"color\": {\"set\": [\"Types\"]}, \"title\": \"Plot padding\"}, \"style\": {\"title\": {\"backgroundColor\": \"#A0A0A0\"}, \"plot\": {\"backgroundColor\": \"#D2D2D2\", \"paddingLeft\": 100, \"paddingRight\": 100}, \"legend\": {\"backgroundColor\": \"#808080\"}}});\n",
       "chart.animate({\"style\": {\"plot\": {\"paddingLeft\": null, \"paddingRight\": null}}});\n",
       "} );\n",
       "</script>"
      ]
     },
     "metadata": {},
     "output_type": "display_data"
    }
   ],
   "source": [
    "from ipyvizzu import Chart, Data, Config, Style\n",
    "\n",
    "data = Data()\n",
    "\n",
    "data.add_dimension('Genres', [ 'Pop', 'Rock', 'Jazz', 'Metal'])\n",
    "data.add_dimension('Types', [ 'Hard', 'Smooth', 'Experimental' ])\n",
    "\n",
    "data.add_measure(\n",
    "    'Popularity',\n",
    "    [\n",
    "        [114, 96, 78, 52],\n",
    "        [56, 36, 174, 121],\n",
    "        [127, 83, 94, 58],\n",
    "    ]\n",
    ")\n",
    "\n",
    "chart = Chart()\n",
    "chart.animate(data)\n",
    "chart.animate(\n",
    "    Config({\n",
    "        \"channels\": {\"y\": {\"set\": [\"Popularity\", \"Types\"]}, \"x\": {\"set\": \"Genres\"}}, \n",
    "        \"label\": {\"attach\": [\"Popularity\"]},\n",
    "        \"color\": {\"set\": [\"Types\"]},\n",
    "        \"title\": \"Plot padding\"\n",
    "    }),\n",
    "    Style({\n",
    "    \"title\": {\n",
    "        \"backgroundColor\": '#A0A0A0'},\n",
    "    \"plot\": {\n",
    "        \"backgroundColor\": '#D2D2D2',\n",
    "        \"paddingLeft\": 100,\n",
    "        \"paddingRight\": 100},\n",
    "    \"legend\": { \"backgroundColor\": '#808080'}}))\n",
    "chart.animate(Style({\n",
    "    \"plot\": {\n",
    "        \"paddingLeft\": None,\n",
    "        \"paddingRight\": None\n",
    "    }\n",
    "}))\n",
    "chart.show()"
   ]
  }
 ],
 "metadata": {
  "kernelspec": {
   "display_name": "Python 3 (ipykernel)",
   "language": "python",
   "name": "python3"
  },
  "language_info": {
   "codemirror_mode": {
    "name": "ipython",
    "version": 3
   },
   "file_extension": ".py",
   "mimetype": "text/x-python",
   "name": "python",
   "nbconvert_exporter": "python",
   "pygments_lexer": "ipython3",
   "version": "3.10.1"
  }
 },
 "nbformat": 4,
 "nbformat_minor": 5
}
