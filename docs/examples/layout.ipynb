{
 "cells": [
  {
   "cell_type": "markdown",
   "id": "8518ab11",
   "metadata": {},
   "source": [
    "## Chart layout\n",
    "\n",
    "Vizzu has three separate parts of the chart layout: the plot area that contains the chart, the title containing the chart title on the top, and the legend on the left. Vizzu automatically hides the legend when it’s unnecessary to show it. When the title is not in use, Vizzu hides that part automatically as well. Each of these parts have their own paddings on all four sides that adjust to the chart size by default, but can also be set with the appropriate settings in the style object. All size parameters can be set in pixel, percentage and em.\n",
    "\n",
    "We add different background colors to the parts of the layout to show how they are aligned."
   ]
  },
  {
   "cell_type": "code",
   "execution_count": 1,
   "id": "b0552636",
   "metadata": {},
   "outputs": [
    {
     "data": {
      "text/html": [
       "<script>\n",
       "    let myVizzu_c94ce5e = document.createElement(\"div\");\n",
       "    myVizzu_c94ce5e.style.cssText = \"width: 800px; height: 480px;\";\n",
       "    let chart_c94ce5e = import(\"https://cdn.jsdelivr.net/npm/vizzu@~0.4.0/dist/vizzu.min.js\").then(Vizzu => new Vizzu.default(myVizzu_c94ce5e).initializing);\n",
       "</script>"
      ]
     },
     "metadata": {},
     "output_type": "display_data"
    },
    {
     "data": {
      "text/html": [
       "<script id=\"myVizzu_69cb781\">\n",
       "    chart_c94ce5e = chart_c94ce5e.then(chart => {\n",
       "        let script = document.getElementById(\"myVizzu_69cb781\");\n",
       "        if (myVizzu_c94ce5e.parentNode && myVizzu_c94ce5e.parentNode.parentNode) {\n",
       "            let display = myVizzu_c94ce5e.parentNode.parentNode.style.display;\n",
       "            myVizzu_c94ce5e.parentNode.parentNode.style.display = \"none\";\n",
       "            script.parentNode.parentNode.style.display = display;\n",
       "        }\n",
       "        script.parentNode.insertBefore(myVizzu_c94ce5e, script);\n",
       "        return chart.animate({\"data\": {\"dimensions\": [{\"name\": \"Genres\", \"values\": [\"Pop\", \"Rock\", \"Jazz\", \"Metal\"]}, {\"name\": \"Types\", \"values\": [\"Hard\", \"Smooth\", \"Experimental\"]}], \"measures\": [{\"name\": \"Popularity\", \"values\": [[114, 96, 78, 52], [56, 36, 174, 121], [127, 83, 94, 58]]}]}});\n",
       "    });\n",
       "</script>"
      ]
     },
     "metadata": {},
     "output_type": "display_data"
    },
    {
     "data": {
      "text/html": [
       "<script id=\"myVizzu_1bc7a92\">\n",
       "    chart_c94ce5e = chart_c94ce5e.then(chart => {\n",
       "        let script = document.getElementById(\"myVizzu_1bc7a92\");\n",
       "        if (myVizzu_c94ce5e.parentNode && myVizzu_c94ce5e.parentNode.parentNode) {\n",
       "            let display = myVizzu_c94ce5e.parentNode.parentNode.style.display;\n",
       "            myVizzu_c94ce5e.parentNode.parentNode.style.display = \"none\";\n",
       "            script.parentNode.parentNode.style.display = display;\n",
       "        }\n",
       "        script.parentNode.insertBefore(myVizzu_c94ce5e, script);\n",
       "        return chart.animate({\"config\": {\"channels\": {\"y\": {\"set\": [\"Popularity\", \"Types\"]}, \"x\": {\"set\": \"Genres\"}}, \"label\": {\"attach\": \"Popularity\"}, \"color\": {\"set\": \"Types\"}, \"title\": \"Plot, title and legend background\"}});\n",
       "    });\n",
       "</script>"
      ]
     },
     "metadata": {},
     "output_type": "display_data"
    },
    {
     "data": {
      "text/html": [
       "<script id=\"myVizzu_9e8766b\">\n",
       "    chart_c94ce5e = chart_c94ce5e.then(chart => {\n",
       "        let script = document.getElementById(\"myVizzu_9e8766b\");\n",
       "        if (myVizzu_c94ce5e.parentNode && myVizzu_c94ce5e.parentNode.parentNode) {\n",
       "            let display = myVizzu_c94ce5e.parentNode.parentNode.style.display;\n",
       "            myVizzu_c94ce5e.parentNode.parentNode.style.display = \"none\";\n",
       "            script.parentNode.parentNode.style.display = display;\n",
       "        }\n",
       "        script.parentNode.insertBefore(myVizzu_c94ce5e, script);\n",
       "        return chart.animate({\"style\": {\"title\": {\"backgroundColor\": \"#A0A0A0\"}, \"plot\": {\"backgroundColor\": \"#D2D2D2\"}, \"legend\": {\"backgroundColor\": \"#808080\"}}});\n",
       "    });\n",
       "</script>"
      ]
     },
     "metadata": {},
     "output_type": "display_data"
    },
    {
     "data": {
      "text/html": [
       "<script>\n",
       "    let snapshot_20c6a03;\n",
       "    chart_c94ce5e = chart_c94ce5e.then(chart => {\n",
       "        snapshot_20c6a03 = chart.store();\n",
       "        return chart;\n",
       "    });\n",
       "</script>"
      ]
     },
     "metadata": {},
     "output_type": "display_data"
    }
   ],
   "source": [
    "from ipyvizzu import Chart, Data, Config, Style\n",
    "\n",
    "chart = Chart()\n",
    "\n",
    "data = Data.from_json(\"../data/music_example_data.json\")\n",
    "\n",
    "chart.animate(data)\n",
    "\n",
    "chart.animate(Config({\n",
    "    \"channels\": {\n",
    "        \"y\": {\n",
    "            \"set\": [\"Popularity\", \"Types\"]\n",
    "        }, \n",
    "        \"x\": {\n",
    "            \"set\": \"Genres\"\n",
    "        }\n",
    "    }, \n",
    "    \"label\": {\n",
    "        \"attach\": \"Popularity\"\n",
    "    },\n",
    "    \"color\": {\n",
    "        \"set\": \"Types\"\n",
    "    },\n",
    "    \"title\": \"Plot, title and legend background\"\n",
    "}))\n",
    "\n",
    "chart.animate(Style({\n",
    "    \"title\": { \n",
    "        \"backgroundColor\": '#A0A0A0' \n",
    "    },\n",
    "    \"plot\": { \n",
    "        \"backgroundColor\": '#D2D2D2' \n",
    "    },\n",
    "    \"legend\": { \n",
    "        \"backgroundColor\": '#808080' \n",
    "    }\n",
    "}))\n",
    "\n",
    "snapshot1 = chart.store()"
   ]
  },
  {
   "cell_type": "markdown",
   "id": "00bf9cba",
   "metadata": {},
   "source": [
    "Setting the width of the legend."
   ]
  },
  {
   "cell_type": "code",
   "execution_count": 2,
   "id": "9a7fe9b8",
   "metadata": {},
   "outputs": [
    {
     "data": {
      "text/html": [
       "<script id=\"myVizzu_21c604b\">\n",
       "    chart_c94ce5e = chart_c94ce5e.then(chart => {\n",
       "        let script = document.getElementById(\"myVizzu_21c604b\");\n",
       "        if (myVizzu_c94ce5e.parentNode && myVizzu_c94ce5e.parentNode.parentNode) {\n",
       "            let display = myVizzu_c94ce5e.parentNode.parentNode.style.display;\n",
       "            myVizzu_c94ce5e.parentNode.parentNode.style.display = \"none\";\n",
       "            script.parentNode.parentNode.style.display = display;\n",
       "        }\n",
       "        script.parentNode.insertBefore(myVizzu_c94ce5e, script);\n",
       "        return chart.animate(snapshot_20c6a03);\n",
       "    });\n",
       "</script>"
      ]
     },
     "metadata": {},
     "output_type": "display_data"
    },
    {
     "data": {
      "text/html": [
       "<script id=\"myVizzu_5052d9d\">\n",
       "    chart_c94ce5e = chart_c94ce5e.then(chart => {\n",
       "        let script = document.getElementById(\"myVizzu_5052d9d\");\n",
       "        if (myVizzu_c94ce5e.parentNode && myVizzu_c94ce5e.parentNode.parentNode) {\n",
       "            let display = myVizzu_c94ce5e.parentNode.parentNode.style.display;\n",
       "            myVizzu_c94ce5e.parentNode.parentNode.style.display = \"none\";\n",
       "            script.parentNode.parentNode.style.display = display;\n",
       "        }\n",
       "        script.parentNode.insertBefore(myVizzu_c94ce5e, script);\n",
       "        return chart.animate({\"config\": {\"title\": \"Legend width\"}});\n",
       "    });\n",
       "</script>"
      ]
     },
     "metadata": {},
     "output_type": "display_data"
    },
    {
     "data": {
      "text/html": [
       "<script id=\"myVizzu_6115c6f\">\n",
       "    chart_c94ce5e = chart_c94ce5e.then(chart => {\n",
       "        let script = document.getElementById(\"myVizzu_6115c6f\");\n",
       "        if (myVizzu_c94ce5e.parentNode && myVizzu_c94ce5e.parentNode.parentNode) {\n",
       "            let display = myVizzu_c94ce5e.parentNode.parentNode.style.display;\n",
       "            myVizzu_c94ce5e.parentNode.parentNode.style.display = \"none\";\n",
       "            script.parentNode.parentNode.style.display = display;\n",
       "        }\n",
       "        script.parentNode.insertBefore(myVizzu_c94ce5e, script);\n",
       "        return chart.animate({\"style\": {\"legend\": {\"width\": 50}}});\n",
       "    });\n",
       "</script>"
      ]
     },
     "metadata": {},
     "output_type": "display_data"
    },
    {
     "data": {
      "text/html": [
       "<script>\n",
       "    let snapshot_24ac498;\n",
       "    chart_c94ce5e = chart_c94ce5e.then(chart => {\n",
       "        snapshot_24ac498 = chart.store();\n",
       "        return chart;\n",
       "    });\n",
       "</script>"
      ]
     },
     "metadata": {},
     "output_type": "display_data"
    }
   ],
   "source": [
    "chart.animate(snapshot1)\n",
    "\n",
    "chart.animate(Config({\"title\": \"Legend width\"}))\n",
    "\n",
    "chart.animate(Style({\n",
    "    \"legend\": { \n",
    "        \"width\": 50 \n",
    "    }\n",
    "}))\n",
    "\n",
    "snapshot2 = chart.store()"
   ]
  },
  {
   "cell_type": "markdown",
   "id": "fa329122",
   "metadata": {},
   "source": [
    "Setting the legend width back to its default value."
   ]
  },
  {
   "cell_type": "code",
   "execution_count": 3,
   "id": "88fa24a8",
   "metadata": {},
   "outputs": [
    {
     "data": {
      "text/html": [
       "<script id=\"myVizzu_e7eb8f9\">\n",
       "    chart_c94ce5e = chart_c94ce5e.then(chart => {\n",
       "        let script = document.getElementById(\"myVizzu_e7eb8f9\");\n",
       "        if (myVizzu_c94ce5e.parentNode && myVizzu_c94ce5e.parentNode.parentNode) {\n",
       "            let display = myVizzu_c94ce5e.parentNode.parentNode.style.display;\n",
       "            myVizzu_c94ce5e.parentNode.parentNode.style.display = \"none\";\n",
       "            script.parentNode.parentNode.style.display = display;\n",
       "        }\n",
       "        script.parentNode.insertBefore(myVizzu_c94ce5e, script);\n",
       "        return chart.animate(snapshot_24ac498);\n",
       "    });\n",
       "</script>"
      ]
     },
     "metadata": {},
     "output_type": "display_data"
    },
    {
     "data": {
      "text/html": [
       "<script id=\"myVizzu_f1894e4\">\n",
       "    chart_c94ce5e = chart_c94ce5e.then(chart => {\n",
       "        let script = document.getElementById(\"myVizzu_f1894e4\");\n",
       "        if (myVizzu_c94ce5e.parentNode && myVizzu_c94ce5e.parentNode.parentNode) {\n",
       "            let display = myVizzu_c94ce5e.parentNode.parentNode.style.display;\n",
       "            myVizzu_c94ce5e.parentNode.parentNode.style.display = \"none\";\n",
       "            script.parentNode.parentNode.style.display = display;\n",
       "        }\n",
       "        script.parentNode.insertBefore(myVizzu_c94ce5e, script);\n",
       "        return chart.animate({\"style\": {\"legend\": {\"width\": null}}});\n",
       "    });\n",
       "</script>"
      ]
     },
     "metadata": {},
     "output_type": "display_data"
    },
    {
     "data": {
      "text/html": [
       "<script>\n",
       "    let snapshot_3680e5e;\n",
       "    chart_c94ce5e = chart_c94ce5e.then(chart => {\n",
       "        snapshot_3680e5e = chart.store();\n",
       "        return chart;\n",
       "    });\n",
       "</script>"
      ]
     },
     "metadata": {},
     "output_type": "display_data"
    }
   ],
   "source": [
    "chart.animate(snapshot2)\n",
    "\n",
    "chart.animate(Style({\n",
    "    \"legend\": { \n",
    "        \"width\": None \n",
    "    }\n",
    "}))\n",
    "\n",
    "snapshot3 = chart.store()"
   ]
  },
  {
   "cell_type": "markdown",
   "id": "3d68c376",
   "metadata": {},
   "source": [
    "Changing the title paddings. By default, the title is horizontally centered above the chart. In this example, we set the title’s left padding, resulting in the text moving to the right."
   ]
  },
  {
   "cell_type": "code",
   "execution_count": 4,
   "id": "c7e60196",
   "metadata": {},
   "outputs": [
    {
     "data": {
      "text/html": [
       "<script id=\"myVizzu_19a5918\">\n",
       "    chart_c94ce5e = chart_c94ce5e.then(chart => {\n",
       "        let script = document.getElementById(\"myVizzu_19a5918\");\n",
       "        if (myVizzu_c94ce5e.parentNode && myVizzu_c94ce5e.parentNode.parentNode) {\n",
       "            let display = myVizzu_c94ce5e.parentNode.parentNode.style.display;\n",
       "            myVizzu_c94ce5e.parentNode.parentNode.style.display = \"none\";\n",
       "            script.parentNode.parentNode.style.display = display;\n",
       "        }\n",
       "        script.parentNode.insertBefore(myVizzu_c94ce5e, script);\n",
       "        return chart.animate(snapshot_3680e5e);\n",
       "    });\n",
       "</script>"
      ]
     },
     "metadata": {},
     "output_type": "display_data"
    },
    {
     "data": {
      "text/html": [
       "<script id=\"myVizzu_e4aa5d4\">\n",
       "    chart_c94ce5e = chart_c94ce5e.then(chart => {\n",
       "        let script = document.getElementById(\"myVizzu_e4aa5d4\");\n",
       "        if (myVizzu_c94ce5e.parentNode && myVizzu_c94ce5e.parentNode.parentNode) {\n",
       "            let display = myVizzu_c94ce5e.parentNode.parentNode.style.display;\n",
       "            myVizzu_c94ce5e.parentNode.parentNode.style.display = \"none\";\n",
       "            script.parentNode.parentNode.style.display = display;\n",
       "        }\n",
       "        script.parentNode.insertBefore(myVizzu_c94ce5e, script);\n",
       "        return chart.animate({\"config\": {\"title\": \"Title padding\"}});\n",
       "    });\n",
       "</script>"
      ]
     },
     "metadata": {},
     "output_type": "display_data"
    },
    {
     "data": {
      "text/html": [
       "<script id=\"myVizzu_efdad84\">\n",
       "    chart_c94ce5e = chart_c94ce5e.then(chart => {\n",
       "        let script = document.getElementById(\"myVizzu_efdad84\");\n",
       "        if (myVizzu_c94ce5e.parentNode && myVizzu_c94ce5e.parentNode.parentNode) {\n",
       "            let display = myVizzu_c94ce5e.parentNode.parentNode.style.display;\n",
       "            myVizzu_c94ce5e.parentNode.parentNode.style.display = \"none\";\n",
       "            script.parentNode.parentNode.style.display = display;\n",
       "        }\n",
       "        script.parentNode.insertBefore(myVizzu_c94ce5e, script);\n",
       "        return chart.animate({\"style\": {\"title\": {\"paddingTop\": 20, \"paddingBottom\": 20, \"paddingLeft\": 200}}});\n",
       "    });\n",
       "</script>"
      ]
     },
     "metadata": {},
     "output_type": "display_data"
    },
    {
     "data": {
      "text/html": [
       "<script>\n",
       "    let snapshot_ec57199;\n",
       "    chart_c94ce5e = chart_c94ce5e.then(chart => {\n",
       "        snapshot_ec57199 = chart.store();\n",
       "        return chart;\n",
       "    });\n",
       "</script>"
      ]
     },
     "metadata": {},
     "output_type": "display_data"
    }
   ],
   "source": [
    "chart.animate(snapshot3)\n",
    "\n",
    "chart.animate(Config({\"title\": \"Title padding\"}))\n",
    "\n",
    "chart.animate(Style({\n",
    "    \"title\": {\n",
    "        \"paddingTop\": 20,\n",
    "        \"paddingBottom\": 20,\n",
    "        \"paddingLeft\": 200\n",
    "    }\n",
    "}))\n",
    "\n",
    "snapshot4 = chart.store()"
   ]
  },
  {
   "cell_type": "markdown",
   "id": "b45e96b6",
   "metadata": {},
   "source": [
    "Setting the title paddings back to their default values."
   ]
  },
  {
   "cell_type": "code",
   "execution_count": 5,
   "id": "d58b14d9",
   "metadata": {},
   "outputs": [
    {
     "data": {
      "text/html": [
       "<script id=\"myVizzu_9c3675a\">\n",
       "    chart_c94ce5e = chart_c94ce5e.then(chart => {\n",
       "        let script = document.getElementById(\"myVizzu_9c3675a\");\n",
       "        if (myVizzu_c94ce5e.parentNode && myVizzu_c94ce5e.parentNode.parentNode) {\n",
       "            let display = myVizzu_c94ce5e.parentNode.parentNode.style.display;\n",
       "            myVizzu_c94ce5e.parentNode.parentNode.style.display = \"none\";\n",
       "            script.parentNode.parentNode.style.display = display;\n",
       "        }\n",
       "        script.parentNode.insertBefore(myVizzu_c94ce5e, script);\n",
       "        return chart.animate(snapshot_ec57199);\n",
       "    });\n",
       "</script>"
      ]
     },
     "metadata": {},
     "output_type": "display_data"
    },
    {
     "data": {
      "text/html": [
       "<script id=\"myVizzu_d38b4b4\">\n",
       "    chart_c94ce5e = chart_c94ce5e.then(chart => {\n",
       "        let script = document.getElementById(\"myVizzu_d38b4b4\");\n",
       "        if (myVizzu_c94ce5e.parentNode && myVizzu_c94ce5e.parentNode.parentNode) {\n",
       "            let display = myVizzu_c94ce5e.parentNode.parentNode.style.display;\n",
       "            myVizzu_c94ce5e.parentNode.parentNode.style.display = \"none\";\n",
       "            script.parentNode.parentNode.style.display = display;\n",
       "        }\n",
       "        script.parentNode.insertBefore(myVizzu_c94ce5e, script);\n",
       "        return chart.animate({\"style\": {\"title\": {\"paddingTop\": null, \"paddingBottom\": null, \"paddingLeft\": null}}});\n",
       "    });\n",
       "</script>"
      ]
     },
     "metadata": {},
     "output_type": "display_data"
    },
    {
     "data": {
      "text/html": [
       "<script>\n",
       "    let snapshot_2f7da4e;\n",
       "    chart_c94ce5e = chart_c94ce5e.then(chart => {\n",
       "        snapshot_2f7da4e = chart.store();\n",
       "        return chart;\n",
       "    });\n",
       "</script>"
      ]
     },
     "metadata": {},
     "output_type": "display_data"
    }
   ],
   "source": [
    "chart.animate(snapshot4)\n",
    "\n",
    "chart.animate(Style({\n",
    "    \"title\": {\n",
    "        \"paddingTop\": None,\n",
    "        \"paddingBottom\": None,\n",
    "        \"paddingLeft\": None\n",
    "    }\n",
    "}))\n",
    "\n",
    "snapshot5 = chart.store()"
   ]
  },
  {
   "cell_type": "markdown",
   "id": "6af0c821",
   "metadata": {},
   "source": [
    "Changing the paddings of the plot area to position the plot. The texts on the axes are drawn on the padding of the plot and not the plot itself."
   ]
  },
  {
   "cell_type": "code",
   "execution_count": 6,
   "id": "054257d1",
   "metadata": {},
   "outputs": [
    {
     "data": {
      "text/html": [
       "<script id=\"myVizzu_1ff1b6c\">\n",
       "    chart_c94ce5e = chart_c94ce5e.then(chart => {\n",
       "        let script = document.getElementById(\"myVizzu_1ff1b6c\");\n",
       "        if (myVizzu_c94ce5e.parentNode && myVizzu_c94ce5e.parentNode.parentNode) {\n",
       "            let display = myVizzu_c94ce5e.parentNode.parentNode.style.display;\n",
       "            myVizzu_c94ce5e.parentNode.parentNode.style.display = \"none\";\n",
       "            script.parentNode.parentNode.style.display = display;\n",
       "        }\n",
       "        script.parentNode.insertBefore(myVizzu_c94ce5e, script);\n",
       "        return chart.animate(snapshot_2f7da4e);\n",
       "    });\n",
       "</script>"
      ]
     },
     "metadata": {},
     "output_type": "display_data"
    },
    {
     "data": {
      "text/html": [
       "<script id=\"myVizzu_0e3a5b0\">\n",
       "    chart_c94ce5e = chart_c94ce5e.then(chart => {\n",
       "        let script = document.getElementById(\"myVizzu_0e3a5b0\");\n",
       "        if (myVizzu_c94ce5e.parentNode && myVizzu_c94ce5e.parentNode.parentNode) {\n",
       "            let display = myVizzu_c94ce5e.parentNode.parentNode.style.display;\n",
       "            myVizzu_c94ce5e.parentNode.parentNode.style.display = \"none\";\n",
       "            script.parentNode.parentNode.style.display = display;\n",
       "        }\n",
       "        script.parentNode.insertBefore(myVizzu_c94ce5e, script);\n",
       "        return chart.animate({\"config\": {\"title\": \"Plot padding\"}});\n",
       "    });\n",
       "</script>"
      ]
     },
     "metadata": {},
     "output_type": "display_data"
    },
    {
     "data": {
      "text/html": [
       "<script id=\"myVizzu_ddba276\">\n",
       "    chart_c94ce5e = chart_c94ce5e.then(chart => {\n",
       "        let script = document.getElementById(\"myVizzu_ddba276\");\n",
       "        if (myVizzu_c94ce5e.parentNode && myVizzu_c94ce5e.parentNode.parentNode) {\n",
       "            let display = myVizzu_c94ce5e.parentNode.parentNode.style.display;\n",
       "            myVizzu_c94ce5e.parentNode.parentNode.style.display = \"none\";\n",
       "            script.parentNode.parentNode.style.display = display;\n",
       "        }\n",
       "        script.parentNode.insertBefore(myVizzu_c94ce5e, script);\n",
       "        return chart.animate({\"style\": {\"plot\": {\"paddingLeft\": 100, \"paddingRight\": 100}}});\n",
       "    });\n",
       "</script>"
      ]
     },
     "metadata": {},
     "output_type": "display_data"
    },
    {
     "data": {
      "text/html": [
       "<script>\n",
       "    let snapshot_9ec8bc7;\n",
       "    chart_c94ce5e = chart_c94ce5e.then(chart => {\n",
       "        snapshot_9ec8bc7 = chart.store();\n",
       "        return chart;\n",
       "    });\n",
       "</script>"
      ]
     },
     "metadata": {},
     "output_type": "display_data"
    }
   ],
   "source": [
    "chart.animate(snapshot5)\n",
    "\n",
    "chart.animate(Config({\"title\": \"Plot padding\"}))\n",
    "\n",
    "chart.animate(Style({\n",
    "    \"plot\": {\n",
    "        \"paddingLeft\": 100,\n",
    "        \"paddingRight\": 100\n",
    "    }\n",
    "}))\n",
    "\n",
    "snapshot6 = chart.store()"
   ]
  },
  {
   "cell_type": "markdown",
   "id": "9e4b5dad",
   "metadata": {},
   "source": [
    "Setting the plot paddings back to their default values."
   ]
  },
  {
   "cell_type": "code",
   "execution_count": 7,
   "id": "28536d66",
   "metadata": {},
   "outputs": [
    {
     "data": {
      "text/html": [
       "<script id=\"myVizzu_b6b2926\">\n",
       "    chart_c94ce5e = chart_c94ce5e.then(chart => {\n",
       "        let script = document.getElementById(\"myVizzu_b6b2926\");\n",
       "        if (myVizzu_c94ce5e.parentNode && myVizzu_c94ce5e.parentNode.parentNode) {\n",
       "            let display = myVizzu_c94ce5e.parentNode.parentNode.style.display;\n",
       "            myVizzu_c94ce5e.parentNode.parentNode.style.display = \"none\";\n",
       "            script.parentNode.parentNode.style.display = display;\n",
       "        }\n",
       "        script.parentNode.insertBefore(myVizzu_c94ce5e, script);\n",
       "        return chart.animate(snapshot_9ec8bc7);\n",
       "    });\n",
       "</script>"
      ]
     },
     "metadata": {},
     "output_type": "display_data"
    },
    {
     "data": {
      "text/html": [
       "<script id=\"myVizzu_ec12717\">\n",
       "    chart_c94ce5e = chart_c94ce5e.then(chart => {\n",
       "        let script = document.getElementById(\"myVizzu_ec12717\");\n",
       "        if (myVizzu_c94ce5e.parentNode && myVizzu_c94ce5e.parentNode.parentNode) {\n",
       "            let display = myVizzu_c94ce5e.parentNode.parentNode.style.display;\n",
       "            myVizzu_c94ce5e.parentNode.parentNode.style.display = \"none\";\n",
       "            script.parentNode.parentNode.style.display = display;\n",
       "        }\n",
       "        script.parentNode.insertBefore(myVizzu_c94ce5e, script);\n",
       "        return chart.animate({\"style\": {\"plot\": {\"paddingLeft\": null, \"paddingRight\": null}}});\n",
       "    });\n",
       "</script>"
      ]
     },
     "metadata": {},
     "output_type": "display_data"
    }
   ],
   "source": [
    "chart.animate(snapshot6)\n",
    "\n",
    "chart.animate(Style({\n",
    "    \"plot\": {\n",
    "        \"paddingLeft\": None,\n",
    "        \"paddingRight\": None\n",
    "    }\n",
    "}))"
   ]
  }
 ],
 "metadata": {
  "kernelspec": {
   "display_name": "Python 3 (ipykernel)",
   "language": "python",
   "name": "python3"
  },
  "language_info": {
   "codemirror_mode": {
    "name": "ipython",
    "version": 3
   },
   "file_extension": ".py",
   "mimetype": "text/x-python",
   "name": "python",
   "nbconvert_exporter": "python",
   "pygments_lexer": "ipython3",
   "version": "3.8.10"
  }
 },
 "nbformat": 4,
 "nbformat_minor": 5
}
