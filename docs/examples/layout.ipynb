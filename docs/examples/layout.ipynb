{
 "cells": [
  {
   "cell_type": "markdown",
   "id": "8518ab11",
   "metadata": {},
   "source": [
    "## Chart layout\n",
    "\n",
    "Vizzu has three separate parts of the chart layout: the plot area that contains the chart, the title containing the chart title on the top, and the legend on the left. Vizzu automatically hides the legend when it’s unnecessary to show it. When the title is not in use, Vizzu hides that part automatically as well. Each of these parts have their own paddings on all four sides that adjust to the chart size by default, but can also be set with the appropriate settings in the style object. All size parameters can be set in pixel, percentage and em.\n",
    "\n",
    "We add different background colors to the parts of the layout to show how they are aligned."
   ]
  },
  {
   "cell_type": "code",
   "execution_count": 1,
   "id": "b0552636",
   "metadata": {},
   "outputs": [
    {
     "data": {
      "text/html": [
       "<script id=\"myVizzu_9d77ff3\">\n",
       "        document.getElementById(\"myVizzu_9d77ff3\").parentNode.style.padding = \"0px\";\n",
       "        </script>\n",
       "<div id=\"myVizzu_f6108eb\" style=\"width:800px; height:480px;\"/>\n",
       "        <script>\n",
       "        let myVizzu_f6108eb = document.getElementById(\"myVizzu_f6108eb\")\n",
       "        let chart_f6108eb = import(\"https://cdn.jsdelivr.net/npm/vizzu@~0.4.0/dist/vizzu.min.js\").then(Vizzu => new Vizzu.default(\"myVizzu_f6108eb\").initializing);\n",
       "        </script>"
      ]
     },
     "metadata": {},
     "output_type": "display_data"
    },
    {
     "data": {
      "text/html": [
       "<script id=\"myVizzu_92e5c76\">\n",
       "        document.getElementById(\"myVizzu_92e5c76\").parentNode.style.padding = \"0px\";\n",
       "        </script>\n",
       "<div id=\"myVizzu_0292742\"/>\n",
       "        <script>\n",
       "        \n",
       "        chart_f6108eb = chart_f6108eb.then(chart => {\n",
       "            document.getElementById(\"myVizzu_0292742\").appendChild(myVizzu_f6108eb);\n",
       "            return chart.animate({\"data\": {\"dimensions\": [{\"name\": \"Genres\", \"values\": [\"Pop\", \"Rock\", \"Jazz\", \"Metal\"]}, {\"name\": \"Types\", \"values\": [\"Hard\", \"Smooth\", \"Experimental\"]}], \"measures\": [{\"name\": \"Popularity\", \"values\": [[114, 96, 78, 52], [56, 36, 174, 121], [127, 83, 94, 58]]}]}})\n",
       "        });\n",
       "        </script>"
      ]
     },
     "metadata": {},
     "output_type": "display_data"
    },
    {
     "data": {
      "text/html": [
       "<script id=\"myVizzu_ab9ca75\">\n",
       "        document.getElementById(\"myVizzu_ab9ca75\").parentNode.style.padding = \"0px\";\n",
       "        </script>\n",
       "<div id=\"myVizzu_2f00a1e\"/>\n",
       "        <script>\n",
       "        \n",
       "        chart_f6108eb = chart_f6108eb.then(chart => {\n",
       "            document.getElementById(\"myVizzu_2f00a1e\").appendChild(myVizzu_f6108eb);\n",
       "            return chart.animate({\"config\": {\"channels\": {\"y\": {\"set\": [\"Popularity\", \"Types\"]}, \"x\": {\"set\": \"Genres\"}}, \"label\": {\"attach\": \"Popularity\"}, \"color\": {\"set\": \"Types\"}, \"title\": \"Plot, title and legend background\"}})\n",
       "        });\n",
       "        </script>"
      ]
     },
     "metadata": {},
     "output_type": "display_data"
    },
    {
     "data": {
      "text/html": [
       "<script id=\"myVizzu_8b9585a\">\n",
       "        document.getElementById(\"myVizzu_8b9585a\").parentNode.style.padding = \"0px\";\n",
       "        </script>\n",
       "<div id=\"myVizzu_2516c7b\"/>\n",
       "        <script>\n",
       "        \n",
       "        chart_f6108eb = chart_f6108eb.then(chart => {\n",
       "            document.getElementById(\"myVizzu_2516c7b\").appendChild(myVizzu_f6108eb);\n",
       "            return chart.animate({\"style\": {\"title\": {\"backgroundColor\": \"#A0A0A0\"}, \"plot\": {\"backgroundColor\": \"#D2D2D2\"}, \"legend\": {\"backgroundColor\": \"#808080\"}}})\n",
       "        });\n",
       "        </script>"
      ]
     },
     "metadata": {},
     "output_type": "display_data"
    },
    {
     "data": {
      "text/html": [
       "<script id=\"myVizzu_5b3b1f5\">\n",
       "        document.getElementById(\"myVizzu_5b3b1f5\").parentNode.style.padding = \"0px\";\n",
       "        </script>\n",
       "<script>\n",
       "        let snapshot_eda26f8;\n",
       "        chart_f6108eb = chart_f6108eb.then(chart => {\n",
       "            snapshot_eda26f8 = chart.store();\n",
       "            return chart;\n",
       "        });\n",
       "        </script>"
      ]
     },
     "metadata": {},
     "output_type": "display_data"
    }
   ],
   "source": [
    "from ipyvizzu import Chart, Data, Config, Style\n",
    "\n",
    "chart = Chart()\n",
    "\n",
    "data = Data.from_json(\"../data/music_example_data.json\")\n",
    "\n",
    "chart.animate(data)\n",
    "\n",
    "chart.animate(Config({\n",
    "    \"channels\": {\n",
    "        \"y\": {\n",
    "            \"set\": [\"Popularity\", \"Types\"]\n",
    "        }, \n",
    "        \"x\": {\n",
    "            \"set\": \"Genres\"\n",
    "        }\n",
    "    }, \n",
    "    \"label\": {\n",
    "        \"attach\": \"Popularity\"\n",
    "    },\n",
    "    \"color\": {\n",
    "        \"set\": \"Types\"\n",
    "    },\n",
    "    \"title\": \"Plot, title and legend background\"\n",
    "}))\n",
    "\n",
    "chart.animate(Style({\n",
    "    \"title\": { \n",
    "        \"backgroundColor\": '#A0A0A0' \n",
    "    },\n",
    "    \"plot\": { \n",
    "        \"backgroundColor\": '#D2D2D2' \n",
    "    },\n",
    "    \"legend\": { \n",
    "        \"backgroundColor\": '#808080' \n",
    "    }\n",
    "}))\n",
    "\n",
    "snapshot1 = chart.store()"
   ]
  },
  {
   "cell_type": "markdown",
   "id": "00bf9cba",
   "metadata": {},
   "source": [
    "Setting the width of the legend."
   ]
  },
  {
   "cell_type": "code",
   "execution_count": 2,
   "id": "9a7fe9b8",
   "metadata": {},
   "outputs": [
    {
     "data": {
      "text/html": [
       "<script id=\"myVizzu_0eff526\">\n",
       "        document.getElementById(\"myVizzu_0eff526\").parentNode.style.padding = \"0px\";\n",
       "        </script>\n",
       "<div id=\"myVizzu_799cd84\"/>\n",
       "        <script>\n",
       "        \n",
       "        chart_f6108eb = chart_f6108eb.then(chart => {\n",
       "            document.getElementById(\"myVizzu_799cd84\").appendChild(myVizzu_f6108eb);\n",
       "            return chart.animate(snapshot_eda26f8)\n",
       "        });\n",
       "        </script>"
      ]
     },
     "metadata": {},
     "output_type": "display_data"
    },
    {
     "data": {
      "text/html": [
       "<script id=\"myVizzu_8a99d42\">\n",
       "        document.getElementById(\"myVizzu_8a99d42\").parentNode.style.padding = \"0px\";\n",
       "        </script>\n",
       "<div id=\"myVizzu_140fed8\"/>\n",
       "        <script>\n",
       "        \n",
       "        chart_f6108eb = chart_f6108eb.then(chart => {\n",
       "            document.getElementById(\"myVizzu_140fed8\").appendChild(myVizzu_f6108eb);\n",
       "            return chart.animate({\"config\": {\"title\": \"Legend width\"}})\n",
       "        });\n",
       "        </script>"
      ]
     },
     "metadata": {},
     "output_type": "display_data"
    },
    {
     "data": {
      "text/html": [
       "<script id=\"myVizzu_e96f94c\">\n",
       "        document.getElementById(\"myVizzu_e96f94c\").parentNode.style.padding = \"0px\";\n",
       "        </script>\n",
       "<div id=\"myVizzu_d3c37b9\"/>\n",
       "        <script>\n",
       "        \n",
       "        chart_f6108eb = chart_f6108eb.then(chart => {\n",
       "            document.getElementById(\"myVizzu_d3c37b9\").appendChild(myVizzu_f6108eb);\n",
       "            return chart.animate({\"style\": {\"legend\": {\"width\": 50}}})\n",
       "        });\n",
       "        </script>"
      ]
     },
     "metadata": {},
     "output_type": "display_data"
    },
    {
     "data": {
      "text/html": [
       "<script id=\"myVizzu_2762e83\">\n",
       "        document.getElementById(\"myVizzu_2762e83\").parentNode.style.padding = \"0px\";\n",
       "        </script>\n",
       "<script>\n",
       "        let snapshot_9d79700;\n",
       "        chart_f6108eb = chart_f6108eb.then(chart => {\n",
       "            snapshot_9d79700 = chart.store();\n",
       "            return chart;\n",
       "        });\n",
       "        </script>"
      ]
     },
     "metadata": {},
     "output_type": "display_data"
    }
   ],
   "source": [
    "chart.animate(snapshot1)\n",
    "\n",
    "chart.animate(Config({\"title\": \"Legend width\"}))\n",
    "\n",
    "chart.animate(Style({\n",
    "    \"legend\": { \n",
    "        \"width\": 50 \n",
    "    }\n",
    "}))\n",
    "\n",
    "snapshot2 = chart.store()"
   ]
  },
  {
   "cell_type": "markdown",
   "id": "fa329122",
   "metadata": {},
   "source": [
    "Setting the legend width back to its default value."
   ]
  },
  {
   "cell_type": "code",
   "execution_count": 3,
   "id": "88fa24a8",
   "metadata": {},
   "outputs": [
    {
     "data": {
      "text/html": [
       "<script id=\"myVizzu_b06c413\">\n",
       "        document.getElementById(\"myVizzu_b06c413\").parentNode.style.padding = \"0px\";\n",
       "        </script>\n",
       "<div id=\"myVizzu_d1f4ab8\"/>\n",
       "        <script>\n",
       "        \n",
       "        chart_f6108eb = chart_f6108eb.then(chart => {\n",
       "            document.getElementById(\"myVizzu_d1f4ab8\").appendChild(myVizzu_f6108eb);\n",
       "            return chart.animate(snapshot_9d79700)\n",
       "        });\n",
       "        </script>"
      ]
     },
     "metadata": {},
     "output_type": "display_data"
    },
    {
     "data": {
      "text/html": [
       "<script id=\"myVizzu_3a2a031\">\n",
       "        document.getElementById(\"myVizzu_3a2a031\").parentNode.style.padding = \"0px\";\n",
       "        </script>\n",
       "<div id=\"myVizzu_c8e8808\"/>\n",
       "        <script>\n",
       "        \n",
       "        chart_f6108eb = chart_f6108eb.then(chart => {\n",
       "            document.getElementById(\"myVizzu_c8e8808\").appendChild(myVizzu_f6108eb);\n",
       "            return chart.animate({\"style\": {\"legend\": {\"width\": null}}})\n",
       "        });\n",
       "        </script>"
      ]
     },
     "metadata": {},
     "output_type": "display_data"
    },
    {
     "data": {
      "text/html": [
       "<script id=\"myVizzu_7557b76\">\n",
       "        document.getElementById(\"myVizzu_7557b76\").parentNode.style.padding = \"0px\";\n",
       "        </script>\n",
       "<script>\n",
       "        let snapshot_c51b0b8;\n",
       "        chart_f6108eb = chart_f6108eb.then(chart => {\n",
       "            snapshot_c51b0b8 = chart.store();\n",
       "            return chart;\n",
       "        });\n",
       "        </script>"
      ]
     },
     "metadata": {},
     "output_type": "display_data"
    }
   ],
   "source": [
    "chart.animate(snapshot2)\n",
    "\n",
    "chart.animate(Style({\n",
    "    \"legend\": { \n",
    "        \"width\": None \n",
    "    }\n",
    "}))\n",
    "\n",
    "snapshot3 = chart.store()"
   ]
  },
  {
   "cell_type": "markdown",
   "id": "3d68c376",
   "metadata": {},
   "source": [
    "Changing the title paddings. By default, the title is horizontally centered above the chart. In this example, we set the title’s left padding, resulting in the text moving to the right."
   ]
  },
  {
   "cell_type": "code",
   "execution_count": 4,
   "id": "c7e60196",
   "metadata": {},
   "outputs": [
    {
     "data": {
      "text/html": [
       "<script id=\"myVizzu_a175dcd\">\n",
       "        document.getElementById(\"myVizzu_a175dcd\").parentNode.style.padding = \"0px\";\n",
       "        </script>\n",
       "<div id=\"myVizzu_c3d2a14\"/>\n",
       "        <script>\n",
       "        \n",
       "        chart_f6108eb = chart_f6108eb.then(chart => {\n",
       "            document.getElementById(\"myVizzu_c3d2a14\").appendChild(myVizzu_f6108eb);\n",
       "            return chart.animate(snapshot_c51b0b8)\n",
       "        });\n",
       "        </script>"
      ]
     },
     "metadata": {},
     "output_type": "display_data"
    },
    {
     "data": {
      "text/html": [
       "<script id=\"myVizzu_400fbac\">\n",
       "        document.getElementById(\"myVizzu_400fbac\").parentNode.style.padding = \"0px\";\n",
       "        </script>\n",
       "<div id=\"myVizzu_f797595\"/>\n",
       "        <script>\n",
       "        \n",
       "        chart_f6108eb = chart_f6108eb.then(chart => {\n",
       "            document.getElementById(\"myVizzu_f797595\").appendChild(myVizzu_f6108eb);\n",
       "            return chart.animate({\"config\": {\"title\": \"Title padding\"}})\n",
       "        });\n",
       "        </script>"
      ]
     },
     "metadata": {},
     "output_type": "display_data"
    },
    {
     "data": {
      "text/html": [
       "<script id=\"myVizzu_5714588\">\n",
       "        document.getElementById(\"myVizzu_5714588\").parentNode.style.padding = \"0px\";\n",
       "        </script>\n",
       "<div id=\"myVizzu_1e18f72\"/>\n",
       "        <script>\n",
       "        \n",
       "        chart_f6108eb = chart_f6108eb.then(chart => {\n",
       "            document.getElementById(\"myVizzu_1e18f72\").appendChild(myVizzu_f6108eb);\n",
       "            return chart.animate({\"style\": {\"title\": {\"paddingTop\": 20, \"paddingBottom\": 20, \"paddingLeft\": 200}}})\n",
       "        });\n",
       "        </script>"
      ]
     },
     "metadata": {},
     "output_type": "display_data"
    },
    {
     "data": {
      "text/html": [
       "<script id=\"myVizzu_7079efe\">\n",
       "        document.getElementById(\"myVizzu_7079efe\").parentNode.style.padding = \"0px\";\n",
       "        </script>\n",
       "<script>\n",
       "        let snapshot_d9fdde5;\n",
       "        chart_f6108eb = chart_f6108eb.then(chart => {\n",
       "            snapshot_d9fdde5 = chart.store();\n",
       "            return chart;\n",
       "        });\n",
       "        </script>"
      ]
     },
     "metadata": {},
     "output_type": "display_data"
    }
   ],
   "source": [
    "chart.animate(snapshot3)\n",
    "\n",
    "chart.animate(Config({\"title\": \"Title padding\"}))\n",
    "\n",
    "chart.animate(Style({\n",
    "    \"title\": {\n",
    "        \"paddingTop\": 20,\n",
    "        \"paddingBottom\": 20,\n",
    "        \"paddingLeft\": 200\n",
    "    }\n",
    "}))\n",
    "\n",
    "snapshot4 = chart.store()"
   ]
  },
  {
   "cell_type": "markdown",
   "id": "b45e96b6",
   "metadata": {},
   "source": [
    "Setting the title paddings back to their default values."
   ]
  },
  {
   "cell_type": "code",
   "execution_count": 5,
   "id": "d58b14d9",
   "metadata": {},
   "outputs": [
    {
     "data": {
      "text/html": [
       "<script id=\"myVizzu_52265d0\">\n",
       "        document.getElementById(\"myVizzu_52265d0\").parentNode.style.padding = \"0px\";\n",
       "        </script>\n",
       "<div id=\"myVizzu_3825f11\"/>\n",
       "        <script>\n",
       "        \n",
       "        chart_f6108eb = chart_f6108eb.then(chart => {\n",
       "            document.getElementById(\"myVizzu_3825f11\").appendChild(myVizzu_f6108eb);\n",
       "            return chart.animate(snapshot_d9fdde5)\n",
       "        });\n",
       "        </script>"
      ]
     },
     "metadata": {},
     "output_type": "display_data"
    },
    {
     "data": {
      "text/html": [
       "<script id=\"myVizzu_8f3d43f\">\n",
       "        document.getElementById(\"myVizzu_8f3d43f\").parentNode.style.padding = \"0px\";\n",
       "        </script>\n",
       "<div id=\"myVizzu_8a3ac61\"/>\n",
       "        <script>\n",
       "        \n",
       "        chart_f6108eb = chart_f6108eb.then(chart => {\n",
       "            document.getElementById(\"myVizzu_8a3ac61\").appendChild(myVizzu_f6108eb);\n",
       "            return chart.animate({\"style\": {\"title\": {\"paddingTop\": null, \"paddingBottom\": null, \"paddingLeft\": null}}})\n",
       "        });\n",
       "        </script>"
      ]
     },
     "metadata": {},
     "output_type": "display_data"
    },
    {
     "data": {
      "text/html": [
       "<script id=\"myVizzu_9c689f6\">\n",
       "        document.getElementById(\"myVizzu_9c689f6\").parentNode.style.padding = \"0px\";\n",
       "        </script>\n",
       "<script>\n",
       "        let snapshot_c580197;\n",
       "        chart_f6108eb = chart_f6108eb.then(chart => {\n",
       "            snapshot_c580197 = chart.store();\n",
       "            return chart;\n",
       "        });\n",
       "        </script>"
      ]
     },
     "metadata": {},
     "output_type": "display_data"
    }
   ],
   "source": [
    "chart.animate(snapshot4)\n",
    "\n",
    "chart.animate(Style({\n",
    "    \"title\": {\n",
    "        \"paddingTop\": None,\n",
    "        \"paddingBottom\": None,\n",
    "        \"paddingLeft\": None\n",
    "    }\n",
    "}))\n",
    "\n",
    "snapshot5 = chart.store()"
   ]
  },
  {
   "cell_type": "markdown",
   "id": "6af0c821",
   "metadata": {},
   "source": [
    "Changing the paddings of the plot area to position the plot. The texts on the axes are drawn on the padding of the plot and not the plot itself."
   ]
  },
  {
   "cell_type": "code",
   "execution_count": 6,
   "id": "054257d1",
   "metadata": {},
   "outputs": [
    {
     "data": {
      "text/html": [
       "<script id=\"myVizzu_577ce9e\">\n",
       "        document.getElementById(\"myVizzu_577ce9e\").parentNode.style.padding = \"0px\";\n",
       "        </script>\n",
       "<div id=\"myVizzu_bd0547c\"/>\n",
       "        <script>\n",
       "        \n",
       "        chart_f6108eb = chart_f6108eb.then(chart => {\n",
       "            document.getElementById(\"myVizzu_bd0547c\").appendChild(myVizzu_f6108eb);\n",
       "            return chart.animate(snapshot_c580197)\n",
       "        });\n",
       "        </script>"
      ]
     },
     "metadata": {},
     "output_type": "display_data"
    },
    {
     "data": {
      "text/html": [
       "<script id=\"myVizzu_35a8c5f\">\n",
       "        document.getElementById(\"myVizzu_35a8c5f\").parentNode.style.padding = \"0px\";\n",
       "        </script>\n",
       "<div id=\"myVizzu_22bfe9f\"/>\n",
       "        <script>\n",
       "        \n",
       "        chart_f6108eb = chart_f6108eb.then(chart => {\n",
       "            document.getElementById(\"myVizzu_22bfe9f\").appendChild(myVizzu_f6108eb);\n",
       "            return chart.animate({\"config\": {\"title\": \"Plot padding\"}})\n",
       "        });\n",
       "        </script>"
      ]
     },
     "metadata": {},
     "output_type": "display_data"
    },
    {
     "data": {
      "text/html": [
       "<script id=\"myVizzu_50edf01\">\n",
       "        document.getElementById(\"myVizzu_50edf01\").parentNode.style.padding = \"0px\";\n",
       "        </script>\n",
       "<div id=\"myVizzu_aec01e3\"/>\n",
       "        <script>\n",
       "        \n",
       "        chart_f6108eb = chart_f6108eb.then(chart => {\n",
       "            document.getElementById(\"myVizzu_aec01e3\").appendChild(myVizzu_f6108eb);\n",
       "            return chart.animate({\"style\": {\"plot\": {\"paddingLeft\": 100, \"paddingRight\": 100}}})\n",
       "        });\n",
       "        </script>"
      ]
     },
     "metadata": {},
     "output_type": "display_data"
    },
    {
     "data": {
      "text/html": [
       "<script id=\"myVizzu_f89760f\">\n",
       "        document.getElementById(\"myVizzu_f89760f\").parentNode.style.padding = \"0px\";\n",
       "        </script>\n",
       "<script>\n",
       "        let snapshot_2f4dd5b;\n",
       "        chart_f6108eb = chart_f6108eb.then(chart => {\n",
       "            snapshot_2f4dd5b = chart.store();\n",
       "            return chart;\n",
       "        });\n",
       "        </script>"
      ]
     },
     "metadata": {},
     "output_type": "display_data"
    }
   ],
   "source": [
    "chart.animate(snapshot5)\n",
    "\n",
    "chart.animate(Config({\"title\": \"Plot padding\"}))\n",
    "\n",
    "chart.animate(Style({\n",
    "    \"plot\": {\n",
    "        \"paddingLeft\": 100,\n",
    "        \"paddingRight\": 100\n",
    "    }\n",
    "}))\n",
    "\n",
    "snapshot6 = chart.store()"
   ]
  },
  {
   "cell_type": "markdown",
   "id": "9e4b5dad",
   "metadata": {},
   "source": [
    "Setting the plot paddings back to their default values."
   ]
  },
  {
   "cell_type": "code",
   "execution_count": 7,
   "id": "28536d66",
   "metadata": {},
   "outputs": [
    {
     "data": {
      "text/html": [
       "<script id=\"myVizzu_bf4df48\">\n",
       "        document.getElementById(\"myVizzu_bf4df48\").parentNode.style.padding = \"0px\";\n",
       "        </script>\n",
       "<div id=\"myVizzu_d3df2ce\"/>\n",
       "        <script>\n",
       "        \n",
       "        chart_f6108eb = chart_f6108eb.then(chart => {\n",
       "            document.getElementById(\"myVizzu_d3df2ce\").appendChild(myVizzu_f6108eb);\n",
       "            return chart.animate(snapshot_2f4dd5b)\n",
       "        });\n",
       "        </script>"
      ]
     },
     "metadata": {},
     "output_type": "display_data"
    },
    {
     "data": {
      "text/html": [
       "<script id=\"myVizzu_a2408a9\">\n",
       "        document.getElementById(\"myVizzu_a2408a9\").parentNode.style.padding = \"0px\";\n",
       "        </script>\n",
       "<div id=\"myVizzu_773c483\"/>\n",
       "        <script>\n",
       "        \n",
       "        chart_f6108eb = chart_f6108eb.then(chart => {\n",
       "            document.getElementById(\"myVizzu_773c483\").appendChild(myVizzu_f6108eb);\n",
       "            return chart.animate({\"style\": {\"plot\": {\"paddingLeft\": null, \"paddingRight\": null}}})\n",
       "        });\n",
       "        </script>"
      ]
     },
     "metadata": {},
     "output_type": "display_data"
    }
   ],
   "source": [
    "chart.animate(snapshot6)\n",
    "\n",
    "chart.animate(Style({\n",
    "    \"plot\": {\n",
    "        \"paddingLeft\": None,\n",
    "        \"paddingRight\": None\n",
    "    }\n",
    "}))"
   ]
  }
 ],
 "metadata": {
  "kernelspec": {
   "display_name": "Python 3 (ipykernel)",
   "language": "python",
   "name": "python3"
  },
  "language_info": {
   "codemirror_mode": {
    "name": "ipython",
    "version": 3
   },
   "file_extension": ".py",
   "mimetype": "text/x-python",
   "name": "python",
   "nbconvert_exporter": "python",
   "pygments_lexer": "ipython3",
   "version": "3.8.10"
  }
 },
 "nbformat": 4,
 "nbformat_minor": 5
}
