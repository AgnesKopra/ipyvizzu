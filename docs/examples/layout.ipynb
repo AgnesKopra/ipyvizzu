{
 "cells": [
  {
   "cell_type": "markdown",
   "id": "8518ab11",
   "metadata": {},
   "source": [
    "## Chart layout\n",
    "\n",
    "Vizzu has three separate parts of the chart layout: the plot area that contains the chart, the title containing the chart title on the top, and the legend on the left. Vizzu automatically hides the legend when it’s unnecessary to show it. When the title is not in use, Vizzu hides that part automatically as well. Each of these parts have their own paddings on all four sides that adjust to the chart size by default, but can also be set with the appropriate settings in the style object. All size parameters can be set in pixel, percentage and em.\n",
    "\n",
    "We add different background colors to the parts of the layout to show how they are aligned."
   ]
  },
  {
   "cell_type": "code",
   "execution_count": 1,
   "id": "b0552636",
   "metadata": {},
   "outputs": [
    {
     "data": {
      "text/html": [
       "<script id=\"myVizzu_a9abc4d\">\n",
       "    document.getElementById(\"myVizzu_a9abc4d\").parentNode.style.padding = \"0px\";\n",
       "</script>\n",
       "<div id=\"myVizzu_0fa51ff\" style=\"width:800px; height:480px;\"/>\n",
       "<script>\n",
       "    let myVizzu_0fa51ff = document.getElementById(\"myVizzu_0fa51ff\")\n",
       "    let chart_0fa51ff = import(\"https://cdn.jsdelivr.net/npm/vizzu@~0.4.0/dist/vizzu.min.js\").then(Vizzu => new Vizzu.default(\"myVizzu_0fa51ff\").initializing);\n",
       "</script>"
      ]
     },
     "metadata": {},
     "output_type": "display_data"
    },
    {
     "data": {
      "text/html": [
       "<script id=\"myVizzu_422a7c5\">\n",
       "    document.getElementById(\"myVizzu_422a7c5\").parentNode.style.padding = \"0px\";\n",
       "</script>\n",
       "<div id=\"myVizzu_56d17d0\"/>\n",
       "<script>\n",
       "    chart_0fa51ff = chart_0fa51ff.then(chart => {\n",
       "        document.getElementById(\"myVizzu_56d17d0\").appendChild(myVizzu_0fa51ff);\n",
       "        return chart.animate({\"data\": {\"dimensions\": [{\"name\": \"Genres\", \"values\": [\"Pop\", \"Rock\", \"Jazz\", \"Metal\"]}, {\"name\": \"Types\", \"values\": [\"Hard\", \"Smooth\", \"Experimental\"]}], \"measures\": [{\"name\": \"Popularity\", \"values\": [[114, 96, 78, 52], [56, 36, 174, 121], [127, 83, 94, 58]]}]}})\n",
       "    });\n",
       "</script>"
      ]
     },
     "metadata": {},
     "output_type": "display_data"
    },
    {
     "data": {
      "text/html": [
       "<script id=\"myVizzu_541f02d\">\n",
       "    document.getElementById(\"myVizzu_541f02d\").parentNode.style.padding = \"0px\";\n",
       "</script>\n",
       "<div id=\"myVizzu_922df8f\"/>\n",
       "<script>\n",
       "    chart_0fa51ff = chart_0fa51ff.then(chart => {\n",
       "        document.getElementById(\"myVizzu_922df8f\").appendChild(myVizzu_0fa51ff);\n",
       "        return chart.animate({\"config\": {\"channels\": {\"y\": {\"set\": [\"Popularity\", \"Types\"]}, \"x\": {\"set\": \"Genres\"}}, \"label\": {\"attach\": \"Popularity\"}, \"color\": {\"set\": \"Types\"}, \"title\": \"Plot, title and legend background\"}})\n",
       "    });\n",
       "</script>"
      ]
     },
     "metadata": {},
     "output_type": "display_data"
    },
    {
     "data": {
      "text/html": [
       "<script id=\"myVizzu_332906d\">\n",
       "    document.getElementById(\"myVizzu_332906d\").parentNode.style.padding = \"0px\";\n",
       "</script>\n",
       "<div id=\"myVizzu_f69ad44\"/>\n",
       "<script>\n",
       "    chart_0fa51ff = chart_0fa51ff.then(chart => {\n",
       "        document.getElementById(\"myVizzu_f69ad44\").appendChild(myVizzu_0fa51ff);\n",
       "        return chart.animate({\"style\": {\"title\": {\"backgroundColor\": \"#A0A0A0\"}, \"plot\": {\"backgroundColor\": \"#D2D2D2\"}, \"legend\": {\"backgroundColor\": \"#808080\"}}})\n",
       "    });\n",
       "</script>"
      ]
     },
     "metadata": {},
     "output_type": "display_data"
    },
    {
     "data": {
      "text/html": [
       "<script id=\"myVizzu_4099098\">\n",
       "    document.getElementById(\"myVizzu_4099098\").parentNode.style.padding = \"0px\";\n",
       "</script>\n",
       "<script>\n",
       "    let snapshot_729990e;\n",
       "    chart_0fa51ff = chart_0fa51ff.then(chart => {\n",
       "        snapshot_729990e = chart.store();\n",
       "        return chart;\n",
       "    });\n",
       "</script>"
      ]
     },
     "metadata": {},
     "output_type": "display_data"
    }
   ],
   "source": [
    "from ipyvizzu import Chart, Data, Config, Style\n",
    "\n",
    "chart = Chart()\n",
    "\n",
    "data = Data.from_json(\"../data/music_example_data.json\")\n",
    "\n",
    "chart.animate(data)\n",
    "\n",
    "chart.animate(Config({\n",
    "    \"channels\": {\n",
    "        \"y\": {\n",
    "            \"set\": [\"Popularity\", \"Types\"]\n",
    "        }, \n",
    "        \"x\": {\n",
    "            \"set\": \"Genres\"\n",
    "        }\n",
    "    }, \n",
    "    \"label\": {\n",
    "        \"attach\": \"Popularity\"\n",
    "    },\n",
    "    \"color\": {\n",
    "        \"set\": \"Types\"\n",
    "    },\n",
    "    \"title\": \"Plot, title and legend background\"\n",
    "}))\n",
    "\n",
    "chart.animate(Style({\n",
    "    \"title\": { \n",
    "        \"backgroundColor\": '#A0A0A0' \n",
    "    },\n",
    "    \"plot\": { \n",
    "        \"backgroundColor\": '#D2D2D2' \n",
    "    },\n",
    "    \"legend\": { \n",
    "        \"backgroundColor\": '#808080' \n",
    "    }\n",
    "}))\n",
    "\n",
    "snapshot1 = chart.store()"
   ]
  },
  {
   "cell_type": "markdown",
   "id": "00bf9cba",
   "metadata": {},
   "source": [
    "Setting the width of the legend."
   ]
  },
  {
   "cell_type": "code",
   "execution_count": 2,
   "id": "9a7fe9b8",
   "metadata": {},
   "outputs": [
    {
     "data": {
      "text/html": [
       "<script id=\"myVizzu_a917486\">\n",
       "    document.getElementById(\"myVizzu_a917486\").parentNode.style.padding = \"0px\";\n",
       "</script>\n",
       "<div id=\"myVizzu_12c01c0\"/>\n",
       "<script>\n",
       "    chart_0fa51ff = chart_0fa51ff.then(chart => {\n",
       "        document.getElementById(\"myVizzu_12c01c0\").appendChild(myVizzu_0fa51ff);\n",
       "        return chart.animate(snapshot_729990e)\n",
       "    });\n",
       "</script>"
      ]
     },
     "metadata": {},
     "output_type": "display_data"
    },
    {
     "data": {
      "text/html": [
       "<script id=\"myVizzu_c65a556\">\n",
       "    document.getElementById(\"myVizzu_c65a556\").parentNode.style.padding = \"0px\";\n",
       "</script>\n",
       "<div id=\"myVizzu_2fccf8a\"/>\n",
       "<script>\n",
       "    chart_0fa51ff = chart_0fa51ff.then(chart => {\n",
       "        document.getElementById(\"myVizzu_2fccf8a\").appendChild(myVizzu_0fa51ff);\n",
       "        return chart.animate({\"config\": {\"title\": \"Legend width\"}})\n",
       "    });\n",
       "</script>"
      ]
     },
     "metadata": {},
     "output_type": "display_data"
    },
    {
     "data": {
      "text/html": [
       "<script id=\"myVizzu_f3afaa3\">\n",
       "    document.getElementById(\"myVizzu_f3afaa3\").parentNode.style.padding = \"0px\";\n",
       "</script>\n",
       "<div id=\"myVizzu_1ba5b24\"/>\n",
       "<script>\n",
       "    chart_0fa51ff = chart_0fa51ff.then(chart => {\n",
       "        document.getElementById(\"myVizzu_1ba5b24\").appendChild(myVizzu_0fa51ff);\n",
       "        return chart.animate({\"style\": {\"legend\": {\"width\": 50}}})\n",
       "    });\n",
       "</script>"
      ]
     },
     "metadata": {},
     "output_type": "display_data"
    },
    {
     "data": {
      "text/html": [
       "<script id=\"myVizzu_31bc684\">\n",
       "    document.getElementById(\"myVizzu_31bc684\").parentNode.style.padding = \"0px\";\n",
       "</script>\n",
       "<script>\n",
       "    let snapshot_844ac7c;\n",
       "    chart_0fa51ff = chart_0fa51ff.then(chart => {\n",
       "        snapshot_844ac7c = chart.store();\n",
       "        return chart;\n",
       "    });\n",
       "</script>"
      ]
     },
     "metadata": {},
     "output_type": "display_data"
    }
   ],
   "source": [
    "chart.animate(snapshot1)\n",
    "\n",
    "chart.animate(Config({\"title\": \"Legend width\"}))\n",
    "\n",
    "chart.animate(Style({\n",
    "    \"legend\": { \n",
    "        \"width\": 50 \n",
    "    }\n",
    "}))\n",
    "\n",
    "snapshot2 = chart.store()"
   ]
  },
  {
   "cell_type": "markdown",
   "id": "fa329122",
   "metadata": {},
   "source": [
    "Setting the legend width back to its default value."
   ]
  },
  {
   "cell_type": "code",
   "execution_count": 3,
   "id": "88fa24a8",
   "metadata": {},
   "outputs": [
    {
     "data": {
      "text/html": [
       "<script id=\"myVizzu_00970dd\">\n",
       "    document.getElementById(\"myVizzu_00970dd\").parentNode.style.padding = \"0px\";\n",
       "</script>\n",
       "<div id=\"myVizzu_69aee18\"/>\n",
       "<script>\n",
       "    chart_0fa51ff = chart_0fa51ff.then(chart => {\n",
       "        document.getElementById(\"myVizzu_69aee18\").appendChild(myVizzu_0fa51ff);\n",
       "        return chart.animate(snapshot_844ac7c)\n",
       "    });\n",
       "</script>"
      ]
     },
     "metadata": {},
     "output_type": "display_data"
    },
    {
     "data": {
      "text/html": [
       "<script id=\"myVizzu_7eb4e37\">\n",
       "    document.getElementById(\"myVizzu_7eb4e37\").parentNode.style.padding = \"0px\";\n",
       "</script>\n",
       "<div id=\"myVizzu_201eb05\"/>\n",
       "<script>\n",
       "    chart_0fa51ff = chart_0fa51ff.then(chart => {\n",
       "        document.getElementById(\"myVizzu_201eb05\").appendChild(myVizzu_0fa51ff);\n",
       "        return chart.animate({\"style\": {\"legend\": {\"width\": null}}})\n",
       "    });\n",
       "</script>"
      ]
     },
     "metadata": {},
     "output_type": "display_data"
    },
    {
     "data": {
      "text/html": [
       "<script id=\"myVizzu_e2b2fef\">\n",
       "    document.getElementById(\"myVizzu_e2b2fef\").parentNode.style.padding = \"0px\";\n",
       "</script>\n",
       "<script>\n",
       "    let snapshot_8778e24;\n",
       "    chart_0fa51ff = chart_0fa51ff.then(chart => {\n",
       "        snapshot_8778e24 = chart.store();\n",
       "        return chart;\n",
       "    });\n",
       "</script>"
      ]
     },
     "metadata": {},
     "output_type": "display_data"
    }
   ],
   "source": [
    "chart.animate(snapshot2)\n",
    "\n",
    "chart.animate(Style({\n",
    "    \"legend\": { \n",
    "        \"width\": None \n",
    "    }\n",
    "}))\n",
    "\n",
    "snapshot3 = chart.store()"
   ]
  },
  {
   "cell_type": "markdown",
   "id": "3d68c376",
   "metadata": {},
   "source": [
    "Changing the title paddings. By default, the title is horizontally centered above the chart. In this example, we set the title’s left padding, resulting in the text moving to the right."
   ]
  },
  {
   "cell_type": "code",
   "execution_count": 4,
   "id": "c7e60196",
   "metadata": {},
   "outputs": [
    {
     "data": {
      "text/html": [
       "<script id=\"myVizzu_3e3ddc1\">\n",
       "    document.getElementById(\"myVizzu_3e3ddc1\").parentNode.style.padding = \"0px\";\n",
       "</script>\n",
       "<div id=\"myVizzu_06c7abe\"/>\n",
       "<script>\n",
       "    chart_0fa51ff = chart_0fa51ff.then(chart => {\n",
       "        document.getElementById(\"myVizzu_06c7abe\").appendChild(myVizzu_0fa51ff);\n",
       "        return chart.animate(snapshot_8778e24)\n",
       "    });\n",
       "</script>"
      ]
     },
     "metadata": {},
     "output_type": "display_data"
    },
    {
     "data": {
      "text/html": [
       "<script id=\"myVizzu_c69f646\">\n",
       "    document.getElementById(\"myVizzu_c69f646\").parentNode.style.padding = \"0px\";\n",
       "</script>\n",
       "<div id=\"myVizzu_1bcf68f\"/>\n",
       "<script>\n",
       "    chart_0fa51ff = chart_0fa51ff.then(chart => {\n",
       "        document.getElementById(\"myVizzu_1bcf68f\").appendChild(myVizzu_0fa51ff);\n",
       "        return chart.animate({\"config\": {\"title\": \"Title padding\"}})\n",
       "    });\n",
       "</script>"
      ]
     },
     "metadata": {},
     "output_type": "display_data"
    },
    {
     "data": {
      "text/html": [
       "<script id=\"myVizzu_a177175\">\n",
       "    document.getElementById(\"myVizzu_a177175\").parentNode.style.padding = \"0px\";\n",
       "</script>\n",
       "<div id=\"myVizzu_d94be76\"/>\n",
       "<script>\n",
       "    chart_0fa51ff = chart_0fa51ff.then(chart => {\n",
       "        document.getElementById(\"myVizzu_d94be76\").appendChild(myVizzu_0fa51ff);\n",
       "        return chart.animate({\"style\": {\"title\": {\"paddingTop\": 20, \"paddingBottom\": 20, \"paddingLeft\": 200}}})\n",
       "    });\n",
       "</script>"
      ]
     },
     "metadata": {},
     "output_type": "display_data"
    },
    {
     "data": {
      "text/html": [
       "<script id=\"myVizzu_8d6d55b\">\n",
       "    document.getElementById(\"myVizzu_8d6d55b\").parentNode.style.padding = \"0px\";\n",
       "</script>\n",
       "<script>\n",
       "    let snapshot_11cef2c;\n",
       "    chart_0fa51ff = chart_0fa51ff.then(chart => {\n",
       "        snapshot_11cef2c = chart.store();\n",
       "        return chart;\n",
       "    });\n",
       "</script>"
      ]
     },
     "metadata": {},
     "output_type": "display_data"
    }
   ],
   "source": [
    "chart.animate(snapshot3)\n",
    "\n",
    "chart.animate(Config({\"title\": \"Title padding\"}))\n",
    "\n",
    "chart.animate(Style({\n",
    "    \"title\": {\n",
    "        \"paddingTop\": 20,\n",
    "        \"paddingBottom\": 20,\n",
    "        \"paddingLeft\": 200\n",
    "    }\n",
    "}))\n",
    "\n",
    "snapshot4 = chart.store()"
   ]
  },
  {
   "cell_type": "markdown",
   "id": "b45e96b6",
   "metadata": {},
   "source": [
    "Setting the title paddings back to their default values."
   ]
  },
  {
   "cell_type": "code",
   "execution_count": 5,
   "id": "d58b14d9",
   "metadata": {},
   "outputs": [
    {
     "data": {
      "text/html": [
       "<script id=\"myVizzu_3dfee15\">\n",
       "    document.getElementById(\"myVizzu_3dfee15\").parentNode.style.padding = \"0px\";\n",
       "</script>\n",
       "<div id=\"myVizzu_594a789\"/>\n",
       "<script>\n",
       "    chart_0fa51ff = chart_0fa51ff.then(chart => {\n",
       "        document.getElementById(\"myVizzu_594a789\").appendChild(myVizzu_0fa51ff);\n",
       "        return chart.animate(snapshot_11cef2c)\n",
       "    });\n",
       "</script>"
      ]
     },
     "metadata": {},
     "output_type": "display_data"
    },
    {
     "data": {
      "text/html": [
       "<script id=\"myVizzu_ea9aca9\">\n",
       "    document.getElementById(\"myVizzu_ea9aca9\").parentNode.style.padding = \"0px\";\n",
       "</script>\n",
       "<div id=\"myVizzu_6cd59b0\"/>\n",
       "<script>\n",
       "    chart_0fa51ff = chart_0fa51ff.then(chart => {\n",
       "        document.getElementById(\"myVizzu_6cd59b0\").appendChild(myVizzu_0fa51ff);\n",
       "        return chart.animate({\"style\": {\"title\": {\"paddingTop\": null, \"paddingBottom\": null, \"paddingLeft\": null}}})\n",
       "    });\n",
       "</script>"
      ]
     },
     "metadata": {},
     "output_type": "display_data"
    },
    {
     "data": {
      "text/html": [
       "<script id=\"myVizzu_809f5eb\">\n",
       "    document.getElementById(\"myVizzu_809f5eb\").parentNode.style.padding = \"0px\";\n",
       "</script>\n",
       "<script>\n",
       "    let snapshot_cfb7c9e;\n",
       "    chart_0fa51ff = chart_0fa51ff.then(chart => {\n",
       "        snapshot_cfb7c9e = chart.store();\n",
       "        return chart;\n",
       "    });\n",
       "</script>"
      ]
     },
     "metadata": {},
     "output_type": "display_data"
    }
   ],
   "source": [
    "chart.animate(snapshot4)\n",
    "\n",
    "chart.animate(Style({\n",
    "    \"title\": {\n",
    "        \"paddingTop\": None,\n",
    "        \"paddingBottom\": None,\n",
    "        \"paddingLeft\": None\n",
    "    }\n",
    "}))\n",
    "\n",
    "snapshot5 = chart.store()"
   ]
  },
  {
   "cell_type": "markdown",
   "id": "6af0c821",
   "metadata": {},
   "source": [
    "Changing the paddings of the plot area to position the plot. The texts on the axes are drawn on the padding of the plot and not the plot itself."
   ]
  },
  {
   "cell_type": "code",
   "execution_count": 6,
   "id": "054257d1",
   "metadata": {},
   "outputs": [
    {
     "data": {
      "text/html": [
       "<script id=\"myVizzu_391bdb0\">\n",
       "    document.getElementById(\"myVizzu_391bdb0\").parentNode.style.padding = \"0px\";\n",
       "</script>\n",
       "<div id=\"myVizzu_2c87f1d\"/>\n",
       "<script>\n",
       "    chart_0fa51ff = chart_0fa51ff.then(chart => {\n",
       "        document.getElementById(\"myVizzu_2c87f1d\").appendChild(myVizzu_0fa51ff);\n",
       "        return chart.animate(snapshot_cfb7c9e)\n",
       "    });\n",
       "</script>"
      ]
     },
     "metadata": {},
     "output_type": "display_data"
    },
    {
     "data": {
      "text/html": [
       "<script id=\"myVizzu_5539975\">\n",
       "    document.getElementById(\"myVizzu_5539975\").parentNode.style.padding = \"0px\";\n",
       "</script>\n",
       "<div id=\"myVizzu_aa56cfc\"/>\n",
       "<script>\n",
       "    chart_0fa51ff = chart_0fa51ff.then(chart => {\n",
       "        document.getElementById(\"myVizzu_aa56cfc\").appendChild(myVizzu_0fa51ff);\n",
       "        return chart.animate({\"config\": {\"title\": \"Plot padding\"}})\n",
       "    });\n",
       "</script>"
      ]
     },
     "metadata": {},
     "output_type": "display_data"
    },
    {
     "data": {
      "text/html": [
       "<script id=\"myVizzu_7c4cae2\">\n",
       "    document.getElementById(\"myVizzu_7c4cae2\").parentNode.style.padding = \"0px\";\n",
       "</script>\n",
       "<div id=\"myVizzu_7488d4b\"/>\n",
       "<script>\n",
       "    chart_0fa51ff = chart_0fa51ff.then(chart => {\n",
       "        document.getElementById(\"myVizzu_7488d4b\").appendChild(myVizzu_0fa51ff);\n",
       "        return chart.animate({\"style\": {\"plot\": {\"paddingLeft\": 100, \"paddingRight\": 100}}})\n",
       "    });\n",
       "</script>"
      ]
     },
     "metadata": {},
     "output_type": "display_data"
    },
    {
     "data": {
      "text/html": [
       "<script id=\"myVizzu_ddb82d9\">\n",
       "    document.getElementById(\"myVizzu_ddb82d9\").parentNode.style.padding = \"0px\";\n",
       "</script>\n",
       "<script>\n",
       "    let snapshot_b79405c;\n",
       "    chart_0fa51ff = chart_0fa51ff.then(chart => {\n",
       "        snapshot_b79405c = chart.store();\n",
       "        return chart;\n",
       "    });\n",
       "</script>"
      ]
     },
     "metadata": {},
     "output_type": "display_data"
    }
   ],
   "source": [
    "chart.animate(snapshot5)\n",
    "\n",
    "chart.animate(Config({\"title\": \"Plot padding\"}))\n",
    "\n",
    "chart.animate(Style({\n",
    "    \"plot\": {\n",
    "        \"paddingLeft\": 100,\n",
    "        \"paddingRight\": 100\n",
    "    }\n",
    "}))\n",
    "\n",
    "snapshot6 = chart.store()"
   ]
  },
  {
   "cell_type": "markdown",
   "id": "9e4b5dad",
   "metadata": {},
   "source": [
    "Setting the plot paddings back to their default values."
   ]
  },
  {
   "cell_type": "code",
   "execution_count": 7,
   "id": "28536d66",
   "metadata": {},
   "outputs": [
    {
     "data": {
      "text/html": [
       "<script id=\"myVizzu_94659ca\">\n",
       "    document.getElementById(\"myVizzu_94659ca\").parentNode.style.padding = \"0px\";\n",
       "</script>\n",
       "<div id=\"myVizzu_e8a588d\"/>\n",
       "<script>\n",
       "    chart_0fa51ff = chart_0fa51ff.then(chart => {\n",
       "        document.getElementById(\"myVizzu_e8a588d\").appendChild(myVizzu_0fa51ff);\n",
       "        return chart.animate(snapshot_b79405c)\n",
       "    });\n",
       "</script>"
      ]
     },
     "metadata": {},
     "output_type": "display_data"
    },
    {
     "data": {
      "text/html": [
       "<script id=\"myVizzu_644c207\">\n",
       "    document.getElementById(\"myVizzu_644c207\").parentNode.style.padding = \"0px\";\n",
       "</script>\n",
       "<div id=\"myVizzu_e45f0b3\"/>\n",
       "<script>\n",
       "    chart_0fa51ff = chart_0fa51ff.then(chart => {\n",
       "        document.getElementById(\"myVizzu_e45f0b3\").appendChild(myVizzu_0fa51ff);\n",
       "        return chart.animate({\"style\": {\"plot\": {\"paddingLeft\": null, \"paddingRight\": null}}})\n",
       "    });\n",
       "</script>"
      ]
     },
     "metadata": {},
     "output_type": "display_data"
    }
   ],
   "source": [
    "chart.animate(snapshot6)\n",
    "\n",
    "chart.animate(Style({\n",
    "    \"plot\": {\n",
    "        \"paddingLeft\": None,\n",
    "        \"paddingRight\": None\n",
    "    }\n",
    "}))"
   ]
  }
 ],
 "metadata": {
  "kernelspec": {
   "display_name": "Python 3 (ipykernel)",
   "language": "python",
   "name": "python3"
  },
  "language_info": {
   "codemirror_mode": {
    "name": "ipython",
    "version": 3
   },
   "file_extension": ".py",
   "mimetype": "text/x-python",
   "name": "python",
   "nbconvert_exporter": "python",
   "pygments_lexer": "ipython3",
   "version": "3.8.10"
  }
 },
 "nbformat": 4,
 "nbformat_minor": 5
}
