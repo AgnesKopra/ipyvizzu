{
 "cells": [
  {
   "cell_type": "markdown",
   "id": "22efdcb5",
   "metadata": {},
   "source": [
    "## Channels & legend\n",
    "\n",
    "Besides the x-axis and the y-axis, there are five more channels in Vizzu you can use to visualize your data. Similarly to the axes you can put any number of dimensions and/or one measure to a channel. In the following example the four most commonly used channels are shown. The fifth, noop channel is introduced later in the Without coordinates & noop channel chapter.\n",
    "\n",
    "Data on the label channel will be written on the markers on the chart. Vizzu automatically determines the best way to position these labels, but you can set them differently with the style object introduced in the Color palette & fonts chapter."
   ]
  },
  {
   "cell_type": "code",
   "execution_count": 1,
   "id": "3a2e88db",
   "metadata": {},
   "outputs": [
    {
     "data": {
      "text/html": [
       "<script id=\"myVizzu_dc1dbd7\">\n",
       "    document.getElementById(\"myVizzu_dc1dbd7\").parentNode.style.padding = \"0px\";\n",
       "</script>\n",
       "<div id=\"myVizzu_dc7a02b\" style=\"width:800px; height:480px;\"/>\n",
       "<script>\n",
       "    let myVizzu_dc7a02b = document.getElementById(\"myVizzu_dc7a02b\")\n",
       "    let chart_dc7a02b = import(\"https://cdn.jsdelivr.net/npm/vizzu@~0.4.0/dist/vizzu.min.js\").then(Vizzu => new Vizzu.default(\"myVizzu_dc7a02b\").initializing);\n",
       "</script>"
      ]
     },
     "metadata": {},
     "output_type": "display_data"
    },
    {
     "data": {
      "text/html": [
       "<script id=\"myVizzu_8374ee6\">\n",
       "    document.getElementById(\"myVizzu_8374ee6\").parentNode.style.padding = \"0px\";\n",
       "</script>\n",
       "<div id=\"myVizzu_7c90cb7\"/>\n",
       "<script>\n",
       "    chart_dc7a02b = chart_dc7a02b.then(chart => {\n",
       "        document.getElementById(\"myVizzu_7c90cb7\").appendChild(myVizzu_dc7a02b);\n",
       "        return chart.animate({\"data\": {\"dimensions\": [{\"name\": \"Genres\", \"values\": [\"Pop\", \"Rock\", \"Jazz\", \"Metal\"]}, {\"name\": \"Types\", \"values\": [\"Hard\", \"Smooth\", \"Experimental\"]}], \"measures\": [{\"name\": \"Popularity\", \"values\": [[114, 96, 78, 52], [56, 36, 174, 121], [127, 83, 94, 58]]}]}})\n",
       "    });\n",
       "</script>"
      ]
     },
     "metadata": {},
     "output_type": "display_data"
    },
    {
     "data": {
      "text/html": [
       "<script id=\"myVizzu_7384566\">\n",
       "    document.getElementById(\"myVizzu_7384566\").parentNode.style.padding = \"0px\";\n",
       "</script>\n",
       "<div id=\"myVizzu_15d4249\"/>\n",
       "<script>\n",
       "    chart_dc7a02b = chart_dc7a02b.then(chart => {\n",
       "        document.getElementById(\"myVizzu_15d4249\").appendChild(myVizzu_dc7a02b);\n",
       "        return chart.animate({\"config\": {\"channels\": {\"y\": {\"set\": \"Popularity\"}, \"x\": {\"set\": \"Genres\"}}, \"title\": \"Label\"}})\n",
       "    });\n",
       "</script>"
      ]
     },
     "metadata": {},
     "output_type": "display_data"
    },
    {
     "data": {
      "text/html": [
       "<script id=\"myVizzu_e2eb056\">\n",
       "    document.getElementById(\"myVizzu_e2eb056\").parentNode.style.padding = \"0px\";\n",
       "</script>\n",
       "<div id=\"myVizzu_7aaeb86\"/>\n",
       "<script>\n",
       "    chart_dc7a02b = chart_dc7a02b.then(chart => {\n",
       "        document.getElementById(\"myVizzu_7aaeb86\").appendChild(myVizzu_dc7a02b);\n",
       "        return chart.animate({\"config\": {\"channels\": {\"label\": {\"attach\": \"Popularity\"}}}})\n",
       "    });\n",
       "</script>"
      ]
     },
     "metadata": {},
     "output_type": "display_data"
    },
    {
     "data": {
      "text/html": [
       "<script id=\"myVizzu_768f493\">\n",
       "    document.getElementById(\"myVizzu_768f493\").parentNode.style.padding = \"0px\";\n",
       "</script>\n",
       "<script>\n",
       "    let snapshot_913d940;\n",
       "    chart_dc7a02b = chart_dc7a02b.then(chart => {\n",
       "        snapshot_913d940 = chart.store();\n",
       "        return chart;\n",
       "    });\n",
       "</script>"
      ]
     },
     "metadata": {},
     "output_type": "display_data"
    }
   ],
   "source": [
    "from ipyvizzu import Chart, Data, Config\n",
    "\n",
    "chart = Chart()\n",
    "\n",
    "data = Data.from_json(\"../data/music_example_data.json\")\n",
    "\n",
    "chart.animate(data)\n",
    "\n",
    "chart.animate(Config({\n",
    "    \"channels\": {\n",
    "        \"y\": {\n",
    "            \"set\": \"Popularity\"\n",
    "        }, \n",
    "        \"x\": {\n",
    "            \"set\": \"Genres\"\n",
    "        }\n",
    "    }, \n",
    "    \"title\": \"Label\"\n",
    "}))\n",
    "\n",
    "chart.animate(Config({\n",
    "    \"channels\": {\n",
    "        \"label\": {\n",
    "            \"attach\": \"Popularity\"\n",
    "        }\n",
    "    }\n",
    "}))\n",
    "\n",
    "snapshot1 = chart.store()"
   ]
  },
  {
   "cell_type": "markdown",
   "id": "077a2b92",
   "metadata": {},
   "source": [
    "The lightness channel sets the lightness of the markers. In this case the same measure (Popularity) is added to it that is on the y-axis, meaning that columns’ height and lightness represent the same values. The legend for the lightness channel is turned on using the legend property.\n",
    "\n",
    "Note: This is an example when we explicitly instruct Vizzu to show the legend. By default Vizzu automatically shows/hides the legend when it's necessary. You can also turn it off with the legend : null command or set back to automatic mode with legend : 'auto'."
   ]
  },
  {
   "cell_type": "code",
   "execution_count": 2,
   "id": "2b42bdfd",
   "metadata": {},
   "outputs": [
    {
     "data": {
      "text/html": [
       "<script id=\"myVizzu_7d7e69a\">\n",
       "    document.getElementById(\"myVizzu_7d7e69a\").parentNode.style.padding = \"0px\";\n",
       "</script>\n",
       "<div id=\"myVizzu_2b02530\"/>\n",
       "<script>\n",
       "    chart_dc7a02b = chart_dc7a02b.then(chart => {\n",
       "        document.getElementById(\"myVizzu_2b02530\").appendChild(myVizzu_dc7a02b);\n",
       "        return chart.animate(snapshot_913d940)\n",
       "    });\n",
       "</script>"
      ]
     },
     "metadata": {},
     "output_type": "display_data"
    },
    {
     "data": {
      "text/html": [
       "<script id=\"myVizzu_07c47c0\">\n",
       "    document.getElementById(\"myVizzu_07c47c0\").parentNode.style.padding = \"0px\";\n",
       "</script>\n",
       "<div id=\"myVizzu_1689cd4\"/>\n",
       "<script>\n",
       "    chart_dc7a02b = chart_dc7a02b.then(chart => {\n",
       "        document.getElementById(\"myVizzu_1689cd4\").appendChild(myVizzu_dc7a02b);\n",
       "        return chart.animate({\"config\": {\"title\": \"Lightness - legend on\"}})\n",
       "    });\n",
       "</script>"
      ]
     },
     "metadata": {},
     "output_type": "display_data"
    },
    {
     "data": {
      "text/html": [
       "<script id=\"myVizzu_c6327f6\">\n",
       "    document.getElementById(\"myVizzu_c6327f6\").parentNode.style.padding = \"0px\";\n",
       "</script>\n",
       "<div id=\"myVizzu_607a790\"/>\n",
       "<script>\n",
       "    chart_dc7a02b = chart_dc7a02b.then(chart => {\n",
       "        document.getElementById(\"myVizzu_607a790\").appendChild(myVizzu_dc7a02b);\n",
       "        return chart.animate({\"config\": {\"channels\": {\"lightness\": {\"attach\": \"Popularity\"}}, \"legend\": \"lightness\"}})\n",
       "    });\n",
       "</script>"
      ]
     },
     "metadata": {},
     "output_type": "display_data"
    },
    {
     "data": {
      "text/html": [
       "<script id=\"myVizzu_c13f9e8\">\n",
       "    document.getElementById(\"myVizzu_c13f9e8\").parentNode.style.padding = \"0px\";\n",
       "</script>\n",
       "<script>\n",
       "    let snapshot_0e2a1aa;\n",
       "    chart_dc7a02b = chart_dc7a02b.then(chart => {\n",
       "        snapshot_0e2a1aa = chart.store();\n",
       "        return chart;\n",
       "    });\n",
       "</script>"
      ]
     },
     "metadata": {},
     "output_type": "display_data"
    }
   ],
   "source": [
    "chart.animate(snapshot1)\n",
    "\n",
    "chart.animate(Config({\"title\": \"Lightness - legend on\"}))\n",
    "\n",
    "chart.animate(Config({\n",
    "    \"channels\": {\n",
    "        \"lightness\": {\n",
    "            \"attach\": \"Popularity\"\n",
    "        }\n",
    "    },\n",
    "    \"legend\": \"lightness\"\n",
    "}))\n",
    "\n",
    "snapshot2 = chart.store()"
   ]
  },
  {
   "cell_type": "markdown",
   "id": "33b46377",
   "metadata": {},
   "source": [
    "The color channel sets the color of the markers. The same dimension (Genres) is put on it that is on the x-axis resulting in each bar having a different color. If a measure is put on the color channel, a color range will be used.\n",
    "\n",
    "Note: The value on the lightness channel is removed in this step as it doesn’t make sense to use it together with the color channel in this case."
   ]
  },
  {
   "cell_type": "code",
   "execution_count": 3,
   "id": "1b4481a7",
   "metadata": {},
   "outputs": [
    {
     "data": {
      "text/html": [
       "<script id=\"myVizzu_03550c0\">\n",
       "    document.getElementById(\"myVizzu_03550c0\").parentNode.style.padding = \"0px\";\n",
       "</script>\n",
       "<div id=\"myVizzu_6190237\"/>\n",
       "<script>\n",
       "    chart_dc7a02b = chart_dc7a02b.then(chart => {\n",
       "        document.getElementById(\"myVizzu_6190237\").appendChild(myVizzu_dc7a02b);\n",
       "        return chart.animate(snapshot_0e2a1aa)\n",
       "    });\n",
       "</script>"
      ]
     },
     "metadata": {},
     "output_type": "display_data"
    },
    {
     "data": {
      "text/html": [
       "<script id=\"myVizzu_6e1a007\">\n",
       "    document.getElementById(\"myVizzu_6e1a007\").parentNode.style.padding = \"0px\";\n",
       "</script>\n",
       "<div id=\"myVizzu_eaf0001\"/>\n",
       "<script>\n",
       "    chart_dc7a02b = chart_dc7a02b.then(chart => {\n",
       "        document.getElementById(\"myVizzu_eaf0001\").appendChild(myVizzu_dc7a02b);\n",
       "        return chart.animate({\"config\": {\"title\": \"Color\"}})\n",
       "    });\n",
       "</script>"
      ]
     },
     "metadata": {},
     "output_type": "display_data"
    },
    {
     "data": {
      "text/html": [
       "<script id=\"myVizzu_da02706\">\n",
       "    document.getElementById(\"myVizzu_da02706\").parentNode.style.padding = \"0px\";\n",
       "</script>\n",
       "<div id=\"myVizzu_823d1d8\"/>\n",
       "<script>\n",
       "    chart_dc7a02b = chart_dc7a02b.then(chart => {\n",
       "        document.getElementById(\"myVizzu_823d1d8\").appendChild(myVizzu_dc7a02b);\n",
       "        return chart.animate({\"config\": {\"channels\": {\"color\": {\"attach\": \"Genres\"}}, \"legend\": \"color\"}})\n",
       "    });\n",
       "</script>"
      ]
     },
     "metadata": {},
     "output_type": "display_data"
    },
    {
     "data": {
      "text/html": [
       "<script id=\"myVizzu_d9f432c\">\n",
       "    document.getElementById(\"myVizzu_d9f432c\").parentNode.style.padding = \"0px\";\n",
       "</script>\n",
       "<script>\n",
       "    let snapshot_bbc5702;\n",
       "    chart_dc7a02b = chart_dc7a02b.then(chart => {\n",
       "        snapshot_bbc5702 = chart.store();\n",
       "        return chart;\n",
       "    });\n",
       "</script>"
      ]
     },
     "metadata": {},
     "output_type": "display_data"
    }
   ],
   "source": [
    "chart.animate(snapshot2)\n",
    "\n",
    "chart.animate(Config({\"title\": \"Color\"}))\n",
    "\n",
    "chart.animate(Config({\n",
    "    \"channels\": {\n",
    "        \"color\": {\n",
    "            \"attach\": \"Genres\"\n",
    "        }\n",
    "    },\n",
    "    \"legend\": \"color\"\n",
    "}))\n",
    "\n",
    "snapshot3 = chart.store()"
   ]
  },
  {
   "cell_type": "markdown",
   "id": "b8d322e5",
   "metadata": {},
   "source": [
    "The size channel sets the size of the markers if the geometry is circle - where size sets the radius of the circles - or line - where size determines line width. It is ignored when using rectangle or area geometry. This is why we change the geometry to circle in the example."
   ]
  },
  {
   "cell_type": "code",
   "execution_count": 4,
   "id": "4d951e6b",
   "metadata": {},
   "outputs": [
    {
     "data": {
      "text/html": [
       "<script id=\"myVizzu_30f2609\">\n",
       "    document.getElementById(\"myVizzu_30f2609\").parentNode.style.padding = \"0px\";\n",
       "</script>\n",
       "<div id=\"myVizzu_ffb4a4b\"/>\n",
       "<script>\n",
       "    chart_dc7a02b = chart_dc7a02b.then(chart => {\n",
       "        document.getElementById(\"myVizzu_ffb4a4b\").appendChild(myVizzu_dc7a02b);\n",
       "        return chart.animate(snapshot_bbc5702)\n",
       "    });\n",
       "</script>"
      ]
     },
     "metadata": {},
     "output_type": "display_data"
    },
    {
     "data": {
      "text/html": [
       "<script id=\"myVizzu_fca9f60\">\n",
       "    document.getElementById(\"myVizzu_fca9f60\").parentNode.style.padding = \"0px\";\n",
       "</script>\n",
       "<div id=\"myVizzu_23c2230\"/>\n",
       "<script>\n",
       "    chart_dc7a02b = chart_dc7a02b.then(chart => {\n",
       "        document.getElementById(\"myVizzu_23c2230\").appendChild(myVizzu_dc7a02b);\n",
       "        return chart.animate({\"config\": {\"title\": \"Size - change of geometry required\"}})\n",
       "    });\n",
       "</script>"
      ]
     },
     "metadata": {},
     "output_type": "display_data"
    },
    {
     "data": {
      "text/html": [
       "<script id=\"myVizzu_89c6f02\">\n",
       "    document.getElementById(\"myVizzu_89c6f02\").parentNode.style.padding = \"0px\";\n",
       "</script>\n",
       "<div id=\"myVizzu_9aa3a11\"/>\n",
       "<script>\n",
       "    chart_dc7a02b = chart_dc7a02b.then(chart => {\n",
       "        document.getElementById(\"myVizzu_9aa3a11\").appendChild(myVizzu_dc7a02b);\n",
       "        return chart.animate({\"config\": {\"channels\": {\"size\": {\"set\": \"Popularity\"}}, \"geometry\": \"circle\"}})\n",
       "    });\n",
       "</script>"
      ]
     },
     "metadata": {},
     "output_type": "display_data"
    }
   ],
   "source": [
    "chart.animate(snapshot3)\n",
    "\n",
    "chart.animate(Config({\"title\": \"Size - change of geometry required\"}))\n",
    "\n",
    "chart.animate(Config({\n",
    "    \"channels\": {\n",
    "        \"size\": {\n",
    "            \"set\": \"Popularity\"\n",
    "        }\n",
    "    },\n",
    "    \"geometry\": \"circle\"\n",
    "}))"
   ]
  }
 ],
 "metadata": {
  "kernelspec": {
   "display_name": "Python 3 (ipykernel)",
   "language": "python",
   "name": "python3"
  },
  "language_info": {
   "codemirror_mode": {
    "name": "ipython",
    "version": 3
   },
   "file_extension": ".py",
   "mimetype": "text/x-python",
   "name": "python",
   "nbconvert_exporter": "python",
   "pygments_lexer": "ipython3",
   "version": "3.8.10"
  }
 },
 "nbformat": 4,
 "nbformat_minor": 5
}
