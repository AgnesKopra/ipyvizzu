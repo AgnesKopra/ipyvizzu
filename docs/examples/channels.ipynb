{
 "cells": [
  {
   "cell_type": "markdown",
   "id": "22efdcb5",
   "metadata": {},
   "source": [
    "## Channels & legend\n",
    "\n",
    "Besides the x-axis and the y-axis, there are five more channels in Vizzu you can use to visualize your data. Similarly to the axes you can put any number of dimensions and/or one measure to a channel. In the following example the four most commonly used channels are shown. The fifth, noop channel is introduced later in the Without coordinates & noop channel chapter.\n",
    "\n",
    "Data on the label channel will be written on the markers on the chart. Vizzu automatically determines the best way to position these labels, but you can set them differently with the style object introduced in the Color palette & fonts chapter."
   ]
  },
  {
   "cell_type": "code",
   "execution_count": 1,
   "id": "3a2e88db",
   "metadata": {},
   "outputs": [
    {
     "data": {
      "text/html": [
       "<script>\n",
       "    let myVizzu_8949419 = document.createElement(\"div\");\n",
       "    myVizzu_8949419.style.cssText = \"width: 800px; height: 480px;\";\n",
       "    let chart_8949419 = import(\"https://cdn.jsdelivr.net/npm/vizzu@~0.4.0/dist/vizzu.min.js\").then(Vizzu => new Vizzu.default(myVizzu_8949419).initializing);\n",
       "</script>"
      ]
     },
     "metadata": {},
     "output_type": "display_data"
    },
    {
     "data": {
      "text/html": [
       "<script id=\"myVizzu_7bab344\">\n",
       "    chart_8949419 = chart_8949419.then(chart => {\n",
       "        let script = document.getElementById(\"myVizzu_7bab344\");\n",
       "        if (myVizzu_8949419.parentNode && myVizzu_8949419.parentNode.parentNode) {\n",
       "            let display = myVizzu_8949419.parentNode.parentNode.style.display;\n",
       "            myVizzu_8949419.parentNode.parentNode.style.display = \"none\";\n",
       "            script.parentNode.parentNode.style.display = display;\n",
       "        }\n",
       "        script.parentNode.insertBefore(myVizzu_8949419, script);\n",
       "        return chart.animate({\"data\": {\"dimensions\": [{\"name\": \"Genres\", \"values\": [\"Pop\", \"Rock\", \"Jazz\", \"Metal\"]}, {\"name\": \"Types\", \"values\": [\"Hard\", \"Smooth\", \"Experimental\"]}], \"measures\": [{\"name\": \"Popularity\", \"values\": [[114, 96, 78, 52], [56, 36, 174, 121], [127, 83, 94, 58]]}]}});\n",
       "    });\n",
       "</script>"
      ]
     },
     "metadata": {},
     "output_type": "display_data"
    },
    {
     "data": {
      "text/html": [
       "<script id=\"myVizzu_2421b59\">\n",
       "    chart_8949419 = chart_8949419.then(chart => {\n",
       "        let script = document.getElementById(\"myVizzu_2421b59\");\n",
       "        if (myVizzu_8949419.parentNode && myVizzu_8949419.parentNode.parentNode) {\n",
       "            let display = myVizzu_8949419.parentNode.parentNode.style.display;\n",
       "            myVizzu_8949419.parentNode.parentNode.style.display = \"none\";\n",
       "            script.parentNode.parentNode.style.display = display;\n",
       "        }\n",
       "        script.parentNode.insertBefore(myVizzu_8949419, script);\n",
       "        return chart.animate({\"config\": {\"channels\": {\"y\": {\"set\": \"Popularity\"}, \"x\": {\"set\": \"Genres\"}}, \"title\": \"Label\"}});\n",
       "    });\n",
       "</script>"
      ]
     },
     "metadata": {},
     "output_type": "display_data"
    },
    {
     "data": {
      "text/html": [
       "<script id=\"myVizzu_d7995cc\">\n",
       "    chart_8949419 = chart_8949419.then(chart => {\n",
       "        let script = document.getElementById(\"myVizzu_d7995cc\");\n",
       "        if (myVizzu_8949419.parentNode && myVizzu_8949419.parentNode.parentNode) {\n",
       "            let display = myVizzu_8949419.parentNode.parentNode.style.display;\n",
       "            myVizzu_8949419.parentNode.parentNode.style.display = \"none\";\n",
       "            script.parentNode.parentNode.style.display = display;\n",
       "        }\n",
       "        script.parentNode.insertBefore(myVizzu_8949419, script);\n",
       "        return chart.animate({\"config\": {\"channels\": {\"label\": {\"attach\": \"Popularity\"}}}});\n",
       "    });\n",
       "</script>"
      ]
     },
     "metadata": {},
     "output_type": "display_data"
    },
    {
     "data": {
      "text/html": [
       "<script>\n",
       "    let snapshot_b05aa5b;\n",
       "    chart_8949419 = chart_8949419.then(chart => {\n",
       "        snapshot_b05aa5b = chart.store();\n",
       "        return chart;\n",
       "    });\n",
       "</script>"
      ]
     },
     "metadata": {},
     "output_type": "display_data"
    }
   ],
   "source": [
    "from ipyvizzu import Chart, Data, Config\n",
    "\n",
    "chart = Chart()\n",
    "\n",
    "data = Data.from_json(\"../data/music_example_data.json\")\n",
    "\n",
    "chart.animate(data)\n",
    "\n",
    "chart.animate(Config({\n",
    "    \"channels\": {\n",
    "        \"y\": {\n",
    "            \"set\": \"Popularity\"\n",
    "        }, \n",
    "        \"x\": {\n",
    "            \"set\": \"Genres\"\n",
    "        }\n",
    "    }, \n",
    "    \"title\": \"Label\"\n",
    "}))\n",
    "\n",
    "chart.animate(Config({\n",
    "    \"channels\": {\n",
    "        \"label\": {\n",
    "            \"attach\": \"Popularity\"\n",
    "        }\n",
    "    }\n",
    "}))\n",
    "\n",
    "snapshot1 = chart.store()"
   ]
  },
  {
   "cell_type": "markdown",
   "id": "077a2b92",
   "metadata": {},
   "source": [
    "The lightness channel sets the lightness of the markers. In this case the same measure (Popularity) is added to it that is on the y-axis, meaning that columns’ height and lightness represent the same values. The legend for the lightness channel is turned on using the legend property.\n",
    "\n",
    "Note: This is an example when we explicitly instruct Vizzu to show the legend. By default Vizzu automatically shows/hides the legend when it's necessary. You can also turn it off with the legend : null command or set back to automatic mode with legend : 'auto'."
   ]
  },
  {
   "cell_type": "code",
   "execution_count": 2,
   "id": "2b42bdfd",
   "metadata": {},
   "outputs": [
    {
     "data": {
      "text/html": [
       "<script id=\"myVizzu_cc9da1a\">\n",
       "    chart_8949419 = chart_8949419.then(chart => {\n",
       "        let script = document.getElementById(\"myVizzu_cc9da1a\");\n",
       "        if (myVizzu_8949419.parentNode && myVizzu_8949419.parentNode.parentNode) {\n",
       "            let display = myVizzu_8949419.parentNode.parentNode.style.display;\n",
       "            myVizzu_8949419.parentNode.parentNode.style.display = \"none\";\n",
       "            script.parentNode.parentNode.style.display = display;\n",
       "        }\n",
       "        script.parentNode.insertBefore(myVizzu_8949419, script);\n",
       "        return chart.animate(snapshot_b05aa5b);\n",
       "    });\n",
       "</script>"
      ]
     },
     "metadata": {},
     "output_type": "display_data"
    },
    {
     "data": {
      "text/html": [
       "<script id=\"myVizzu_71e4805\">\n",
       "    chart_8949419 = chart_8949419.then(chart => {\n",
       "        let script = document.getElementById(\"myVizzu_71e4805\");\n",
       "        if (myVizzu_8949419.parentNode && myVizzu_8949419.parentNode.parentNode) {\n",
       "            let display = myVizzu_8949419.parentNode.parentNode.style.display;\n",
       "            myVizzu_8949419.parentNode.parentNode.style.display = \"none\";\n",
       "            script.parentNode.parentNode.style.display = display;\n",
       "        }\n",
       "        script.parentNode.insertBefore(myVizzu_8949419, script);\n",
       "        return chart.animate({\"config\": {\"title\": \"Lightness - legend on\"}});\n",
       "    });\n",
       "</script>"
      ]
     },
     "metadata": {},
     "output_type": "display_data"
    },
    {
     "data": {
      "text/html": [
       "<script id=\"myVizzu_87926ea\">\n",
       "    chart_8949419 = chart_8949419.then(chart => {\n",
       "        let script = document.getElementById(\"myVizzu_87926ea\");\n",
       "        if (myVizzu_8949419.parentNode && myVizzu_8949419.parentNode.parentNode) {\n",
       "            let display = myVizzu_8949419.parentNode.parentNode.style.display;\n",
       "            myVizzu_8949419.parentNode.parentNode.style.display = \"none\";\n",
       "            script.parentNode.parentNode.style.display = display;\n",
       "        }\n",
       "        script.parentNode.insertBefore(myVizzu_8949419, script);\n",
       "        return chart.animate({\"config\": {\"channels\": {\"lightness\": {\"attach\": \"Popularity\"}}, \"legend\": \"lightness\"}});\n",
       "    });\n",
       "</script>"
      ]
     },
     "metadata": {},
     "output_type": "display_data"
    },
    {
     "data": {
      "text/html": [
       "<script>\n",
       "    let snapshot_92dd391;\n",
       "    chart_8949419 = chart_8949419.then(chart => {\n",
       "        snapshot_92dd391 = chart.store();\n",
       "        return chart;\n",
       "    });\n",
       "</script>"
      ]
     },
     "metadata": {},
     "output_type": "display_data"
    }
   ],
   "source": [
    "chart.animate(snapshot1)\n",
    "\n",
    "chart.animate(Config({\"title\": \"Lightness - legend on\"}))\n",
    "\n",
    "chart.animate(Config({\n",
    "    \"channels\": {\n",
    "        \"lightness\": {\n",
    "            \"attach\": \"Popularity\"\n",
    "        }\n",
    "    },\n",
    "    \"legend\": \"lightness\"\n",
    "}))\n",
    "\n",
    "snapshot2 = chart.store()"
   ]
  },
  {
   "cell_type": "markdown",
   "id": "33b46377",
   "metadata": {},
   "source": [
    "The color channel sets the color of the markers. The same dimension (Genres) is put on it that is on the x-axis resulting in each bar having a different color. If a measure is put on the color channel, a color range will be used.\n",
    "\n",
    "Note: The value on the lightness channel is removed in this step as it doesn’t make sense to use it together with the color channel in this case."
   ]
  },
  {
   "cell_type": "code",
   "execution_count": 3,
   "id": "1b4481a7",
   "metadata": {},
   "outputs": [
    {
     "data": {
      "text/html": [
       "<script id=\"myVizzu_e724d75\">\n",
       "    chart_8949419 = chart_8949419.then(chart => {\n",
       "        let script = document.getElementById(\"myVizzu_e724d75\");\n",
       "        if (myVizzu_8949419.parentNode && myVizzu_8949419.parentNode.parentNode) {\n",
       "            let display = myVizzu_8949419.parentNode.parentNode.style.display;\n",
       "            myVizzu_8949419.parentNode.parentNode.style.display = \"none\";\n",
       "            script.parentNode.parentNode.style.display = display;\n",
       "        }\n",
       "        script.parentNode.insertBefore(myVizzu_8949419, script);\n",
       "        return chart.animate(snapshot_92dd391);\n",
       "    });\n",
       "</script>"
      ]
     },
     "metadata": {},
     "output_type": "display_data"
    },
    {
     "data": {
      "text/html": [
       "<script id=\"myVizzu_b10cfc0\">\n",
       "    chart_8949419 = chart_8949419.then(chart => {\n",
       "        let script = document.getElementById(\"myVizzu_b10cfc0\");\n",
       "        if (myVizzu_8949419.parentNode && myVizzu_8949419.parentNode.parentNode) {\n",
       "            let display = myVizzu_8949419.parentNode.parentNode.style.display;\n",
       "            myVizzu_8949419.parentNode.parentNode.style.display = \"none\";\n",
       "            script.parentNode.parentNode.style.display = display;\n",
       "        }\n",
       "        script.parentNode.insertBefore(myVizzu_8949419, script);\n",
       "        return chart.animate({\"config\": {\"title\": \"Color\"}});\n",
       "    });\n",
       "</script>"
      ]
     },
     "metadata": {},
     "output_type": "display_data"
    },
    {
     "data": {
      "text/html": [
       "<script id=\"myVizzu_6a88c63\">\n",
       "    chart_8949419 = chart_8949419.then(chart => {\n",
       "        let script = document.getElementById(\"myVizzu_6a88c63\");\n",
       "        if (myVizzu_8949419.parentNode && myVizzu_8949419.parentNode.parentNode) {\n",
       "            let display = myVizzu_8949419.parentNode.parentNode.style.display;\n",
       "            myVizzu_8949419.parentNode.parentNode.style.display = \"none\";\n",
       "            script.parentNode.parentNode.style.display = display;\n",
       "        }\n",
       "        script.parentNode.insertBefore(myVizzu_8949419, script);\n",
       "        return chart.animate({\"config\": {\"channels\": {\"color\": {\"attach\": \"Genres\"}}, \"legend\": \"color\"}});\n",
       "    });\n",
       "</script>"
      ]
     },
     "metadata": {},
     "output_type": "display_data"
    },
    {
     "data": {
      "text/html": [
       "<script>\n",
       "    let snapshot_a459d91;\n",
       "    chart_8949419 = chart_8949419.then(chart => {\n",
       "        snapshot_a459d91 = chart.store();\n",
       "        return chart;\n",
       "    });\n",
       "</script>"
      ]
     },
     "metadata": {},
     "output_type": "display_data"
    }
   ],
   "source": [
    "chart.animate(snapshot2)\n",
    "\n",
    "chart.animate(Config({\"title\": \"Color\"}))\n",
    "\n",
    "chart.animate(Config({\n",
    "    \"channels\": {\n",
    "        \"color\": {\n",
    "            \"attach\": \"Genres\"\n",
    "        }\n",
    "    },\n",
    "    \"legend\": \"color\"\n",
    "}))\n",
    "\n",
    "snapshot3 = chart.store()"
   ]
  },
  {
   "cell_type": "markdown",
   "id": "b8d322e5",
   "metadata": {},
   "source": [
    "The size channel sets the size of the markers if the geometry is circle - where size sets the radius of the circles - or line - where size determines line width. It is ignored when using rectangle or area geometry. This is why we change the geometry to circle in the example."
   ]
  },
  {
   "cell_type": "code",
   "execution_count": 4,
   "id": "4d951e6b",
   "metadata": {},
   "outputs": [
    {
     "data": {
      "text/html": [
       "<script id=\"myVizzu_fb7dd88\">\n",
       "    chart_8949419 = chart_8949419.then(chart => {\n",
       "        let script = document.getElementById(\"myVizzu_fb7dd88\");\n",
       "        if (myVizzu_8949419.parentNode && myVizzu_8949419.parentNode.parentNode) {\n",
       "            let display = myVizzu_8949419.parentNode.parentNode.style.display;\n",
       "            myVizzu_8949419.parentNode.parentNode.style.display = \"none\";\n",
       "            script.parentNode.parentNode.style.display = display;\n",
       "        }\n",
       "        script.parentNode.insertBefore(myVizzu_8949419, script);\n",
       "        return chart.animate(snapshot_a459d91);\n",
       "    });\n",
       "</script>"
      ]
     },
     "metadata": {},
     "output_type": "display_data"
    },
    {
     "data": {
      "text/html": [
       "<script id=\"myVizzu_0b131c7\">\n",
       "    chart_8949419 = chart_8949419.then(chart => {\n",
       "        let script = document.getElementById(\"myVizzu_0b131c7\");\n",
       "        if (myVizzu_8949419.parentNode && myVizzu_8949419.parentNode.parentNode) {\n",
       "            let display = myVizzu_8949419.parentNode.parentNode.style.display;\n",
       "            myVizzu_8949419.parentNode.parentNode.style.display = \"none\";\n",
       "            script.parentNode.parentNode.style.display = display;\n",
       "        }\n",
       "        script.parentNode.insertBefore(myVizzu_8949419, script);\n",
       "        return chart.animate({\"config\": {\"title\": \"Size - change of geometry required\"}});\n",
       "    });\n",
       "</script>"
      ]
     },
     "metadata": {},
     "output_type": "display_data"
    },
    {
     "data": {
      "text/html": [
       "<script id=\"myVizzu_2b6334b\">\n",
       "    chart_8949419 = chart_8949419.then(chart => {\n",
       "        let script = document.getElementById(\"myVizzu_2b6334b\");\n",
       "        if (myVizzu_8949419.parentNode && myVizzu_8949419.parentNode.parentNode) {\n",
       "            let display = myVizzu_8949419.parentNode.parentNode.style.display;\n",
       "            myVizzu_8949419.parentNode.parentNode.style.display = \"none\";\n",
       "            script.parentNode.parentNode.style.display = display;\n",
       "        }\n",
       "        script.parentNode.insertBefore(myVizzu_8949419, script);\n",
       "        return chart.animate({\"config\": {\"channels\": {\"size\": {\"set\": \"Popularity\"}}, \"geometry\": \"circle\"}});\n",
       "    });\n",
       "</script>"
      ]
     },
     "metadata": {},
     "output_type": "display_data"
    }
   ],
   "source": [
    "chart.animate(snapshot3)\n",
    "\n",
    "chart.animate(Config({\"title\": \"Size - change of geometry required\"}))\n",
    "\n",
    "chart.animate(Config({\n",
    "    \"channels\": {\n",
    "        \"size\": {\n",
    "            \"set\": \"Popularity\"\n",
    "        }\n",
    "    },\n",
    "    \"geometry\": \"circle\"\n",
    "}))"
   ]
  }
 ],
 "metadata": {
  "kernelspec": {
   "display_name": "Python 3 (ipykernel)",
   "language": "python",
   "name": "python3"
  },
  "language_info": {
   "codemirror_mode": {
    "name": "ipython",
    "version": 3
   },
   "file_extension": ".py",
   "mimetype": "text/x-python",
   "name": "python",
   "nbconvert_exporter": "python",
   "pygments_lexer": "ipython3",
   "version": "3.8.10"
  }
 },
 "nbformat": 4,
 "nbformat_minor": 5
}
