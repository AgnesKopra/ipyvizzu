{
 "cells": [
  {
   "cell_type": "markdown",
   "id": "22efdcb5",
   "metadata": {},
   "source": [
    "## Channels & legend\n",
    "\n",
    "Besides the x-axis and the y-axis, there are five more channels in Vizzu you can use to visualize your data. Similarly to the axes you can put any number of dimensions and/or one measure to a channel. In the following example the four most commonly used channels are shown. The fifth, noop channel is introduced later in the Without coordinates & noop channel chapter.\n",
    "\n",
    "Data on the label channel will be written on the markers on the chart. Vizzu automatically determines the best way to position these labels, but you can set them differently with the style object introduced in the Color palette & fonts chapter."
   ]
  },
  {
   "cell_type": "code",
   "execution_count": 1,
   "id": "3a2e88db",
   "metadata": {},
   "outputs": [
    {
     "data": {
      "text/html": [
       "<script id=\"myVizzu_99e031e\">\n",
       "        document.getElementById(\"myVizzu_99e031e\").parentNode.style.padding = \"0px\";\n",
       "        </script>\n",
       "<div id=\"myVizzu_f45c4fd\" style=\"width:800px; height:480px;\"/>\n",
       "        <script>\n",
       "        let myVizzu_f45c4fd = document.getElementById(\"myVizzu_f45c4fd\")\n",
       "        let chart_f45c4fd = import(\"https://cdn.jsdelivr.net/npm/vizzu@~0.4.0/dist/vizzu.min.js\").then(Vizzu => new Vizzu.default(\"myVizzu_f45c4fd\").initializing);\n",
       "        </script>"
      ]
     },
     "metadata": {},
     "output_type": "display_data"
    },
    {
     "data": {
      "text/html": [
       "<script id=\"myVizzu_67ec46f\">\n",
       "        document.getElementById(\"myVizzu_67ec46f\").parentNode.style.padding = \"0px\";\n",
       "        </script>\n",
       "<div id=\"myVizzu_5037e43\"/>\n",
       "        <script>\n",
       "        \n",
       "        chart_f45c4fd = chart_f45c4fd.then(chart => {\n",
       "            document.getElementById(\"myVizzu_5037e43\").appendChild(myVizzu_f45c4fd);\n",
       "            return chart.animate({\"data\": {\"dimensions\": [{\"name\": \"Genres\", \"values\": [\"Pop\", \"Rock\", \"Jazz\", \"Metal\"]}, {\"name\": \"Types\", \"values\": [\"Hard\", \"Smooth\", \"Experimental\"]}], \"measures\": [{\"name\": \"Popularity\", \"values\": [[114, 96, 78, 52], [56, 36, 174, 121], [127, 83, 94, 58]]}]}})\n",
       "        });\n",
       "        </script>"
      ]
     },
     "metadata": {},
     "output_type": "display_data"
    },
    {
     "data": {
      "text/html": [
       "<script id=\"myVizzu_900508a\">\n",
       "        document.getElementById(\"myVizzu_900508a\").parentNode.style.padding = \"0px\";\n",
       "        </script>\n",
       "<div id=\"myVizzu_e2713e5\"/>\n",
       "        <script>\n",
       "        \n",
       "        chart_f45c4fd = chart_f45c4fd.then(chart => {\n",
       "            document.getElementById(\"myVizzu_e2713e5\").appendChild(myVizzu_f45c4fd);\n",
       "            return chart.animate({\"config\": {\"channels\": {\"y\": {\"set\": \"Popularity\"}, \"x\": {\"set\": \"Genres\"}}, \"title\": \"Label\"}})\n",
       "        });\n",
       "        </script>"
      ]
     },
     "metadata": {},
     "output_type": "display_data"
    },
    {
     "data": {
      "text/html": [
       "<script id=\"myVizzu_b13d832\">\n",
       "        document.getElementById(\"myVizzu_b13d832\").parentNode.style.padding = \"0px\";\n",
       "        </script>\n",
       "<div id=\"myVizzu_3cad499\"/>\n",
       "        <script>\n",
       "        \n",
       "        chart_f45c4fd = chart_f45c4fd.then(chart => {\n",
       "            document.getElementById(\"myVizzu_3cad499\").appendChild(myVizzu_f45c4fd);\n",
       "            return chart.animate({\"config\": {\"channels\": {\"label\": {\"attach\": \"Popularity\"}}}})\n",
       "        });\n",
       "        </script>"
      ]
     },
     "metadata": {},
     "output_type": "display_data"
    },
    {
     "data": {
      "text/html": [
       "<script id=\"myVizzu_b952f2e\">\n",
       "        document.getElementById(\"myVizzu_b952f2e\").parentNode.style.padding = \"0px\";\n",
       "        </script>\n",
       "<script>\n",
       "        let snapshot_60deffc;\n",
       "        chart_f45c4fd = chart_f45c4fd.then(chart => {\n",
       "            snapshot_60deffc = chart.store();\n",
       "            return chart;\n",
       "        });\n",
       "        </script>"
      ]
     },
     "metadata": {},
     "output_type": "display_data"
    }
   ],
   "source": [
    "from ipyvizzu import Chart, Data, Config\n",
    "\n",
    "chart = Chart()\n",
    "\n",
    "data = Data.from_json(\"../data/music_example_data.json\")\n",
    "\n",
    "chart.animate(data)\n",
    "\n",
    "chart.animate(Config({\n",
    "    \"channels\": {\n",
    "        \"y\": {\n",
    "            \"set\": \"Popularity\"\n",
    "        }, \n",
    "        \"x\": {\n",
    "            \"set\": \"Genres\"\n",
    "        }\n",
    "    }, \n",
    "    \"title\": \"Label\"\n",
    "}))\n",
    "\n",
    "chart.animate(Config({\n",
    "    \"channels\": {\n",
    "        \"label\": {\n",
    "            \"attach\": \"Popularity\"\n",
    "        }\n",
    "    }\n",
    "}))\n",
    "\n",
    "snapshot1 = chart.store()"
   ]
  },
  {
   "cell_type": "markdown",
   "id": "077a2b92",
   "metadata": {},
   "source": [
    "The lightness channel sets the lightness of the markers. In this case the same measure (Popularity) is added to it that is on the y-axis, meaning that columns’ height and lightness represent the same values. The legend for the lightness channel is turned on using the legend property.\n",
    "\n",
    "Note: This is an example when we explicitly instruct Vizzu to show the legend. By default Vizzu automatically shows/hides the legend when it's necessary. You can also turn it off with the legend : null command or set back to automatic mode with legend : 'auto'."
   ]
  },
  {
   "cell_type": "code",
   "execution_count": 2,
   "id": "2b42bdfd",
   "metadata": {},
   "outputs": [
    {
     "data": {
      "text/html": [
       "<script id=\"myVizzu_2ff2edb\">\n",
       "        document.getElementById(\"myVizzu_2ff2edb\").parentNode.style.padding = \"0px\";\n",
       "        </script>\n",
       "<div id=\"myVizzu_a242f78\"/>\n",
       "        <script>\n",
       "        \n",
       "        chart_f45c4fd = chart_f45c4fd.then(chart => {\n",
       "            document.getElementById(\"myVizzu_a242f78\").appendChild(myVizzu_f45c4fd);\n",
       "            return chart.animate(snapshot_60deffc)\n",
       "        });\n",
       "        </script>"
      ]
     },
     "metadata": {},
     "output_type": "display_data"
    },
    {
     "data": {
      "text/html": [
       "<script id=\"myVizzu_5ec343d\">\n",
       "        document.getElementById(\"myVizzu_5ec343d\").parentNode.style.padding = \"0px\";\n",
       "        </script>\n",
       "<div id=\"myVizzu_c72cbe3\"/>\n",
       "        <script>\n",
       "        \n",
       "        chart_f45c4fd = chart_f45c4fd.then(chart => {\n",
       "            document.getElementById(\"myVizzu_c72cbe3\").appendChild(myVizzu_f45c4fd);\n",
       "            return chart.animate({\"config\": {\"title\": \"Lightness - legend on\"}})\n",
       "        });\n",
       "        </script>"
      ]
     },
     "metadata": {},
     "output_type": "display_data"
    },
    {
     "data": {
      "text/html": [
       "<script id=\"myVizzu_04b06c2\">\n",
       "        document.getElementById(\"myVizzu_04b06c2\").parentNode.style.padding = \"0px\";\n",
       "        </script>\n",
       "<div id=\"myVizzu_c512ad2\"/>\n",
       "        <script>\n",
       "        \n",
       "        chart_f45c4fd = chart_f45c4fd.then(chart => {\n",
       "            document.getElementById(\"myVizzu_c512ad2\").appendChild(myVizzu_f45c4fd);\n",
       "            return chart.animate({\"config\": {\"channels\": {\"lightness\": {\"attach\": \"Popularity\"}}, \"legend\": \"lightness\"}})\n",
       "        });\n",
       "        </script>"
      ]
     },
     "metadata": {},
     "output_type": "display_data"
    },
    {
     "data": {
      "text/html": [
       "<script id=\"myVizzu_cb83236\">\n",
       "        document.getElementById(\"myVizzu_cb83236\").parentNode.style.padding = \"0px\";\n",
       "        </script>\n",
       "<script>\n",
       "        let snapshot_7aab17b;\n",
       "        chart_f45c4fd = chart_f45c4fd.then(chart => {\n",
       "            snapshot_7aab17b = chart.store();\n",
       "            return chart;\n",
       "        });\n",
       "        </script>"
      ]
     },
     "metadata": {},
     "output_type": "display_data"
    }
   ],
   "source": [
    "chart.animate(snapshot1)\n",
    "\n",
    "chart.animate(Config({\"title\": \"Lightness - legend on\"}))\n",
    "\n",
    "chart.animate(Config({\n",
    "    \"channels\": {\n",
    "        \"lightness\": {\n",
    "            \"attach\": \"Popularity\"\n",
    "        }\n",
    "    },\n",
    "    \"legend\": \"lightness\"\n",
    "}))\n",
    "\n",
    "snapshot2 = chart.store()"
   ]
  },
  {
   "cell_type": "markdown",
   "id": "33b46377",
   "metadata": {},
   "source": [
    "The color channel sets the color of the markers. The same dimension (Genres) is put on it that is on the x-axis resulting in each bar having a different color. If a measure is put on the color channel, a color range will be used.\n",
    "\n",
    "Note: The value on the lightness channel is removed in this step as it doesn’t make sense to use it together with the color channel in this case."
   ]
  },
  {
   "cell_type": "code",
   "execution_count": 3,
   "id": "1b4481a7",
   "metadata": {},
   "outputs": [
    {
     "data": {
      "text/html": [
       "<script id=\"myVizzu_1c1996f\">\n",
       "        document.getElementById(\"myVizzu_1c1996f\").parentNode.style.padding = \"0px\";\n",
       "        </script>\n",
       "<div id=\"myVizzu_1973416\"/>\n",
       "        <script>\n",
       "        \n",
       "        chart_f45c4fd = chart_f45c4fd.then(chart => {\n",
       "            document.getElementById(\"myVizzu_1973416\").appendChild(myVizzu_f45c4fd);\n",
       "            return chart.animate(snapshot_7aab17b)\n",
       "        });\n",
       "        </script>"
      ]
     },
     "metadata": {},
     "output_type": "display_data"
    },
    {
     "data": {
      "text/html": [
       "<script id=\"myVizzu_c5a59ef\">\n",
       "        document.getElementById(\"myVizzu_c5a59ef\").parentNode.style.padding = \"0px\";\n",
       "        </script>\n",
       "<div id=\"myVizzu_01eb81b\"/>\n",
       "        <script>\n",
       "        \n",
       "        chart_f45c4fd = chart_f45c4fd.then(chart => {\n",
       "            document.getElementById(\"myVizzu_01eb81b\").appendChild(myVizzu_f45c4fd);\n",
       "            return chart.animate({\"config\": {\"title\": \"Color\"}})\n",
       "        });\n",
       "        </script>"
      ]
     },
     "metadata": {},
     "output_type": "display_data"
    },
    {
     "data": {
      "text/html": [
       "<script id=\"myVizzu_f68dab2\">\n",
       "        document.getElementById(\"myVizzu_f68dab2\").parentNode.style.padding = \"0px\";\n",
       "        </script>\n",
       "<div id=\"myVizzu_ce9b8a5\"/>\n",
       "        <script>\n",
       "        \n",
       "        chart_f45c4fd = chart_f45c4fd.then(chart => {\n",
       "            document.getElementById(\"myVizzu_ce9b8a5\").appendChild(myVizzu_f45c4fd);\n",
       "            return chart.animate({\"config\": {\"channels\": {\"color\": {\"attach\": \"Genres\"}}, \"legend\": \"color\"}})\n",
       "        });\n",
       "        </script>"
      ]
     },
     "metadata": {},
     "output_type": "display_data"
    },
    {
     "data": {
      "text/html": [
       "<script id=\"myVizzu_6d21a1e\">\n",
       "        document.getElementById(\"myVizzu_6d21a1e\").parentNode.style.padding = \"0px\";\n",
       "        </script>\n",
       "<script>\n",
       "        let snapshot_2eac750;\n",
       "        chart_f45c4fd = chart_f45c4fd.then(chart => {\n",
       "            snapshot_2eac750 = chart.store();\n",
       "            return chart;\n",
       "        });\n",
       "        </script>"
      ]
     },
     "metadata": {},
     "output_type": "display_data"
    }
   ],
   "source": [
    "chart.animate(snapshot2)\n",
    "\n",
    "chart.animate(Config({\"title\": \"Color\"}))\n",
    "\n",
    "chart.animate(Config({\n",
    "    \"channels\": {\n",
    "        \"color\": {\n",
    "            \"attach\": \"Genres\"\n",
    "        }\n",
    "    },\n",
    "    \"legend\": \"color\"\n",
    "}))\n",
    "\n",
    "snapshot3 = chart.store()"
   ]
  },
  {
   "cell_type": "markdown",
   "id": "b8d322e5",
   "metadata": {},
   "source": [
    "The size channel sets the size of the markers if the geometry is circle - where size sets the radius of the circles - or line - where size determines line width. It is ignored when using rectangle or area geometry. This is why we change the geometry to circle in the example."
   ]
  },
  {
   "cell_type": "code",
   "execution_count": 4,
   "id": "4d951e6b",
   "metadata": {},
   "outputs": [
    {
     "data": {
      "text/html": [
       "<script id=\"myVizzu_998befc\">\n",
       "        document.getElementById(\"myVizzu_998befc\").parentNode.style.padding = \"0px\";\n",
       "        </script>\n",
       "<div id=\"myVizzu_917f450\"/>\n",
       "        <script>\n",
       "        \n",
       "        chart_f45c4fd = chart_f45c4fd.then(chart => {\n",
       "            document.getElementById(\"myVizzu_917f450\").appendChild(myVizzu_f45c4fd);\n",
       "            return chart.animate(snapshot_2eac750)\n",
       "        });\n",
       "        </script>"
      ]
     },
     "metadata": {},
     "output_type": "display_data"
    },
    {
     "data": {
      "text/html": [
       "<script id=\"myVizzu_10b10d4\">\n",
       "        document.getElementById(\"myVizzu_10b10d4\").parentNode.style.padding = \"0px\";\n",
       "        </script>\n",
       "<div id=\"myVizzu_b1198a5\"/>\n",
       "        <script>\n",
       "        \n",
       "        chart_f45c4fd = chart_f45c4fd.then(chart => {\n",
       "            document.getElementById(\"myVizzu_b1198a5\").appendChild(myVizzu_f45c4fd);\n",
       "            return chart.animate({\"config\": {\"title\": \"Size - change of geometry required\"}})\n",
       "        });\n",
       "        </script>"
      ]
     },
     "metadata": {},
     "output_type": "display_data"
    },
    {
     "data": {
      "text/html": [
       "<script id=\"myVizzu_cbfdc1e\">\n",
       "        document.getElementById(\"myVizzu_cbfdc1e\").parentNode.style.padding = \"0px\";\n",
       "        </script>\n",
       "<div id=\"myVizzu_5c568b6\"/>\n",
       "        <script>\n",
       "        \n",
       "        chart_f45c4fd = chart_f45c4fd.then(chart => {\n",
       "            document.getElementById(\"myVizzu_5c568b6\").appendChild(myVizzu_f45c4fd);\n",
       "            return chart.animate({\"config\": {\"channels\": {\"size\": {\"set\": \"Popularity\"}}, \"geometry\": \"circle\"}})\n",
       "        });\n",
       "        </script>"
      ]
     },
     "metadata": {},
     "output_type": "display_data"
    }
   ],
   "source": [
    "chart.animate(snapshot3)\n",
    "\n",
    "chart.animate(Config({\"title\": \"Size - change of geometry required\"}))\n",
    "\n",
    "chart.animate(Config({\n",
    "    \"channels\": {\n",
    "        \"size\": {\n",
    "            \"set\": \"Popularity\"\n",
    "        }\n",
    "    },\n",
    "    \"geometry\": \"circle\"\n",
    "}))"
   ]
  }
 ],
 "metadata": {
  "kernelspec": {
   "display_name": "Python 3 (ipykernel)",
   "language": "python",
   "name": "python3"
  },
  "language_info": {
   "codemirror_mode": {
    "name": "ipython",
    "version": 3
   },
   "file_extension": ".py",
   "mimetype": "text/x-python",
   "name": "python",
   "nbconvert_exporter": "python",
   "pygments_lexer": "ipython3",
   "version": "3.8.10"
  }
 },
 "nbformat": 4,
 "nbformat_minor": 5
}
