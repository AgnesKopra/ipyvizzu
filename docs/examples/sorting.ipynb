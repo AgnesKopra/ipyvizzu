{
 "cells": [
  {
   "cell_type": "markdown",
   "id": "072921f4",
   "metadata": {},
   "source": [
    "## Sorting\n",
    "\n",
    "Vizzu provides multiple options to sort data. By default, the data is sorted by the order it is added to Vizzu. This is why we suggest to add temporal data such as dates in chronological order - from oldest to newest.\n",
    "\n",
    "You can also sort the elements by value, which will provide you with an ascending order."
   ]
  },
  {
   "cell_type": "code",
   "execution_count": 1,
   "id": "200f66d2",
   "metadata": {},
   "outputs": [
    {
     "data": {
      "text/html": [
       "<script id=\"myVizzu_38dae9e\">\n",
       "    document.getElementById(\"myVizzu_38dae9e\").parentNode.style.padding = \"0px\";\n",
       "</script>\n",
       "<div id=\"myVizzu_a6fd4c2\" style=\"width:800px; height:480px;\"/>\n",
       "<script>\n",
       "    let myVizzu_a6fd4c2 = document.getElementById(\"myVizzu_a6fd4c2\")\n",
       "    let chart_a6fd4c2 = import(\"https://cdn.jsdelivr.net/npm/vizzu@~0.4.0/dist/vizzu.min.js\").then(Vizzu => new Vizzu.default(\"myVizzu_a6fd4c2\").initializing);\n",
       "</script>"
      ]
     },
     "metadata": {},
     "output_type": "display_data"
    },
    {
     "data": {
      "text/html": [
       "<script id=\"myVizzu_25ba767\">\n",
       "    document.getElementById(\"myVizzu_25ba767\").parentNode.style.padding = \"0px\";\n",
       "</script>\n",
       "<div id=\"myVizzu_4cb9c4d\"/>\n",
       "<script>\n",
       "    chart_a6fd4c2 = chart_a6fd4c2.then(chart => {\n",
       "        document.getElementById(\"myVizzu_4cb9c4d\").appendChild(myVizzu_a6fd4c2);\n",
       "        return chart.animate({\"data\": {\"dimensions\": [{\"name\": \"Genres\", \"values\": [\"Pop\", \"Rock\", \"Jazz\", \"Metal\"]}, {\"name\": \"Types\", \"values\": [\"Hard\", \"Smooth\", \"Experimental\"]}], \"measures\": [{\"name\": \"Popularity\", \"values\": [[114, 96, 78, 52], [56, 36, 174, 121], [127, 83, 94, 58]]}]}})\n",
       "    });\n",
       "</script>"
      ]
     },
     "metadata": {},
     "output_type": "display_data"
    },
    {
     "data": {
      "text/html": [
       "<script id=\"myVizzu_d66d2ba\">\n",
       "    document.getElementById(\"myVizzu_d66d2ba\").parentNode.style.padding = \"0px\";\n",
       "</script>\n",
       "<div id=\"myVizzu_7fde23a\"/>\n",
       "<script>\n",
       "    chart_a6fd4c2 = chart_a6fd4c2.then(chart => {\n",
       "        document.getElementById(\"myVizzu_7fde23a\").appendChild(myVizzu_a6fd4c2);\n",
       "        return chart.animate({\"config\": {\"channels\": {\"y\": {\"set\": [\"Popularity\", \"Types\"]}, \"x\": {\"set\": \"Genres\"}, \"label\": {\"attach\": \"Popularity\"}}, \"color\": {\"attach\": \"Types\"}, \"title\": \"Switch to ascending order...\"}})\n",
       "    });\n",
       "</script>"
      ]
     },
     "metadata": {},
     "output_type": "display_data"
    },
    {
     "data": {
      "text/html": [
       "<script id=\"myVizzu_a334dc3\">\n",
       "    document.getElementById(\"myVizzu_a334dc3\").parentNode.style.padding = \"0px\";\n",
       "</script>\n",
       "<div id=\"myVizzu_b79cc9a\"/>\n",
       "<script>\n",
       "    chart_a6fd4c2 = chart_a6fd4c2.then(chart => {\n",
       "        document.getElementById(\"myVizzu_b79cc9a\").appendChild(myVizzu_a6fd4c2);\n",
       "        return chart.animate({\"config\": {\"sort\": \"byValue\"}})\n",
       "    });\n",
       "</script>"
      ]
     },
     "metadata": {},
     "output_type": "display_data"
    },
    {
     "data": {
      "text/html": [
       "<script id=\"myVizzu_d281c81\">\n",
       "    document.getElementById(\"myVizzu_d281c81\").parentNode.style.padding = \"0px\";\n",
       "</script>\n",
       "<script>\n",
       "    let snapshot_15fed75;\n",
       "    chart_a6fd4c2 = chart_a6fd4c2.then(chart => {\n",
       "        snapshot_15fed75 = chart.store();\n",
       "        return chart;\n",
       "    });\n",
       "</script>"
      ]
     },
     "metadata": {},
     "output_type": "display_data"
    }
   ],
   "source": [
    "from ipyvizzu import Chart, Data, Config\n",
    "\n",
    "chart = Chart()\n",
    "\n",
    "data = Data.from_json(\"../data/music_example_data.json\")\n",
    "\n",
    "chart.animate(data)\n",
    "\n",
    "chart.animate(Config({\n",
    "    \"channels\": {\n",
    "        \"y\": {\n",
    "            \"set\": [\"Popularity\", \"Types\"]\n",
    "        }, \n",
    "        \"x\": {\n",
    "            \"set\": \"Genres\"\n",
    "        },\n",
    "        \"label\": {\n",
    "            \"attach\": \"Popularity\"\n",
    "        }\n",
    "    },\n",
    "    \"color\": {\n",
    "        \"attach\": \"Types\"\n",
    "    },\n",
    "    \"title\": \"Switch to ascending order...\"\n",
    "}))\n",
    "\n",
    "chart.animate(Config({\n",
    "    \"sort\": \"byValue\",\n",
    "}))\n",
    "\n",
    "snapshot1 = chart.store()"
   ]
  },
  {
   "cell_type": "markdown",
   "id": "c6736370",
   "metadata": {},
   "source": [
    "If you want descending order instead, you have to set the reverse parameter to true. When used without setting the sorting to byValue, the elements will be in the opposite order than they are in the data set added to Vizzu."
   ]
  },
  {
   "cell_type": "code",
   "execution_count": 2,
   "id": "acf4a7d9",
   "metadata": {},
   "outputs": [
    {
     "data": {
      "text/html": [
       "<script id=\"myVizzu_6fe1d2a\">\n",
       "    document.getElementById(\"myVizzu_6fe1d2a\").parentNode.style.padding = \"0px\";\n",
       "</script>\n",
       "<div id=\"myVizzu_5e32ade\"/>\n",
       "<script>\n",
       "    chart_a6fd4c2 = chart_a6fd4c2.then(chart => {\n",
       "        document.getElementById(\"myVizzu_5e32ade\").appendChild(myVizzu_a6fd4c2);\n",
       "        return chart.animate(snapshot_15fed75)\n",
       "    });\n",
       "</script>"
      ]
     },
     "metadata": {},
     "output_type": "display_data"
    },
    {
     "data": {
      "text/html": [
       "<script id=\"myVizzu_ae59e07\">\n",
       "    document.getElementById(\"myVizzu_ae59e07\").parentNode.style.padding = \"0px\";\n",
       "</script>\n",
       "<div id=\"myVizzu_5d195af\"/>\n",
       "<script>\n",
       "    chart_a6fd4c2 = chart_a6fd4c2.then(chart => {\n",
       "        document.getElementById(\"myVizzu_5d195af\").appendChild(myVizzu_a6fd4c2);\n",
       "        return chart.animate({\"config\": {\"title\": \"...or descending order.\"}})\n",
       "    });\n",
       "</script>"
      ]
     },
     "metadata": {},
     "output_type": "display_data"
    },
    {
     "data": {
      "text/html": [
       "<script id=\"myVizzu_6bd320a\">\n",
       "    document.getElementById(\"myVizzu_6bd320a\").parentNode.style.padding = \"0px\";\n",
       "</script>\n",
       "<div id=\"myVizzu_91761f3\"/>\n",
       "<script>\n",
       "    chart_a6fd4c2 = chart_a6fd4c2.then(chart => {\n",
       "        document.getElementById(\"myVizzu_91761f3\").appendChild(myVizzu_a6fd4c2);\n",
       "        return chart.animate({\"config\": {\"reverse\": true}})\n",
       "    });\n",
       "</script>"
      ]
     },
     "metadata": {},
     "output_type": "display_data"
    },
    {
     "data": {
      "text/html": [
       "<script id=\"myVizzu_576614a\">\n",
       "    document.getElementById(\"myVizzu_576614a\").parentNode.style.padding = \"0px\";\n",
       "</script>\n",
       "<script>\n",
       "    let snapshot_bc73053;\n",
       "    chart_a6fd4c2 = chart_a6fd4c2.then(chart => {\n",
       "        snapshot_bc73053 = chart.store();\n",
       "        return chart;\n",
       "    });\n",
       "</script>"
      ]
     },
     "metadata": {},
     "output_type": "display_data"
    }
   ],
   "source": [
    "chart.animate(snapshot1)\n",
    "\n",
    "chart.animate(Config({\"title\": \"...or descending order.\"}))\n",
    "\n",
    "chart.animate(Config({\n",
    "    \"reverse\": True,\n",
    "}))\n",
    "\n",
    "snapshot2 = chart.store()"
   ]
  },
  {
   "cell_type": "markdown",
   "id": "527bc690",
   "metadata": {},
   "source": [
    "This is how to switch back to the default sorting."
   ]
  },
  {
   "cell_type": "code",
   "execution_count": 3,
   "id": "a18b8749",
   "metadata": {},
   "outputs": [
    {
     "data": {
      "text/html": [
       "<script id=\"myVizzu_bf2caca\">\n",
       "    document.getElementById(\"myVizzu_bf2caca\").parentNode.style.padding = \"0px\";\n",
       "</script>\n",
       "<div id=\"myVizzu_4348435\"/>\n",
       "<script>\n",
       "    chart_a6fd4c2 = chart_a6fd4c2.then(chart => {\n",
       "        document.getElementById(\"myVizzu_4348435\").appendChild(myVizzu_a6fd4c2);\n",
       "        return chart.animate(snapshot_bc73053)\n",
       "    });\n",
       "</script>"
      ]
     },
     "metadata": {},
     "output_type": "display_data"
    },
    {
     "data": {
      "text/html": [
       "<script id=\"myVizzu_32cc7c4\">\n",
       "    document.getElementById(\"myVizzu_32cc7c4\").parentNode.style.padding = \"0px\";\n",
       "</script>\n",
       "<div id=\"myVizzu_85361ac\"/>\n",
       "<script>\n",
       "    chart_a6fd4c2 = chart_a6fd4c2.then(chart => {\n",
       "        document.getElementById(\"myVizzu_85361ac\").appendChild(myVizzu_a6fd4c2);\n",
       "        return chart.animate({\"config\": {\"title\": \"Let's get back to where we were\"}})\n",
       "    });\n",
       "</script>"
      ]
     },
     "metadata": {},
     "output_type": "display_data"
    },
    {
     "data": {
      "text/html": [
       "<script id=\"myVizzu_4ad64e7\">\n",
       "    document.getElementById(\"myVizzu_4ad64e7\").parentNode.style.padding = \"0px\";\n",
       "</script>\n",
       "<div id=\"myVizzu_b09d5f5\"/>\n",
       "<script>\n",
       "    chart_a6fd4c2 = chart_a6fd4c2.then(chart => {\n",
       "        document.getElementById(\"myVizzu_b09d5f5\").appendChild(myVizzu_a6fd4c2);\n",
       "        return chart.animate({\"config\": {\"sort\": \"none\", \"reverse\": false}})\n",
       "    });\n",
       "</script>"
      ]
     },
     "metadata": {},
     "output_type": "display_data"
    },
    {
     "data": {
      "text/html": [
       "<script id=\"myVizzu_d071210\">\n",
       "    document.getElementById(\"myVizzu_d071210\").parentNode.style.padding = \"0px\";\n",
       "</script>\n",
       "<script>\n",
       "    let snapshot_9604ad2;\n",
       "    chart_a6fd4c2 = chart_a6fd4c2.then(chart => {\n",
       "        snapshot_9604ad2 = chart.store();\n",
       "        return chart;\n",
       "    });\n",
       "</script>"
      ]
     },
     "metadata": {},
     "output_type": "display_data"
    }
   ],
   "source": [
    "chart.animate(snapshot2)\n",
    "\n",
    "chart.animate(Config({\"title\": \"Let's get back to where we were\"}))\n",
    "\n",
    "chart.animate(Config({\n",
    "    \"sort\": \"none\",\n",
    "    \"reverse\": False,\n",
    "}))\n",
    "\n",
    "snapshot3 = chart.store()"
   ]
  },
  {
   "cell_type": "markdown",
   "id": "eae56a59",
   "metadata": {},
   "source": [
    "When you have more than one dimension on a channel, their order determines how the elements are grouped."
   ]
  },
  {
   "cell_type": "code",
   "execution_count": 4,
   "id": "8fdbb27b",
   "metadata": {},
   "outputs": [
    {
     "data": {
      "text/html": [
       "<script id=\"myVizzu_d79445e\">\n",
       "    document.getElementById(\"myVizzu_d79445e\").parentNode.style.padding = \"0px\";\n",
       "</script>\n",
       "<div id=\"myVizzu_b3b8f44\"/>\n",
       "<script>\n",
       "    chart_a6fd4c2 = chart_a6fd4c2.then(chart => {\n",
       "        document.getElementById(\"myVizzu_b3b8f44\").appendChild(myVizzu_a6fd4c2);\n",
       "        return chart.animate(snapshot_9604ad2)\n",
       "    });\n",
       "</script>"
      ]
     },
     "metadata": {},
     "output_type": "display_data"
    },
    {
     "data": {
      "text/html": [
       "<script id=\"myVizzu_adeb72f\">\n",
       "    document.getElementById(\"myVizzu_adeb72f\").parentNode.style.padding = \"0px\";\n",
       "</script>\n",
       "<div id=\"myVizzu_3c79622\"/>\n",
       "<script>\n",
       "    chart_a6fd4c2 = chart_a6fd4c2.then(chart => {\n",
       "        document.getElementById(\"myVizzu_3c79622\").appendChild(myVizzu_a6fd4c2);\n",
       "        return chart.animate({\"config\": {\"title\": \"With two discretes on one axis...\"}})\n",
       "    });\n",
       "</script>"
      ]
     },
     "metadata": {},
     "output_type": "display_data"
    },
    {
     "data": {
      "text/html": [
       "<script id=\"myVizzu_4346b3d\">\n",
       "    document.getElementById(\"myVizzu_4346b3d\").parentNode.style.padding = \"0px\";\n",
       "</script>\n",
       "<div id=\"myVizzu_3984fba\"/>\n",
       "<script>\n",
       "    chart_a6fd4c2 = chart_a6fd4c2.then(chart => {\n",
       "        document.getElementById(\"myVizzu_3984fba\").appendChild(myVizzu_a6fd4c2);\n",
       "        return chart.animate({\"config\": {\"channels\": {\"y\": {\"detach\": \"Types\"}, \"x\": {\"set\": [\"Genres\", \"Types\"]}}}})\n",
       "    });\n",
       "</script>"
      ]
     },
     "metadata": {},
     "output_type": "display_data"
    },
    {
     "data": {
      "text/html": [
       "<script id=\"myVizzu_470b253\">\n",
       "    document.getElementById(\"myVizzu_470b253\").parentNode.style.padding = \"0px\";\n",
       "</script>\n",
       "<script>\n",
       "    let snapshot_9b4e766;\n",
       "    chart_a6fd4c2 = chart_a6fd4c2.then(chart => {\n",
       "        snapshot_9b4e766 = chart.store();\n",
       "        return chart;\n",
       "    });\n",
       "</script>"
      ]
     },
     "metadata": {},
     "output_type": "display_data"
    }
   ],
   "source": [
    "chart.animate(snapshot3)\n",
    "\n",
    "chart.animate(Config({\"title\": \"With two discretes on one axis...\"}))\n",
    "\n",
    "chart.animate(Config({\n",
    "    \"channels\": {\n",
    "        \"y\": {\n",
    "            \"detach\": \"Types\"\n",
    "        },\n",
    "        \"x\": {\n",
    "            \"set\": [\"Genres\", \"Types\"]\n",
    "        },\n",
    "    }\n",
    "}))\n",
    "\n",
    "snapshot4 = chart.store()"
   ]
  },
  {
   "cell_type": "markdown",
   "id": "173771d8",
   "metadata": {},
   "source": [
    "When switching the order of dimensions on the x-axis Vizzu will rearrange the elements according to this new logic."
   ]
  },
  {
   "cell_type": "code",
   "execution_count": 5,
   "id": "02100d01",
   "metadata": {},
   "outputs": [
    {
     "data": {
      "text/html": [
       "<script id=\"myVizzu_b05da22\">\n",
       "    document.getElementById(\"myVizzu_b05da22\").parentNode.style.padding = \"0px\";\n",
       "</script>\n",
       "<div id=\"myVizzu_c72bf86\"/>\n",
       "<script>\n",
       "    chart_a6fd4c2 = chart_a6fd4c2.then(chart => {\n",
       "        document.getElementById(\"myVizzu_c72bf86\").appendChild(myVizzu_a6fd4c2);\n",
       "        return chart.animate(snapshot_9b4e766)\n",
       "    });\n",
       "</script>"
      ]
     },
     "metadata": {},
     "output_type": "display_data"
    },
    {
     "data": {
      "text/html": [
       "<script id=\"myVizzu_610ad45\">\n",
       "    document.getElementById(\"myVizzu_610ad45\").parentNode.style.padding = \"0px\";\n",
       "</script>\n",
       "<div id=\"myVizzu_e07cd1a\"/>\n",
       "<script>\n",
       "    chart_a6fd4c2 = chart_a6fd4c2.then(chart => {\n",
       "        document.getElementById(\"myVizzu_e07cd1a\").appendChild(myVizzu_a6fd4c2);\n",
       "        return chart.animate({\"config\": {\"title\": \"...grouping is determined by their order.\"}})\n",
       "    });\n",
       "</script>"
      ]
     },
     "metadata": {},
     "output_type": "display_data"
    },
    {
     "data": {
      "text/html": [
       "<script id=\"myVizzu_fac6481\">\n",
       "    document.getElementById(\"myVizzu_fac6481\").parentNode.style.padding = \"0px\";\n",
       "</script>\n",
       "<div id=\"myVizzu_5ade08c\"/>\n",
       "<script>\n",
       "    chart_a6fd4c2 = chart_a6fd4c2.then(chart => {\n",
       "        document.getElementById(\"myVizzu_5ade08c\").appendChild(myVizzu_a6fd4c2);\n",
       "        return chart.animate({\"config\": {\"channels\": {\"x\": {\"set\": [\"Types\", \"Genres\"]}}}})\n",
       "    });\n",
       "</script>"
      ]
     },
     "metadata": {},
     "output_type": "display_data"
    }
   ],
   "source": [
    "chart.animate(snapshot4)\n",
    "\n",
    "chart.animate(Config({\"title\": \"...grouping is determined by their order.\"}))\n",
    "\n",
    "chart.animate(Config({\n",
    "    \"channels\": {\n",
    "        \"x\": {\n",
    "            \"set\": [\"Types\", \"Genres\"]\n",
    "        },\n",
    "    }\n",
    "}))"
   ]
  }
 ],
 "metadata": {
  "kernelspec": {
   "display_name": "Python 3 (ipykernel)",
   "language": "python",
   "name": "python3"
  },
  "language_info": {
   "codemirror_mode": {
    "name": "ipython",
    "version": 3
   },
   "file_extension": ".py",
   "mimetype": "text/x-python",
   "name": "python",
   "nbconvert_exporter": "python",
   "pygments_lexer": "ipython3",
   "version": "3.8.10"
  }
 },
 "nbformat": 4,
 "nbformat_minor": 5
}
