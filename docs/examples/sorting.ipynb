{
 "cells": [
  {
   "cell_type": "markdown",
   "id": "072921f4",
   "metadata": {},
   "source": [
    "## Sorting\n",
    "\n",
    "Vizzu provides multiple options to sort data. By default, the data is sorted by the order it is added to Vizzu. This is why we suggest to add temporal data such as dates in chronological order - from oldest to newest.\n",
    "\n",
    "You can also sort the elements by value, which will provide you with an ascending order."
   ]
  },
  {
   "cell_type": "code",
   "execution_count": 1,
   "id": "200f66d2",
   "metadata": {},
   "outputs": [
    {
     "data": {
      "text/html": [
       "\n",
       "<div id=\"myVizzu_140290295992080\" style=\"width:800px; height:480px;\" />\n",
       "<script type=\"module\">\n",
       "import Vizzu from 'https://cdn.jsdelivr.net/npm/vizzu@latest/dist/vizzu.min.js';\n",
       "\n",
       "let chart = new Vizzu('myVizzu_140290295992080');\n",
       "chart.initializing.then( chart => {\n",
       "\n",
       "chart.animate({\"data\": {\"dimensions\": [{\"name\": \"Genres\", \"values\": [\"Pop\", \"Rock\", \"Jazz\", \"Metal\"]}, {\"name\": \"Types\", \"values\": [\"Hard\", \"Smooth\", \"Experimental\"]}], \"measures\": [{\"name\": \"Popularity\", \"values\": [[114, 96, 78, 52], [56, 36, 174, 121], [127, 83, 94, 58]]}]}});\n",
       "chart.animate({\"config\": {\"channels\": {\"y\": {\"set\": [\"Popularity\", \"Types\"]}, \"x\": {\"set\": \"Genres\"}, \"label\": {\"attach\": \"Popularity\"}}, \"color\": {\"attach\": \"Types\"}, \"title\": \"Switch to ascending order...\"}});\n",
       "chart.animate({\"config\": {\"sort\": \"byValue\"}});\n",
       "} );\n",
       "</script>"
      ]
     },
     "metadata": {},
     "output_type": "display_data"
    }
   ],
   "source": [
    "from ipyvizzu import Chart, Config\n",
    "from data_examples import music_example_data\n",
    "\n",
    "chart = Chart()\n",
    "chart.animate(music_example_data)\n",
    "\n",
    "chart.animate(Config({\n",
    "    \"channels\": {\n",
    "        \"y\": {\n",
    "            \"set\": [\"Popularity\", \"Types\"]\n",
    "        }, \n",
    "        \"x\": {\n",
    "            \"set\": \"Genres\"\n",
    "        },\n",
    "        \"label\": {\n",
    "            \"attach\": \"Popularity\"\n",
    "        }\n",
    "    },\n",
    "    \"color\": {\n",
    "        \"attach\": \"Types\"\n",
    "    },\n",
    "    \"title\": \"Switch to ascending order...\"\n",
    "}))\n",
    "\n",
    "chart.animate(Config({\n",
    "    \"sort\": \"byValue\",\n",
    "}))\n",
    "\n",
    "chart.show()"
   ]
  },
  {
   "cell_type": "markdown",
   "id": "c6736370",
   "metadata": {},
   "source": [
    "If you want descending order instead, you have to set the reverse parameter to true. When used without setting the sorting to byValue, the elements will be in the opposite order than they are in the data set added to Vizzu."
   ]
  },
  {
   "cell_type": "code",
   "execution_count": 2,
   "id": "acf4a7d9",
   "metadata": {},
   "outputs": [
    {
     "data": {
      "text/html": [
       "\n",
       "<div id=\"myVizzu_140290296249024\" style=\"width:800px; height:480px;\" />\n",
       "<script type=\"module\">\n",
       "import Vizzu from 'https://cdn.jsdelivr.net/npm/vizzu@latest/dist/vizzu.min.js';\n",
       "\n",
       "let chart = new Vizzu('myVizzu_140290296249024');\n",
       "chart.initializing.then( chart => {\n",
       "\n",
       "chart.animate({\"data\": {\"dimensions\": [{\"name\": \"Genres\", \"values\": [\"Pop\", \"Rock\", \"Jazz\", \"Metal\"]}, {\"name\": \"Types\", \"values\": [\"Hard\", \"Smooth\", \"Experimental\"]}], \"measures\": [{\"name\": \"Popularity\", \"values\": [[114, 96, 78, 52], [56, 36, 174, 121], [127, 83, 94, 58]]}]}});\n",
       "chart.animate({\"config\": {\"channels\": {\"y\": {\"set\": [\"Popularity\", \"Types\"]}, \"x\": {\"set\": \"Genres\"}, \"label\": {\"attach\": \"Popularity\"}}, \"color\": {\"attach\": \"Types\"}, \"sort\": \"byValue\", \"title\": \"...or descending order.\"}});\n",
       "chart.animate({\"config\": {\"reverse\": true}});\n",
       "} );\n",
       "</script>"
      ]
     },
     "metadata": {},
     "output_type": "display_data"
    }
   ],
   "source": [
    "from ipyvizzu import Chart, Config\n",
    "from data_examples import music_example_data\n",
    "\n",
    "chart = Chart()\n",
    "chart.animate(music_example_data)\n",
    "\n",
    "chart.animate(Config({\n",
    "    \"channels\": {\n",
    "        \"y\": {\n",
    "            \"set\": [\"Popularity\", \"Types\"]\n",
    "        }, \n",
    "        \"x\": {\n",
    "            \"set\": \"Genres\"\n",
    "        },\n",
    "        \"label\": {\n",
    "            \"attach\": \"Popularity\"\n",
    "        }\n",
    "    },\n",
    "    \"color\": {\n",
    "        \"attach\": \"Types\"\n",
    "    },\n",
    "    \"sort\": \"byValue\",\n",
    "    \"title\": \"...or descending order.\"\n",
    "}))\n",
    "\n",
    "chart.animate(Config({\n",
    "    \"reverse\": True,\n",
    "}))\n",
    "\n",
    "chart.show()"
   ]
  },
  {
   "cell_type": "markdown",
   "id": "527bc690",
   "metadata": {},
   "source": [
    "This is how to switch back to the default sorting."
   ]
  },
  {
   "cell_type": "code",
   "execution_count": 3,
   "id": "a18b8749",
   "metadata": {},
   "outputs": [
    {
     "data": {
      "text/html": [
       "\n",
       "<div id=\"myVizzu_140290295989344\" style=\"width:800px; height:480px;\" />\n",
       "<script type=\"module\">\n",
       "import Vizzu from 'https://cdn.jsdelivr.net/npm/vizzu@latest/dist/vizzu.min.js';\n",
       "\n",
       "let chart = new Vizzu('myVizzu_140290295989344');\n",
       "chart.initializing.then( chart => {\n",
       "\n",
       "chart.animate({\"data\": {\"dimensions\": [{\"name\": \"Genres\", \"values\": [\"Pop\", \"Rock\", \"Jazz\", \"Metal\"]}, {\"name\": \"Types\", \"values\": [\"Hard\", \"Smooth\", \"Experimental\"]}], \"measures\": [{\"name\": \"Popularity\", \"values\": [[114, 96, 78, 52], [56, 36, 174, 121], [127, 83, 94, 58]]}]}});\n",
       "chart.animate({\"config\": {\"channels\": {\"y\": {\"set\": [\"Popularity\", \"Types\"]}, \"x\": {\"set\": \"Genres\"}, \"label\": {\"attach\": \"Popularity\"}}, \"color\": {\"attach\": \"Types\"}, \"reverse\": true, \"sort\": \"byValue\", \"title\": \"Let's get back to where we were\"}});\n",
       "chart.animate({\"config\": {\"sort\": \"none\", \"reverse\": false}});\n",
       "} );\n",
       "</script>"
      ]
     },
     "metadata": {},
     "output_type": "display_data"
    }
   ],
   "source": [
    "from ipyvizzu import Chart, Config\n",
    "from data_examples import music_example_data\n",
    "\n",
    "chart = Chart()\n",
    "chart.animate(music_example_data)\n",
    "\n",
    "chart.animate(Config({\n",
    "    \"channels\": {\n",
    "        \"y\": {\n",
    "            \"set\": [\"Popularity\", \"Types\"]\n",
    "        }, \n",
    "        \"x\": {\n",
    "            \"set\": \"Genres\"\n",
    "        },\n",
    "        \"label\": {\n",
    "            \"attach\": \"Popularity\"\n",
    "        }\n",
    "    },\n",
    "    \"color\": {\n",
    "        \"attach\": \"Types\"\n",
    "    },\n",
    "    \"reverse\": True,\n",
    "    \"sort\": \"byValue\",\n",
    "    \"title\": \"Let's get back to where we were\"\n",
    "}))\n",
    "\n",
    "chart.animate(Config({\n",
    "    \"sort\": \"none\",\n",
    "    \"reverse\": False,\n",
    "}))\n",
    "\n",
    "chart.show()"
   ]
  },
  {
   "cell_type": "markdown",
   "id": "eae56a59",
   "metadata": {},
   "source": [
    "When you have more than one dimension on a channel, their order determines how the elements are grouped."
   ]
  },
  {
   "cell_type": "code",
   "execution_count": 4,
   "id": "8fdbb27b",
   "metadata": {},
   "outputs": [
    {
     "data": {
      "text/html": [
       "\n",
       "<div id=\"myVizzu_140290296249120\" style=\"width:800px; height:480px;\" />\n",
       "<script type=\"module\">\n",
       "import Vizzu from 'https://cdn.jsdelivr.net/npm/vizzu@latest/dist/vizzu.min.js';\n",
       "\n",
       "let chart = new Vizzu('myVizzu_140290296249120');\n",
       "chart.initializing.then( chart => {\n",
       "\n",
       "chart.animate({\"data\": {\"dimensions\": [{\"name\": \"Genres\", \"values\": [\"Pop\", \"Rock\", \"Jazz\", \"Metal\"]}, {\"name\": \"Types\", \"values\": [\"Hard\", \"Smooth\", \"Experimental\"]}], \"measures\": [{\"name\": \"Popularity\", \"values\": [[114, 96, 78, 52], [56, 36, 174, 121], [127, 83, 94, 58]]}]}});\n",
       "chart.animate({\"config\": {\"channels\": {\"y\": {\"set\": [\"Popularity\", \"Types\"]}, \"x\": {\"set\": \"Genres\"}, \"label\": {\"attach\": \"Popularity\"}}, \"color\": {\"attach\": \"Types\"}, \"title\": \"With two discretes on one axis...\"}});\n",
       "chart.animate({\"config\": {\"channels\": {\"y\": {\"detach\": \"Types\"}, \"x\": {\"set\": [\"Genres\", \"Types\"]}}}});\n",
       "} );\n",
       "</script>"
      ]
     },
     "metadata": {},
     "output_type": "display_data"
    }
   ],
   "source": [
    "from ipyvizzu import Chart, Config\n",
    "from data_examples import music_example_data\n",
    "\n",
    "chart = Chart()\n",
    "chart.animate(music_example_data)\n",
    "\n",
    "chart.animate(Config({\n",
    "    \"channels\": {\n",
    "        \"y\": {\n",
    "            \"set\": [\"Popularity\", \"Types\"]\n",
    "        }, \n",
    "        \"x\": {\n",
    "            \"set\": \"Genres\"\n",
    "        },\n",
    "        \"label\": {\n",
    "            \"attach\": \"Popularity\"\n",
    "        }\n",
    "    },\n",
    "    \"color\": {\n",
    "        \"attach\": \"Types\"\n",
    "    },\n",
    "    \"title\": \"With two discretes on one axis...\"\n",
    "}))\n",
    "\n",
    "chart.animate(Config({\n",
    "    \"channels\": {\n",
    "        \"y\": {\n",
    "            \"detach\": \"Types\"\n",
    "        },\n",
    "        \"x\": {\n",
    "            \"set\": [\"Genres\", \"Types\"]\n",
    "        },\n",
    "    }\n",
    "}))\n",
    "\n",
    "chart.show()"
   ]
  },
  {
   "cell_type": "markdown",
   "id": "173771d8",
   "metadata": {},
   "source": [
    "When switching the order of dimensions on the x-axis Vizzu will rearrange the elements according to this new logic."
   ]
  },
  {
   "cell_type": "code",
   "execution_count": 5,
   "id": "02100d01",
   "metadata": {},
   "outputs": [
    {
     "data": {
      "text/html": [
       "\n",
       "<div id=\"myVizzu_140290295993664\" style=\"width:800px; height:480px;\" />\n",
       "<script type=\"module\">\n",
       "import Vizzu from 'https://cdn.jsdelivr.net/npm/vizzu@latest/dist/vizzu.min.js';\n",
       "\n",
       "let chart = new Vizzu('myVizzu_140290295993664');\n",
       "chart.initializing.then( chart => {\n",
       "\n",
       "chart.animate({\"data\": {\"dimensions\": [{\"name\": \"Genres\", \"values\": [\"Pop\", \"Rock\", \"Jazz\", \"Metal\"]}, {\"name\": \"Types\", \"values\": [\"Hard\", \"Smooth\", \"Experimental\"]}], \"measures\": [{\"name\": \"Popularity\", \"values\": [[114, 96, 78, 52], [56, 36, 174, 121], [127, 83, 94, 58]]}]}});\n",
       "chart.animate({\"config\": {\"channels\": {\"y\": {\"set\": \"Popularity\"}, \"x\": {\"set\": [\"Genres\", \"Types\"]}, \"label\": {\"attach\": \"Popularity\"}}, \"color\": {\"attach\": \"Types\"}, \"title\": \"...grouping is determined by their order.\"}});\n",
       "chart.animate({\"config\": {\"channels\": {\"x\": {\"set\": [\"Types\", \"Genres\"]}}}});\n",
       "} );\n",
       "</script>"
      ]
     },
     "metadata": {},
     "output_type": "display_data"
    }
   ],
   "source": [
    "from ipyvizzu import Chart, Config\n",
    "from data_examples import music_example_data\n",
    "\n",
    "chart = Chart()\n",
    "chart.animate(music_example_data)\n",
    "\n",
    "chart.animate(Config({\n",
    "    \"channels\": {\n",
    "        \"y\": {\n",
    "            \"set\": \"Popularity\"\n",
    "        }, \n",
    "        \"x\": {\n",
    "            \"set\": [\"Genres\", \"Types\"]\n",
    "        },\n",
    "        \"label\": {\n",
    "            \"attach\": \"Popularity\"\n",
    "        }\n",
    "    },\n",
    "    \"color\": {\n",
    "        \"attach\": \"Types\"\n",
    "    },\n",
    "    \"title\": \"...grouping is determined by their order.\"\n",
    "}))\n",
    "\n",
    "chart.animate(Config({\n",
    "    \"channels\": {\n",
    "        \"x\": {\n",
    "            \"set\": [\"Types\", \"Genres\"]\n",
    "        },\n",
    "    }\n",
    "}))\n",
    "\n",
    "chart.show()"
   ]
  }
 ],
 "metadata": {
  "kernelspec": {
   "display_name": "Python 3 (ipykernel)",
   "language": "python",
   "name": "python3"
  },
  "language_info": {
   "codemirror_mode": {
    "name": "ipython",
    "version": 3
   },
   "file_extension": ".py",
   "mimetype": "text/x-python",
   "name": "python",
   "nbconvert_exporter": "python",
   "pygments_lexer": "ipython3",
   "version": "3.10.1"
  }
 },
 "nbformat": 4,
 "nbformat_minor": 5
}
