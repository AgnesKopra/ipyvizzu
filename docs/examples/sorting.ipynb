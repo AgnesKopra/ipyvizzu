{
 "cells": [
  {
   "cell_type": "markdown",
   "id": "072921f4",
   "metadata": {},
   "source": [
    "## Sorting\n",
    "\n",
    "Vizzu provides multiple options to sort data. By default, the data is sorted by the order it is added to Vizzu. This is why we suggest to add temporal data such as dates in chronological order - from oldest to newest.\n",
    "\n",
    "You can also sort the elements by value, which will provide you with an ascending order."
   ]
  },
  {
   "cell_type": "code",
   "execution_count": 1,
   "id": "200f66d2",
   "metadata": {},
   "outputs": [
    {
     "data": {
      "text/html": [
       "<script id=\"myVizzu_39a7f17\">\n",
       "        document.getElementById(\"myVizzu_39a7f17\").parentNode.style.padding = \"0px\";\n",
       "        </script>\n",
       "<div id=\"myVizzu_539114c\" style=\"width:800px; height:480px;\"/>\n",
       "        <script>\n",
       "        let myVizzu_539114c = document.getElementById(\"myVizzu_539114c\")\n",
       "        let chart_539114c = import(\"https://cdn.jsdelivr.net/npm/vizzu@~0.4.0/dist/vizzu.min.js\").then(Vizzu => new Vizzu.default(\"myVizzu_539114c\").initializing);\n",
       "        </script>"
      ]
     },
     "metadata": {},
     "output_type": "display_data"
    },
    {
     "data": {
      "text/html": [
       "<script id=\"myVizzu_2891c1e\">\n",
       "        document.getElementById(\"myVizzu_2891c1e\").parentNode.style.padding = \"0px\";\n",
       "        </script>\n",
       "<div id=\"myVizzu_0d78154\"/>\n",
       "        <script>\n",
       "        \n",
       "        chart_539114c = chart_539114c.then(chart => {\n",
       "            document.getElementById(\"myVizzu_0d78154\").appendChild(myVizzu_539114c);\n",
       "            return chart.animate({\"data\": {\"dimensions\": [{\"name\": \"Genres\", \"values\": [\"Pop\", \"Rock\", \"Jazz\", \"Metal\"]}, {\"name\": \"Types\", \"values\": [\"Hard\", \"Smooth\", \"Experimental\"]}], \"measures\": [{\"name\": \"Popularity\", \"values\": [[114, 96, 78, 52], [56, 36, 174, 121], [127, 83, 94, 58]]}]}})\n",
       "        });\n",
       "        </script>"
      ]
     },
     "metadata": {},
     "output_type": "display_data"
    },
    {
     "data": {
      "text/html": [
       "<script id=\"myVizzu_378c897\">\n",
       "        document.getElementById(\"myVizzu_378c897\").parentNode.style.padding = \"0px\";\n",
       "        </script>\n",
       "<div id=\"myVizzu_2b82620\"/>\n",
       "        <script>\n",
       "        \n",
       "        chart_539114c = chart_539114c.then(chart => {\n",
       "            document.getElementById(\"myVizzu_2b82620\").appendChild(myVizzu_539114c);\n",
       "            return chart.animate({\"config\": {\"channels\": {\"y\": {\"set\": [\"Popularity\", \"Types\"]}, \"x\": {\"set\": \"Genres\"}, \"label\": {\"attach\": \"Popularity\"}}, \"color\": {\"attach\": \"Types\"}, \"title\": \"Switch to ascending order...\"}})\n",
       "        });\n",
       "        </script>"
      ]
     },
     "metadata": {},
     "output_type": "display_data"
    },
    {
     "data": {
      "text/html": [
       "<script id=\"myVizzu_829639a\">\n",
       "        document.getElementById(\"myVizzu_829639a\").parentNode.style.padding = \"0px\";\n",
       "        </script>\n",
       "<div id=\"myVizzu_57a519f\"/>\n",
       "        <script>\n",
       "        \n",
       "        chart_539114c = chart_539114c.then(chart => {\n",
       "            document.getElementById(\"myVizzu_57a519f\").appendChild(myVizzu_539114c);\n",
       "            return chart.animate({\"config\": {\"sort\": \"byValue\"}})\n",
       "        });\n",
       "        </script>"
      ]
     },
     "metadata": {},
     "output_type": "display_data"
    },
    {
     "data": {
      "text/html": [
       "<script id=\"myVizzu_9ee596d\">\n",
       "        document.getElementById(\"myVizzu_9ee596d\").parentNode.style.padding = \"0px\";\n",
       "        </script>\n",
       "<script>\n",
       "        let snapshot_0bfa262;\n",
       "        chart_539114c = chart_539114c.then(chart => {\n",
       "            snapshot_0bfa262 = chart.store();\n",
       "            return chart;\n",
       "        });\n",
       "        </script>"
      ]
     },
     "metadata": {},
     "output_type": "display_data"
    }
   ],
   "source": [
    "from ipyvizzu import Chart, Data, Config\n",
    "\n",
    "chart = Chart()\n",
    "\n",
    "data = Data.from_json(\"../data/music_example_data.json\")\n",
    "\n",
    "chart.animate(data)\n",
    "\n",
    "chart.animate(Config({\n",
    "    \"channels\": {\n",
    "        \"y\": {\n",
    "            \"set\": [\"Popularity\", \"Types\"]\n",
    "        }, \n",
    "        \"x\": {\n",
    "            \"set\": \"Genres\"\n",
    "        },\n",
    "        \"label\": {\n",
    "            \"attach\": \"Popularity\"\n",
    "        }\n",
    "    },\n",
    "    \"color\": {\n",
    "        \"attach\": \"Types\"\n",
    "    },\n",
    "    \"title\": \"Switch to ascending order...\"\n",
    "}))\n",
    "\n",
    "chart.animate(Config({\n",
    "    \"sort\": \"byValue\",\n",
    "}))\n",
    "\n",
    "snapshot1 = chart.store()"
   ]
  },
  {
   "cell_type": "markdown",
   "id": "c6736370",
   "metadata": {},
   "source": [
    "If you want descending order instead, you have to set the reverse parameter to true. When used without setting the sorting to byValue, the elements will be in the opposite order than they are in the data set added to Vizzu."
   ]
  },
  {
   "cell_type": "code",
   "execution_count": 2,
   "id": "acf4a7d9",
   "metadata": {},
   "outputs": [
    {
     "data": {
      "text/html": [
       "<script id=\"myVizzu_d6cfca2\">\n",
       "        document.getElementById(\"myVizzu_d6cfca2\").parentNode.style.padding = \"0px\";\n",
       "        </script>\n",
       "<div id=\"myVizzu_968b6e9\"/>\n",
       "        <script>\n",
       "        \n",
       "        chart_539114c = chart_539114c.then(chart => {\n",
       "            document.getElementById(\"myVizzu_968b6e9\").appendChild(myVizzu_539114c);\n",
       "            return chart.animate(snapshot_0bfa262)\n",
       "        });\n",
       "        </script>"
      ]
     },
     "metadata": {},
     "output_type": "display_data"
    },
    {
     "data": {
      "text/html": [
       "<script id=\"myVizzu_0a2e3dc\">\n",
       "        document.getElementById(\"myVizzu_0a2e3dc\").parentNode.style.padding = \"0px\";\n",
       "        </script>\n",
       "<div id=\"myVizzu_3fcff8e\"/>\n",
       "        <script>\n",
       "        \n",
       "        chart_539114c = chart_539114c.then(chart => {\n",
       "            document.getElementById(\"myVizzu_3fcff8e\").appendChild(myVizzu_539114c);\n",
       "            return chart.animate({\"config\": {\"title\": \"...or descending order.\"}})\n",
       "        });\n",
       "        </script>"
      ]
     },
     "metadata": {},
     "output_type": "display_data"
    },
    {
     "data": {
      "text/html": [
       "<script id=\"myVizzu_b3dc163\">\n",
       "        document.getElementById(\"myVizzu_b3dc163\").parentNode.style.padding = \"0px\";\n",
       "        </script>\n",
       "<div id=\"myVizzu_15c5861\"/>\n",
       "        <script>\n",
       "        \n",
       "        chart_539114c = chart_539114c.then(chart => {\n",
       "            document.getElementById(\"myVizzu_15c5861\").appendChild(myVizzu_539114c);\n",
       "            return chart.animate({\"config\": {\"reverse\": true}})\n",
       "        });\n",
       "        </script>"
      ]
     },
     "metadata": {},
     "output_type": "display_data"
    },
    {
     "data": {
      "text/html": [
       "<script id=\"myVizzu_2f3fefd\">\n",
       "        document.getElementById(\"myVizzu_2f3fefd\").parentNode.style.padding = \"0px\";\n",
       "        </script>\n",
       "<script>\n",
       "        let snapshot_d325969;\n",
       "        chart_539114c = chart_539114c.then(chart => {\n",
       "            snapshot_d325969 = chart.store();\n",
       "            return chart;\n",
       "        });\n",
       "        </script>"
      ]
     },
     "metadata": {},
     "output_type": "display_data"
    }
   ],
   "source": [
    "chart.animate(snapshot1)\n",
    "\n",
    "chart.animate(Config({\"title\": \"...or descending order.\"}))\n",
    "\n",
    "chart.animate(Config({\n",
    "    \"reverse\": True,\n",
    "}))\n",
    "\n",
    "snapshot2 = chart.store()"
   ]
  },
  {
   "cell_type": "markdown",
   "id": "527bc690",
   "metadata": {},
   "source": [
    "This is how to switch back to the default sorting."
   ]
  },
  {
   "cell_type": "code",
   "execution_count": 3,
   "id": "a18b8749",
   "metadata": {},
   "outputs": [
    {
     "data": {
      "text/html": [
       "<script id=\"myVizzu_326c0b9\">\n",
       "        document.getElementById(\"myVizzu_326c0b9\").parentNode.style.padding = \"0px\";\n",
       "        </script>\n",
       "<div id=\"myVizzu_8d51347\"/>\n",
       "        <script>\n",
       "        \n",
       "        chart_539114c = chart_539114c.then(chart => {\n",
       "            document.getElementById(\"myVizzu_8d51347\").appendChild(myVizzu_539114c);\n",
       "            return chart.animate(snapshot_d325969)\n",
       "        });\n",
       "        </script>"
      ]
     },
     "metadata": {},
     "output_type": "display_data"
    },
    {
     "data": {
      "text/html": [
       "<script id=\"myVizzu_eb23d31\">\n",
       "        document.getElementById(\"myVizzu_eb23d31\").parentNode.style.padding = \"0px\";\n",
       "        </script>\n",
       "<div id=\"myVizzu_817e61a\"/>\n",
       "        <script>\n",
       "        \n",
       "        chart_539114c = chart_539114c.then(chart => {\n",
       "            document.getElementById(\"myVizzu_817e61a\").appendChild(myVizzu_539114c);\n",
       "            return chart.animate({\"config\": {\"title\": \"Let's get back to where we were\"}})\n",
       "        });\n",
       "        </script>"
      ]
     },
     "metadata": {},
     "output_type": "display_data"
    },
    {
     "data": {
      "text/html": [
       "<script id=\"myVizzu_b08ec1c\">\n",
       "        document.getElementById(\"myVizzu_b08ec1c\").parentNode.style.padding = \"0px\";\n",
       "        </script>\n",
       "<div id=\"myVizzu_593476c\"/>\n",
       "        <script>\n",
       "        \n",
       "        chart_539114c = chart_539114c.then(chart => {\n",
       "            document.getElementById(\"myVizzu_593476c\").appendChild(myVizzu_539114c);\n",
       "            return chart.animate({\"config\": {\"sort\": \"none\", \"reverse\": false}})\n",
       "        });\n",
       "        </script>"
      ]
     },
     "metadata": {},
     "output_type": "display_data"
    },
    {
     "data": {
      "text/html": [
       "<script id=\"myVizzu_af78b57\">\n",
       "        document.getElementById(\"myVizzu_af78b57\").parentNode.style.padding = \"0px\";\n",
       "        </script>\n",
       "<script>\n",
       "        let snapshot_5996e9b;\n",
       "        chart_539114c = chart_539114c.then(chart => {\n",
       "            snapshot_5996e9b = chart.store();\n",
       "            return chart;\n",
       "        });\n",
       "        </script>"
      ]
     },
     "metadata": {},
     "output_type": "display_data"
    }
   ],
   "source": [
    "chart.animate(snapshot2)\n",
    "\n",
    "chart.animate(Config({\"title\": \"Let's get back to where we were\"}))\n",
    "\n",
    "chart.animate(Config({\n",
    "    \"sort\": \"none\",\n",
    "    \"reverse\": False,\n",
    "}))\n",
    "\n",
    "snapshot3 = chart.store()"
   ]
  },
  {
   "cell_type": "markdown",
   "id": "eae56a59",
   "metadata": {},
   "source": [
    "When you have more than one dimension on a channel, their order determines how the elements are grouped."
   ]
  },
  {
   "cell_type": "code",
   "execution_count": 4,
   "id": "8fdbb27b",
   "metadata": {},
   "outputs": [
    {
     "data": {
      "text/html": [
       "<script id=\"myVizzu_3e6adf1\">\n",
       "        document.getElementById(\"myVizzu_3e6adf1\").parentNode.style.padding = \"0px\";\n",
       "        </script>\n",
       "<div id=\"myVizzu_26819a1\"/>\n",
       "        <script>\n",
       "        \n",
       "        chart_539114c = chart_539114c.then(chart => {\n",
       "            document.getElementById(\"myVizzu_26819a1\").appendChild(myVizzu_539114c);\n",
       "            return chart.animate(snapshot_5996e9b)\n",
       "        });\n",
       "        </script>"
      ]
     },
     "metadata": {},
     "output_type": "display_data"
    },
    {
     "data": {
      "text/html": [
       "<script id=\"myVizzu_1091ef8\">\n",
       "        document.getElementById(\"myVizzu_1091ef8\").parentNode.style.padding = \"0px\";\n",
       "        </script>\n",
       "<div id=\"myVizzu_3fd5e5a\"/>\n",
       "        <script>\n",
       "        \n",
       "        chart_539114c = chart_539114c.then(chart => {\n",
       "            document.getElementById(\"myVizzu_3fd5e5a\").appendChild(myVizzu_539114c);\n",
       "            return chart.animate({\"config\": {\"title\": \"With two discretes on one axis...\"}})\n",
       "        });\n",
       "        </script>"
      ]
     },
     "metadata": {},
     "output_type": "display_data"
    },
    {
     "data": {
      "text/html": [
       "<script id=\"myVizzu_30f8258\">\n",
       "        document.getElementById(\"myVizzu_30f8258\").parentNode.style.padding = \"0px\";\n",
       "        </script>\n",
       "<div id=\"myVizzu_29c69fa\"/>\n",
       "        <script>\n",
       "        \n",
       "        chart_539114c = chart_539114c.then(chart => {\n",
       "            document.getElementById(\"myVizzu_29c69fa\").appendChild(myVizzu_539114c);\n",
       "            return chart.animate({\"config\": {\"channels\": {\"y\": {\"detach\": \"Types\"}, \"x\": {\"set\": [\"Genres\", \"Types\"]}}}})\n",
       "        });\n",
       "        </script>"
      ]
     },
     "metadata": {},
     "output_type": "display_data"
    },
    {
     "data": {
      "text/html": [
       "<script id=\"myVizzu_559e535\">\n",
       "        document.getElementById(\"myVizzu_559e535\").parentNode.style.padding = \"0px\";\n",
       "        </script>\n",
       "<script>\n",
       "        let snapshot_582eb1e;\n",
       "        chart_539114c = chart_539114c.then(chart => {\n",
       "            snapshot_582eb1e = chart.store();\n",
       "            return chart;\n",
       "        });\n",
       "        </script>"
      ]
     },
     "metadata": {},
     "output_type": "display_data"
    }
   ],
   "source": [
    "chart.animate(snapshot3)\n",
    "\n",
    "chart.animate(Config({\"title\": \"With two discretes on one axis...\"}))\n",
    "\n",
    "chart.animate(Config({\n",
    "    \"channels\": {\n",
    "        \"y\": {\n",
    "            \"detach\": \"Types\"\n",
    "        },\n",
    "        \"x\": {\n",
    "            \"set\": [\"Genres\", \"Types\"]\n",
    "        },\n",
    "    }\n",
    "}))\n",
    "\n",
    "snapshot4 = chart.store()"
   ]
  },
  {
   "cell_type": "markdown",
   "id": "173771d8",
   "metadata": {},
   "source": [
    "When switching the order of dimensions on the x-axis Vizzu will rearrange the elements according to this new logic."
   ]
  },
  {
   "cell_type": "code",
   "execution_count": 5,
   "id": "02100d01",
   "metadata": {},
   "outputs": [
    {
     "data": {
      "text/html": [
       "<script id=\"myVizzu_f504165\">\n",
       "        document.getElementById(\"myVizzu_f504165\").parentNode.style.padding = \"0px\";\n",
       "        </script>\n",
       "<div id=\"myVizzu_d83cf2b\"/>\n",
       "        <script>\n",
       "        \n",
       "        chart_539114c = chart_539114c.then(chart => {\n",
       "            document.getElementById(\"myVizzu_d83cf2b\").appendChild(myVizzu_539114c);\n",
       "            return chart.animate(snapshot_582eb1e)\n",
       "        });\n",
       "        </script>"
      ]
     },
     "metadata": {},
     "output_type": "display_data"
    },
    {
     "data": {
      "text/html": [
       "<script id=\"myVizzu_3791ced\">\n",
       "        document.getElementById(\"myVizzu_3791ced\").parentNode.style.padding = \"0px\";\n",
       "        </script>\n",
       "<div id=\"myVizzu_7b821b4\"/>\n",
       "        <script>\n",
       "        \n",
       "        chart_539114c = chart_539114c.then(chart => {\n",
       "            document.getElementById(\"myVizzu_7b821b4\").appendChild(myVizzu_539114c);\n",
       "            return chart.animate({\"config\": {\"title\": \"...grouping is determined by their order.\"}})\n",
       "        });\n",
       "        </script>"
      ]
     },
     "metadata": {},
     "output_type": "display_data"
    },
    {
     "data": {
      "text/html": [
       "<script id=\"myVizzu_b75775c\">\n",
       "        document.getElementById(\"myVizzu_b75775c\").parentNode.style.padding = \"0px\";\n",
       "        </script>\n",
       "<div id=\"myVizzu_2a2b03f\"/>\n",
       "        <script>\n",
       "        \n",
       "        chart_539114c = chart_539114c.then(chart => {\n",
       "            document.getElementById(\"myVizzu_2a2b03f\").appendChild(myVizzu_539114c);\n",
       "            return chart.animate({\"config\": {\"channels\": {\"x\": {\"set\": [\"Types\", \"Genres\"]}}}})\n",
       "        });\n",
       "        </script>"
      ]
     },
     "metadata": {},
     "output_type": "display_data"
    }
   ],
   "source": [
    "chart.animate(snapshot4)\n",
    "\n",
    "chart.animate(Config({\"title\": \"...grouping is determined by their order.\"}))\n",
    "\n",
    "chart.animate(Config({\n",
    "    \"channels\": {\n",
    "        \"x\": {\n",
    "            \"set\": [\"Types\", \"Genres\"]\n",
    "        },\n",
    "    }\n",
    "}))"
   ]
  }
 ],
 "metadata": {
  "kernelspec": {
   "display_name": "Python 3 (ipykernel)",
   "language": "python",
   "name": "python3"
  },
  "language_info": {
   "codemirror_mode": {
    "name": "ipython",
    "version": 3
   },
   "file_extension": ".py",
   "mimetype": "text/x-python",
   "name": "python",
   "nbconvert_exporter": "python",
   "pygments_lexer": "ipython3",
   "version": "3.8.10"
  }
 },
 "nbformat": 4,
 "nbformat_minor": 5
}
