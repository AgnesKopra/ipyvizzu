{
 "cells": [
  {
   "cell_type": "markdown",
   "id": "8518ab11",
   "metadata": {},
   "source": [
    "## Geometry\n",
    "\n",
    "In Vizzu you can set the geometric elements used to represent your data by the geometry property within the config object.\n",
    "\n",
    "The first step is switching the geometry to area.\n",
    "\n",
    "The second step is drawing a line chart.\n",
    "\n",
    "The third step is switching the geometry to circle. This setting is the most useful when used together with the size channel, as shown in the next chapter of the tutorial.\n",
    "\n",
    "The last step is switching the geometry to rectangle. Rectangle geometry is the default setting in Vizzu, used for most common charts like bar and column charts."
   ]
  },
  {
   "cell_type": "code",
   "execution_count": 1,
   "id": "b0552636",
   "metadata": {},
   "outputs": [
    {
     "data": {
      "text/html": [
       "<script>\n",
       "    let myVizzu_08e8fd2 = document.createElement(\"div\");\n",
       "    myVizzu_08e8fd2.style.cssText = \"width: 800px; height: 480px;\";\n",
       "    let chart_08e8fd2 = import(\"https://cdn.jsdelivr.net/npm/vizzu@~0.4.0/dist/vizzu.min.js\").then(Vizzu => new Vizzu.default(myVizzu_08e8fd2).initializing);\n",
       "</script>"
      ]
     },
     "metadata": {},
     "output_type": "display_data"
    },
    {
     "data": {
      "text/html": [
       "<script id=\"myVizzu_4a457cf\">\n",
       "    chart_08e8fd2 = chart_08e8fd2.then(chart => {\n",
       "        let script = document.getElementById(\"myVizzu_4a457cf\");\n",
       "        if (myVizzu_08e8fd2.parentNode && myVizzu_08e8fd2.parentNode.parentNode) {\n",
       "            let display = myVizzu_08e8fd2.parentNode.parentNode.style.display;\n",
       "            myVizzu_08e8fd2.parentNode.parentNode.style.display = \"none\";\n",
       "            script.parentNode.parentNode.style.display = display;\n",
       "        }\n",
       "        script.parentNode.insertBefore(myVizzu_08e8fd2, script);\n",
       "        return chart.animate({\"data\": {\"dimensions\": [{\"name\": \"Genres\", \"values\": [\"Pop\", \"Rock\", \"Jazz\", \"Metal\"]}, {\"name\": \"Types\", \"values\": [\"Hard\", \"Smooth\", \"Experimental\"]}], \"measures\": [{\"name\": \"Popularity\", \"values\": [[114, 96, 78, 52], [56, 36, 174, 121], [127, 83, 94, 58]]}]}});\n",
       "    });\n",
       "</script>"
      ]
     },
     "metadata": {},
     "output_type": "display_data"
    },
    {
     "data": {
      "text/html": [
       "<script id=\"myVizzu_b531951\">\n",
       "    chart_08e8fd2 = chart_08e8fd2.then(chart => {\n",
       "        let script = document.getElementById(\"myVizzu_b531951\");\n",
       "        if (myVizzu_08e8fd2.parentNode && myVizzu_08e8fd2.parentNode.parentNode) {\n",
       "            let display = myVizzu_08e8fd2.parentNode.parentNode.style.display;\n",
       "            myVizzu_08e8fd2.parentNode.parentNode.style.display = \"none\";\n",
       "            script.parentNode.parentNode.style.display = display;\n",
       "        }\n",
       "        script.parentNode.insertBefore(myVizzu_08e8fd2, script);\n",
       "        return chart.animate({\"config\": {\"channels\": {\"y\": {\"set\": \"Popularity\"}, \"x\": {\"set\": \"Genres\"}}}});\n",
       "    });\n",
       "</script>"
      ]
     },
     "metadata": {},
     "output_type": "display_data"
    },
    {
     "data": {
      "text/html": [
       "<script id=\"myVizzu_2bea47f\">\n",
       "    chart_08e8fd2 = chart_08e8fd2.then(chart => {\n",
       "        let script = document.getElementById(\"myVizzu_2bea47f\");\n",
       "        if (myVizzu_08e8fd2.parentNode && myVizzu_08e8fd2.parentNode.parentNode) {\n",
       "            let display = myVizzu_08e8fd2.parentNode.parentNode.style.display;\n",
       "            myVizzu_08e8fd2.parentNode.parentNode.style.display = \"none\";\n",
       "            script.parentNode.parentNode.style.display = display;\n",
       "        }\n",
       "        script.parentNode.insertBefore(myVizzu_08e8fd2, script);\n",
       "        return chart.animate({\"config\": {\"title\": \"Geometry: area\"}});\n",
       "    });\n",
       "</script>"
      ]
     },
     "metadata": {},
     "output_type": "display_data"
    },
    {
     "data": {
      "text/html": [
       "<script id=\"myVizzu_a897f5f\">\n",
       "    chart_08e8fd2 = chart_08e8fd2.then(chart => {\n",
       "        let script = document.getElementById(\"myVizzu_a897f5f\");\n",
       "        if (myVizzu_08e8fd2.parentNode && myVizzu_08e8fd2.parentNode.parentNode) {\n",
       "            let display = myVizzu_08e8fd2.parentNode.parentNode.style.display;\n",
       "            myVizzu_08e8fd2.parentNode.parentNode.style.display = \"none\";\n",
       "            script.parentNode.parentNode.style.display = display;\n",
       "        }\n",
       "        script.parentNode.insertBefore(myVizzu_08e8fd2, script);\n",
       "        return chart.animate({\"config\": {\"geometry\": \"area\"}});\n",
       "    });\n",
       "</script>"
      ]
     },
     "metadata": {},
     "output_type": "display_data"
    },
    {
     "data": {
      "text/html": [
       "<script id=\"myVizzu_65338c7\">\n",
       "    chart_08e8fd2 = chart_08e8fd2.then(chart => {\n",
       "        let script = document.getElementById(\"myVizzu_65338c7\");\n",
       "        if (myVizzu_08e8fd2.parentNode && myVizzu_08e8fd2.parentNode.parentNode) {\n",
       "            let display = myVizzu_08e8fd2.parentNode.parentNode.style.display;\n",
       "            myVizzu_08e8fd2.parentNode.parentNode.style.display = \"none\";\n",
       "            script.parentNode.parentNode.style.display = display;\n",
       "        }\n",
       "        script.parentNode.insertBefore(myVizzu_08e8fd2, script);\n",
       "        return chart.animate({\"config\": {\"title\": \"Geometry: line\"}});\n",
       "    });\n",
       "</script>"
      ]
     },
     "metadata": {},
     "output_type": "display_data"
    },
    {
     "data": {
      "text/html": [
       "<script id=\"myVizzu_005e6bf\">\n",
       "    chart_08e8fd2 = chart_08e8fd2.then(chart => {\n",
       "        let script = document.getElementById(\"myVizzu_005e6bf\");\n",
       "        if (myVizzu_08e8fd2.parentNode && myVizzu_08e8fd2.parentNode.parentNode) {\n",
       "            let display = myVizzu_08e8fd2.parentNode.parentNode.style.display;\n",
       "            myVizzu_08e8fd2.parentNode.parentNode.style.display = \"none\";\n",
       "            script.parentNode.parentNode.style.display = display;\n",
       "        }\n",
       "        script.parentNode.insertBefore(myVizzu_08e8fd2, script);\n",
       "        return chart.animate({\"config\": {\"geometry\": \"line\"}});\n",
       "    });\n",
       "</script>"
      ]
     },
     "metadata": {},
     "output_type": "display_data"
    },
    {
     "data": {
      "text/html": [
       "<script id=\"myVizzu_203b102\">\n",
       "    chart_08e8fd2 = chart_08e8fd2.then(chart => {\n",
       "        let script = document.getElementById(\"myVizzu_203b102\");\n",
       "        if (myVizzu_08e8fd2.parentNode && myVizzu_08e8fd2.parentNode.parentNode) {\n",
       "            let display = myVizzu_08e8fd2.parentNode.parentNode.style.display;\n",
       "            myVizzu_08e8fd2.parentNode.parentNode.style.display = \"none\";\n",
       "            script.parentNode.parentNode.style.display = display;\n",
       "        }\n",
       "        script.parentNode.insertBefore(myVizzu_08e8fd2, script);\n",
       "        return chart.animate({\"config\": {\"title\": \"Geometry: circle\"}});\n",
       "    });\n",
       "</script>"
      ]
     },
     "metadata": {},
     "output_type": "display_data"
    },
    {
     "data": {
      "text/html": [
       "<script id=\"myVizzu_feaf354\">\n",
       "    chart_08e8fd2 = chart_08e8fd2.then(chart => {\n",
       "        let script = document.getElementById(\"myVizzu_feaf354\");\n",
       "        if (myVizzu_08e8fd2.parentNode && myVizzu_08e8fd2.parentNode.parentNode) {\n",
       "            let display = myVizzu_08e8fd2.parentNode.parentNode.style.display;\n",
       "            myVizzu_08e8fd2.parentNode.parentNode.style.display = \"none\";\n",
       "            script.parentNode.parentNode.style.display = display;\n",
       "        }\n",
       "        script.parentNode.insertBefore(myVizzu_08e8fd2, script);\n",
       "        return chart.animate({\"config\": {\"geometry\": \"circle\"}});\n",
       "    });\n",
       "</script>"
      ]
     },
     "metadata": {},
     "output_type": "display_data"
    },
    {
     "data": {
      "text/html": [
       "<script id=\"myVizzu_72a205c\">\n",
       "    chart_08e8fd2 = chart_08e8fd2.then(chart => {\n",
       "        let script = document.getElementById(\"myVizzu_72a205c\");\n",
       "        if (myVizzu_08e8fd2.parentNode && myVizzu_08e8fd2.parentNode.parentNode) {\n",
       "            let display = myVizzu_08e8fd2.parentNode.parentNode.style.display;\n",
       "            myVizzu_08e8fd2.parentNode.parentNode.style.display = \"none\";\n",
       "            script.parentNode.parentNode.style.display = display;\n",
       "        }\n",
       "        script.parentNode.insertBefore(myVizzu_08e8fd2, script);\n",
       "        return chart.animate({\"config\": {\"title\": \"Geometry: rectangle - default\"}});\n",
       "    });\n",
       "</script>"
      ]
     },
     "metadata": {},
     "output_type": "display_data"
    },
    {
     "data": {
      "text/html": [
       "<script id=\"myVizzu_65f580e\">\n",
       "    chart_08e8fd2 = chart_08e8fd2.then(chart => {\n",
       "        let script = document.getElementById(\"myVizzu_65f580e\");\n",
       "        if (myVizzu_08e8fd2.parentNode && myVizzu_08e8fd2.parentNode.parentNode) {\n",
       "            let display = myVizzu_08e8fd2.parentNode.parentNode.style.display;\n",
       "            myVizzu_08e8fd2.parentNode.parentNode.style.display = \"none\";\n",
       "            script.parentNode.parentNode.style.display = display;\n",
       "        }\n",
       "        script.parentNode.insertBefore(myVizzu_08e8fd2, script);\n",
       "        return chart.animate({\"config\": {\"geometry\": \"rectangle\"}});\n",
       "    });\n",
       "</script>"
      ]
     },
     "metadata": {},
     "output_type": "display_data"
    }
   ],
   "source": [
    "from ipyvizzu import Chart, Data, Config\n",
    "\n",
    "chart = Chart()\n",
    "\n",
    "data = Data.from_json(\"../data/music_example_data.json\")\n",
    "\n",
    "chart.animate(data)\n",
    "\n",
    "chart.animate(Config({\n",
    "    \"channels\": {\n",
    "        \"y\": {\n",
    "            \"set\": \"Popularity\"\n",
    "        }, \n",
    "        \"x\": {\n",
    "            \"set\": \"Genres\"\n",
    "        }\n",
    "    }\n",
    "}))\n",
    "\n",
    "chart.animate(Config({\n",
    "    \"title\": \"Geometry: area\"\n",
    "}))\n",
    "\n",
    "chart.animate(Config({\n",
    "    \"geometry\": \"area\"\n",
    "}))\n",
    "\n",
    "chart.animate(Config({\n",
    "    \"title\": \"Geometry: line\"\n",
    "}))\n",
    "\n",
    "chart.animate(Config({\n",
    "    \"geometry\": \"line\"\n",
    "}))\n",
    "\n",
    "chart.animate(Config({\n",
    "    \"title\": \"Geometry: circle\"\n",
    "}))\n",
    "\n",
    "chart.animate(Config({\n",
    "    \"geometry\": \"circle\"\n",
    "}))\n",
    "\n",
    "chart.animate(Config({\n",
    "    \"title\": \"Geometry: rectangle - default\"\n",
    "}))\n",
    "\n",
    "chart.animate(Config({\n",
    "    \"geometry\": \"rectangle\"\n",
    "}))"
   ]
  }
 ],
 "metadata": {
  "kernelspec": {
   "display_name": "Python 3 (ipykernel)",
   "language": "python",
   "name": "python3"
  },
  "language_info": {
   "codemirror_mode": {
    "name": "ipython",
    "version": 3
   },
   "file_extension": ".py",
   "mimetype": "text/x-python",
   "name": "python",
   "nbconvert_exporter": "python",
   "pygments_lexer": "ipython3",
   "version": "3.8.10"
  }
 },
 "nbformat": 4,
 "nbformat_minor": 5
}
