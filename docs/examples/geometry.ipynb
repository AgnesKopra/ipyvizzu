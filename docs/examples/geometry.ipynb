{
 "cells": [
  {
   "cell_type": "markdown",
   "id": "8518ab11",
   "metadata": {},
   "source": [
    "## Geometry\n",
    "\n",
    "In Vizzu you can set the geometric elements used to represent your data by the geometry property within the config object.\n",
    "\n",
    "The first step is switching the geometry to area.\n",
    "\n",
    "The second step is drawing a line chart.\n",
    "\n",
    "The third step is switching the geometry to circle. This setting is the most useful when used together with the size channel, as shown in the next chapter of the tutorial.\n",
    "\n",
    "The last step is switching the geometry to rectangle. Rectangle geometry is the default setting in Vizzu, used for most common charts like bar and column charts."
   ]
  },
  {
   "cell_type": "code",
   "execution_count": 1,
   "id": "b0552636",
   "metadata": {},
   "outputs": [
    {
     "data": {
      "text/html": [
       "\n",
       "<div id=\"myVizzu_140447183101088\" style=\"width:800px; height:480px;\" />\n",
       "<script type=\"module\">\n",
       "import Vizzu from 'https://cdn.jsdelivr.net/npm/vizzu@latest/dist/vizzu.min.js';\n",
       "\n",
       "let chart = new Vizzu('myVizzu_140447183101088');\n",
       "chart.initializing.then( chart => {\n",
       "\n",
       "chart.animate({\"data\": {\"dimensions\": [{\"name\": \"Genres\", \"values\": [\"Pop\", \"Rock\", \"Jazz\", \"Metal\"]}, {\"name\": \"Types\", \"values\": [\"Hard\", \"Smooth\", \"Experimental\"]}], \"measures\": [{\"name\": \"Popularity\", \"values\": [[114, 96, 78, 52], [56, 36, 174, 121], [127, 83, 94, 58]]}]}});\n",
       "chart.animate({\"config\": {\"channels\": {\"y\": {\"set\": \"Popularity\"}, \"x\": {\"set\": \"Genres\"}}}});\n",
       "chart.animate({\"config\": {\"geometry\": \"area\", \"title\": \"Geometry: area\"}});\n",
       "chart.animate({\"config\": {\"geometry\": \"line\", \"title\": \"Geometry: line\"}});\n",
       "chart.animate({\"config\": {\"geometry\": \"circle\", \"title\": \"Geometry: circle\"}});\n",
       "chart.animate({\"config\": {\"geometry\": \"rectangle\", \"title\": \"Geometry: rectangle - default\"}});\n",
       "} );\n",
       "</script>"
      ]
     },
     "metadata": {},
     "output_type": "display_data"
    }
   ],
   "source": [
    "from ipyvizzu import Chart, Data, Config\n",
    "\n",
    "chart = Chart()\n",
    "\n",
    "data = Data.from_json(\"../data/music_example_data.json\")\n",
    "\n",
    "chart.animate(data)\n",
    "\n",
    "chart.animate(Config({\n",
    "    \"channels\": {\n",
    "        \"y\": {\n",
    "            \"set\": \"Popularity\"\n",
    "        }, \n",
    "        \"x\": {\n",
    "            \"set\": \"Genres\"\n",
    "        }\n",
    "    }\n",
    "}))\n",
    "\n",
    "chart.animate(Config({\n",
    "    \"geometry\": \"area\", \n",
    "    \"title\": \"Geometry: area\"\n",
    "}))\n",
    "\n",
    "chart.animate(Config({\n",
    "    \"geometry\": \"line\", \n",
    "    \"title\": \"Geometry: line\"\n",
    "}))\n",
    "\n",
    "chart.animate(Config({\n",
    "    \"geometry\": \"circle\", \n",
    "    \"title\": \"Geometry: circle\"\n",
    "}))\n",
    "\n",
    "chart.animate(Config({\n",
    "    \"geometry\": \"rectangle\", \n",
    "    \"title\": \"Geometry: rectangle - default\"\n",
    "}))\n",
    "\n",
    "chart.show()"
   ]
  }
 ],
 "metadata": {
  "kernelspec": {
   "display_name": "Python 3 (ipykernel)",
   "language": "python",
   "name": "python3"
  },
  "language_info": {
   "codemirror_mode": {
    "name": "ipython",
    "version": 3
   },
   "file_extension": ".py",
   "mimetype": "text/x-python",
   "name": "python",
   "nbconvert_exporter": "python",
   "pygments_lexer": "ipython3",
   "version": "3.10.1"
  }
 },
 "nbformat": 4,
 "nbformat_minor": 5
}
