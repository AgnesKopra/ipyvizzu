{
 "cells": [
  {
   "cell_type": "markdown",
   "id": "8518ab11",
   "metadata": {},
   "source": [
    "## Geometry\n",
    "\n",
    "In Vizzu you can set the geometric elements used to represent your data by the geometry property within the config object.\n",
    "\n",
    "The first step is switching the geometry to area.\n",
    "\n",
    "The second step is drawing a line chart.\n",
    "\n",
    "The third step is switching the geometry to circle. This setting is the most useful when used together with the size channel, as shown in the next chapter of the tutorial.\n",
    "\n",
    "The last step is switching the geometry to rectangle. Rectangle geometry is the default setting in Vizzu, used for most common charts like bar and column charts."
   ]
  },
  {
   "cell_type": "code",
   "execution_count": 1,
   "id": "b0552636",
   "metadata": {},
   "outputs": [
    {
     "data": {
      "text/html": [
       "<script id=\"myVizzu_581d7d7\">\n",
       "    document.getElementById(\"myVizzu_581d7d7\").parentNode.style.padding = \"0px\";\n",
       "</script>\n",
       "<div id=\"myVizzu_182a695\" style=\"width:800px; height:480px;\"/>\n",
       "<script>\n",
       "    let myVizzu_182a695 = document.getElementById(\"myVizzu_182a695\")\n",
       "    let chart_182a695 = import(\"https://cdn.jsdelivr.net/npm/vizzu@~0.4.0/dist/vizzu.min.js\").then(Vizzu => new Vizzu.default(\"myVizzu_182a695\").initializing);\n",
       "</script>"
      ]
     },
     "metadata": {},
     "output_type": "display_data"
    },
    {
     "data": {
      "text/html": [
       "<script id=\"myVizzu_7a1d029\">\n",
       "    document.getElementById(\"myVizzu_7a1d029\").parentNode.style.padding = \"0px\";\n",
       "</script>\n",
       "<div id=\"myVizzu_86d4cd5\"/>\n",
       "<script>\n",
       "    chart_182a695 = chart_182a695.then(chart => {\n",
       "        document.getElementById(\"myVizzu_86d4cd5\").appendChild(myVizzu_182a695);\n",
       "        return chart.animate({\"data\": {\"dimensions\": [{\"name\": \"Genres\", \"values\": [\"Pop\", \"Rock\", \"Jazz\", \"Metal\"]}, {\"name\": \"Types\", \"values\": [\"Hard\", \"Smooth\", \"Experimental\"]}], \"measures\": [{\"name\": \"Popularity\", \"values\": [[114, 96, 78, 52], [56, 36, 174, 121], [127, 83, 94, 58]]}]}})\n",
       "    });\n",
       "</script>"
      ]
     },
     "metadata": {},
     "output_type": "display_data"
    },
    {
     "data": {
      "text/html": [
       "<script id=\"myVizzu_f2f3261\">\n",
       "    document.getElementById(\"myVizzu_f2f3261\").parentNode.style.padding = \"0px\";\n",
       "</script>\n",
       "<div id=\"myVizzu_b8738b1\"/>\n",
       "<script>\n",
       "    chart_182a695 = chart_182a695.then(chart => {\n",
       "        document.getElementById(\"myVizzu_b8738b1\").appendChild(myVizzu_182a695);\n",
       "        return chart.animate({\"config\": {\"channels\": {\"y\": {\"set\": \"Popularity\"}, \"x\": {\"set\": \"Genres\"}}}})\n",
       "    });\n",
       "</script>"
      ]
     },
     "metadata": {},
     "output_type": "display_data"
    },
    {
     "data": {
      "text/html": [
       "<script id=\"myVizzu_87279ea\">\n",
       "    document.getElementById(\"myVizzu_87279ea\").parentNode.style.padding = \"0px\";\n",
       "</script>\n",
       "<div id=\"myVizzu_69aec82\"/>\n",
       "<script>\n",
       "    chart_182a695 = chart_182a695.then(chart => {\n",
       "        document.getElementById(\"myVizzu_69aec82\").appendChild(myVizzu_182a695);\n",
       "        return chart.animate({\"config\": {\"title\": \"Geometry: area\"}})\n",
       "    });\n",
       "</script>"
      ]
     },
     "metadata": {},
     "output_type": "display_data"
    },
    {
     "data": {
      "text/html": [
       "<script id=\"myVizzu_45bf224\">\n",
       "    document.getElementById(\"myVizzu_45bf224\").parentNode.style.padding = \"0px\";\n",
       "</script>\n",
       "<div id=\"myVizzu_f768d68\"/>\n",
       "<script>\n",
       "    chart_182a695 = chart_182a695.then(chart => {\n",
       "        document.getElementById(\"myVizzu_f768d68\").appendChild(myVizzu_182a695);\n",
       "        return chart.animate({\"config\": {\"geometry\": \"area\"}})\n",
       "    });\n",
       "</script>"
      ]
     },
     "metadata": {},
     "output_type": "display_data"
    },
    {
     "data": {
      "text/html": [
       "<script id=\"myVizzu_589d6cd\">\n",
       "    document.getElementById(\"myVizzu_589d6cd\").parentNode.style.padding = \"0px\";\n",
       "</script>\n",
       "<div id=\"myVizzu_0f61b07\"/>\n",
       "<script>\n",
       "    chart_182a695 = chart_182a695.then(chart => {\n",
       "        document.getElementById(\"myVizzu_0f61b07\").appendChild(myVizzu_182a695);\n",
       "        return chart.animate({\"config\": {\"title\": \"Geometry: line\"}})\n",
       "    });\n",
       "</script>"
      ]
     },
     "metadata": {},
     "output_type": "display_data"
    },
    {
     "data": {
      "text/html": [
       "<script id=\"myVizzu_af7cc32\">\n",
       "    document.getElementById(\"myVizzu_af7cc32\").parentNode.style.padding = \"0px\";\n",
       "</script>\n",
       "<div id=\"myVizzu_6a52a57\"/>\n",
       "<script>\n",
       "    chart_182a695 = chart_182a695.then(chart => {\n",
       "        document.getElementById(\"myVizzu_6a52a57\").appendChild(myVizzu_182a695);\n",
       "        return chart.animate({\"config\": {\"geometry\": \"line\"}})\n",
       "    });\n",
       "</script>"
      ]
     },
     "metadata": {},
     "output_type": "display_data"
    },
    {
     "data": {
      "text/html": [
       "<script id=\"myVizzu_14782a3\">\n",
       "    document.getElementById(\"myVizzu_14782a3\").parentNode.style.padding = \"0px\";\n",
       "</script>\n",
       "<div id=\"myVizzu_406e5a5\"/>\n",
       "<script>\n",
       "    chart_182a695 = chart_182a695.then(chart => {\n",
       "        document.getElementById(\"myVizzu_406e5a5\").appendChild(myVizzu_182a695);\n",
       "        return chart.animate({\"config\": {\"title\": \"Geometry: circle\"}})\n",
       "    });\n",
       "</script>"
      ]
     },
     "metadata": {},
     "output_type": "display_data"
    },
    {
     "data": {
      "text/html": [
       "<script id=\"myVizzu_7650e82\">\n",
       "    document.getElementById(\"myVizzu_7650e82\").parentNode.style.padding = \"0px\";\n",
       "</script>\n",
       "<div id=\"myVizzu_df57781\"/>\n",
       "<script>\n",
       "    chart_182a695 = chart_182a695.then(chart => {\n",
       "        document.getElementById(\"myVizzu_df57781\").appendChild(myVizzu_182a695);\n",
       "        return chart.animate({\"config\": {\"geometry\": \"circle\"}})\n",
       "    });\n",
       "</script>"
      ]
     },
     "metadata": {},
     "output_type": "display_data"
    },
    {
     "data": {
      "text/html": [
       "<script id=\"myVizzu_5088faa\">\n",
       "    document.getElementById(\"myVizzu_5088faa\").parentNode.style.padding = \"0px\";\n",
       "</script>\n",
       "<div id=\"myVizzu_c156d40\"/>\n",
       "<script>\n",
       "    chart_182a695 = chart_182a695.then(chart => {\n",
       "        document.getElementById(\"myVizzu_c156d40\").appendChild(myVizzu_182a695);\n",
       "        return chart.animate({\"config\": {\"title\": \"Geometry: rectangle - default\"}})\n",
       "    });\n",
       "</script>"
      ]
     },
     "metadata": {},
     "output_type": "display_data"
    },
    {
     "data": {
      "text/html": [
       "<script id=\"myVizzu_8580bfd\">\n",
       "    document.getElementById(\"myVizzu_8580bfd\").parentNode.style.padding = \"0px\";\n",
       "</script>\n",
       "<div id=\"myVizzu_8f21fc2\"/>\n",
       "<script>\n",
       "    chart_182a695 = chart_182a695.then(chart => {\n",
       "        document.getElementById(\"myVizzu_8f21fc2\").appendChild(myVizzu_182a695);\n",
       "        return chart.animate({\"config\": {\"geometry\": \"rectangle\"}})\n",
       "    });\n",
       "</script>"
      ]
     },
     "metadata": {},
     "output_type": "display_data"
    }
   ],
   "source": [
    "from ipyvizzu import Chart, Data, Config\n",
    "\n",
    "chart = Chart()\n",
    "\n",
    "data = Data.from_json(\"../data/music_example_data.json\")\n",
    "\n",
    "chart.animate(data)\n",
    "\n",
    "chart.animate(Config({\n",
    "    \"channels\": {\n",
    "        \"y\": {\n",
    "            \"set\": \"Popularity\"\n",
    "        }, \n",
    "        \"x\": {\n",
    "            \"set\": \"Genres\"\n",
    "        }\n",
    "    }\n",
    "}))\n",
    "\n",
    "chart.animate(Config({\n",
    "    \"title\": \"Geometry: area\"\n",
    "}))\n",
    "\n",
    "chart.animate(Config({\n",
    "    \"geometry\": \"area\"\n",
    "}))\n",
    "\n",
    "chart.animate(Config({\n",
    "    \"title\": \"Geometry: line\"\n",
    "}))\n",
    "\n",
    "chart.animate(Config({\n",
    "    \"geometry\": \"line\"\n",
    "}))\n",
    "\n",
    "chart.animate(Config({\n",
    "    \"title\": \"Geometry: circle\"\n",
    "}))\n",
    "\n",
    "chart.animate(Config({\n",
    "    \"geometry\": \"circle\"\n",
    "}))\n",
    "\n",
    "chart.animate(Config({\n",
    "    \"title\": \"Geometry: rectangle - default\"\n",
    "}))\n",
    "\n",
    "chart.animate(Config({\n",
    "    \"geometry\": \"rectangle\"\n",
    "}))"
   ]
  }
 ],
 "metadata": {
  "kernelspec": {
   "display_name": "Python 3 (ipykernel)",
   "language": "python",
   "name": "python3"
  },
  "language_info": {
   "codemirror_mode": {
    "name": "ipython",
    "version": 3
   },
   "file_extension": ".py",
   "mimetype": "text/x-python",
   "name": "python",
   "nbconvert_exporter": "python",
   "pygments_lexer": "ipython3",
   "version": "3.8.10"
  }
 },
 "nbformat": 4,
 "nbformat_minor": 5
}
