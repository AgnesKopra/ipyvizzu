{
 "cells": [
  {
   "cell_type": "markdown",
   "id": "8518ab11",
   "metadata": {},
   "source": [
    "## Geometry\n",
    "\n",
    "In Vizzu you can set the geometric elements used to represent your data by the geometry property within the config object.\n",
    "\n",
    "The first step is switching the geometry to area.\n",
    "\n",
    "The second step is drawing a line chart.\n",
    "\n",
    "The third step is switching the geometry to circle. This setting is the most useful when used together with the size channel, as shown in the next chapter of the tutorial.\n",
    "\n",
    "The last step is switching the geometry to rectangle. Rectangle geometry is the default setting in Vizzu, used for most common charts like bar and column charts."
   ]
  },
  {
   "cell_type": "code",
   "execution_count": 1,
   "id": "b0552636",
   "metadata": {},
   "outputs": [
    {
     "data": {
      "text/html": [
       "<script id=\"myVizzu_7ec1560\">\n",
       "        document.getElementById(\"myVizzu_7ec1560\").parentNode.style.padding = \"0px\";\n",
       "        </script>\n",
       "<div id=\"myVizzu_19e9ad9\" style=\"width:800px; height:480px;\"/>\n",
       "        <script>\n",
       "        let myVizzu_19e9ad9 = document.getElementById(\"myVizzu_19e9ad9\")\n",
       "        let chart_19e9ad9 = import(\"https://cdn.jsdelivr.net/npm/vizzu@~0.4.0/dist/vizzu.min.js\").then(Vizzu => new Vizzu.default(\"myVizzu_19e9ad9\").initializing);\n",
       "        </script>"
      ]
     },
     "metadata": {},
     "output_type": "display_data"
    },
    {
     "data": {
      "text/html": [
       "<script id=\"myVizzu_83d8ab1\">\n",
       "        document.getElementById(\"myVizzu_83d8ab1\").parentNode.style.padding = \"0px\";\n",
       "        </script>\n",
       "<div id=\"myVizzu_78b9fd7\"/>\n",
       "        <script>\n",
       "        \n",
       "        chart_19e9ad9 = chart_19e9ad9.then(chart => {\n",
       "            document.getElementById(\"myVizzu_78b9fd7\").appendChild(myVizzu_19e9ad9);\n",
       "            return chart.animate({\"data\": {\"dimensions\": [{\"name\": \"Genres\", \"values\": [\"Pop\", \"Rock\", \"Jazz\", \"Metal\"]}, {\"name\": \"Types\", \"values\": [\"Hard\", \"Smooth\", \"Experimental\"]}], \"measures\": [{\"name\": \"Popularity\", \"values\": [[114, 96, 78, 52], [56, 36, 174, 121], [127, 83, 94, 58]]}]}})\n",
       "        });\n",
       "        </script>"
      ]
     },
     "metadata": {},
     "output_type": "display_data"
    },
    {
     "data": {
      "text/html": [
       "<script id=\"myVizzu_8a95e29\">\n",
       "        document.getElementById(\"myVizzu_8a95e29\").parentNode.style.padding = \"0px\";\n",
       "        </script>\n",
       "<div id=\"myVizzu_0d22349\"/>\n",
       "        <script>\n",
       "        \n",
       "        chart_19e9ad9 = chart_19e9ad9.then(chart => {\n",
       "            document.getElementById(\"myVizzu_0d22349\").appendChild(myVizzu_19e9ad9);\n",
       "            return chart.animate({\"config\": {\"channels\": {\"y\": {\"set\": \"Popularity\"}, \"x\": {\"set\": \"Genres\"}}}})\n",
       "        });\n",
       "        </script>"
      ]
     },
     "metadata": {},
     "output_type": "display_data"
    },
    {
     "data": {
      "text/html": [
       "<script id=\"myVizzu_4cf466f\">\n",
       "        document.getElementById(\"myVizzu_4cf466f\").parentNode.style.padding = \"0px\";\n",
       "        </script>\n",
       "<div id=\"myVizzu_21b865f\"/>\n",
       "        <script>\n",
       "        \n",
       "        chart_19e9ad9 = chart_19e9ad9.then(chart => {\n",
       "            document.getElementById(\"myVizzu_21b865f\").appendChild(myVizzu_19e9ad9);\n",
       "            return chart.animate({\"config\": {\"title\": \"Geometry: area\"}})\n",
       "        });\n",
       "        </script>"
      ]
     },
     "metadata": {},
     "output_type": "display_data"
    },
    {
     "data": {
      "text/html": [
       "<script id=\"myVizzu_54ceac8\">\n",
       "        document.getElementById(\"myVizzu_54ceac8\").parentNode.style.padding = \"0px\";\n",
       "        </script>\n",
       "<div id=\"myVizzu_a3034c8\"/>\n",
       "        <script>\n",
       "        \n",
       "        chart_19e9ad9 = chart_19e9ad9.then(chart => {\n",
       "            document.getElementById(\"myVizzu_a3034c8\").appendChild(myVizzu_19e9ad9);\n",
       "            return chart.animate({\"config\": {\"geometry\": \"area\"}})\n",
       "        });\n",
       "        </script>"
      ]
     },
     "metadata": {},
     "output_type": "display_data"
    },
    {
     "data": {
      "text/html": [
       "<script id=\"myVizzu_edc499e\">\n",
       "        document.getElementById(\"myVizzu_edc499e\").parentNode.style.padding = \"0px\";\n",
       "        </script>\n",
       "<div id=\"myVizzu_6eb89d3\"/>\n",
       "        <script>\n",
       "        \n",
       "        chart_19e9ad9 = chart_19e9ad9.then(chart => {\n",
       "            document.getElementById(\"myVizzu_6eb89d3\").appendChild(myVizzu_19e9ad9);\n",
       "            return chart.animate({\"config\": {\"title\": \"Geometry: line\"}})\n",
       "        });\n",
       "        </script>"
      ]
     },
     "metadata": {},
     "output_type": "display_data"
    },
    {
     "data": {
      "text/html": [
       "<script id=\"myVizzu_50ad710\">\n",
       "        document.getElementById(\"myVizzu_50ad710\").parentNode.style.padding = \"0px\";\n",
       "        </script>\n",
       "<div id=\"myVizzu_cc16ea3\"/>\n",
       "        <script>\n",
       "        \n",
       "        chart_19e9ad9 = chart_19e9ad9.then(chart => {\n",
       "            document.getElementById(\"myVizzu_cc16ea3\").appendChild(myVizzu_19e9ad9);\n",
       "            return chart.animate({\"config\": {\"geometry\": \"line\"}})\n",
       "        });\n",
       "        </script>"
      ]
     },
     "metadata": {},
     "output_type": "display_data"
    },
    {
     "data": {
      "text/html": [
       "<script id=\"myVizzu_2e8863b\">\n",
       "        document.getElementById(\"myVizzu_2e8863b\").parentNode.style.padding = \"0px\";\n",
       "        </script>\n",
       "<div id=\"myVizzu_e693760\"/>\n",
       "        <script>\n",
       "        \n",
       "        chart_19e9ad9 = chart_19e9ad9.then(chart => {\n",
       "            document.getElementById(\"myVizzu_e693760\").appendChild(myVizzu_19e9ad9);\n",
       "            return chart.animate({\"config\": {\"title\": \"Geometry: circle\"}})\n",
       "        });\n",
       "        </script>"
      ]
     },
     "metadata": {},
     "output_type": "display_data"
    },
    {
     "data": {
      "text/html": [
       "<script id=\"myVizzu_ed4d90d\">\n",
       "        document.getElementById(\"myVizzu_ed4d90d\").parentNode.style.padding = \"0px\";\n",
       "        </script>\n",
       "<div id=\"myVizzu_165d5c6\"/>\n",
       "        <script>\n",
       "        \n",
       "        chart_19e9ad9 = chart_19e9ad9.then(chart => {\n",
       "            document.getElementById(\"myVizzu_165d5c6\").appendChild(myVizzu_19e9ad9);\n",
       "            return chart.animate({\"config\": {\"geometry\": \"circle\"}})\n",
       "        });\n",
       "        </script>"
      ]
     },
     "metadata": {},
     "output_type": "display_data"
    },
    {
     "data": {
      "text/html": [
       "<script id=\"myVizzu_429491a\">\n",
       "        document.getElementById(\"myVizzu_429491a\").parentNode.style.padding = \"0px\";\n",
       "        </script>\n",
       "<div id=\"myVizzu_3d5f550\"/>\n",
       "        <script>\n",
       "        \n",
       "        chart_19e9ad9 = chart_19e9ad9.then(chart => {\n",
       "            document.getElementById(\"myVizzu_3d5f550\").appendChild(myVizzu_19e9ad9);\n",
       "            return chart.animate({\"config\": {\"title\": \"Geometry: rectangle - default\"}})\n",
       "        });\n",
       "        </script>"
      ]
     },
     "metadata": {},
     "output_type": "display_data"
    },
    {
     "data": {
      "text/html": [
       "<script id=\"myVizzu_85ee095\">\n",
       "        document.getElementById(\"myVizzu_85ee095\").parentNode.style.padding = \"0px\";\n",
       "        </script>\n",
       "<div id=\"myVizzu_a25f951\"/>\n",
       "        <script>\n",
       "        \n",
       "        chart_19e9ad9 = chart_19e9ad9.then(chart => {\n",
       "            document.getElementById(\"myVizzu_a25f951\").appendChild(myVizzu_19e9ad9);\n",
       "            return chart.animate({\"config\": {\"geometry\": \"rectangle\"}})\n",
       "        });\n",
       "        </script>"
      ]
     },
     "metadata": {},
     "output_type": "display_data"
    }
   ],
   "source": [
    "from ipyvizzu import Chart, Data, Config\n",
    "\n",
    "chart = Chart()\n",
    "\n",
    "data = Data.from_json(\"../data/music_example_data.json\")\n",
    "\n",
    "chart.animate(data)\n",
    "\n",
    "chart.animate(Config({\n",
    "    \"channels\": {\n",
    "        \"y\": {\n",
    "            \"set\": \"Popularity\"\n",
    "        }, \n",
    "        \"x\": {\n",
    "            \"set\": \"Genres\"\n",
    "        }\n",
    "    }\n",
    "}))\n",
    "\n",
    "chart.animate(Config({\n",
    "    \"title\": \"Geometry: area\"\n",
    "}))\n",
    "\n",
    "chart.animate(Config({\n",
    "    \"geometry\": \"area\"\n",
    "}))\n",
    "\n",
    "chart.animate(Config({\n",
    "    \"title\": \"Geometry: line\"\n",
    "}))\n",
    "\n",
    "chart.animate(Config({\n",
    "    \"geometry\": \"line\"\n",
    "}))\n",
    "\n",
    "chart.animate(Config({\n",
    "    \"title\": \"Geometry: circle\"\n",
    "}))\n",
    "\n",
    "chart.animate(Config({\n",
    "    \"geometry\": \"circle\"\n",
    "}))\n",
    "\n",
    "chart.animate(Config({\n",
    "    \"title\": \"Geometry: rectangle - default\"\n",
    "}))\n",
    "\n",
    "chart.animate(Config({\n",
    "    \"geometry\": \"rectangle\"\n",
    "}))"
   ]
  }
 ],
 "metadata": {
  "kernelspec": {
   "display_name": "Python 3 (ipykernel)",
   "language": "python",
   "name": "python3"
  },
  "language_info": {
   "codemirror_mode": {
    "name": "ipython",
    "version": 3
   },
   "file_extension": ".py",
   "mimetype": "text/x-python",
   "name": "python",
   "nbconvert_exporter": "python",
   "pygments_lexer": "ipython3",
   "version": "3.8.10"
  }
 },
 "nbformat": 4,
 "nbformat_minor": 5
}
