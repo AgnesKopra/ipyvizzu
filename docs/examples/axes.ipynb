{
 "cells": [
  {
   "cell_type": "markdown",
   "id": "789167c4",
   "metadata": {},
   "source": [
    "## Axes, title, tooltip\n",
    "\n",
    "To build a chart with Vizzu, you have to add data series to the channels.\n",
    "\n",
    "The first step is to create a simple column chart, adding one of the dimensions (Genre) to the x-axis and the measure (Popularity) to the y-axis using the set property.\n",
    "\n",
    "In the next step, the chart is rearranged by putting both series on the y-axis using once again the set property, resulting in a single column chart. Vizzu automatically animates between the initial state and this one.\n",
    "\n",
    "Or instead of set, you can use attach and detach to add or remove series to/from the channels.\n",
    "\n",
    "Using attach & detach makes it easier to build your animated charts step-by-step, however you either have to keep in mind what you had on which channel in the previous step."
   ]
  },
  {
   "cell_type": "code",
   "execution_count": 1,
   "id": "8f05ec83",
   "metadata": {},
   "outputs": [
    {
     "data": {
      "text/html": [
       "<script>\n",
       "    let myVizzu_282e9ea = document.createElement(\"div\");\n",
       "    myVizzu_282e9ea.style.cssText = \"width: 800px; height: 480px;\";\n",
       "    let chart_282e9ea = import(\"https://cdn.jsdelivr.net/npm/vizzu@~0.4.0/dist/vizzu.min.js\").then(Vizzu => new Vizzu.default(myVizzu_282e9ea).initializing);\n",
       "</script>"
      ]
     },
     "metadata": {},
     "output_type": "display_data"
    },
    {
     "data": {
      "text/html": [
       "<script id=\"myVizzu_1a38534\">\n",
       "    chart_282e9ea = chart_282e9ea.then(chart => {\n",
       "        let script = document.getElementById(\"myVizzu_1a38534\");\n",
       "        if (myVizzu_282e9ea.parentNode && myVizzu_282e9ea.parentNode.parentNode) {\n",
       "            let display = myVizzu_282e9ea.parentNode.parentNode.style.display;\n",
       "            myVizzu_282e9ea.parentNode.parentNode.style.display = \"none\";\n",
       "            script.parentNode.parentNode.style.display = display;\n",
       "        }\n",
       "        script.parentNode.insertBefore(myVizzu_282e9ea, script);\n",
       "        return chart.animate({\"data\": {\"dimensions\": [{\"name\": \"Genres\", \"values\": [\"Pop\", \"Rock\", \"Jazz\", \"Metal\"]}, {\"name\": \"Types\", \"values\": [\"Hard\", \"Smooth\", \"Experimental\"]}], \"measures\": [{\"name\": \"Popularity\", \"values\": [[114, 96, 78, 52], [56, 36, 174, 121], [127, 83, 94, 58]]}]}});\n",
       "    });\n",
       "</script>"
      ]
     },
     "metadata": {},
     "output_type": "display_data"
    },
    {
     "data": {
      "text/html": [
       "<script id=\"myVizzu_f5e9142\">\n",
       "    chart_282e9ea = chart_282e9ea.then(chart => {\n",
       "        let script = document.getElementById(\"myVizzu_f5e9142\");\n",
       "        if (myVizzu_282e9ea.parentNode && myVizzu_282e9ea.parentNode.parentNode) {\n",
       "            let display = myVizzu_282e9ea.parentNode.parentNode.style.display;\n",
       "            myVizzu_282e9ea.parentNode.parentNode.style.display = \"none\";\n",
       "            script.parentNode.parentNode.style.display = display;\n",
       "        }\n",
       "        script.parentNode.insertBefore(myVizzu_282e9ea, script);\n",
       "        return chart.animate({\"config\": {\"channels\": {\"y\": {\"set\": \"Popularity\"}, \"x\": {\"set\": \"Genres\"}}}});\n",
       "    });\n",
       "</script>"
      ]
     },
     "metadata": {},
     "output_type": "display_data"
    },
    {
     "data": {
      "text/html": [
       "<script id=\"myVizzu_1b27fb0\">\n",
       "    chart_282e9ea = chart_282e9ea.then(chart => {\n",
       "        let script = document.getElementById(\"myVizzu_1b27fb0\");\n",
       "        if (myVizzu_282e9ea.parentNode && myVizzu_282e9ea.parentNode.parentNode) {\n",
       "            let display = myVizzu_282e9ea.parentNode.parentNode.style.display;\n",
       "            myVizzu_282e9ea.parentNode.parentNode.style.display = \"none\";\n",
       "            script.parentNode.parentNode.style.display = display;\n",
       "        }\n",
       "        script.parentNode.insertBefore(myVizzu_282e9ea, script);\n",
       "        return chart.animate({\"config\": {\"channels\": {\"y\": {\"set\": [\"Popularity\", \"Genres\"]}, \"x\": {\"set\": null}}}});\n",
       "    });\n",
       "</script>"
      ]
     },
     "metadata": {},
     "output_type": "display_data"
    },
    {
     "data": {
      "text/html": [
       "<script id=\"myVizzu_ca26a0a\">\n",
       "    chart_282e9ea = chart_282e9ea.then(chart => {\n",
       "        let script = document.getElementById(\"myVizzu_ca26a0a\");\n",
       "        if (myVizzu_282e9ea.parentNode && myVizzu_282e9ea.parentNode.parentNode) {\n",
       "            let display = myVizzu_282e9ea.parentNode.parentNode.style.display;\n",
       "            myVizzu_282e9ea.parentNode.parentNode.style.display = \"none\";\n",
       "            script.parentNode.parentNode.style.display = display;\n",
       "        }\n",
       "        script.parentNode.insertBefore(myVizzu_282e9ea, script);\n",
       "        return chart.animate({\"config\": {\"channels\": {\"y\": {\"detach\": \"Popularity\"}, \"x\": {\"attach\": \"Popularity\"}}}});\n",
       "    });\n",
       "</script>"
      ]
     },
     "metadata": {},
     "output_type": "display_data"
    },
    {
     "data": {
      "text/html": [
       "<script>\n",
       "    let snapshot_5384524;\n",
       "    chart_282e9ea = chart_282e9ea.then(chart => {\n",
       "        snapshot_5384524 = chart.store();\n",
       "        return chart;\n",
       "    });\n",
       "</script>"
      ]
     },
     "metadata": {},
     "output_type": "display_data"
    }
   ],
   "source": [
    "from ipyvizzu import Chart, Data, Config\n",
    "\n",
    "chart = Chart()\n",
    "\n",
    "data = Data.from_json(\"../data/music_example_data.json\")\n",
    "\n",
    "chart.animate(data)\n",
    "\n",
    "chart.animate(Config({\n",
    "    \"channels\": {\n",
    "        \"y\": {\n",
    "            \"set\": \"Popularity\"\n",
    "        }, \n",
    "        \"x\": {\n",
    "            \"set\": \"Genres\"\n",
    "        }\n",
    "    }\n",
    "}))\n",
    "\n",
    "chart.animate(Config({\n",
    "    \"channels\": {\n",
    "        \"y\": {\n",
    "            \"set\": [\"Popularity\", \"Genres\"]\n",
    "        }, \n",
    "        \"x\": {\n",
    "            \"set\": None\n",
    "        }\n",
    "    }\n",
    "}))\n",
    "\n",
    "chart.animate(Config({\n",
    "    \"channels\": {\n",
    "        \"y\": {\n",
    "            \"detach\": \"Popularity\"\n",
    "        }, \n",
    "        \"x\": {\n",
    "            \"attach\": \"Popularity\"\n",
    "        }\n",
    "    }\n",
    "}))\n",
    "\n",
    "snapshot1 = chart.store()"
   ]
  },
  {
   "cell_type": "markdown",
   "id": "86c8b72b",
   "metadata": {},
   "source": [
    "Setting the chart title with the title command."
   ]
  },
  {
   "cell_type": "code",
   "execution_count": 2,
   "id": "e642e113",
   "metadata": {},
   "outputs": [
    {
     "data": {
      "text/html": [
       "<script id=\"myVizzu_ad048e1\">\n",
       "    chart_282e9ea = chart_282e9ea.then(chart => {\n",
       "        let script = document.getElementById(\"myVizzu_ad048e1\");\n",
       "        if (myVizzu_282e9ea.parentNode && myVizzu_282e9ea.parentNode.parentNode) {\n",
       "            let display = myVizzu_282e9ea.parentNode.parentNode.style.display;\n",
       "            myVizzu_282e9ea.parentNode.parentNode.style.display = \"none\";\n",
       "            script.parentNode.parentNode.style.display = display;\n",
       "        }\n",
       "        script.parentNode.insertBefore(myVizzu_282e9ea, script);\n",
       "        return chart.animate(snapshot_5384524);\n",
       "    });\n",
       "</script>"
      ]
     },
     "metadata": {},
     "output_type": "display_data"
    },
    {
     "data": {
      "text/html": [
       "<script id=\"myVizzu_e83daf2\">\n",
       "    chart_282e9ea = chart_282e9ea.then(chart => {\n",
       "        let script = document.getElementById(\"myVizzu_e83daf2\");\n",
       "        if (myVizzu_282e9ea.parentNode && myVizzu_282e9ea.parentNode.parentNode) {\n",
       "            let display = myVizzu_282e9ea.parentNode.parentNode.style.display;\n",
       "            myVizzu_282e9ea.parentNode.parentNode.style.display = \"none\";\n",
       "            script.parentNode.parentNode.style.display = display;\n",
       "        }\n",
       "        script.parentNode.insertBefore(myVizzu_282e9ea, script);\n",
       "        return chart.animate({\"config\": {\"title\": \"My first chart\"}});\n",
       "    });\n",
       "</script>"
      ]
     },
     "metadata": {},
     "output_type": "display_data"
    },
    {
     "data": {
      "text/html": [
       "<script>\n",
       "    let snapshot_0744652;\n",
       "    chart_282e9ea = chart_282e9ea.then(chart => {\n",
       "        snapshot_0744652 = chart.store();\n",
       "        return chart;\n",
       "    });\n",
       "</script>"
      ]
     },
     "metadata": {},
     "output_type": "display_data"
    }
   ],
   "source": [
    "chart.animate(snapshot1)\n",
    "\n",
    "chart.animate(Config({\n",
    "    \"title\": \"My first chart\"\n",
    "}))\n",
    "\n",
    "snapshot2 = chart.store()"
   ]
  },
  {
   "cell_type": "markdown",
   "id": "faee856f",
   "metadata": {},
   "source": [
    "Switching on the tooltips that appear on the chart elements when the user hovers over them with their mouse by adding the (tooltip, true) parameters to the chart.feature method."
   ]
  },
  {
   "cell_type": "code",
   "execution_count": 3,
   "id": "6a541934",
   "metadata": {},
   "outputs": [
    {
     "data": {
      "text/html": [
       "<script id=\"myVizzu_0798108\">\n",
       "    chart_282e9ea = chart_282e9ea.then(chart => {\n",
       "        let script = document.getElementById(\"myVizzu_0798108\");\n",
       "        if (myVizzu_282e9ea.parentNode && myVizzu_282e9ea.parentNode.parentNode) {\n",
       "            let display = myVizzu_282e9ea.parentNode.parentNode.style.display;\n",
       "            myVizzu_282e9ea.parentNode.parentNode.style.display = \"none\";\n",
       "            script.parentNode.parentNode.style.display = display;\n",
       "        }\n",
       "        script.parentNode.insertBefore(myVizzu_282e9ea, script);\n",
       "        return chart.animate(snapshot_0744652);\n",
       "    });\n",
       "</script>"
      ]
     },
     "metadata": {},
     "output_type": "display_data"
    },
    {
     "data": {
      "text/html": [
       "<script>\n",
       "    chart_282e9ea = chart_282e9ea.then(chart => {\n",
       "        chart.feature(\"tooltip\", true);\n",
       "        return chart;\n",
       "    });\n",
       "</script>"
      ]
     },
     "metadata": {},
     "output_type": "display_data"
    }
   ],
   "source": [
    "chart.animate(snapshot2)\n",
    "\n",
    "chart.feature(\"tooltip\", True)"
   ]
  }
 ],
 "metadata": {
  "kernelspec": {
   "display_name": "Python 3 (ipykernel)",
   "language": "python",
   "name": "python3"
  },
  "language_info": {
   "codemirror_mode": {
    "name": "ipython",
    "version": 3
   },
   "file_extension": ".py",
   "mimetype": "text/x-python",
   "name": "python",
   "nbconvert_exporter": "python",
   "pygments_lexer": "ipython3",
   "version": "3.8.10"
  }
 },
 "nbformat": 4,
 "nbformat_minor": 5
}
