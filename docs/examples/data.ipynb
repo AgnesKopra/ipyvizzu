{
 "cells": [
  {
   "cell_type": "markdown",
   "id": "9b68a06e",
   "metadata": {},
   "source": [
    "# Data\n",
    "\n",
    "## Data types\n",
    "\n",
    "Vizzu currently supports two types of data series: dimensions and measures. Dimensions slice the data cube Vizzu uses, whereas measures are values within the cube.\n",
    "\n",
    "Dimensions are categorical series that can contain strings and numbers, but both will be treated as strings. Temporal data such as dates or timestamps should also be added as dimensions. Vizzu will draw the elements on the chart in the order they are provided in the data set by default. Thus we suggest adding temporal data in a sorted format from oldest to newest.\n",
    "\n",
    "Measure in the current beta phase can only be numerical.\n",
    "Adding data\n",
    "\n",
    "There are multiple ways you can add data to Vizzu:\n",
    "\n",
    "* Specified by series - column after column if you think of a spreadsheet\n",
    "* Specified by records - row after row.\n",
    "* Data cube form\n",
    "\n",
    "Elements with a missing value should contain the number zero. `null`, `undefined` and empty cells will result in an error. In case of dimensions, add '' as a value to have a category without a name.\n",
    "\n",
    "In the first two cases, data has to be in first normal form. Here is an example of that:\n",
    "\n",
    "|Genres |\tTypes | Popularity |\n",
    "|---|---|---|\n",
    "|Pop \t |Hard \t|114|\n",
    "|Rock \t |Hard \t|96|\n",
    "|Jazz \t |Hard \t|78|\n",
    "|Metal \t |Hard \t|52|\n",
    "|Pop \t |Smooth \t|56|\n",
    "|Rock \t |Smooth \t|36|\n",
    "|Jazz \t |Smooth \t|174|\n",
    "|Metal \t |Smooth \t|121|\n",
    "|Pop \t |Experimental \t|127|\n",
    "|Rock \t |Experimental \t|83|\n",
    "|Jazz \t |Experimental \t|94|\n",
    "|Metal \t |Experimental \t|58|\n",
    "\n",
    "In the type parameter, you can set if a series is a dimension or a measure. Adding the type parameter is optional. If omitted, Vizzu will automatically select the type depending on the first element of the values array using the typeof operator. If all items are numbers, it will be declared as a measure, in any other case, a dimension.\n"
   ]
  },
  {
   "cell_type": "markdown",
   "id": "83fca0c8",
   "metadata": {},
   "source": [
    "Data specified by series:"
   ]
  },
  {
   "cell_type": "code",
   "execution_count": 2,
   "id": "bb92ccaf",
   "metadata": {},
   "outputs": [],
   "source": [
    "import ipyvizzu\n",
    "\n",
    "data_series = ipyvizzu.Data()\n",
    "data_series.add_serie(\n",
    "    \"Genres\",\n",
    "    [\"Pop\", \"Rock\", \"Jazz\", \"Metal\",\n",
    "     \"Pop\", \"Rock\", \"Jazz\", \"Metal\",\n",
    "     \"Pop\", \"Rock\", \"Jazz\", \"Metal\"],\n",
    "    type=\"dimension\"\n",
    ")\n",
    "data_series.add_serie(\n",
    "    \"Types\",\n",
    "    [\"Hard\", \"Hard\", \"Hard\", \"Hard\",\n",
    "     \"Smooth\", \"Smooth\", \"Smooth\", \"Smooth\",\n",
    "     \"Experimental\", \"Experimental\", \"Experimental\", \"Experimental\"],\n",
    "    type=\"dimension\"\n",
    ")\n",
    "data_series.add_serie(\n",
    "    \"Popularity\",\n",
    "    [114, 96, 78, 52, 56, 36, 174, 121, 127, 83, 94, 58],\n",
    "    type=\"measure\"\n",
    ")"
   ]
  },
  {
   "cell_type": "markdown",
   "id": "46210c8c",
   "metadata": {},
   "source": [
    "Data specified by records:"
   ]
  },
  {
   "cell_type": "code",
   "execution_count": 3,
   "id": "7db79113",
   "metadata": {},
   "outputs": [],
   "source": [
    "import ipyvizzu\n",
    "\n",
    "data_records = ipyvizzu.Data()\n",
    "\n",
    "data_records.add_serie('Genres', type='dimension')\n",
    "data_records.add_serie('Types', type='dimension')\n",
    "data_records.add_serie('Popularity', type='measure')\n",
    "\n",
    "records = [\n",
    "    ['Pop', 'Hard', 114],\n",
    "    ['Rock', 'Hard', 96],\n",
    "    ['Jazz', 'Hard', 78],\n",
    "    ['Metal', 'Hard', 52],\n",
    "    ['Pop', 'Smooth', 56],\n",
    "    ['Rock', 'Smooth', 36],\n",
    "    ['Jazz', 'Smooth', 174],\n",
    "    ['Metal', 'Smooth', 121],\n",
    "    ['Pop', 'Experimental', 127],\n",
    "    ['Rock', 'Experimental', 83],\n",
    "    ['Jazz', 'Experimental', 94],\n",
    "    ['Metal', 'Experimental', 58],\n",
    "]\n",
    "\n",
    "result = map(data_records.add_record, records)"
   ]
  },
  {
   "cell_type": "markdown",
   "id": "b2f94552",
   "metadata": {},
   "source": [
    "Data cube"
   ]
  },
  {
   "cell_type": "code",
   "execution_count": 4,
   "id": "1dcd113e",
   "metadata": {},
   "outputs": [],
   "source": [
    "import ipyvizzu\n",
    "\n",
    "data_cube = ipyvizzu.Data()\n",
    "\n",
    "data_cube.add_dimension('Genres', [ 'Pop', 'Rock', 'Jazz', 'Metal'])\n",
    "data_cube.add_dimension('Types', [ 'Hard', 'Smooth', 'Experimental' ])\n",
    "\n",
    "data_cube.add_measure(\n",
    "    'Popularity',\n",
    "    [\n",
    "        [114, 96, 78, 52],\n",
    "        [56, 36, 174, 121],\n",
    "        [127, 83, 94, 58],\n",
    "    ]\n",
    ")"
   ]
  }
 ],
 "metadata": {
  "kernelspec": {
   "display_name": "Python 3 (ipykernel)",
   "language": "python",
   "name": "python3"
  },
  "language_info": {
   "codemirror_mode": {
    "name": "ipython",
    "version": 3
   },
   "file_extension": ".py",
   "mimetype": "text/x-python",
   "name": "python",
   "nbconvert_exporter": "python",
   "pygments_lexer": "ipython3",
   "version": "3.10.1"
  }
 },
 "nbformat": 4,
 "nbformat_minor": 5
}
