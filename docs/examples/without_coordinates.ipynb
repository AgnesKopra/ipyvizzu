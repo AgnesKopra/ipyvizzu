{
 "cells": [
  {
   "cell_type": "markdown",
   "id": "59cd2f9b",
   "metadata": {},
   "source": [
    "## Without coordinates & noop channel\n",
    "\n",
    "Certain chart types have neither measures nor dimensions on the axes such as treemaps and bubble charts. This is a case when the noop channel comes in handy for grouping and stacking elements in these kinds of charts.\n",
    "\n",
    "To get to a treemap, we have to detach all dimensions and the measure from the axes and put two of them on the size channel, whereas the other dimension is still on the color channel. Since the same dimensions are used in both cases Vizzu will be able to animate between these states."
   ]
  },
  {
   "cell_type": "code",
   "execution_count": 1,
   "id": "1c575574",
   "metadata": {},
   "outputs": [
    {
     "data": {
      "text/html": [
       "<script id=\"myVizzu_77baf5d\">\n",
       "    document.getElementById(\"myVizzu_77baf5d\").parentNode.style.padding = \"0px\";\n",
       "</script>\n",
       "<div id=\"myVizzu_fc6881c\" style=\"width:800px; height:480px;\"/>\n",
       "<script>\n",
       "    let myVizzu_fc6881c = document.getElementById(\"myVizzu_fc6881c\")\n",
       "    let chart_fc6881c = import(\"https://cdn.jsdelivr.net/npm/vizzu@~0.4.0/dist/vizzu.min.js\").then(Vizzu => new Vizzu.default(\"myVizzu_fc6881c\").initializing);\n",
       "</script>"
      ]
     },
     "metadata": {},
     "output_type": "display_data"
    },
    {
     "data": {
      "text/html": [
       "<script id=\"myVizzu_c7e3386\">\n",
       "    document.getElementById(\"myVizzu_c7e3386\").parentNode.style.padding = \"0px\";\n",
       "</script>\n",
       "<div id=\"myVizzu_8f09723\"/>\n",
       "<script>\n",
       "    chart_fc6881c = chart_fc6881c.then(chart => {\n",
       "        document.getElementById(\"myVizzu_8f09723\").appendChild(myVizzu_fc6881c);\n",
       "        return chart.animate({\"data\": {\"dimensions\": [{\"name\": \"Genres\", \"values\": [\"Pop\", \"Rock\", \"Jazz\", \"Metal\"]}, {\"name\": \"Types\", \"values\": [\"Hard\", \"Smooth\", \"Experimental\"]}], \"measures\": [{\"name\": \"Popularity\", \"values\": [[114, 96, 78, 52], [56, 36, 174, 121], [127, 83, 94, 58]]}]}})\n",
       "    });\n",
       "</script>"
      ]
     },
     "metadata": {},
     "output_type": "display_data"
    },
    {
     "data": {
      "text/html": [
       "<script id=\"myVizzu_5b2fb0a\">\n",
       "    document.getElementById(\"myVizzu_5b2fb0a\").parentNode.style.padding = \"0px\";\n",
       "</script>\n",
       "<div id=\"myVizzu_529cfa4\"/>\n",
       "<script>\n",
       "    chart_fc6881c = chart_fc6881c.then(chart => {\n",
       "        document.getElementById(\"myVizzu_529cfa4\").appendChild(myVizzu_fc6881c);\n",
       "        return chart.animate({\"config\": {\"channels\": {\"y\": {\"set\": [\"Types\", \"Popularity\"]}, \"x\": {\"set\": \"Genres\"}, \"label\": {\"attach\": \"Popularity\"}}, \"color\": {\"set\": \"Types\"}, \"title\": \"Treemap\"}})\n",
       "    });\n",
       "</script>"
      ]
     },
     "metadata": {},
     "output_type": "display_data"
    },
    {
     "data": {
      "text/html": [
       "<script id=\"myVizzu_01d4ce9\">\n",
       "    document.getElementById(\"myVizzu_01d4ce9\").parentNode.style.padding = \"0px\";\n",
       "</script>\n",
       "<div id=\"myVizzu_5b7a89b\"/>\n",
       "<script>\n",
       "    chart_fc6881c = chart_fc6881c.then(chart => {\n",
       "        document.getElementById(\"myVizzu_5b7a89b\").appendChild(myVizzu_fc6881c);\n",
       "        return chart.animate({\"config\": {\"channels\": {\"y\": {\"set\": null}, \"x\": {\"set\": null}, \"size\": {\"attach\": [\"Genres\", \"Popularity\"]}}}})\n",
       "    });\n",
       "</script>"
      ]
     },
     "metadata": {},
     "output_type": "display_data"
    },
    {
     "data": {
      "text/html": [
       "<script id=\"myVizzu_97b728c\">\n",
       "    document.getElementById(\"myVizzu_97b728c\").parentNode.style.padding = \"0px\";\n",
       "</script>\n",
       "<script>\n",
       "    let snapshot_344379c;\n",
       "    chart_fc6881c = chart_fc6881c.then(chart => {\n",
       "        snapshot_344379c = chart.store();\n",
       "        return chart;\n",
       "    });\n",
       "</script>"
      ]
     },
     "metadata": {},
     "output_type": "display_data"
    }
   ],
   "source": [
    "from ipyvizzu import Chart, Data, Config\n",
    "\n",
    "chart = Chart()\n",
    "\n",
    "data = Data.from_json(\"../data/music_example_data.json\")\n",
    "\n",
    "chart.animate(data)\n",
    "\n",
    "chart.animate(Config({\n",
    "    \"channels\": {\n",
    "        \"y\": {\n",
    "            \"set\": [\"Types\", \"Popularity\"]\n",
    "        },\n",
    "        \"x\": {\n",
    "            \"set\": \"Genres\"\n",
    "        },\n",
    "        \"label\": {\n",
    "            \"attach\": \"Popularity\"\n",
    "        }\n",
    "    },\n",
    "    \"color\": {\n",
    "        \"set\": \"Types\"\n",
    "    },\n",
    "    \"title\": \"Treemap\"\n",
    "}))\n",
    "\n",
    "chart.animate(Config({\n",
    "    \"channels\": {\n",
    "        \"y\": {\n",
    "            \"set\": None,\n",
    "        },\n",
    "        \"x\": {\n",
    "            \"set\": None,\n",
    "        },\n",
    "        \"size\": {\n",
    "            \"attach\": [\"Genres\", \"Popularity\"],\n",
    "        }\n",
    "    }\n",
    "}))\n",
    "\n",
    "snapshot1 = chart.store()"
   ]
  },
  {
   "cell_type": "markdown",
   "id": "e0bdcefc",
   "metadata": {},
   "source": [
    "Getting from a treemap to a bubble chart is simply by changing the geometry to circle. This bubble chart is stacked by the Type dimension that is on the size channel - this is why the bubbles are in separate, small groups."
   ]
  },
  {
   "cell_type": "code",
   "execution_count": 2,
   "id": "3cdf36b5",
   "metadata": {},
   "outputs": [
    {
     "data": {
      "text/html": [
       "<script id=\"myVizzu_6e36c89\">\n",
       "    document.getElementById(\"myVizzu_6e36c89\").parentNode.style.padding = \"0px\";\n",
       "</script>\n",
       "<div id=\"myVizzu_5488847\"/>\n",
       "<script>\n",
       "    chart_fc6881c = chart_fc6881c.then(chart => {\n",
       "        document.getElementById(\"myVizzu_5488847\").appendChild(myVizzu_fc6881c);\n",
       "        return chart.animate(snapshot_344379c)\n",
       "    });\n",
       "</script>"
      ]
     },
     "metadata": {},
     "output_type": "display_data"
    },
    {
     "data": {
      "text/html": [
       "<script id=\"myVizzu_667b7fc\">\n",
       "    document.getElementById(\"myVizzu_667b7fc\").parentNode.style.padding = \"0px\";\n",
       "</script>\n",
       "<div id=\"myVizzu_6fbbcda\"/>\n",
       "<script>\n",
       "    chart_fc6881c = chart_fc6881c.then(chart => {\n",
       "        document.getElementById(\"myVizzu_6fbbcda\").appendChild(myVizzu_fc6881c);\n",
       "        return chart.animate({\"config\": {\"title\": \"Bubble chart - stacked\"}})\n",
       "    });\n",
       "</script>"
      ]
     },
     "metadata": {},
     "output_type": "display_data"
    },
    {
     "data": {
      "text/html": [
       "<script id=\"myVizzu_4e91215\">\n",
       "    document.getElementById(\"myVizzu_4e91215\").parentNode.style.padding = \"0px\";\n",
       "</script>\n",
       "<div id=\"myVizzu_e9235dd\"/>\n",
       "<script>\n",
       "    chart_fc6881c = chart_fc6881c.then(chart => {\n",
       "        document.getElementById(\"myVizzu_e9235dd\").appendChild(myVizzu_fc6881c);\n",
       "        return chart.animate({\"config\": {\"geometry\": \"circle\"}})\n",
       "    });\n",
       "</script>"
      ]
     },
     "metadata": {},
     "output_type": "display_data"
    },
    {
     "data": {
      "text/html": [
       "<script id=\"myVizzu_5180938\">\n",
       "    document.getElementById(\"myVizzu_5180938\").parentNode.style.padding = \"0px\";\n",
       "</script>\n",
       "<script>\n",
       "    let snapshot_a0a82d0;\n",
       "    chart_fc6881c = chart_fc6881c.then(chart => {\n",
       "        snapshot_a0a82d0 = chart.store();\n",
       "        return chart;\n",
       "    });\n",
       "</script>"
      ]
     },
     "metadata": {},
     "output_type": "display_data"
    }
   ],
   "source": [
    "chart.animate(snapshot1)\n",
    "\n",
    "chart.animate(Config({\"title\": \"Bubble chart - stacked\"}))\n",
    "\n",
    "chart.animate(Config({\n",
    "    \"geometry\": \"circle\",\n",
    "}))\n",
    "\n",
    "snapshot2 = chart.store()"
   ]
  },
  {
   "cell_type": "markdown",
   "id": "f57e6095",
   "metadata": {},
   "source": [
    "In order to show all bubbles as one group, we use the noop (no operations) channel for the Genres dimension. The noop channel enables us to have a dimension on the chart, that doesn’t affect any parameter of the elements, only their count."
   ]
  },
  {
   "cell_type": "code",
   "execution_count": 3,
   "id": "4fc62e64",
   "metadata": {},
   "outputs": [
    {
     "data": {
      "text/html": [
       "<script id=\"myVizzu_e6e2ef8\">\n",
       "    document.getElementById(\"myVizzu_e6e2ef8\").parentNode.style.padding = \"0px\";\n",
       "</script>\n",
       "<div id=\"myVizzu_4e8df09\"/>\n",
       "<script>\n",
       "    chart_fc6881c = chart_fc6881c.then(chart => {\n",
       "        document.getElementById(\"myVizzu_4e8df09\").appendChild(myVizzu_fc6881c);\n",
       "        return chart.animate(snapshot_a0a82d0)\n",
       "    });\n",
       "</script>"
      ]
     },
     "metadata": {},
     "output_type": "display_data"
    },
    {
     "data": {
      "text/html": [
       "<script id=\"myVizzu_eb22941\">\n",
       "    document.getElementById(\"myVizzu_eb22941\").parentNode.style.padding = \"0px\";\n",
       "</script>\n",
       "<div id=\"myVizzu_c18ed00\"/>\n",
       "<script>\n",
       "    chart_fc6881c = chart_fc6881c.then(chart => {\n",
       "        document.getElementById(\"myVizzu_c18ed00\").appendChild(myVizzu_fc6881c);\n",
       "        return chart.animate({\"config\": {\"title\": \"Bubble chart - grouped - using the noop channel\"}})\n",
       "    });\n",
       "</script>"
      ]
     },
     "metadata": {},
     "output_type": "display_data"
    },
    {
     "data": {
      "text/html": [
       "<script id=\"myVizzu_1c6eea2\">\n",
       "    document.getElementById(\"myVizzu_1c6eea2\").parentNode.style.padding = \"0px\";\n",
       "</script>\n",
       "<div id=\"myVizzu_dfe7863\"/>\n",
       "<script>\n",
       "    chart_fc6881c = chart_fc6881c.then(chart => {\n",
       "        document.getElementById(\"myVizzu_dfe7863\").appendChild(myVizzu_fc6881c);\n",
       "        return chart.animate({\"config\": {\"channels\": {\"size\": {\"detach\": \"Genres\"}, \"noop\": {\"set\": \"Genres\"}}}})\n",
       "    });\n",
       "</script>"
      ]
     },
     "metadata": {},
     "output_type": "display_data"
    }
   ],
   "source": [
    "chart.animate(snapshot2)\n",
    "\n",
    "chart.animate(Config({\"title\": \"Bubble chart - grouped - using the noop channel\"}))\n",
    "\n",
    "chart.animate(Config({\n",
    "    \"channels\": {\n",
    "        \"size\": {\n",
    "            \"detach\": 'Genres'\n",
    "        },\n",
    "        \"noop\": {\n",
    "            \"set\": 'Genres'\n",
    "        }\n",
    "    }\n",
    "}))"
   ]
  }
 ],
 "metadata": {
  "kernelspec": {
   "display_name": "Python 3 (ipykernel)",
   "language": "python",
   "name": "python3"
  },
  "language_info": {
   "codemirror_mode": {
    "name": "ipython",
    "version": 3
   },
   "file_extension": ".py",
   "mimetype": "text/x-python",
   "name": "python",
   "nbconvert_exporter": "python",
   "pygments_lexer": "ipython3",
   "version": "3.8.10"
  }
 },
 "nbformat": 4,
 "nbformat_minor": 5
}
