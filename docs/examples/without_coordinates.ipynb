{
 "cells": [
  {
   "cell_type": "markdown",
   "id": "59cd2f9b",
   "metadata": {},
   "source": [
    "## Without coordinates & noop channel\n",
    "\n",
    "Certain chart types have neither measures nor dimensions on the axes such as treemaps and bubble charts. This is a case when the noop channel comes in handy for grouping and stacking elements in these kinds of charts.\n",
    "\n",
    "To get to a treemap, we have to detach all dimensions and the measure from the axes and put two of them on the size channel, whereas the other dimension is still on the color channel. Since the same dimensions are used in both cases Vizzu will be able to animate between these states."
   ]
  },
  {
   "cell_type": "code",
   "execution_count": 1,
   "id": "1c575574",
   "metadata": {},
   "outputs": [
    {
     "data": {
      "text/html": [
       "<script id=\"myVizzu_6f01518\">\n",
       "        document.getElementById(\"myVizzu_6f01518\").parentNode.style.padding = \"0px\";\n",
       "        </script>\n",
       "<div id=\"myVizzu_bc26963\" style=\"width:800px; height:480px;\"/>\n",
       "        <script>\n",
       "        let myVizzu_bc26963 = document.getElementById(\"myVizzu_bc26963\")\n",
       "        let chart_bc26963 = import(\"https://cdn.jsdelivr.net/npm/vizzu@~0.4.0/dist/vizzu.min.js\").then(Vizzu => new Vizzu.default(\"myVizzu_bc26963\").initializing);\n",
       "        </script>"
      ]
     },
     "metadata": {},
     "output_type": "display_data"
    },
    {
     "data": {
      "text/html": [
       "<script id=\"myVizzu_6986e41\">\n",
       "        document.getElementById(\"myVizzu_6986e41\").parentNode.style.padding = \"0px\";\n",
       "        </script>\n",
       "<div id=\"myVizzu_9123a1b\"/>\n",
       "        <script>\n",
       "        \n",
       "        chart_bc26963 = chart_bc26963.then(chart => {\n",
       "            document.getElementById(\"myVizzu_9123a1b\").appendChild(myVizzu_bc26963);\n",
       "            return chart.animate({\"data\": {\"dimensions\": [{\"name\": \"Genres\", \"values\": [\"Pop\", \"Rock\", \"Jazz\", \"Metal\"]}, {\"name\": \"Types\", \"values\": [\"Hard\", \"Smooth\", \"Experimental\"]}], \"measures\": [{\"name\": \"Popularity\", \"values\": [[114, 96, 78, 52], [56, 36, 174, 121], [127, 83, 94, 58]]}]}})\n",
       "        });\n",
       "        </script>"
      ]
     },
     "metadata": {},
     "output_type": "display_data"
    },
    {
     "data": {
      "text/html": [
       "<script id=\"myVizzu_883a6fb\">\n",
       "        document.getElementById(\"myVizzu_883a6fb\").parentNode.style.padding = \"0px\";\n",
       "        </script>\n",
       "<div id=\"myVizzu_c3b223d\"/>\n",
       "        <script>\n",
       "        \n",
       "        chart_bc26963 = chart_bc26963.then(chart => {\n",
       "            document.getElementById(\"myVizzu_c3b223d\").appendChild(myVizzu_bc26963);\n",
       "            return chart.animate({\"config\": {\"channels\": {\"y\": {\"set\": [\"Types\", \"Popularity\"]}, \"x\": {\"set\": \"Genres\"}, \"label\": {\"attach\": \"Popularity\"}}, \"color\": {\"set\": \"Types\"}, \"title\": \"Treemap\"}})\n",
       "        });\n",
       "        </script>"
      ]
     },
     "metadata": {},
     "output_type": "display_data"
    },
    {
     "data": {
      "text/html": [
       "<script id=\"myVizzu_82bf0a7\">\n",
       "        document.getElementById(\"myVizzu_82bf0a7\").parentNode.style.padding = \"0px\";\n",
       "        </script>\n",
       "<div id=\"myVizzu_cbff3f7\"/>\n",
       "        <script>\n",
       "        \n",
       "        chart_bc26963 = chart_bc26963.then(chart => {\n",
       "            document.getElementById(\"myVizzu_cbff3f7\").appendChild(myVizzu_bc26963);\n",
       "            return chart.animate({\"config\": {\"channels\": {\"y\": {\"set\": null}, \"x\": {\"set\": null}, \"size\": {\"attach\": [\"Genres\", \"Popularity\"]}}}})\n",
       "        });\n",
       "        </script>"
      ]
     },
     "metadata": {},
     "output_type": "display_data"
    },
    {
     "data": {
      "text/html": [
       "<script id=\"myVizzu_8810d05\">\n",
       "        document.getElementById(\"myVizzu_8810d05\").parentNode.style.padding = \"0px\";\n",
       "        </script>\n",
       "<script>\n",
       "        let snapshot_353eeb6;\n",
       "        chart_bc26963 = chart_bc26963.then(chart => {\n",
       "            snapshot_353eeb6 = chart.store();\n",
       "            return chart;\n",
       "        });\n",
       "        </script>"
      ]
     },
     "metadata": {},
     "output_type": "display_data"
    }
   ],
   "source": [
    "from ipyvizzu import Chart, Data, Config\n",
    "\n",
    "chart = Chart()\n",
    "\n",
    "data = Data.from_json(\"../data/music_example_data.json\")\n",
    "\n",
    "chart.animate(data)\n",
    "\n",
    "chart.animate(Config({\n",
    "    \"channels\": {\n",
    "        \"y\": {\n",
    "            \"set\": [\"Types\", \"Popularity\"]\n",
    "        },\n",
    "        \"x\": {\n",
    "            \"set\": \"Genres\"\n",
    "        },\n",
    "        \"label\": {\n",
    "            \"attach\": \"Popularity\"\n",
    "        }\n",
    "    },\n",
    "    \"color\": {\n",
    "        \"set\": \"Types\"\n",
    "    },\n",
    "    \"title\": \"Treemap\"\n",
    "}))\n",
    "\n",
    "chart.animate(Config({\n",
    "    \"channels\": {\n",
    "        \"y\": {\n",
    "            \"set\": None,\n",
    "        },\n",
    "        \"x\": {\n",
    "            \"set\": None,\n",
    "        },\n",
    "        \"size\": {\n",
    "            \"attach\": [\"Genres\", \"Popularity\"],\n",
    "        }\n",
    "    }\n",
    "}))\n",
    "\n",
    "snapshot1 = chart.store()"
   ]
  },
  {
   "cell_type": "markdown",
   "id": "e0bdcefc",
   "metadata": {},
   "source": [
    "Getting from a treemap to a bubble chart is simply by changing the geometry to circle. This bubble chart is stacked by the Type dimension that is on the size channel - this is why the bubbles are in separate, small groups."
   ]
  },
  {
   "cell_type": "code",
   "execution_count": 2,
   "id": "3cdf36b5",
   "metadata": {},
   "outputs": [
    {
     "data": {
      "text/html": [
       "<script id=\"myVizzu_49d0f11\">\n",
       "        document.getElementById(\"myVizzu_49d0f11\").parentNode.style.padding = \"0px\";\n",
       "        </script>\n",
       "<div id=\"myVizzu_dbbe18c\"/>\n",
       "        <script>\n",
       "        \n",
       "        chart_bc26963 = chart_bc26963.then(chart => {\n",
       "            document.getElementById(\"myVizzu_dbbe18c\").appendChild(myVizzu_bc26963);\n",
       "            return chart.animate(snapshot_353eeb6)\n",
       "        });\n",
       "        </script>"
      ]
     },
     "metadata": {},
     "output_type": "display_data"
    },
    {
     "data": {
      "text/html": [
       "<script id=\"myVizzu_5043152\">\n",
       "        document.getElementById(\"myVizzu_5043152\").parentNode.style.padding = \"0px\";\n",
       "        </script>\n",
       "<div id=\"myVizzu_ad44c47\"/>\n",
       "        <script>\n",
       "        \n",
       "        chart_bc26963 = chart_bc26963.then(chart => {\n",
       "            document.getElementById(\"myVizzu_ad44c47\").appendChild(myVizzu_bc26963);\n",
       "            return chart.animate({\"config\": {\"title\": \"Bubble chart - stacked\"}})\n",
       "        });\n",
       "        </script>"
      ]
     },
     "metadata": {},
     "output_type": "display_data"
    },
    {
     "data": {
      "text/html": [
       "<script id=\"myVizzu_a65b3ed\">\n",
       "        document.getElementById(\"myVizzu_a65b3ed\").parentNode.style.padding = \"0px\";\n",
       "        </script>\n",
       "<div id=\"myVizzu_bb40187\"/>\n",
       "        <script>\n",
       "        \n",
       "        chart_bc26963 = chart_bc26963.then(chart => {\n",
       "            document.getElementById(\"myVizzu_bb40187\").appendChild(myVizzu_bc26963);\n",
       "            return chart.animate({\"config\": {\"geometry\": \"circle\"}})\n",
       "        });\n",
       "        </script>"
      ]
     },
     "metadata": {},
     "output_type": "display_data"
    },
    {
     "data": {
      "text/html": [
       "<script id=\"myVizzu_139dc2e\">\n",
       "        document.getElementById(\"myVizzu_139dc2e\").parentNode.style.padding = \"0px\";\n",
       "        </script>\n",
       "<script>\n",
       "        let snapshot_5f14828;\n",
       "        chart_bc26963 = chart_bc26963.then(chart => {\n",
       "            snapshot_5f14828 = chart.store();\n",
       "            return chart;\n",
       "        });\n",
       "        </script>"
      ]
     },
     "metadata": {},
     "output_type": "display_data"
    }
   ],
   "source": [
    "chart.animate(snapshot1)\n",
    "\n",
    "chart.animate(Config({\"title\": \"Bubble chart - stacked\"}))\n",
    "\n",
    "chart.animate(Config({\n",
    "    \"geometry\": \"circle\",\n",
    "}))\n",
    "\n",
    "snapshot2 = chart.store()"
   ]
  },
  {
   "cell_type": "markdown",
   "id": "f57e6095",
   "metadata": {},
   "source": [
    "In order to show all bubbles as one group, we use the noop (no operations) channel for the Genres dimension. The noop channel enables us to have a dimension on the chart, that doesn’t affect any parameter of the elements, only their count."
   ]
  },
  {
   "cell_type": "code",
   "execution_count": 3,
   "id": "4fc62e64",
   "metadata": {},
   "outputs": [
    {
     "data": {
      "text/html": [
       "<script id=\"myVizzu_dd519b5\">\n",
       "        document.getElementById(\"myVizzu_dd519b5\").parentNode.style.padding = \"0px\";\n",
       "        </script>\n",
       "<div id=\"myVizzu_43a4acd\"/>\n",
       "        <script>\n",
       "        \n",
       "        chart_bc26963 = chart_bc26963.then(chart => {\n",
       "            document.getElementById(\"myVizzu_43a4acd\").appendChild(myVizzu_bc26963);\n",
       "            return chart.animate(snapshot_5f14828)\n",
       "        });\n",
       "        </script>"
      ]
     },
     "metadata": {},
     "output_type": "display_data"
    },
    {
     "data": {
      "text/html": [
       "<script id=\"myVizzu_070f21d\">\n",
       "        document.getElementById(\"myVizzu_070f21d\").parentNode.style.padding = \"0px\";\n",
       "        </script>\n",
       "<div id=\"myVizzu_e0df8db\"/>\n",
       "        <script>\n",
       "        \n",
       "        chart_bc26963 = chart_bc26963.then(chart => {\n",
       "            document.getElementById(\"myVizzu_e0df8db\").appendChild(myVizzu_bc26963);\n",
       "            return chart.animate({\"config\": {\"title\": \"Bubble chart - grouped - using the noop channel\"}})\n",
       "        });\n",
       "        </script>"
      ]
     },
     "metadata": {},
     "output_type": "display_data"
    },
    {
     "data": {
      "text/html": [
       "<script id=\"myVizzu_3d7881e\">\n",
       "        document.getElementById(\"myVizzu_3d7881e\").parentNode.style.padding = \"0px\";\n",
       "        </script>\n",
       "<div id=\"myVizzu_3f9bd9c\"/>\n",
       "        <script>\n",
       "        \n",
       "        chart_bc26963 = chart_bc26963.then(chart => {\n",
       "            document.getElementById(\"myVizzu_3f9bd9c\").appendChild(myVizzu_bc26963);\n",
       "            return chart.animate({\"config\": {\"channels\": {\"size\": {\"detach\": \"Genres\"}, \"noop\": {\"set\": \"Genres\"}}}})\n",
       "        });\n",
       "        </script>"
      ]
     },
     "metadata": {},
     "output_type": "display_data"
    }
   ],
   "source": [
    "chart.animate(snapshot2)\n",
    "\n",
    "chart.animate(Config({\"title\": \"Bubble chart - grouped - using the noop channel\"}))\n",
    "\n",
    "chart.animate(Config({\n",
    "    \"channels\": {\n",
    "        \"size\": {\n",
    "            \"detach\": 'Genres'\n",
    "        },\n",
    "        \"noop\": {\n",
    "            \"set\": 'Genres'\n",
    "        }\n",
    "    }\n",
    "}))"
   ]
  }
 ],
 "metadata": {
  "kernelspec": {
   "display_name": "Python 3 (ipykernel)",
   "language": "python",
   "name": "python3"
  },
  "language_info": {
   "codemirror_mode": {
    "name": "ipython",
    "version": 3
   },
   "file_extension": ".py",
   "mimetype": "text/x-python",
   "name": "python",
   "nbconvert_exporter": "python",
   "pygments_lexer": "ipython3",
   "version": "3.8.10"
  }
 },
 "nbformat": 4,
 "nbformat_minor": 5
}
