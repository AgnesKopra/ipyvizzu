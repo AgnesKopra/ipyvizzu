{
 "cells": [
  {
   "cell_type": "markdown",
   "id": "59cd2f9b",
   "metadata": {},
   "source": [
    "## Without coordinates\n",
    "\n",
    "Certain chart types have neither measures nor dimensions on the axes such as treemaps and bubble charts.\n",
    "\n",
    "To get to a treemap, we have to detach all dimensions and the measure from the axes and put two of them on the size channel, whereas the other dimension is still on the color channel. Since the same dimensions are used in both cases Vizzu will be able to animate between these states."
   ]
  },
  {
   "cell_type": "code",
   "execution_count": 1,
   "id": "1c575574",
   "metadata": {},
   "outputs": [
    {
     "data": {
      "text/html": [
       "\n",
       "<div id=\"myVizzu_140155633354640\" style=\"width:800px; height:480px;\" />\n",
       "<script type=\"module\">\n",
       "import Vizzu from 'https://cdn.jsdelivr.net/npm/vizzu@latest/dist/vizzu.min.js';\n",
       "\n",
       "let chart = new Vizzu('myVizzu_140155633354640');\n",
       "chart.initializing.then( chart => {\n",
       "\n",
       "chart.animate({\"data\": {\"dimensions\": [{\"name\": \"Genres\", \"values\": [\"Pop\", \"Rock\", \"Jazz\", \"Metal\"]}, {\"name\": \"Types\", \"values\": [\"Hard\", \"Smooth\", \"Experimental\"]}], \"measures\": [{\"name\": \"Popularity\", \"values\": [[114, 96, 78, 52], [56, 36, 174, 121], [127, 83, 94, 58]]}]}});\n",
       "chart.animate({\"config\": {\"channels\": {\"y\": {\"set\": [\"Popularity\", \"Types\"]}, \"x\": {\"set\": \"Genres\"}}}});\n",
       "chart.animate({\"config\": {\"channels\": {\"label\": {\"attach\": [\"Popularity\"]}}}});\n",
       "chart.animate({\"config\": {\"color\": {\"set\": [\"Genres\"]}}});\n",
       "chart.animate({\"config\": {\"channels\": {\"y\": {\"set\": null}, \"x\": {\"set\": null}, \"size\": {\"attach\": [\"Genres\", \"Popularity\"]}}}});\n",
       "} );\n",
       "</script>"
      ]
     },
     "metadata": {},
     "output_type": "display_data"
    }
   ],
   "source": [
    "from ipyvizzu import Chart, Data, Config\n",
    "\n",
    "data = Data()\n",
    "\n",
    "data.add_dimension('Genres', [ 'Pop', 'Rock', 'Jazz', 'Metal'])\n",
    "data.add_dimension('Types', [ 'Hard', 'Smooth', 'Experimental' ])\n",
    "\n",
    "data.add_measure(\n",
    "    'Popularity',\n",
    "    [\n",
    "        [114, 96, 78, 52],\n",
    "        [56, 36, 174, 121],\n",
    "        [127, 83, 94, 58],\n",
    "    ]\n",
    ")\n",
    "\n",
    "chart = Chart()\n",
    "chart.animate(data)\n",
    "chart.animate(Config({\"channels\": {\"y\": {\"set\": [\"Popularity\", \"Types\"]}, \"x\": {\"set\": \"Genres\"}}}))\n",
    "chart.animate(Config({\"channels\": {\"label\": {\"attach\": [\"Popularity\"]}}}))\n",
    "chart.animate(Config({\"color\": {\"set\": [\"Genres\"]}}))\n",
    "chart.animate(Config({\n",
    "    \"channels\": {\n",
    "        \"y\": {\n",
    "            \"set\": None,\n",
    "        },\n",
    "        \"x\": {\n",
    "            \"set\": None,\n",
    "        },\n",
    "        \"size\": {\n",
    "            \"attach\": [\"Genres\", \"Popularity\"],\n",
    "        }\n",
    "    }\n",
    "}))\n",
    "\n",
    "\n",
    "chart.show()"
   ]
  },
  {
   "cell_type": "markdown",
   "id": "e0bdcefc",
   "metadata": {},
   "source": [
    "Getting from a treemap to a bubble chart is simply by changing the geometry to circle. This bubble chart is stacked by the Type dimension that is on the size channel - this is why the bubbles are in separate, small groups."
   ]
  },
  {
   "cell_type": "code",
   "execution_count": 2,
   "id": "3cdf36b5",
   "metadata": {},
   "outputs": [
    {
     "data": {
      "text/html": [
       "\n",
       "<div id=\"myVizzu_140155633366352\" style=\"width:800px; height:480px;\" />\n",
       "<script type=\"module\">\n",
       "import Vizzu from 'https://cdn.jsdelivr.net/npm/vizzu@latest/dist/vizzu.min.js';\n",
       "\n",
       "let chart = new Vizzu('myVizzu_140155633366352');\n",
       "chart.initializing.then( chart => {\n",
       "\n",
       "chart.animate({\"data\": {\"dimensions\": [{\"name\": \"Genres\", \"values\": [\"Pop\", \"Rock\", \"Jazz\", \"Metal\"]}, {\"name\": \"Types\", \"values\": [\"Hard\", \"Smooth\", \"Experimental\"]}], \"measures\": [{\"name\": \"Popularity\", \"values\": [[114, 96, 78, 52], [56, 36, 174, 121], [127, 83, 94, 58]]}]}});\n",
       "chart.animate({\"config\": {\"channels\": {\"y\": {\"set\": [\"Popularity\", \"Types\"]}, \"x\": {\"set\": \"Genres\"}}}});\n",
       "chart.animate({\"config\": {\"channels\": {\"label\": {\"attach\": [\"Popularity\"]}}}});\n",
       "chart.animate({\"config\": {\"color\": {\"set\": [\"Genres\"]}}});\n",
       "chart.animate({\"config\": {\"channels\": {\"y\": {\"set\": null}, \"x\": {\"set\": null}, \"size\": {\"attach\": [\"Genres\", \"Popularity\"]}}}});\n",
       "chart.animate({\"config\": {\"geometry\": \"circle\"}});\n",
       "} );\n",
       "</script>"
      ]
     },
     "metadata": {},
     "output_type": "display_data"
    }
   ],
   "source": [
    "from ipyvizzu import Chart, Data, Config\n",
    "\n",
    "data = Data()\n",
    "\n",
    "data.add_dimension('Genres', [ 'Pop', 'Rock', 'Jazz', 'Metal'])\n",
    "data.add_dimension('Types', [ 'Hard', 'Smooth', 'Experimental' ])\n",
    "\n",
    "data.add_measure(\n",
    "    'Popularity',\n",
    "    [\n",
    "        [114, 96, 78, 52],\n",
    "        [56, 36, 174, 121],\n",
    "        [127, 83, 94, 58],\n",
    "    ]\n",
    ")\n",
    "\n",
    "chart = Chart()\n",
    "chart.animate(data)\n",
    "chart.animate(Config({\"channels\": {\"y\": {\"set\": [\"Popularity\", \"Types\"]}, \"x\": {\"set\": \"Genres\"}}}))\n",
    "chart.animate(Config({\"channels\": {\"label\": {\"attach\": [\"Popularity\"]}}}))\n",
    "chart.animate(Config({\"color\": {\"set\": [\"Genres\"]}}))\n",
    "chart.animate(Config({\n",
    "    \"channels\": {\n",
    "        \"y\": {\n",
    "            \"set\": None,\n",
    "        },\n",
    "        \"x\": {\n",
    "            \"set\": None,\n",
    "        },\n",
    "        \"size\": {\n",
    "            \"attach\": [\"Genres\", \"Popularity\"],\n",
    "        }\n",
    "    }\n",
    "}))\n",
    "chart.animate(Config({\n",
    "    \"geometry\": \"circle\",\n",
    "}))\n",
    "\n",
    "chart.show()"
   ]
  }
 ],
 "metadata": {
  "kernelspec": {
   "display_name": "Python 3 (ipykernel)",
   "language": "python",
   "name": "python3"
  },
  "language_info": {
   "codemirror_mode": {
    "name": "ipython",
    "version": 3
   },
   "file_extension": ".py",
   "mimetype": "text/x-python",
   "name": "python",
   "nbconvert_exporter": "python",
   "pygments_lexer": "ipython3",
   "version": "3.10.1"
  }
 },
 "nbformat": 4,
 "nbformat_minor": 5
}
