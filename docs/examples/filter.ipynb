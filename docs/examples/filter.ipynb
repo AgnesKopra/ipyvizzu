{
 "cells": [
  {
   "cell_type": "markdown",
   "id": "6dbc8df4",
   "metadata": {},
   "source": [
    "## Filtering & adding new records\n",
    "\n",
    "Filtering enables you to zoom in or out within a chart, allowing the viewer to focus on certain selected elements, or get more context. You can also add new records to the data on the chart which makes it easy to work with real-time sources.\n",
    "\n",
    "**Note:** Currently `Filter` only accepts JavaScript expression as string. Data fields can be accessed via `record` object, see the examples below.\n",
    "\n",
    "We add two items from the Genres dimension - using the || operator - to the filter, so the chart elements that belong to the other two items will vanish from the chart."
   ]
  },
  {
   "cell_type": "code",
   "execution_count": 1,
   "id": "d5da6794",
   "metadata": {},
   "outputs": [
    {
     "data": {
      "text/html": [
       "<script id=\"myVizzu_e356ab5\">\n",
       "    myVizzu_e356ab5.parentNode.parentNode.style.display = \"none\";\n",
       "    let myVizzu_9cacedf = document.createElement(\"div\");\n",
       "    myVizzu_9cacedf.style.cssText = \"width: 800px; height: 480px;\";\n",
       "    let chart_9cacedf = import(\"https://cdn.jsdelivr.net/npm/vizzu@~0.4.0/dist/vizzu.min.js\").then(Vizzu => new Vizzu.default(myVizzu_9cacedf).initializing);\n",
       "</script>"
      ]
     },
     "metadata": {},
     "output_type": "display_data"
    },
    {
     "data": {
      "text/html": [
       "<script id=\"myVizzu_a60f051\">\n",
       "    let display_a60f051 = myVizzu_a60f051.parentNode.parentNode.style.display;\n",
       "    myVizzu_a60f051.parentNode.parentNode.style.display = \"none\";\n",
       "    chart_9cacedf = chart_9cacedf.then(chart => {\n",
       "        if (myVizzu_9cacedf.parentNode && myVizzu_9cacedf.parentNode.parentNode) {\n",
       "            myVizzu_9cacedf.parentNode.parentNode.style.display = \"none\";\n",
       "        }\n",
       "        myVizzu_a60f051.parentNode.parentNode.style.display = display_a60f051;\n",
       "        myVizzu_a60f051.parentNode.insertBefore(myVizzu_9cacedf, myVizzu_a60f051);\n",
       "        return chart.animate({\"data\": {\"dimensions\": [{\"name\": \"Genres\", \"values\": [\"Pop\", \"Rock\", \"Jazz\", \"Metal\"]}, {\"name\": \"Types\", \"values\": [\"Hard\", \"Smooth\", \"Experimental\"]}], \"measures\": [{\"name\": \"Popularity\", \"values\": [[114, 96, 78, 52], [56, 36, 174, 121], [127, 83, 94, 58]]}]}});\n",
       "    });\n",
       "</script>"
      ]
     },
     "metadata": {},
     "output_type": "display_data"
    },
    {
     "data": {
      "text/html": [
       "<script id=\"myVizzu_e1b5cbc\">\n",
       "    let display_e1b5cbc = myVizzu_e1b5cbc.parentNode.parentNode.style.display;\n",
       "    myVizzu_e1b5cbc.parentNode.parentNode.style.display = \"none\";\n",
       "    chart_9cacedf = chart_9cacedf.then(chart => {\n",
       "        if (myVizzu_9cacedf.parentNode && myVizzu_9cacedf.parentNode.parentNode) {\n",
       "            myVizzu_9cacedf.parentNode.parentNode.style.display = \"none\";\n",
       "        }\n",
       "        myVizzu_e1b5cbc.parentNode.parentNode.style.display = display_e1b5cbc;\n",
       "        myVizzu_e1b5cbc.parentNode.insertBefore(myVizzu_9cacedf, myVizzu_e1b5cbc);\n",
       "        return chart.animate({\"config\": {\"channels\": {\"y\": {\"set\": [\"Popularity\", \"Types\"]}, \"x\": {\"set\": \"Genres\"}, \"label\": {\"attach\": \"Popularity\"}}, \"color\": {\"attach\": \"Types\"}, \"title\": \"Filter by one dimension\"}});\n",
       "    });\n",
       "</script>"
      ]
     },
     "metadata": {},
     "output_type": "display_data"
    },
    {
     "data": {
      "text/html": [
       "<script id=\"myVizzu_57d3897\">\n",
       "    let display_57d3897 = myVizzu_57d3897.parentNode.parentNode.style.display;\n",
       "    myVizzu_57d3897.parentNode.parentNode.style.display = \"none\";\n",
       "    chart_9cacedf = chart_9cacedf.then(chart => {\n",
       "        if (myVizzu_9cacedf.parentNode && myVizzu_9cacedf.parentNode.parentNode) {\n",
       "            myVizzu_9cacedf.parentNode.parentNode.style.display = \"none\";\n",
       "        }\n",
       "        myVizzu_57d3897.parentNode.parentNode.style.display = display_57d3897;\n",
       "        myVizzu_57d3897.parentNode.insertBefore(myVizzu_9cacedf, myVizzu_57d3897);\n",
       "        return chart.animate({\"data\": {\"filter\": record => { return (record['Genres'] == 'Pop' || record['Genres'] == 'Metal') }}});\n",
       "    });\n",
       "</script>"
      ]
     },
     "metadata": {},
     "output_type": "display_data"
    },
    {
     "data": {
      "text/html": [
       "<script id=\"myVizzu_bd40b19\">\n",
       "    myVizzu_bd40b19.parentNode.parentNode.style.display = \"none\";\n",
       "    let snapshot_bd40b19;\n",
       "    chart_9cacedf = chart_9cacedf.then(chart => {\n",
       "        snapshot_bd40b19 = chart.store();\n",
       "        return chart;\n",
       "    });\n",
       "</script>"
      ]
     },
     "metadata": {},
     "output_type": "display_data"
    }
   ],
   "source": [
    "from ipyvizzu import Chart, Data, Filter, Config\n",
    "\n",
    "chart = Chart()\n",
    "\n",
    "data = Data()\n",
    "data.add_dimension('Genres', [ 'Pop', 'Rock', 'Jazz', 'Metal'])\n",
    "data.add_dimension('Types', [ 'Hard', 'Smooth', 'Experimental' ])\n",
    "data.add_measure(\n",
    "    'Popularity',\n",
    "    [\n",
    "        [114, 96, 78, 52],\n",
    "        [56, 36, 174, 121],\n",
    "        [127, 83, 94, 58],\n",
    "    ]\n",
    ")\n",
    "chart.animate(data)\n",
    "\n",
    "chart.animate(Config({\n",
    "    \"channels\": {\n",
    "        \"y\": {\n",
    "            \"set\": [\"Popularity\", \"Types\"]\n",
    "        }, \n",
    "        \"x\": {\n",
    "            \"set\": \"Genres\"\n",
    "        },\n",
    "        \"label\": {\n",
    "            \"attach\": \"Popularity\"\n",
    "        }\n",
    "    },\n",
    "    \"color\": {\n",
    "        \"attach\": \"Types\"\n",
    "    },\n",
    "    \"title\": \"Filter by one dimension\"\n",
    "}))\n",
    "\n",
    "filter1 = Filter(\"record['Genres'] == 'Pop' || record['Genres'] == 'Metal'\")\n",
    "\n",
    "chart.animate(filter1)\n",
    "\n",
    "snapshot1 = chart.store()"
   ]
  },
  {
   "cell_type": "markdown",
   "id": "33d0a09d",
   "metadata": {},
   "source": [
    "Now we add a cross-filter that includes items from both the Genres and the Types dimensions. This way we override the filter from the previous state. If we weren't update the filter, Vizzu would use it in subsequent states."
   ]
  },
  {
   "cell_type": "code",
   "execution_count": 2,
   "id": "4807db16",
   "metadata": {},
   "outputs": [
    {
     "data": {
      "text/html": [
       "<script id=\"myVizzu_a46407d\">\n",
       "    let display_a46407d = myVizzu_a46407d.parentNode.parentNode.style.display;\n",
       "    myVizzu_a46407d.parentNode.parentNode.style.display = \"none\";\n",
       "    chart_9cacedf = chart_9cacedf.then(chart => {\n",
       "        if (myVizzu_9cacedf.parentNode && myVizzu_9cacedf.parentNode.parentNode) {\n",
       "            myVizzu_9cacedf.parentNode.parentNode.style.display = \"none\";\n",
       "        }\n",
       "        myVizzu_a46407d.parentNode.parentNode.style.display = display_a46407d;\n",
       "        myVizzu_a46407d.parentNode.insertBefore(myVizzu_9cacedf, myVizzu_a46407d);\n",
       "        return chart.animate(snapshot_bd40b19);\n",
       "    });\n",
       "</script>"
      ]
     },
     "metadata": {},
     "output_type": "display_data"
    },
    {
     "data": {
      "text/html": [
       "<script id=\"myVizzu_f7d1782\">\n",
       "    let display_f7d1782 = myVizzu_f7d1782.parentNode.parentNode.style.display;\n",
       "    myVizzu_f7d1782.parentNode.parentNode.style.display = \"none\";\n",
       "    chart_9cacedf = chart_9cacedf.then(chart => {\n",
       "        if (myVizzu_9cacedf.parentNode && myVizzu_9cacedf.parentNode.parentNode) {\n",
       "            myVizzu_9cacedf.parentNode.parentNode.style.display = \"none\";\n",
       "        }\n",
       "        myVizzu_f7d1782.parentNode.parentNode.style.display = display_f7d1782;\n",
       "        myVizzu_f7d1782.parentNode.insertBefore(myVizzu_9cacedf, myVizzu_f7d1782);\n",
       "        return chart.animate({\"config\": {\"title\": \"Filter by two dimensions\"}});\n",
       "    });\n",
       "</script>"
      ]
     },
     "metadata": {},
     "output_type": "display_data"
    },
    {
     "data": {
      "text/html": [
       "<script id=\"myVizzu_cc17ed3\">\n",
       "    let display_cc17ed3 = myVizzu_cc17ed3.parentNode.parentNode.style.display;\n",
       "    myVizzu_cc17ed3.parentNode.parentNode.style.display = \"none\";\n",
       "    chart_9cacedf = chart_9cacedf.then(chart => {\n",
       "        if (myVizzu_9cacedf.parentNode && myVizzu_9cacedf.parentNode.parentNode) {\n",
       "            myVizzu_9cacedf.parentNode.parentNode.style.display = \"none\";\n",
       "        }\n",
       "        myVizzu_cc17ed3.parentNode.parentNode.style.display = display_cc17ed3;\n",
       "        myVizzu_cc17ed3.parentNode.insertBefore(myVizzu_9cacedf, myVizzu_cc17ed3);\n",
       "        return chart.animate({\"data\": {\"filter\": record => { return ((record['Genres'] == 'Pop' || record['Genres'] == 'Metal') && record['Types'] == 'Smooth') }}});\n",
       "    });\n",
       "</script>"
      ]
     },
     "metadata": {},
     "output_type": "display_data"
    },
    {
     "data": {
      "text/html": [
       "<script id=\"myVizzu_e1504dc\">\n",
       "    myVizzu_e1504dc.parentNode.parentNode.style.display = \"none\";\n",
       "    let snapshot_e1504dc;\n",
       "    chart_9cacedf = chart_9cacedf.then(chart => {\n",
       "        snapshot_e1504dc = chart.store();\n",
       "        return chart;\n",
       "    });\n",
       "</script>"
      ]
     },
     "metadata": {},
     "output_type": "display_data"
    }
   ],
   "source": [
    "chart.animate(snapshot1)\n",
    "\n",
    "chart.animate(Config({\"title\": \"Filter by two dimensions\"}))\n",
    "\n",
    "filter2 = Filter(\"(record['Genres'] == 'Pop' || record['Genres'] == 'Metal') && record['Types'] == 'Smooth'\")\n",
    "\n",
    "chart.animate(filter2)\n",
    "\n",
    "snapshot2 = chart.store()"
   ]
  },
  {
   "cell_type": "markdown",
   "id": "b782890b",
   "metadata": {},
   "source": [
    "Switching the filter off to get back to the original view."
   ]
  },
  {
   "cell_type": "code",
   "execution_count": 3,
   "id": "6e231d21",
   "metadata": {},
   "outputs": [
    {
     "data": {
      "text/html": [
       "<script id=\"myVizzu_bd3be32\">\n",
       "    let display_bd3be32 = myVizzu_bd3be32.parentNode.parentNode.style.display;\n",
       "    myVizzu_bd3be32.parentNode.parentNode.style.display = \"none\";\n",
       "    chart_9cacedf = chart_9cacedf.then(chart => {\n",
       "        if (myVizzu_9cacedf.parentNode && myVizzu_9cacedf.parentNode.parentNode) {\n",
       "            myVizzu_9cacedf.parentNode.parentNode.style.display = \"none\";\n",
       "        }\n",
       "        myVizzu_bd3be32.parentNode.parentNode.style.display = display_bd3be32;\n",
       "        myVizzu_bd3be32.parentNode.insertBefore(myVizzu_9cacedf, myVizzu_bd3be32);\n",
       "        return chart.animate(snapshot_e1504dc);\n",
       "    });\n",
       "</script>"
      ]
     },
     "metadata": {},
     "output_type": "display_data"
    },
    {
     "data": {
      "text/html": [
       "<script id=\"myVizzu_3424411\">\n",
       "    let display_3424411 = myVizzu_3424411.parentNode.parentNode.style.display;\n",
       "    myVizzu_3424411.parentNode.parentNode.style.display = \"none\";\n",
       "    chart_9cacedf = chart_9cacedf.then(chart => {\n",
       "        if (myVizzu_9cacedf.parentNode && myVizzu_9cacedf.parentNode.parentNode) {\n",
       "            myVizzu_9cacedf.parentNode.parentNode.style.display = \"none\";\n",
       "        }\n",
       "        myVizzu_3424411.parentNode.parentNode.style.display = display_3424411;\n",
       "        myVizzu_3424411.parentNode.insertBefore(myVizzu_9cacedf, myVizzu_3424411);\n",
       "        return chart.animate({\"config\": {\"title\": \"Filter off\"}});\n",
       "    });\n",
       "</script>"
      ]
     },
     "metadata": {},
     "output_type": "display_data"
    },
    {
     "data": {
      "text/html": [
       "<script id=\"myVizzu_0c74a1f\">\n",
       "    let display_0c74a1f = myVizzu_0c74a1f.parentNode.parentNode.style.display;\n",
       "    myVizzu_0c74a1f.parentNode.parentNode.style.display = \"none\";\n",
       "    chart_9cacedf = chart_9cacedf.then(chart => {\n",
       "        if (myVizzu_9cacedf.parentNode && myVizzu_9cacedf.parentNode.parentNode) {\n",
       "            myVizzu_9cacedf.parentNode.parentNode.style.display = \"none\";\n",
       "        }\n",
       "        myVizzu_0c74a1f.parentNode.parentNode.style.display = display_0c74a1f;\n",
       "        myVizzu_0c74a1f.parentNode.insertBefore(myVizzu_9cacedf, myVizzu_0c74a1f);\n",
       "        return chart.animate({\"data\": {\"filter\": null}});\n",
       "    });\n",
       "</script>"
      ]
     },
     "metadata": {},
     "output_type": "display_data"
    },
    {
     "data": {
      "text/html": [
       "<script id=\"myVizzu_67ff18e\">\n",
       "    myVizzu_67ff18e.parentNode.parentNode.style.display = \"none\";\n",
       "    let snapshot_67ff18e;\n",
       "    chart_9cacedf = chart_9cacedf.then(chart => {\n",
       "        snapshot_67ff18e = chart.store();\n",
       "        return chart;\n",
       "    });\n",
       "</script>"
      ]
     },
     "metadata": {},
     "output_type": "display_data"
    }
   ],
   "source": [
    "chart.animate(snapshot2)\n",
    "\n",
    "chart.animate(Config({\"title\": \"Filter off\"}))\n",
    "\n",
    "chart.animate(Filter(None))\n",
    "\n",
    "snapshot3 = chart.store()"
   ]
  },
  {
   "cell_type": "markdown",
   "id": "88243fd6",
   "metadata": {},
   "source": [
    "Here we add another record to the data set and update the chart accordingly."
   ]
  },
  {
   "cell_type": "code",
   "execution_count": 4,
   "id": "384d20b1",
   "metadata": {},
   "outputs": [
    {
     "data": {
      "text/html": [
       "<script id=\"myVizzu_f4d8a7b\">\n",
       "    let display_f4d8a7b = myVizzu_f4d8a7b.parentNode.parentNode.style.display;\n",
       "    myVizzu_f4d8a7b.parentNode.parentNode.style.display = \"none\";\n",
       "    chart_9cacedf = chart_9cacedf.then(chart => {\n",
       "        if (myVizzu_9cacedf.parentNode && myVizzu_9cacedf.parentNode.parentNode) {\n",
       "            myVizzu_9cacedf.parentNode.parentNode.style.display = \"none\";\n",
       "        }\n",
       "        myVizzu_f4d8a7b.parentNode.parentNode.style.display = display_f4d8a7b;\n",
       "        myVizzu_f4d8a7b.parentNode.insertBefore(myVizzu_9cacedf, myVizzu_f4d8a7b);\n",
       "        return chart.animate(snapshot_67ff18e);\n",
       "    });\n",
       "</script>"
      ]
     },
     "metadata": {},
     "output_type": "display_data"
    },
    {
     "data": {
      "text/html": [
       "<script id=\"myVizzu_93ca3bf\">\n",
       "    let display_93ca3bf = myVizzu_93ca3bf.parentNode.parentNode.style.display;\n",
       "    myVizzu_93ca3bf.parentNode.parentNode.style.display = \"none\";\n",
       "    chart_9cacedf = chart_9cacedf.then(chart => {\n",
       "        if (myVizzu_9cacedf.parentNode && myVizzu_9cacedf.parentNode.parentNode) {\n",
       "            myVizzu_9cacedf.parentNode.parentNode.style.display = \"none\";\n",
       "        }\n",
       "        myVizzu_93ca3bf.parentNode.parentNode.style.display = display_93ca3bf;\n",
       "        myVizzu_93ca3bf.parentNode.insertBefore(myVizzu_9cacedf, myVizzu_93ca3bf);\n",
       "        return chart.animate({\"config\": {\"title\": \"Adding new records\"}});\n",
       "    });\n",
       "</script>"
      ]
     },
     "metadata": {},
     "output_type": "display_data"
    },
    {
     "data": {
      "text/html": [
       "<script id=\"myVizzu_02f837e\">\n",
       "    let display_02f837e = myVizzu_02f837e.parentNode.parentNode.style.display;\n",
       "    myVizzu_02f837e.parentNode.parentNode.style.display = \"none\";\n",
       "    chart_9cacedf = chart_9cacedf.then(chart => {\n",
       "        if (myVizzu_9cacedf.parentNode && myVizzu_9cacedf.parentNode.parentNode) {\n",
       "            myVizzu_9cacedf.parentNode.parentNode.style.display = \"none\";\n",
       "        }\n",
       "        myVizzu_02f837e.parentNode.parentNode.style.display = display_02f837e;\n",
       "        myVizzu_02f837e.parentNode.insertBefore(myVizzu_9cacedf, myVizzu_02f837e);\n",
       "        return chart.animate({\"data\": {\"records\": [[\"Soul\", \"Hard\", 91], [\"Soul\", \"Smooth\", 57], [\"Soul\", \"Experimental\", 115]]}});\n",
       "    });\n",
       "</script>"
      ]
     },
     "metadata": {},
     "output_type": "display_data"
    }
   ],
   "source": [
    "chart.animate(snapshot3)\n",
    "\n",
    "chart.animate(Config({\"title\": \"Adding new records\"}))\n",
    "\n",
    "data2 = Data()\n",
    "records = [\n",
    "    ['Soul', 'Hard', 91],\n",
    "    ['Soul', 'Smooth', 57],\n",
    "    ['Soul', 'Experimental', 115]\n",
    "]\n",
    "data2.add_records(records)\n",
    "\n",
    "chart.animate(data2)"
   ]
  },
  {
   "cell_type": "markdown",
   "id": "c87444f7",
   "metadata": {},
   "source": [
    "Note: combining this option with the store function makes it easy to update previously configured states with fresh data since this function saves the config and style parameters of the chart into a variable but not the data."
   ]
  }
 ],
 "metadata": {
  "kernelspec": {
   "display_name": "Python 3 (ipykernel)",
   "language": "python",
   "name": "python3"
  },
  "language_info": {
   "codemirror_mode": {
    "name": "ipython",
    "version": 3
   },
   "file_extension": ".py",
   "mimetype": "text/x-python",
   "name": "python",
   "nbconvert_exporter": "python",
   "pygments_lexer": "ipython3",
   "version": "3.8.10"
  }
 },
 "nbformat": 4,
 "nbformat_minor": 5
}
