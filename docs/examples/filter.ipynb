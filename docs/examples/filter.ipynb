{
 "cells": [
  {
   "cell_type": "markdown",
   "id": "6dbc8df4",
   "metadata": {},
   "source": [
    "## Filtering & adding new records\n",
    "\n",
    "Filtering enables you to zoom in or out within a chart, allowing the viewer to focus on certain selected elements, or get more context. You can also add new records to the data on the chart which makes it easy to work with real-time sources.\n",
    "\n",
    "We add two items from the Genres dimension - using the || operator - to the filter, so the chart elements that belong to the other two items will vanish from the chart."
   ]
  },
  {
   "cell_type": "code",
   "execution_count": 1,
   "id": "d5da6794",
   "metadata": {},
   "outputs": [
    {
     "data": {
      "text/html": [
       "<script id=\"myVizzu_a207615\">\n",
       "    myVizzu_a207615.parentNode.parentNode.style.display = \"none\";\n",
       "    let myVizzu_35be7b0 = document.createElement(\"div\");\n",
       "    myVizzu_35be7b0.style.cssText = \"width: 800px; height: 480px;\";\n",
       "    let chart_35be7b0 = import(\"https://cdn.jsdelivr.net/npm/vizzu@~0.4.0/dist/vizzu.min.js\").then(Vizzu => new Vizzu.default(myVizzu_35be7b0).initializing);\n",
       "</script>"
      ]
     },
     "metadata": {},
     "output_type": "display_data"
    },
    {
     "data": {
      "text/html": [
       "<script id=\"myVizzu_d1a1ead\">\n",
       "    let display_d1a1ead = myVizzu_d1a1ead.parentNode.parentNode.style.display;\n",
       "    myVizzu_d1a1ead.parentNode.parentNode.style.display = \"none\";\n",
       "    chart_35be7b0 = chart_35be7b0.then(chart => {\n",
       "        if (myVizzu_35be7b0.parentNode && myVizzu_35be7b0.parentNode.parentNode) {\n",
       "            myVizzu_35be7b0.parentNode.parentNode.style.display = \"none\";\n",
       "        }\n",
       "        myVizzu_d1a1ead.parentNode.parentNode.style.display = display_d1a1ead;\n",
       "        myVizzu_d1a1ead.parentNode.insertBefore(myVizzu_35be7b0, myVizzu_d1a1ead);\n",
       "        return chart.animate({\"data\": {\"dimensions\": [{\"name\": \"Genres\", \"values\": [\"Pop\", \"Rock\", \"Jazz\", \"Metal\"]}, {\"name\": \"Types\", \"values\": [\"Hard\", \"Smooth\", \"Experimental\"]}], \"measures\": [{\"name\": \"Popularity\", \"values\": [[114, 96, 78, 52], [56, 36, 174, 121], [127, 83, 94, 58]]}]}});\n",
       "    });\n",
       "</script>"
      ]
     },
     "metadata": {},
     "output_type": "display_data"
    },
    {
     "data": {
      "text/html": [
       "<script id=\"myVizzu_f1d74a9\">\n",
       "    let display_f1d74a9 = myVizzu_f1d74a9.parentNode.parentNode.style.display;\n",
       "    myVizzu_f1d74a9.parentNode.parentNode.style.display = \"none\";\n",
       "    chart_35be7b0 = chart_35be7b0.then(chart => {\n",
       "        if (myVizzu_35be7b0.parentNode && myVizzu_35be7b0.parentNode.parentNode) {\n",
       "            myVizzu_35be7b0.parentNode.parentNode.style.display = \"none\";\n",
       "        }\n",
       "        myVizzu_f1d74a9.parentNode.parentNode.style.display = display_f1d74a9;\n",
       "        myVizzu_f1d74a9.parentNode.insertBefore(myVizzu_35be7b0, myVizzu_f1d74a9);\n",
       "        return chart.animate({\"config\": {\"channels\": {\"y\": {\"set\": [\"Popularity\", \"Types\"]}, \"x\": {\"set\": \"Genres\"}, \"label\": {\"attach\": \"Popularity\"}}, \"color\": {\"attach\": \"Types\"}, \"title\": \"Filter by one dimension\"}});\n",
       "    });\n",
       "</script>"
      ]
     },
     "metadata": {},
     "output_type": "display_data"
    },
    {
     "data": {
      "text/html": [
       "<script id=\"myVizzu_31c8363\">\n",
       "    let display_31c8363 = myVizzu_31c8363.parentNode.parentNode.style.display;\n",
       "    myVizzu_31c8363.parentNode.parentNode.style.display = \"none\";\n",
       "    chart_35be7b0 = chart_35be7b0.then(chart => {\n",
       "        if (myVizzu_35be7b0.parentNode && myVizzu_35be7b0.parentNode.parentNode) {\n",
       "            myVizzu_35be7b0.parentNode.parentNode.style.display = \"none\";\n",
       "        }\n",
       "        myVizzu_31c8363.parentNode.parentNode.style.display = display_31c8363;\n",
       "        myVizzu_31c8363.parentNode.insertBefore(myVizzu_35be7b0, myVizzu_31c8363);\n",
       "        return chart.animate({\"data\": {\"filter\": record => record['Genres'] == 'Pop' || record['Genres'] == 'Metal'}});\n",
       "    });\n",
       "</script>"
      ]
     },
     "metadata": {},
     "output_type": "display_data"
    },
    {
     "data": {
      "text/html": [
       "<script id=\"myVizzu_d24ec7e\">\n",
       "    myVizzu_d24ec7e.parentNode.parentNode.style.display = \"none\";\n",
       "    let snapshot_d24ec7e;\n",
       "    chart_35be7b0 = chart_35be7b0.then(chart => {\n",
       "        snapshot_d24ec7e = chart.store();\n",
       "        return chart;\n",
       "    });\n",
       "</script>"
      ]
     },
     "metadata": {},
     "output_type": "display_data"
    }
   ],
   "source": [
    "from ipyvizzu import Chart, Data, Filter, Config\n",
    "\n",
    "chart = Chart()\n",
    "\n",
    "data = Data()\n",
    "data.add_dimension('Genres', [ 'Pop', 'Rock', 'Jazz', 'Metal'])\n",
    "data.add_dimension('Types', [ 'Hard', 'Smooth', 'Experimental' ])\n",
    "data.add_measure(\n",
    "    'Popularity',\n",
    "    [\n",
    "        [114, 96, 78, 52],\n",
    "        [56, 36, 174, 121],\n",
    "        [127, 83, 94, 58],\n",
    "    ]\n",
    ")\n",
    "chart.animate(data)\n",
    "\n",
    "chart.animate(Config({\n",
    "    \"channels\": {\n",
    "        \"y\": {\n",
    "            \"set\": [\"Popularity\", \"Types\"]\n",
    "        }, \n",
    "        \"x\": {\n",
    "            \"set\": \"Genres\"\n",
    "        },\n",
    "        \"label\": {\n",
    "            \"attach\": \"Popularity\"\n",
    "        }\n",
    "    },\n",
    "    \"color\": {\n",
    "        \"attach\": \"Types\"\n",
    "    },\n",
    "    \"title\": \"Filter by one dimension\"\n",
    "}))\n",
    "\n",
    "filter1 = Filter(\"record => record['Genres'] == 'Pop' || record['Genres'] == 'Metal'\")\n",
    "\n",
    "chart.animate(filter1)\n",
    "\n",
    "snapshot1 = chart.store()"
   ]
  },
  {
   "cell_type": "markdown",
   "id": "33d0a09d",
   "metadata": {},
   "source": [
    "Now we add a cross-filter that includes items from both the Genres and the Types dimensions. This way we override the filter from the previous state. If we weren't update the filter, Vizzu would use it in subsequent states."
   ]
  },
  {
   "cell_type": "code",
   "execution_count": 2,
   "id": "4807db16",
   "metadata": {},
   "outputs": [
    {
     "data": {
      "text/html": [
       "<script id=\"myVizzu_7a49795\">\n",
       "    let display_7a49795 = myVizzu_7a49795.parentNode.parentNode.style.display;\n",
       "    myVizzu_7a49795.parentNode.parentNode.style.display = \"none\";\n",
       "    chart_35be7b0 = chart_35be7b0.then(chart => {\n",
       "        if (myVizzu_35be7b0.parentNode && myVizzu_35be7b0.parentNode.parentNode) {\n",
       "            myVizzu_35be7b0.parentNode.parentNode.style.display = \"none\";\n",
       "        }\n",
       "        myVizzu_7a49795.parentNode.parentNode.style.display = display_7a49795;\n",
       "        myVizzu_7a49795.parentNode.insertBefore(myVizzu_35be7b0, myVizzu_7a49795);\n",
       "        return chart.animate(snapshot_d24ec7e);\n",
       "    });\n",
       "</script>"
      ]
     },
     "metadata": {},
     "output_type": "display_data"
    },
    {
     "data": {
      "text/html": [
       "<script id=\"myVizzu_376f7ec\">\n",
       "    let display_376f7ec = myVizzu_376f7ec.parentNode.parentNode.style.display;\n",
       "    myVizzu_376f7ec.parentNode.parentNode.style.display = \"none\";\n",
       "    chart_35be7b0 = chart_35be7b0.then(chart => {\n",
       "        if (myVizzu_35be7b0.parentNode && myVizzu_35be7b0.parentNode.parentNode) {\n",
       "            myVizzu_35be7b0.parentNode.parentNode.style.display = \"none\";\n",
       "        }\n",
       "        myVizzu_376f7ec.parentNode.parentNode.style.display = display_376f7ec;\n",
       "        myVizzu_376f7ec.parentNode.insertBefore(myVizzu_35be7b0, myVizzu_376f7ec);\n",
       "        return chart.animate({\"config\": {\"title\": \"Filter by two dimensions\"}});\n",
       "    });\n",
       "</script>"
      ]
     },
     "metadata": {},
     "output_type": "display_data"
    },
    {
     "data": {
      "text/html": [
       "<script id=\"myVizzu_b4e28ca\">\n",
       "    let display_b4e28ca = myVizzu_b4e28ca.parentNode.parentNode.style.display;\n",
       "    myVizzu_b4e28ca.parentNode.parentNode.style.display = \"none\";\n",
       "    chart_35be7b0 = chart_35be7b0.then(chart => {\n",
       "        if (myVizzu_35be7b0.parentNode && myVizzu_35be7b0.parentNode.parentNode) {\n",
       "            myVizzu_35be7b0.parentNode.parentNode.style.display = \"none\";\n",
       "        }\n",
       "        myVizzu_b4e28ca.parentNode.parentNode.style.display = display_b4e28ca;\n",
       "        myVizzu_b4e28ca.parentNode.insertBefore(myVizzu_35be7b0, myVizzu_b4e28ca);\n",
       "        return chart.animate({\"data\": {\"filter\": record => (record['Genres'] == 'Pop' || record['Genres'] == 'Metal') && record['Types'] == 'Smooth'}});\n",
       "    });\n",
       "</script>"
      ]
     },
     "metadata": {},
     "output_type": "display_data"
    },
    {
     "data": {
      "text/html": [
       "<script id=\"myVizzu_89977c5\">\n",
       "    myVizzu_89977c5.parentNode.parentNode.style.display = \"none\";\n",
       "    let snapshot_89977c5;\n",
       "    chart_35be7b0 = chart_35be7b0.then(chart => {\n",
       "        snapshot_89977c5 = chart.store();\n",
       "        return chart;\n",
       "    });\n",
       "</script>"
      ]
     },
     "metadata": {},
     "output_type": "display_data"
    }
   ],
   "source": [
    "chart.animate(snapshot1)\n",
    "\n",
    "chart.animate(Config({\"title\": \"Filter by two dimensions\"}))\n",
    "\n",
    "filter2 = Filter(\"record => (record['Genres'] == 'Pop' || record['Genres'] == 'Metal') && record['Types'] == 'Smooth'\")\n",
    "\n",
    "chart.animate(filter2)\n",
    "\n",
    "snapshot2 = chart.store()"
   ]
  },
  {
   "cell_type": "markdown",
   "id": "b782890b",
   "metadata": {},
   "source": [
    "Switching the filter off to get back to the original view."
   ]
  },
  {
   "cell_type": "code",
   "execution_count": 3,
   "id": "6e231d21",
   "metadata": {},
   "outputs": [
    {
     "data": {
      "text/html": [
       "<script id=\"myVizzu_d4a2fb1\">\n",
       "    let display_d4a2fb1 = myVizzu_d4a2fb1.parentNode.parentNode.style.display;\n",
       "    myVizzu_d4a2fb1.parentNode.parentNode.style.display = \"none\";\n",
       "    chart_35be7b0 = chart_35be7b0.then(chart => {\n",
       "        if (myVizzu_35be7b0.parentNode && myVizzu_35be7b0.parentNode.parentNode) {\n",
       "            myVizzu_35be7b0.parentNode.parentNode.style.display = \"none\";\n",
       "        }\n",
       "        myVizzu_d4a2fb1.parentNode.parentNode.style.display = display_d4a2fb1;\n",
       "        myVizzu_d4a2fb1.parentNode.insertBefore(myVizzu_35be7b0, myVizzu_d4a2fb1);\n",
       "        return chart.animate(snapshot_89977c5);\n",
       "    });\n",
       "</script>"
      ]
     },
     "metadata": {},
     "output_type": "display_data"
    },
    {
     "data": {
      "text/html": [
       "<script id=\"myVizzu_049e0ca\">\n",
       "    let display_049e0ca = myVizzu_049e0ca.parentNode.parentNode.style.display;\n",
       "    myVizzu_049e0ca.parentNode.parentNode.style.display = \"none\";\n",
       "    chart_35be7b0 = chart_35be7b0.then(chart => {\n",
       "        if (myVizzu_35be7b0.parentNode && myVizzu_35be7b0.parentNode.parentNode) {\n",
       "            myVizzu_35be7b0.parentNode.parentNode.style.display = \"none\";\n",
       "        }\n",
       "        myVizzu_049e0ca.parentNode.parentNode.style.display = display_049e0ca;\n",
       "        myVizzu_049e0ca.parentNode.insertBefore(myVizzu_35be7b0, myVizzu_049e0ca);\n",
       "        return chart.animate({\"config\": {\"title\": \"Filter off\"}});\n",
       "    });\n",
       "</script>"
      ]
     },
     "metadata": {},
     "output_type": "display_data"
    },
    {
     "data": {
      "text/html": [
       "<script id=\"myVizzu_7374263\">\n",
       "    let display_7374263 = myVizzu_7374263.parentNode.parentNode.style.display;\n",
       "    myVizzu_7374263.parentNode.parentNode.style.display = \"none\";\n",
       "    chart_35be7b0 = chart_35be7b0.then(chart => {\n",
       "        if (myVizzu_35be7b0.parentNode && myVizzu_35be7b0.parentNode.parentNode) {\n",
       "            myVizzu_35be7b0.parentNode.parentNode.style.display = \"none\";\n",
       "        }\n",
       "        myVizzu_7374263.parentNode.parentNode.style.display = display_7374263;\n",
       "        myVizzu_7374263.parentNode.insertBefore(myVizzu_35be7b0, myVizzu_7374263);\n",
       "        return chart.animate({\"data\": {\"filter\": null}});\n",
       "    });\n",
       "</script>"
      ]
     },
     "metadata": {},
     "output_type": "display_data"
    },
    {
     "data": {
      "text/html": [
       "<script id=\"myVizzu_c3edea8\">\n",
       "    myVizzu_c3edea8.parentNode.parentNode.style.display = \"none\";\n",
       "    let snapshot_c3edea8;\n",
       "    chart_35be7b0 = chart_35be7b0.then(chart => {\n",
       "        snapshot_c3edea8 = chart.store();\n",
       "        return chart;\n",
       "    });\n",
       "</script>"
      ]
     },
     "metadata": {},
     "output_type": "display_data"
    }
   ],
   "source": [
    "chart.animate(snapshot2)\n",
    "\n",
    "chart.animate(Config({\"title\": \"Filter off\"}))\n",
    "\n",
    "chart.animate(Filter(None))\n",
    "\n",
    "snapshot3 = chart.store()"
   ]
  },
  {
   "cell_type": "markdown",
   "id": "88243fd6",
   "metadata": {},
   "source": [
    "Here we add another record to the data set and update the chart accordingly."
   ]
  },
  {
   "cell_type": "code",
   "execution_count": 4,
   "id": "384d20b1",
   "metadata": {},
   "outputs": [
    {
     "data": {
      "text/html": [
       "<script id=\"myVizzu_05ec6d9\">\n",
       "    let display_05ec6d9 = myVizzu_05ec6d9.parentNode.parentNode.style.display;\n",
       "    myVizzu_05ec6d9.parentNode.parentNode.style.display = \"none\";\n",
       "    chart_35be7b0 = chart_35be7b0.then(chart => {\n",
       "        if (myVizzu_35be7b0.parentNode && myVizzu_35be7b0.parentNode.parentNode) {\n",
       "            myVizzu_35be7b0.parentNode.parentNode.style.display = \"none\";\n",
       "        }\n",
       "        myVizzu_05ec6d9.parentNode.parentNode.style.display = display_05ec6d9;\n",
       "        myVizzu_05ec6d9.parentNode.insertBefore(myVizzu_35be7b0, myVizzu_05ec6d9);\n",
       "        return chart.animate(snapshot_c3edea8);\n",
       "    });\n",
       "</script>"
      ]
     },
     "metadata": {},
     "output_type": "display_data"
    },
    {
     "data": {
      "text/html": [
       "<script id=\"myVizzu_7fd76e8\">\n",
       "    let display_7fd76e8 = myVizzu_7fd76e8.parentNode.parentNode.style.display;\n",
       "    myVizzu_7fd76e8.parentNode.parentNode.style.display = \"none\";\n",
       "    chart_35be7b0 = chart_35be7b0.then(chart => {\n",
       "        if (myVizzu_35be7b0.parentNode && myVizzu_35be7b0.parentNode.parentNode) {\n",
       "            myVizzu_35be7b0.parentNode.parentNode.style.display = \"none\";\n",
       "        }\n",
       "        myVizzu_7fd76e8.parentNode.parentNode.style.display = display_7fd76e8;\n",
       "        myVizzu_7fd76e8.parentNode.insertBefore(myVizzu_35be7b0, myVizzu_7fd76e8);\n",
       "        return chart.animate({\"config\": {\"title\": \"Adding new records\"}});\n",
       "    });\n",
       "</script>"
      ]
     },
     "metadata": {},
     "output_type": "display_data"
    },
    {
     "data": {
      "text/html": [
       "<script id=\"myVizzu_c1f7d72\">\n",
       "    let display_c1f7d72 = myVizzu_c1f7d72.parentNode.parentNode.style.display;\n",
       "    myVizzu_c1f7d72.parentNode.parentNode.style.display = \"none\";\n",
       "    chart_35be7b0 = chart_35be7b0.then(chart => {\n",
       "        if (myVizzu_35be7b0.parentNode && myVizzu_35be7b0.parentNode.parentNode) {\n",
       "            myVizzu_35be7b0.parentNode.parentNode.style.display = \"none\";\n",
       "        }\n",
       "        myVizzu_c1f7d72.parentNode.parentNode.style.display = display_c1f7d72;\n",
       "        myVizzu_c1f7d72.parentNode.insertBefore(myVizzu_35be7b0, myVizzu_c1f7d72);\n",
       "        return chart.animate({\"data\": {\"records\": [[\"Soul\", \"Hard\", 91], [\"Soul\", \"Smooth\", 57], [\"Soul\", \"Experimental\", 115]]}});\n",
       "    });\n",
       "</script>"
      ]
     },
     "metadata": {},
     "output_type": "display_data"
    }
   ],
   "source": [
    "chart.animate(snapshot3)\n",
    "\n",
    "chart.animate(Config({\"title\": \"Adding new records\"}))\n",
    "\n",
    "data2 = Data()\n",
    "records = [\n",
    "    ['Soul', 'Hard', 91],\n",
    "    ['Soul', 'Smooth', 57],\n",
    "    ['Soul', 'Experimental', 115]\n",
    "]\n",
    "data2.add_records(records)\n",
    "\n",
    "chart.animate(data2)"
   ]
  },
  {
   "cell_type": "markdown",
   "id": "c87444f7",
   "metadata": {},
   "source": [
    "Note: combining this option with the store function makes it easy to update previously configured states with fresh data since this function saves the config and style parameters of the chart into a variable but not the data."
   ]
  }
 ],
 "metadata": {
  "kernelspec": {
   "display_name": "Python 3 (ipykernel)",
   "language": "python",
   "name": "python3"
  },
  "language_info": {
   "codemirror_mode": {
    "name": "ipython",
    "version": 3
   },
   "file_extension": ".py",
   "mimetype": "text/x-python",
   "name": "python",
   "nbconvert_exporter": "python",
   "pygments_lexer": "ipython3",
   "version": "3.8.10"
  }
 },
 "nbformat": 4,
 "nbformat_minor": 5
}
