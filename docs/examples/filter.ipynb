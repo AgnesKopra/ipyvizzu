{
 "cells": [
  {
   "cell_type": "markdown",
   "id": "6dbc8df4",
   "metadata": {},
   "source": [
    "## Filtering & adding new records\n",
    "\n",
    "Filtering enables you to zoom in or out within a chart, allowing the viewer to focus on certain selected elements, or get more context. You can also add new records to the data on the chart which makes it easy to work with real-time sources.\n",
    "\n",
    "**Note:** Currently `Data.filter()` and `Data().set_filter()` only accept JavaScript expression as string. Data fields can be accessed via `record` object, see the examples below.\n",
    "\n",
    "We add two items from the Genres dimension - using the || operator - to the filter, so the chart elements that belong to the other two items will vanish from the chart."
   ]
  },
  {
   "cell_type": "code",
   "execution_count": 1,
   "id": "d5da6794",
   "metadata": {},
   "outputs": [
    {
     "data": {
      "text/html": [
       "<script id=\"myVizzu_5bd88c8\">\n",
       "    let myVizzu_30483ae = document.createElement(\"div\");\n",
       "    myVizzu_30483ae.style.cssText = \"width: 800px; height: 480px;\";\n",
       "    let chart_30483ae = import(\"https://cdn.jsdelivr.net/npm/vizzu@~0.4.0/dist/vizzu.min.js\").then(Vizzu => new Vizzu.default(myVizzu_30483ae).initializing);\n",
       "    myVizzu_5bd88c8.parentNode.insertBefore(myVizzu_30483ae, myVizzu_5bd88c8);\n",
       "</script>"
      ]
     },
     "metadata": {},
     "output_type": "display_data"
    },
    {
     "data": {
      "text/html": [
       "<script id=\"myVizzu_df837c8\">\n",
       "    let display_df837c8 = myVizzu_df837c8.parentNode.parentNode.style.display;\n",
       "    myVizzu_df837c8.parentNode.parentNode.style.display = \"none\";\n",
       "    chart_30483ae = chart_30483ae.then(chart => {\n",
       "        if (myVizzu_30483ae.parentNode && myVizzu_30483ae.parentNode.parentNode) {\n",
       "            myVizzu_30483ae.parentNode.parentNode.style.display = \"none\";\n",
       "        }\n",
       "        myVizzu_df837c8.parentNode.parentNode.style.display = display_df837c8;\n",
       "        myVizzu_df837c8.parentNode.insertBefore(myVizzu_30483ae, myVizzu_df837c8);\n",
       "        return chart.animate({\"data\": {\"dimensions\": [{\"name\": \"Genres\", \"values\": [\"Pop\", \"Rock\", \"Jazz\", \"Metal\"]}, {\"name\": \"Types\", \"values\": [\"Hard\", \"Smooth\", \"Experimental\"]}], \"measures\": [{\"name\": \"Popularity\", \"values\": [[114, 96, 78, 52], [56, 36, 174, 121], [127, 83, 94, 58]]}]}});\n",
       "    });\n",
       "</script>"
      ]
     },
     "metadata": {},
     "output_type": "display_data"
    },
    {
     "data": {
      "text/html": [
       "<script id=\"myVizzu_f280584\">\n",
       "    let display_f280584 = myVizzu_f280584.parentNode.parentNode.style.display;\n",
       "    myVizzu_f280584.parentNode.parentNode.style.display = \"none\";\n",
       "    chart_30483ae = chart_30483ae.then(chart => {\n",
       "        if (myVizzu_30483ae.parentNode && myVizzu_30483ae.parentNode.parentNode) {\n",
       "            myVizzu_30483ae.parentNode.parentNode.style.display = \"none\";\n",
       "        }\n",
       "        myVizzu_f280584.parentNode.parentNode.style.display = display_f280584;\n",
       "        myVizzu_f280584.parentNode.insertBefore(myVizzu_30483ae, myVizzu_f280584);\n",
       "        return chart.animate({\"config\": {\"channels\": {\"y\": {\"set\": [\"Popularity\", \"Types\"]}, \"x\": {\"set\": \"Genres\"}, \"label\": {\"attach\": \"Popularity\"}}, \"color\": {\"attach\": \"Types\"}, \"title\": \"Filter by one dimension\"}});\n",
       "    });\n",
       "</script>"
      ]
     },
     "metadata": {},
     "output_type": "display_data"
    },
    {
     "data": {
      "text/html": [
       "<script id=\"myVizzu_3314c30\">\n",
       "    let display_3314c30 = myVizzu_3314c30.parentNode.parentNode.style.display;\n",
       "    myVizzu_3314c30.parentNode.parentNode.style.display = \"none\";\n",
       "    chart_30483ae = chart_30483ae.then(chart => {\n",
       "        if (myVizzu_30483ae.parentNode && myVizzu_30483ae.parentNode.parentNode) {\n",
       "            myVizzu_30483ae.parentNode.parentNode.style.display = \"none\";\n",
       "        }\n",
       "        myVizzu_3314c30.parentNode.parentNode.style.display = display_3314c30;\n",
       "        myVizzu_3314c30.parentNode.insertBefore(myVizzu_30483ae, myVizzu_3314c30);\n",
       "        return chart.animate({\"data\": {\"filter\": record => { return (record['Genres'] == 'Pop' || record['Genres'] == 'Metal') }}});\n",
       "    });\n",
       "</script>"
      ]
     },
     "metadata": {},
     "output_type": "display_data"
    },
    {
     "data": {
      "text/html": [
       "<script id=\"myVizzu_acfa4d2\">\n",
       "    myVizzu_acfa4d2.parentNode.parentNode.style.display = \"none\";\n",
       "    let snapshot_acfa4d2;\n",
       "    chart_30483ae = chart_30483ae.then(chart => {\n",
       "        snapshot_acfa4d2 = chart.store();\n",
       "        return chart;\n",
       "    });\n",
       "</script>"
      ]
     },
     "metadata": {},
     "output_type": "display_data"
    }
   ],
   "source": [
    "from ipyvizzu import Chart, Data, Config\n",
    "\n",
    "chart = Chart()\n",
    "\n",
    "data = Data()\n",
    "data.add_dimension('Genres', [ 'Pop', 'Rock', 'Jazz', 'Metal'])\n",
    "data.add_dimension('Types', [ 'Hard', 'Smooth', 'Experimental' ])\n",
    "data.add_measure(\n",
    "    'Popularity',\n",
    "    [\n",
    "        [114, 96, 78, 52],\n",
    "        [56, 36, 174, 121],\n",
    "        [127, 83, 94, 58],\n",
    "    ]\n",
    ")\n",
    "chart.animate(data)\n",
    "\n",
    "chart.animate(Config({\n",
    "    \"channels\": {\n",
    "        \"y\": {\n",
    "            \"set\": [\"Popularity\", \"Types\"]\n",
    "        }, \n",
    "        \"x\": {\n",
    "            \"set\": \"Genres\"\n",
    "        },\n",
    "        \"label\": {\n",
    "            \"attach\": \"Popularity\"\n",
    "        }\n",
    "    },\n",
    "    \"color\": {\n",
    "        \"attach\": \"Types\"\n",
    "    },\n",
    "    \"title\": \"Filter by one dimension\"\n",
    "}))\n",
    "\n",
    "filter1 = Data.filter(\"record['Genres'] == 'Pop' || record['Genres'] == 'Metal'\")\n",
    "\n",
    "chart.animate(filter1)\n",
    "\n",
    "snapshot1 = chart.store()"
   ]
  },
  {
   "cell_type": "markdown",
   "id": "33d0a09d",
   "metadata": {},
   "source": [
    "Now we add a cross-filter that includes items from both the Genres and the Types dimensions. This way we override the filter from the previous state. If we weren't update the filter, Vizzu would use it in subsequent states."
   ]
  },
  {
   "cell_type": "code",
   "execution_count": 2,
   "id": "4807db16",
   "metadata": {},
   "outputs": [
    {
     "data": {
      "text/html": [
       "<script id=\"myVizzu_46ab9fc\">\n",
       "    let display_46ab9fc = myVizzu_46ab9fc.parentNode.parentNode.style.display;\n",
       "    myVizzu_46ab9fc.parentNode.parentNode.style.display = \"none\";\n",
       "    chart_30483ae = chart_30483ae.then(chart => {\n",
       "        if (myVizzu_30483ae.parentNode && myVizzu_30483ae.parentNode.parentNode) {\n",
       "            myVizzu_30483ae.parentNode.parentNode.style.display = \"none\";\n",
       "        }\n",
       "        myVizzu_46ab9fc.parentNode.parentNode.style.display = display_46ab9fc;\n",
       "        myVizzu_46ab9fc.parentNode.insertBefore(myVizzu_30483ae, myVizzu_46ab9fc);\n",
       "        return chart.animate(snapshot_acfa4d2);\n",
       "    });\n",
       "</script>"
      ]
     },
     "metadata": {},
     "output_type": "display_data"
    },
    {
     "data": {
      "text/html": [
       "<script id=\"myVizzu_e93813c\">\n",
       "    let display_e93813c = myVizzu_e93813c.parentNode.parentNode.style.display;\n",
       "    myVizzu_e93813c.parentNode.parentNode.style.display = \"none\";\n",
       "    chart_30483ae = chart_30483ae.then(chart => {\n",
       "        if (myVizzu_30483ae.parentNode && myVizzu_30483ae.parentNode.parentNode) {\n",
       "            myVizzu_30483ae.parentNode.parentNode.style.display = \"none\";\n",
       "        }\n",
       "        myVizzu_e93813c.parentNode.parentNode.style.display = display_e93813c;\n",
       "        myVizzu_e93813c.parentNode.insertBefore(myVizzu_30483ae, myVizzu_e93813c);\n",
       "        return chart.animate({\"config\": {\"title\": \"Filter by two dimensions\"}});\n",
       "    });\n",
       "</script>"
      ]
     },
     "metadata": {},
     "output_type": "display_data"
    },
    {
     "data": {
      "text/html": [
       "<script id=\"myVizzu_4ed9a5d\">\n",
       "    let display_4ed9a5d = myVizzu_4ed9a5d.parentNode.parentNode.style.display;\n",
       "    myVizzu_4ed9a5d.parentNode.parentNode.style.display = \"none\";\n",
       "    chart_30483ae = chart_30483ae.then(chart => {\n",
       "        if (myVizzu_30483ae.parentNode && myVizzu_30483ae.parentNode.parentNode) {\n",
       "            myVizzu_30483ae.parentNode.parentNode.style.display = \"none\";\n",
       "        }\n",
       "        myVizzu_4ed9a5d.parentNode.parentNode.style.display = display_4ed9a5d;\n",
       "        myVizzu_4ed9a5d.parentNode.insertBefore(myVizzu_30483ae, myVizzu_4ed9a5d);\n",
       "        return chart.animate({\"data\": {\"filter\": record => { return ((record['Genres'] == 'Pop' || record['Genres'] == 'Metal') && record['Types'] == 'Smooth') }}});\n",
       "    });\n",
       "</script>"
      ]
     },
     "metadata": {},
     "output_type": "display_data"
    },
    {
     "data": {
      "text/html": [
       "<script id=\"myVizzu_d933218\">\n",
       "    myVizzu_d933218.parentNode.parentNode.style.display = \"none\";\n",
       "    let snapshot_d933218;\n",
       "    chart_30483ae = chart_30483ae.then(chart => {\n",
       "        snapshot_d933218 = chart.store();\n",
       "        return chart;\n",
       "    });\n",
       "</script>"
      ]
     },
     "metadata": {},
     "output_type": "display_data"
    }
   ],
   "source": [
    "chart.animate(snapshot1)\n",
    "\n",
    "chart.animate(Config({\"title\": \"Filter by two dimensions\"}))\n",
    "\n",
    "filter2 = Data.filter(\"(record['Genres'] == 'Pop' || record['Genres'] == 'Metal') && record['Types'] == 'Smooth'\")\n",
    "\n",
    "chart.animate(filter2)\n",
    "\n",
    "snapshot2 = chart.store()"
   ]
  },
  {
   "cell_type": "markdown",
   "id": "b782890b",
   "metadata": {},
   "source": [
    "Switching the filter off to get back to the original view."
   ]
  },
  {
   "cell_type": "code",
   "execution_count": 3,
   "id": "6e231d21",
   "metadata": {},
   "outputs": [
    {
     "data": {
      "text/html": [
       "<script id=\"myVizzu_dc8b78c\">\n",
       "    let display_dc8b78c = myVizzu_dc8b78c.parentNode.parentNode.style.display;\n",
       "    myVizzu_dc8b78c.parentNode.parentNode.style.display = \"none\";\n",
       "    chart_30483ae = chart_30483ae.then(chart => {\n",
       "        if (myVizzu_30483ae.parentNode && myVizzu_30483ae.parentNode.parentNode) {\n",
       "            myVizzu_30483ae.parentNode.parentNode.style.display = \"none\";\n",
       "        }\n",
       "        myVizzu_dc8b78c.parentNode.parentNode.style.display = display_dc8b78c;\n",
       "        myVizzu_dc8b78c.parentNode.insertBefore(myVizzu_30483ae, myVizzu_dc8b78c);\n",
       "        return chart.animate(snapshot_d933218);\n",
       "    });\n",
       "</script>"
      ]
     },
     "metadata": {},
     "output_type": "display_data"
    },
    {
     "data": {
      "text/html": [
       "<script id=\"myVizzu_302d50f\">\n",
       "    let display_302d50f = myVizzu_302d50f.parentNode.parentNode.style.display;\n",
       "    myVizzu_302d50f.parentNode.parentNode.style.display = \"none\";\n",
       "    chart_30483ae = chart_30483ae.then(chart => {\n",
       "        if (myVizzu_30483ae.parentNode && myVizzu_30483ae.parentNode.parentNode) {\n",
       "            myVizzu_30483ae.parentNode.parentNode.style.display = \"none\";\n",
       "        }\n",
       "        myVizzu_302d50f.parentNode.parentNode.style.display = display_302d50f;\n",
       "        myVizzu_302d50f.parentNode.insertBefore(myVizzu_30483ae, myVizzu_302d50f);\n",
       "        return chart.animate({\"config\": {\"title\": \"Filter off\"}});\n",
       "    });\n",
       "</script>"
      ]
     },
     "metadata": {},
     "output_type": "display_data"
    },
    {
     "data": {
      "text/html": [
       "<script id=\"myVizzu_61b7708\">\n",
       "    let display_61b7708 = myVizzu_61b7708.parentNode.parentNode.style.display;\n",
       "    myVizzu_61b7708.parentNode.parentNode.style.display = \"none\";\n",
       "    chart_30483ae = chart_30483ae.then(chart => {\n",
       "        if (myVizzu_30483ae.parentNode && myVizzu_30483ae.parentNode.parentNode) {\n",
       "            myVizzu_30483ae.parentNode.parentNode.style.display = \"none\";\n",
       "        }\n",
       "        myVizzu_61b7708.parentNode.parentNode.style.display = display_61b7708;\n",
       "        myVizzu_61b7708.parentNode.insertBefore(myVizzu_30483ae, myVizzu_61b7708);\n",
       "        return chart.animate({\"data\": {\"filter\": null}});\n",
       "    });\n",
       "</script>"
      ]
     },
     "metadata": {},
     "output_type": "display_data"
    },
    {
     "data": {
      "text/html": [
       "<script id=\"myVizzu_90eb095\">\n",
       "    myVizzu_90eb095.parentNode.parentNode.style.display = \"none\";\n",
       "    let snapshot_90eb095;\n",
       "    chart_30483ae = chart_30483ae.then(chart => {\n",
       "        snapshot_90eb095 = chart.store();\n",
       "        return chart;\n",
       "    });\n",
       "</script>"
      ]
     },
     "metadata": {},
     "output_type": "display_data"
    }
   ],
   "source": [
    "chart.animate(snapshot2)\n",
    "\n",
    "chart.animate(Config({\"title\": \"Filter off\"}))\n",
    "\n",
    "chart.animate(Data.filter(None))\n",
    "\n",
    "snapshot3 = chart.store()"
   ]
  },
  {
   "cell_type": "markdown",
   "id": "88243fd6",
   "metadata": {},
   "source": [
    "Here we add another record to the data set and update the chart accordingly."
   ]
  },
  {
   "cell_type": "code",
   "execution_count": 4,
   "id": "384d20b1",
   "metadata": {},
   "outputs": [
    {
     "data": {
      "text/html": [
       "<script id=\"myVizzu_a51918f\">\n",
       "    let display_a51918f = myVizzu_a51918f.parentNode.parentNode.style.display;\n",
       "    myVizzu_a51918f.parentNode.parentNode.style.display = \"none\";\n",
       "    chart_30483ae = chart_30483ae.then(chart => {\n",
       "        if (myVizzu_30483ae.parentNode && myVizzu_30483ae.parentNode.parentNode) {\n",
       "            myVizzu_30483ae.parentNode.parentNode.style.display = \"none\";\n",
       "        }\n",
       "        myVizzu_a51918f.parentNode.parentNode.style.display = display_a51918f;\n",
       "        myVizzu_a51918f.parentNode.insertBefore(myVizzu_30483ae, myVizzu_a51918f);\n",
       "        return chart.animate(snapshot_90eb095);\n",
       "    });\n",
       "</script>"
      ]
     },
     "metadata": {},
     "output_type": "display_data"
    },
    {
     "data": {
      "text/html": [
       "<script id=\"myVizzu_17219cd\">\n",
       "    let display_17219cd = myVizzu_17219cd.parentNode.parentNode.style.display;\n",
       "    myVizzu_17219cd.parentNode.parentNode.style.display = \"none\";\n",
       "    chart_30483ae = chart_30483ae.then(chart => {\n",
       "        if (myVizzu_30483ae.parentNode && myVizzu_30483ae.parentNode.parentNode) {\n",
       "            myVizzu_30483ae.parentNode.parentNode.style.display = \"none\";\n",
       "        }\n",
       "        myVizzu_17219cd.parentNode.parentNode.style.display = display_17219cd;\n",
       "        myVizzu_17219cd.parentNode.insertBefore(myVizzu_30483ae, myVizzu_17219cd);\n",
       "        return chart.animate({\"config\": {\"title\": \"Adding new records\"}});\n",
       "    });\n",
       "</script>"
      ]
     },
     "metadata": {},
     "output_type": "display_data"
    },
    {
     "data": {
      "text/html": [
       "<script id=\"myVizzu_5b9e65a\">\n",
       "    let display_5b9e65a = myVizzu_5b9e65a.parentNode.parentNode.style.display;\n",
       "    myVizzu_5b9e65a.parentNode.parentNode.style.display = \"none\";\n",
       "    chart_30483ae = chart_30483ae.then(chart => {\n",
       "        if (myVizzu_30483ae.parentNode && myVizzu_30483ae.parentNode.parentNode) {\n",
       "            myVizzu_30483ae.parentNode.parentNode.style.display = \"none\";\n",
       "        }\n",
       "        myVizzu_5b9e65a.parentNode.parentNode.style.display = display_5b9e65a;\n",
       "        myVizzu_5b9e65a.parentNode.insertBefore(myVizzu_30483ae, myVizzu_5b9e65a);\n",
       "        return chart.animate({\"data\": {\"records\": [[\"Soul\", \"Hard\", 91], [\"Soul\", \"Smooth\", 57], [\"Soul\", \"Experimental\", 115]]}});\n",
       "    });\n",
       "</script>"
      ]
     },
     "metadata": {},
     "output_type": "display_data"
    }
   ],
   "source": [
    "chart.animate(snapshot3)\n",
    "\n",
    "chart.animate(Config({\"title\": \"Adding new records\"}))\n",
    "\n",
    "data2 = Data()\n",
    "records = [\n",
    "    ['Soul', 'Hard', 91],\n",
    "    ['Soul', 'Smooth', 57],\n",
    "    ['Soul', 'Experimental', 115]\n",
    "]\n",
    "data2.add_records(records)\n",
    "\n",
    "chart.animate(data2)"
   ]
  },
  {
   "cell_type": "markdown",
   "id": "c87444f7",
   "metadata": {},
   "source": [
    "Note: combining this option with the store function makes it easy to update previously configured states with fresh data since this function saves the config and style parameters of the chart into a variable but not the data."
   ]
  }
 ],
 "metadata": {
  "kernelspec": {
   "display_name": "Python 3 (ipykernel)",
   "language": "python",
   "name": "python3"
  },
  "language_info": {
   "codemirror_mode": {
    "name": "ipython",
    "version": 3
   },
   "file_extension": ".py",
   "mimetype": "text/x-python",
   "name": "python",
   "nbconvert_exporter": "python",
   "pygments_lexer": "ipython3",
   "version": "3.8.10"
  }
 },
 "nbformat": 4,
 "nbformat_minor": 5
}
