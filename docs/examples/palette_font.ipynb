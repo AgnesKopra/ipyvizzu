{
 "cells": [
  {
   "cell_type": "markdown",
   "id": "8518ab11",
   "metadata": {},
   "source": [
    "## Color palette & fonts\n",
    "\n",
    "This and the next chapter provide a quick intro to the styling of the charts. You can either use the style property like in the following examples or use CSS. By using CSS, it's easier to set the same style for multiple charts on one page or re-use style settings.\n",
    "\n",
    "If you use CSS, don't change the set parameters later on via the style property.\n",
    "\n",
    "The font sizes automatically adjust to the chart size to help readability, and can also be set separately or for specific groups.\n",
    "\n",
    "The color palette is changed to the colors we add here. The order of the dimension’s items in the data set determine which color belongs to which item as the colors are added one-by-one. If you want to use the same setting via CSS, you should add --vizzu-plot-marker-colorPalette: #9355e8FF #123456FF #BDAF10FF;"
   ]
  },
  {
   "cell_type": "code",
   "execution_count": 1,
   "id": "b0552636",
   "metadata": {},
   "outputs": [
    {
     "data": {
      "text/html": [
       "<script id=\"myVizzu_d8a6a14\">\n",
       "    document.getElementById(\"myVizzu_d8a6a14\").parentNode.style.padding = \"0px\";\n",
       "</script>\n",
       "<div id=\"myVizzu_7769498\" style=\"width:800px; height:480px;\"/>\n",
       "<script>\n",
       "    let myVizzu_7769498 = document.getElementById(\"myVizzu_7769498\")\n",
       "    let chart_7769498 = import(\"https://cdn.jsdelivr.net/npm/vizzu@~0.4.0/dist/vizzu.min.js\").then(Vizzu => new Vizzu.default(\"myVizzu_7769498\").initializing);\n",
       "</script>"
      ]
     },
     "metadata": {},
     "output_type": "display_data"
    },
    {
     "data": {
      "text/html": [
       "<script id=\"myVizzu_9c4b8ed\">\n",
       "    document.getElementById(\"myVizzu_9c4b8ed\").parentNode.style.padding = \"0px\";\n",
       "</script>\n",
       "<div id=\"myVizzu_798cd1a\"/>\n",
       "<script>\n",
       "    chart_7769498 = chart_7769498.then(chart => {\n",
       "        document.getElementById(\"myVizzu_798cd1a\").appendChild(myVizzu_7769498);\n",
       "        return chart.animate({\"data\": {\"dimensions\": [{\"name\": \"Genres\", \"values\": [\"Pop\", \"Rock\", \"Jazz\", \"Metal\"]}, {\"name\": \"Types\", \"values\": [\"Hard\", \"Smooth\", \"Experimental\"]}], \"measures\": [{\"name\": \"Popularity\", \"values\": [[114, 96, 78, 52], [56, 36, 174, 121], [127, 83, 94, 58]]}]}})\n",
       "    });\n",
       "</script>"
      ]
     },
     "metadata": {},
     "output_type": "display_data"
    },
    {
     "data": {
      "text/html": [
       "<script id=\"myVizzu_be76015\">\n",
       "    document.getElementById(\"myVizzu_be76015\").parentNode.style.padding = \"0px\";\n",
       "</script>\n",
       "<div id=\"myVizzu_34282ee\"/>\n",
       "<script>\n",
       "    chart_7769498 = chart_7769498.then(chart => {\n",
       "        document.getElementById(\"myVizzu_34282ee\").appendChild(myVizzu_7769498);\n",
       "        return chart.animate({\"config\": {\"channels\": {\"y\": {\"set\": [\"Popularity\", \"Types\"]}, \"x\": {\"set\": \"Genres\"}}, \"label\": {\"attach\": \"Popularity\"}, \"color\": {\"set\": \"Types\"}, \"title\": \"Color palette\"}})\n",
       "    });\n",
       "</script>"
      ]
     },
     "metadata": {},
     "output_type": "display_data"
    },
    {
     "data": {
      "text/html": [
       "<script id=\"myVizzu_0229d72\">\n",
       "    document.getElementById(\"myVizzu_0229d72\").parentNode.style.padding = \"0px\";\n",
       "</script>\n",
       "<div id=\"myVizzu_3d69caa\"/>\n",
       "<script>\n",
       "    chart_7769498 = chart_7769498.then(chart => {\n",
       "        document.getElementById(\"myVizzu_3d69caa\").appendChild(myVizzu_7769498);\n",
       "        return chart.animate({\"style\": {\"plot\": {\"marker\": {\"colorPalette\": \"#9355e8FF #123456FF #BDAF10FF\"}}}})\n",
       "    });\n",
       "</script>"
      ]
     },
     "metadata": {},
     "output_type": "display_data"
    },
    {
     "data": {
      "text/html": [
       "<script id=\"myVizzu_dd39cee\">\n",
       "    document.getElementById(\"myVizzu_dd39cee\").parentNode.style.padding = \"0px\";\n",
       "</script>\n",
       "<script>\n",
       "    let snapshot_cfda71f;\n",
       "    chart_7769498 = chart_7769498.then(chart => {\n",
       "        snapshot_cfda71f = chart.store();\n",
       "        return chart;\n",
       "    });\n",
       "</script>"
      ]
     },
     "metadata": {},
     "output_type": "display_data"
    }
   ],
   "source": [
    "from ipyvizzu import Chart, Data, Config, Style\n",
    "\n",
    "chart = Chart()\n",
    "\n",
    "data = Data.from_json(\"../data/music_example_data.json\")\n",
    "\n",
    "chart.animate(data)\n",
    "\n",
    "chart.animate(Config({\n",
    "    \"channels\": {\n",
    "        \"y\": {\n",
    "            \"set\": [\"Popularity\", \"Types\"]\n",
    "        }, \n",
    "        \"x\": {\n",
    "            \"set\": \"Genres\"\n",
    "        }\n",
    "    }, \n",
    "    \"label\": {\n",
    "        \"attach\": \"Popularity\"\n",
    "    },\n",
    "    \"color\": {\n",
    "        \"set\": \"Types\"\n",
    "    },\n",
    "    \"title\": \"Color palette\"\n",
    "}))\n",
    "\n",
    "chart.animate(Style({\n",
    "    \"plot\": {\n",
    "        \"marker\": {\n",
    "            \"colorPalette\": \"#9355e8FF #123456FF #BDAF10FF\"\n",
    "        }\n",
    "    }\n",
    "}))\n",
    "\n",
    "snapshot1 = chart.store()"
   ]
  },
  {
   "cell_type": "markdown",
   "id": "00bf9cba",
   "metadata": {},
   "source": [
    "Changing the title font size will only affect the title; all other font sizes remain the same. CSS version: --vizzu-title-fontSize: 50;"
   ]
  },
  {
   "cell_type": "code",
   "execution_count": 2,
   "id": "9a7fe9b8",
   "metadata": {},
   "outputs": [
    {
     "data": {
      "text/html": [
       "<script id=\"myVizzu_767a0dc\">\n",
       "    document.getElementById(\"myVizzu_767a0dc\").parentNode.style.padding = \"0px\";\n",
       "</script>\n",
       "<div id=\"myVizzu_364275f\"/>\n",
       "<script>\n",
       "    chart_7769498 = chart_7769498.then(chart => {\n",
       "        document.getElementById(\"myVizzu_364275f\").appendChild(myVizzu_7769498);\n",
       "        return chart.animate(snapshot_cfda71f)\n",
       "    });\n",
       "</script>"
      ]
     },
     "metadata": {},
     "output_type": "display_data"
    },
    {
     "data": {
      "text/html": [
       "<script id=\"myVizzu_a8d101c\">\n",
       "    document.getElementById(\"myVizzu_a8d101c\").parentNode.style.padding = \"0px\";\n",
       "</script>\n",
       "<div id=\"myVizzu_126b272\"/>\n",
       "<script>\n",
       "    chart_7769498 = chart_7769498.then(chart => {\n",
       "        document.getElementById(\"myVizzu_126b272\").appendChild(myVizzu_7769498);\n",
       "        return chart.animate({\"config\": {\"title\": \"Title font size\"}})\n",
       "    });\n",
       "</script>"
      ]
     },
     "metadata": {},
     "output_type": "display_data"
    },
    {
     "data": {
      "text/html": [
       "<script id=\"myVizzu_f77b45f\">\n",
       "    document.getElementById(\"myVizzu_f77b45f\").parentNode.style.padding = \"0px\";\n",
       "</script>\n",
       "<div id=\"myVizzu_983aa74\"/>\n",
       "<script>\n",
       "    chart_7769498 = chart_7769498.then(chart => {\n",
       "        document.getElementById(\"myVizzu_983aa74\").appendChild(myVizzu_7769498);\n",
       "        return chart.animate({\"style\": {\"title\": {\"fontSize\": 50}}})\n",
       "    });\n",
       "</script>"
      ]
     },
     "metadata": {},
     "output_type": "display_data"
    },
    {
     "data": {
      "text/html": [
       "<script id=\"myVizzu_a2321bc\">\n",
       "    document.getElementById(\"myVizzu_a2321bc\").parentNode.style.padding = \"0px\";\n",
       "</script>\n",
       "<script>\n",
       "    let snapshot_65b2c40;\n",
       "    chart_7769498 = chart_7769498.then(chart => {\n",
       "        snapshot_65b2c40 = chart.store();\n",
       "        return chart;\n",
       "    });\n",
       "</script>"
      ]
     },
     "metadata": {},
     "output_type": "display_data"
    }
   ],
   "source": [
    "chart.animate(snapshot1)\n",
    "\n",
    "chart.animate(Config({\"title\": \"Title font size\"}))\n",
    "\n",
    "chart.animate(Style({\n",
    "    \"title\": {\n",
    "        \"fontSize\": 50\n",
    "    }\n",
    "}))\n",
    "\n",
    "snapshot2 = chart.store()"
   ]
  },
  {
   "cell_type": "markdown",
   "id": "fa329122",
   "metadata": {},
   "source": [
    "This is how to set the font size back to its default value."
   ]
  },
  {
   "cell_type": "code",
   "execution_count": 3,
   "id": "88fa24a8",
   "metadata": {},
   "outputs": [
    {
     "data": {
      "text/html": [
       "<script id=\"myVizzu_c12c098\">\n",
       "    document.getElementById(\"myVizzu_c12c098\").parentNode.style.padding = \"0px\";\n",
       "</script>\n",
       "<div id=\"myVizzu_ec7d026\"/>\n",
       "<script>\n",
       "    chart_7769498 = chart_7769498.then(chart => {\n",
       "        document.getElementById(\"myVizzu_ec7d026\").appendChild(myVizzu_7769498);\n",
       "        return chart.animate(snapshot_65b2c40)\n",
       "    });\n",
       "</script>"
      ]
     },
     "metadata": {},
     "output_type": "display_data"
    },
    {
     "data": {
      "text/html": [
       "<script id=\"myVizzu_1cf48d9\">\n",
       "    document.getElementById(\"myVizzu_1cf48d9\").parentNode.style.padding = \"0px\";\n",
       "</script>\n",
       "<div id=\"myVizzu_50ae17e\"/>\n",
       "<script>\n",
       "    chart_7769498 = chart_7769498.then(chart => {\n",
       "        document.getElementById(\"myVizzu_50ae17e\").appendChild(myVizzu_7769498);\n",
       "        return chart.animate({\"config\": {\"title\": \"Title font size - back to default\"}})\n",
       "    });\n",
       "</script>"
      ]
     },
     "metadata": {},
     "output_type": "display_data"
    },
    {
     "data": {
      "text/html": [
       "<script id=\"myVizzu_cee94a4\">\n",
       "    document.getElementById(\"myVizzu_cee94a4\").parentNode.style.padding = \"0px\";\n",
       "</script>\n",
       "<div id=\"myVizzu_d5bd38b\"/>\n",
       "<script>\n",
       "    chart_7769498 = chart_7769498.then(chart => {\n",
       "        document.getElementById(\"myVizzu_d5bd38b\").appendChild(myVizzu_7769498);\n",
       "        return chart.animate({\"style\": {\"title\": {\"fontSize\": null}}})\n",
       "    });\n",
       "</script>"
      ]
     },
     "metadata": {},
     "output_type": "display_data"
    },
    {
     "data": {
      "text/html": [
       "<script id=\"myVizzu_242d2ec\">\n",
       "    document.getElementById(\"myVizzu_242d2ec\").parentNode.style.padding = \"0px\";\n",
       "</script>\n",
       "<script>\n",
       "    let snapshot_3a26638;\n",
       "    chart_7769498 = chart_7769498.then(chart => {\n",
       "        snapshot_3a26638 = chart.store();\n",
       "        return chart;\n",
       "    });\n",
       "</script>"
      ]
     },
     "metadata": {},
     "output_type": "display_data"
    }
   ],
   "source": [
    "chart.animate(snapshot2)\n",
    "\n",
    "chart.animate(Config({\"title\": \"Title font size - back to default\"}))\n",
    "\n",
    "chart.animate(Style({\n",
    "    \"title\": {\n",
    "        \"fontSize\": None\n",
    "    }\n",
    "}))\n",
    "\n",
    "snapshot3 = chart.store()"
   ]
  },
  {
   "cell_type": "markdown",
   "id": "3d68c376",
   "metadata": {},
   "source": [
    "In case you change the font size of the whole chart with the top-level fontSize parameter then every font on the chart will grow/shrink proportionally. The size refers to the font size of the axis labels by default."
   ]
  },
  {
   "cell_type": "code",
   "execution_count": 4,
   "id": "c7e60196",
   "metadata": {},
   "outputs": [
    {
     "data": {
      "text/html": [
       "<script id=\"myVizzu_d0e80df\">\n",
       "    document.getElementById(\"myVizzu_d0e80df\").parentNode.style.padding = \"0px\";\n",
       "</script>\n",
       "<div id=\"myVizzu_4182dc7\"/>\n",
       "<script>\n",
       "    chart_7769498 = chart_7769498.then(chart => {\n",
       "        document.getElementById(\"myVizzu_4182dc7\").appendChild(myVizzu_7769498);\n",
       "        return chart.animate(snapshot_3a26638)\n",
       "    });\n",
       "</script>"
      ]
     },
     "metadata": {},
     "output_type": "display_data"
    },
    {
     "data": {
      "text/html": [
       "<script id=\"myVizzu_519f6e0\">\n",
       "    document.getElementById(\"myVizzu_519f6e0\").parentNode.style.padding = \"0px\";\n",
       "</script>\n",
       "<div id=\"myVizzu_c65f8d9\"/>\n",
       "<script>\n",
       "    chart_7769498 = chart_7769498.then(chart => {\n",
       "        document.getElementById(\"myVizzu_c65f8d9\").appendChild(myVizzu_7769498);\n",
       "        return chart.animate({\"config\": {\"title\": \"Setting all font sizes in one step\"}})\n",
       "    });\n",
       "</script>"
      ]
     },
     "metadata": {},
     "output_type": "display_data"
    },
    {
     "data": {
      "text/html": [
       "<script id=\"myVizzu_b05063d\">\n",
       "    document.getElementById(\"myVizzu_b05063d\").parentNode.style.padding = \"0px\";\n",
       "</script>\n",
       "<div id=\"myVizzu_63e34b1\"/>\n",
       "<script>\n",
       "    chart_7769498 = chart_7769498.then(chart => {\n",
       "        document.getElementById(\"myVizzu_63e34b1\").appendChild(myVizzu_7769498);\n",
       "        return chart.animate({\"style\": {\"fontSize\": 20}})\n",
       "    });\n",
       "</script>"
      ]
     },
     "metadata": {},
     "output_type": "display_data"
    },
    {
     "data": {
      "text/html": [
       "<script id=\"myVizzu_91cc4cf\">\n",
       "    document.getElementById(\"myVizzu_91cc4cf\").parentNode.style.padding = \"0px\";\n",
       "</script>\n",
       "<script>\n",
       "    let snapshot_7022861;\n",
       "    chart_7769498 = chart_7769498.then(chart => {\n",
       "        snapshot_7022861 = chart.store();\n",
       "        return chart;\n",
       "    });\n",
       "</script>"
      ]
     },
     "metadata": {},
     "output_type": "display_data"
    }
   ],
   "source": [
    "chart.animate(snapshot3)\n",
    "\n",
    "chart.animate(Config({\"title\": \"Setting all font sizes in one step\"}))\n",
    "\n",
    "chart.animate(Style({\n",
    "    \"fontSize\": 20\n",
    "}))\n",
    "\n",
    "snapshot4 = chart.store()"
   ]
  },
  {
   "cell_type": "markdown",
   "id": "b45e96b6",
   "metadata": {},
   "source": [
    "You can reset styles to default on any levels by setting them to null."
   ]
  },
  {
   "cell_type": "code",
   "execution_count": 5,
   "id": "d58b14d9",
   "metadata": {},
   "outputs": [
    {
     "data": {
      "text/html": [
       "<script id=\"myVizzu_3218624\">\n",
       "    document.getElementById(\"myVizzu_3218624\").parentNode.style.padding = \"0px\";\n",
       "</script>\n",
       "<div id=\"myVizzu_1e343e8\"/>\n",
       "<script>\n",
       "    chart_7769498 = chart_7769498.then(chart => {\n",
       "        document.getElementById(\"myVizzu_1e343e8\").appendChild(myVizzu_7769498);\n",
       "        return chart.animate(snapshot_7022861)\n",
       "    });\n",
       "</script>"
      ]
     },
     "metadata": {},
     "output_type": "display_data"
    },
    {
     "data": {
      "text/html": [
       "<script id=\"myVizzu_25078a1\">\n",
       "    document.getElementById(\"myVizzu_25078a1\").parentNode.style.padding = \"0px\";\n",
       "</script>\n",
       "<div id=\"myVizzu_1a1a7a8\"/>\n",
       "<script>\n",
       "    chart_7769498 = chart_7769498.then(chart => {\n",
       "        document.getElementById(\"myVizzu_1a1a7a8\").appendChild(myVizzu_7769498);\n",
       "        return chart.animate({\"config\": {\"title\": \"Setting all style settings back to default\"}})\n",
       "    });\n",
       "</script>"
      ]
     },
     "metadata": {},
     "output_type": "display_data"
    },
    {
     "data": {
      "text/html": [
       "<script id=\"myVizzu_b0373ea\">\n",
       "    document.getElementById(\"myVizzu_b0373ea\").parentNode.style.padding = \"0px\";\n",
       "</script>\n",
       "<div id=\"myVizzu_bb01980\"/>\n",
       "<script>\n",
       "    chart_7769498 = chart_7769498.then(chart => {\n",
       "        document.getElementById(\"myVizzu_bb01980\").appendChild(myVizzu_7769498);\n",
       "        return chart.animate({\"style\": null})\n",
       "    });\n",
       "</script>"
      ]
     },
     "metadata": {},
     "output_type": "display_data"
    }
   ],
   "source": [
    "chart.animate(snapshot4)\n",
    "\n",
    "chart.animate(Config({\"title\": \"Setting all style settings back to default\"}))\n",
    "\n",
    "chart.animate(Style(None))"
   ]
  }
 ],
 "metadata": {
  "kernelspec": {
   "display_name": "Python 3 (ipykernel)",
   "language": "python",
   "name": "python3"
  },
  "language_info": {
   "codemirror_mode": {
    "name": "ipython",
    "version": 3
   },
   "file_extension": ".py",
   "mimetype": "text/x-python",
   "name": "python",
   "nbconvert_exporter": "python",
   "pygments_lexer": "ipython3",
   "version": "3.8.10"
  }
 },
 "nbformat": 4,
 "nbformat_minor": 5
}
