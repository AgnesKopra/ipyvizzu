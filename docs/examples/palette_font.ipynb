{
 "cells": [
  {
   "cell_type": "markdown",
   "id": "8518ab11",
   "metadata": {},
   "source": [
    "## Color palette & fonts\n",
    "\n",
    "This and the next chapter provide a quick intro to the styling of the charts. You can either use the style property like in the following examples or use CSS. By using CSS, it's easier to set the same style for multiple charts on one page or re-use style settings.\n",
    "\n",
    "If you use CSS, don't change the set parameters later on via the style property.\n",
    "\n",
    "The font sizes automatically adjust to the chart size to help readability, and can also be set separately or for specific groups.\n",
    "\n",
    "The color palette is changed to the colors we add here. The order of the dimension’s items in the data set determine which color belongs to which item as the colors are added one-by-one. If you want to use the same setting via CSS, you should add --vizzu-plot-marker-colorPalette: #9355e8FF #123456FF #BDAF10FF;"
   ]
  },
  {
   "cell_type": "code",
   "execution_count": 1,
   "id": "b0552636",
   "metadata": {},
   "outputs": [
    {
     "data": {
      "text/html": [
       "<script id=\"myVizzu_7871812\">\n",
       "        document.getElementById(\"myVizzu_7871812\").parentNode.style.padding = \"0px\";\n",
       "        </script>\n",
       "<div id=\"myVizzu_78ce541\" style=\"width:800px; height:480px;\"/>\n",
       "        <script>\n",
       "        let myVizzu_78ce541 = document.getElementById(\"myVizzu_78ce541\")\n",
       "        let chart_78ce541 = import(\"https://cdn.jsdelivr.net/npm/vizzu@~0.4.0/dist/vizzu.min.js\").then(Vizzu => new Vizzu.default(\"myVizzu_78ce541\").initializing);\n",
       "        </script>"
      ]
     },
     "metadata": {},
     "output_type": "display_data"
    },
    {
     "data": {
      "text/html": [
       "<script id=\"myVizzu_2f7ba5a\">\n",
       "        document.getElementById(\"myVizzu_2f7ba5a\").parentNode.style.padding = \"0px\";\n",
       "        </script>\n",
       "<div id=\"myVizzu_d048db3\"/>\n",
       "        <script>\n",
       "        \n",
       "        chart_78ce541 = chart_78ce541.then(chart => {\n",
       "            document.getElementById(\"myVizzu_d048db3\").appendChild(myVizzu_78ce541);\n",
       "            return chart.animate({\"data\": {\"dimensions\": [{\"name\": \"Genres\", \"values\": [\"Pop\", \"Rock\", \"Jazz\", \"Metal\"]}, {\"name\": \"Types\", \"values\": [\"Hard\", \"Smooth\", \"Experimental\"]}], \"measures\": [{\"name\": \"Popularity\", \"values\": [[114, 96, 78, 52], [56, 36, 174, 121], [127, 83, 94, 58]]}]}})\n",
       "        });\n",
       "        </script>"
      ]
     },
     "metadata": {},
     "output_type": "display_data"
    },
    {
     "data": {
      "text/html": [
       "<script id=\"myVizzu_883af2a\">\n",
       "        document.getElementById(\"myVizzu_883af2a\").parentNode.style.padding = \"0px\";\n",
       "        </script>\n",
       "<div id=\"myVizzu_85a5a34\"/>\n",
       "        <script>\n",
       "        \n",
       "        chart_78ce541 = chart_78ce541.then(chart => {\n",
       "            document.getElementById(\"myVizzu_85a5a34\").appendChild(myVizzu_78ce541);\n",
       "            return chart.animate({\"config\": {\"channels\": {\"y\": {\"set\": [\"Popularity\", \"Types\"]}, \"x\": {\"set\": \"Genres\"}}, \"label\": {\"attach\": \"Popularity\"}, \"color\": {\"set\": \"Types\"}, \"title\": \"Color palette\"}})\n",
       "        });\n",
       "        </script>"
      ]
     },
     "metadata": {},
     "output_type": "display_data"
    },
    {
     "data": {
      "text/html": [
       "<script id=\"myVizzu_ca09ac2\">\n",
       "        document.getElementById(\"myVizzu_ca09ac2\").parentNode.style.padding = \"0px\";\n",
       "        </script>\n",
       "<div id=\"myVizzu_8afbb19\"/>\n",
       "        <script>\n",
       "        \n",
       "        chart_78ce541 = chart_78ce541.then(chart => {\n",
       "            document.getElementById(\"myVizzu_8afbb19\").appendChild(myVizzu_78ce541);\n",
       "            return chart.animate({\"style\": {\"plot\": {\"marker\": {\"colorPalette\": \"#9355e8FF #123456FF #BDAF10FF\"}}}})\n",
       "        });\n",
       "        </script>"
      ]
     },
     "metadata": {},
     "output_type": "display_data"
    },
    {
     "data": {
      "text/html": [
       "<script id=\"myVizzu_d96009a\">\n",
       "        document.getElementById(\"myVizzu_d96009a\").parentNode.style.padding = \"0px\";\n",
       "        </script>\n",
       "<script>\n",
       "        let snapshot_fb9fd30;\n",
       "        chart_78ce541 = chart_78ce541.then(chart => {\n",
       "            snapshot_fb9fd30 = chart.store();\n",
       "            return chart;\n",
       "        });\n",
       "        </script>"
      ]
     },
     "metadata": {},
     "output_type": "display_data"
    }
   ],
   "source": [
    "from ipyvizzu import Chart, Data, Config, Style\n",
    "\n",
    "chart = Chart()\n",
    "\n",
    "data = Data.from_json(\"../data/music_example_data.json\")\n",
    "\n",
    "chart.animate(data)\n",
    "\n",
    "chart.animate(Config({\n",
    "    \"channels\": {\n",
    "        \"y\": {\n",
    "            \"set\": [\"Popularity\", \"Types\"]\n",
    "        }, \n",
    "        \"x\": {\n",
    "            \"set\": \"Genres\"\n",
    "        }\n",
    "    }, \n",
    "    \"label\": {\n",
    "        \"attach\": \"Popularity\"\n",
    "    },\n",
    "    \"color\": {\n",
    "        \"set\": \"Types\"\n",
    "    },\n",
    "    \"title\": \"Color palette\"\n",
    "}))\n",
    "\n",
    "chart.animate(Style({\n",
    "    \"plot\": {\n",
    "        \"marker\": {\n",
    "            \"colorPalette\": \"#9355e8FF #123456FF #BDAF10FF\"\n",
    "        }\n",
    "    }\n",
    "}))\n",
    "\n",
    "snapshot1 = chart.store()"
   ]
  },
  {
   "cell_type": "markdown",
   "id": "00bf9cba",
   "metadata": {},
   "source": [
    "Changing the title font size will only affect the title; all other font sizes remain the same. CSS version: --vizzu-title-fontSize: 50;"
   ]
  },
  {
   "cell_type": "code",
   "execution_count": 2,
   "id": "9a7fe9b8",
   "metadata": {},
   "outputs": [
    {
     "data": {
      "text/html": [
       "<script id=\"myVizzu_a8ee6f8\">\n",
       "        document.getElementById(\"myVizzu_a8ee6f8\").parentNode.style.padding = \"0px\";\n",
       "        </script>\n",
       "<div id=\"myVizzu_ae5b3f6\"/>\n",
       "        <script>\n",
       "        \n",
       "        chart_78ce541 = chart_78ce541.then(chart => {\n",
       "            document.getElementById(\"myVizzu_ae5b3f6\").appendChild(myVizzu_78ce541);\n",
       "            return chart.animate(snapshot_fb9fd30)\n",
       "        });\n",
       "        </script>"
      ]
     },
     "metadata": {},
     "output_type": "display_data"
    },
    {
     "data": {
      "text/html": [
       "<script id=\"myVizzu_e388cca\">\n",
       "        document.getElementById(\"myVizzu_e388cca\").parentNode.style.padding = \"0px\";\n",
       "        </script>\n",
       "<div id=\"myVizzu_f84cca1\"/>\n",
       "        <script>\n",
       "        \n",
       "        chart_78ce541 = chart_78ce541.then(chart => {\n",
       "            document.getElementById(\"myVizzu_f84cca1\").appendChild(myVizzu_78ce541);\n",
       "            return chart.animate({\"config\": {\"title\": \"Title font size\"}})\n",
       "        });\n",
       "        </script>"
      ]
     },
     "metadata": {},
     "output_type": "display_data"
    },
    {
     "data": {
      "text/html": [
       "<script id=\"myVizzu_004d495\">\n",
       "        document.getElementById(\"myVizzu_004d495\").parentNode.style.padding = \"0px\";\n",
       "        </script>\n",
       "<div id=\"myVizzu_9708e46\"/>\n",
       "        <script>\n",
       "        \n",
       "        chart_78ce541 = chart_78ce541.then(chart => {\n",
       "            document.getElementById(\"myVizzu_9708e46\").appendChild(myVizzu_78ce541);\n",
       "            return chart.animate({\"style\": {\"title\": {\"fontSize\": 50}}})\n",
       "        });\n",
       "        </script>"
      ]
     },
     "metadata": {},
     "output_type": "display_data"
    },
    {
     "data": {
      "text/html": [
       "<script id=\"myVizzu_034c22d\">\n",
       "        document.getElementById(\"myVizzu_034c22d\").parentNode.style.padding = \"0px\";\n",
       "        </script>\n",
       "<script>\n",
       "        let snapshot_45132b8;\n",
       "        chart_78ce541 = chart_78ce541.then(chart => {\n",
       "            snapshot_45132b8 = chart.store();\n",
       "            return chart;\n",
       "        });\n",
       "        </script>"
      ]
     },
     "metadata": {},
     "output_type": "display_data"
    }
   ],
   "source": [
    "chart.animate(snapshot1)\n",
    "\n",
    "chart.animate(Config({\"title\": \"Title font size\"}))\n",
    "\n",
    "chart.animate(Style({\n",
    "    \"title\": {\n",
    "        \"fontSize\": 50\n",
    "    }\n",
    "}))\n",
    "\n",
    "snapshot2 = chart.store()"
   ]
  },
  {
   "cell_type": "markdown",
   "id": "fa329122",
   "metadata": {},
   "source": [
    "This is how to set the font size back to its default value."
   ]
  },
  {
   "cell_type": "code",
   "execution_count": 3,
   "id": "88fa24a8",
   "metadata": {},
   "outputs": [
    {
     "data": {
      "text/html": [
       "<script id=\"myVizzu_1e4123c\">\n",
       "        document.getElementById(\"myVizzu_1e4123c\").parentNode.style.padding = \"0px\";\n",
       "        </script>\n",
       "<div id=\"myVizzu_cd65d4f\"/>\n",
       "        <script>\n",
       "        \n",
       "        chart_78ce541 = chart_78ce541.then(chart => {\n",
       "            document.getElementById(\"myVizzu_cd65d4f\").appendChild(myVizzu_78ce541);\n",
       "            return chart.animate(snapshot_45132b8)\n",
       "        });\n",
       "        </script>"
      ]
     },
     "metadata": {},
     "output_type": "display_data"
    },
    {
     "data": {
      "text/html": [
       "<script id=\"myVizzu_08e4f88\">\n",
       "        document.getElementById(\"myVizzu_08e4f88\").parentNode.style.padding = \"0px\";\n",
       "        </script>\n",
       "<div id=\"myVizzu_b809ead\"/>\n",
       "        <script>\n",
       "        \n",
       "        chart_78ce541 = chart_78ce541.then(chart => {\n",
       "            document.getElementById(\"myVizzu_b809ead\").appendChild(myVizzu_78ce541);\n",
       "            return chart.animate({\"config\": {\"title\": \"Title font size - back to default\"}})\n",
       "        });\n",
       "        </script>"
      ]
     },
     "metadata": {},
     "output_type": "display_data"
    },
    {
     "data": {
      "text/html": [
       "<script id=\"myVizzu_eb366db\">\n",
       "        document.getElementById(\"myVizzu_eb366db\").parentNode.style.padding = \"0px\";\n",
       "        </script>\n",
       "<div id=\"myVizzu_83fc4af\"/>\n",
       "        <script>\n",
       "        \n",
       "        chart_78ce541 = chart_78ce541.then(chart => {\n",
       "            document.getElementById(\"myVizzu_83fc4af\").appendChild(myVizzu_78ce541);\n",
       "            return chart.animate({\"style\": {\"title\": {\"fontSize\": null}}})\n",
       "        });\n",
       "        </script>"
      ]
     },
     "metadata": {},
     "output_type": "display_data"
    },
    {
     "data": {
      "text/html": [
       "<script id=\"myVizzu_979e9a1\">\n",
       "        document.getElementById(\"myVizzu_979e9a1\").parentNode.style.padding = \"0px\";\n",
       "        </script>\n",
       "<script>\n",
       "        let snapshot_beb9402;\n",
       "        chart_78ce541 = chart_78ce541.then(chart => {\n",
       "            snapshot_beb9402 = chart.store();\n",
       "            return chart;\n",
       "        });\n",
       "        </script>"
      ]
     },
     "metadata": {},
     "output_type": "display_data"
    }
   ],
   "source": [
    "chart.animate(snapshot2)\n",
    "\n",
    "chart.animate(Config({\"title\": \"Title font size - back to default\"}))\n",
    "\n",
    "chart.animate(Style({\n",
    "    \"title\": {\n",
    "        \"fontSize\": None\n",
    "    }\n",
    "}))\n",
    "\n",
    "snapshot3 = chart.store()"
   ]
  },
  {
   "cell_type": "markdown",
   "id": "3d68c376",
   "metadata": {},
   "source": [
    "In case you change the font size of the whole chart with the top-level fontSize parameter then every font on the chart will grow/shrink proportionally. The size refers to the font size of the axis labels by default."
   ]
  },
  {
   "cell_type": "code",
   "execution_count": 4,
   "id": "c7e60196",
   "metadata": {},
   "outputs": [
    {
     "data": {
      "text/html": [
       "<script id=\"myVizzu_a51fba9\">\n",
       "        document.getElementById(\"myVizzu_a51fba9\").parentNode.style.padding = \"0px\";\n",
       "        </script>\n",
       "<div id=\"myVizzu_9ba3161\"/>\n",
       "        <script>\n",
       "        \n",
       "        chart_78ce541 = chart_78ce541.then(chart => {\n",
       "            document.getElementById(\"myVizzu_9ba3161\").appendChild(myVizzu_78ce541);\n",
       "            return chart.animate(snapshot_beb9402)\n",
       "        });\n",
       "        </script>"
      ]
     },
     "metadata": {},
     "output_type": "display_data"
    },
    {
     "data": {
      "text/html": [
       "<script id=\"myVizzu_db401a3\">\n",
       "        document.getElementById(\"myVizzu_db401a3\").parentNode.style.padding = \"0px\";\n",
       "        </script>\n",
       "<div id=\"myVizzu_f05561b\"/>\n",
       "        <script>\n",
       "        \n",
       "        chart_78ce541 = chart_78ce541.then(chart => {\n",
       "            document.getElementById(\"myVizzu_f05561b\").appendChild(myVizzu_78ce541);\n",
       "            return chart.animate({\"config\": {\"title\": \"Setting all font sizes in one step\"}})\n",
       "        });\n",
       "        </script>"
      ]
     },
     "metadata": {},
     "output_type": "display_data"
    },
    {
     "data": {
      "text/html": [
       "<script id=\"myVizzu_66a6a52\">\n",
       "        document.getElementById(\"myVizzu_66a6a52\").parentNode.style.padding = \"0px\";\n",
       "        </script>\n",
       "<div id=\"myVizzu_2c55d53\"/>\n",
       "        <script>\n",
       "        \n",
       "        chart_78ce541 = chart_78ce541.then(chart => {\n",
       "            document.getElementById(\"myVizzu_2c55d53\").appendChild(myVizzu_78ce541);\n",
       "            return chart.animate({\"style\": {\"fontSize\": 20}})\n",
       "        });\n",
       "        </script>"
      ]
     },
     "metadata": {},
     "output_type": "display_data"
    },
    {
     "data": {
      "text/html": [
       "<script id=\"myVizzu_18819f5\">\n",
       "        document.getElementById(\"myVizzu_18819f5\").parentNode.style.padding = \"0px\";\n",
       "        </script>\n",
       "<script>\n",
       "        let snapshot_150c459;\n",
       "        chart_78ce541 = chart_78ce541.then(chart => {\n",
       "            snapshot_150c459 = chart.store();\n",
       "            return chart;\n",
       "        });\n",
       "        </script>"
      ]
     },
     "metadata": {},
     "output_type": "display_data"
    }
   ],
   "source": [
    "chart.animate(snapshot3)\n",
    "\n",
    "chart.animate(Config({\"title\": \"Setting all font sizes in one step\"}))\n",
    "\n",
    "chart.animate(Style({\n",
    "    \"fontSize\": 20\n",
    "}))\n",
    "\n",
    "snapshot4 = chart.store()"
   ]
  },
  {
   "cell_type": "markdown",
   "id": "b45e96b6",
   "metadata": {},
   "source": [
    "You can reset styles to default on any levels by setting them to null."
   ]
  },
  {
   "cell_type": "code",
   "execution_count": 5,
   "id": "d58b14d9",
   "metadata": {},
   "outputs": [
    {
     "data": {
      "text/html": [
       "<script id=\"myVizzu_232b255\">\n",
       "        document.getElementById(\"myVizzu_232b255\").parentNode.style.padding = \"0px\";\n",
       "        </script>\n",
       "<div id=\"myVizzu_610c681\"/>\n",
       "        <script>\n",
       "        \n",
       "        chart_78ce541 = chart_78ce541.then(chart => {\n",
       "            document.getElementById(\"myVizzu_610c681\").appendChild(myVizzu_78ce541);\n",
       "            return chart.animate(snapshot_150c459)\n",
       "        });\n",
       "        </script>"
      ]
     },
     "metadata": {},
     "output_type": "display_data"
    },
    {
     "data": {
      "text/html": [
       "<script id=\"myVizzu_f3782d1\">\n",
       "        document.getElementById(\"myVizzu_f3782d1\").parentNode.style.padding = \"0px\";\n",
       "        </script>\n",
       "<div id=\"myVizzu_6fe0a45\"/>\n",
       "        <script>\n",
       "        \n",
       "        chart_78ce541 = chart_78ce541.then(chart => {\n",
       "            document.getElementById(\"myVizzu_6fe0a45\").appendChild(myVizzu_78ce541);\n",
       "            return chart.animate({\"config\": {\"title\": \"Setting all style settings back to default\"}})\n",
       "        });\n",
       "        </script>"
      ]
     },
     "metadata": {},
     "output_type": "display_data"
    },
    {
     "data": {
      "text/html": [
       "<script id=\"myVizzu_6ecaa91\">\n",
       "        document.getElementById(\"myVizzu_6ecaa91\").parentNode.style.padding = \"0px\";\n",
       "        </script>\n",
       "<div id=\"myVizzu_6b30960\"/>\n",
       "        <script>\n",
       "        \n",
       "        chart_78ce541 = chart_78ce541.then(chart => {\n",
       "            document.getElementById(\"myVizzu_6b30960\").appendChild(myVizzu_78ce541);\n",
       "            return chart.animate({\"style\": null})\n",
       "        });\n",
       "        </script>"
      ]
     },
     "metadata": {},
     "output_type": "display_data"
    }
   ],
   "source": [
    "chart.animate(snapshot4)\n",
    "\n",
    "chart.animate(Config({\"title\": \"Setting all style settings back to default\"}))\n",
    "\n",
    "chart.animate(Style(None))"
   ]
  }
 ],
 "metadata": {
  "kernelspec": {
   "display_name": "Python 3 (ipykernel)",
   "language": "python",
   "name": "python3"
  },
  "language_info": {
   "codemirror_mode": {
    "name": "ipython",
    "version": 3
   },
   "file_extension": ".py",
   "mimetype": "text/x-python",
   "name": "python",
   "nbconvert_exporter": "python",
   "pygments_lexer": "ipython3",
   "version": "3.8.10"
  }
 },
 "nbformat": 4,
 "nbformat_minor": 5
}
