{
 "cells": [
  {
   "cell_type": "markdown",
   "id": "8518ab11",
   "metadata": {},
   "source": [
    "## Color palette & fonts\n",
    "\n",
    "This and the next chapter provide a quick intro to the styling of the charts. You can either use the style property like in the following examples or use CSS. By using CSS, it's easier to set the same style for multiple charts on one page or re-use style settings.\n",
    "\n",
    "If you use CSS, don't change the set parameters later on via the style property.\n",
    "\n",
    "The font sizes automatically adjust to the chart size to help readability, and can also be set separately or for specific groups.\n",
    "\n",
    "The color palette is changed to the colors we add here. The order of the dimension’s items in the data set determine which color belongs to which item as the colors are added one-by-one. If you want to use the same setting via CSS, you should add --vizzu-plot-marker-colorPalette: #9355e8FF #123456FF #BDAF10FF;"
   ]
  },
  {
   "cell_type": "code",
   "execution_count": 1,
   "id": "b0552636",
   "metadata": {},
   "outputs": [
    {
     "data": {
      "text/html": [
       "<script>\n",
       "    let myVizzu_c025ae7 = document.createElement(\"div\");\n",
       "    myVizzu_c025ae7.style.cssText = \"width: 800px; height: 480px;\";\n",
       "    let chart_c025ae7 = import(\"https://cdn.jsdelivr.net/npm/vizzu@~0.4.0/dist/vizzu.min.js\").then(Vizzu => new Vizzu.default(myVizzu_c025ae7).initializing);\n",
       "</script>"
      ]
     },
     "metadata": {},
     "output_type": "display_data"
    },
    {
     "data": {
      "text/html": [
       "<script id=\"myVizzu_7ec1ebf\">\n",
       "    chart_c025ae7 = chart_c025ae7.then(chart => {\n",
       "        let script = document.getElementById(\"myVizzu_7ec1ebf\");\n",
       "        if (myVizzu_c025ae7.parentNode && myVizzu_c025ae7.parentNode.parentNode) {\n",
       "            let display = myVizzu_c025ae7.parentNode.parentNode.style.display;\n",
       "            myVizzu_c025ae7.parentNode.parentNode.style.display = \"none\";\n",
       "            script.parentNode.parentNode.style.display = display;\n",
       "        }\n",
       "        script.parentNode.insertBefore(myVizzu_c025ae7, script);\n",
       "        return chart.animate({\"data\": {\"dimensions\": [{\"name\": \"Genres\", \"values\": [\"Pop\", \"Rock\", \"Jazz\", \"Metal\"]}, {\"name\": \"Types\", \"values\": [\"Hard\", \"Smooth\", \"Experimental\"]}], \"measures\": [{\"name\": \"Popularity\", \"values\": [[114, 96, 78, 52], [56, 36, 174, 121], [127, 83, 94, 58]]}]}});\n",
       "    });\n",
       "</script>"
      ]
     },
     "metadata": {},
     "output_type": "display_data"
    },
    {
     "data": {
      "text/html": [
       "<script id=\"myVizzu_5701745\">\n",
       "    chart_c025ae7 = chart_c025ae7.then(chart => {\n",
       "        let script = document.getElementById(\"myVizzu_5701745\");\n",
       "        if (myVizzu_c025ae7.parentNode && myVizzu_c025ae7.parentNode.parentNode) {\n",
       "            let display = myVizzu_c025ae7.parentNode.parentNode.style.display;\n",
       "            myVizzu_c025ae7.parentNode.parentNode.style.display = \"none\";\n",
       "            script.parentNode.parentNode.style.display = display;\n",
       "        }\n",
       "        script.parentNode.insertBefore(myVizzu_c025ae7, script);\n",
       "        return chart.animate({\"config\": {\"channels\": {\"y\": {\"set\": [\"Popularity\", \"Types\"]}, \"x\": {\"set\": \"Genres\"}}, \"label\": {\"attach\": \"Popularity\"}, \"color\": {\"set\": \"Types\"}, \"title\": \"Color palette\"}});\n",
       "    });\n",
       "</script>"
      ]
     },
     "metadata": {},
     "output_type": "display_data"
    },
    {
     "data": {
      "text/html": [
       "<script id=\"myVizzu_137392e\">\n",
       "    chart_c025ae7 = chart_c025ae7.then(chart => {\n",
       "        let script = document.getElementById(\"myVizzu_137392e\");\n",
       "        if (myVizzu_c025ae7.parentNode && myVizzu_c025ae7.parentNode.parentNode) {\n",
       "            let display = myVizzu_c025ae7.parentNode.parentNode.style.display;\n",
       "            myVizzu_c025ae7.parentNode.parentNode.style.display = \"none\";\n",
       "            script.parentNode.parentNode.style.display = display;\n",
       "        }\n",
       "        script.parentNode.insertBefore(myVizzu_c025ae7, script);\n",
       "        return chart.animate({\"style\": {\"plot\": {\"marker\": {\"colorPalette\": \"#9355e8FF #123456FF #BDAF10FF\"}}}});\n",
       "    });\n",
       "</script>"
      ]
     },
     "metadata": {},
     "output_type": "display_data"
    },
    {
     "data": {
      "text/html": [
       "<script>\n",
       "    let snapshot_ddd1085;\n",
       "    chart_c025ae7 = chart_c025ae7.then(chart => {\n",
       "        snapshot_ddd1085 = chart.store();\n",
       "        return chart;\n",
       "    });\n",
       "</script>"
      ]
     },
     "metadata": {},
     "output_type": "display_data"
    }
   ],
   "source": [
    "from ipyvizzu import Chart, Data, Config, Style\n",
    "\n",
    "chart = Chart()\n",
    "\n",
    "data = Data.from_json(\"../data/music_example_data.json\")\n",
    "\n",
    "chart.animate(data)\n",
    "\n",
    "chart.animate(Config({\n",
    "    \"channels\": {\n",
    "        \"y\": {\n",
    "            \"set\": [\"Popularity\", \"Types\"]\n",
    "        }, \n",
    "        \"x\": {\n",
    "            \"set\": \"Genres\"\n",
    "        }\n",
    "    }, \n",
    "    \"label\": {\n",
    "        \"attach\": \"Popularity\"\n",
    "    },\n",
    "    \"color\": {\n",
    "        \"set\": \"Types\"\n",
    "    },\n",
    "    \"title\": \"Color palette\"\n",
    "}))\n",
    "\n",
    "chart.animate(Style({\n",
    "    \"plot\": {\n",
    "        \"marker\": {\n",
    "            \"colorPalette\": \"#9355e8FF #123456FF #BDAF10FF\"\n",
    "        }\n",
    "    }\n",
    "}))\n",
    "\n",
    "snapshot1 = chart.store()"
   ]
  },
  {
   "cell_type": "markdown",
   "id": "00bf9cba",
   "metadata": {},
   "source": [
    "Changing the title font size will only affect the title; all other font sizes remain the same. CSS version: --vizzu-title-fontSize: 50;"
   ]
  },
  {
   "cell_type": "code",
   "execution_count": 2,
   "id": "9a7fe9b8",
   "metadata": {},
   "outputs": [
    {
     "data": {
      "text/html": [
       "<script id=\"myVizzu_6d5e03b\">\n",
       "    chart_c025ae7 = chart_c025ae7.then(chart => {\n",
       "        let script = document.getElementById(\"myVizzu_6d5e03b\");\n",
       "        if (myVizzu_c025ae7.parentNode && myVizzu_c025ae7.parentNode.parentNode) {\n",
       "            let display = myVizzu_c025ae7.parentNode.parentNode.style.display;\n",
       "            myVizzu_c025ae7.parentNode.parentNode.style.display = \"none\";\n",
       "            script.parentNode.parentNode.style.display = display;\n",
       "        }\n",
       "        script.parentNode.insertBefore(myVizzu_c025ae7, script);\n",
       "        return chart.animate(snapshot_ddd1085);\n",
       "    });\n",
       "</script>"
      ]
     },
     "metadata": {},
     "output_type": "display_data"
    },
    {
     "data": {
      "text/html": [
       "<script id=\"myVizzu_19c2ee6\">\n",
       "    chart_c025ae7 = chart_c025ae7.then(chart => {\n",
       "        let script = document.getElementById(\"myVizzu_19c2ee6\");\n",
       "        if (myVizzu_c025ae7.parentNode && myVizzu_c025ae7.parentNode.parentNode) {\n",
       "            let display = myVizzu_c025ae7.parentNode.parentNode.style.display;\n",
       "            myVizzu_c025ae7.parentNode.parentNode.style.display = \"none\";\n",
       "            script.parentNode.parentNode.style.display = display;\n",
       "        }\n",
       "        script.parentNode.insertBefore(myVizzu_c025ae7, script);\n",
       "        return chart.animate({\"config\": {\"title\": \"Title font size\"}});\n",
       "    });\n",
       "</script>"
      ]
     },
     "metadata": {},
     "output_type": "display_data"
    },
    {
     "data": {
      "text/html": [
       "<script id=\"myVizzu_5867bf9\">\n",
       "    chart_c025ae7 = chart_c025ae7.then(chart => {\n",
       "        let script = document.getElementById(\"myVizzu_5867bf9\");\n",
       "        if (myVizzu_c025ae7.parentNode && myVizzu_c025ae7.parentNode.parentNode) {\n",
       "            let display = myVizzu_c025ae7.parentNode.parentNode.style.display;\n",
       "            myVizzu_c025ae7.parentNode.parentNode.style.display = \"none\";\n",
       "            script.parentNode.parentNode.style.display = display;\n",
       "        }\n",
       "        script.parentNode.insertBefore(myVizzu_c025ae7, script);\n",
       "        return chart.animate({\"style\": {\"title\": {\"fontSize\": 50}}});\n",
       "    });\n",
       "</script>"
      ]
     },
     "metadata": {},
     "output_type": "display_data"
    },
    {
     "data": {
      "text/html": [
       "<script>\n",
       "    let snapshot_5863a5d;\n",
       "    chart_c025ae7 = chart_c025ae7.then(chart => {\n",
       "        snapshot_5863a5d = chart.store();\n",
       "        return chart;\n",
       "    });\n",
       "</script>"
      ]
     },
     "metadata": {},
     "output_type": "display_data"
    }
   ],
   "source": [
    "chart.animate(snapshot1)\n",
    "\n",
    "chart.animate(Config({\"title\": \"Title font size\"}))\n",
    "\n",
    "chart.animate(Style({\n",
    "    \"title\": {\n",
    "        \"fontSize\": 50\n",
    "    }\n",
    "}))\n",
    "\n",
    "snapshot2 = chart.store()"
   ]
  },
  {
   "cell_type": "markdown",
   "id": "fa329122",
   "metadata": {},
   "source": [
    "This is how to set the font size back to its default value."
   ]
  },
  {
   "cell_type": "code",
   "execution_count": 3,
   "id": "88fa24a8",
   "metadata": {},
   "outputs": [
    {
     "data": {
      "text/html": [
       "<script id=\"myVizzu_8a325a0\">\n",
       "    chart_c025ae7 = chart_c025ae7.then(chart => {\n",
       "        let script = document.getElementById(\"myVizzu_8a325a0\");\n",
       "        if (myVizzu_c025ae7.parentNode && myVizzu_c025ae7.parentNode.parentNode) {\n",
       "            let display = myVizzu_c025ae7.parentNode.parentNode.style.display;\n",
       "            myVizzu_c025ae7.parentNode.parentNode.style.display = \"none\";\n",
       "            script.parentNode.parentNode.style.display = display;\n",
       "        }\n",
       "        script.parentNode.insertBefore(myVizzu_c025ae7, script);\n",
       "        return chart.animate(snapshot_5863a5d);\n",
       "    });\n",
       "</script>"
      ]
     },
     "metadata": {},
     "output_type": "display_data"
    },
    {
     "data": {
      "text/html": [
       "<script id=\"myVizzu_5b597ee\">\n",
       "    chart_c025ae7 = chart_c025ae7.then(chart => {\n",
       "        let script = document.getElementById(\"myVizzu_5b597ee\");\n",
       "        if (myVizzu_c025ae7.parentNode && myVizzu_c025ae7.parentNode.parentNode) {\n",
       "            let display = myVizzu_c025ae7.parentNode.parentNode.style.display;\n",
       "            myVizzu_c025ae7.parentNode.parentNode.style.display = \"none\";\n",
       "            script.parentNode.parentNode.style.display = display;\n",
       "        }\n",
       "        script.parentNode.insertBefore(myVizzu_c025ae7, script);\n",
       "        return chart.animate({\"config\": {\"title\": \"Title font size - back to default\"}});\n",
       "    });\n",
       "</script>"
      ]
     },
     "metadata": {},
     "output_type": "display_data"
    },
    {
     "data": {
      "text/html": [
       "<script id=\"myVizzu_948bf1e\">\n",
       "    chart_c025ae7 = chart_c025ae7.then(chart => {\n",
       "        let script = document.getElementById(\"myVizzu_948bf1e\");\n",
       "        if (myVizzu_c025ae7.parentNode && myVizzu_c025ae7.parentNode.parentNode) {\n",
       "            let display = myVizzu_c025ae7.parentNode.parentNode.style.display;\n",
       "            myVizzu_c025ae7.parentNode.parentNode.style.display = \"none\";\n",
       "            script.parentNode.parentNode.style.display = display;\n",
       "        }\n",
       "        script.parentNode.insertBefore(myVizzu_c025ae7, script);\n",
       "        return chart.animate({\"style\": {\"title\": {\"fontSize\": null}}});\n",
       "    });\n",
       "</script>"
      ]
     },
     "metadata": {},
     "output_type": "display_data"
    },
    {
     "data": {
      "text/html": [
       "<script>\n",
       "    let snapshot_7f02358;\n",
       "    chart_c025ae7 = chart_c025ae7.then(chart => {\n",
       "        snapshot_7f02358 = chart.store();\n",
       "        return chart;\n",
       "    });\n",
       "</script>"
      ]
     },
     "metadata": {},
     "output_type": "display_data"
    }
   ],
   "source": [
    "chart.animate(snapshot2)\n",
    "\n",
    "chart.animate(Config({\"title\": \"Title font size - back to default\"}))\n",
    "\n",
    "chart.animate(Style({\n",
    "    \"title\": {\n",
    "        \"fontSize\": None\n",
    "    }\n",
    "}))\n",
    "\n",
    "snapshot3 = chart.store()"
   ]
  },
  {
   "cell_type": "markdown",
   "id": "3d68c376",
   "metadata": {},
   "source": [
    "In case you change the font size of the whole chart with the top-level fontSize parameter then every font on the chart will grow/shrink proportionally. The size refers to the font size of the axis labels by default."
   ]
  },
  {
   "cell_type": "code",
   "execution_count": 4,
   "id": "c7e60196",
   "metadata": {},
   "outputs": [
    {
     "data": {
      "text/html": [
       "<script id=\"myVizzu_c37eb3d\">\n",
       "    chart_c025ae7 = chart_c025ae7.then(chart => {\n",
       "        let script = document.getElementById(\"myVizzu_c37eb3d\");\n",
       "        if (myVizzu_c025ae7.parentNode && myVizzu_c025ae7.parentNode.parentNode) {\n",
       "            let display = myVizzu_c025ae7.parentNode.parentNode.style.display;\n",
       "            myVizzu_c025ae7.parentNode.parentNode.style.display = \"none\";\n",
       "            script.parentNode.parentNode.style.display = display;\n",
       "        }\n",
       "        script.parentNode.insertBefore(myVizzu_c025ae7, script);\n",
       "        return chart.animate(snapshot_7f02358);\n",
       "    });\n",
       "</script>"
      ]
     },
     "metadata": {},
     "output_type": "display_data"
    },
    {
     "data": {
      "text/html": [
       "<script id=\"myVizzu_33a6acf\">\n",
       "    chart_c025ae7 = chart_c025ae7.then(chart => {\n",
       "        let script = document.getElementById(\"myVizzu_33a6acf\");\n",
       "        if (myVizzu_c025ae7.parentNode && myVizzu_c025ae7.parentNode.parentNode) {\n",
       "            let display = myVizzu_c025ae7.parentNode.parentNode.style.display;\n",
       "            myVizzu_c025ae7.parentNode.parentNode.style.display = \"none\";\n",
       "            script.parentNode.parentNode.style.display = display;\n",
       "        }\n",
       "        script.parentNode.insertBefore(myVizzu_c025ae7, script);\n",
       "        return chart.animate({\"config\": {\"title\": \"Setting all font sizes in one step\"}});\n",
       "    });\n",
       "</script>"
      ]
     },
     "metadata": {},
     "output_type": "display_data"
    },
    {
     "data": {
      "text/html": [
       "<script id=\"myVizzu_9a42d9f\">\n",
       "    chart_c025ae7 = chart_c025ae7.then(chart => {\n",
       "        let script = document.getElementById(\"myVizzu_9a42d9f\");\n",
       "        if (myVizzu_c025ae7.parentNode && myVizzu_c025ae7.parentNode.parentNode) {\n",
       "            let display = myVizzu_c025ae7.parentNode.parentNode.style.display;\n",
       "            myVizzu_c025ae7.parentNode.parentNode.style.display = \"none\";\n",
       "            script.parentNode.parentNode.style.display = display;\n",
       "        }\n",
       "        script.parentNode.insertBefore(myVizzu_c025ae7, script);\n",
       "        return chart.animate({\"style\": {\"fontSize\": 20}});\n",
       "    });\n",
       "</script>"
      ]
     },
     "metadata": {},
     "output_type": "display_data"
    },
    {
     "data": {
      "text/html": [
       "<script>\n",
       "    let snapshot_f6d4ef5;\n",
       "    chart_c025ae7 = chart_c025ae7.then(chart => {\n",
       "        snapshot_f6d4ef5 = chart.store();\n",
       "        return chart;\n",
       "    });\n",
       "</script>"
      ]
     },
     "metadata": {},
     "output_type": "display_data"
    }
   ],
   "source": [
    "chart.animate(snapshot3)\n",
    "\n",
    "chart.animate(Config({\"title\": \"Setting all font sizes in one step\"}))\n",
    "\n",
    "chart.animate(Style({\n",
    "    \"fontSize\": 20\n",
    "}))\n",
    "\n",
    "snapshot4 = chart.store()"
   ]
  },
  {
   "cell_type": "markdown",
   "id": "b45e96b6",
   "metadata": {},
   "source": [
    "You can reset styles to default on any levels by setting them to null."
   ]
  },
  {
   "cell_type": "code",
   "execution_count": 5,
   "id": "d58b14d9",
   "metadata": {},
   "outputs": [
    {
     "data": {
      "text/html": [
       "<script id=\"myVizzu_ffa4802\">\n",
       "    chart_c025ae7 = chart_c025ae7.then(chart => {\n",
       "        let script = document.getElementById(\"myVizzu_ffa4802\");\n",
       "        if (myVizzu_c025ae7.parentNode && myVizzu_c025ae7.parentNode.parentNode) {\n",
       "            let display = myVizzu_c025ae7.parentNode.parentNode.style.display;\n",
       "            myVizzu_c025ae7.parentNode.parentNode.style.display = \"none\";\n",
       "            script.parentNode.parentNode.style.display = display;\n",
       "        }\n",
       "        script.parentNode.insertBefore(myVizzu_c025ae7, script);\n",
       "        return chart.animate(snapshot_f6d4ef5);\n",
       "    });\n",
       "</script>"
      ]
     },
     "metadata": {},
     "output_type": "display_data"
    },
    {
     "data": {
      "text/html": [
       "<script id=\"myVizzu_e2fa34a\">\n",
       "    chart_c025ae7 = chart_c025ae7.then(chart => {\n",
       "        let script = document.getElementById(\"myVizzu_e2fa34a\");\n",
       "        if (myVizzu_c025ae7.parentNode && myVizzu_c025ae7.parentNode.parentNode) {\n",
       "            let display = myVizzu_c025ae7.parentNode.parentNode.style.display;\n",
       "            myVizzu_c025ae7.parentNode.parentNode.style.display = \"none\";\n",
       "            script.parentNode.parentNode.style.display = display;\n",
       "        }\n",
       "        script.parentNode.insertBefore(myVizzu_c025ae7, script);\n",
       "        return chart.animate({\"config\": {\"title\": \"Setting all style settings back to default\"}});\n",
       "    });\n",
       "</script>"
      ]
     },
     "metadata": {},
     "output_type": "display_data"
    },
    {
     "data": {
      "text/html": [
       "<script id=\"myVizzu_6c15870\">\n",
       "    chart_c025ae7 = chart_c025ae7.then(chart => {\n",
       "        let script = document.getElementById(\"myVizzu_6c15870\");\n",
       "        if (myVizzu_c025ae7.parentNode && myVizzu_c025ae7.parentNode.parentNode) {\n",
       "            let display = myVizzu_c025ae7.parentNode.parentNode.style.display;\n",
       "            myVizzu_c025ae7.parentNode.parentNode.style.display = \"none\";\n",
       "            script.parentNode.parentNode.style.display = display;\n",
       "        }\n",
       "        script.parentNode.insertBefore(myVizzu_c025ae7, script);\n",
       "        return chart.animate({\"style\": null});\n",
       "    });\n",
       "</script>"
      ]
     },
     "metadata": {},
     "output_type": "display_data"
    }
   ],
   "source": [
    "chart.animate(snapshot4)\n",
    "\n",
    "chart.animate(Config({\"title\": \"Setting all style settings back to default\"}))\n",
    "\n",
    "chart.animate(Style(None))"
   ]
  }
 ],
 "metadata": {
  "kernelspec": {
   "display_name": "Python 3 (ipykernel)",
   "language": "python",
   "name": "python3"
  },
  "language_info": {
   "codemirror_mode": {
    "name": "ipython",
    "version": 3
   },
   "file_extension": ".py",
   "mimetype": "text/x-python",
   "name": "python",
   "nbconvert_exporter": "python",
   "pygments_lexer": "ipython3",
   "version": "3.8.10"
  }
 },
 "nbformat": 4,
 "nbformat_minor": 5
}
