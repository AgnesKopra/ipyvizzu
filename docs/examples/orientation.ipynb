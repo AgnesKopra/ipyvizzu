{
 "cells": [
  {
   "cell_type": "markdown",
   "id": "6dbc8df4",
   "metadata": {},
   "source": [
    "## Orientation, split & polar\n",
    "\n",
    "Now that you are familiar with the basic logic and operation of Vizzu, let's dive in with some more advanced features that you can use to create animated data stories and show the data from different perspectives.\n",
    "\n",
    "Switching orientation means that you put a measure from one axis to the other to see the data from a different perspective. This is once again a state you should only use temporarily."
   ]
  },
  {
   "cell_type": "code",
   "execution_count": 1,
   "id": "d5da6794",
   "metadata": {},
   "outputs": [
    {
     "data": {
      "text/html": [
       "<script>\n",
       "    let myVizzu_9c019db = document.createElement(\"div\");\n",
       "    myVizzu_9c019db.style.cssText = \"width: 800px; height: 480px;\";\n",
       "    let chart_9c019db = import(\"https://cdn.jsdelivr.net/npm/vizzu@~0.4.0/dist/vizzu.min.js\").then(Vizzu => new Vizzu.default(myVizzu_9c019db).initializing);\n",
       "</script>"
      ]
     },
     "metadata": {},
     "output_type": "display_data"
    },
    {
     "data": {
      "text/html": [
       "<script id=\"myVizzu_033a95c\">\n",
       "    chart_9c019db = chart_9c019db.then(chart => {\n",
       "        let script = document.getElementById(\"myVizzu_033a95c\");\n",
       "        if (myVizzu_9c019db.parentNode && myVizzu_9c019db.parentNode.parentNode) {\n",
       "            let display = myVizzu_9c019db.parentNode.parentNode.style.display;\n",
       "            myVizzu_9c019db.parentNode.parentNode.style.display = \"none\";\n",
       "            script.parentNode.parentNode.style.display = display;\n",
       "        }\n",
       "        script.parentNode.insertBefore(myVizzu_9c019db, script);\n",
       "        return chart.animate({\"data\": {\"dimensions\": [{\"name\": \"Genres\", \"values\": [\"Pop\", \"Rock\", \"Jazz\", \"Metal\"]}, {\"name\": \"Types\", \"values\": [\"Hard\", \"Smooth\", \"Experimental\"]}], \"measures\": [{\"name\": \"Popularity\", \"values\": [[114, 96, 78, 52], [56, 36, 174, 121], [127, 83, 94, 58]]}]}});\n",
       "    });\n",
       "</script>"
      ]
     },
     "metadata": {},
     "output_type": "display_data"
    },
    {
     "data": {
      "text/html": [
       "<script id=\"myVizzu_766750e\">\n",
       "    chart_9c019db = chart_9c019db.then(chart => {\n",
       "        let script = document.getElementById(\"myVizzu_766750e\");\n",
       "        if (myVizzu_9c019db.parentNode && myVizzu_9c019db.parentNode.parentNode) {\n",
       "            let display = myVizzu_9c019db.parentNode.parentNode.style.display;\n",
       "            myVizzu_9c019db.parentNode.parentNode.style.display = \"none\";\n",
       "            script.parentNode.parentNode.style.display = display;\n",
       "        }\n",
       "        script.parentNode.insertBefore(myVizzu_9c019db, script);\n",
       "        return chart.animate({\"config\": {\"channels\": {\"y\": {\"set\": [\"Popularity\", \"Types\"]}, \"x\": {\"set\": \"Genres\"}, \"label\": {\"attach\": \"Popularity\"}}, \"color\": {\"attach\": \"Types\"}, \"title\": \"Switch the orientation = arrange by other axis\"}});\n",
       "    });\n",
       "</script>"
      ]
     },
     "metadata": {},
     "output_type": "display_data"
    },
    {
     "data": {
      "text/html": [
       "<script id=\"myVizzu_39a05db\">\n",
       "    chart_9c019db = chart_9c019db.then(chart => {\n",
       "        let script = document.getElementById(\"myVizzu_39a05db\");\n",
       "        if (myVizzu_9c019db.parentNode && myVizzu_9c019db.parentNode.parentNode) {\n",
       "            let display = myVizzu_9c019db.parentNode.parentNode.style.display;\n",
       "            myVizzu_9c019db.parentNode.parentNode.style.display = \"none\";\n",
       "            script.parentNode.parentNode.style.display = display;\n",
       "        }\n",
       "        script.parentNode.insertBefore(myVizzu_9c019db, script);\n",
       "        return chart.animate({\"config\": {\"channels\": {\"y\": {\"detach\": \"Popularity\"}, \"x\": {\"attach\": \"Popularity\"}}}});\n",
       "    });\n",
       "</script>"
      ]
     },
     "metadata": {},
     "output_type": "display_data"
    },
    {
     "data": {
      "text/html": [
       "<script>\n",
       "    let snapshot_fa01165;\n",
       "    chart_9c019db = chart_9c019db.then(chart => {\n",
       "        snapshot_fa01165 = chart.store();\n",
       "        return chart;\n",
       "    });\n",
       "</script>"
      ]
     },
     "metadata": {},
     "output_type": "display_data"
    }
   ],
   "source": [
    "from ipyvizzu import Chart, Data, Config\n",
    "\n",
    "chart = Chart()\n",
    "\n",
    "data = Data.from_json(\"../data/music_example_data.json\")\n",
    "\n",
    "chart.animate(data)\n",
    "\n",
    "chart.animate(Config({\n",
    "    \"channels\": {\n",
    "        \"y\": {\n",
    "            \"set\": [\"Popularity\", \"Types\"]\n",
    "        }, \n",
    "        \"x\": {\n",
    "            \"set\": \"Genres\"\n",
    "        },\n",
    "        \"label\": {\n",
    "            \"attach\": \"Popularity\"\n",
    "        }\n",
    "    },\n",
    "    \"color\": {\n",
    "        \"attach\": \"Types\"\n",
    "    },\n",
    "    \"title\": \"Switch the orientation = arrange by other axis\"\n",
    "}))\n",
    "\n",
    "chart.animate(Config({\n",
    "    \"channels\": {\n",
    "        \"y\": {\n",
    "            \"detach\": \"Popularity\",\n",
    "        },\n",
    "        \"x\": {\n",
    "            \"attach\": \"Popularity\",\n",
    "        }\n",
    "    }\n",
    "}))\n",
    "\n",
    "snapshot1 = chart.store()"
   ]
  },
  {
   "cell_type": "markdown",
   "id": "64a0effc",
   "metadata": {},
   "source": [
    "By turning the split parameter on, you can see stacked elements side-by-side, which enables the comparison of the components."
   ]
  },
  {
   "cell_type": "code",
   "execution_count": 2,
   "id": "f977713f",
   "metadata": {},
   "outputs": [
    {
     "data": {
      "text/html": [
       "<script id=\"myVizzu_6a1b917\">\n",
       "    chart_9c019db = chart_9c019db.then(chart => {\n",
       "        let script = document.getElementById(\"myVizzu_6a1b917\");\n",
       "        if (myVizzu_9c019db.parentNode && myVizzu_9c019db.parentNode.parentNode) {\n",
       "            let display = myVizzu_9c019db.parentNode.parentNode.style.display;\n",
       "            myVizzu_9c019db.parentNode.parentNode.style.display = \"none\";\n",
       "            script.parentNode.parentNode.style.display = display;\n",
       "        }\n",
       "        script.parentNode.insertBefore(myVizzu_9c019db, script);\n",
       "        return chart.animate(snapshot_fa01165);\n",
       "    });\n",
       "</script>"
      ]
     },
     "metadata": {},
     "output_type": "display_data"
    },
    {
     "data": {
      "text/html": [
       "<script id=\"myVizzu_5f582e9\">\n",
       "    chart_9c019db = chart_9c019db.then(chart => {\n",
       "        let script = document.getElementById(\"myVizzu_5f582e9\");\n",
       "        if (myVizzu_9c019db.parentNode && myVizzu_9c019db.parentNode.parentNode) {\n",
       "            let display = myVizzu_9c019db.parentNode.parentNode.style.display;\n",
       "            myVizzu_9c019db.parentNode.parentNode.style.display = \"none\";\n",
       "            script.parentNode.parentNode.style.display = display;\n",
       "        }\n",
       "        script.parentNode.insertBefore(myVizzu_9c019db, script);\n",
       "        return chart.animate({\"config\": {\"title\": \"Split stacked values = show side-by-side\"}});\n",
       "    });\n",
       "</script>"
      ]
     },
     "metadata": {},
     "output_type": "display_data"
    },
    {
     "data": {
      "text/html": [
       "<script id=\"myVizzu_0d9ee56\">\n",
       "    chart_9c019db = chart_9c019db.then(chart => {\n",
       "        let script = document.getElementById(\"myVizzu_0d9ee56\");\n",
       "        if (myVizzu_9c019db.parentNode && myVizzu_9c019db.parentNode.parentNode) {\n",
       "            let display = myVizzu_9c019db.parentNode.parentNode.style.display;\n",
       "            myVizzu_9c019db.parentNode.parentNode.style.display = \"none\";\n",
       "            script.parentNode.parentNode.style.display = display;\n",
       "        }\n",
       "        script.parentNode.insertBefore(myVizzu_9c019db, script);\n",
       "        return chart.animate({\"config\": {\"split\": true}});\n",
       "    });\n",
       "</script>"
      ]
     },
     "metadata": {},
     "output_type": "display_data"
    },
    {
     "data": {
      "text/html": [
       "<script>\n",
       "    let snapshot_a7781c2;\n",
       "    chart_9c019db = chart_9c019db.then(chart => {\n",
       "        snapshot_a7781c2 = chart.store();\n",
       "        return chart;\n",
       "    });\n",
       "</script>"
      ]
     },
     "metadata": {},
     "output_type": "display_data"
    }
   ],
   "source": [
    "chart.animate(snapshot1)\n",
    "\n",
    "chart.animate(Config({\"title\": \"Split stacked values = show side-by-side\"}))\n",
    "\n",
    "chart.animate(Config({\n",
    "    \"split\": True\n",
    "}))\n",
    "\n",
    "snapshot2 = chart.store()"
   ]
  },
  {
   "cell_type": "markdown",
   "id": "0d54187c",
   "metadata": {},
   "source": [
    "Merging the components by turning the split parameter off."
   ]
  },
  {
   "cell_type": "code",
   "execution_count": 3,
   "id": "acfa599d",
   "metadata": {},
   "outputs": [
    {
     "data": {
      "text/html": [
       "<script id=\"myVizzu_36923ec\">\n",
       "    chart_9c019db = chart_9c019db.then(chart => {\n",
       "        let script = document.getElementById(\"myVizzu_36923ec\");\n",
       "        if (myVizzu_9c019db.parentNode && myVizzu_9c019db.parentNode.parentNode) {\n",
       "            let display = myVizzu_9c019db.parentNode.parentNode.style.display;\n",
       "            myVizzu_9c019db.parentNode.parentNode.style.display = \"none\";\n",
       "            script.parentNode.parentNode.style.display = display;\n",
       "        }\n",
       "        script.parentNode.insertBefore(myVizzu_9c019db, script);\n",
       "        return chart.animate(snapshot_a7781c2);\n",
       "    });\n",
       "</script>"
      ]
     },
     "metadata": {},
     "output_type": "display_data"
    },
    {
     "data": {
      "text/html": [
       "<script id=\"myVizzu_733885d\">\n",
       "    chart_9c019db = chart_9c019db.then(chart => {\n",
       "        let script = document.getElementById(\"myVizzu_733885d\");\n",
       "        if (myVizzu_9c019db.parentNode && myVizzu_9c019db.parentNode.parentNode) {\n",
       "            let display = myVizzu_9c019db.parentNode.parentNode.style.display;\n",
       "            myVizzu_9c019db.parentNode.parentNode.style.display = \"none\";\n",
       "            script.parentNode.parentNode.style.display = display;\n",
       "        }\n",
       "        script.parentNode.insertBefore(myVizzu_9c019db, script);\n",
       "        return chart.animate({\"config\": {\"title\": \"Merge\"}});\n",
       "    });\n",
       "</script>"
      ]
     },
     "metadata": {},
     "output_type": "display_data"
    },
    {
     "data": {
      "text/html": [
       "<script id=\"myVizzu_b5fcfb7\">\n",
       "    chart_9c019db = chart_9c019db.then(chart => {\n",
       "        let script = document.getElementById(\"myVizzu_b5fcfb7\");\n",
       "        if (myVizzu_9c019db.parentNode && myVizzu_9c019db.parentNode.parentNode) {\n",
       "            let display = myVizzu_9c019db.parentNode.parentNode.style.display;\n",
       "            myVizzu_9c019db.parentNode.parentNode.style.display = \"none\";\n",
       "            script.parentNode.parentNode.style.display = display;\n",
       "        }\n",
       "        script.parentNode.insertBefore(myVizzu_9c019db, script);\n",
       "        return chart.animate({\"config\": {\"split\": false}});\n",
       "    });\n",
       "</script>"
      ]
     },
     "metadata": {},
     "output_type": "display_data"
    },
    {
     "data": {
      "text/html": [
       "<script>\n",
       "    let snapshot_cbd360a;\n",
       "    chart_9c019db = chart_9c019db.then(chart => {\n",
       "        snapshot_cbd360a = chart.store();\n",
       "        return chart;\n",
       "    });\n",
       "</script>"
      ]
     },
     "metadata": {},
     "output_type": "display_data"
    }
   ],
   "source": [
    "chart.animate(snapshot2)\n",
    "\n",
    "chart.animate(Config({\"title\": \"Merge\"}))\n",
    "\n",
    "chart.animate(Config({\n",
    "    \"split\": False\n",
    "}))\n",
    "\n",
    "snapshot3 = chart.store()"
   ]
  },
  {
   "cell_type": "markdown",
   "id": "8bdea4dc",
   "metadata": {},
   "source": [
    "We aggregate the data by removing the Genres dimension from the x-axis."
   ]
  },
  {
   "cell_type": "code",
   "execution_count": 4,
   "id": "cd6f4efb",
   "metadata": {},
   "outputs": [
    {
     "data": {
      "text/html": [
       "<script id=\"myVizzu_bd1ac67\">\n",
       "    chart_9c019db = chart_9c019db.then(chart => {\n",
       "        let script = document.getElementById(\"myVizzu_bd1ac67\");\n",
       "        if (myVizzu_9c019db.parentNode && myVizzu_9c019db.parentNode.parentNode) {\n",
       "            let display = myVizzu_9c019db.parentNode.parentNode.style.display;\n",
       "            myVizzu_9c019db.parentNode.parentNode.style.display = \"none\";\n",
       "            script.parentNode.parentNode.style.display = display;\n",
       "        }\n",
       "        script.parentNode.insertBefore(myVizzu_9c019db, script);\n",
       "        return chart.animate(snapshot_cbd360a);\n",
       "    });\n",
       "</script>"
      ]
     },
     "metadata": {},
     "output_type": "display_data"
    },
    {
     "data": {
      "text/html": [
       "<script id=\"myVizzu_2ac958e\">\n",
       "    chart_9c019db = chart_9c019db.then(chart => {\n",
       "        let script = document.getElementById(\"myVizzu_2ac958e\");\n",
       "        if (myVizzu_9c019db.parentNode && myVizzu_9c019db.parentNode.parentNode) {\n",
       "            let display = myVizzu_9c019db.parentNode.parentNode.style.display;\n",
       "            myVizzu_9c019db.parentNode.parentNode.style.display = \"none\";\n",
       "            script.parentNode.parentNode.style.display = display;\n",
       "        }\n",
       "        script.parentNode.insertBefore(myVizzu_9c019db, script);\n",
       "        return chart.animate({\"config\": {\"title\": \"Aggregate\"}});\n",
       "    });\n",
       "</script>"
      ]
     },
     "metadata": {},
     "output_type": "display_data"
    },
    {
     "data": {
      "text/html": [
       "<script id=\"myVizzu_7cafc40\">\n",
       "    chart_9c019db = chart_9c019db.then(chart => {\n",
       "        let script = document.getElementById(\"myVizzu_7cafc40\");\n",
       "        if (myVizzu_9c019db.parentNode && myVizzu_9c019db.parentNode.parentNode) {\n",
       "            let display = myVizzu_9c019db.parentNode.parentNode.style.display;\n",
       "            myVizzu_9c019db.parentNode.parentNode.style.display = \"none\";\n",
       "            script.parentNode.parentNode.style.display = display;\n",
       "        }\n",
       "        script.parentNode.insertBefore(myVizzu_9c019db, script);\n",
       "        return chart.animate({\"config\": {\"channels\": {\"x\": {\"detach\": \"Genres\"}}}});\n",
       "    });\n",
       "</script>"
      ]
     },
     "metadata": {},
     "output_type": "display_data"
    },
    {
     "data": {
      "text/html": [
       "<script>\n",
       "    let snapshot_555cf47;\n",
       "    chart_9c019db = chart_9c019db.then(chart => {\n",
       "        snapshot_555cf47 = chart.store();\n",
       "        return chart;\n",
       "    });\n",
       "</script>"
      ]
     },
     "metadata": {},
     "output_type": "display_data"
    }
   ],
   "source": [
    "chart.animate(snapshot3)\n",
    "\n",
    "chart.animate(Config({\"title\": \"Aggregate\"}))\n",
    "\n",
    "chart.animate(Config({\n",
    "    \"channels\": {\n",
    "        \"x\": {\n",
    "            \"detach\": \"Genres\",\n",
    "        }\n",
    "    }\n",
    "}))\n",
    "\n",
    "snapshot4 = chart.store()"
   ]
  },
  {
   "cell_type": "markdown",
   "id": "57f51f7b",
   "metadata": {},
   "source": [
    "Switching from cartesian coordinates to polar. When doing so, it is worth setting the axis range on the axis with the dimension so that the viewers can easily compare the values shown. If you want to return to the default cartesian coordinates, just set the coordSystem parameter to ‘cartesian’.\n",
    "\n",
    "Note: The range of the x-axis is automatically set to max:133% as this is the standard way to show radial charts."
   ]
  },
  {
   "cell_type": "code",
   "execution_count": 5,
   "id": "dc6866f3",
   "metadata": {},
   "outputs": [
    {
     "data": {
      "text/html": [
       "<script id=\"myVizzu_f8308f9\">\n",
       "    chart_9c019db = chart_9c019db.then(chart => {\n",
       "        let script = document.getElementById(\"myVizzu_f8308f9\");\n",
       "        if (myVizzu_9c019db.parentNode && myVizzu_9c019db.parentNode.parentNode) {\n",
       "            let display = myVizzu_9c019db.parentNode.parentNode.style.display;\n",
       "            myVizzu_9c019db.parentNode.parentNode.style.display = \"none\";\n",
       "            script.parentNode.parentNode.style.display = display;\n",
       "        }\n",
       "        script.parentNode.insertBefore(myVizzu_9c019db, script);\n",
       "        return chart.animate(snapshot_555cf47);\n",
       "    });\n",
       "</script>"
      ]
     },
     "metadata": {},
     "output_type": "display_data"
    },
    {
     "data": {
      "text/html": [
       "<script id=\"myVizzu_a53df28\">\n",
       "    chart_9c019db = chart_9c019db.then(chart => {\n",
       "        let script = document.getElementById(\"myVizzu_a53df28\");\n",
       "        if (myVizzu_9c019db.parentNode && myVizzu_9c019db.parentNode.parentNode) {\n",
       "            let display = myVizzu_9c019db.parentNode.parentNode.style.display;\n",
       "            myVizzu_9c019db.parentNode.parentNode.style.display = \"none\";\n",
       "            script.parentNode.parentNode.style.display = display;\n",
       "        }\n",
       "        script.parentNode.insertBefore(myVizzu_9c019db, script);\n",
       "        return chart.animate({\"config\": {\"title\": \"Polar coordinates\"}});\n",
       "    });\n",
       "</script>"
      ]
     },
     "metadata": {},
     "output_type": "display_data"
    },
    {
     "data": {
      "text/html": [
       "<script id=\"myVizzu_2113a36\">\n",
       "    chart_9c019db = chart_9c019db.then(chart => {\n",
       "        let script = document.getElementById(\"myVizzu_2113a36\");\n",
       "        if (myVizzu_9c019db.parentNode && myVizzu_9c019db.parentNode.parentNode) {\n",
       "            let display = myVizzu_9c019db.parentNode.parentNode.style.display;\n",
       "            myVizzu_9c019db.parentNode.parentNode.style.display = \"none\";\n",
       "            script.parentNode.parentNode.style.display = display;\n",
       "        }\n",
       "        script.parentNode.insertBefore(myVizzu_9c019db, script);\n",
       "        return chart.animate({\"config\": {\"channels\": {\"y\": {\"range\": {\"min\": \"-30%\"}}}, \"coordSystem\": \"polar\"}});\n",
       "    });\n",
       "</script>"
      ]
     },
     "metadata": {},
     "output_type": "display_data"
    }
   ],
   "source": [
    "chart.animate(snapshot4)\n",
    "\n",
    "chart.animate(Config({\"title\": \"Polar coordinates\"}))\n",
    "\n",
    "chart.animate(Config({\n",
    "    \"channels\": {\n",
    "        \"y\": {\n",
    "            \"range\": {\n",
    "                \"min\": \"-30%\",\n",
    "            },\n",
    "        },\n",
    "    },\n",
    "    \"coordSystem\": \"polar\"\n",
    "}))"
   ]
  }
 ],
 "metadata": {
  "kernelspec": {
   "display_name": "Python 3 (ipykernel)",
   "language": "python",
   "name": "python3"
  },
  "language_info": {
   "codemirror_mode": {
    "name": "ipython",
    "version": 3
   },
   "file_extension": ".py",
   "mimetype": "text/x-python",
   "name": "python",
   "nbconvert_exporter": "python",
   "pygments_lexer": "ipython3",
   "version": "3.8.10"
  }
 },
 "nbformat": 4,
 "nbformat_minor": 5
}
