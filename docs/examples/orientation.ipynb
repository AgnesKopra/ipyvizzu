{
 "cells": [
  {
   "cell_type": "markdown",
   "id": "6dbc8df4",
   "metadata": {},
   "source": [
    "## Orientation, split & polar\n",
    "\n",
    "Now that you are familiar with the basic logic and operation of Vizzu, let's dive in with some more advanced features that you can use to create animated data stories and show the data from different perspectives.\n",
    "\n",
    "Switching orientation means that you put a measure from one axis to the other to see the data from a different perspective. This is once again a state you should only use temporarily."
   ]
  },
  {
   "cell_type": "code",
   "execution_count": 1,
   "id": "d5da6794",
   "metadata": {},
   "outputs": [
    {
     "data": {
      "text/html": [
       "<script id=\"myVizzu_3d29892\">\n",
       "        document.getElementById(\"myVizzu_3d29892\").parentNode.style.padding = \"0px\";\n",
       "        </script>\n",
       "<div id=\"myVizzu_d29586f\" style=\"width:800px; height:480px;\"/>\n",
       "        <script>\n",
       "        let myVizzu_d29586f = document.getElementById(\"myVizzu_d29586f\")\n",
       "        let chart_d29586f = import(\"https://cdn.jsdelivr.net/npm/vizzu@~0.4.0/dist/vizzu.min.js\").then(Vizzu => new Vizzu.default(\"myVizzu_d29586f\").initializing);\n",
       "        </script>"
      ]
     },
     "metadata": {},
     "output_type": "display_data"
    },
    {
     "data": {
      "text/html": [
       "<script id=\"myVizzu_06f98fb\">\n",
       "        document.getElementById(\"myVizzu_06f98fb\").parentNode.style.padding = \"0px\";\n",
       "        </script>\n",
       "<div id=\"myVizzu_04bf7d0\"/>\n",
       "        <script>\n",
       "        \n",
       "        chart_d29586f = chart_d29586f.then(chart => {\n",
       "            document.getElementById(\"myVizzu_04bf7d0\").appendChild(myVizzu_d29586f);\n",
       "            return chart.animate({\"data\": {\"dimensions\": [{\"name\": \"Genres\", \"values\": [\"Pop\", \"Rock\", \"Jazz\", \"Metal\"]}, {\"name\": \"Types\", \"values\": [\"Hard\", \"Smooth\", \"Experimental\"]}], \"measures\": [{\"name\": \"Popularity\", \"values\": [[114, 96, 78, 52], [56, 36, 174, 121], [127, 83, 94, 58]]}]}})\n",
       "        });\n",
       "        </script>"
      ]
     },
     "metadata": {},
     "output_type": "display_data"
    },
    {
     "data": {
      "text/html": [
       "<script id=\"myVizzu_33132d2\">\n",
       "        document.getElementById(\"myVizzu_33132d2\").parentNode.style.padding = \"0px\";\n",
       "        </script>\n",
       "<div id=\"myVizzu_8ca119a\"/>\n",
       "        <script>\n",
       "        \n",
       "        chart_d29586f = chart_d29586f.then(chart => {\n",
       "            document.getElementById(\"myVizzu_8ca119a\").appendChild(myVizzu_d29586f);\n",
       "            return chart.animate({\"config\": {\"channels\": {\"y\": {\"set\": [\"Popularity\", \"Types\"]}, \"x\": {\"set\": \"Genres\"}, \"label\": {\"attach\": \"Popularity\"}}, \"color\": {\"attach\": \"Types\"}, \"title\": \"Switch the orientation = arrange by other axis\"}})\n",
       "        });\n",
       "        </script>"
      ]
     },
     "metadata": {},
     "output_type": "display_data"
    },
    {
     "data": {
      "text/html": [
       "<script id=\"myVizzu_df0341f\">\n",
       "        document.getElementById(\"myVizzu_df0341f\").parentNode.style.padding = \"0px\";\n",
       "        </script>\n",
       "<div id=\"myVizzu_552c16f\"/>\n",
       "        <script>\n",
       "        \n",
       "        chart_d29586f = chart_d29586f.then(chart => {\n",
       "            document.getElementById(\"myVizzu_552c16f\").appendChild(myVizzu_d29586f);\n",
       "            return chart.animate({\"config\": {\"channels\": {\"y\": {\"detach\": \"Popularity\"}, \"x\": {\"attach\": \"Popularity\"}}}})\n",
       "        });\n",
       "        </script>"
      ]
     },
     "metadata": {},
     "output_type": "display_data"
    },
    {
     "data": {
      "text/html": [
       "<script id=\"myVizzu_a85844a\">\n",
       "        document.getElementById(\"myVizzu_a85844a\").parentNode.style.padding = \"0px\";\n",
       "        </script>\n",
       "<script>\n",
       "        let snapshot_8a9af1a;\n",
       "        chart_d29586f = chart_d29586f.then(chart => {\n",
       "            snapshot_8a9af1a = chart.store();\n",
       "            return chart;\n",
       "        });\n",
       "        </script>"
      ]
     },
     "metadata": {},
     "output_type": "display_data"
    }
   ],
   "source": [
    "from ipyvizzu import Chart, Data, Config\n",
    "\n",
    "chart = Chart()\n",
    "\n",
    "data = Data.from_json(\"../data/music_example_data.json\")\n",
    "\n",
    "chart.animate(data)\n",
    "\n",
    "chart.animate(Config({\n",
    "    \"channels\": {\n",
    "        \"y\": {\n",
    "            \"set\": [\"Popularity\", \"Types\"]\n",
    "        }, \n",
    "        \"x\": {\n",
    "            \"set\": \"Genres\"\n",
    "        },\n",
    "        \"label\": {\n",
    "            \"attach\": \"Popularity\"\n",
    "        }\n",
    "    },\n",
    "    \"color\": {\n",
    "        \"attach\": \"Types\"\n",
    "    },\n",
    "    \"title\": \"Switch the orientation = arrange by other axis\"\n",
    "}))\n",
    "\n",
    "chart.animate(Config({\n",
    "    \"channels\": {\n",
    "        \"y\": {\n",
    "            \"detach\": \"Popularity\",\n",
    "        },\n",
    "        \"x\": {\n",
    "            \"attach\": \"Popularity\",\n",
    "        }\n",
    "    }\n",
    "}))\n",
    "\n",
    "snapshot1 = chart.store()"
   ]
  },
  {
   "cell_type": "markdown",
   "id": "64a0effc",
   "metadata": {},
   "source": [
    "By turning the split parameter on, you can see stacked elements side-by-side, which enables the comparison of the components."
   ]
  },
  {
   "cell_type": "code",
   "execution_count": 2,
   "id": "f977713f",
   "metadata": {},
   "outputs": [
    {
     "data": {
      "text/html": [
       "<script id=\"myVizzu_25f9412\">\n",
       "        document.getElementById(\"myVizzu_25f9412\").parentNode.style.padding = \"0px\";\n",
       "        </script>\n",
       "<div id=\"myVizzu_9fac157\"/>\n",
       "        <script>\n",
       "        \n",
       "        chart_d29586f = chart_d29586f.then(chart => {\n",
       "            document.getElementById(\"myVizzu_9fac157\").appendChild(myVizzu_d29586f);\n",
       "            return chart.animate(snapshot_8a9af1a)\n",
       "        });\n",
       "        </script>"
      ]
     },
     "metadata": {},
     "output_type": "display_data"
    },
    {
     "data": {
      "text/html": [
       "<script id=\"myVizzu_c3d97ba\">\n",
       "        document.getElementById(\"myVizzu_c3d97ba\").parentNode.style.padding = \"0px\";\n",
       "        </script>\n",
       "<div id=\"myVizzu_dd93f84\"/>\n",
       "        <script>\n",
       "        \n",
       "        chart_d29586f = chart_d29586f.then(chart => {\n",
       "            document.getElementById(\"myVizzu_dd93f84\").appendChild(myVizzu_d29586f);\n",
       "            return chart.animate({\"config\": {\"title\": \"Split stacked values = show side-by-side\"}})\n",
       "        });\n",
       "        </script>"
      ]
     },
     "metadata": {},
     "output_type": "display_data"
    },
    {
     "data": {
      "text/html": [
       "<script id=\"myVizzu_d81841e\">\n",
       "        document.getElementById(\"myVizzu_d81841e\").parentNode.style.padding = \"0px\";\n",
       "        </script>\n",
       "<div id=\"myVizzu_e5e3b90\"/>\n",
       "        <script>\n",
       "        \n",
       "        chart_d29586f = chart_d29586f.then(chart => {\n",
       "            document.getElementById(\"myVizzu_e5e3b90\").appendChild(myVizzu_d29586f);\n",
       "            return chart.animate({\"config\": {\"split\": true}})\n",
       "        });\n",
       "        </script>"
      ]
     },
     "metadata": {},
     "output_type": "display_data"
    },
    {
     "data": {
      "text/html": [
       "<script id=\"myVizzu_b448ed0\">\n",
       "        document.getElementById(\"myVizzu_b448ed0\").parentNode.style.padding = \"0px\";\n",
       "        </script>\n",
       "<script>\n",
       "        let snapshot_b403d00;\n",
       "        chart_d29586f = chart_d29586f.then(chart => {\n",
       "            snapshot_b403d00 = chart.store();\n",
       "            return chart;\n",
       "        });\n",
       "        </script>"
      ]
     },
     "metadata": {},
     "output_type": "display_data"
    }
   ],
   "source": [
    "chart.animate(snapshot1)\n",
    "\n",
    "chart.animate(Config({\"title\": \"Split stacked values = show side-by-side\"}))\n",
    "\n",
    "chart.animate(Config({\n",
    "    \"split\": True\n",
    "}))\n",
    "\n",
    "snapshot2 = chart.store()"
   ]
  },
  {
   "cell_type": "markdown",
   "id": "0d54187c",
   "metadata": {},
   "source": [
    "Merging the components by turning the split parameter off."
   ]
  },
  {
   "cell_type": "code",
   "execution_count": 3,
   "id": "acfa599d",
   "metadata": {},
   "outputs": [
    {
     "data": {
      "text/html": [
       "<script id=\"myVizzu_fd8be55\">\n",
       "        document.getElementById(\"myVizzu_fd8be55\").parentNode.style.padding = \"0px\";\n",
       "        </script>\n",
       "<div id=\"myVizzu_ffe90ad\"/>\n",
       "        <script>\n",
       "        \n",
       "        chart_d29586f = chart_d29586f.then(chart => {\n",
       "            document.getElementById(\"myVizzu_ffe90ad\").appendChild(myVizzu_d29586f);\n",
       "            return chart.animate(snapshot_b403d00)\n",
       "        });\n",
       "        </script>"
      ]
     },
     "metadata": {},
     "output_type": "display_data"
    },
    {
     "data": {
      "text/html": [
       "<script id=\"myVizzu_b0b709b\">\n",
       "        document.getElementById(\"myVizzu_b0b709b\").parentNode.style.padding = \"0px\";\n",
       "        </script>\n",
       "<div id=\"myVizzu_0244938\"/>\n",
       "        <script>\n",
       "        \n",
       "        chart_d29586f = chart_d29586f.then(chart => {\n",
       "            document.getElementById(\"myVizzu_0244938\").appendChild(myVizzu_d29586f);\n",
       "            return chart.animate({\"config\": {\"title\": \"Merge\"}})\n",
       "        });\n",
       "        </script>"
      ]
     },
     "metadata": {},
     "output_type": "display_data"
    },
    {
     "data": {
      "text/html": [
       "<script id=\"myVizzu_819ad7b\">\n",
       "        document.getElementById(\"myVizzu_819ad7b\").parentNode.style.padding = \"0px\";\n",
       "        </script>\n",
       "<div id=\"myVizzu_310b9b0\"/>\n",
       "        <script>\n",
       "        \n",
       "        chart_d29586f = chart_d29586f.then(chart => {\n",
       "            document.getElementById(\"myVizzu_310b9b0\").appendChild(myVizzu_d29586f);\n",
       "            return chart.animate({\"config\": {\"split\": false}})\n",
       "        });\n",
       "        </script>"
      ]
     },
     "metadata": {},
     "output_type": "display_data"
    },
    {
     "data": {
      "text/html": [
       "<script id=\"myVizzu_88c734b\">\n",
       "        document.getElementById(\"myVizzu_88c734b\").parentNode.style.padding = \"0px\";\n",
       "        </script>\n",
       "<script>\n",
       "        let snapshot_bcac03d;\n",
       "        chart_d29586f = chart_d29586f.then(chart => {\n",
       "            snapshot_bcac03d = chart.store();\n",
       "            return chart;\n",
       "        });\n",
       "        </script>"
      ]
     },
     "metadata": {},
     "output_type": "display_data"
    }
   ],
   "source": [
    "chart.animate(snapshot2)\n",
    "\n",
    "chart.animate(Config({\"title\": \"Merge\"}))\n",
    "\n",
    "chart.animate(Config({\n",
    "    \"split\": False\n",
    "}))\n",
    "\n",
    "snapshot3 = chart.store()"
   ]
  },
  {
   "cell_type": "markdown",
   "id": "8bdea4dc",
   "metadata": {},
   "source": [
    "We aggregate the data by removing the Genres dimension from the x-axis."
   ]
  },
  {
   "cell_type": "code",
   "execution_count": 4,
   "id": "cd6f4efb",
   "metadata": {},
   "outputs": [
    {
     "data": {
      "text/html": [
       "<script id=\"myVizzu_5725326\">\n",
       "        document.getElementById(\"myVizzu_5725326\").parentNode.style.padding = \"0px\";\n",
       "        </script>\n",
       "<div id=\"myVizzu_9ef30f2\"/>\n",
       "        <script>\n",
       "        \n",
       "        chart_d29586f = chart_d29586f.then(chart => {\n",
       "            document.getElementById(\"myVizzu_9ef30f2\").appendChild(myVizzu_d29586f);\n",
       "            return chart.animate(snapshot_bcac03d)\n",
       "        });\n",
       "        </script>"
      ]
     },
     "metadata": {},
     "output_type": "display_data"
    },
    {
     "data": {
      "text/html": [
       "<script id=\"myVizzu_2e02711\">\n",
       "        document.getElementById(\"myVizzu_2e02711\").parentNode.style.padding = \"0px\";\n",
       "        </script>\n",
       "<div id=\"myVizzu_4be5af1\"/>\n",
       "        <script>\n",
       "        \n",
       "        chart_d29586f = chart_d29586f.then(chart => {\n",
       "            document.getElementById(\"myVizzu_4be5af1\").appendChild(myVizzu_d29586f);\n",
       "            return chart.animate({\"config\": {\"title\": \"Aggregate\"}})\n",
       "        });\n",
       "        </script>"
      ]
     },
     "metadata": {},
     "output_type": "display_data"
    },
    {
     "data": {
      "text/html": [
       "<script id=\"myVizzu_86e54f6\">\n",
       "        document.getElementById(\"myVizzu_86e54f6\").parentNode.style.padding = \"0px\";\n",
       "        </script>\n",
       "<div id=\"myVizzu_a1da2a2\"/>\n",
       "        <script>\n",
       "        \n",
       "        chart_d29586f = chart_d29586f.then(chart => {\n",
       "            document.getElementById(\"myVizzu_a1da2a2\").appendChild(myVizzu_d29586f);\n",
       "            return chart.animate({\"config\": {\"channels\": {\"x\": {\"detach\": \"Genres\"}}}})\n",
       "        });\n",
       "        </script>"
      ]
     },
     "metadata": {},
     "output_type": "display_data"
    },
    {
     "data": {
      "text/html": [
       "<script id=\"myVizzu_0cdc354\">\n",
       "        document.getElementById(\"myVizzu_0cdc354\").parentNode.style.padding = \"0px\";\n",
       "        </script>\n",
       "<script>\n",
       "        let snapshot_36f2f17;\n",
       "        chart_d29586f = chart_d29586f.then(chart => {\n",
       "            snapshot_36f2f17 = chart.store();\n",
       "            return chart;\n",
       "        });\n",
       "        </script>"
      ]
     },
     "metadata": {},
     "output_type": "display_data"
    }
   ],
   "source": [
    "chart.animate(snapshot3)\n",
    "\n",
    "chart.animate(Config({\"title\": \"Aggregate\"}))\n",
    "\n",
    "chart.animate(Config({\n",
    "    \"channels\": {\n",
    "        \"x\": {\n",
    "            \"detach\": \"Genres\",\n",
    "        }\n",
    "    }\n",
    "}))\n",
    "\n",
    "snapshot4 = chart.store()"
   ]
  },
  {
   "cell_type": "markdown",
   "id": "57f51f7b",
   "metadata": {},
   "source": [
    "Switching from cartesian coordinates to polar. When doing so, it is worth setting the axis range on the axis with the dimension so that the viewers can easily compare the values shown. If you want to return to the default cartesian coordinates, just set the coordSystem parameter to ‘cartesian’.\n",
    "\n",
    "Note: The range of the x-axis is automatically set to max:133% as this is the standard way to show radial charts."
   ]
  },
  {
   "cell_type": "code",
   "execution_count": 5,
   "id": "dc6866f3",
   "metadata": {},
   "outputs": [
    {
     "data": {
      "text/html": [
       "<script id=\"myVizzu_82ce8fa\">\n",
       "        document.getElementById(\"myVizzu_82ce8fa\").parentNode.style.padding = \"0px\";\n",
       "        </script>\n",
       "<div id=\"myVizzu_4a2bbdb\"/>\n",
       "        <script>\n",
       "        \n",
       "        chart_d29586f = chart_d29586f.then(chart => {\n",
       "            document.getElementById(\"myVizzu_4a2bbdb\").appendChild(myVizzu_d29586f);\n",
       "            return chart.animate(snapshot_36f2f17)\n",
       "        });\n",
       "        </script>"
      ]
     },
     "metadata": {},
     "output_type": "display_data"
    },
    {
     "data": {
      "text/html": [
       "<script id=\"myVizzu_088fe92\">\n",
       "        document.getElementById(\"myVizzu_088fe92\").parentNode.style.padding = \"0px\";\n",
       "        </script>\n",
       "<div id=\"myVizzu_74cbdda\"/>\n",
       "        <script>\n",
       "        \n",
       "        chart_d29586f = chart_d29586f.then(chart => {\n",
       "            document.getElementById(\"myVizzu_74cbdda\").appendChild(myVizzu_d29586f);\n",
       "            return chart.animate({\"config\": {\"title\": \"Polar coordinates\"}})\n",
       "        });\n",
       "        </script>"
      ]
     },
     "metadata": {},
     "output_type": "display_data"
    },
    {
     "data": {
      "text/html": [
       "<script id=\"myVizzu_5d6d3f6\">\n",
       "        document.getElementById(\"myVizzu_5d6d3f6\").parentNode.style.padding = \"0px\";\n",
       "        </script>\n",
       "<div id=\"myVizzu_08a2ccc\"/>\n",
       "        <script>\n",
       "        \n",
       "        chart_d29586f = chart_d29586f.then(chart => {\n",
       "            document.getElementById(\"myVizzu_08a2ccc\").appendChild(myVizzu_d29586f);\n",
       "            return chart.animate({\"config\": {\"channels\": {\"y\": {\"range\": {\"min\": \"-30%\"}}}, \"coordSystem\": \"polar\"}})\n",
       "        });\n",
       "        </script>"
      ]
     },
     "metadata": {},
     "output_type": "display_data"
    }
   ],
   "source": [
    "chart.animate(snapshot4)\n",
    "\n",
    "chart.animate(Config({\"title\": \"Polar coordinates\"}))\n",
    "\n",
    "chart.animate(Config({\n",
    "    \"channels\": {\n",
    "        \"y\": {\n",
    "            \"range\": {\n",
    "                \"min\": \"-30%\",\n",
    "            },\n",
    "        },\n",
    "    },\n",
    "    \"coordSystem\": \"polar\"\n",
    "}))"
   ]
  }
 ],
 "metadata": {
  "kernelspec": {
   "display_name": "Python 3 (ipykernel)",
   "language": "python",
   "name": "python3"
  },
  "language_info": {
   "codemirror_mode": {
    "name": "ipython",
    "version": 3
   },
   "file_extension": ".py",
   "mimetype": "text/x-python",
   "name": "python",
   "nbconvert_exporter": "python",
   "pygments_lexer": "ipython3",
   "version": "3.8.10"
  }
 },
 "nbformat": 4,
 "nbformat_minor": 5
}
