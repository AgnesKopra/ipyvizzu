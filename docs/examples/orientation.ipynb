{
 "cells": [
  {
   "cell_type": "markdown",
   "id": "6dbc8df4",
   "metadata": {},
   "source": [
    "## Orientation, split & polar\n",
    "\n",
    "Now that you are familiar with the basic logic and operation of Vizzu, let's dive in with some more advanced features that you can use to create animated data stories and show the data from different perspectives.\n",
    "\n",
    "Switching orientation means that you put a measure from one axis to the other to see the data from a different perspective. This is once again a state you should only use temporarily."
   ]
  },
  {
   "cell_type": "code",
   "execution_count": 1,
   "id": "d5da6794",
   "metadata": {},
   "outputs": [
    {
     "data": {
      "text/html": [
       "<script id=\"myVizzu_2e347b6\">\n",
       "    document.getElementById(\"myVizzu_2e347b6\").parentNode.style.padding = \"0px\";\n",
       "</script>\n",
       "<div id=\"myVizzu_ccc471d\" style=\"width:800px; height:480px;\"/>\n",
       "<script>\n",
       "    let myVizzu_ccc471d = document.getElementById(\"myVizzu_ccc471d\")\n",
       "    let chart_ccc471d = import(\"https://cdn.jsdelivr.net/npm/vizzu@~0.4.0/dist/vizzu.min.js\").then(Vizzu => new Vizzu.default(\"myVizzu_ccc471d\").initializing);\n",
       "</script>"
      ]
     },
     "metadata": {},
     "output_type": "display_data"
    },
    {
     "data": {
      "text/html": [
       "<script id=\"myVizzu_7b6e545\">\n",
       "    document.getElementById(\"myVizzu_7b6e545\").parentNode.style.padding = \"0px\";\n",
       "</script>\n",
       "<div id=\"myVizzu_bf4d44c\"/>\n",
       "<script>\n",
       "    chart_ccc471d = chart_ccc471d.then(chart => {\n",
       "        document.getElementById(\"myVizzu_bf4d44c\").appendChild(myVizzu_ccc471d);\n",
       "        return chart.animate({\"data\": {\"dimensions\": [{\"name\": \"Genres\", \"values\": [\"Pop\", \"Rock\", \"Jazz\", \"Metal\"]}, {\"name\": \"Types\", \"values\": [\"Hard\", \"Smooth\", \"Experimental\"]}], \"measures\": [{\"name\": \"Popularity\", \"values\": [[114, 96, 78, 52], [56, 36, 174, 121], [127, 83, 94, 58]]}]}})\n",
       "    });\n",
       "</script>"
      ]
     },
     "metadata": {},
     "output_type": "display_data"
    },
    {
     "data": {
      "text/html": [
       "<script id=\"myVizzu_82a590e\">\n",
       "    document.getElementById(\"myVizzu_82a590e\").parentNode.style.padding = \"0px\";\n",
       "</script>\n",
       "<div id=\"myVizzu_8a19356\"/>\n",
       "<script>\n",
       "    chart_ccc471d = chart_ccc471d.then(chart => {\n",
       "        document.getElementById(\"myVizzu_8a19356\").appendChild(myVizzu_ccc471d);\n",
       "        return chart.animate({\"config\": {\"channels\": {\"y\": {\"set\": [\"Popularity\", \"Types\"]}, \"x\": {\"set\": \"Genres\"}, \"label\": {\"attach\": \"Popularity\"}}, \"color\": {\"attach\": \"Types\"}, \"title\": \"Switch the orientation = arrange by other axis\"}})\n",
       "    });\n",
       "</script>"
      ]
     },
     "metadata": {},
     "output_type": "display_data"
    },
    {
     "data": {
      "text/html": [
       "<script id=\"myVizzu_1307a58\">\n",
       "    document.getElementById(\"myVizzu_1307a58\").parentNode.style.padding = \"0px\";\n",
       "</script>\n",
       "<div id=\"myVizzu_979b775\"/>\n",
       "<script>\n",
       "    chart_ccc471d = chart_ccc471d.then(chart => {\n",
       "        document.getElementById(\"myVizzu_979b775\").appendChild(myVizzu_ccc471d);\n",
       "        return chart.animate({\"config\": {\"channels\": {\"y\": {\"detach\": \"Popularity\"}, \"x\": {\"attach\": \"Popularity\"}}}})\n",
       "    });\n",
       "</script>"
      ]
     },
     "metadata": {},
     "output_type": "display_data"
    },
    {
     "data": {
      "text/html": [
       "<script id=\"myVizzu_8b03670\">\n",
       "    document.getElementById(\"myVizzu_8b03670\").parentNode.style.padding = \"0px\";\n",
       "</script>\n",
       "<script>\n",
       "    let snapshot_478c3f4;\n",
       "    chart_ccc471d = chart_ccc471d.then(chart => {\n",
       "        snapshot_478c3f4 = chart.store();\n",
       "        return chart;\n",
       "    });\n",
       "</script>"
      ]
     },
     "metadata": {},
     "output_type": "display_data"
    }
   ],
   "source": [
    "from ipyvizzu import Chart, Data, Config\n",
    "\n",
    "chart = Chart()\n",
    "\n",
    "data = Data.from_json(\"../data/music_example_data.json\")\n",
    "\n",
    "chart.animate(data)\n",
    "\n",
    "chart.animate(Config({\n",
    "    \"channels\": {\n",
    "        \"y\": {\n",
    "            \"set\": [\"Popularity\", \"Types\"]\n",
    "        }, \n",
    "        \"x\": {\n",
    "            \"set\": \"Genres\"\n",
    "        },\n",
    "        \"label\": {\n",
    "            \"attach\": \"Popularity\"\n",
    "        }\n",
    "    },\n",
    "    \"color\": {\n",
    "        \"attach\": \"Types\"\n",
    "    },\n",
    "    \"title\": \"Switch the orientation = arrange by other axis\"\n",
    "}))\n",
    "\n",
    "chart.animate(Config({\n",
    "    \"channels\": {\n",
    "        \"y\": {\n",
    "            \"detach\": \"Popularity\",\n",
    "        },\n",
    "        \"x\": {\n",
    "            \"attach\": \"Popularity\",\n",
    "        }\n",
    "    }\n",
    "}))\n",
    "\n",
    "snapshot1 = chart.store()"
   ]
  },
  {
   "cell_type": "markdown",
   "id": "64a0effc",
   "metadata": {},
   "source": [
    "By turning the split parameter on, you can see stacked elements side-by-side, which enables the comparison of the components."
   ]
  },
  {
   "cell_type": "code",
   "execution_count": 2,
   "id": "f977713f",
   "metadata": {},
   "outputs": [
    {
     "data": {
      "text/html": [
       "<script id=\"myVizzu_695738d\">\n",
       "    document.getElementById(\"myVizzu_695738d\").parentNode.style.padding = \"0px\";\n",
       "</script>\n",
       "<div id=\"myVizzu_e52faaf\"/>\n",
       "<script>\n",
       "    chart_ccc471d = chart_ccc471d.then(chart => {\n",
       "        document.getElementById(\"myVizzu_e52faaf\").appendChild(myVizzu_ccc471d);\n",
       "        return chart.animate(snapshot_478c3f4)\n",
       "    });\n",
       "</script>"
      ]
     },
     "metadata": {},
     "output_type": "display_data"
    },
    {
     "data": {
      "text/html": [
       "<script id=\"myVizzu_562030f\">\n",
       "    document.getElementById(\"myVizzu_562030f\").parentNode.style.padding = \"0px\";\n",
       "</script>\n",
       "<div id=\"myVizzu_7068984\"/>\n",
       "<script>\n",
       "    chart_ccc471d = chart_ccc471d.then(chart => {\n",
       "        document.getElementById(\"myVizzu_7068984\").appendChild(myVizzu_ccc471d);\n",
       "        return chart.animate({\"config\": {\"title\": \"Split stacked values = show side-by-side\"}})\n",
       "    });\n",
       "</script>"
      ]
     },
     "metadata": {},
     "output_type": "display_data"
    },
    {
     "data": {
      "text/html": [
       "<script id=\"myVizzu_c2ffcd0\">\n",
       "    document.getElementById(\"myVizzu_c2ffcd0\").parentNode.style.padding = \"0px\";\n",
       "</script>\n",
       "<div id=\"myVizzu_d622b0a\"/>\n",
       "<script>\n",
       "    chart_ccc471d = chart_ccc471d.then(chart => {\n",
       "        document.getElementById(\"myVizzu_d622b0a\").appendChild(myVizzu_ccc471d);\n",
       "        return chart.animate({\"config\": {\"split\": true}})\n",
       "    });\n",
       "</script>"
      ]
     },
     "metadata": {},
     "output_type": "display_data"
    },
    {
     "data": {
      "text/html": [
       "<script id=\"myVizzu_7937690\">\n",
       "    document.getElementById(\"myVizzu_7937690\").parentNode.style.padding = \"0px\";\n",
       "</script>\n",
       "<script>\n",
       "    let snapshot_e1ed121;\n",
       "    chart_ccc471d = chart_ccc471d.then(chart => {\n",
       "        snapshot_e1ed121 = chart.store();\n",
       "        return chart;\n",
       "    });\n",
       "</script>"
      ]
     },
     "metadata": {},
     "output_type": "display_data"
    }
   ],
   "source": [
    "chart.animate(snapshot1)\n",
    "\n",
    "chart.animate(Config({\"title\": \"Split stacked values = show side-by-side\"}))\n",
    "\n",
    "chart.animate(Config({\n",
    "    \"split\": True\n",
    "}))\n",
    "\n",
    "snapshot2 = chart.store()"
   ]
  },
  {
   "cell_type": "markdown",
   "id": "0d54187c",
   "metadata": {},
   "source": [
    "Merging the components by turning the split parameter off."
   ]
  },
  {
   "cell_type": "code",
   "execution_count": 3,
   "id": "acfa599d",
   "metadata": {},
   "outputs": [
    {
     "data": {
      "text/html": [
       "<script id=\"myVizzu_1fbbc89\">\n",
       "    document.getElementById(\"myVizzu_1fbbc89\").parentNode.style.padding = \"0px\";\n",
       "</script>\n",
       "<div id=\"myVizzu_d747fd4\"/>\n",
       "<script>\n",
       "    chart_ccc471d = chart_ccc471d.then(chart => {\n",
       "        document.getElementById(\"myVizzu_d747fd4\").appendChild(myVizzu_ccc471d);\n",
       "        return chart.animate(snapshot_e1ed121)\n",
       "    });\n",
       "</script>"
      ]
     },
     "metadata": {},
     "output_type": "display_data"
    },
    {
     "data": {
      "text/html": [
       "<script id=\"myVizzu_e5690f7\">\n",
       "    document.getElementById(\"myVizzu_e5690f7\").parentNode.style.padding = \"0px\";\n",
       "</script>\n",
       "<div id=\"myVizzu_7f8418e\"/>\n",
       "<script>\n",
       "    chart_ccc471d = chart_ccc471d.then(chart => {\n",
       "        document.getElementById(\"myVizzu_7f8418e\").appendChild(myVizzu_ccc471d);\n",
       "        return chart.animate({\"config\": {\"title\": \"Merge\"}})\n",
       "    });\n",
       "</script>"
      ]
     },
     "metadata": {},
     "output_type": "display_data"
    },
    {
     "data": {
      "text/html": [
       "<script id=\"myVizzu_60138f7\">\n",
       "    document.getElementById(\"myVizzu_60138f7\").parentNode.style.padding = \"0px\";\n",
       "</script>\n",
       "<div id=\"myVizzu_291b233\"/>\n",
       "<script>\n",
       "    chart_ccc471d = chart_ccc471d.then(chart => {\n",
       "        document.getElementById(\"myVizzu_291b233\").appendChild(myVizzu_ccc471d);\n",
       "        return chart.animate({\"config\": {\"split\": false}})\n",
       "    });\n",
       "</script>"
      ]
     },
     "metadata": {},
     "output_type": "display_data"
    },
    {
     "data": {
      "text/html": [
       "<script id=\"myVizzu_48a4334\">\n",
       "    document.getElementById(\"myVizzu_48a4334\").parentNode.style.padding = \"0px\";\n",
       "</script>\n",
       "<script>\n",
       "    let snapshot_9042400;\n",
       "    chart_ccc471d = chart_ccc471d.then(chart => {\n",
       "        snapshot_9042400 = chart.store();\n",
       "        return chart;\n",
       "    });\n",
       "</script>"
      ]
     },
     "metadata": {},
     "output_type": "display_data"
    }
   ],
   "source": [
    "chart.animate(snapshot2)\n",
    "\n",
    "chart.animate(Config({\"title\": \"Merge\"}))\n",
    "\n",
    "chart.animate(Config({\n",
    "    \"split\": False\n",
    "}))\n",
    "\n",
    "snapshot3 = chart.store()"
   ]
  },
  {
   "cell_type": "markdown",
   "id": "8bdea4dc",
   "metadata": {},
   "source": [
    "We aggregate the data by removing the Genres dimension from the x-axis."
   ]
  },
  {
   "cell_type": "code",
   "execution_count": 4,
   "id": "cd6f4efb",
   "metadata": {},
   "outputs": [
    {
     "data": {
      "text/html": [
       "<script id=\"myVizzu_57020d6\">\n",
       "    document.getElementById(\"myVizzu_57020d6\").parentNode.style.padding = \"0px\";\n",
       "</script>\n",
       "<div id=\"myVizzu_8a31912\"/>\n",
       "<script>\n",
       "    chart_ccc471d = chart_ccc471d.then(chart => {\n",
       "        document.getElementById(\"myVizzu_8a31912\").appendChild(myVizzu_ccc471d);\n",
       "        return chart.animate(snapshot_9042400)\n",
       "    });\n",
       "</script>"
      ]
     },
     "metadata": {},
     "output_type": "display_data"
    },
    {
     "data": {
      "text/html": [
       "<script id=\"myVizzu_f94e440\">\n",
       "    document.getElementById(\"myVizzu_f94e440\").parentNode.style.padding = \"0px\";\n",
       "</script>\n",
       "<div id=\"myVizzu_609ead5\"/>\n",
       "<script>\n",
       "    chart_ccc471d = chart_ccc471d.then(chart => {\n",
       "        document.getElementById(\"myVizzu_609ead5\").appendChild(myVizzu_ccc471d);\n",
       "        return chart.animate({\"config\": {\"title\": \"Aggregate\"}})\n",
       "    });\n",
       "</script>"
      ]
     },
     "metadata": {},
     "output_type": "display_data"
    },
    {
     "data": {
      "text/html": [
       "<script id=\"myVizzu_46158ef\">\n",
       "    document.getElementById(\"myVizzu_46158ef\").parentNode.style.padding = \"0px\";\n",
       "</script>\n",
       "<div id=\"myVizzu_9852e06\"/>\n",
       "<script>\n",
       "    chart_ccc471d = chart_ccc471d.then(chart => {\n",
       "        document.getElementById(\"myVizzu_9852e06\").appendChild(myVizzu_ccc471d);\n",
       "        return chart.animate({\"config\": {\"channels\": {\"x\": {\"detach\": \"Genres\"}}}})\n",
       "    });\n",
       "</script>"
      ]
     },
     "metadata": {},
     "output_type": "display_data"
    },
    {
     "data": {
      "text/html": [
       "<script id=\"myVizzu_23415b5\">\n",
       "    document.getElementById(\"myVizzu_23415b5\").parentNode.style.padding = \"0px\";\n",
       "</script>\n",
       "<script>\n",
       "    let snapshot_450cd90;\n",
       "    chart_ccc471d = chart_ccc471d.then(chart => {\n",
       "        snapshot_450cd90 = chart.store();\n",
       "        return chart;\n",
       "    });\n",
       "</script>"
      ]
     },
     "metadata": {},
     "output_type": "display_data"
    }
   ],
   "source": [
    "chart.animate(snapshot3)\n",
    "\n",
    "chart.animate(Config({\"title\": \"Aggregate\"}))\n",
    "\n",
    "chart.animate(Config({\n",
    "    \"channels\": {\n",
    "        \"x\": {\n",
    "            \"detach\": \"Genres\",\n",
    "        }\n",
    "    }\n",
    "}))\n",
    "\n",
    "snapshot4 = chart.store()"
   ]
  },
  {
   "cell_type": "markdown",
   "id": "57f51f7b",
   "metadata": {},
   "source": [
    "Switching from cartesian coordinates to polar. When doing so, it is worth setting the axis range on the axis with the dimension so that the viewers can easily compare the values shown. If you want to return to the default cartesian coordinates, just set the coordSystem parameter to ‘cartesian’.\n",
    "\n",
    "Note: The range of the x-axis is automatically set to max:133% as this is the standard way to show radial charts."
   ]
  },
  {
   "cell_type": "code",
   "execution_count": 5,
   "id": "dc6866f3",
   "metadata": {},
   "outputs": [
    {
     "data": {
      "text/html": [
       "<script id=\"myVizzu_46fff83\">\n",
       "    document.getElementById(\"myVizzu_46fff83\").parentNode.style.padding = \"0px\";\n",
       "</script>\n",
       "<div id=\"myVizzu_0dc9a48\"/>\n",
       "<script>\n",
       "    chart_ccc471d = chart_ccc471d.then(chart => {\n",
       "        document.getElementById(\"myVizzu_0dc9a48\").appendChild(myVizzu_ccc471d);\n",
       "        return chart.animate(snapshot_450cd90)\n",
       "    });\n",
       "</script>"
      ]
     },
     "metadata": {},
     "output_type": "display_data"
    },
    {
     "data": {
      "text/html": [
       "<script id=\"myVizzu_d757abe\">\n",
       "    document.getElementById(\"myVizzu_d757abe\").parentNode.style.padding = \"0px\";\n",
       "</script>\n",
       "<div id=\"myVizzu_8f22640\"/>\n",
       "<script>\n",
       "    chart_ccc471d = chart_ccc471d.then(chart => {\n",
       "        document.getElementById(\"myVizzu_8f22640\").appendChild(myVizzu_ccc471d);\n",
       "        return chart.animate({\"config\": {\"title\": \"Polar coordinates\"}})\n",
       "    });\n",
       "</script>"
      ]
     },
     "metadata": {},
     "output_type": "display_data"
    },
    {
     "data": {
      "text/html": [
       "<script id=\"myVizzu_bc5e13e\">\n",
       "    document.getElementById(\"myVizzu_bc5e13e\").parentNode.style.padding = \"0px\";\n",
       "</script>\n",
       "<div id=\"myVizzu_37675ba\"/>\n",
       "<script>\n",
       "    chart_ccc471d = chart_ccc471d.then(chart => {\n",
       "        document.getElementById(\"myVizzu_37675ba\").appendChild(myVizzu_ccc471d);\n",
       "        return chart.animate({\"config\": {\"channels\": {\"y\": {\"range\": {\"min\": \"-30%\"}}}, \"coordSystem\": \"polar\"}})\n",
       "    });\n",
       "</script>"
      ]
     },
     "metadata": {},
     "output_type": "display_data"
    }
   ],
   "source": [
    "chart.animate(snapshot4)\n",
    "\n",
    "chart.animate(Config({\"title\": \"Polar coordinates\"}))\n",
    "\n",
    "chart.animate(Config({\n",
    "    \"channels\": {\n",
    "        \"y\": {\n",
    "            \"range\": {\n",
    "                \"min\": \"-30%\",\n",
    "            },\n",
    "        },\n",
    "    },\n",
    "    \"coordSystem\": \"polar\"\n",
    "}))"
   ]
  }
 ],
 "metadata": {
  "kernelspec": {
   "display_name": "Python 3 (ipykernel)",
   "language": "python",
   "name": "python3"
  },
  "language_info": {
   "codemirror_mode": {
    "name": "ipython",
    "version": 3
   },
   "file_extension": ".py",
   "mimetype": "text/x-python",
   "name": "python",
   "nbconvert_exporter": "python",
   "pygments_lexer": "ipython3",
   "version": "3.8.10"
  }
 },
 "nbformat": 4,
 "nbformat_minor": 5
}
