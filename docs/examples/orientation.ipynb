{
 "cells": [
  {
   "cell_type": "markdown",
   "id": "6dbc8df4",
   "metadata": {},
   "source": [
    "## Orientation, split & polar\n",
    "\n",
    "Now that you are familiar with the basic logic and operation of Vizzu, let's dive in with some more advanced features that you can use to create animated data stories and show the data from different perspectives.\n",
    "\n",
    "Switching orientation means that you put a measure from one axis to the other to see the data from a different perspective. This is once again a state you should only use temporarily."
   ]
  },
  {
   "cell_type": "code",
   "execution_count": 1,
   "id": "d5da6794",
   "metadata": {},
   "outputs": [
    {
     "data": {
      "text/html": [
       "\n",
       "<div id=\"myVizzu_140673884109072\" style=\"width:800px; height:480px;\" />\n",
       "<script type=\"module\">\n",
       "import Vizzu from 'https://cdn.jsdelivr.net/npm/vizzu@latest/dist/vizzu.min.js';\n",
       "\n",
       "let chart = new Vizzu('myVizzu_140673884109072');\n",
       "chart.initializing.then( chart => {\n",
       "\n",
       "chart.animate({\"data\": {\"dimensions\": [{\"name\": \"Genres\", \"values\": [\"Pop\", \"Rock\", \"Jazz\", \"Metal\"]}, {\"name\": \"Types\", \"values\": [\"Hard\", \"Smooth\", \"Experimental\"]}], \"measures\": [{\"name\": \"Popularity\", \"values\": [[114, 96, 78, 52], [56, 36, 174, 121], [127, 83, 94, 58]]}]}});\n",
       "chart.animate({\"config\": {\"channels\": {\"y\": {\"set\": [\"Popularity\", \"Types\"]}, \"x\": {\"set\": \"Genres\"}}}});\n",
       "chart.animate({\"config\": {\"channels\": {\"label\": {\"attach\": [\"Popularity\"]}}}});\n",
       "chart.animate({\"config\": {\"color\": {\"set\": [\"Genres\"]}}});\n",
       "chart.animate({\"config\": {\"channels\": {\"y\": {\"detach\": [\"Popularity\"]}, \"x\": {\"attach\": [\"Popularity\"]}}}});\n",
       "} );\n",
       "</script>"
      ]
     },
     "metadata": {},
     "output_type": "display_data"
    }
   ],
   "source": [
    "from ipyvizzu import Chart, Data, Config\n",
    "\n",
    "data = Data()\n",
    "\n",
    "data.add_dimension('Genres', [ 'Pop', 'Rock', 'Jazz', 'Metal'])\n",
    "data.add_dimension('Types', [ 'Hard', 'Smooth', 'Experimental' ])\n",
    "\n",
    "data.add_measure(\n",
    "    'Popularity',\n",
    "    [\n",
    "        [114, 96, 78, 52],\n",
    "        [56, 36, 174, 121],\n",
    "        [127, 83, 94, 58],\n",
    "    ]\n",
    ")\n",
    "\n",
    "chart = Chart()\n",
    "chart.animate(data)\n",
    "chart.animate(Config({\"channels\": {\"y\": {\"set\": [\"Popularity\", \"Types\"]}, \"x\": {\"set\": \"Genres\"}}}))\n",
    "chart.animate(Config({\"channels\": {\"label\": {\"attach\": [\"Popularity\"]}}}))\n",
    "chart.animate(Config({\"color\": {\"set\": [\"Genres\"]}}))\n",
    "chart.animate(Config({\n",
    "    \"channels\": {\n",
    "        \"y\": {\n",
    "            \"detach\": [\"Popularity\"],\n",
    "        },\n",
    "        \"x\": {\n",
    "            \"attach\": [\"Popularity\"],\n",
    "        }\n",
    "    }\n",
    "}))\n",
    "\n",
    "\n",
    "chart.show()"
   ]
  },
  {
   "cell_type": "markdown",
   "id": "64a0effc",
   "metadata": {},
   "source": [
    "By turning the split parameter on, you can see stacked elements side-by-side, which enables the comparison of the components."
   ]
  },
  {
   "cell_type": "code",
   "execution_count": 2,
   "id": "f977713f",
   "metadata": {},
   "outputs": [
    {
     "data": {
      "text/html": [
       "\n",
       "<div id=\"myVizzu_140673884104320\" style=\"width:800px; height:480px;\" />\n",
       "<script type=\"module\">\n",
       "import Vizzu from 'https://cdn.jsdelivr.net/npm/vizzu@latest/dist/vizzu.min.js';\n",
       "\n",
       "let chart = new Vizzu('myVizzu_140673884104320');\n",
       "chart.initializing.then( chart => {\n",
       "\n",
       "chart.animate({\"data\": {\"dimensions\": [{\"name\": \"Genres\", \"values\": [\"Pop\", \"Rock\", \"Jazz\", \"Metal\"]}, {\"name\": \"Types\", \"values\": [\"Hard\", \"Smooth\", \"Experimental\"]}], \"measures\": [{\"name\": \"Popularity\", \"values\": [[114, 96, 78, 52], [56, 36, 174, 121], [127, 83, 94, 58]]}]}});\n",
       "chart.animate({\"config\": {\"channels\": {\"y\": {\"set\": [\"Popularity\", \"Types\"]}, \"x\": {\"set\": \"Genres\"}}}});\n",
       "chart.animate({\"config\": {\"channels\": {\"label\": {\"attach\": [\"Popularity\"]}}}});\n",
       "chart.animate({\"config\": {\"color\": {\"set\": [\"Genres\"]}}});\n",
       "chart.animate({\"config\": {\"channels\": {\"y\": {\"detach\": [\"Popularity\"]}, \"x\": {\"attach\": [\"Popularity\"]}}}});\n",
       "chart.animate({\"config\": {\"split\": true}});\n",
       "} );\n",
       "</script>"
      ]
     },
     "metadata": {},
     "output_type": "display_data"
    }
   ],
   "source": [
    "from ipyvizzu import Chart, Data, Config\n",
    "\n",
    "data = Data()\n",
    "\n",
    "data.add_dimension('Genres', [ 'Pop', 'Rock', 'Jazz', 'Metal'])\n",
    "data.add_dimension('Types', [ 'Hard', 'Smooth', 'Experimental' ])\n",
    "\n",
    "data.add_measure(\n",
    "    'Popularity',\n",
    "    [\n",
    "        [114, 96, 78, 52],\n",
    "        [56, 36, 174, 121],\n",
    "        [127, 83, 94, 58],\n",
    "    ]\n",
    ")\n",
    "\n",
    "chart = Chart()\n",
    "chart.animate(data)\n",
    "chart.animate(Config({\"channels\": {\"y\": {\"set\": [\"Popularity\", \"Types\"]}, \"x\": {\"set\": \"Genres\"}}}))\n",
    "chart.animate(Config({\"channels\": {\"label\": {\"attach\": [\"Popularity\"]}}}))\n",
    "chart.animate(Config({\"color\": {\"set\": [\"Genres\"]}}))\n",
    "chart.animate(Config({\n",
    "    \"channels\": {\n",
    "        \"y\": {\n",
    "            \"detach\": [\"Popularity\"],\n",
    "        },\n",
    "        \"x\": {\n",
    "            \"attach\": [\"Popularity\"],\n",
    "        }\n",
    "    }\n",
    "}))\n",
    "chart.animate(Config({\n",
    "    \"split\": True,\n",
    "}))\n",
    "\n",
    "\n",
    "chart.show()"
   ]
  },
  {
   "cell_type": "markdown",
   "id": "0d54187c",
   "metadata": {},
   "source": [
    "Merging the components by turning the split parameter off"
   ]
  },
  {
   "cell_type": "code",
   "execution_count": 3,
   "id": "acfa599d",
   "metadata": {},
   "outputs": [
    {
     "data": {
      "text/html": [
       "\n",
       "<div id=\"myVizzu_140673883864272\" style=\"width:800px; height:480px;\" />\n",
       "<script type=\"module\">\n",
       "import Vizzu from 'https://cdn.jsdelivr.net/npm/vizzu@latest/dist/vizzu.min.js';\n",
       "\n",
       "let chart = new Vizzu('myVizzu_140673883864272');\n",
       "chart.initializing.then( chart => {\n",
       "\n",
       "chart.animate({\"data\": {\"dimensions\": [{\"name\": \"Genres\", \"values\": [\"Pop\", \"Rock\", \"Jazz\", \"Metal\"]}, {\"name\": \"Types\", \"values\": [\"Hard\", \"Smooth\", \"Experimental\"]}], \"measures\": [{\"name\": \"Popularity\", \"values\": [[114, 96, 78, 52], [56, 36, 174, 121], [127, 83, 94, 58]]}]}});\n",
       "chart.animate({\"config\": {\"channels\": {\"y\": {\"set\": [\"Popularity\", \"Types\"]}, \"x\": {\"set\": \"Genres\"}}}});\n",
       "chart.animate({\"config\": {\"channels\": {\"label\": {\"attach\": [\"Popularity\"]}}}});\n",
       "chart.animate({\"config\": {\"color\": {\"set\": [\"Genres\"]}}});\n",
       "chart.animate({\"config\": {\"channels\": {\"y\": {\"detach\": [\"Popularity\"]}, \"x\": {\"attach\": [\"Popularity\"]}}}});\n",
       "chart.animate({\"config\": {\"split\": true}});\n",
       "chart.animate({\"config\": {\"split\": false}});\n",
       "} );\n",
       "</script>"
      ]
     },
     "metadata": {},
     "output_type": "display_data"
    }
   ],
   "source": [
    "from ipyvizzu import Chart, Data, Config\n",
    "\n",
    "data = Data()\n",
    "\n",
    "data.add_dimension('Genres', [ 'Pop', 'Rock', 'Jazz', 'Metal'])\n",
    "data.add_dimension('Types', [ 'Hard', 'Smooth', 'Experimental' ])\n",
    "\n",
    "data.add_measure(\n",
    "    'Popularity',\n",
    "    [\n",
    "        [114, 96, 78, 52],\n",
    "        [56, 36, 174, 121],\n",
    "        [127, 83, 94, 58],\n",
    "    ]\n",
    ")\n",
    "\n",
    "chart = Chart()\n",
    "chart.animate(data)\n",
    "chart.animate(Config({\"channels\": {\"y\": {\"set\": [\"Popularity\", \"Types\"]}, \"x\": {\"set\": \"Genres\"}}}))\n",
    "chart.animate(Config({\"channels\": {\"label\": {\"attach\": [\"Popularity\"]}}}))\n",
    "chart.animate(Config({\"color\": {\"set\": [\"Genres\"]}}))\n",
    "chart.animate(Config({\n",
    "    \"channels\": {\n",
    "        \"y\": {\n",
    "            \"detach\": [\"Popularity\"],\n",
    "        },\n",
    "        \"x\": {\n",
    "            \"attach\": [\"Popularity\"],\n",
    "        }\n",
    "    }\n",
    "}))\n",
    "chart.animate(Config({\n",
    "    \"split\": True,\n",
    "}))\n",
    "chart.animate(Config({\n",
    "    \"split\": False,\n",
    "}))\n",
    "\n",
    "\n",
    "chart.show()"
   ]
  },
  {
   "cell_type": "markdown",
   "id": "8bdea4dc",
   "metadata": {},
   "source": [
    "We aggregate the data by removing the Genres dimension from the x-axis"
   ]
  },
  {
   "cell_type": "code",
   "execution_count": 4,
   "id": "cd6f4efb",
   "metadata": {},
   "outputs": [
    {
     "data": {
      "text/html": [
       "\n",
       "<div id=\"myVizzu_140673884107152\" style=\"width:800px; height:480px;\" />\n",
       "<script type=\"module\">\n",
       "import Vizzu from 'https://cdn.jsdelivr.net/npm/vizzu@latest/dist/vizzu.min.js';\n",
       "\n",
       "let chart = new Vizzu('myVizzu_140673884107152');\n",
       "chart.initializing.then( chart => {\n",
       "\n",
       "chart.animate({\"data\": {\"dimensions\": [{\"name\": \"Genres\", \"values\": [\"Pop\", \"Rock\", \"Jazz\", \"Metal\"]}, {\"name\": \"Types\", \"values\": [\"Hard\", \"Smooth\", \"Experimental\"]}], \"measures\": [{\"name\": \"Popularity\", \"values\": [[114, 96, 78, 52], [56, 36, 174, 121], [127, 83, 94, 58]]}]}});\n",
       "chart.animate({\"config\": {\"channels\": {\"y\": {\"set\": [\"Popularity\", \"Types\"]}, \"x\": {\"set\": \"Genres\"}}}});\n",
       "chart.animate({\"config\": {\"channels\": {\"label\": {\"attach\": [\"Popularity\"]}}}});\n",
       "chart.animate({\"config\": {\"color\": {\"set\": [\"Genres\"]}}});\n",
       "chart.animate({\"config\": {\"channels\": {\"y\": {\"detach\": [\"Popularity\"]}, \"x\": {\"attach\": [\"Popularity\"]}}}});\n",
       "chart.animate({\"config\": {\"channels\": {\"x\": {\"detach\": [\"Genres\"]}}}});\n",
       "} );\n",
       "</script>"
      ]
     },
     "metadata": {},
     "output_type": "display_data"
    }
   ],
   "source": [
    "from ipyvizzu import Chart, Data, Config\n",
    "\n",
    "data = Data()\n",
    "\n",
    "data.add_dimension('Genres', [ 'Pop', 'Rock', 'Jazz', 'Metal'])\n",
    "data.add_dimension('Types', [ 'Hard', 'Smooth', 'Experimental' ])\n",
    "\n",
    "data.add_measure(\n",
    "    'Popularity',\n",
    "    [\n",
    "        [114, 96, 78, 52],\n",
    "        [56, 36, 174, 121],\n",
    "        [127, 83, 94, 58],\n",
    "    ]\n",
    ")\n",
    "\n",
    "chart = Chart()\n",
    "chart.animate(data)\n",
    "chart.animate(Config({\"channels\": {\"y\": {\"set\": [\"Popularity\", \"Types\"]}, \"x\": {\"set\": \"Genres\"}}}))\n",
    "chart.animate(Config({\"channels\": {\"label\": {\"attach\": [\"Popularity\"]}}}))\n",
    "chart.animate(Config({\"color\": {\"set\": [\"Genres\"]}}))\n",
    "chart.animate(Config({\n",
    "    \"channels\": {\n",
    "        \"y\": {\n",
    "            \"detach\": [\"Popularity\"],\n",
    "        },\n",
    "        \"x\": {\n",
    "            \"attach\": [\"Popularity\"],\n",
    "        }\n",
    "    }\n",
    "}))\n",
    "chart.animate(Config({\n",
    "    \"channels\": {\n",
    "        \"x\": {\n",
    "            \"detach\": [\"Genres\"],\n",
    "        }\n",
    "    }\n",
    "}))\n",
    "\n",
    "\n",
    "chart.show()"
   ]
  },
  {
   "cell_type": "markdown",
   "id": "57f51f7b",
   "metadata": {},
   "source": [
    "Switching from cartesian coordinates to polar. When doing so, it is worth setting the axis range on the axis with the dimension so that the viewers can easily compare the values shown. If you want to return to the default cartesian coordinates, just set the coordSystem parameter to ‘cartesian’.\n",
    "\n",
    "Note: The range of the x-axis is automatically set to max:133% as this is the standard way to show radial charts."
   ]
  },
  {
   "cell_type": "code",
   "execution_count": 5,
   "id": "dc6866f3",
   "metadata": {},
   "outputs": [
    {
     "data": {
      "text/html": [
       "\n",
       "<div id=\"myVizzu_140673883851792\" style=\"width:800px; height:480px;\" />\n",
       "<script type=\"module\">\n",
       "import Vizzu from 'https://cdn.jsdelivr.net/npm/vizzu@latest/dist/vizzu.min.js';\n",
       "\n",
       "let chart = new Vizzu('myVizzu_140673883851792');\n",
       "chart.initializing.then( chart => {\n",
       "\n",
       "chart.animate({\"data\": {\"dimensions\": [{\"name\": \"Genres\", \"values\": [\"Pop\", \"Rock\", \"Jazz\", \"Metal\"]}, {\"name\": \"Types\", \"values\": [\"Hard\", \"Smooth\", \"Experimental\"]}], \"measures\": [{\"name\": \"Popularity\", \"values\": [[114, 96, 78, 52], [56, 36, 174, 121], [127, 83, 94, 58]]}]}});\n",
       "chart.animate({\"config\": {\"channels\": {\"y\": {\"set\": [\"Popularity\", \"Types\"]}, \"x\": {\"set\": \"Genres\"}}}});\n",
       "chart.animate({\"config\": {\"channels\": {\"label\": {\"attach\": [\"Popularity\"]}}}});\n",
       "chart.animate({\"config\": {\"color\": {\"set\": [\"Genres\"]}}});\n",
       "chart.animate({\"config\": {\"channels\": {\"y\": {\"detach\": [\"Popularity\"]}, \"x\": {\"attach\": [\"Popularity\"]}}}});\n",
       "chart.animate({\"config\": {\"channels\": {\"y\": {\"range\": {\"min\": \"-30%\"}}}, \"coordSystem\": \"polar\"}});\n",
       "} );\n",
       "</script>"
      ]
     },
     "metadata": {},
     "output_type": "display_data"
    }
   ],
   "source": [
    "from ipyvizzu import Chart, Data, Config\n",
    "\n",
    "data = Data()\n",
    "\n",
    "data.add_dimension('Genres', [ 'Pop', 'Rock', 'Jazz', 'Metal'])\n",
    "data.add_dimension('Types', [ 'Hard', 'Smooth', 'Experimental' ])\n",
    "\n",
    "data.add_measure(\n",
    "    'Popularity',\n",
    "    [\n",
    "        [114, 96, 78, 52],\n",
    "        [56, 36, 174, 121],\n",
    "        [127, 83, 94, 58],\n",
    "    ]\n",
    ")\n",
    "\n",
    "chart = Chart()\n",
    "chart.animate(data)\n",
    "chart.animate(Config({\"channels\": {\"y\": {\"set\": [\"Popularity\", \"Types\"]}, \"x\": {\"set\": \"Genres\"}}}))\n",
    "chart.animate(Config({\"channels\": {\"label\": {\"attach\": [\"Popularity\"]}}}))\n",
    "chart.animate(Config({\"color\": {\"set\": [\"Genres\"]}}))\n",
    "chart.animate(Config({\n",
    "    \"channels\": {\n",
    "        \"y\": {\n",
    "            \"detach\": [\"Popularity\"],\n",
    "        },\n",
    "        \"x\": {\n",
    "            \"attach\": [\"Popularity\"],\n",
    "        }\n",
    "    }\n",
    "}))\n",
    "chart.animate(Config({\n",
    "    \"channels\": {\n",
    "        \"y\": {\n",
    "            \"range\": {\n",
    "                \"min\": \"-30%\",\n",
    "            },\n",
    "        },\n",
    "    },\n",
    "    \"coordSystem\": \"polar\",\n",
    "\n",
    "}))\n",
    "\n",
    "\n",
    "chart.show()"
   ]
  }
 ],
 "metadata": {
  "kernelspec": {
   "display_name": "Python 3 (ipykernel)",
   "language": "python",
   "name": "python3"
  },
  "language_info": {
   "codemirror_mode": {
    "name": "ipython",
    "version": 3
   },
   "file_extension": ".py",
   "mimetype": "text/x-python",
   "name": "python",
   "nbconvert_exporter": "python",
   "pygments_lexer": "ipython3",
   "version": "3.10.1"
  }
 },
 "nbformat": 4,
 "nbformat_minor": 5
}
