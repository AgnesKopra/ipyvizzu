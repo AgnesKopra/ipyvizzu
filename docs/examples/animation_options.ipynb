{
 "cells": [
  {
   "cell_type": "markdown",
   "id": "8518ab11",
   "metadata": {},
   "source": [
    "## Animation options\n",
    "\n",
    "In Vizzu you can set the timing and duration of the animation. You can do this either for the whole animation, or for animation groups such as the elements moving along the x-axis or the y-axis, appearing or disappearing or when the coordinate system is changed.\n",
    "\n",
    "Let’s see first a simple example when a stacked column chart is grouped using the default animation options."
   ]
  },
  {
   "cell_type": "code",
   "execution_count": 1,
   "id": "b0552636",
   "metadata": {},
   "outputs": [
    {
     "data": {
      "text/html": [
       "<script id=\"myVizzu_eb2944c\">\n",
       "    document.getElementById(\"myVizzu_eb2944c\").parentNode.style.padding = \"0px\";\n",
       "</script>\n",
       "<div id=\"myVizzu_af78cf7\" style=\"width:800px; height:480px;\"/>\n",
       "<script>\n",
       "    let myVizzu_af78cf7 = document.getElementById(\"myVizzu_af78cf7\")\n",
       "    let chart_af78cf7 = import(\"https://cdn.jsdelivr.net/npm/vizzu@~0.4.0/dist/vizzu.min.js\").then(Vizzu => new Vizzu.default(\"myVizzu_af78cf7\").initializing);\n",
       "</script>"
      ]
     },
     "metadata": {},
     "output_type": "display_data"
    },
    {
     "data": {
      "text/html": [
       "<script id=\"myVizzu_f8065ac\">\n",
       "    document.getElementById(\"myVizzu_f8065ac\").parentNode.style.padding = \"0px\";\n",
       "</script>\n",
       "<div id=\"myVizzu_2139575\"/>\n",
       "<script>\n",
       "    chart_af78cf7 = chart_af78cf7.then(chart => {\n",
       "        document.getElementById(\"myVizzu_2139575\").appendChild(myVizzu_af78cf7);\n",
       "        return chart.animate({\"data\": {\"dimensions\": [{\"name\": \"Genres\", \"values\": [\"Pop\", \"Rock\", \"Jazz\", \"Metal\"]}, {\"name\": \"Types\", \"values\": [\"Hard\", \"Smooth\", \"Experimental\"]}], \"measures\": [{\"name\": \"Popularity\", \"values\": [[114, 96, 78, 52], [56, 36, 174, 121], [127, 83, 94, 58]]}]}})\n",
       "    });\n",
       "</script>"
      ]
     },
     "metadata": {},
     "output_type": "display_data"
    },
    {
     "data": {
      "text/html": [
       "<script id=\"myVizzu_a7fe10c\">\n",
       "    document.getElementById(\"myVizzu_a7fe10c\").parentNode.style.padding = \"0px\";\n",
       "</script>\n",
       "<div id=\"myVizzu_81d39fb\"/>\n",
       "<script>\n",
       "    chart_af78cf7 = chart_af78cf7.then(chart => {\n",
       "        document.getElementById(\"myVizzu_81d39fb\").appendChild(myVizzu_af78cf7);\n",
       "        return chart.animate({\"config\": {\"channels\": {\"y\": {\"set\": [\"Popularity\", \"Types\"]}, \"x\": {\"set\": \"Genres\"}}, \"label\": {\"attach\": \"Popularity\"}, \"color\": {\"set\": \"Types\"}, \"title\": \"Default options - step 1\"}})\n",
       "    });\n",
       "</script>"
      ]
     },
     "metadata": {},
     "output_type": "display_data"
    },
    {
     "data": {
      "text/html": [
       "<script id=\"myVizzu_54be448\">\n",
       "    document.getElementById(\"myVizzu_54be448\").parentNode.style.padding = \"0px\";\n",
       "</script>\n",
       "<div id=\"myVizzu_b3eb051\"/>\n",
       "<script>\n",
       "    chart_af78cf7 = chart_af78cf7.then(chart => {\n",
       "        document.getElementById(\"myVizzu_b3eb051\").appendChild(myVizzu_af78cf7);\n",
       "        return chart.animate({\"config\": {\"channels\": {\"y\": {\"detach\": \"Types\"}, \"x\": {\"attach\": \"Types\"}}}})\n",
       "    });\n",
       "</script>"
      ]
     },
     "metadata": {},
     "output_type": "display_data"
    },
    {
     "data": {
      "text/html": [
       "<script id=\"myVizzu_379ad34\">\n",
       "    document.getElementById(\"myVizzu_379ad34\").parentNode.style.padding = \"0px\";\n",
       "</script>\n",
       "<script>\n",
       "    let snapshot_20bd94a;\n",
       "    chart_af78cf7 = chart_af78cf7.then(chart => {\n",
       "        snapshot_20bd94a = chart.store();\n",
       "        return chart;\n",
       "    });\n",
       "</script>"
      ]
     },
     "metadata": {},
     "output_type": "display_data"
    }
   ],
   "source": [
    "from ipyvizzu import Chart, Data, Config\n",
    "\n",
    "chart = Chart()\n",
    "\n",
    "data = Data.from_json(\"../data/music_example_data.json\")\n",
    "\n",
    "chart.animate(data)\n",
    "\n",
    "chart.animate(Config({\n",
    "    \"channels\": {\n",
    "        \"y\": {\n",
    "            \"set\": [\"Popularity\", \"Types\"]\n",
    "        }, \n",
    "        \"x\": {\n",
    "            \"set\": \"Genres\"\n",
    "        }\n",
    "    }, \n",
    "    \"label\": {\n",
    "        \"attach\": \"Popularity\"\n",
    "    },\n",
    "    \"color\": {\n",
    "        \"set\": \"Types\"\n",
    "    },\n",
    "    \"title\": \"Default options - step 1\"\n",
    "}))\n",
    "\n",
    "chart.animate(Config({\n",
    "    \"channels\": {\n",
    "        \"y\": {\n",
    "            \"detach\": \"Types\"\n",
    "        }, \n",
    "        \"x\": {\n",
    "            \"attach\": \"Types\"\n",
    "        }\n",
    "    }\n",
    "}))\n",
    "\n",
    "snapshot1 = chart.store()"
   ]
  },
  {
   "cell_type": "markdown",
   "id": "703a28af",
   "metadata": {},
   "source": [
    "We stack the columns, still with the default options."
   ]
  },
  {
   "cell_type": "code",
   "execution_count": 2,
   "id": "ebce53a8",
   "metadata": {},
   "outputs": [
    {
     "data": {
      "text/html": [
       "<script id=\"myVizzu_f68e215\">\n",
       "    document.getElementById(\"myVizzu_f68e215\").parentNode.style.padding = \"0px\";\n",
       "</script>\n",
       "<div id=\"myVizzu_fd71298\"/>\n",
       "<script>\n",
       "    chart_af78cf7 = chart_af78cf7.then(chart => {\n",
       "        document.getElementById(\"myVizzu_fd71298\").appendChild(myVizzu_af78cf7);\n",
       "        return chart.animate(snapshot_20bd94a)\n",
       "    });\n",
       "</script>"
      ]
     },
     "metadata": {},
     "output_type": "display_data"
    },
    {
     "data": {
      "text/html": [
       "<script id=\"myVizzu_8b40581\">\n",
       "    document.getElementById(\"myVizzu_8b40581\").parentNode.style.padding = \"0px\";\n",
       "</script>\n",
       "<div id=\"myVizzu_e82c528\"/>\n",
       "<script>\n",
       "    chart_af78cf7 = chart_af78cf7.then(chart => {\n",
       "        document.getElementById(\"myVizzu_e82c528\").appendChild(myVizzu_af78cf7);\n",
       "        return chart.animate({\"config\": {\"title\": \"Default options - step 2\"}})\n",
       "    });\n",
       "</script>"
      ]
     },
     "metadata": {},
     "output_type": "display_data"
    },
    {
     "data": {
      "text/html": [
       "<script id=\"myVizzu_1847a6c\">\n",
       "    document.getElementById(\"myVizzu_1847a6c\").parentNode.style.padding = \"0px\";\n",
       "</script>\n",
       "<div id=\"myVizzu_e203577\"/>\n",
       "<script>\n",
       "    chart_af78cf7 = chart_af78cf7.then(chart => {\n",
       "        document.getElementById(\"myVizzu_e203577\").appendChild(myVizzu_af78cf7);\n",
       "        return chart.animate({\"config\": {\"channels\": {\"x\": {\"detach\": \"Types\"}, \"y\": {\"attach\": \"Types\"}}}})\n",
       "    });\n",
       "</script>"
      ]
     },
     "metadata": {},
     "output_type": "display_data"
    },
    {
     "data": {
      "text/html": [
       "<script id=\"myVizzu_9c91349\">\n",
       "    document.getElementById(\"myVizzu_9c91349\").parentNode.style.padding = \"0px\";\n",
       "</script>\n",
       "<script>\n",
       "    let snapshot_f585d2f;\n",
       "    chart_af78cf7 = chart_af78cf7.then(chart => {\n",
       "        snapshot_f585d2f = chart.store();\n",
       "        return chart;\n",
       "    });\n",
       "</script>"
      ]
     },
     "metadata": {},
     "output_type": "display_data"
    }
   ],
   "source": [
    "chart.animate(snapshot1)\n",
    "\n",
    "chart.animate(Config({\"title\": \"Default options - step 2\"}))\n",
    "\n",
    "chart.animate(Config({\n",
    "    \"channels\": {\n",
    "        \"x\": {\n",
    "            \"detach\": \"Types\"\n",
    "        }, \n",
    "        \"y\": {\n",
    "            \"attach\": \"Types\"\n",
    "        }\n",
    "    }\n",
    "}))\n",
    "\n",
    "snapshot2 = chart.store()"
   ]
  },
  {
   "cell_type": "markdown",
   "id": "3c5ed3f8",
   "metadata": {},
   "source": [
    "Now we change the animation settings for the elements moving along the y-axis and also the change in styles, more specifically when the labels on the markers move from the center of the chart elements to the top of them."
   ]
  },
  {
   "cell_type": "code",
   "execution_count": 3,
   "id": "31c17b7c",
   "metadata": {},
   "outputs": [
    {
     "data": {
      "text/html": [
       "<script id=\"myVizzu_cef4e5b\">\n",
       "    document.getElementById(\"myVizzu_cef4e5b\").parentNode.style.padding = \"0px\";\n",
       "</script>\n",
       "<div id=\"myVizzu_416f7f1\"/>\n",
       "<script>\n",
       "    chart_af78cf7 = chart_af78cf7.then(chart => {\n",
       "        document.getElementById(\"myVizzu_416f7f1\").appendChild(myVizzu_af78cf7);\n",
       "        return chart.animate(snapshot_f585d2f)\n",
       "    });\n",
       "</script>"
      ]
     },
     "metadata": {},
     "output_type": "display_data"
    },
    {
     "data": {
      "text/html": [
       "<script id=\"myVizzu_0da19de\">\n",
       "    document.getElementById(\"myVizzu_0da19de\").parentNode.style.padding = \"0px\";\n",
       "</script>\n",
       "<div id=\"myVizzu_805d648\"/>\n",
       "<script>\n",
       "    chart_af78cf7 = chart_af78cf7.then(chart => {\n",
       "        document.getElementById(\"myVizzu_805d648\").appendChild(myVizzu_af78cf7);\n",
       "        return chart.animate({\"config\": {\"title\": \"Custom animation settings for specific groups\"}})\n",
       "    });\n",
       "</script>"
      ]
     },
     "metadata": {},
     "output_type": "display_data"
    },
    {
     "data": {
      "text/html": [
       "<script id=\"myVizzu_37fb521\">\n",
       "    document.getElementById(\"myVizzu_37fb521\").parentNode.style.padding = \"0px\";\n",
       "</script>\n",
       "<div id=\"myVizzu_b53c899\"/>\n",
       "<script>\n",
       "    chart_af78cf7 = chart_af78cf7.then(chart => {\n",
       "        document.getElementById(\"myVizzu_b53c899\").appendChild(myVizzu_af78cf7);\n",
       "        return chart.animate({\"config\": {\"channels\": {\"y\": {\"detach\": \"Types\"}, \"x\": {\"attach\": \"Types\"}}}}, {\"y\": {\"duration\": 2, \"delay\": 2}, \"style\": {\"duration\": 2, \"delay\": 4}})\n",
       "    });\n",
       "</script>"
      ]
     },
     "metadata": {},
     "output_type": "display_data"
    },
    {
     "data": {
      "text/html": [
       "<script id=\"myVizzu_5489645\">\n",
       "    document.getElementById(\"myVizzu_5489645\").parentNode.style.padding = \"0px\";\n",
       "</script>\n",
       "<script>\n",
       "    let snapshot_445cec0;\n",
       "    chart_af78cf7 = chart_af78cf7.then(chart => {\n",
       "        snapshot_445cec0 = chart.store();\n",
       "        return chart;\n",
       "    });\n",
       "</script>"
      ]
     },
     "metadata": {},
     "output_type": "display_data"
    }
   ],
   "source": [
    "chart.animate(snapshot2)\n",
    "\n",
    "chart.animate(Config({\"title\": \"Custom animation settings for specific groups\"}))\n",
    "\n",
    "chart.animate(\n",
    "    Config({\n",
    "        \"channels\": {\n",
    "            \"y\": {\n",
    "                \"detach\": \"Types\"\n",
    "            }, \n",
    "            \"x\": {\n",
    "                \"attach\": \"Types\"\n",
    "            }\n",
    "        }\n",
    "    }),\n",
    "    y={\n",
    "        \"duration\": 2,\n",
    "        \"delay\": 2\n",
    "    },\n",
    "    style={\n",
    "        \"duration\": 2,\n",
    "        \"delay\": 4\n",
    "    }\n",
    ")\n",
    "\n",
    "snapshot3 = chart.store()"
   ]
  },
  {
   "cell_type": "markdown",
   "id": "0ea85836",
   "metadata": {},
   "source": [
    "This is an example of changing the settings for the whole animation at once."
   ]
  },
  {
   "cell_type": "code",
   "execution_count": 4,
   "id": "b835da76",
   "metadata": {},
   "outputs": [
    {
     "data": {
      "text/html": [
       "<script id=\"myVizzu_f85e4c0\">\n",
       "    document.getElementById(\"myVizzu_f85e4c0\").parentNode.style.padding = \"0px\";\n",
       "</script>\n",
       "<div id=\"myVizzu_c12dd32\"/>\n",
       "<script>\n",
       "    chart_af78cf7 = chart_af78cf7.then(chart => {\n",
       "        document.getElementById(\"myVizzu_c12dd32\").appendChild(myVizzu_af78cf7);\n",
       "        return chart.animate(snapshot_445cec0)\n",
       "    });\n",
       "</script>"
      ]
     },
     "metadata": {},
     "output_type": "display_data"
    },
    {
     "data": {
      "text/html": [
       "<script id=\"myVizzu_b807ecc\">\n",
       "    document.getElementById(\"myVizzu_b807ecc\").parentNode.style.padding = \"0px\";\n",
       "</script>\n",
       "<div id=\"myVizzu_aff0412\"/>\n",
       "<script>\n",
       "    chart_af78cf7 = chart_af78cf7.then(chart => {\n",
       "        document.getElementById(\"myVizzu_aff0412\").appendChild(myVizzu_af78cf7);\n",
       "        return chart.animate({\"config\": {\"title\": \"Custom options for the whole animation\"}})\n",
       "    });\n",
       "</script>"
      ]
     },
     "metadata": {},
     "output_type": "display_data"
    },
    {
     "data": {
      "text/html": [
       "<script id=\"myVizzu_f1dabe0\">\n",
       "    document.getElementById(\"myVizzu_f1dabe0\").parentNode.style.padding = \"0px\";\n",
       "</script>\n",
       "<div id=\"myVizzu_664a889\"/>\n",
       "<script>\n",
       "    chart_af78cf7 = chart_af78cf7.then(chart => {\n",
       "        document.getElementById(\"myVizzu_664a889\").appendChild(myVizzu_af78cf7);\n",
       "        return chart.animate({\"config\": {\"channels\": {\"x\": {\"detach\": \"Types\"}, \"y\": {\"attach\": \"Types\"}}}}, {\"duration\": 1, \"easing\": \"linear\"})\n",
       "    });\n",
       "</script>"
      ]
     },
     "metadata": {},
     "output_type": "display_data"
    },
    {
     "data": {
      "text/html": [
       "<script id=\"myVizzu_6c81288\">\n",
       "    document.getElementById(\"myVizzu_6c81288\").parentNode.style.padding = \"0px\";\n",
       "</script>\n",
       "<script>\n",
       "    let snapshot_3f60535;\n",
       "    chart_af78cf7 = chart_af78cf7.then(chart => {\n",
       "        snapshot_3f60535 = chart.store();\n",
       "        return chart;\n",
       "    });\n",
       "</script>"
      ]
     },
     "metadata": {},
     "output_type": "display_data"
    }
   ],
   "source": [
    "chart.animate(snapshot3)\n",
    "\n",
    "chart.animate(Config({\"title\": \"Custom options for the whole animation\"}))\n",
    "\n",
    "chart.animate(\n",
    "    Config({\n",
    "        \"channels\": {\n",
    "            \"x\": {\n",
    "                \"detach\": \"Types\"\n",
    "            }, \n",
    "            \"y\": {\n",
    "                \"attach\": \"Types\"\n",
    "            }\n",
    "        }\n",
    "    }),\n",
    "    duration=1,\n",
    "    easing=\"linear\"\n",
    ")\n",
    "\n",
    "snapshot4 = chart.store()"
   ]
  },
  {
   "cell_type": "markdown",
   "id": "7397ac85",
   "metadata": {},
   "source": [
    "When the two settings are combined, Vizzu will use the general animation options and spread the unique settings for specific groups proportionally. This is why you can see the same animation as two steps before but happening much quicker since the duration of the whole animation is set to 1 second."
   ]
  },
  {
   "cell_type": "code",
   "execution_count": 5,
   "id": "b9fe93a3",
   "metadata": {},
   "outputs": [
    {
     "data": {
      "text/html": [
       "<script id=\"myVizzu_2661dfe\">\n",
       "    document.getElementById(\"myVizzu_2661dfe\").parentNode.style.padding = \"0px\";\n",
       "</script>\n",
       "<div id=\"myVizzu_7c9166d\"/>\n",
       "<script>\n",
       "    chart_af78cf7 = chart_af78cf7.then(chart => {\n",
       "        document.getElementById(\"myVizzu_7c9166d\").appendChild(myVizzu_af78cf7);\n",
       "        return chart.animate(snapshot_3f60535)\n",
       "    });\n",
       "</script>"
      ]
     },
     "metadata": {},
     "output_type": "display_data"
    },
    {
     "data": {
      "text/html": [
       "<script id=\"myVizzu_102af1d\">\n",
       "    document.getElementById(\"myVizzu_102af1d\").parentNode.style.padding = \"0px\";\n",
       "</script>\n",
       "<div id=\"myVizzu_eeab1a5\"/>\n",
       "<script>\n",
       "    chart_af78cf7 = chart_af78cf7.then(chart => {\n",
       "        document.getElementById(\"myVizzu_eeab1a5\").appendChild(myVizzu_af78cf7);\n",
       "        return chart.animate({\"config\": {\"title\": \"Custom settings for both\"}})\n",
       "    });\n",
       "</script>"
      ]
     },
     "metadata": {},
     "output_type": "display_data"
    },
    {
     "data": {
      "text/html": [
       "<script id=\"myVizzu_93f00a5\">\n",
       "    document.getElementById(\"myVizzu_93f00a5\").parentNode.style.padding = \"0px\";\n",
       "</script>\n",
       "<div id=\"myVizzu_53aa017\"/>\n",
       "<script>\n",
       "    chart_af78cf7 = chart_af78cf7.then(chart => {\n",
       "        document.getElementById(\"myVizzu_53aa017\").appendChild(myVizzu_af78cf7);\n",
       "        return chart.animate({\"config\": {\"channels\": {\"y\": {\"detach\": \"Types\"}, \"x\": {\"attach\": \"Types\"}}}}, {\"duration\": 1, \"easing\": \"linear\", \"y\": {\"duration\": 2, \"delay\": 2}, \"style\": {\"duration\": 2, \"delay\": 4}})\n",
       "    });\n",
       "</script>"
      ]
     },
     "metadata": {},
     "output_type": "display_data"
    }
   ],
   "source": [
    "chart.animate(snapshot4)\n",
    "\n",
    "chart.animate(Config({\"title\": \"Custom settings for both\"}))\n",
    "\n",
    "chart.animate(\n",
    "    Config({\n",
    "        \"channels\": {\n",
    "            \"y\": {\n",
    "                \"detach\": \"Types\"\n",
    "            }, \n",
    "            \"x\": {\n",
    "                \"attach\": \"Types\"\n",
    "            }\n",
    "        }\n",
    "    }),\n",
    "    duration=1,\n",
    "    easing=\"linear\",\n",
    "    y={\n",
    "        \"duration\": 2,\n",
    "        \"delay\": 2\n",
    "    },\n",
    "    style={\n",
    "        \"duration\": 2,\n",
    "        \"delay\": 4\n",
    "    }\n",
    ")"
   ]
  }
 ],
 "metadata": {
  "kernelspec": {
   "display_name": "Python 3 (ipykernel)",
   "language": "python",
   "name": "python3"
  },
  "language_info": {
   "codemirror_mode": {
    "name": "ipython",
    "version": 3
   },
   "file_extension": ".py",
   "mimetype": "text/x-python",
   "name": "python",
   "nbconvert_exporter": "python",
   "pygments_lexer": "ipython3",
   "version": "3.8.10"
  }
 },
 "nbformat": 4,
 "nbformat_minor": 5
}
