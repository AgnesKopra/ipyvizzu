{
 "cells": [
  {
   "cell_type": "markdown",
   "id": "8518ab11",
   "metadata": {},
   "source": [
    "## Animation options\n",
    "\n",
    "In Vizzu you can set the timing and duration of the animation. You can do this either for the whole animation, or for animation groups such as the elements moving along the x-axis or the y-axis, appearing or disappearing or when the coordinate system is changed.\n",
    "\n",
    "Let’s see first a simple example when a stacked column chart is grouped using the default animation options."
   ]
  },
  {
   "cell_type": "code",
   "execution_count": 1,
   "id": "b0552636",
   "metadata": {},
   "outputs": [
    {
     "data": {
      "text/html": [
       "<script id=\"myVizzu_3b7c1bd\">\n",
       "        document.getElementById(\"myVizzu_3b7c1bd\").parentNode.style.padding = \"0px\";\n",
       "        </script>\n",
       "<div id=\"myVizzu_125b015\" style=\"width:800px; height:480px;\"/>\n",
       "        <script>\n",
       "        let myVizzu_125b015 = document.getElementById(\"myVizzu_125b015\")\n",
       "        let chart_125b015 = import(\"https://cdn.jsdelivr.net/npm/vizzu@~0.4.0/dist/vizzu.min.js\").then(Vizzu => new Vizzu.default(\"myVizzu_125b015\").initializing);\n",
       "        </script>"
      ]
     },
     "metadata": {},
     "output_type": "display_data"
    },
    {
     "data": {
      "text/html": [
       "<script id=\"myVizzu_870d90d\">\n",
       "        document.getElementById(\"myVizzu_870d90d\").parentNode.style.padding = \"0px\";\n",
       "        </script>\n",
       "<div id=\"myVizzu_6391639\"/>\n",
       "        <script>\n",
       "        \n",
       "        chart_125b015 = chart_125b015.then(chart => {\n",
       "            document.getElementById(\"myVizzu_6391639\").appendChild(myVizzu_125b015);\n",
       "            return chart.animate({\"data\": {\"dimensions\": [{\"name\": \"Genres\", \"values\": [\"Pop\", \"Rock\", \"Jazz\", \"Metal\"]}, {\"name\": \"Types\", \"values\": [\"Hard\", \"Smooth\", \"Experimental\"]}], \"measures\": [{\"name\": \"Popularity\", \"values\": [[114, 96, 78, 52], [56, 36, 174, 121], [127, 83, 94, 58]]}]}})\n",
       "        });\n",
       "        </script>"
      ]
     },
     "metadata": {},
     "output_type": "display_data"
    },
    {
     "data": {
      "text/html": [
       "<script id=\"myVizzu_8836540\">\n",
       "        document.getElementById(\"myVizzu_8836540\").parentNode.style.padding = \"0px\";\n",
       "        </script>\n",
       "<div id=\"myVizzu_d943535\"/>\n",
       "        <script>\n",
       "        \n",
       "        chart_125b015 = chart_125b015.then(chart => {\n",
       "            document.getElementById(\"myVizzu_d943535\").appendChild(myVizzu_125b015);\n",
       "            return chart.animate({\"config\": {\"channels\": {\"y\": {\"set\": [\"Popularity\", \"Types\"]}, \"x\": {\"set\": \"Genres\"}}, \"label\": {\"attach\": \"Popularity\"}, \"color\": {\"set\": \"Types\"}, \"title\": \"Default options - step 1\"}})\n",
       "        });\n",
       "        </script>"
      ]
     },
     "metadata": {},
     "output_type": "display_data"
    },
    {
     "data": {
      "text/html": [
       "<script id=\"myVizzu_9eca4c3\">\n",
       "        document.getElementById(\"myVizzu_9eca4c3\").parentNode.style.padding = \"0px\";\n",
       "        </script>\n",
       "<div id=\"myVizzu_d161c33\"/>\n",
       "        <script>\n",
       "        \n",
       "        chart_125b015 = chart_125b015.then(chart => {\n",
       "            document.getElementById(\"myVizzu_d161c33\").appendChild(myVizzu_125b015);\n",
       "            return chart.animate({\"config\": {\"channels\": {\"y\": {\"detach\": \"Types\"}, \"x\": {\"attach\": \"Types\"}}}})\n",
       "        });\n",
       "        </script>"
      ]
     },
     "metadata": {},
     "output_type": "display_data"
    },
    {
     "data": {
      "text/html": [
       "<script id=\"myVizzu_fc14978\">\n",
       "        document.getElementById(\"myVizzu_fc14978\").parentNode.style.padding = \"0px\";\n",
       "        </script>\n",
       "<script>\n",
       "        let snapshot_97dbda5;\n",
       "        chart_125b015 = chart_125b015.then(chart => {\n",
       "            snapshot_97dbda5 = chart.store();\n",
       "            return chart;\n",
       "        });\n",
       "        </script>"
      ]
     },
     "metadata": {},
     "output_type": "display_data"
    }
   ],
   "source": [
    "from ipyvizzu import Chart, Data, Config\n",
    "\n",
    "chart = Chart()\n",
    "\n",
    "data = Data.from_json(\"../data/music_example_data.json\")\n",
    "\n",
    "chart.animate(data)\n",
    "\n",
    "chart.animate(Config({\n",
    "    \"channels\": {\n",
    "        \"y\": {\n",
    "            \"set\": [\"Popularity\", \"Types\"]\n",
    "        }, \n",
    "        \"x\": {\n",
    "            \"set\": \"Genres\"\n",
    "        }\n",
    "    }, \n",
    "    \"label\": {\n",
    "        \"attach\": \"Popularity\"\n",
    "    },\n",
    "    \"color\": {\n",
    "        \"set\": \"Types\"\n",
    "    },\n",
    "    \"title\": \"Default options - step 1\"\n",
    "}))\n",
    "\n",
    "chart.animate(Config({\n",
    "    \"channels\": {\n",
    "        \"y\": {\n",
    "            \"detach\": \"Types\"\n",
    "        }, \n",
    "        \"x\": {\n",
    "            \"attach\": \"Types\"\n",
    "        }\n",
    "    }\n",
    "}))\n",
    "\n",
    "snapshot1 = chart.store()"
   ]
  },
  {
   "cell_type": "markdown",
   "id": "703a28af",
   "metadata": {},
   "source": [
    "We stack the columns, still with the default options."
   ]
  },
  {
   "cell_type": "code",
   "execution_count": 2,
   "id": "ebce53a8",
   "metadata": {},
   "outputs": [
    {
     "data": {
      "text/html": [
       "<script id=\"myVizzu_57c1679\">\n",
       "        document.getElementById(\"myVizzu_57c1679\").parentNode.style.padding = \"0px\";\n",
       "        </script>\n",
       "<div id=\"myVizzu_0a0a626\"/>\n",
       "        <script>\n",
       "        \n",
       "        chart_125b015 = chart_125b015.then(chart => {\n",
       "            document.getElementById(\"myVizzu_0a0a626\").appendChild(myVizzu_125b015);\n",
       "            return chart.animate(snapshot_97dbda5)\n",
       "        });\n",
       "        </script>"
      ]
     },
     "metadata": {},
     "output_type": "display_data"
    },
    {
     "data": {
      "text/html": [
       "<script id=\"myVizzu_f58d016\">\n",
       "        document.getElementById(\"myVizzu_f58d016\").parentNode.style.padding = \"0px\";\n",
       "        </script>\n",
       "<div id=\"myVizzu_4acc638\"/>\n",
       "        <script>\n",
       "        \n",
       "        chart_125b015 = chart_125b015.then(chart => {\n",
       "            document.getElementById(\"myVizzu_4acc638\").appendChild(myVizzu_125b015);\n",
       "            return chart.animate({\"config\": {\"title\": \"Default options - step 2\"}})\n",
       "        });\n",
       "        </script>"
      ]
     },
     "metadata": {},
     "output_type": "display_data"
    },
    {
     "data": {
      "text/html": [
       "<script id=\"myVizzu_e886b8f\">\n",
       "        document.getElementById(\"myVizzu_e886b8f\").parentNode.style.padding = \"0px\";\n",
       "        </script>\n",
       "<div id=\"myVizzu_cbe2912\"/>\n",
       "        <script>\n",
       "        \n",
       "        chart_125b015 = chart_125b015.then(chart => {\n",
       "            document.getElementById(\"myVizzu_cbe2912\").appendChild(myVizzu_125b015);\n",
       "            return chart.animate({\"config\": {\"channels\": {\"x\": {\"detach\": \"Types\"}, \"y\": {\"attach\": \"Types\"}}}})\n",
       "        });\n",
       "        </script>"
      ]
     },
     "metadata": {},
     "output_type": "display_data"
    },
    {
     "data": {
      "text/html": [
       "<script id=\"myVizzu_c36adf2\">\n",
       "        document.getElementById(\"myVizzu_c36adf2\").parentNode.style.padding = \"0px\";\n",
       "        </script>\n",
       "<script>\n",
       "        let snapshot_d381209;\n",
       "        chart_125b015 = chart_125b015.then(chart => {\n",
       "            snapshot_d381209 = chart.store();\n",
       "            return chart;\n",
       "        });\n",
       "        </script>"
      ]
     },
     "metadata": {},
     "output_type": "display_data"
    }
   ],
   "source": [
    "chart.animate(snapshot1)\n",
    "\n",
    "chart.animate(Config({\"title\": \"Default options - step 2\"}))\n",
    "\n",
    "chart.animate(Config({\n",
    "    \"channels\": {\n",
    "        \"x\": {\n",
    "            \"detach\": \"Types\"\n",
    "        }, \n",
    "        \"y\": {\n",
    "            \"attach\": \"Types\"\n",
    "        }\n",
    "    }\n",
    "}))\n",
    "\n",
    "snapshot2 = chart.store()"
   ]
  },
  {
   "cell_type": "markdown",
   "id": "3c5ed3f8",
   "metadata": {},
   "source": [
    "Now we change the animation settings for the elements moving along the y-axis and also the change in styles, more specifically when the labels on the markers move from the center of the chart elements to the top of them."
   ]
  },
  {
   "cell_type": "code",
   "execution_count": 3,
   "id": "31c17b7c",
   "metadata": {},
   "outputs": [
    {
     "data": {
      "text/html": [
       "<script id=\"myVizzu_947b948\">\n",
       "        document.getElementById(\"myVizzu_947b948\").parentNode.style.padding = \"0px\";\n",
       "        </script>\n",
       "<div id=\"myVizzu_af232d4\"/>\n",
       "        <script>\n",
       "        \n",
       "        chart_125b015 = chart_125b015.then(chart => {\n",
       "            document.getElementById(\"myVizzu_af232d4\").appendChild(myVizzu_125b015);\n",
       "            return chart.animate(snapshot_d381209)\n",
       "        });\n",
       "        </script>"
      ]
     },
     "metadata": {},
     "output_type": "display_data"
    },
    {
     "data": {
      "text/html": [
       "<script id=\"myVizzu_38a84c2\">\n",
       "        document.getElementById(\"myVizzu_38a84c2\").parentNode.style.padding = \"0px\";\n",
       "        </script>\n",
       "<div id=\"myVizzu_b3a73c1\"/>\n",
       "        <script>\n",
       "        \n",
       "        chart_125b015 = chart_125b015.then(chart => {\n",
       "            document.getElementById(\"myVizzu_b3a73c1\").appendChild(myVizzu_125b015);\n",
       "            return chart.animate({\"config\": {\"title\": \"Custom animation settings for specific groups\"}})\n",
       "        });\n",
       "        </script>"
      ]
     },
     "metadata": {},
     "output_type": "display_data"
    },
    {
     "data": {
      "text/html": [
       "<script id=\"myVizzu_d206c5f\">\n",
       "        document.getElementById(\"myVizzu_d206c5f\").parentNode.style.padding = \"0px\";\n",
       "        </script>\n",
       "<div id=\"myVizzu_84019ad\"/>\n",
       "        <script>\n",
       "        \n",
       "        chart_125b015 = chart_125b015.then(chart => {\n",
       "            document.getElementById(\"myVizzu_84019ad\").appendChild(myVizzu_125b015);\n",
       "            return chart.animate({\"config\": {\"channels\": {\"y\": {\"detach\": \"Types\"}, \"x\": {\"attach\": \"Types\"}}}}, {\"y\": {\"duration\": 2, \"delay\": 2}, \"style\": {\"duration\": 2, \"delay\": 4}})\n",
       "        });\n",
       "        </script>"
      ]
     },
     "metadata": {},
     "output_type": "display_data"
    },
    {
     "data": {
      "text/html": [
       "<script id=\"myVizzu_872888b\">\n",
       "        document.getElementById(\"myVizzu_872888b\").parentNode.style.padding = \"0px\";\n",
       "        </script>\n",
       "<script>\n",
       "        let snapshot_6b4a76d;\n",
       "        chart_125b015 = chart_125b015.then(chart => {\n",
       "            snapshot_6b4a76d = chart.store();\n",
       "            return chart;\n",
       "        });\n",
       "        </script>"
      ]
     },
     "metadata": {},
     "output_type": "display_data"
    }
   ],
   "source": [
    "chart.animate(snapshot2)\n",
    "\n",
    "chart.animate(Config({\"title\": \"Custom animation settings for specific groups\"}))\n",
    "\n",
    "chart.animate(\n",
    "    Config({\n",
    "        \"channels\": {\n",
    "            \"y\": {\n",
    "                \"detach\": \"Types\"\n",
    "            }, \n",
    "            \"x\": {\n",
    "                \"attach\": \"Types\"\n",
    "            }\n",
    "        }\n",
    "    }),\n",
    "    y={\n",
    "        \"duration\": 2,\n",
    "        \"delay\": 2\n",
    "    },\n",
    "    style={\n",
    "        \"duration\": 2,\n",
    "        \"delay\": 4\n",
    "    }\n",
    ")\n",
    "\n",
    "snapshot3 = chart.store()"
   ]
  },
  {
   "cell_type": "markdown",
   "id": "0ea85836",
   "metadata": {},
   "source": [
    "This is an example of changing the settings for the whole animation at once."
   ]
  },
  {
   "cell_type": "code",
   "execution_count": 4,
   "id": "b835da76",
   "metadata": {},
   "outputs": [
    {
     "data": {
      "text/html": [
       "<script id=\"myVizzu_e3e0ab7\">\n",
       "        document.getElementById(\"myVizzu_e3e0ab7\").parentNode.style.padding = \"0px\";\n",
       "        </script>\n",
       "<div id=\"myVizzu_ad2ca1c\"/>\n",
       "        <script>\n",
       "        \n",
       "        chart_125b015 = chart_125b015.then(chart => {\n",
       "            document.getElementById(\"myVizzu_ad2ca1c\").appendChild(myVizzu_125b015);\n",
       "            return chart.animate(snapshot_6b4a76d)\n",
       "        });\n",
       "        </script>"
      ]
     },
     "metadata": {},
     "output_type": "display_data"
    },
    {
     "data": {
      "text/html": [
       "<script id=\"myVizzu_eb71d3a\">\n",
       "        document.getElementById(\"myVizzu_eb71d3a\").parentNode.style.padding = \"0px\";\n",
       "        </script>\n",
       "<div id=\"myVizzu_561f2e5\"/>\n",
       "        <script>\n",
       "        \n",
       "        chart_125b015 = chart_125b015.then(chart => {\n",
       "            document.getElementById(\"myVizzu_561f2e5\").appendChild(myVizzu_125b015);\n",
       "            return chart.animate({\"config\": {\"title\": \"Custom options for the whole animation\"}})\n",
       "        });\n",
       "        </script>"
      ]
     },
     "metadata": {},
     "output_type": "display_data"
    },
    {
     "data": {
      "text/html": [
       "<script id=\"myVizzu_1a99077\">\n",
       "        document.getElementById(\"myVizzu_1a99077\").parentNode.style.padding = \"0px\";\n",
       "        </script>\n",
       "<div id=\"myVizzu_ca98f6c\"/>\n",
       "        <script>\n",
       "        \n",
       "        chart_125b015 = chart_125b015.then(chart => {\n",
       "            document.getElementById(\"myVizzu_ca98f6c\").appendChild(myVizzu_125b015);\n",
       "            return chart.animate({\"config\": {\"channels\": {\"x\": {\"detach\": \"Types\"}, \"y\": {\"attach\": \"Types\"}}}}, {\"duration\": 1, \"easing\": \"linear\"})\n",
       "        });\n",
       "        </script>"
      ]
     },
     "metadata": {},
     "output_type": "display_data"
    },
    {
     "data": {
      "text/html": [
       "<script id=\"myVizzu_008fe70\">\n",
       "        document.getElementById(\"myVizzu_008fe70\").parentNode.style.padding = \"0px\";\n",
       "        </script>\n",
       "<script>\n",
       "        let snapshot_e55c85a;\n",
       "        chart_125b015 = chart_125b015.then(chart => {\n",
       "            snapshot_e55c85a = chart.store();\n",
       "            return chart;\n",
       "        });\n",
       "        </script>"
      ]
     },
     "metadata": {},
     "output_type": "display_data"
    }
   ],
   "source": [
    "chart.animate(snapshot3)\n",
    "\n",
    "chart.animate(Config({\"title\": \"Custom options for the whole animation\"}))\n",
    "\n",
    "chart.animate(\n",
    "    Config({\n",
    "        \"channels\": {\n",
    "            \"x\": {\n",
    "                \"detach\": \"Types\"\n",
    "            }, \n",
    "            \"y\": {\n",
    "                \"attach\": \"Types\"\n",
    "            }\n",
    "        }\n",
    "    }),\n",
    "    duration=1,\n",
    "    easing=\"linear\"\n",
    ")\n",
    "\n",
    "snapshot4 = chart.store()"
   ]
  },
  {
   "cell_type": "markdown",
   "id": "7397ac85",
   "metadata": {},
   "source": [
    "When the two settings are combined, Vizzu will use the general animation options and spread the unique settings for specific groups proportionally. This is why you can see the same animation as two steps before but happening much quicker since the duration of the whole animation is set to 1 second."
   ]
  },
  {
   "cell_type": "code",
   "execution_count": 5,
   "id": "b9fe93a3",
   "metadata": {},
   "outputs": [
    {
     "data": {
      "text/html": [
       "<script id=\"myVizzu_a0d743e\">\n",
       "        document.getElementById(\"myVizzu_a0d743e\").parentNode.style.padding = \"0px\";\n",
       "        </script>\n",
       "<div id=\"myVizzu_a9e7420\"/>\n",
       "        <script>\n",
       "        \n",
       "        chart_125b015 = chart_125b015.then(chart => {\n",
       "            document.getElementById(\"myVizzu_a9e7420\").appendChild(myVizzu_125b015);\n",
       "            return chart.animate(snapshot_e55c85a)\n",
       "        });\n",
       "        </script>"
      ]
     },
     "metadata": {},
     "output_type": "display_data"
    },
    {
     "data": {
      "text/html": [
       "<script id=\"myVizzu_ab817a9\">\n",
       "        document.getElementById(\"myVizzu_ab817a9\").parentNode.style.padding = \"0px\";\n",
       "        </script>\n",
       "<div id=\"myVizzu_870f097\"/>\n",
       "        <script>\n",
       "        \n",
       "        chart_125b015 = chart_125b015.then(chart => {\n",
       "            document.getElementById(\"myVizzu_870f097\").appendChild(myVizzu_125b015);\n",
       "            return chart.animate({\"config\": {\"title\": \"Custom settings for both\"}})\n",
       "        });\n",
       "        </script>"
      ]
     },
     "metadata": {},
     "output_type": "display_data"
    },
    {
     "data": {
      "text/html": [
       "<script id=\"myVizzu_02a515e\">\n",
       "        document.getElementById(\"myVizzu_02a515e\").parentNode.style.padding = \"0px\";\n",
       "        </script>\n",
       "<div id=\"myVizzu_746b0ef\"/>\n",
       "        <script>\n",
       "        \n",
       "        chart_125b015 = chart_125b015.then(chart => {\n",
       "            document.getElementById(\"myVizzu_746b0ef\").appendChild(myVizzu_125b015);\n",
       "            return chart.animate({\"config\": {\"channels\": {\"y\": {\"detach\": \"Types\"}, \"x\": {\"attach\": \"Types\"}}}}, {\"duration\": 1, \"easing\": \"linear\", \"y\": {\"duration\": 2, \"delay\": 2}, \"style\": {\"duration\": 2, \"delay\": 4}})\n",
       "        });\n",
       "        </script>"
      ]
     },
     "metadata": {},
     "output_type": "display_data"
    }
   ],
   "source": [
    "chart.animate(snapshot4)\n",
    "\n",
    "chart.animate(Config({\"title\": \"Custom settings for both\"}))\n",
    "\n",
    "chart.animate(\n",
    "    Config({\n",
    "        \"channels\": {\n",
    "            \"y\": {\n",
    "                \"detach\": \"Types\"\n",
    "            }, \n",
    "            \"x\": {\n",
    "                \"attach\": \"Types\"\n",
    "            }\n",
    "        }\n",
    "    }),\n",
    "    duration=1,\n",
    "    easing=\"linear\",\n",
    "    y={\n",
    "        \"duration\": 2,\n",
    "        \"delay\": 2\n",
    "    },\n",
    "    style={\n",
    "        \"duration\": 2,\n",
    "        \"delay\": 4\n",
    "    }\n",
    ")"
   ]
  }
 ],
 "metadata": {
  "kernelspec": {
   "display_name": "Python 3 (ipykernel)",
   "language": "python",
   "name": "python3"
  },
  "language_info": {
   "codemirror_mode": {
    "name": "ipython",
    "version": 3
   },
   "file_extension": ".py",
   "mimetype": "text/x-python",
   "name": "python",
   "nbconvert_exporter": "python",
   "pygments_lexer": "ipython3",
   "version": "3.8.10"
  }
 },
 "nbformat": 4,
 "nbformat_minor": 5
}
