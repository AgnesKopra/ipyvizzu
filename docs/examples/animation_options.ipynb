{
 "cells": [
  {
   "cell_type": "markdown",
   "id": "8518ab11",
   "metadata": {},
   "source": [
    "## Animation options\n",
    "\n",
    "In Vizzu you can set the timing and duration of the animation. You can do this either for the whole animation, or for animation groups such as the elements moving along the x-axis or the y-axis, appearing or disappearing or when the coordinate system is changed.\n",
    "\n",
    "Let’s see first a simple example when a stacked column chart is grouped using the default animation options."
   ]
  },
  {
   "cell_type": "code",
   "execution_count": 1,
   "id": "b0552636",
   "metadata": {},
   "outputs": [
    {
     "data": {
      "text/html": [
       "<script>\n",
       "    let myVizzu_a0dd288 = document.createElement(\"div\");\n",
       "    myVizzu_a0dd288.style.cssText = \"width: 800px; height: 480px;\";\n",
       "    let chart_a0dd288 = import(\"https://cdn.jsdelivr.net/npm/vizzu@~0.4.0/dist/vizzu.min.js\").then(Vizzu => new Vizzu.default(myVizzu_a0dd288).initializing);\n",
       "</script>"
      ]
     },
     "metadata": {},
     "output_type": "display_data"
    },
    {
     "data": {
      "text/html": [
       "<script id=\"myVizzu_b07f7e8\">\n",
       "    chart_a0dd288 = chart_a0dd288.then(chart => {\n",
       "        let script = document.getElementById(\"myVizzu_b07f7e8\");\n",
       "        if (myVizzu_a0dd288.parentNode && myVizzu_a0dd288.parentNode.parentNode) {\n",
       "            let display = myVizzu_a0dd288.parentNode.parentNode.style.display;\n",
       "            myVizzu_a0dd288.parentNode.parentNode.style.display = \"none\";\n",
       "            script.parentNode.parentNode.style.display = display;\n",
       "        }\n",
       "        script.parentNode.insertBefore(myVizzu_a0dd288, script);\n",
       "        return chart.animate({\"data\": {\"dimensions\": [{\"name\": \"Genres\", \"values\": [\"Pop\", \"Rock\", \"Jazz\", \"Metal\"]}, {\"name\": \"Types\", \"values\": [\"Hard\", \"Smooth\", \"Experimental\"]}], \"measures\": [{\"name\": \"Popularity\", \"values\": [[114, 96, 78, 52], [56, 36, 174, 121], [127, 83, 94, 58]]}]}});\n",
       "    });\n",
       "</script>"
      ]
     },
     "metadata": {},
     "output_type": "display_data"
    },
    {
     "data": {
      "text/html": [
       "<script id=\"myVizzu_f7e9c4b\">\n",
       "    chart_a0dd288 = chart_a0dd288.then(chart => {\n",
       "        let script = document.getElementById(\"myVizzu_f7e9c4b\");\n",
       "        if (myVizzu_a0dd288.parentNode && myVizzu_a0dd288.parentNode.parentNode) {\n",
       "            let display = myVizzu_a0dd288.parentNode.parentNode.style.display;\n",
       "            myVizzu_a0dd288.parentNode.parentNode.style.display = \"none\";\n",
       "            script.parentNode.parentNode.style.display = display;\n",
       "        }\n",
       "        script.parentNode.insertBefore(myVizzu_a0dd288, script);\n",
       "        return chart.animate({\"config\": {\"channels\": {\"y\": {\"set\": [\"Popularity\", \"Types\"]}, \"x\": {\"set\": \"Genres\"}}, \"label\": {\"attach\": \"Popularity\"}, \"color\": {\"set\": \"Types\"}, \"title\": \"Default options - step 1\"}});\n",
       "    });\n",
       "</script>"
      ]
     },
     "metadata": {},
     "output_type": "display_data"
    },
    {
     "data": {
      "text/html": [
       "<script id=\"myVizzu_abded59\">\n",
       "    chart_a0dd288 = chart_a0dd288.then(chart => {\n",
       "        let script = document.getElementById(\"myVizzu_abded59\");\n",
       "        if (myVizzu_a0dd288.parentNode && myVizzu_a0dd288.parentNode.parentNode) {\n",
       "            let display = myVizzu_a0dd288.parentNode.parentNode.style.display;\n",
       "            myVizzu_a0dd288.parentNode.parentNode.style.display = \"none\";\n",
       "            script.parentNode.parentNode.style.display = display;\n",
       "        }\n",
       "        script.parentNode.insertBefore(myVizzu_a0dd288, script);\n",
       "        return chart.animate({\"config\": {\"channels\": {\"y\": {\"detach\": \"Types\"}, \"x\": {\"attach\": \"Types\"}}}});\n",
       "    });\n",
       "</script>"
      ]
     },
     "metadata": {},
     "output_type": "display_data"
    },
    {
     "data": {
      "text/html": [
       "<script>\n",
       "    let snapshot_3183a50;\n",
       "    chart_a0dd288 = chart_a0dd288.then(chart => {\n",
       "        snapshot_3183a50 = chart.store();\n",
       "        return chart;\n",
       "    });\n",
       "</script>"
      ]
     },
     "metadata": {},
     "output_type": "display_data"
    }
   ],
   "source": [
    "from ipyvizzu import Chart, Data, Config\n",
    "\n",
    "chart = Chart()\n",
    "\n",
    "data = Data.from_json(\"../data/music_example_data.json\")\n",
    "\n",
    "chart.animate(data)\n",
    "\n",
    "chart.animate(Config({\n",
    "    \"channels\": {\n",
    "        \"y\": {\n",
    "            \"set\": [\"Popularity\", \"Types\"]\n",
    "        }, \n",
    "        \"x\": {\n",
    "            \"set\": \"Genres\"\n",
    "        }\n",
    "    }, \n",
    "    \"label\": {\n",
    "        \"attach\": \"Popularity\"\n",
    "    },\n",
    "    \"color\": {\n",
    "        \"set\": \"Types\"\n",
    "    },\n",
    "    \"title\": \"Default options - step 1\"\n",
    "}))\n",
    "\n",
    "chart.animate(Config({\n",
    "    \"channels\": {\n",
    "        \"y\": {\n",
    "            \"detach\": \"Types\"\n",
    "        }, \n",
    "        \"x\": {\n",
    "            \"attach\": \"Types\"\n",
    "        }\n",
    "    }\n",
    "}))\n",
    "\n",
    "snapshot1 = chart.store()"
   ]
  },
  {
   "cell_type": "markdown",
   "id": "703a28af",
   "metadata": {},
   "source": [
    "We stack the columns, still with the default options."
   ]
  },
  {
   "cell_type": "code",
   "execution_count": 2,
   "id": "ebce53a8",
   "metadata": {},
   "outputs": [
    {
     "data": {
      "text/html": [
       "<script id=\"myVizzu_b76dc01\">\n",
       "    chart_a0dd288 = chart_a0dd288.then(chart => {\n",
       "        let script = document.getElementById(\"myVizzu_b76dc01\");\n",
       "        if (myVizzu_a0dd288.parentNode && myVizzu_a0dd288.parentNode.parentNode) {\n",
       "            let display = myVizzu_a0dd288.parentNode.parentNode.style.display;\n",
       "            myVizzu_a0dd288.parentNode.parentNode.style.display = \"none\";\n",
       "            script.parentNode.parentNode.style.display = display;\n",
       "        }\n",
       "        script.parentNode.insertBefore(myVizzu_a0dd288, script);\n",
       "        return chart.animate(snapshot_3183a50);\n",
       "    });\n",
       "</script>"
      ]
     },
     "metadata": {},
     "output_type": "display_data"
    },
    {
     "data": {
      "text/html": [
       "<script id=\"myVizzu_11425d9\">\n",
       "    chart_a0dd288 = chart_a0dd288.then(chart => {\n",
       "        let script = document.getElementById(\"myVizzu_11425d9\");\n",
       "        if (myVizzu_a0dd288.parentNode && myVizzu_a0dd288.parentNode.parentNode) {\n",
       "            let display = myVizzu_a0dd288.parentNode.parentNode.style.display;\n",
       "            myVizzu_a0dd288.parentNode.parentNode.style.display = \"none\";\n",
       "            script.parentNode.parentNode.style.display = display;\n",
       "        }\n",
       "        script.parentNode.insertBefore(myVizzu_a0dd288, script);\n",
       "        return chart.animate({\"config\": {\"title\": \"Default options - step 2\"}});\n",
       "    });\n",
       "</script>"
      ]
     },
     "metadata": {},
     "output_type": "display_data"
    },
    {
     "data": {
      "text/html": [
       "<script id=\"myVizzu_c10af82\">\n",
       "    chart_a0dd288 = chart_a0dd288.then(chart => {\n",
       "        let script = document.getElementById(\"myVizzu_c10af82\");\n",
       "        if (myVizzu_a0dd288.parentNode && myVizzu_a0dd288.parentNode.parentNode) {\n",
       "            let display = myVizzu_a0dd288.parentNode.parentNode.style.display;\n",
       "            myVizzu_a0dd288.parentNode.parentNode.style.display = \"none\";\n",
       "            script.parentNode.parentNode.style.display = display;\n",
       "        }\n",
       "        script.parentNode.insertBefore(myVizzu_a0dd288, script);\n",
       "        return chart.animate({\"config\": {\"channels\": {\"x\": {\"detach\": \"Types\"}, \"y\": {\"attach\": \"Types\"}}}});\n",
       "    });\n",
       "</script>"
      ]
     },
     "metadata": {},
     "output_type": "display_data"
    },
    {
     "data": {
      "text/html": [
       "<script>\n",
       "    let snapshot_541500e;\n",
       "    chart_a0dd288 = chart_a0dd288.then(chart => {\n",
       "        snapshot_541500e = chart.store();\n",
       "        return chart;\n",
       "    });\n",
       "</script>"
      ]
     },
     "metadata": {},
     "output_type": "display_data"
    }
   ],
   "source": [
    "chart.animate(snapshot1)\n",
    "\n",
    "chart.animate(Config({\"title\": \"Default options - step 2\"}))\n",
    "\n",
    "chart.animate(Config({\n",
    "    \"channels\": {\n",
    "        \"x\": {\n",
    "            \"detach\": \"Types\"\n",
    "        }, \n",
    "        \"y\": {\n",
    "            \"attach\": \"Types\"\n",
    "        }\n",
    "    }\n",
    "}))\n",
    "\n",
    "snapshot2 = chart.store()"
   ]
  },
  {
   "cell_type": "markdown",
   "id": "3c5ed3f8",
   "metadata": {},
   "source": [
    "Now we change the animation settings for the elements moving along the y-axis and also the change in styles, more specifically when the labels on the markers move from the center of the chart elements to the top of them."
   ]
  },
  {
   "cell_type": "code",
   "execution_count": 3,
   "id": "31c17b7c",
   "metadata": {},
   "outputs": [
    {
     "data": {
      "text/html": [
       "<script id=\"myVizzu_cfae87f\">\n",
       "    chart_a0dd288 = chart_a0dd288.then(chart => {\n",
       "        let script = document.getElementById(\"myVizzu_cfae87f\");\n",
       "        if (myVizzu_a0dd288.parentNode && myVizzu_a0dd288.parentNode.parentNode) {\n",
       "            let display = myVizzu_a0dd288.parentNode.parentNode.style.display;\n",
       "            myVizzu_a0dd288.parentNode.parentNode.style.display = \"none\";\n",
       "            script.parentNode.parentNode.style.display = display;\n",
       "        }\n",
       "        script.parentNode.insertBefore(myVizzu_a0dd288, script);\n",
       "        return chart.animate(snapshot_541500e);\n",
       "    });\n",
       "</script>"
      ]
     },
     "metadata": {},
     "output_type": "display_data"
    },
    {
     "data": {
      "text/html": [
       "<script id=\"myVizzu_a73b7cd\">\n",
       "    chart_a0dd288 = chart_a0dd288.then(chart => {\n",
       "        let script = document.getElementById(\"myVizzu_a73b7cd\");\n",
       "        if (myVizzu_a0dd288.parentNode && myVizzu_a0dd288.parentNode.parentNode) {\n",
       "            let display = myVizzu_a0dd288.parentNode.parentNode.style.display;\n",
       "            myVizzu_a0dd288.parentNode.parentNode.style.display = \"none\";\n",
       "            script.parentNode.parentNode.style.display = display;\n",
       "        }\n",
       "        script.parentNode.insertBefore(myVizzu_a0dd288, script);\n",
       "        return chart.animate({\"config\": {\"title\": \"Custom animation settings for specific groups\"}});\n",
       "    });\n",
       "</script>"
      ]
     },
     "metadata": {},
     "output_type": "display_data"
    },
    {
     "data": {
      "text/html": [
       "<script id=\"myVizzu_b4dfb36\">\n",
       "    chart_a0dd288 = chart_a0dd288.then(chart => {\n",
       "        let script = document.getElementById(\"myVizzu_b4dfb36\");\n",
       "        if (myVizzu_a0dd288.parentNode && myVizzu_a0dd288.parentNode.parentNode) {\n",
       "            let display = myVizzu_a0dd288.parentNode.parentNode.style.display;\n",
       "            myVizzu_a0dd288.parentNode.parentNode.style.display = \"none\";\n",
       "            script.parentNode.parentNode.style.display = display;\n",
       "        }\n",
       "        script.parentNode.insertBefore(myVizzu_a0dd288, script);\n",
       "        return chart.animate({\"config\": {\"channels\": {\"y\": {\"detach\": \"Types\"}, \"x\": {\"attach\": \"Types\"}}}}, {\"y\": {\"duration\": 2, \"delay\": 2}, \"style\": {\"duration\": 2, \"delay\": 4}});\n",
       "    });\n",
       "</script>"
      ]
     },
     "metadata": {},
     "output_type": "display_data"
    },
    {
     "data": {
      "text/html": [
       "<script>\n",
       "    let snapshot_9894f84;\n",
       "    chart_a0dd288 = chart_a0dd288.then(chart => {\n",
       "        snapshot_9894f84 = chart.store();\n",
       "        return chart;\n",
       "    });\n",
       "</script>"
      ]
     },
     "metadata": {},
     "output_type": "display_data"
    }
   ],
   "source": [
    "chart.animate(snapshot2)\n",
    "\n",
    "chart.animate(Config({\"title\": \"Custom animation settings for specific groups\"}))\n",
    "\n",
    "chart.animate(\n",
    "    Config({\n",
    "        \"channels\": {\n",
    "            \"y\": {\n",
    "                \"detach\": \"Types\"\n",
    "            }, \n",
    "            \"x\": {\n",
    "                \"attach\": \"Types\"\n",
    "            }\n",
    "        }\n",
    "    }),\n",
    "    y={\n",
    "        \"duration\": 2,\n",
    "        \"delay\": 2\n",
    "    },\n",
    "    style={\n",
    "        \"duration\": 2,\n",
    "        \"delay\": 4\n",
    "    }\n",
    ")\n",
    "\n",
    "snapshot3 = chart.store()"
   ]
  },
  {
   "cell_type": "markdown",
   "id": "0ea85836",
   "metadata": {},
   "source": [
    "This is an example of changing the settings for the whole animation at once."
   ]
  },
  {
   "cell_type": "code",
   "execution_count": 4,
   "id": "b835da76",
   "metadata": {},
   "outputs": [
    {
     "data": {
      "text/html": [
       "<script id=\"myVizzu_47e71f8\">\n",
       "    chart_a0dd288 = chart_a0dd288.then(chart => {\n",
       "        let script = document.getElementById(\"myVizzu_47e71f8\");\n",
       "        if (myVizzu_a0dd288.parentNode && myVizzu_a0dd288.parentNode.parentNode) {\n",
       "            let display = myVizzu_a0dd288.parentNode.parentNode.style.display;\n",
       "            myVizzu_a0dd288.parentNode.parentNode.style.display = \"none\";\n",
       "            script.parentNode.parentNode.style.display = display;\n",
       "        }\n",
       "        script.parentNode.insertBefore(myVizzu_a0dd288, script);\n",
       "        return chart.animate(snapshot_9894f84);\n",
       "    });\n",
       "</script>"
      ]
     },
     "metadata": {},
     "output_type": "display_data"
    },
    {
     "data": {
      "text/html": [
       "<script id=\"myVizzu_4bf0335\">\n",
       "    chart_a0dd288 = chart_a0dd288.then(chart => {\n",
       "        let script = document.getElementById(\"myVizzu_4bf0335\");\n",
       "        if (myVizzu_a0dd288.parentNode && myVizzu_a0dd288.parentNode.parentNode) {\n",
       "            let display = myVizzu_a0dd288.parentNode.parentNode.style.display;\n",
       "            myVizzu_a0dd288.parentNode.parentNode.style.display = \"none\";\n",
       "            script.parentNode.parentNode.style.display = display;\n",
       "        }\n",
       "        script.parentNode.insertBefore(myVizzu_a0dd288, script);\n",
       "        return chart.animate({\"config\": {\"title\": \"Custom options for the whole animation\"}});\n",
       "    });\n",
       "</script>"
      ]
     },
     "metadata": {},
     "output_type": "display_data"
    },
    {
     "data": {
      "text/html": [
       "<script id=\"myVizzu_69bd34d\">\n",
       "    chart_a0dd288 = chart_a0dd288.then(chart => {\n",
       "        let script = document.getElementById(\"myVizzu_69bd34d\");\n",
       "        if (myVizzu_a0dd288.parentNode && myVizzu_a0dd288.parentNode.parentNode) {\n",
       "            let display = myVizzu_a0dd288.parentNode.parentNode.style.display;\n",
       "            myVizzu_a0dd288.parentNode.parentNode.style.display = \"none\";\n",
       "            script.parentNode.parentNode.style.display = display;\n",
       "        }\n",
       "        script.parentNode.insertBefore(myVizzu_a0dd288, script);\n",
       "        return chart.animate({\"config\": {\"channels\": {\"x\": {\"detach\": \"Types\"}, \"y\": {\"attach\": \"Types\"}}}}, {\"duration\": 1, \"easing\": \"linear\"});\n",
       "    });\n",
       "</script>"
      ]
     },
     "metadata": {},
     "output_type": "display_data"
    },
    {
     "data": {
      "text/html": [
       "<script>\n",
       "    let snapshot_91db99d;\n",
       "    chart_a0dd288 = chart_a0dd288.then(chart => {\n",
       "        snapshot_91db99d = chart.store();\n",
       "        return chart;\n",
       "    });\n",
       "</script>"
      ]
     },
     "metadata": {},
     "output_type": "display_data"
    }
   ],
   "source": [
    "chart.animate(snapshot3)\n",
    "\n",
    "chart.animate(Config({\"title\": \"Custom options for the whole animation\"}))\n",
    "\n",
    "chart.animate(\n",
    "    Config({\n",
    "        \"channels\": {\n",
    "            \"x\": {\n",
    "                \"detach\": \"Types\"\n",
    "            }, \n",
    "            \"y\": {\n",
    "                \"attach\": \"Types\"\n",
    "            }\n",
    "        }\n",
    "    }),\n",
    "    duration=1,\n",
    "    easing=\"linear\"\n",
    ")\n",
    "\n",
    "snapshot4 = chart.store()"
   ]
  },
  {
   "cell_type": "markdown",
   "id": "7397ac85",
   "metadata": {},
   "source": [
    "When the two settings are combined, Vizzu will use the general animation options and spread the unique settings for specific groups proportionally. This is why you can see the same animation as two steps before but happening much quicker since the duration of the whole animation is set to 1 second."
   ]
  },
  {
   "cell_type": "code",
   "execution_count": 5,
   "id": "b9fe93a3",
   "metadata": {},
   "outputs": [
    {
     "data": {
      "text/html": [
       "<script id=\"myVizzu_2325786\">\n",
       "    chart_a0dd288 = chart_a0dd288.then(chart => {\n",
       "        let script = document.getElementById(\"myVizzu_2325786\");\n",
       "        if (myVizzu_a0dd288.parentNode && myVizzu_a0dd288.parentNode.parentNode) {\n",
       "            let display = myVizzu_a0dd288.parentNode.parentNode.style.display;\n",
       "            myVizzu_a0dd288.parentNode.parentNode.style.display = \"none\";\n",
       "            script.parentNode.parentNode.style.display = display;\n",
       "        }\n",
       "        script.parentNode.insertBefore(myVizzu_a0dd288, script);\n",
       "        return chart.animate(snapshot_91db99d);\n",
       "    });\n",
       "</script>"
      ]
     },
     "metadata": {},
     "output_type": "display_data"
    },
    {
     "data": {
      "text/html": [
       "<script id=\"myVizzu_74fa4f8\">\n",
       "    chart_a0dd288 = chart_a0dd288.then(chart => {\n",
       "        let script = document.getElementById(\"myVizzu_74fa4f8\");\n",
       "        if (myVizzu_a0dd288.parentNode && myVizzu_a0dd288.parentNode.parentNode) {\n",
       "            let display = myVizzu_a0dd288.parentNode.parentNode.style.display;\n",
       "            myVizzu_a0dd288.parentNode.parentNode.style.display = \"none\";\n",
       "            script.parentNode.parentNode.style.display = display;\n",
       "        }\n",
       "        script.parentNode.insertBefore(myVizzu_a0dd288, script);\n",
       "        return chart.animate({\"config\": {\"title\": \"Custom settings for both\"}});\n",
       "    });\n",
       "</script>"
      ]
     },
     "metadata": {},
     "output_type": "display_data"
    },
    {
     "data": {
      "text/html": [
       "<script id=\"myVizzu_f529721\">\n",
       "    chart_a0dd288 = chart_a0dd288.then(chart => {\n",
       "        let script = document.getElementById(\"myVizzu_f529721\");\n",
       "        if (myVizzu_a0dd288.parentNode && myVizzu_a0dd288.parentNode.parentNode) {\n",
       "            let display = myVizzu_a0dd288.parentNode.parentNode.style.display;\n",
       "            myVizzu_a0dd288.parentNode.parentNode.style.display = \"none\";\n",
       "            script.parentNode.parentNode.style.display = display;\n",
       "        }\n",
       "        script.parentNode.insertBefore(myVizzu_a0dd288, script);\n",
       "        return chart.animate({\"config\": {\"channels\": {\"y\": {\"detach\": \"Types\"}, \"x\": {\"attach\": \"Types\"}}}}, {\"duration\": 1, \"easing\": \"linear\", \"y\": {\"duration\": 2, \"delay\": 2}, \"style\": {\"duration\": 2, \"delay\": 4}});\n",
       "    });\n",
       "</script>"
      ]
     },
     "metadata": {},
     "output_type": "display_data"
    }
   ],
   "source": [
    "chart.animate(snapshot4)\n",
    "\n",
    "chart.animate(Config({\"title\": \"Custom settings for both\"}))\n",
    "\n",
    "chart.animate(\n",
    "    Config({\n",
    "        \"channels\": {\n",
    "            \"y\": {\n",
    "                \"detach\": \"Types\"\n",
    "            }, \n",
    "            \"x\": {\n",
    "                \"attach\": \"Types\"\n",
    "            }\n",
    "        }\n",
    "    }),\n",
    "    duration=1,\n",
    "    easing=\"linear\",\n",
    "    y={\n",
    "        \"duration\": 2,\n",
    "        \"delay\": 2\n",
    "    },\n",
    "    style={\n",
    "        \"duration\": 2,\n",
    "        \"delay\": 4\n",
    "    }\n",
    ")"
   ]
  }
 ],
 "metadata": {
  "kernelspec": {
   "display_name": "Python 3 (ipykernel)",
   "language": "python",
   "name": "python3"
  },
  "language_info": {
   "codemirror_mode": {
    "name": "ipython",
    "version": 3
   },
   "file_extension": ".py",
   "mimetype": "text/x-python",
   "name": "python",
   "nbconvert_exporter": "python",
   "pygments_lexer": "ipython3",
   "version": "3.8.10"
  }
 },
 "nbformat": 4,
 "nbformat_minor": 5
}
