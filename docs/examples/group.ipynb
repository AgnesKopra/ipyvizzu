{
 "cells": [
  {
   "cell_type": "markdown",
   "id": "6a4ffcba",
   "metadata": {},
   "source": [
    "## Group/stack\n",
    "\n",
    "When you add dimensions to the channels, there is a simple rule to keep in mind in the current beta phase of Vizzu. The following example also shows how to group and stack elements of a bar chart.\n",
    "\n",
    "The rule: When you add a dimension (Type) to a channel (x-axis) with only dimensions on it, Vizzu will fade between the states, as shown here. Thus, you get a grouped bar chart, but the connection between the original state and this one will be unclear for the viewer because of the fading."
   ]
  },
  {
   "cell_type": "code",
   "execution_count": 11,
   "id": "15e0586a",
   "metadata": {},
   "outputs": [
    {
     "data": {
      "text/html": [
       "\n",
       "<div id=\"myVizzu_140368440702960\" style=\"width:800px; height:480px;\" />\n",
       "<script type=\"module\">\n",
       "import Vizzu from 'https://cdn.jsdelivr.net/npm/vizzu@latest/dist/vizzu.min.js';\n",
       "\n",
       "let chart = new Vizzu('myVizzu_140368440702960');\n",
       "chart.initializing.then( chart => {\n",
       "\n",
       "chart.animate({\"data\": {\"dimensions\": [{\"name\": \"Genres\", \"values\": [\"Pop\", \"Rock\", \"Jazz\", \"Metal\"]}, {\"name\": \"Types\", \"values\": [\"Hard\", \"Smooth\", \"Experimental\"]}], \"measures\": [{\"name\": \"Popularity\", \"values\": [[114, 96, 78, 52], [56, 36, 174, 121], [127, 83, 94, 58]]}]}});\n",
       "chart.animate({\"config\": {\"channels\": {\"y\": {\"set\": \"Popularity\"}, \"x\": {\"set\": \"Genres\"}}}});\n",
       "chart.animate({\"config\": {\"channels\": {\"label\": {\"attach\": [\"Popularity\"]}}}});\n",
       "chart.animate({\"config\": {\"channels\": {\"x\": {\"set\": [\"Genres\", \"Types\"]}, \"color\": {\"attach\": [\"Types\"]}}}});\n",
       "} );\n",
       "</script>"
      ]
     },
     "metadata": {},
     "output_type": "display_data"
    }
   ],
   "source": [
    "import ipyvizzu\n",
    "\n",
    "data = ipyvizzu.Data()\n",
    "\n",
    "data.add_dimension('Genres', [ 'Pop', 'Rock', 'Jazz', 'Metal'])\n",
    "data.add_dimension('Types', [ 'Hard', 'Smooth', 'Experimental' ])\n",
    "\n",
    "data.add_measure(\n",
    "    'Popularity',\n",
    "    [\n",
    "        [114, 96, 78, 52],\n",
    "        [56, 36, 174, 121],\n",
    "        [127, 83, 94, 58],\n",
    "    ]\n",
    ")\n",
    "\n",
    "chart = ipyvizzu.Chart()\n",
    "chart.set_data(data)\n",
    "chart.set_config({\"channels\": {\"y\": {\"set\": \"Popularity\"}, \"x\": {\"set\": \"Genres\"}}})\n",
    "chart.set_config({\"channels\": {\"label\": {\"attach\": [\"Popularity\"]}}})\n",
    "chart.set_config({\n",
    "    \"channels\": {\n",
    "        \"x\": {\"set\": [\"Genres\", \"Types\"]},\n",
    "        \"color\": {\"attach\": [\"Types\"]},\n",
    "    },\n",
    "})\n",
    "chart.show()"
   ]
  },
  {
   "cell_type": "markdown",
   "id": "87e38239",
   "metadata": {},
   "source": [
    "Let’s get back to the original state by removing the extra dimension - Vizzu will also simply fade between these states."
   ]
  },
  {
   "cell_type": "code",
   "execution_count": 12,
   "id": "4840001d",
   "metadata": {},
   "outputs": [
    {
     "data": {
      "text/html": [
       "\n",
       "<div id=\"myVizzu_140368440702576\" style=\"width:800px; height:480px;\" />\n",
       "<script type=\"module\">\n",
       "import Vizzu from 'https://cdn.jsdelivr.net/npm/vizzu@latest/dist/vizzu.min.js';\n",
       "\n",
       "let chart = new Vizzu('myVizzu_140368440702576');\n",
       "chart.initializing.then( chart => {\n",
       "\n",
       "chart.animate({\"data\": {\"dimensions\": [{\"name\": \"Genres\", \"values\": [\"Pop\", \"Rock\", \"Jazz\", \"Metal\"]}, {\"name\": \"Types\", \"values\": [\"Hard\", \"Smooth\", \"Experimental\"]}], \"measures\": [{\"name\": \"Popularity\", \"values\": [[114, 96, 78, 52], [56, 36, 174, 121], [127, 83, 94, 58]]}]}});\n",
       "chart.animate({\"config\": {\"channels\": {\"y\": {\"set\": \"Popularity\"}, \"x\": {\"set\": \"Genres\"}}}});\n",
       "chart.animate({\"config\": {\"channels\": {\"label\": {\"attach\": [\"Popularity\"]}}}});\n",
       "chart.animate({\"config\": {\"channels\": {\"x\": {\"set\": [\"Genres\", \"Types\"]}, \"color\": {\"attach\": [\"Types\"]}}}});\n",
       "chart.animate({\"config\": {\"channels\": {\"x\": {\"detach\": [\"Types\"]}, \"color\": {\"set\": null}}}});\n",
       "} );\n",
       "</script>"
      ]
     },
     "metadata": {},
     "output_type": "display_data"
    }
   ],
   "source": [
    "import ipyvizzu\n",
    "\n",
    "data = ipyvizzu.Data()\n",
    "\n",
    "data.add_dimension('Genres', [ 'Pop', 'Rock', 'Jazz', 'Metal'])\n",
    "data.add_dimension('Types', [ 'Hard', 'Smooth', 'Experimental' ])\n",
    "\n",
    "data.add_measure(\n",
    "    'Popularity',\n",
    "    [\n",
    "        [114, 96, 78, 52],\n",
    "        [56, 36, 174, 121],\n",
    "        [127, 83, 94, 58],\n",
    "    ]\n",
    ")\n",
    "\n",
    "chart = ipyvizzu.Chart()\n",
    "chart.set_data(data)\n",
    "chart.set_config({\"channels\": {\"y\": {\"set\": \"Popularity\"}, \"x\": {\"set\": \"Genres\"}}})\n",
    "chart.set_config({\"channels\": {\"label\": {\"attach\": [\"Popularity\"]}}})\n",
    "chart.set_config({\n",
    "    \"channels\": {\n",
    "        \"x\": {\"set\": [\"Genres\", \"Types\"]},\n",
    "        \"color\": {\"attach\": [\"Types\"]},\n",
    "    },\n",
    "})\n",
    "chart.set_config({\n",
    "    \"channels\": {\n",
    "        \"x\": {\"detach\": [\"Types\"]},\n",
    "        \"color\": {\"set\": None},\n",
    "    },\n",
    "})\n",
    "\n",
    "chart.show()"
   ]
  },
  {
   "cell_type": "markdown",
   "id": "c28f9825",
   "metadata": {},
   "source": [
    "The right way is to add the new dimension to the same channel where the measure is: the y-axis. However, since doing only this would result in multiple column chart elements with the same color stacked on top of each other, we also add the same dimension (Type) to the color channel."
   ]
  },
  {
   "cell_type": "code",
   "execution_count": 13,
   "id": "c9f206b4",
   "metadata": {},
   "outputs": [
    {
     "data": {
      "text/html": [
       "\n",
       "<div id=\"myVizzu_140368440697680\" style=\"width:800px; height:480px;\" />\n",
       "<script type=\"module\">\n",
       "import Vizzu from 'https://cdn.jsdelivr.net/npm/vizzu@latest/dist/vizzu.min.js';\n",
       "\n",
       "let chart = new Vizzu('myVizzu_140368440697680');\n",
       "chart.initializing.then( chart => {\n",
       "\n",
       "chart.animate({\"data\": {\"dimensions\": [{\"name\": \"Genres\", \"values\": [\"Pop\", \"Rock\", \"Jazz\", \"Metal\"]}, {\"name\": \"Types\", \"values\": [\"Hard\", \"Smooth\", \"Experimental\"]}], \"measures\": [{\"name\": \"Popularity\", \"values\": [[114, 96, 78, 52], [56, 36, 174, 121], [127, 83, 94, 58]]}]}});\n",
       "chart.animate({\"config\": {\"channels\": {\"y\": {\"set\": \"Popularity\"}, \"x\": {\"set\": \"Genres\"}}}});\n",
       "chart.animate({\"config\": {\"channels\": {\"label\": {\"attach\": [\"Popularity\"]}}}});\n",
       "chart.animate({\"config\": {\"channels\": {\"y\": {\"attach\": [\"Types\"]}, \"color\": {\"attach\": [\"Types\"]}}}});\n",
       "} );\n",
       "</script>"
      ]
     },
     "metadata": {},
     "output_type": "display_data"
    }
   ],
   "source": [
    "import ipyvizzu\n",
    "\n",
    "data = ipyvizzu.Data()\n",
    "\n",
    "data.add_dimension('Genres', [ 'Pop', 'Rock', 'Jazz', 'Metal'])\n",
    "data.add_dimension('Types', [ 'Hard', 'Smooth', 'Experimental' ])\n",
    "\n",
    "data.add_measure(\n",
    "    'Popularity',\n",
    "    [\n",
    "        [114, 96, 78, 52],\n",
    "        [56, 36, 174, 121],\n",
    "        [127, 83, 94, 58],\n",
    "    ]\n",
    ")\n",
    "\n",
    "chart = ipyvizzu.Chart()\n",
    "chart.set_data(data)\n",
    "chart.set_config({\"channels\": {\"y\": {\"set\": \"Popularity\"}, \"x\": {\"set\": \"Genres\"}}})\n",
    "chart.set_config({\"channels\": {\"label\": {\"attach\": [\"Popularity\"]}}})\n",
    "chart.set_config({\n",
    "    \"channels\": {\n",
    "        \"y\": {\"attach\": [\"Types\"]},\n",
    "        \"color\": {\"attach\": [\"Types\"]},\n",
    "    },\n",
    "})\n",
    "\n",
    "chart.show()"
   ]
  },
  {
   "cell_type": "markdown",
   "id": "a7b863e0",
   "metadata": {},
   "source": [
    "By detaching this newly added dimension from the y-axis and attaching it to the x-axis, you get to the same grouped bar chart as in the first step but in a way that is easy to follow for the viewer."
   ]
  },
  {
   "cell_type": "code",
   "execution_count": 14,
   "id": "d8a3b336",
   "metadata": {},
   "outputs": [
    {
     "data": {
      "text/html": [
       "\n",
       "<div id=\"myVizzu_140368440692352\" style=\"width:800px; height:480px;\" />\n",
       "<script type=\"module\">\n",
       "import Vizzu from 'https://cdn.jsdelivr.net/npm/vizzu@latest/dist/vizzu.min.js';\n",
       "\n",
       "let chart = new Vizzu('myVizzu_140368440692352');\n",
       "chart.initializing.then( chart => {\n",
       "\n",
       "chart.animate({\"data\": {\"dimensions\": [{\"name\": \"Genres\", \"values\": [\"Pop\", \"Rock\", \"Jazz\", \"Metal\"]}, {\"name\": \"Types\", \"values\": [\"Hard\", \"Smooth\", \"Experimental\"]}], \"measures\": [{\"name\": \"Popularity\", \"values\": [[114, 96, 78, 52], [56, 36, 174, 121], [127, 83, 94, 58]]}]}});\n",
       "chart.animate({\"config\": {\"channels\": {\"y\": {\"set\": \"Popularity\"}, \"x\": {\"set\": \"Genres\"}}}});\n",
       "chart.animate({\"config\": {\"channels\": {\"label\": {\"attach\": [\"Popularity\"]}}}});\n",
       "chart.animate({\"config\": {\"channels\": {\"y\": {\"attach\": [\"Types\"]}, \"color\": {\"attach\": [\"Types\"]}}}});\n",
       "chart.animate({\"config\": {\"channels\": {\"y\": {\"detach\": [\"Types\"]}, \"x\": {\"attach\": [\"Types\"]}}}});\n",
       "} );\n",
       "</script>"
      ]
     },
     "metadata": {},
     "output_type": "display_data"
    }
   ],
   "source": [
    "import ipyvizzu\n",
    "\n",
    "data = ipyvizzu.Data()\n",
    "\n",
    "data.add_dimension('Genres', [ 'Pop', 'Rock', 'Jazz', 'Metal'])\n",
    "data.add_dimension('Types', [ 'Hard', 'Smooth', 'Experimental' ])\n",
    "\n",
    "data.add_measure(\n",
    "    'Popularity',\n",
    "    [\n",
    "        [114, 96, 78, 52],\n",
    "        [56, 36, 174, 121],\n",
    "        [127, 83, 94, 58],\n",
    "    ]\n",
    ")\n",
    "\n",
    "chart = ipyvizzu.Chart()\n",
    "chart.set_data(data)\n",
    "chart.set_config({\"channels\": {\"y\": {\"set\": \"Popularity\"}, \"x\": {\"set\": \"Genres\"}}})\n",
    "chart.set_config({\"channels\": {\"label\": {\"attach\": [\"Popularity\"]}}})\n",
    "chart.set_config({\n",
    "    \"channels\": {\n",
    "        \"y\": {\"attach\": [\"Types\"]},\n",
    "        \"color\": {\"attach\": [\"Types\"]},\n",
    "    },\n",
    "})\n",
    "chart.set_config({\n",
    "    \"channels\": {\n",
    "        \"y\": {\"detach\": [\"Types\"]},\n",
    "        \"x\": {\"attach\": [\"Types\"]},\n",
    "    },\n",
    "})\n",
    "\n",
    "chart.show()"
   ]
  },
  {
   "cell_type": "markdown",
   "id": "46cb4d25",
   "metadata": {},
   "source": [
    "To stack a grouped chart, you just have to do the same thing the other way around: detach the dimension from the x-axis and attach it to the y-axis."
   ]
  },
  {
   "cell_type": "code",
   "execution_count": 15,
   "id": "075bb4c9",
   "metadata": {},
   "outputs": [
    {
     "data": {
      "text/html": [
       "\n",
       "<div id=\"myVizzu_140368440698928\" style=\"width:800px; height:480px;\" />\n",
       "<script type=\"module\">\n",
       "import Vizzu from 'https://cdn.jsdelivr.net/npm/vizzu@latest/dist/vizzu.min.js';\n",
       "\n",
       "let chart = new Vizzu('myVizzu_140368440698928');\n",
       "chart.initializing.then( chart => {\n",
       "\n",
       "chart.animate({\"data\": {\"dimensions\": [{\"name\": \"Genres\", \"values\": [\"Pop\", \"Rock\", \"Jazz\", \"Metal\"]}, {\"name\": \"Types\", \"values\": [\"Hard\", \"Smooth\", \"Experimental\"]}], \"measures\": [{\"name\": \"Popularity\", \"values\": [[114, 96, 78, 52], [56, 36, 174, 121], [127, 83, 94, 58]]}]}});\n",
       "chart.animate({\"config\": {\"channels\": {\"y\": {\"set\": \"Popularity\"}, \"x\": {\"set\": \"Genres\"}}}});\n",
       "chart.animate({\"config\": {\"channels\": {\"label\": {\"attach\": [\"Popularity\"]}}}});\n",
       "chart.animate({\"config\": {\"channels\": {\"y\": {\"attach\": [\"Types\"]}, \"color\": {\"attach\": [\"Types\"]}}}});\n",
       "chart.animate({\"config\": {\"channels\": {\"y\": {\"detach\": [\"Types\"]}, \"x\": {\"attach\": [\"Types\"]}}}});\n",
       "chart.animate({\"config\": {\"channels\": {\"y\": {\"attach\": [\"Types\"]}, \"x\": {\"detach\": [\"Types\"]}}}});\n",
       "} );\n",
       "</script>"
      ]
     },
     "metadata": {},
     "output_type": "display_data"
    }
   ],
   "source": [
    "import ipyvizzu\n",
    "\n",
    "data = ipyvizzu.Data()\n",
    "\n",
    "data.add_dimension('Genres', [ 'Pop', 'Rock', 'Jazz', 'Metal'])\n",
    "data.add_dimension('Types', [ 'Hard', 'Smooth', 'Experimental' ])\n",
    "\n",
    "data.add_measure(\n",
    "    'Popularity',\n",
    "    [\n",
    "        [114, 96, 78, 52],\n",
    "        [56, 36, 174, 121],\n",
    "        [127, 83, 94, 58],\n",
    "    ]\n",
    ")\n",
    "\n",
    "chart = ipyvizzu.Chart()\n",
    "chart.set_data(data)\n",
    "chart.set_config({\"channels\": {\"y\": {\"set\": \"Popularity\"}, \"x\": {\"set\": \"Genres\"}}})\n",
    "chart.set_config({\"channels\": {\"label\": {\"attach\": [\"Popularity\"]}}})\n",
    "chart.set_config({\n",
    "    \"channels\": {\n",
    "        \"y\": {\"attach\": [\"Types\"]},\n",
    "        \"color\": {\"attach\": [\"Types\"]},\n",
    "    },\n",
    "})\n",
    "chart.set_config({\n",
    "    \"channels\": {\n",
    "        \"y\": {\"detach\": [\"Types\"]},\n",
    "        \"x\": {\"attach\": [\"Types\"]},\n",
    "    },\n",
    "})\n",
    "\n",
    "chart.set_config({\n",
    "    \"channels\": {\n",
    "        \"y\": {\"attach\": [\"Types\"]},\n",
    "        \"x\": {\"detach\": [\"Types\"]},\n",
    "    },\n",
    "})\n",
    "\n",
    "chart.show()"
   ]
  }
 ],
 "metadata": {
  "kernelspec": {
   "display_name": "Python 3 (ipykernel)",
   "language": "python",
   "name": "python3"
  },
  "language_info": {
   "codemirror_mode": {
    "name": "ipython",
    "version": 3
   },
   "file_extension": ".py",
   "mimetype": "text/x-python",
   "name": "python",
   "nbconvert_exporter": "python",
   "pygments_lexer": "ipython3",
   "version": "3.10.1"
  }
 },
 "nbformat": 4,
 "nbformat_minor": 5
}
