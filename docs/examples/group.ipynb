{
 "cells": [
  {
   "cell_type": "markdown",
   "id": "6a4ffcba",
   "metadata": {},
   "source": [
    "## Group/stack\n",
    "\n",
    "When you add dimensions to the channels, there is a simple rule to keep in mind in the current beta phase of Vizzu. The following example also shows how to group and stack elements of a bar chart.\n",
    "\n",
    "The rule: When you add a dimension (Type) to a channel (x-axis) with only dimensions on it, Vizzu will fade between the states, as shown here. Thus, you get a grouped bar chart, but the connection between the original state and this one will be unclear for the viewer because of the fading."
   ]
  },
  {
   "cell_type": "code",
   "execution_count": 1,
   "id": "15e0586a",
   "metadata": {},
   "outputs": [
    {
     "data": {
      "text/html": [
       "<script id=\"myVizzu_26b23f3\">\n",
       "    document.getElementById(\"myVizzu_26b23f3\").parentNode.style.padding = \"0px\";\n",
       "</script>\n",
       "<div id=\"myVizzu_6f788c7\" style=\"width:800px; height:480px;\"/>\n",
       "<script>\n",
       "    let myVizzu_6f788c7 = document.getElementById(\"myVizzu_6f788c7\")\n",
       "    let chart_6f788c7 = import(\"https://cdn.jsdelivr.net/npm/vizzu@~0.4.0/dist/vizzu.min.js\").then(Vizzu => new Vizzu.default(\"myVizzu_6f788c7\").initializing);\n",
       "</script>"
      ]
     },
     "metadata": {},
     "output_type": "display_data"
    },
    {
     "data": {
      "text/html": [
       "<script id=\"myVizzu_52964c6\">\n",
       "    document.getElementById(\"myVizzu_52964c6\").parentNode.style.padding = \"0px\";\n",
       "</script>\n",
       "<div id=\"myVizzu_5b32f59\"/>\n",
       "<script>\n",
       "    chart_6f788c7 = chart_6f788c7.then(chart => {\n",
       "        document.getElementById(\"myVizzu_5b32f59\").appendChild(myVizzu_6f788c7);\n",
       "        return chart.animate({\"data\": {\"dimensions\": [{\"name\": \"Genres\", \"values\": [\"Pop\", \"Rock\", \"Jazz\", \"Metal\"]}, {\"name\": \"Types\", \"values\": [\"Hard\", \"Smooth\", \"Experimental\"]}], \"measures\": [{\"name\": \"Popularity\", \"values\": [[114, 96, 78, 52], [56, 36, 174, 121], [127, 83, 94, 58]]}]}})\n",
       "    });\n",
       "</script>"
      ]
     },
     "metadata": {},
     "output_type": "display_data"
    },
    {
     "data": {
      "text/html": [
       "<script id=\"myVizzu_7b94ff6\">\n",
       "    document.getElementById(\"myVizzu_7b94ff6\").parentNode.style.padding = \"0px\";\n",
       "</script>\n",
       "<div id=\"myVizzu_8dd1549\"/>\n",
       "<script>\n",
       "    chart_6f788c7 = chart_6f788c7.then(chart => {\n",
       "        document.getElementById(\"myVizzu_8dd1549\").appendChild(myVizzu_6f788c7);\n",
       "        return chart.animate({\"config\": {\"channels\": {\"y\": {\"set\": \"Popularity\"}, \"x\": {\"set\": \"Genres\"}}, \"title\": \"The wrong way means no animation\"}})\n",
       "    });\n",
       "</script>"
      ]
     },
     "metadata": {},
     "output_type": "display_data"
    },
    {
     "data": {
      "text/html": [
       "<script id=\"myVizzu_e1bf0e4\">\n",
       "    document.getElementById(\"myVizzu_e1bf0e4\").parentNode.style.padding = \"0px\";\n",
       "</script>\n",
       "<div id=\"myVizzu_4b7764f\"/>\n",
       "<script>\n",
       "    chart_6f788c7 = chart_6f788c7.then(chart => {\n",
       "        document.getElementById(\"myVizzu_4b7764f\").appendChild(myVizzu_6f788c7);\n",
       "        return chart.animate({\"config\": {\"channels\": {\"x\": {\"set\": [\"Genres\", \"Types\"]}, \"color\": {\"attach\": \"Types\"}}}})\n",
       "    });\n",
       "</script>"
      ]
     },
     "metadata": {},
     "output_type": "display_data"
    },
    {
     "data": {
      "text/html": [
       "<script id=\"myVizzu_9367942\">\n",
       "    document.getElementById(\"myVizzu_9367942\").parentNode.style.padding = \"0px\";\n",
       "</script>\n",
       "<script>\n",
       "    let snapshot_e91c3ff;\n",
       "    chart_6f788c7 = chart_6f788c7.then(chart => {\n",
       "        snapshot_e91c3ff = chart.store();\n",
       "        return chart;\n",
       "    });\n",
       "</script>"
      ]
     },
     "metadata": {},
     "output_type": "display_data"
    }
   ],
   "source": [
    "from ipyvizzu import Chart, Data, Config\n",
    "\n",
    "chart = Chart()\n",
    "\n",
    "data = Data.from_json(\"../data/music_example_data.json\")\n",
    "\n",
    "chart.animate(data)\n",
    "\n",
    "chart.animate(Config({\n",
    "    \"channels\": {\n",
    "        \"y\": {\n",
    "            \"set\": \"Popularity\"\n",
    "        },\n",
    "        \"x\": {\n",
    "            \"set\": \"Genres\"\n",
    "        }\n",
    "    },\n",
    "    \"title\": \"The wrong way means no animation\"\n",
    "}))\n",
    "\n",
    "chart.animate(Config({\n",
    "    \"channels\": {\n",
    "        \"x\": {\n",
    "            \"set\": [\"Genres\", \"Types\"]\n",
    "        },\n",
    "        \"color\": {\n",
    "            \"attach\": \"Types\"\n",
    "        },\n",
    "    },\n",
    "}))\n",
    "\n",
    "snapshot1 = chart.store()"
   ]
  },
  {
   "cell_type": "markdown",
   "id": "87e38239",
   "metadata": {},
   "source": [
    "Let’s get back to the original state by removing the extra dimension - Vizzu will also simply fade between these states."
   ]
  },
  {
   "cell_type": "code",
   "execution_count": 2,
   "id": "4840001d",
   "metadata": {},
   "outputs": [
    {
     "data": {
      "text/html": [
       "<script id=\"myVizzu_3139c4e\">\n",
       "    document.getElementById(\"myVizzu_3139c4e\").parentNode.style.padding = \"0px\";\n",
       "</script>\n",
       "<div id=\"myVizzu_020162c\"/>\n",
       "<script>\n",
       "    chart_6f788c7 = chart_6f788c7.then(chart => {\n",
       "        document.getElementById(\"myVizzu_020162c\").appendChild(myVizzu_6f788c7);\n",
       "        return chart.animate(snapshot_e91c3ff)\n",
       "    });\n",
       "</script>"
      ]
     },
     "metadata": {},
     "output_type": "display_data"
    },
    {
     "data": {
      "text/html": [
       "<script id=\"myVizzu_f4fa6a0\">\n",
       "    document.getElementById(\"myVizzu_f4fa6a0\").parentNode.style.padding = \"0px\";\n",
       "</script>\n",
       "<div id=\"myVizzu_33f6ff3\"/>\n",
       "<script>\n",
       "    chart_6f788c7 = chart_6f788c7.then(chart => {\n",
       "        document.getElementById(\"myVizzu_33f6ff3\").appendChild(myVizzu_6f788c7);\n",
       "        return chart.animate({\"config\": {\"title\": \"Let's get back to where we were\"}})\n",
       "    });\n",
       "</script>"
      ]
     },
     "metadata": {},
     "output_type": "display_data"
    },
    {
     "data": {
      "text/html": [
       "<script id=\"myVizzu_3cace1e\">\n",
       "    document.getElementById(\"myVizzu_3cace1e\").parentNode.style.padding = \"0px\";\n",
       "</script>\n",
       "<div id=\"myVizzu_6aa9f17\"/>\n",
       "<script>\n",
       "    chart_6f788c7 = chart_6f788c7.then(chart => {\n",
       "        document.getElementById(\"myVizzu_6aa9f17\").appendChild(myVizzu_6f788c7);\n",
       "        return chart.animate({\"config\": {\"channels\": {\"x\": {\"detach\": \"Types\"}, \"color\": {\"set\": null}}}})\n",
       "    });\n",
       "</script>"
      ]
     },
     "metadata": {},
     "output_type": "display_data"
    },
    {
     "data": {
      "text/html": [
       "<script id=\"myVizzu_71721fd\">\n",
       "    document.getElementById(\"myVizzu_71721fd\").parentNode.style.padding = \"0px\";\n",
       "</script>\n",
       "<script>\n",
       "    let snapshot_38dbf30;\n",
       "    chart_6f788c7 = chart_6f788c7.then(chart => {\n",
       "        snapshot_38dbf30 = chart.store();\n",
       "        return chart;\n",
       "    });\n",
       "</script>"
      ]
     },
     "metadata": {},
     "output_type": "display_data"
    }
   ],
   "source": [
    "chart.animate(snapshot1)\n",
    "\n",
    "chart.animate(Config({\"title\": \"Let's get back to where we were\"}))\n",
    "\n",
    "chart.animate(Config({\n",
    "    \"channels\": {\n",
    "        \"x\": {\n",
    "            \"detach\": \"Types\"\n",
    "        },\n",
    "        \"color\": {\n",
    "            \"set\": None\n",
    "        },\n",
    "    }\n",
    "}))\n",
    "\n",
    "snapshot2 = chart.store()"
   ]
  },
  {
   "cell_type": "markdown",
   "id": "c28f9825",
   "metadata": {},
   "source": [
    "The right way is to add the new dimension to the same channel where the measure is: the y-axis. However, since doing only this would result in multiple column chart elements with the same color stacked on top of each other, we also add the same dimension (Type) to the color channel."
   ]
  },
  {
   "cell_type": "code",
   "execution_count": 3,
   "id": "c9f206b4",
   "metadata": {},
   "outputs": [
    {
     "data": {
      "text/html": [
       "<script id=\"myVizzu_ade2efa\">\n",
       "    document.getElementById(\"myVizzu_ade2efa\").parentNode.style.padding = \"0px\";\n",
       "</script>\n",
       "<div id=\"myVizzu_4b5a46b\"/>\n",
       "<script>\n",
       "    chart_6f788c7 = chart_6f788c7.then(chart => {\n",
       "        document.getElementById(\"myVizzu_4b5a46b\").appendChild(myVizzu_6f788c7);\n",
       "        return chart.animate(snapshot_38dbf30)\n",
       "    });\n",
       "</script>"
      ]
     },
     "metadata": {},
     "output_type": "display_data"
    },
    {
     "data": {
      "text/html": [
       "<script id=\"myVizzu_f94c769\">\n",
       "    document.getElementById(\"myVizzu_f94c769\").parentNode.style.padding = \"0px\";\n",
       "</script>\n",
       "<div id=\"myVizzu_9dabd29\"/>\n",
       "<script>\n",
       "    chart_6f788c7 = chart_6f788c7.then(chart => {\n",
       "        document.getElementById(\"myVizzu_9dabd29\").appendChild(myVizzu_6f788c7);\n",
       "        return chart.animate({\"config\": {\"title\": \"The right way: add to the same channel where the measure is\"}})\n",
       "    });\n",
       "</script>"
      ]
     },
     "metadata": {},
     "output_type": "display_data"
    },
    {
     "data": {
      "text/html": [
       "<script id=\"myVizzu_3c5921c\">\n",
       "    document.getElementById(\"myVizzu_3c5921c\").parentNode.style.padding = \"0px\";\n",
       "</script>\n",
       "<div id=\"myVizzu_cca51c9\"/>\n",
       "<script>\n",
       "    chart_6f788c7 = chart_6f788c7.then(chart => {\n",
       "        document.getElementById(\"myVizzu_cca51c9\").appendChild(myVizzu_6f788c7);\n",
       "        return chart.animate({\"config\": {\"channels\": {\"y\": {\"attach\": \"Types\"}, \"color\": {\"attach\": \"Types\"}}}})\n",
       "    });\n",
       "</script>"
      ]
     },
     "metadata": {},
     "output_type": "display_data"
    },
    {
     "data": {
      "text/html": [
       "<script id=\"myVizzu_70a23ac\">\n",
       "    document.getElementById(\"myVizzu_70a23ac\").parentNode.style.padding = \"0px\";\n",
       "</script>\n",
       "<script>\n",
       "    let snapshot_acddef1;\n",
       "    chart_6f788c7 = chart_6f788c7.then(chart => {\n",
       "        snapshot_acddef1 = chart.store();\n",
       "        return chart;\n",
       "    });\n",
       "</script>"
      ]
     },
     "metadata": {},
     "output_type": "display_data"
    }
   ],
   "source": [
    "chart.animate(snapshot2)\n",
    "\n",
    "chart.animate(Config({\"title\": \"The right way: add to the same channel where the measure is\"}))\n",
    "\n",
    "chart.animate(Config({\n",
    "    \"channels\": {\n",
    "        \"y\": {\n",
    "            \"attach\": \"Types\"\n",
    "        },\n",
    "        \"color\": {\n",
    "            \"attach\": \"Types\"\n",
    "        },\n",
    "    }\n",
    "}))\n",
    "\n",
    "snapshot3 = chart.store()"
   ]
  },
  {
   "cell_type": "markdown",
   "id": "a7b863e0",
   "metadata": {},
   "source": [
    "By detaching this newly added dimension from the y-axis and attaching it to the x-axis, you get to the same grouped bar chart as in the first step but in a way that is easy to follow for the viewer."
   ]
  },
  {
   "cell_type": "code",
   "execution_count": 4,
   "id": "d8a3b336",
   "metadata": {},
   "outputs": [
    {
     "data": {
      "text/html": [
       "<script id=\"myVizzu_9e2093b\">\n",
       "    document.getElementById(\"myVizzu_9e2093b\").parentNode.style.padding = \"0px\";\n",
       "</script>\n",
       "<div id=\"myVizzu_8bd2399\"/>\n",
       "<script>\n",
       "    chart_6f788c7 = chart_6f788c7.then(chart => {\n",
       "        document.getElementById(\"myVizzu_8bd2399\").appendChild(myVizzu_6f788c7);\n",
       "        return chart.animate(snapshot_acddef1)\n",
       "    });\n",
       "</script>"
      ]
     },
     "metadata": {},
     "output_type": "display_data"
    },
    {
     "data": {
      "text/html": [
       "<script id=\"myVizzu_73498d3\">\n",
       "    document.getElementById(\"myVizzu_73498d3\").parentNode.style.padding = \"0px\";\n",
       "</script>\n",
       "<div id=\"myVizzu_77c61c0\"/>\n",
       "<script>\n",
       "    chart_6f788c7 = chart_6f788c7.then(chart => {\n",
       "        document.getElementById(\"myVizzu_77c61c0\").appendChild(myVizzu_6f788c7);\n",
       "        return chart.animate({\"config\": {\"title\": \"...then you can add it to another channel = group elements...\"}})\n",
       "    });\n",
       "</script>"
      ]
     },
     "metadata": {},
     "output_type": "display_data"
    },
    {
     "data": {
      "text/html": [
       "<script id=\"myVizzu_a26f370\">\n",
       "    document.getElementById(\"myVizzu_a26f370\").parentNode.style.padding = \"0px\";\n",
       "</script>\n",
       "<div id=\"myVizzu_9d6ed41\"/>\n",
       "<script>\n",
       "    chart_6f788c7 = chart_6f788c7.then(chart => {\n",
       "        document.getElementById(\"myVizzu_9d6ed41\").appendChild(myVizzu_6f788c7);\n",
       "        return chart.animate({\"config\": {\"channels\": {\"y\": {\"detach\": \"Types\"}, \"x\": {\"attach\": \"Types\"}}}})\n",
       "    });\n",
       "</script>"
      ]
     },
     "metadata": {},
     "output_type": "display_data"
    },
    {
     "data": {
      "text/html": [
       "<script id=\"myVizzu_8ee4e1b\">\n",
       "    document.getElementById(\"myVizzu_8ee4e1b\").parentNode.style.padding = \"0px\";\n",
       "</script>\n",
       "<script>\n",
       "    let snapshot_71de1ea;\n",
       "    chart_6f788c7 = chart_6f788c7.then(chart => {\n",
       "        snapshot_71de1ea = chart.store();\n",
       "        return chart;\n",
       "    });\n",
       "</script>"
      ]
     },
     "metadata": {},
     "output_type": "display_data"
    }
   ],
   "source": [
    "chart.animate(snapshot3)\n",
    "\n",
    "chart.animate(Config({\"title\": \"...then you can add it to another channel = group elements...\"}))\n",
    "\n",
    "chart.animate(Config({\n",
    "    \"channels\": {\n",
    "        \"y\": {\n",
    "            \"detach\": \"Types\"\n",
    "        },\n",
    "        \"x\": {\n",
    "            \"attach\": \"Types\"\n",
    "        },\n",
    "    }\n",
    "}))\n",
    "\n",
    "snapshot4 = chart.store()"
   ]
  },
  {
   "cell_type": "markdown",
   "id": "46cb4d25",
   "metadata": {},
   "source": [
    "To stack a grouped chart, you just have to do the same thing the other way around: detach the dimension from the x-axis and attach it to the y-axis."
   ]
  },
  {
   "cell_type": "code",
   "execution_count": 5,
   "id": "075bb4c9",
   "metadata": {},
   "outputs": [
    {
     "data": {
      "text/html": [
       "<script id=\"myVizzu_30fec05\">\n",
       "    document.getElementById(\"myVizzu_30fec05\").parentNode.style.padding = \"0px\";\n",
       "</script>\n",
       "<div id=\"myVizzu_07b9b70\"/>\n",
       "<script>\n",
       "    chart_6f788c7 = chart_6f788c7.then(chart => {\n",
       "        document.getElementById(\"myVizzu_07b9b70\").appendChild(myVizzu_6f788c7);\n",
       "        return chart.animate(snapshot_71de1ea)\n",
       "    });\n",
       "</script>"
      ]
     },
     "metadata": {},
     "output_type": "display_data"
    },
    {
     "data": {
      "text/html": [
       "<script id=\"myVizzu_d51685c\">\n",
       "    document.getElementById(\"myVizzu_d51685c\").parentNode.style.padding = \"0px\";\n",
       "</script>\n",
       "<div id=\"myVizzu_60a1368\"/>\n",
       "<script>\n",
       "    chart_6f788c7 = chart_6f788c7.then(chart => {\n",
       "        document.getElementById(\"myVizzu_60a1368\").appendChild(myVizzu_6f788c7);\n",
       "        return chart.animate({\"config\": {\"title\": \"...doing it the other way is how you stack your chart\"}})\n",
       "    });\n",
       "</script>"
      ]
     },
     "metadata": {},
     "output_type": "display_data"
    },
    {
     "data": {
      "text/html": [
       "<script id=\"myVizzu_050dc85\">\n",
       "    document.getElementById(\"myVizzu_050dc85\").parentNode.style.padding = \"0px\";\n",
       "</script>\n",
       "<div id=\"myVizzu_78dd000\"/>\n",
       "<script>\n",
       "    chart_6f788c7 = chart_6f788c7.then(chart => {\n",
       "        document.getElementById(\"myVizzu_78dd000\").appendChild(myVizzu_6f788c7);\n",
       "        return chart.animate({\"config\": {\"channels\": {\"y\": {\"attach\": \"Types\"}, \"x\": {\"detach\": \"Types\"}}}})\n",
       "    });\n",
       "</script>"
      ]
     },
     "metadata": {},
     "output_type": "display_data"
    }
   ],
   "source": [
    "chart.animate(snapshot4)\n",
    "\n",
    "chart.animate(Config({\"title\": \"...doing it the other way is how you stack your chart\"}))\n",
    "\n",
    "chart.animate(Config({\n",
    "    \"channels\": {\n",
    "        \"y\": {\n",
    "            \"attach\": \"Types\"\n",
    "        },\n",
    "        \"x\": {\n",
    "            \"detach\": \"Types\"\n",
    "        },\n",
    "    }\n",
    "}))"
   ]
  }
 ],
 "metadata": {
  "kernelspec": {
   "display_name": "Python 3 (ipykernel)",
   "language": "python",
   "name": "python3"
  },
  "language_info": {
   "codemirror_mode": {
    "name": "ipython",
    "version": 3
   },
   "file_extension": ".py",
   "mimetype": "text/x-python",
   "name": "python",
   "nbconvert_exporter": "python",
   "pygments_lexer": "ipython3",
   "version": "3.8.10"
  }
 },
 "nbformat": 4,
 "nbformat_minor": 5
}
