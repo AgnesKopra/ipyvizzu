{
 "cells": [
  {
   "cell_type": "markdown",
   "id": "6a4ffcba",
   "metadata": {},
   "source": [
    "## Group/stack\n",
    "\n",
    "When you add dimensions to the channels, there is a simple rule to keep in mind in the current beta phase of Vizzu. The following example also shows how to group and stack elements of a bar chart.\n",
    "\n",
    "The rule: When you add a dimension (Type) to a channel (x-axis) with only dimensions on it, Vizzu will fade between the states, as shown here. Thus, you get a grouped bar chart, but the connection between the original state and this one will be unclear for the viewer because of the fading."
   ]
  },
  {
   "cell_type": "code",
   "execution_count": 1,
   "id": "15e0586a",
   "metadata": {},
   "outputs": [
    {
     "data": {
      "text/html": [
       "<script id=\"myVizzu_31d17d6\">\n",
       "        document.getElementById(\"myVizzu_31d17d6\").parentNode.style.padding = \"0px\";\n",
       "        </script>\n",
       "<div id=\"myVizzu_c8fbbf9\" style=\"width:800px; height:480px;\"/>\n",
       "        <script>\n",
       "        let myVizzu_c8fbbf9 = document.getElementById(\"myVizzu_c8fbbf9\")\n",
       "        let chart_c8fbbf9 = import(\"https://cdn.jsdelivr.net/npm/vizzu@~0.4.0/dist/vizzu.min.js\").then(Vizzu => new Vizzu.default(\"myVizzu_c8fbbf9\").initializing);\n",
       "        </script>"
      ]
     },
     "metadata": {},
     "output_type": "display_data"
    },
    {
     "data": {
      "text/html": [
       "<script id=\"myVizzu_64027e4\">\n",
       "        document.getElementById(\"myVizzu_64027e4\").parentNode.style.padding = \"0px\";\n",
       "        </script>\n",
       "<div id=\"myVizzu_fb75c49\"/>\n",
       "        <script>\n",
       "        \n",
       "        chart_c8fbbf9 = chart_c8fbbf9.then(chart => {\n",
       "            document.getElementById(\"myVizzu_fb75c49\").appendChild(myVizzu_c8fbbf9);\n",
       "            return chart.animate({\"data\": {\"dimensions\": [{\"name\": \"Genres\", \"values\": [\"Pop\", \"Rock\", \"Jazz\", \"Metal\"]}, {\"name\": \"Types\", \"values\": [\"Hard\", \"Smooth\", \"Experimental\"]}], \"measures\": [{\"name\": \"Popularity\", \"values\": [[114, 96, 78, 52], [56, 36, 174, 121], [127, 83, 94, 58]]}]}})\n",
       "        });\n",
       "        </script>"
      ]
     },
     "metadata": {},
     "output_type": "display_data"
    },
    {
     "data": {
      "text/html": [
       "<script id=\"myVizzu_a822a73\">\n",
       "        document.getElementById(\"myVizzu_a822a73\").parentNode.style.padding = \"0px\";\n",
       "        </script>\n",
       "<div id=\"myVizzu_1527d09\"/>\n",
       "        <script>\n",
       "        \n",
       "        chart_c8fbbf9 = chart_c8fbbf9.then(chart => {\n",
       "            document.getElementById(\"myVizzu_1527d09\").appendChild(myVizzu_c8fbbf9);\n",
       "            return chart.animate({\"config\": {\"channels\": {\"y\": {\"set\": \"Popularity\"}, \"x\": {\"set\": \"Genres\"}}, \"title\": \"The wrong way means no animation\"}})\n",
       "        });\n",
       "        </script>"
      ]
     },
     "metadata": {},
     "output_type": "display_data"
    },
    {
     "data": {
      "text/html": [
       "<script id=\"myVizzu_aa7e724\">\n",
       "        document.getElementById(\"myVizzu_aa7e724\").parentNode.style.padding = \"0px\";\n",
       "        </script>\n",
       "<div id=\"myVizzu_26e9661\"/>\n",
       "        <script>\n",
       "        \n",
       "        chart_c8fbbf9 = chart_c8fbbf9.then(chart => {\n",
       "            document.getElementById(\"myVizzu_26e9661\").appendChild(myVizzu_c8fbbf9);\n",
       "            return chart.animate({\"config\": {\"channels\": {\"x\": {\"set\": [\"Genres\", \"Types\"]}, \"color\": {\"attach\": \"Types\"}}}})\n",
       "        });\n",
       "        </script>"
      ]
     },
     "metadata": {},
     "output_type": "display_data"
    },
    {
     "data": {
      "text/html": [
       "<script id=\"myVizzu_9429240\">\n",
       "        document.getElementById(\"myVizzu_9429240\").parentNode.style.padding = \"0px\";\n",
       "        </script>\n",
       "<script>\n",
       "        let snapshot_6fe7bdf;\n",
       "        chart_c8fbbf9 = chart_c8fbbf9.then(chart => {\n",
       "            snapshot_6fe7bdf = chart.store();\n",
       "            return chart;\n",
       "        });\n",
       "        </script>"
      ]
     },
     "metadata": {},
     "output_type": "display_data"
    }
   ],
   "source": [
    "from ipyvizzu import Chart, Data, Config\n",
    "\n",
    "chart = Chart()\n",
    "\n",
    "data = Data.from_json(\"../data/music_example_data.json\")\n",
    "\n",
    "chart.animate(data)\n",
    "\n",
    "chart.animate(Config({\n",
    "    \"channels\": {\n",
    "        \"y\": {\n",
    "            \"set\": \"Popularity\"\n",
    "        },\n",
    "        \"x\": {\n",
    "            \"set\": \"Genres\"\n",
    "        }\n",
    "    },\n",
    "    \"title\": \"The wrong way means no animation\"\n",
    "}))\n",
    "\n",
    "chart.animate(Config({\n",
    "    \"channels\": {\n",
    "        \"x\": {\n",
    "            \"set\": [\"Genres\", \"Types\"]\n",
    "        },\n",
    "        \"color\": {\n",
    "            \"attach\": \"Types\"\n",
    "        },\n",
    "    },\n",
    "}))\n",
    "\n",
    "snapshot1 = chart.store()"
   ]
  },
  {
   "cell_type": "markdown",
   "id": "87e38239",
   "metadata": {},
   "source": [
    "Let’s get back to the original state by removing the extra dimension - Vizzu will also simply fade between these states."
   ]
  },
  {
   "cell_type": "code",
   "execution_count": 2,
   "id": "4840001d",
   "metadata": {},
   "outputs": [
    {
     "data": {
      "text/html": [
       "<script id=\"myVizzu_179b345\">\n",
       "        document.getElementById(\"myVizzu_179b345\").parentNode.style.padding = \"0px\";\n",
       "        </script>\n",
       "<div id=\"myVizzu_4880ccd\"/>\n",
       "        <script>\n",
       "        \n",
       "        chart_c8fbbf9 = chart_c8fbbf9.then(chart => {\n",
       "            document.getElementById(\"myVizzu_4880ccd\").appendChild(myVizzu_c8fbbf9);\n",
       "            return chart.animate(snapshot_6fe7bdf)\n",
       "        });\n",
       "        </script>"
      ]
     },
     "metadata": {},
     "output_type": "display_data"
    },
    {
     "data": {
      "text/html": [
       "<script id=\"myVizzu_1458def\">\n",
       "        document.getElementById(\"myVizzu_1458def\").parentNode.style.padding = \"0px\";\n",
       "        </script>\n",
       "<div id=\"myVizzu_e837545\"/>\n",
       "        <script>\n",
       "        \n",
       "        chart_c8fbbf9 = chart_c8fbbf9.then(chart => {\n",
       "            document.getElementById(\"myVizzu_e837545\").appendChild(myVizzu_c8fbbf9);\n",
       "            return chart.animate({\"config\": {\"title\": \"Let's get back to where we were\"}})\n",
       "        });\n",
       "        </script>"
      ]
     },
     "metadata": {},
     "output_type": "display_data"
    },
    {
     "data": {
      "text/html": [
       "<script id=\"myVizzu_a580ef3\">\n",
       "        document.getElementById(\"myVizzu_a580ef3\").parentNode.style.padding = \"0px\";\n",
       "        </script>\n",
       "<div id=\"myVizzu_12ff497\"/>\n",
       "        <script>\n",
       "        \n",
       "        chart_c8fbbf9 = chart_c8fbbf9.then(chart => {\n",
       "            document.getElementById(\"myVizzu_12ff497\").appendChild(myVizzu_c8fbbf9);\n",
       "            return chart.animate({\"config\": {\"channels\": {\"x\": {\"detach\": \"Types\"}, \"color\": {\"set\": null}}}})\n",
       "        });\n",
       "        </script>"
      ]
     },
     "metadata": {},
     "output_type": "display_data"
    },
    {
     "data": {
      "text/html": [
       "<script id=\"myVizzu_cb913fa\">\n",
       "        document.getElementById(\"myVizzu_cb913fa\").parentNode.style.padding = \"0px\";\n",
       "        </script>\n",
       "<script>\n",
       "        let snapshot_4523783;\n",
       "        chart_c8fbbf9 = chart_c8fbbf9.then(chart => {\n",
       "            snapshot_4523783 = chart.store();\n",
       "            return chart;\n",
       "        });\n",
       "        </script>"
      ]
     },
     "metadata": {},
     "output_type": "display_data"
    }
   ],
   "source": [
    "chart.animate(snapshot1)\n",
    "\n",
    "chart.animate(Config({\"title\": \"Let's get back to where we were\"}))\n",
    "\n",
    "chart.animate(Config({\n",
    "    \"channels\": {\n",
    "        \"x\": {\n",
    "            \"detach\": \"Types\"\n",
    "        },\n",
    "        \"color\": {\n",
    "            \"set\": None\n",
    "        },\n",
    "    }\n",
    "}))\n",
    "\n",
    "snapshot2 = chart.store()"
   ]
  },
  {
   "cell_type": "markdown",
   "id": "c28f9825",
   "metadata": {},
   "source": [
    "The right way is to add the new dimension to the same channel where the measure is: the y-axis. However, since doing only this would result in multiple column chart elements with the same color stacked on top of each other, we also add the same dimension (Type) to the color channel."
   ]
  },
  {
   "cell_type": "code",
   "execution_count": 3,
   "id": "c9f206b4",
   "metadata": {},
   "outputs": [
    {
     "data": {
      "text/html": [
       "<script id=\"myVizzu_e2ad233\">\n",
       "        document.getElementById(\"myVizzu_e2ad233\").parentNode.style.padding = \"0px\";\n",
       "        </script>\n",
       "<div id=\"myVizzu_f882521\"/>\n",
       "        <script>\n",
       "        \n",
       "        chart_c8fbbf9 = chart_c8fbbf9.then(chart => {\n",
       "            document.getElementById(\"myVizzu_f882521\").appendChild(myVizzu_c8fbbf9);\n",
       "            return chart.animate(snapshot_4523783)\n",
       "        });\n",
       "        </script>"
      ]
     },
     "metadata": {},
     "output_type": "display_data"
    },
    {
     "data": {
      "text/html": [
       "<script id=\"myVizzu_885bd16\">\n",
       "        document.getElementById(\"myVizzu_885bd16\").parentNode.style.padding = \"0px\";\n",
       "        </script>\n",
       "<div id=\"myVizzu_7d99544\"/>\n",
       "        <script>\n",
       "        \n",
       "        chart_c8fbbf9 = chart_c8fbbf9.then(chart => {\n",
       "            document.getElementById(\"myVizzu_7d99544\").appendChild(myVizzu_c8fbbf9);\n",
       "            return chart.animate({\"config\": {\"title\": \"The right way: add to the same channel where the measure is\"}})\n",
       "        });\n",
       "        </script>"
      ]
     },
     "metadata": {},
     "output_type": "display_data"
    },
    {
     "data": {
      "text/html": [
       "<script id=\"myVizzu_66ad2d7\">\n",
       "        document.getElementById(\"myVizzu_66ad2d7\").parentNode.style.padding = \"0px\";\n",
       "        </script>\n",
       "<div id=\"myVizzu_5d1a9e1\"/>\n",
       "        <script>\n",
       "        \n",
       "        chart_c8fbbf9 = chart_c8fbbf9.then(chart => {\n",
       "            document.getElementById(\"myVizzu_5d1a9e1\").appendChild(myVizzu_c8fbbf9);\n",
       "            return chart.animate({\"config\": {\"channels\": {\"y\": {\"attach\": \"Types\"}, \"color\": {\"attach\": \"Types\"}}}})\n",
       "        });\n",
       "        </script>"
      ]
     },
     "metadata": {},
     "output_type": "display_data"
    },
    {
     "data": {
      "text/html": [
       "<script id=\"myVizzu_cc07c37\">\n",
       "        document.getElementById(\"myVizzu_cc07c37\").parentNode.style.padding = \"0px\";\n",
       "        </script>\n",
       "<script>\n",
       "        let snapshot_5715162;\n",
       "        chart_c8fbbf9 = chart_c8fbbf9.then(chart => {\n",
       "            snapshot_5715162 = chart.store();\n",
       "            return chart;\n",
       "        });\n",
       "        </script>"
      ]
     },
     "metadata": {},
     "output_type": "display_data"
    }
   ],
   "source": [
    "chart.animate(snapshot2)\n",
    "\n",
    "chart.animate(Config({\"title\": \"The right way: add to the same channel where the measure is\"}))\n",
    "\n",
    "chart.animate(Config({\n",
    "    \"channels\": {\n",
    "        \"y\": {\n",
    "            \"attach\": \"Types\"\n",
    "        },\n",
    "        \"color\": {\n",
    "            \"attach\": \"Types\"\n",
    "        },\n",
    "    }\n",
    "}))\n",
    "\n",
    "snapshot3 = chart.store()"
   ]
  },
  {
   "cell_type": "markdown",
   "id": "a7b863e0",
   "metadata": {},
   "source": [
    "By detaching this newly added dimension from the y-axis and attaching it to the x-axis, you get to the same grouped bar chart as in the first step but in a way that is easy to follow for the viewer."
   ]
  },
  {
   "cell_type": "code",
   "execution_count": 4,
   "id": "d8a3b336",
   "metadata": {},
   "outputs": [
    {
     "data": {
      "text/html": [
       "<script id=\"myVizzu_af8ecaf\">\n",
       "        document.getElementById(\"myVizzu_af8ecaf\").parentNode.style.padding = \"0px\";\n",
       "        </script>\n",
       "<div id=\"myVizzu_eeabbf8\"/>\n",
       "        <script>\n",
       "        \n",
       "        chart_c8fbbf9 = chart_c8fbbf9.then(chart => {\n",
       "            document.getElementById(\"myVizzu_eeabbf8\").appendChild(myVizzu_c8fbbf9);\n",
       "            return chart.animate(snapshot_5715162)\n",
       "        });\n",
       "        </script>"
      ]
     },
     "metadata": {},
     "output_type": "display_data"
    },
    {
     "data": {
      "text/html": [
       "<script id=\"myVizzu_ece74fa\">\n",
       "        document.getElementById(\"myVizzu_ece74fa\").parentNode.style.padding = \"0px\";\n",
       "        </script>\n",
       "<div id=\"myVizzu_bed9e02\"/>\n",
       "        <script>\n",
       "        \n",
       "        chart_c8fbbf9 = chart_c8fbbf9.then(chart => {\n",
       "            document.getElementById(\"myVizzu_bed9e02\").appendChild(myVizzu_c8fbbf9);\n",
       "            return chart.animate({\"config\": {\"title\": \"...then you can add it to another channel = group elements...\"}})\n",
       "        });\n",
       "        </script>"
      ]
     },
     "metadata": {},
     "output_type": "display_data"
    },
    {
     "data": {
      "text/html": [
       "<script id=\"myVizzu_4468471\">\n",
       "        document.getElementById(\"myVizzu_4468471\").parentNode.style.padding = \"0px\";\n",
       "        </script>\n",
       "<div id=\"myVizzu_5182cd5\"/>\n",
       "        <script>\n",
       "        \n",
       "        chart_c8fbbf9 = chart_c8fbbf9.then(chart => {\n",
       "            document.getElementById(\"myVizzu_5182cd5\").appendChild(myVizzu_c8fbbf9);\n",
       "            return chart.animate({\"config\": {\"channels\": {\"y\": {\"detach\": \"Types\"}, \"x\": {\"attach\": \"Types\"}}}})\n",
       "        });\n",
       "        </script>"
      ]
     },
     "metadata": {},
     "output_type": "display_data"
    },
    {
     "data": {
      "text/html": [
       "<script id=\"myVizzu_63d9730\">\n",
       "        document.getElementById(\"myVizzu_63d9730\").parentNode.style.padding = \"0px\";\n",
       "        </script>\n",
       "<script>\n",
       "        let snapshot_8e3ee59;\n",
       "        chart_c8fbbf9 = chart_c8fbbf9.then(chart => {\n",
       "            snapshot_8e3ee59 = chart.store();\n",
       "            return chart;\n",
       "        });\n",
       "        </script>"
      ]
     },
     "metadata": {},
     "output_type": "display_data"
    }
   ],
   "source": [
    "chart.animate(snapshot3)\n",
    "\n",
    "chart.animate(Config({\"title\": \"...then you can add it to another channel = group elements...\"}))\n",
    "\n",
    "chart.animate(Config({\n",
    "    \"channels\": {\n",
    "        \"y\": {\n",
    "            \"detach\": \"Types\"\n",
    "        },\n",
    "        \"x\": {\n",
    "            \"attach\": \"Types\"\n",
    "        },\n",
    "    }\n",
    "}))\n",
    "\n",
    "snapshot4 = chart.store()"
   ]
  },
  {
   "cell_type": "markdown",
   "id": "46cb4d25",
   "metadata": {},
   "source": [
    "To stack a grouped chart, you just have to do the same thing the other way around: detach the dimension from the x-axis and attach it to the y-axis."
   ]
  },
  {
   "cell_type": "code",
   "execution_count": 5,
   "id": "075bb4c9",
   "metadata": {},
   "outputs": [
    {
     "data": {
      "text/html": [
       "<script id=\"myVizzu_43a197b\">\n",
       "        document.getElementById(\"myVizzu_43a197b\").parentNode.style.padding = \"0px\";\n",
       "        </script>\n",
       "<div id=\"myVizzu_ca06a1e\"/>\n",
       "        <script>\n",
       "        \n",
       "        chart_c8fbbf9 = chart_c8fbbf9.then(chart => {\n",
       "            document.getElementById(\"myVizzu_ca06a1e\").appendChild(myVizzu_c8fbbf9);\n",
       "            return chart.animate(snapshot_8e3ee59)\n",
       "        });\n",
       "        </script>"
      ]
     },
     "metadata": {},
     "output_type": "display_data"
    },
    {
     "data": {
      "text/html": [
       "<script id=\"myVizzu_118c515\">\n",
       "        document.getElementById(\"myVizzu_118c515\").parentNode.style.padding = \"0px\";\n",
       "        </script>\n",
       "<div id=\"myVizzu_514487d\"/>\n",
       "        <script>\n",
       "        \n",
       "        chart_c8fbbf9 = chart_c8fbbf9.then(chart => {\n",
       "            document.getElementById(\"myVizzu_514487d\").appendChild(myVizzu_c8fbbf9);\n",
       "            return chart.animate({\"config\": {\"title\": \"...doing it the other way is how you stack your chart\"}})\n",
       "        });\n",
       "        </script>"
      ]
     },
     "metadata": {},
     "output_type": "display_data"
    },
    {
     "data": {
      "text/html": [
       "<script id=\"myVizzu_5eaaade\">\n",
       "        document.getElementById(\"myVizzu_5eaaade\").parentNode.style.padding = \"0px\";\n",
       "        </script>\n",
       "<div id=\"myVizzu_65cf7c8\"/>\n",
       "        <script>\n",
       "        \n",
       "        chart_c8fbbf9 = chart_c8fbbf9.then(chart => {\n",
       "            document.getElementById(\"myVizzu_65cf7c8\").appendChild(myVizzu_c8fbbf9);\n",
       "            return chart.animate({\"config\": {\"channels\": {\"y\": {\"attach\": \"Types\"}, \"x\": {\"detach\": \"Types\"}}}})\n",
       "        });\n",
       "        </script>"
      ]
     },
     "metadata": {},
     "output_type": "display_data"
    }
   ],
   "source": [
    "chart.animate(snapshot4)\n",
    "\n",
    "chart.animate(Config({\"title\": \"...doing it the other way is how you stack your chart\"}))\n",
    "\n",
    "chart.animate(Config({\n",
    "    \"channels\": {\n",
    "        \"y\": {\n",
    "            \"attach\": \"Types\"\n",
    "        },\n",
    "        \"x\": {\n",
    "            \"detach\": \"Types\"\n",
    "        },\n",
    "    }\n",
    "}))"
   ]
  }
 ],
 "metadata": {
  "kernelspec": {
   "display_name": "Python 3 (ipykernel)",
   "language": "python",
   "name": "python3"
  },
  "language_info": {
   "codemirror_mode": {
    "name": "ipython",
    "version": 3
   },
   "file_extension": ".py",
   "mimetype": "text/x-python",
   "name": "python",
   "nbconvert_exporter": "python",
   "pygments_lexer": "ipython3",
   "version": "3.8.10"
  }
 },
 "nbformat": 4,
 "nbformat_minor": 5
}
