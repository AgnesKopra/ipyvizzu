{
 "cells": [
  {
   "cell_type": "markdown",
   "id": "454600ae",
   "metadata": {},
   "source": [
    "## Align & range\n",
    "\n",
    "Vizzu offers different options to align your chart elements and to set the range of values shown on the axes. Alignment can be used to create charts like a stream chart where the elements are vertically centered. A good example for using range is when you fix the y-axis so that it would not adapt to the data being shown.\n",
    "\n",
    "Centered alignment. The effect of this parameter depends on the orientation of the chart. For example, on a column chart, elements will be vertically centered, whereas on a bar chart, horizontally."
   ]
  },
  {
   "cell_type": "code",
   "execution_count": 1,
   "id": "5a6a5806",
   "metadata": {},
   "outputs": [
    {
     "data": {
      "text/html": [
       "<script id=\"myVizzu_720f64c\">\n",
       "        document.getElementById(\"myVizzu_720f64c\").parentNode.style.padding = \"0px\";\n",
       "        </script>\n",
       "<div id=\"myVizzu_fd83f71\" style=\"width:800px; height:480px;\"/>\n",
       "        <script>\n",
       "        let myVizzu_fd83f71 = document.getElementById(\"myVizzu_fd83f71\")\n",
       "        let chart_fd83f71 = import(\"https://cdn.jsdelivr.net/npm/vizzu@~0.4.0/dist/vizzu.min.js\").then(Vizzu => new Vizzu.default(\"myVizzu_fd83f71\").initializing);\n",
       "        </script>"
      ]
     },
     "metadata": {},
     "output_type": "display_data"
    },
    {
     "data": {
      "text/html": [
       "<script id=\"myVizzu_e283f1f\">\n",
       "        document.getElementById(\"myVizzu_e283f1f\").parentNode.style.padding = \"0px\";\n",
       "        </script>\n",
       "<div id=\"myVizzu_bf2dcf7\"/>\n",
       "        <script>\n",
       "        \n",
       "        chart_fd83f71 = chart_fd83f71.then(chart => {\n",
       "            document.getElementById(\"myVizzu_bf2dcf7\").appendChild(myVizzu_fd83f71);\n",
       "            return chart.animate({\"data\": {\"dimensions\": [{\"name\": \"Genres\", \"values\": [\"Pop\", \"Rock\", \"Jazz\", \"Metal\"]}, {\"name\": \"Types\", \"values\": [\"Hard\", \"Smooth\", \"Experimental\"]}], \"measures\": [{\"name\": \"Popularity\", \"values\": [[114, 96, 78, 52], [56, 36, 174, 121], [127, 83, 94, 58]]}]}})\n",
       "        });\n",
       "        </script>"
      ]
     },
     "metadata": {},
     "output_type": "display_data"
    },
    {
     "data": {
      "text/html": [
       "<script id=\"myVizzu_4a91517\">\n",
       "        document.getElementById(\"myVizzu_4a91517\").parentNode.style.padding = \"0px\";\n",
       "        </script>\n",
       "<div id=\"myVizzu_7e1feba\"/>\n",
       "        <script>\n",
       "        \n",
       "        chart_fd83f71 = chart_fd83f71.then(chart => {\n",
       "            document.getElementById(\"myVizzu_7e1feba\").appendChild(myVizzu_fd83f71);\n",
       "            return chart.animate({\"config\": {\"channels\": {\"y\": {\"set\": [\"Popularity\", \"Types\"]}, \"x\": {\"set\": \"Genres\"}, \"label\": {\"attach\": \"Popularity\"}}, \"color\": {\"attach\": \"Types\"}, \"title\": \"Align: center\"}})\n",
       "        });\n",
       "        </script>"
      ]
     },
     "metadata": {},
     "output_type": "display_data"
    },
    {
     "data": {
      "text/html": [
       "<script id=\"myVizzu_e4f9596\">\n",
       "        document.getElementById(\"myVizzu_e4f9596\").parentNode.style.padding = \"0px\";\n",
       "        </script>\n",
       "<div id=\"myVizzu_56e3ab5\"/>\n",
       "        <script>\n",
       "        \n",
       "        chart_fd83f71 = chart_fd83f71.then(chart => {\n",
       "            document.getElementById(\"myVizzu_56e3ab5\").appendChild(myVizzu_fd83f71);\n",
       "            return chart.animate({\"config\": {\"align\": \"center\"}})\n",
       "        });\n",
       "        </script>"
      ]
     },
     "metadata": {},
     "output_type": "display_data"
    },
    {
     "data": {
      "text/html": [
       "<script id=\"myVizzu_1a3ce9d\">\n",
       "        document.getElementById(\"myVizzu_1a3ce9d\").parentNode.style.padding = \"0px\";\n",
       "        </script>\n",
       "<script>\n",
       "        let snapshot_f3c8989;\n",
       "        chart_fd83f71 = chart_fd83f71.then(chart => {\n",
       "            snapshot_f3c8989 = chart.store();\n",
       "            return chart;\n",
       "        });\n",
       "        </script>"
      ]
     },
     "metadata": {},
     "output_type": "display_data"
    }
   ],
   "source": [
    "from ipyvizzu import Chart, Data, Config\n",
    "\n",
    "chart = Chart()\n",
    "\n",
    "data = Data.from_json(\"../data/music_example_data.json\")\n",
    "\n",
    "chart.animate(data)\n",
    "\n",
    "chart.animate(Config({\n",
    "    \"channels\": {\n",
    "        \"y\": {\n",
    "            \"set\": [\"Popularity\", \"Types\"]\n",
    "        }, \n",
    "        \"x\": {\n",
    "            \"set\": \"Genres\"\n",
    "        },\n",
    "        \"label\": {\n",
    "            \"attach\": \"Popularity\"\n",
    "        }\n",
    "    },\n",
    "    \"color\": {\n",
    "        \"attach\": \"Types\"\n",
    "    },\n",
    "    \"title\": \"Align: center\"\n",
    "}))\n",
    "\n",
    "chart.animate(Config({\n",
    "    \"align\": \"center\"\n",
    "}))\n",
    "\n",
    "snapshot1 = chart.store()"
   ]
  },
  {
   "cell_type": "markdown",
   "id": "de236c9d",
   "metadata": {},
   "source": [
    "Stretched alignment. This way the elements will proportionally fill the entire plot area, effectively showing proportions in stacked charts. This is why the scale will also switch from values to percentages when used."
   ]
  },
  {
   "cell_type": "code",
   "execution_count": 2,
   "id": "2570dfc5",
   "metadata": {},
   "outputs": [
    {
     "data": {
      "text/html": [
       "<script id=\"myVizzu_b681dc0\">\n",
       "        document.getElementById(\"myVizzu_b681dc0\").parentNode.style.padding = \"0px\";\n",
       "        </script>\n",
       "<div id=\"myVizzu_6ba9eeb\"/>\n",
       "        <script>\n",
       "        \n",
       "        chart_fd83f71 = chart_fd83f71.then(chart => {\n",
       "            document.getElementById(\"myVizzu_6ba9eeb\").appendChild(myVizzu_fd83f71);\n",
       "            return chart.animate(snapshot_f3c8989)\n",
       "        });\n",
       "        </script>"
      ]
     },
     "metadata": {},
     "output_type": "display_data"
    },
    {
     "data": {
      "text/html": [
       "<script id=\"myVizzu_f0cef97\">\n",
       "        document.getElementById(\"myVizzu_f0cef97\").parentNode.style.padding = \"0px\";\n",
       "        </script>\n",
       "<div id=\"myVizzu_2fe0e82\"/>\n",
       "        <script>\n",
       "        \n",
       "        chart_fd83f71 = chart_fd83f71.then(chart => {\n",
       "            document.getElementById(\"myVizzu_2fe0e82\").appendChild(myVizzu_fd83f71);\n",
       "            return chart.animate({\"config\": {\"title\": \"Align: stretch = % view\"}})\n",
       "        });\n",
       "        </script>"
      ]
     },
     "metadata": {},
     "output_type": "display_data"
    },
    {
     "data": {
      "text/html": [
       "<script id=\"myVizzu_aed3da3\">\n",
       "        document.getElementById(\"myVizzu_aed3da3\").parentNode.style.padding = \"0px\";\n",
       "        </script>\n",
       "<div id=\"myVizzu_aa5faf9\"/>\n",
       "        <script>\n",
       "        \n",
       "        chart_fd83f71 = chart_fd83f71.then(chart => {\n",
       "            document.getElementById(\"myVizzu_aa5faf9\").appendChild(myVizzu_fd83f71);\n",
       "            return chart.animate({\"config\": {\"align\": \"stretch\"}})\n",
       "        });\n",
       "        </script>"
      ]
     },
     "metadata": {},
     "output_type": "display_data"
    },
    {
     "data": {
      "text/html": [
       "<script id=\"myVizzu_8b4a8d5\">\n",
       "        document.getElementById(\"myVizzu_8b4a8d5\").parentNode.style.padding = \"0px\";\n",
       "        </script>\n",
       "<script>\n",
       "        let snapshot_c3f6bfb;\n",
       "        chart_fd83f71 = chart_fd83f71.then(chart => {\n",
       "            snapshot_c3f6bfb = chart.store();\n",
       "            return chart;\n",
       "        });\n",
       "        </script>"
      ]
     },
     "metadata": {},
     "output_type": "display_data"
    }
   ],
   "source": [
    "chart.animate(snapshot1)\n",
    "\n",
    "chart.animate(Config({\"title\": \"Align: stretch = % view\"}))\n",
    "\n",
    "chart.animate(Config({\n",
    "    \"align\": \"stretch\"\n",
    "}))\n",
    "\n",
    "snapshot2 = chart.store()"
   ]
  },
  {
   "cell_type": "markdown",
   "id": "2fe74668",
   "metadata": {},
   "source": [
    "Getting back to the default alignment."
   ]
  },
  {
   "cell_type": "code",
   "execution_count": 3,
   "id": "968c95e7",
   "metadata": {},
   "outputs": [
    {
     "data": {
      "text/html": [
       "<script id=\"myVizzu_5b27512\">\n",
       "        document.getElementById(\"myVizzu_5b27512\").parentNode.style.padding = \"0px\";\n",
       "        </script>\n",
       "<div id=\"myVizzu_488b68b\"/>\n",
       "        <script>\n",
       "        \n",
       "        chart_fd83f71 = chart_fd83f71.then(chart => {\n",
       "            document.getElementById(\"myVizzu_488b68b\").appendChild(myVizzu_fd83f71);\n",
       "            return chart.animate(snapshot_c3f6bfb)\n",
       "        });\n",
       "        </script>"
      ]
     },
     "metadata": {},
     "output_type": "display_data"
    },
    {
     "data": {
      "text/html": [
       "<script id=\"myVizzu_7c8d7aa\">\n",
       "        document.getElementById(\"myVizzu_7c8d7aa\").parentNode.style.padding = \"0px\";\n",
       "        </script>\n",
       "<div id=\"myVizzu_f1b0033\"/>\n",
       "        <script>\n",
       "        \n",
       "        chart_fd83f71 = chart_fd83f71.then(chart => {\n",
       "            document.getElementById(\"myVizzu_f1b0033\").appendChild(myVizzu_fd83f71);\n",
       "            return chart.animate({\"config\": {\"title\": \"Align: none - default\"}})\n",
       "        });\n",
       "        </script>"
      ]
     },
     "metadata": {},
     "output_type": "display_data"
    },
    {
     "data": {
      "text/html": [
       "<script id=\"myVizzu_67a56d6\">\n",
       "        document.getElementById(\"myVizzu_67a56d6\").parentNode.style.padding = \"0px\";\n",
       "        </script>\n",
       "<div id=\"myVizzu_6a22cf5\"/>\n",
       "        <script>\n",
       "        \n",
       "        chart_fd83f71 = chart_fd83f71.then(chart => {\n",
       "            document.getElementById(\"myVizzu_6a22cf5\").appendChild(myVizzu_fd83f71);\n",
       "            return chart.animate({\"config\": {\"align\": \"none\"}})\n",
       "        });\n",
       "        </script>"
      ]
     },
     "metadata": {},
     "output_type": "display_data"
    },
    {
     "data": {
      "text/html": [
       "<script id=\"myVizzu_a2a5971\">\n",
       "        document.getElementById(\"myVizzu_a2a5971\").parentNode.style.padding = \"0px\";\n",
       "        </script>\n",
       "<script>\n",
       "        let snapshot_733a44d;\n",
       "        chart_fd83f71 = chart_fd83f71.then(chart => {\n",
       "            snapshot_733a44d = chart.store();\n",
       "            return chart;\n",
       "        });\n",
       "        </script>"
      ]
     },
     "metadata": {},
     "output_type": "display_data"
    }
   ],
   "source": [
    "chart.animate(snapshot2)\n",
    "\n",
    "chart.animate(Config({\"title\": \"Align: none - default\"}))\n",
    "\n",
    "chart.animate(Config({\n",
    "    \"align\": \"none\"\n",
    "}))\n",
    "\n",
    "snapshot3 = chart.store()"
   ]
  },
  {
   "cell_type": "markdown",
   "id": "000773c1",
   "metadata": {},
   "source": [
    "You can set the range of an axis by setting the minimum and maximum values of it. Both parameters are optional so that you can set only one of those, and you either set specific values or a relative value by adding the % sign. In this example, we set the range of the y-axis in a way that the max value is 150% of the biggest element’s value."
   ]
  },
  {
   "cell_type": "code",
   "execution_count": 4,
   "id": "7aeb7745",
   "metadata": {},
   "outputs": [
    {
     "data": {
      "text/html": [
       "<script id=\"myVizzu_8701029\">\n",
       "        document.getElementById(\"myVizzu_8701029\").parentNode.style.padding = \"0px\";\n",
       "        </script>\n",
       "<div id=\"myVizzu_c3a1439\"/>\n",
       "        <script>\n",
       "        \n",
       "        chart_fd83f71 = chart_fd83f71.then(chart => {\n",
       "            document.getElementById(\"myVizzu_c3a1439\").appendChild(myVizzu_fd83f71);\n",
       "            return chart.animate(snapshot_733a44d)\n",
       "        });\n",
       "        </script>"
      ]
     },
     "metadata": {},
     "output_type": "display_data"
    },
    {
     "data": {
      "text/html": [
       "<script id=\"myVizzu_ce99ae6\">\n",
       "        document.getElementById(\"myVizzu_ce99ae6\").parentNode.style.padding = \"0px\";\n",
       "        </script>\n",
       "<div id=\"myVizzu_ed20511\"/>\n",
       "        <script>\n",
       "        \n",
       "        chart_fd83f71 = chart_fd83f71.then(chart => {\n",
       "            document.getElementById(\"myVizzu_ed20511\").appendChild(myVizzu_fd83f71);\n",
       "            return chart.animate({\"config\": {\"title\": \"Axis range set proportionally to shown values\"}})\n",
       "        });\n",
       "        </script>"
      ]
     },
     "metadata": {},
     "output_type": "display_data"
    },
    {
     "data": {
      "text/html": [
       "<script id=\"myVizzu_b5e2421\">\n",
       "        document.getElementById(\"myVizzu_b5e2421\").parentNode.style.padding = \"0px\";\n",
       "        </script>\n",
       "<div id=\"myVizzu_4170360\"/>\n",
       "        <script>\n",
       "        \n",
       "        chart_fd83f71 = chart_fd83f71.then(chart => {\n",
       "            document.getElementById(\"myVizzu_4170360\").appendChild(myVizzu_fd83f71);\n",
       "            return chart.animate({\"config\": {\"channels\": {\"y\": {\"range\": {\"max\": \"150%\"}}}}})\n",
       "        });\n",
       "        </script>"
      ]
     },
     "metadata": {},
     "output_type": "display_data"
    },
    {
     "data": {
      "text/html": [
       "<script id=\"myVizzu_6fc5234\">\n",
       "        document.getElementById(\"myVizzu_6fc5234\").parentNode.style.padding = \"0px\";\n",
       "        </script>\n",
       "<script>\n",
       "        let snapshot_33e261d;\n",
       "        chart_fd83f71 = chart_fd83f71.then(chart => {\n",
       "            snapshot_33e261d = chart.store();\n",
       "            return chart;\n",
       "        });\n",
       "        </script>"
      ]
     },
     "metadata": {},
     "output_type": "display_data"
    }
   ],
   "source": [
    "chart.animate(snapshot3)\n",
    "\n",
    "chart.animate(Config({\"title\": \"Axis range set proportionally to shown values\"}))\n",
    "\n",
    "chart.animate(Config({\n",
    "    \"channels\": {\n",
    "        \"y\": {\n",
    "            \"range\": {\n",
    "                \"max\": \"150%\"\n",
    "            }\n",
    "        }\n",
    "    }\n",
    "}))\n",
    "\n",
    "snapshot4 = chart.store()"
   ]
  },
  {
   "cell_type": "markdown",
   "id": "119ea887",
   "metadata": {},
   "source": [
    "You can also set the range for an axis with a dimension on it. You can even use this feature to filter certain elements, just like in the following example."
   ]
  },
  {
   "cell_type": "code",
   "execution_count": 5,
   "id": "aeeeb6a4",
   "metadata": {},
   "outputs": [
    {
     "data": {
      "text/html": [
       "<script id=\"myVizzu_819e6fa\">\n",
       "        document.getElementById(\"myVizzu_819e6fa\").parentNode.style.padding = \"0px\";\n",
       "        </script>\n",
       "<div id=\"myVizzu_dae37e5\"/>\n",
       "        <script>\n",
       "        \n",
       "        chart_fd83f71 = chart_fd83f71.then(chart => {\n",
       "            document.getElementById(\"myVizzu_dae37e5\").appendChild(myVizzu_fd83f71);\n",
       "            return chart.animate(snapshot_33e261d)\n",
       "        });\n",
       "        </script>"
      ]
     },
     "metadata": {},
     "output_type": "display_data"
    },
    {
     "data": {
      "text/html": [
       "<script id=\"myVizzu_8e423a7\">\n",
       "        document.getElementById(\"myVizzu_8e423a7\").parentNode.style.padding = \"0px\";\n",
       "        </script>\n",
       "<div id=\"myVizzu_dccbe93\"/>\n",
       "        <script>\n",
       "        \n",
       "        chart_fd83f71 = chart_fd83f71.then(chart => {\n",
       "            document.getElementById(\"myVizzu_dccbe93\").appendChild(myVizzu_fd83f71);\n",
       "            return chart.animate({\"config\": {\"title\": \"Axis range set explicitly on an axis with discrete series\"}})\n",
       "        });\n",
       "        </script>"
      ]
     },
     "metadata": {},
     "output_type": "display_data"
    },
    {
     "data": {
      "text/html": [
       "<script id=\"myVizzu_143add6\">\n",
       "        document.getElementById(\"myVizzu_143add6\").parentNode.style.padding = \"0px\";\n",
       "        </script>\n",
       "<div id=\"myVizzu_534aa76\"/>\n",
       "        <script>\n",
       "        \n",
       "        chart_fd83f71 = chart_fd83f71.then(chart => {\n",
       "            document.getElementById(\"myVizzu_534aa76\").appendChild(myVizzu_fd83f71);\n",
       "            return chart.animate({\"config\": {\"channels\": {\"x\": {\"range\": {\"min\": -2, \"max\": 3}}}}})\n",
       "        });\n",
       "        </script>"
      ]
     },
     "metadata": {},
     "output_type": "display_data"
    },
    {
     "data": {
      "text/html": [
       "<script id=\"myVizzu_77be587\">\n",
       "        document.getElementById(\"myVizzu_77be587\").parentNode.style.padding = \"0px\";\n",
       "        </script>\n",
       "<script>\n",
       "        let snapshot_9ef4e2e;\n",
       "        chart_fd83f71 = chart_fd83f71.then(chart => {\n",
       "            snapshot_9ef4e2e = chart.store();\n",
       "            return chart;\n",
       "        });\n",
       "        </script>"
      ]
     },
     "metadata": {},
     "output_type": "display_data"
    }
   ],
   "source": [
    "chart.animate(snapshot4)\n",
    "\n",
    "chart.animate(Config({\"title\": \"Axis range set explicitly on an axis with discrete series\"}))\n",
    "\n",
    "chart.animate(Config({\n",
    "    \"channels\": {\n",
    "        \"x\": {\n",
    "            \"range\": {\n",
    "                \"min\": -2,\n",
    "                \"max\": 3,\n",
    "            }\n",
    "        }\n",
    "    }\n",
    "}))\n",
    "\n",
    "snapshot5 = chart.store()"
   ]
  },
  {
   "cell_type": "markdown",
   "id": "8d504699",
   "metadata": {},
   "source": [
    "Ranges have certain defaults depending on the chart's configuration, based on common data viz guidelines because we wanted to make it easy for you to create sleek charts. For example, in the cartesian coordinate system, the range will be automatically set to the max:110% for an axis with a measure on it. Polar coordinates work differently, as you can see for yourself in the Orientation, split & polar chapter.\n",
    "\n",
    "Whenever you want to set your ranges back to the default value, just set them to ‘auto’."
   ]
  },
  {
   "cell_type": "code",
   "execution_count": 6,
   "id": "db518966",
   "metadata": {},
   "outputs": [
    {
     "data": {
      "text/html": [
       "<script id=\"myVizzu_2d521e7\">\n",
       "        document.getElementById(\"myVizzu_2d521e7\").parentNode.style.padding = \"0px\";\n",
       "        </script>\n",
       "<div id=\"myVizzu_39b0f47\"/>\n",
       "        <script>\n",
       "        \n",
       "        chart_fd83f71 = chart_fd83f71.then(chart => {\n",
       "            document.getElementById(\"myVizzu_39b0f47\").appendChild(myVizzu_fd83f71);\n",
       "            return chart.animate(snapshot_9ef4e2e)\n",
       "        });\n",
       "        </script>"
      ]
     },
     "metadata": {},
     "output_type": "display_data"
    },
    {
     "data": {
      "text/html": [
       "<script id=\"myVizzu_40967b7\">\n",
       "        document.getElementById(\"myVizzu_40967b7\").parentNode.style.padding = \"0px\";\n",
       "        </script>\n",
       "<div id=\"myVizzu_afd67a4\"/>\n",
       "        <script>\n",
       "        \n",
       "        chart_fd83f71 = chart_fd83f71.then(chart => {\n",
       "            document.getElementById(\"myVizzu_afd67a4\").appendChild(myVizzu_fd83f71);\n",
       "            return chart.animate({\"config\": {\"title\": \"Back to the default ranges\"}})\n",
       "        });\n",
       "        </script>"
      ]
     },
     "metadata": {},
     "output_type": "display_data"
    },
    {
     "data": {
      "text/html": [
       "<script id=\"myVizzu_f239562\">\n",
       "        document.getElementById(\"myVizzu_f239562\").parentNode.style.padding = \"0px\";\n",
       "        </script>\n",
       "<div id=\"myVizzu_2e3bf68\"/>\n",
       "        <script>\n",
       "        \n",
       "        chart_fd83f71 = chart_fd83f71.then(chart => {\n",
       "            document.getElementById(\"myVizzu_2e3bf68\").appendChild(myVizzu_fd83f71);\n",
       "            return chart.animate({\"config\": {\"channels\": {\"y\": {\"range\": {\"max\": \"auto\"}}, \"x\": {\"range\": {\"min\": \"auto\", \"max\": \"auto\"}}}}})\n",
       "        });\n",
       "        </script>"
      ]
     },
     "metadata": {},
     "output_type": "display_data"
    }
   ],
   "source": [
    "chart.animate(snapshot5)\n",
    "\n",
    "chart.animate(Config({\"title\": \"Back to the default ranges\"}))\n",
    "\n",
    "chart.animate(Config({\n",
    "    \"channels\": {\n",
    "        \"y\": {\n",
    "            \"range\": {\n",
    "                \"max\": \"auto\"\n",
    "            }\n",
    "        },\n",
    "        \"x\": {\n",
    "            \"range\": {\n",
    "                \"min\": \"auto\",\n",
    "                \"max\": \"auto\",\n",
    "            }\n",
    "        }\n",
    "    }\n",
    "}))"
   ]
  }
 ],
 "metadata": {
  "kernelspec": {
   "display_name": "Python 3 (ipykernel)",
   "language": "python",
   "name": "python3"
  },
  "language_info": {
   "codemirror_mode": {
    "name": "ipython",
    "version": 3
   },
   "file_extension": ".py",
   "mimetype": "text/x-python",
   "name": "python",
   "nbconvert_exporter": "python",
   "pygments_lexer": "ipython3",
   "version": "3.8.10"
  }
 },
 "nbformat": 4,
 "nbformat_minor": 5
}
