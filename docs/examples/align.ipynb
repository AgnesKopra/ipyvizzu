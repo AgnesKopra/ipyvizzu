{
 "cells": [
  {
   "cell_type": "markdown",
   "id": "454600ae",
   "metadata": {},
   "source": [
    "## Align & range\n",
    "\n",
    "Vizzu offers different options to align your chart elements and to set the range of values shown on the axes. Alignment can be used to create charts like a stream chart where the elements are vertically centered. A good example for using range is when you fix the y-axis so that it would not adapt to the data being shown.\n",
    "\n",
    "Centered alignment. The effect of this parameter depends on the orientation of the chart. For example, on a column chart, elements will be vertically centered, whereas on a bar chart, horizontally."
   ]
  },
  {
   "cell_type": "code",
   "execution_count": 1,
   "id": "5a6a5806",
   "metadata": {},
   "outputs": [
    {
     "data": {
      "text/html": [
       "<script id=\"myVizzu_eae12ab\">\n",
       "    document.getElementById(\"myVizzu_eae12ab\").parentNode.style.padding = \"0px\";\n",
       "</script>\n",
       "<div id=\"myVizzu_735f967\" style=\"width:800px; height:480px;\"/>\n",
       "<script>\n",
       "    let myVizzu_735f967 = document.getElementById(\"myVizzu_735f967\")\n",
       "    let chart_735f967 = import(\"https://cdn.jsdelivr.net/npm/vizzu@~0.4.0/dist/vizzu.min.js\").then(Vizzu => new Vizzu.default(\"myVizzu_735f967\").initializing);\n",
       "</script>"
      ]
     },
     "metadata": {},
     "output_type": "display_data"
    },
    {
     "data": {
      "text/html": [
       "<script id=\"myVizzu_1b913d3\">\n",
       "    document.getElementById(\"myVizzu_1b913d3\").parentNode.style.padding = \"0px\";\n",
       "</script>\n",
       "<div id=\"myVizzu_8a39914\"/>\n",
       "<script>\n",
       "    chart_735f967 = chart_735f967.then(chart => {\n",
       "        document.getElementById(\"myVizzu_8a39914\").appendChild(myVizzu_735f967);\n",
       "        return chart.animate({\"data\": {\"dimensions\": [{\"name\": \"Genres\", \"values\": [\"Pop\", \"Rock\", \"Jazz\", \"Metal\"]}, {\"name\": \"Types\", \"values\": [\"Hard\", \"Smooth\", \"Experimental\"]}], \"measures\": [{\"name\": \"Popularity\", \"values\": [[114, 96, 78, 52], [56, 36, 174, 121], [127, 83, 94, 58]]}]}})\n",
       "    });\n",
       "</script>"
      ]
     },
     "metadata": {},
     "output_type": "display_data"
    },
    {
     "data": {
      "text/html": [
       "<script id=\"myVizzu_390acb7\">\n",
       "    document.getElementById(\"myVizzu_390acb7\").parentNode.style.padding = \"0px\";\n",
       "</script>\n",
       "<div id=\"myVizzu_d54fe52\"/>\n",
       "<script>\n",
       "    chart_735f967 = chart_735f967.then(chart => {\n",
       "        document.getElementById(\"myVizzu_d54fe52\").appendChild(myVizzu_735f967);\n",
       "        return chart.animate({\"config\": {\"channels\": {\"y\": {\"set\": [\"Popularity\", \"Types\"]}, \"x\": {\"set\": \"Genres\"}, \"label\": {\"attach\": \"Popularity\"}}, \"color\": {\"attach\": \"Types\"}, \"title\": \"Align: center\"}})\n",
       "    });\n",
       "</script>"
      ]
     },
     "metadata": {},
     "output_type": "display_data"
    },
    {
     "data": {
      "text/html": [
       "<script id=\"myVizzu_372a85f\">\n",
       "    document.getElementById(\"myVizzu_372a85f\").parentNode.style.padding = \"0px\";\n",
       "</script>\n",
       "<div id=\"myVizzu_53d4a90\"/>\n",
       "<script>\n",
       "    chart_735f967 = chart_735f967.then(chart => {\n",
       "        document.getElementById(\"myVizzu_53d4a90\").appendChild(myVizzu_735f967);\n",
       "        return chart.animate({\"config\": {\"align\": \"center\"}})\n",
       "    });\n",
       "</script>"
      ]
     },
     "metadata": {},
     "output_type": "display_data"
    },
    {
     "data": {
      "text/html": [
       "<script id=\"myVizzu_3a6046d\">\n",
       "    document.getElementById(\"myVizzu_3a6046d\").parentNode.style.padding = \"0px\";\n",
       "</script>\n",
       "<script>\n",
       "    let snapshot_8fee841;\n",
       "    chart_735f967 = chart_735f967.then(chart => {\n",
       "        snapshot_8fee841 = chart.store();\n",
       "        return chart;\n",
       "    });\n",
       "</script>"
      ]
     },
     "metadata": {},
     "output_type": "display_data"
    }
   ],
   "source": [
    "from ipyvizzu import Chart, Data, Config\n",
    "\n",
    "chart = Chart()\n",
    "\n",
    "data = Data.from_json(\"../data/music_example_data.json\")\n",
    "\n",
    "chart.animate(data)\n",
    "\n",
    "chart.animate(Config({\n",
    "    \"channels\": {\n",
    "        \"y\": {\n",
    "            \"set\": [\"Popularity\", \"Types\"]\n",
    "        }, \n",
    "        \"x\": {\n",
    "            \"set\": \"Genres\"\n",
    "        },\n",
    "        \"label\": {\n",
    "            \"attach\": \"Popularity\"\n",
    "        }\n",
    "    },\n",
    "    \"color\": {\n",
    "        \"attach\": \"Types\"\n",
    "    },\n",
    "    \"title\": \"Align: center\"\n",
    "}))\n",
    "\n",
    "chart.animate(Config({\n",
    "    \"align\": \"center\"\n",
    "}))\n",
    "\n",
    "snapshot1 = chart.store()"
   ]
  },
  {
   "cell_type": "markdown",
   "id": "de236c9d",
   "metadata": {},
   "source": [
    "Stretched alignment. This way the elements will proportionally fill the entire plot area, effectively showing proportions in stacked charts. This is why the scale will also switch from values to percentages when used."
   ]
  },
  {
   "cell_type": "code",
   "execution_count": 2,
   "id": "2570dfc5",
   "metadata": {},
   "outputs": [
    {
     "data": {
      "text/html": [
       "<script id=\"myVizzu_1133785\">\n",
       "    document.getElementById(\"myVizzu_1133785\").parentNode.style.padding = \"0px\";\n",
       "</script>\n",
       "<div id=\"myVizzu_39fd70b\"/>\n",
       "<script>\n",
       "    chart_735f967 = chart_735f967.then(chart => {\n",
       "        document.getElementById(\"myVizzu_39fd70b\").appendChild(myVizzu_735f967);\n",
       "        return chart.animate(snapshot_8fee841)\n",
       "    });\n",
       "</script>"
      ]
     },
     "metadata": {},
     "output_type": "display_data"
    },
    {
     "data": {
      "text/html": [
       "<script id=\"myVizzu_996cf20\">\n",
       "    document.getElementById(\"myVizzu_996cf20\").parentNode.style.padding = \"0px\";\n",
       "</script>\n",
       "<div id=\"myVizzu_48be89b\"/>\n",
       "<script>\n",
       "    chart_735f967 = chart_735f967.then(chart => {\n",
       "        document.getElementById(\"myVizzu_48be89b\").appendChild(myVizzu_735f967);\n",
       "        return chart.animate({\"config\": {\"title\": \"Align: stretch = % view\"}})\n",
       "    });\n",
       "</script>"
      ]
     },
     "metadata": {},
     "output_type": "display_data"
    },
    {
     "data": {
      "text/html": [
       "<script id=\"myVizzu_80de223\">\n",
       "    document.getElementById(\"myVizzu_80de223\").parentNode.style.padding = \"0px\";\n",
       "</script>\n",
       "<div id=\"myVizzu_9c08d4e\"/>\n",
       "<script>\n",
       "    chart_735f967 = chart_735f967.then(chart => {\n",
       "        document.getElementById(\"myVizzu_9c08d4e\").appendChild(myVizzu_735f967);\n",
       "        return chart.animate({\"config\": {\"align\": \"stretch\"}})\n",
       "    });\n",
       "</script>"
      ]
     },
     "metadata": {},
     "output_type": "display_data"
    },
    {
     "data": {
      "text/html": [
       "<script id=\"myVizzu_3f683da\">\n",
       "    document.getElementById(\"myVizzu_3f683da\").parentNode.style.padding = \"0px\";\n",
       "</script>\n",
       "<script>\n",
       "    let snapshot_53872d8;\n",
       "    chart_735f967 = chart_735f967.then(chart => {\n",
       "        snapshot_53872d8 = chart.store();\n",
       "        return chart;\n",
       "    });\n",
       "</script>"
      ]
     },
     "metadata": {},
     "output_type": "display_data"
    }
   ],
   "source": [
    "chart.animate(snapshot1)\n",
    "\n",
    "chart.animate(Config({\"title\": \"Align: stretch = % view\"}))\n",
    "\n",
    "chart.animate(Config({\n",
    "    \"align\": \"stretch\"\n",
    "}))\n",
    "\n",
    "snapshot2 = chart.store()"
   ]
  },
  {
   "cell_type": "markdown",
   "id": "2fe74668",
   "metadata": {},
   "source": [
    "Getting back to the default alignment."
   ]
  },
  {
   "cell_type": "code",
   "execution_count": 3,
   "id": "968c95e7",
   "metadata": {},
   "outputs": [
    {
     "data": {
      "text/html": [
       "<script id=\"myVizzu_ef0a0d0\">\n",
       "    document.getElementById(\"myVizzu_ef0a0d0\").parentNode.style.padding = \"0px\";\n",
       "</script>\n",
       "<div id=\"myVizzu_9d97a7b\"/>\n",
       "<script>\n",
       "    chart_735f967 = chart_735f967.then(chart => {\n",
       "        document.getElementById(\"myVizzu_9d97a7b\").appendChild(myVizzu_735f967);\n",
       "        return chart.animate(snapshot_53872d8)\n",
       "    });\n",
       "</script>"
      ]
     },
     "metadata": {},
     "output_type": "display_data"
    },
    {
     "data": {
      "text/html": [
       "<script id=\"myVizzu_1a80bef\">\n",
       "    document.getElementById(\"myVizzu_1a80bef\").parentNode.style.padding = \"0px\";\n",
       "</script>\n",
       "<div id=\"myVizzu_84a2349\"/>\n",
       "<script>\n",
       "    chart_735f967 = chart_735f967.then(chart => {\n",
       "        document.getElementById(\"myVizzu_84a2349\").appendChild(myVizzu_735f967);\n",
       "        return chart.animate({\"config\": {\"title\": \"Align: none - default\"}})\n",
       "    });\n",
       "</script>"
      ]
     },
     "metadata": {},
     "output_type": "display_data"
    },
    {
     "data": {
      "text/html": [
       "<script id=\"myVizzu_6ab0807\">\n",
       "    document.getElementById(\"myVizzu_6ab0807\").parentNode.style.padding = \"0px\";\n",
       "</script>\n",
       "<div id=\"myVizzu_c0fa417\"/>\n",
       "<script>\n",
       "    chart_735f967 = chart_735f967.then(chart => {\n",
       "        document.getElementById(\"myVizzu_c0fa417\").appendChild(myVizzu_735f967);\n",
       "        return chart.animate({\"config\": {\"align\": \"none\"}})\n",
       "    });\n",
       "</script>"
      ]
     },
     "metadata": {},
     "output_type": "display_data"
    },
    {
     "data": {
      "text/html": [
       "<script id=\"myVizzu_5386de0\">\n",
       "    document.getElementById(\"myVizzu_5386de0\").parentNode.style.padding = \"0px\";\n",
       "</script>\n",
       "<script>\n",
       "    let snapshot_7fa06a4;\n",
       "    chart_735f967 = chart_735f967.then(chart => {\n",
       "        snapshot_7fa06a4 = chart.store();\n",
       "        return chart;\n",
       "    });\n",
       "</script>"
      ]
     },
     "metadata": {},
     "output_type": "display_data"
    }
   ],
   "source": [
    "chart.animate(snapshot2)\n",
    "\n",
    "chart.animate(Config({\"title\": \"Align: none - default\"}))\n",
    "\n",
    "chart.animate(Config({\n",
    "    \"align\": \"none\"\n",
    "}))\n",
    "\n",
    "snapshot3 = chart.store()"
   ]
  },
  {
   "cell_type": "markdown",
   "id": "000773c1",
   "metadata": {},
   "source": [
    "You can set the range of an axis by setting the minimum and maximum values of it. Both parameters are optional so that you can set only one of those, and you either set specific values or a relative value by adding the % sign. In this example, we set the range of the y-axis in a way that the max value is 150% of the biggest element’s value."
   ]
  },
  {
   "cell_type": "code",
   "execution_count": 4,
   "id": "7aeb7745",
   "metadata": {},
   "outputs": [
    {
     "data": {
      "text/html": [
       "<script id=\"myVizzu_10c0323\">\n",
       "    document.getElementById(\"myVizzu_10c0323\").parentNode.style.padding = \"0px\";\n",
       "</script>\n",
       "<div id=\"myVizzu_f57320b\"/>\n",
       "<script>\n",
       "    chart_735f967 = chart_735f967.then(chart => {\n",
       "        document.getElementById(\"myVizzu_f57320b\").appendChild(myVizzu_735f967);\n",
       "        return chart.animate(snapshot_7fa06a4)\n",
       "    });\n",
       "</script>"
      ]
     },
     "metadata": {},
     "output_type": "display_data"
    },
    {
     "data": {
      "text/html": [
       "<script id=\"myVizzu_cc41173\">\n",
       "    document.getElementById(\"myVizzu_cc41173\").parentNode.style.padding = \"0px\";\n",
       "</script>\n",
       "<div id=\"myVizzu_26c129d\"/>\n",
       "<script>\n",
       "    chart_735f967 = chart_735f967.then(chart => {\n",
       "        document.getElementById(\"myVizzu_26c129d\").appendChild(myVizzu_735f967);\n",
       "        return chart.animate({\"config\": {\"title\": \"Axis range set proportionally to shown values\"}})\n",
       "    });\n",
       "</script>"
      ]
     },
     "metadata": {},
     "output_type": "display_data"
    },
    {
     "data": {
      "text/html": [
       "<script id=\"myVizzu_b7cc3c3\">\n",
       "    document.getElementById(\"myVizzu_b7cc3c3\").parentNode.style.padding = \"0px\";\n",
       "</script>\n",
       "<div id=\"myVizzu_c911cf8\"/>\n",
       "<script>\n",
       "    chart_735f967 = chart_735f967.then(chart => {\n",
       "        document.getElementById(\"myVizzu_c911cf8\").appendChild(myVizzu_735f967);\n",
       "        return chart.animate({\"config\": {\"channels\": {\"y\": {\"range\": {\"max\": \"150%\"}}}}})\n",
       "    });\n",
       "</script>"
      ]
     },
     "metadata": {},
     "output_type": "display_data"
    },
    {
     "data": {
      "text/html": [
       "<script id=\"myVizzu_20c1bc7\">\n",
       "    document.getElementById(\"myVizzu_20c1bc7\").parentNode.style.padding = \"0px\";\n",
       "</script>\n",
       "<script>\n",
       "    let snapshot_d1ebf03;\n",
       "    chart_735f967 = chart_735f967.then(chart => {\n",
       "        snapshot_d1ebf03 = chart.store();\n",
       "        return chart;\n",
       "    });\n",
       "</script>"
      ]
     },
     "metadata": {},
     "output_type": "display_data"
    }
   ],
   "source": [
    "chart.animate(snapshot3)\n",
    "\n",
    "chart.animate(Config({\"title\": \"Axis range set proportionally to shown values\"}))\n",
    "\n",
    "chart.animate(Config({\n",
    "    \"channels\": {\n",
    "        \"y\": {\n",
    "            \"range\": {\n",
    "                \"max\": \"150%\"\n",
    "            }\n",
    "        }\n",
    "    }\n",
    "}))\n",
    "\n",
    "snapshot4 = chart.store()"
   ]
  },
  {
   "cell_type": "markdown",
   "id": "119ea887",
   "metadata": {},
   "source": [
    "You can also set the range for an axis with a dimension on it. You can even use this feature to filter certain elements, just like in the following example."
   ]
  },
  {
   "cell_type": "code",
   "execution_count": 5,
   "id": "aeeeb6a4",
   "metadata": {},
   "outputs": [
    {
     "data": {
      "text/html": [
       "<script id=\"myVizzu_6837e57\">\n",
       "    document.getElementById(\"myVizzu_6837e57\").parentNode.style.padding = \"0px\";\n",
       "</script>\n",
       "<div id=\"myVizzu_ac6cccb\"/>\n",
       "<script>\n",
       "    chart_735f967 = chart_735f967.then(chart => {\n",
       "        document.getElementById(\"myVizzu_ac6cccb\").appendChild(myVizzu_735f967);\n",
       "        return chart.animate(snapshot_d1ebf03)\n",
       "    });\n",
       "</script>"
      ]
     },
     "metadata": {},
     "output_type": "display_data"
    },
    {
     "data": {
      "text/html": [
       "<script id=\"myVizzu_9d3710e\">\n",
       "    document.getElementById(\"myVizzu_9d3710e\").parentNode.style.padding = \"0px\";\n",
       "</script>\n",
       "<div id=\"myVizzu_b020708\"/>\n",
       "<script>\n",
       "    chart_735f967 = chart_735f967.then(chart => {\n",
       "        document.getElementById(\"myVizzu_b020708\").appendChild(myVizzu_735f967);\n",
       "        return chart.animate({\"config\": {\"title\": \"Axis range set explicitly on an axis with discrete series\"}})\n",
       "    });\n",
       "</script>"
      ]
     },
     "metadata": {},
     "output_type": "display_data"
    },
    {
     "data": {
      "text/html": [
       "<script id=\"myVizzu_5ebf477\">\n",
       "    document.getElementById(\"myVizzu_5ebf477\").parentNode.style.padding = \"0px\";\n",
       "</script>\n",
       "<div id=\"myVizzu_50e3255\"/>\n",
       "<script>\n",
       "    chart_735f967 = chart_735f967.then(chart => {\n",
       "        document.getElementById(\"myVizzu_50e3255\").appendChild(myVizzu_735f967);\n",
       "        return chart.animate({\"config\": {\"channels\": {\"x\": {\"range\": {\"min\": -2, \"max\": 3}}}}})\n",
       "    });\n",
       "</script>"
      ]
     },
     "metadata": {},
     "output_type": "display_data"
    },
    {
     "data": {
      "text/html": [
       "<script id=\"myVizzu_0edeb05\">\n",
       "    document.getElementById(\"myVizzu_0edeb05\").parentNode.style.padding = \"0px\";\n",
       "</script>\n",
       "<script>\n",
       "    let snapshot_db2aeb5;\n",
       "    chart_735f967 = chart_735f967.then(chart => {\n",
       "        snapshot_db2aeb5 = chart.store();\n",
       "        return chart;\n",
       "    });\n",
       "</script>"
      ]
     },
     "metadata": {},
     "output_type": "display_data"
    }
   ],
   "source": [
    "chart.animate(snapshot4)\n",
    "\n",
    "chart.animate(Config({\"title\": \"Axis range set explicitly on an axis with discrete series\"}))\n",
    "\n",
    "chart.animate(Config({\n",
    "    \"channels\": {\n",
    "        \"x\": {\n",
    "            \"range\": {\n",
    "                \"min\": -2,\n",
    "                \"max\": 3,\n",
    "            }\n",
    "        }\n",
    "    }\n",
    "}))\n",
    "\n",
    "snapshot5 = chart.store()"
   ]
  },
  {
   "cell_type": "markdown",
   "id": "8d504699",
   "metadata": {},
   "source": [
    "Ranges have certain defaults depending on the chart's configuration, based on common data viz guidelines because we wanted to make it easy for you to create sleek charts. For example, in the cartesian coordinate system, the range will be automatically set to the max:110% for an axis with a measure on it. Polar coordinates work differently, as you can see for yourself in the Orientation, split & polar chapter.\n",
    "\n",
    "Whenever you want to set your ranges back to the default value, just set them to ‘auto’."
   ]
  },
  {
   "cell_type": "code",
   "execution_count": 6,
   "id": "db518966",
   "metadata": {},
   "outputs": [
    {
     "data": {
      "text/html": [
       "<script id=\"myVizzu_f841c42\">\n",
       "    document.getElementById(\"myVizzu_f841c42\").parentNode.style.padding = \"0px\";\n",
       "</script>\n",
       "<div id=\"myVizzu_4a00136\"/>\n",
       "<script>\n",
       "    chart_735f967 = chart_735f967.then(chart => {\n",
       "        document.getElementById(\"myVizzu_4a00136\").appendChild(myVizzu_735f967);\n",
       "        return chart.animate(snapshot_db2aeb5)\n",
       "    });\n",
       "</script>"
      ]
     },
     "metadata": {},
     "output_type": "display_data"
    },
    {
     "data": {
      "text/html": [
       "<script id=\"myVizzu_f398dab\">\n",
       "    document.getElementById(\"myVizzu_f398dab\").parentNode.style.padding = \"0px\";\n",
       "</script>\n",
       "<div id=\"myVizzu_619c6bc\"/>\n",
       "<script>\n",
       "    chart_735f967 = chart_735f967.then(chart => {\n",
       "        document.getElementById(\"myVizzu_619c6bc\").appendChild(myVizzu_735f967);\n",
       "        return chart.animate({\"config\": {\"title\": \"Back to the default ranges\"}})\n",
       "    });\n",
       "</script>"
      ]
     },
     "metadata": {},
     "output_type": "display_data"
    },
    {
     "data": {
      "text/html": [
       "<script id=\"myVizzu_83874a4\">\n",
       "    document.getElementById(\"myVizzu_83874a4\").parentNode.style.padding = \"0px\";\n",
       "</script>\n",
       "<div id=\"myVizzu_e783bc5\"/>\n",
       "<script>\n",
       "    chart_735f967 = chart_735f967.then(chart => {\n",
       "        document.getElementById(\"myVizzu_e783bc5\").appendChild(myVizzu_735f967);\n",
       "        return chart.animate({\"config\": {\"channels\": {\"y\": {\"range\": {\"max\": \"auto\"}}, \"x\": {\"range\": {\"min\": \"auto\", \"max\": \"auto\"}}}}})\n",
       "    });\n",
       "</script>"
      ]
     },
     "metadata": {},
     "output_type": "display_data"
    }
   ],
   "source": [
    "chart.animate(snapshot5)\n",
    "\n",
    "chart.animate(Config({\"title\": \"Back to the default ranges\"}))\n",
    "\n",
    "chart.animate(Config({\n",
    "    \"channels\": {\n",
    "        \"y\": {\n",
    "            \"range\": {\n",
    "                \"max\": \"auto\"\n",
    "            }\n",
    "        },\n",
    "        \"x\": {\n",
    "            \"range\": {\n",
    "                \"min\": \"auto\",\n",
    "                \"max\": \"auto\",\n",
    "            }\n",
    "        }\n",
    "    }\n",
    "}))"
   ]
  }
 ],
 "metadata": {
  "kernelspec": {
   "display_name": "Python 3 (ipykernel)",
   "language": "python",
   "name": "python3"
  },
  "language_info": {
   "codemirror_mode": {
    "name": "ipython",
    "version": 3
   },
   "file_extension": ".py",
   "mimetype": "text/x-python",
   "name": "python",
   "nbconvert_exporter": "python",
   "pygments_lexer": "ipython3",
   "version": "3.8.10"
  }
 },
 "nbformat": 4,
 "nbformat_minor": 5
}
