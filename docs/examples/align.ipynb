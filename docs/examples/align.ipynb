{
 "cells": [
  {
   "cell_type": "markdown",
   "id": "454600ae",
   "metadata": {},
   "source": [
    "## Align & range\n",
    "\n",
    "Vizzu offers different options to align your chart elements and to set the range of values shown on the axes. Alignment can be used to create charts like a stream chart where the elements are vertically centered. A good example for using range is when you fix the y-axis so that it would not adapt to the data being shown.\n",
    "\n",
    "Centered alignment. The effect of this parameter depends on the orientation of the chart. For example, on a column chart, elements will be vertically centered, whereas on a bar chart, horizontally."
   ]
  },
  {
   "cell_type": "code",
   "execution_count": 1,
   "id": "5a6a5806",
   "metadata": {},
   "outputs": [
    {
     "data": {
      "text/html": [
       "<script>\n",
       "    let myVizzu_109b9ce = document.createElement(\"div\");\n",
       "    myVizzu_109b9ce.style.cssText = \"width: 800px; height: 480px;\";\n",
       "    let chart_109b9ce = import(\"https://cdn.jsdelivr.net/npm/vizzu@~0.4.0/dist/vizzu.min.js\").then(Vizzu => new Vizzu.default(myVizzu_109b9ce).initializing);\n",
       "</script>"
      ]
     },
     "metadata": {},
     "output_type": "display_data"
    },
    {
     "data": {
      "text/html": [
       "<script id=\"myVizzu_3ae14b8\">\n",
       "    chart_109b9ce = chart_109b9ce.then(chart => {\n",
       "        let script = document.getElementById(\"myVizzu_3ae14b8\");\n",
       "        if (myVizzu_109b9ce.parentNode && myVizzu_109b9ce.parentNode.parentNode) {\n",
       "            let display = myVizzu_109b9ce.parentNode.parentNode.style.display;\n",
       "            myVizzu_109b9ce.parentNode.parentNode.style.display = \"none\";\n",
       "            script.parentNode.parentNode.style.display = display;\n",
       "        }\n",
       "        script.parentNode.insertBefore(myVizzu_109b9ce, script);\n",
       "        return chart.animate({\"data\": {\"dimensions\": [{\"name\": \"Genres\", \"values\": [\"Pop\", \"Rock\", \"Jazz\", \"Metal\"]}, {\"name\": \"Types\", \"values\": [\"Hard\", \"Smooth\", \"Experimental\"]}], \"measures\": [{\"name\": \"Popularity\", \"values\": [[114, 96, 78, 52], [56, 36, 174, 121], [127, 83, 94, 58]]}]}});\n",
       "    });\n",
       "</script>"
      ]
     },
     "metadata": {},
     "output_type": "display_data"
    },
    {
     "data": {
      "text/html": [
       "<script id=\"myVizzu_54f6a50\">\n",
       "    chart_109b9ce = chart_109b9ce.then(chart => {\n",
       "        let script = document.getElementById(\"myVizzu_54f6a50\");\n",
       "        if (myVizzu_109b9ce.parentNode && myVizzu_109b9ce.parentNode.parentNode) {\n",
       "            let display = myVizzu_109b9ce.parentNode.parentNode.style.display;\n",
       "            myVizzu_109b9ce.parentNode.parentNode.style.display = \"none\";\n",
       "            script.parentNode.parentNode.style.display = display;\n",
       "        }\n",
       "        script.parentNode.insertBefore(myVizzu_109b9ce, script);\n",
       "        return chart.animate({\"config\": {\"channels\": {\"y\": {\"set\": [\"Popularity\", \"Types\"]}, \"x\": {\"set\": \"Genres\"}, \"label\": {\"attach\": \"Popularity\"}}, \"color\": {\"attach\": \"Types\"}, \"title\": \"Align: center\"}});\n",
       "    });\n",
       "</script>"
      ]
     },
     "metadata": {},
     "output_type": "display_data"
    },
    {
     "data": {
      "text/html": [
       "<script id=\"myVizzu_6ac0cc1\">\n",
       "    chart_109b9ce = chart_109b9ce.then(chart => {\n",
       "        let script = document.getElementById(\"myVizzu_6ac0cc1\");\n",
       "        if (myVizzu_109b9ce.parentNode && myVizzu_109b9ce.parentNode.parentNode) {\n",
       "            let display = myVizzu_109b9ce.parentNode.parentNode.style.display;\n",
       "            myVizzu_109b9ce.parentNode.parentNode.style.display = \"none\";\n",
       "            script.parentNode.parentNode.style.display = display;\n",
       "        }\n",
       "        script.parentNode.insertBefore(myVizzu_109b9ce, script);\n",
       "        return chart.animate({\"config\": {\"align\": \"center\"}});\n",
       "    });\n",
       "</script>"
      ]
     },
     "metadata": {},
     "output_type": "display_data"
    },
    {
     "data": {
      "text/html": [
       "<script>\n",
       "    let snapshot_422242e;\n",
       "    chart_109b9ce = chart_109b9ce.then(chart => {\n",
       "        snapshot_422242e = chart.store();\n",
       "        return chart;\n",
       "    });\n",
       "</script>"
      ]
     },
     "metadata": {},
     "output_type": "display_data"
    }
   ],
   "source": [
    "from ipyvizzu import Chart, Data, Config\n",
    "\n",
    "chart = Chart()\n",
    "\n",
    "data = Data.from_json(\"../data/music_example_data.json\")\n",
    "\n",
    "chart.animate(data)\n",
    "\n",
    "chart.animate(Config({\n",
    "    \"channels\": {\n",
    "        \"y\": {\n",
    "            \"set\": [\"Popularity\", \"Types\"]\n",
    "        }, \n",
    "        \"x\": {\n",
    "            \"set\": \"Genres\"\n",
    "        },\n",
    "        \"label\": {\n",
    "            \"attach\": \"Popularity\"\n",
    "        }\n",
    "    },\n",
    "    \"color\": {\n",
    "        \"attach\": \"Types\"\n",
    "    },\n",
    "    \"title\": \"Align: center\"\n",
    "}))\n",
    "\n",
    "chart.animate(Config({\n",
    "    \"align\": \"center\"\n",
    "}))\n",
    "\n",
    "snapshot1 = chart.store()"
   ]
  },
  {
   "cell_type": "markdown",
   "id": "de236c9d",
   "metadata": {},
   "source": [
    "Stretched alignment. This way the elements will proportionally fill the entire plot area, effectively showing proportions in stacked charts. This is why the scale will also switch from values to percentages when used."
   ]
  },
  {
   "cell_type": "code",
   "execution_count": 2,
   "id": "2570dfc5",
   "metadata": {},
   "outputs": [
    {
     "data": {
      "text/html": [
       "<script id=\"myVizzu_ee6faca\">\n",
       "    chart_109b9ce = chart_109b9ce.then(chart => {\n",
       "        let script = document.getElementById(\"myVizzu_ee6faca\");\n",
       "        if (myVizzu_109b9ce.parentNode && myVizzu_109b9ce.parentNode.parentNode) {\n",
       "            let display = myVizzu_109b9ce.parentNode.parentNode.style.display;\n",
       "            myVizzu_109b9ce.parentNode.parentNode.style.display = \"none\";\n",
       "            script.parentNode.parentNode.style.display = display;\n",
       "        }\n",
       "        script.parentNode.insertBefore(myVizzu_109b9ce, script);\n",
       "        return chart.animate(snapshot_422242e);\n",
       "    });\n",
       "</script>"
      ]
     },
     "metadata": {},
     "output_type": "display_data"
    },
    {
     "data": {
      "text/html": [
       "<script id=\"myVizzu_92ca436\">\n",
       "    chart_109b9ce = chart_109b9ce.then(chart => {\n",
       "        let script = document.getElementById(\"myVizzu_92ca436\");\n",
       "        if (myVizzu_109b9ce.parentNode && myVizzu_109b9ce.parentNode.parentNode) {\n",
       "            let display = myVizzu_109b9ce.parentNode.parentNode.style.display;\n",
       "            myVizzu_109b9ce.parentNode.parentNode.style.display = \"none\";\n",
       "            script.parentNode.parentNode.style.display = display;\n",
       "        }\n",
       "        script.parentNode.insertBefore(myVizzu_109b9ce, script);\n",
       "        return chart.animate({\"config\": {\"title\": \"Align: stretch = % view\"}});\n",
       "    });\n",
       "</script>"
      ]
     },
     "metadata": {},
     "output_type": "display_data"
    },
    {
     "data": {
      "text/html": [
       "<script id=\"myVizzu_976ef1e\">\n",
       "    chart_109b9ce = chart_109b9ce.then(chart => {\n",
       "        let script = document.getElementById(\"myVizzu_976ef1e\");\n",
       "        if (myVizzu_109b9ce.parentNode && myVizzu_109b9ce.parentNode.parentNode) {\n",
       "            let display = myVizzu_109b9ce.parentNode.parentNode.style.display;\n",
       "            myVizzu_109b9ce.parentNode.parentNode.style.display = \"none\";\n",
       "            script.parentNode.parentNode.style.display = display;\n",
       "        }\n",
       "        script.parentNode.insertBefore(myVizzu_109b9ce, script);\n",
       "        return chart.animate({\"config\": {\"align\": \"stretch\"}});\n",
       "    });\n",
       "</script>"
      ]
     },
     "metadata": {},
     "output_type": "display_data"
    },
    {
     "data": {
      "text/html": [
       "<script>\n",
       "    let snapshot_b9c32da;\n",
       "    chart_109b9ce = chart_109b9ce.then(chart => {\n",
       "        snapshot_b9c32da = chart.store();\n",
       "        return chart;\n",
       "    });\n",
       "</script>"
      ]
     },
     "metadata": {},
     "output_type": "display_data"
    }
   ],
   "source": [
    "chart.animate(snapshot1)\n",
    "\n",
    "chart.animate(Config({\"title\": \"Align: stretch = % view\"}))\n",
    "\n",
    "chart.animate(Config({\n",
    "    \"align\": \"stretch\"\n",
    "}))\n",
    "\n",
    "snapshot2 = chart.store()"
   ]
  },
  {
   "cell_type": "markdown",
   "id": "2fe74668",
   "metadata": {},
   "source": [
    "Getting back to the default alignment."
   ]
  },
  {
   "cell_type": "code",
   "execution_count": 3,
   "id": "968c95e7",
   "metadata": {},
   "outputs": [
    {
     "data": {
      "text/html": [
       "<script id=\"myVizzu_693e623\">\n",
       "    chart_109b9ce = chart_109b9ce.then(chart => {\n",
       "        let script = document.getElementById(\"myVizzu_693e623\");\n",
       "        if (myVizzu_109b9ce.parentNode && myVizzu_109b9ce.parentNode.parentNode) {\n",
       "            let display = myVizzu_109b9ce.parentNode.parentNode.style.display;\n",
       "            myVizzu_109b9ce.parentNode.parentNode.style.display = \"none\";\n",
       "            script.parentNode.parentNode.style.display = display;\n",
       "        }\n",
       "        script.parentNode.insertBefore(myVizzu_109b9ce, script);\n",
       "        return chart.animate(snapshot_b9c32da);\n",
       "    });\n",
       "</script>"
      ]
     },
     "metadata": {},
     "output_type": "display_data"
    },
    {
     "data": {
      "text/html": [
       "<script id=\"myVizzu_70e05a9\">\n",
       "    chart_109b9ce = chart_109b9ce.then(chart => {\n",
       "        let script = document.getElementById(\"myVizzu_70e05a9\");\n",
       "        if (myVizzu_109b9ce.parentNode && myVizzu_109b9ce.parentNode.parentNode) {\n",
       "            let display = myVizzu_109b9ce.parentNode.parentNode.style.display;\n",
       "            myVizzu_109b9ce.parentNode.parentNode.style.display = \"none\";\n",
       "            script.parentNode.parentNode.style.display = display;\n",
       "        }\n",
       "        script.parentNode.insertBefore(myVizzu_109b9ce, script);\n",
       "        return chart.animate({\"config\": {\"title\": \"Align: none - default\"}});\n",
       "    });\n",
       "</script>"
      ]
     },
     "metadata": {},
     "output_type": "display_data"
    },
    {
     "data": {
      "text/html": [
       "<script id=\"myVizzu_2c7781f\">\n",
       "    chart_109b9ce = chart_109b9ce.then(chart => {\n",
       "        let script = document.getElementById(\"myVizzu_2c7781f\");\n",
       "        if (myVizzu_109b9ce.parentNode && myVizzu_109b9ce.parentNode.parentNode) {\n",
       "            let display = myVizzu_109b9ce.parentNode.parentNode.style.display;\n",
       "            myVizzu_109b9ce.parentNode.parentNode.style.display = \"none\";\n",
       "            script.parentNode.parentNode.style.display = display;\n",
       "        }\n",
       "        script.parentNode.insertBefore(myVizzu_109b9ce, script);\n",
       "        return chart.animate({\"config\": {\"align\": \"none\"}});\n",
       "    });\n",
       "</script>"
      ]
     },
     "metadata": {},
     "output_type": "display_data"
    },
    {
     "data": {
      "text/html": [
       "<script>\n",
       "    let snapshot_8858feb;\n",
       "    chart_109b9ce = chart_109b9ce.then(chart => {\n",
       "        snapshot_8858feb = chart.store();\n",
       "        return chart;\n",
       "    });\n",
       "</script>"
      ]
     },
     "metadata": {},
     "output_type": "display_data"
    }
   ],
   "source": [
    "chart.animate(snapshot2)\n",
    "\n",
    "chart.animate(Config({\"title\": \"Align: none - default\"}))\n",
    "\n",
    "chart.animate(Config({\n",
    "    \"align\": \"none\"\n",
    "}))\n",
    "\n",
    "snapshot3 = chart.store()"
   ]
  },
  {
   "cell_type": "markdown",
   "id": "000773c1",
   "metadata": {},
   "source": [
    "You can set the range of an axis by setting the minimum and maximum values of it. Both parameters are optional so that you can set only one of those, and you either set specific values or a relative value by adding the % sign. In this example, we set the range of the y-axis in a way that the max value is 150% of the biggest element’s value."
   ]
  },
  {
   "cell_type": "code",
   "execution_count": 4,
   "id": "7aeb7745",
   "metadata": {},
   "outputs": [
    {
     "data": {
      "text/html": [
       "<script id=\"myVizzu_fbd3097\">\n",
       "    chart_109b9ce = chart_109b9ce.then(chart => {\n",
       "        let script = document.getElementById(\"myVizzu_fbd3097\");\n",
       "        if (myVizzu_109b9ce.parentNode && myVizzu_109b9ce.parentNode.parentNode) {\n",
       "            let display = myVizzu_109b9ce.parentNode.parentNode.style.display;\n",
       "            myVizzu_109b9ce.parentNode.parentNode.style.display = \"none\";\n",
       "            script.parentNode.parentNode.style.display = display;\n",
       "        }\n",
       "        script.parentNode.insertBefore(myVizzu_109b9ce, script);\n",
       "        return chart.animate(snapshot_8858feb);\n",
       "    });\n",
       "</script>"
      ]
     },
     "metadata": {},
     "output_type": "display_data"
    },
    {
     "data": {
      "text/html": [
       "<script id=\"myVizzu_9c2a485\">\n",
       "    chart_109b9ce = chart_109b9ce.then(chart => {\n",
       "        let script = document.getElementById(\"myVizzu_9c2a485\");\n",
       "        if (myVizzu_109b9ce.parentNode && myVizzu_109b9ce.parentNode.parentNode) {\n",
       "            let display = myVizzu_109b9ce.parentNode.parentNode.style.display;\n",
       "            myVizzu_109b9ce.parentNode.parentNode.style.display = \"none\";\n",
       "            script.parentNode.parentNode.style.display = display;\n",
       "        }\n",
       "        script.parentNode.insertBefore(myVizzu_109b9ce, script);\n",
       "        return chart.animate({\"config\": {\"title\": \"Axis range set proportionally to shown values\"}});\n",
       "    });\n",
       "</script>"
      ]
     },
     "metadata": {},
     "output_type": "display_data"
    },
    {
     "data": {
      "text/html": [
       "<script id=\"myVizzu_3093d7a\">\n",
       "    chart_109b9ce = chart_109b9ce.then(chart => {\n",
       "        let script = document.getElementById(\"myVizzu_3093d7a\");\n",
       "        if (myVizzu_109b9ce.parentNode && myVizzu_109b9ce.parentNode.parentNode) {\n",
       "            let display = myVizzu_109b9ce.parentNode.parentNode.style.display;\n",
       "            myVizzu_109b9ce.parentNode.parentNode.style.display = \"none\";\n",
       "            script.parentNode.parentNode.style.display = display;\n",
       "        }\n",
       "        script.parentNode.insertBefore(myVizzu_109b9ce, script);\n",
       "        return chart.animate({\"config\": {\"channels\": {\"y\": {\"range\": {\"max\": \"150%\"}}}}});\n",
       "    });\n",
       "</script>"
      ]
     },
     "metadata": {},
     "output_type": "display_data"
    },
    {
     "data": {
      "text/html": [
       "<script>\n",
       "    let snapshot_bb97773;\n",
       "    chart_109b9ce = chart_109b9ce.then(chart => {\n",
       "        snapshot_bb97773 = chart.store();\n",
       "        return chart;\n",
       "    });\n",
       "</script>"
      ]
     },
     "metadata": {},
     "output_type": "display_data"
    }
   ],
   "source": [
    "chart.animate(snapshot3)\n",
    "\n",
    "chart.animate(Config({\"title\": \"Axis range set proportionally to shown values\"}))\n",
    "\n",
    "chart.animate(Config({\n",
    "    \"channels\": {\n",
    "        \"y\": {\n",
    "            \"range\": {\n",
    "                \"max\": \"150%\"\n",
    "            }\n",
    "        }\n",
    "    }\n",
    "}))\n",
    "\n",
    "snapshot4 = chart.store()"
   ]
  },
  {
   "cell_type": "markdown",
   "id": "119ea887",
   "metadata": {},
   "source": [
    "You can also set the range for an axis with a dimension on it. You can even use this feature to filter certain elements, just like in the following example."
   ]
  },
  {
   "cell_type": "code",
   "execution_count": 5,
   "id": "aeeeb6a4",
   "metadata": {},
   "outputs": [
    {
     "data": {
      "text/html": [
       "<script id=\"myVizzu_9eb5764\">\n",
       "    chart_109b9ce = chart_109b9ce.then(chart => {\n",
       "        let script = document.getElementById(\"myVizzu_9eb5764\");\n",
       "        if (myVizzu_109b9ce.parentNode && myVizzu_109b9ce.parentNode.parentNode) {\n",
       "            let display = myVizzu_109b9ce.parentNode.parentNode.style.display;\n",
       "            myVizzu_109b9ce.parentNode.parentNode.style.display = \"none\";\n",
       "            script.parentNode.parentNode.style.display = display;\n",
       "        }\n",
       "        script.parentNode.insertBefore(myVizzu_109b9ce, script);\n",
       "        return chart.animate(snapshot_bb97773);\n",
       "    });\n",
       "</script>"
      ]
     },
     "metadata": {},
     "output_type": "display_data"
    },
    {
     "data": {
      "text/html": [
       "<script id=\"myVizzu_bd1e90b\">\n",
       "    chart_109b9ce = chart_109b9ce.then(chart => {\n",
       "        let script = document.getElementById(\"myVizzu_bd1e90b\");\n",
       "        if (myVizzu_109b9ce.parentNode && myVizzu_109b9ce.parentNode.parentNode) {\n",
       "            let display = myVizzu_109b9ce.parentNode.parentNode.style.display;\n",
       "            myVizzu_109b9ce.parentNode.parentNode.style.display = \"none\";\n",
       "            script.parentNode.parentNode.style.display = display;\n",
       "        }\n",
       "        script.parentNode.insertBefore(myVizzu_109b9ce, script);\n",
       "        return chart.animate({\"config\": {\"title\": \"Axis range set explicitly on an axis with discrete series\"}});\n",
       "    });\n",
       "</script>"
      ]
     },
     "metadata": {},
     "output_type": "display_data"
    },
    {
     "data": {
      "text/html": [
       "<script id=\"myVizzu_16fea48\">\n",
       "    chart_109b9ce = chart_109b9ce.then(chart => {\n",
       "        let script = document.getElementById(\"myVizzu_16fea48\");\n",
       "        if (myVizzu_109b9ce.parentNode && myVizzu_109b9ce.parentNode.parentNode) {\n",
       "            let display = myVizzu_109b9ce.parentNode.parentNode.style.display;\n",
       "            myVizzu_109b9ce.parentNode.parentNode.style.display = \"none\";\n",
       "            script.parentNode.parentNode.style.display = display;\n",
       "        }\n",
       "        script.parentNode.insertBefore(myVizzu_109b9ce, script);\n",
       "        return chart.animate({\"config\": {\"channels\": {\"x\": {\"range\": {\"min\": -2, \"max\": 3}}}}});\n",
       "    });\n",
       "</script>"
      ]
     },
     "metadata": {},
     "output_type": "display_data"
    },
    {
     "data": {
      "text/html": [
       "<script>\n",
       "    let snapshot_1c12b56;\n",
       "    chart_109b9ce = chart_109b9ce.then(chart => {\n",
       "        snapshot_1c12b56 = chart.store();\n",
       "        return chart;\n",
       "    });\n",
       "</script>"
      ]
     },
     "metadata": {},
     "output_type": "display_data"
    }
   ],
   "source": [
    "chart.animate(snapshot4)\n",
    "\n",
    "chart.animate(Config({\"title\": \"Axis range set explicitly on an axis with discrete series\"}))\n",
    "\n",
    "chart.animate(Config({\n",
    "    \"channels\": {\n",
    "        \"x\": {\n",
    "            \"range\": {\n",
    "                \"min\": -2,\n",
    "                \"max\": 3,\n",
    "            }\n",
    "        }\n",
    "    }\n",
    "}))\n",
    "\n",
    "snapshot5 = chart.store()"
   ]
  },
  {
   "cell_type": "markdown",
   "id": "8d504699",
   "metadata": {},
   "source": [
    "Ranges have certain defaults depending on the chart's configuration, based on common data viz guidelines because we wanted to make it easy for you to create sleek charts. For example, in the cartesian coordinate system, the range will be automatically set to the max:110% for an axis with a measure on it. Polar coordinates work differently, as you can see for yourself in the Orientation, split & polar chapter.\n",
    "\n",
    "Whenever you want to set your ranges back to the default value, just set them to ‘auto’."
   ]
  },
  {
   "cell_type": "code",
   "execution_count": 6,
   "id": "db518966",
   "metadata": {},
   "outputs": [
    {
     "data": {
      "text/html": [
       "<script id=\"myVizzu_9359f2d\">\n",
       "    chart_109b9ce = chart_109b9ce.then(chart => {\n",
       "        let script = document.getElementById(\"myVizzu_9359f2d\");\n",
       "        if (myVizzu_109b9ce.parentNode && myVizzu_109b9ce.parentNode.parentNode) {\n",
       "            let display = myVizzu_109b9ce.parentNode.parentNode.style.display;\n",
       "            myVizzu_109b9ce.parentNode.parentNode.style.display = \"none\";\n",
       "            script.parentNode.parentNode.style.display = display;\n",
       "        }\n",
       "        script.parentNode.insertBefore(myVizzu_109b9ce, script);\n",
       "        return chart.animate(snapshot_1c12b56);\n",
       "    });\n",
       "</script>"
      ]
     },
     "metadata": {},
     "output_type": "display_data"
    },
    {
     "data": {
      "text/html": [
       "<script id=\"myVizzu_69ff301\">\n",
       "    chart_109b9ce = chart_109b9ce.then(chart => {\n",
       "        let script = document.getElementById(\"myVizzu_69ff301\");\n",
       "        if (myVizzu_109b9ce.parentNode && myVizzu_109b9ce.parentNode.parentNode) {\n",
       "            let display = myVizzu_109b9ce.parentNode.parentNode.style.display;\n",
       "            myVizzu_109b9ce.parentNode.parentNode.style.display = \"none\";\n",
       "            script.parentNode.parentNode.style.display = display;\n",
       "        }\n",
       "        script.parentNode.insertBefore(myVizzu_109b9ce, script);\n",
       "        return chart.animate({\"config\": {\"title\": \"Back to the default ranges\"}});\n",
       "    });\n",
       "</script>"
      ]
     },
     "metadata": {},
     "output_type": "display_data"
    },
    {
     "data": {
      "text/html": [
       "<script id=\"myVizzu_a5f4ccc\">\n",
       "    chart_109b9ce = chart_109b9ce.then(chart => {\n",
       "        let script = document.getElementById(\"myVizzu_a5f4ccc\");\n",
       "        if (myVizzu_109b9ce.parentNode && myVizzu_109b9ce.parentNode.parentNode) {\n",
       "            let display = myVizzu_109b9ce.parentNode.parentNode.style.display;\n",
       "            myVizzu_109b9ce.parentNode.parentNode.style.display = \"none\";\n",
       "            script.parentNode.parentNode.style.display = display;\n",
       "        }\n",
       "        script.parentNode.insertBefore(myVizzu_109b9ce, script);\n",
       "        return chart.animate({\"config\": {\"channels\": {\"y\": {\"range\": {\"max\": \"auto\"}}, \"x\": {\"range\": {\"min\": \"auto\", \"max\": \"auto\"}}}}});\n",
       "    });\n",
       "</script>"
      ]
     },
     "metadata": {},
     "output_type": "display_data"
    }
   ],
   "source": [
    "chart.animate(snapshot5)\n",
    "\n",
    "chart.animate(Config({\"title\": \"Back to the default ranges\"}))\n",
    "\n",
    "chart.animate(Config({\n",
    "    \"channels\": {\n",
    "        \"y\": {\n",
    "            \"range\": {\n",
    "                \"max\": \"auto\"\n",
    "            }\n",
    "        },\n",
    "        \"x\": {\n",
    "            \"range\": {\n",
    "                \"min\": \"auto\",\n",
    "                \"max\": \"auto\",\n",
    "            }\n",
    "        }\n",
    "    }\n",
    "}))"
   ]
  }
 ],
 "metadata": {
  "kernelspec": {
   "display_name": "Python 3 (ipykernel)",
   "language": "python",
   "name": "python3"
  },
  "language_info": {
   "codemirror_mode": {
    "name": "ipython",
    "version": 3
   },
   "file_extension": ".py",
   "mimetype": "text/x-python",
   "name": "python",
   "nbconvert_exporter": "python",
   "pygments_lexer": "ipython3",
   "version": "3.8.10"
  }
 },
 "nbformat": 4,
 "nbformat_minor": 5
}
