{
 "cells": [
  {
   "cell_type": "markdown",
   "id": "454600ae",
   "metadata": {},
   "source": [
    "## Align & range\n",
    "\n",
    "Vizzu offers different options to align your chart elements and to set the range of values shown on the axes. Alignment can be used to create charts like a stream chart where the elements are vertically centered. A good example for using range is when you fix the y-axis so that it would not adapt to the data being shown.\n",
    "\n",
    "Centered alignment. The effect of this parameter depends on the orientation of the chart. For example, on a column chart, elements will be vertically centered, whereas on a bar chart, horizontally."
   ]
  },
  {
   "cell_type": "code",
   "execution_count": 1,
   "id": "5a6a5806",
   "metadata": {},
   "outputs": [
    {
     "data": {
      "text/html": [
       "\n",
       "<div id=\"myVizzu_140682046533888\" style=\"width:800px; height:480px;\" />\n",
       "<script type=\"module\">\n",
       "import Vizzu from 'https://cdn.jsdelivr.net/npm/vizzu@latest/dist/vizzu.min.js';\n",
       "\n",
       "let chart = new Vizzu('myVizzu_140682046533888');\n",
       "chart.initializing.then( chart => {\n",
       "\n",
       "chart.animate({\"data\": {\"dimensions\": [{\"name\": \"Genres\", \"values\": [\"Pop\", \"Rock\", \"Jazz\", \"Metal\"]}, {\"name\": \"Types\", \"values\": [\"Hard\", \"Smooth\", \"Experimental\"]}], \"measures\": [{\"name\": \"Popularity\", \"values\": [[114, 96, 78, 52], [56, 36, 174, 121], [127, 83, 94, 58]]}]}});\n",
       "chart.animate({\"config\": {\"channels\": {\"y\": {\"set\": [\"Popularity\", \"Types\"]}, \"x\": {\"set\": \"Genres\"}, \"label\": {\"attach\": \"Popularity\"}}, \"color\": {\"attach\": \"Types\"}, \"title\": \"Align: center\"}});\n",
       "chart.animate({\"config\": {\"align\": \"center\"}});\n",
       "} );\n",
       "</script>"
      ]
     },
     "metadata": {},
     "output_type": "display_data"
    }
   ],
   "source": [
    "from ipyvizzu import Chart, Config\n",
    "from data_examples import music_example_data\n",
    "\n",
    "chart = Chart()\n",
    "chart.animate(music_example_data)\n",
    "\n",
    "chart.animate(Config({\n",
    "    \"channels\": {\n",
    "        \"y\": {\n",
    "            \"set\": [\"Popularity\", \"Types\"]\n",
    "        }, \n",
    "        \"x\": {\n",
    "            \"set\": \"Genres\"\n",
    "        },\n",
    "        \"label\": {\n",
    "            \"attach\": \"Popularity\"\n",
    "        }\n",
    "    },\n",
    "    \"color\": {\n",
    "        \"attach\": \"Types\"\n",
    "    },\n",
    "    \"title\": \"Align: center\"\n",
    "}))\n",
    "\n",
    "chart.animate(Config({\n",
    "    \"align\": \"center\",\n",
    "}))\n",
    "\n",
    "chart.show()"
   ]
  },
  {
   "cell_type": "markdown",
   "id": "de236c9d",
   "metadata": {},
   "source": [
    "Stretched alignment. This way the elements will proportionally fill the entire plot area, effectively showing proportions in stacked charts. This is why the scale will also switch from values to percentages when used."
   ]
  },
  {
   "cell_type": "code",
   "execution_count": 2,
   "id": "2570dfc5",
   "metadata": {},
   "outputs": [
    {
     "data": {
      "text/html": [
       "\n",
       "<div id=\"myVizzu_140682046526016\" style=\"width:800px; height:480px;\" />\n",
       "<script type=\"module\">\n",
       "import Vizzu from 'https://cdn.jsdelivr.net/npm/vizzu@latest/dist/vizzu.min.js';\n",
       "\n",
       "let chart = new Vizzu('myVizzu_140682046526016');\n",
       "chart.initializing.then( chart => {\n",
       "\n",
       "chart.animate({\"data\": {\"dimensions\": [{\"name\": \"Genres\", \"values\": [\"Pop\", \"Rock\", \"Jazz\", \"Metal\"]}, {\"name\": \"Types\", \"values\": [\"Hard\", \"Smooth\", \"Experimental\"]}], \"measures\": [{\"name\": \"Popularity\", \"values\": [[114, 96, 78, 52], [56, 36, 174, 121], [127, 83, 94, 58]]}]}});\n",
       "chart.animate({\"config\": {\"channels\": {\"y\": {\"set\": [\"Popularity\", \"Types\"]}, \"x\": {\"set\": \"Genres\"}, \"label\": {\"attach\": \"Popularity\"}}, \"color\": {\"attach\": \"Types\"}, \"align\": \"center\", \"title\": \"Align: stretch = % view\"}});\n",
       "chart.animate({\"config\": {\"align\": \"stretch\"}});\n",
       "} );\n",
       "</script>"
      ]
     },
     "metadata": {},
     "output_type": "display_data"
    }
   ],
   "source": [
    "from ipyvizzu import Chart, Config\n",
    "from data_examples import music_example_data\n",
    "\n",
    "chart = Chart()\n",
    "chart.animate(music_example_data)\n",
    "\n",
    "chart.animate(Config({\n",
    "    \"channels\": {\n",
    "        \"y\": {\n",
    "            \"set\": [\"Popularity\", \"Types\"]\n",
    "        }, \n",
    "        \"x\": {\n",
    "            \"set\": \"Genres\"\n",
    "        },\n",
    "        \"label\": {\n",
    "            \"attach\": \"Popularity\"\n",
    "        }\n",
    "    },\n",
    "    \"color\": {\n",
    "        \"attach\": \"Types\"\n",
    "    },\n",
    "    \"align\": \"center\",\n",
    "    \"title\": \"Align: stretch = % view\"\n",
    "}))\n",
    "\n",
    "chart.animate(Config({\n",
    "    \"align\": \"stretch\",\n",
    "}))\n",
    "\n",
    "chart.show()"
   ]
  },
  {
   "cell_type": "markdown",
   "id": "2fe74668",
   "metadata": {},
   "source": [
    "Getting back to the default alignment."
   ]
  },
  {
   "cell_type": "code",
   "execution_count": 3,
   "id": "968c95e7",
   "metadata": {},
   "outputs": [
    {
     "data": {
      "text/html": [
       "\n",
       "<div id=\"myVizzu_140682046524816\" style=\"width:800px; height:480px;\" />\n",
       "<script type=\"module\">\n",
       "import Vizzu from 'https://cdn.jsdelivr.net/npm/vizzu@latest/dist/vizzu.min.js';\n",
       "\n",
       "let chart = new Vizzu('myVizzu_140682046524816');\n",
       "chart.initializing.then( chart => {\n",
       "\n",
       "chart.animate({\"data\": {\"dimensions\": [{\"name\": \"Genres\", \"values\": [\"Pop\", \"Rock\", \"Jazz\", \"Metal\"]}, {\"name\": \"Types\", \"values\": [\"Hard\", \"Smooth\", \"Experimental\"]}], \"measures\": [{\"name\": \"Popularity\", \"values\": [[114, 96, 78, 52], [56, 36, 174, 121], [127, 83, 94, 58]]}]}});\n",
       "chart.animate({\"config\": {\"channels\": {\"y\": {\"set\": [\"Popularity\", \"Types\"]}, \"x\": {\"set\": \"Genres\"}, \"label\": {\"attach\": \"Popularity\"}}, \"color\": {\"attach\": \"Types\"}, \"align\": \"stretch\", \"title\": \"Align: none - default\"}});\n",
       "chart.animate({\"config\": {\"align\": \"none\"}});\n",
       "} );\n",
       "</script>"
      ]
     },
     "metadata": {},
     "output_type": "display_data"
    }
   ],
   "source": [
    "from ipyvizzu import Chart, Config\n",
    "from data_examples import music_example_data\n",
    "\n",
    "chart = Chart()\n",
    "chart.animate(music_example_data)\n",
    "\n",
    "chart.animate(Config({\n",
    "    \"channels\": {\n",
    "        \"y\": {\n",
    "            \"set\": [\"Popularity\", \"Types\"]\n",
    "        }, \n",
    "        \"x\": {\n",
    "            \"set\": \"Genres\"\n",
    "        },\n",
    "        \"label\": {\n",
    "            \"attach\": \"Popularity\"\n",
    "        }\n",
    "    },\n",
    "    \"color\": {\n",
    "        \"attach\": \"Types\"\n",
    "    },\n",
    "    \"align\": \"stretch\",\n",
    "    \"title\": \"Align: none - default\"\n",
    "}))\n",
    "\n",
    "chart.animate(Config({\n",
    "    \"align\": \"none\",\n",
    "}))\n",
    "\n",
    "chart.show()"
   ]
  },
  {
   "cell_type": "markdown",
   "id": "000773c1",
   "metadata": {},
   "source": [
    "You can set the range of an axis by setting the minimum and maximum values of it. Both parameters are optional so that you can set only one of those, and you either set specific values or a relative value by adding the % sign. In this example, we set the range of the y-axis in a way that the max value is 150% of the biggest element’s value."
   ]
  },
  {
   "cell_type": "code",
   "execution_count": 4,
   "id": "7aeb7745",
   "metadata": {},
   "outputs": [
    {
     "data": {
      "text/html": [
       "\n",
       "<div id=\"myVizzu_140682046531440\" style=\"width:800px; height:480px;\" />\n",
       "<script type=\"module\">\n",
       "import Vizzu from 'https://cdn.jsdelivr.net/npm/vizzu@latest/dist/vizzu.min.js';\n",
       "\n",
       "let chart = new Vizzu('myVizzu_140682046531440');\n",
       "chart.initializing.then( chart => {\n",
       "\n",
       "chart.animate({\"data\": {\"dimensions\": [{\"name\": \"Genres\", \"values\": [\"Pop\", \"Rock\", \"Jazz\", \"Metal\"]}, {\"name\": \"Types\", \"values\": [\"Hard\", \"Smooth\", \"Experimental\"]}], \"measures\": [{\"name\": \"Popularity\", \"values\": [[114, 96, 78, 52], [56, 36, 174, 121], [127, 83, 94, 58]]}]}});\n",
       "chart.animate({\"config\": {\"channels\": {\"y\": {\"set\": [\"Popularity\", \"Types\"]}, \"x\": {\"set\": \"Genres\"}, \"label\": {\"attach\": \"Popularity\"}}, \"color\": {\"attach\": \"Types\"}, \"title\": \"Axis range set proportionally to shown values\"}});\n",
       "chart.animate({\"config\": {\"channels\": {\"y\": {\"range\": {\"max\": \"150%\"}}}}});\n",
       "} );\n",
       "</script>"
      ]
     },
     "metadata": {},
     "output_type": "display_data"
    }
   ],
   "source": [
    "from ipyvizzu import Chart, Config\n",
    "from data_examples import music_example_data\n",
    "\n",
    "chart = Chart()\n",
    "chart.animate(music_example_data)\n",
    "\n",
    "chart.animate(Config({\n",
    "    \"channels\": {\n",
    "        \"y\": {\n",
    "            \"set\": [\"Popularity\", \"Types\"]\n",
    "        }, \n",
    "        \"x\": {\n",
    "            \"set\": \"Genres\"\n",
    "        },\n",
    "        \"label\": {\n",
    "            \"attach\": \"Popularity\"\n",
    "        }\n",
    "    },\n",
    "    \"color\": {\n",
    "        \"attach\": \"Types\"\n",
    "    },\n",
    "    \"title\": \"Axis range set proportionally to shown values\"\n",
    "}))\n",
    "\n",
    "chart.animate(Config({\n",
    "    \"channels\": {\n",
    "        \"y\": {\n",
    "            \"range\": {\n",
    "                \"max\": \"150%\"\n",
    "            }\n",
    "        }\n",
    "    }\n",
    "}))\n",
    "\n",
    "chart.show()"
   ]
  },
  {
   "cell_type": "markdown",
   "id": "119ea887",
   "metadata": {},
   "source": [
    "You can also set the range for an axis with a dimension on it. You can even use this feature to filter certain elements, just like in the following example."
   ]
  },
  {
   "cell_type": "code",
   "execution_count": 5,
   "id": "aeeeb6a4",
   "metadata": {},
   "outputs": [
    {
     "data": {
      "text/html": [
       "\n",
       "<div id=\"myVizzu_140682046537392\" style=\"width:800px; height:480px;\" />\n",
       "<script type=\"module\">\n",
       "import Vizzu from 'https://cdn.jsdelivr.net/npm/vizzu@latest/dist/vizzu.min.js';\n",
       "\n",
       "let chart = new Vizzu('myVizzu_140682046537392');\n",
       "chart.initializing.then( chart => {\n",
       "\n",
       "chart.animate({\"data\": {\"dimensions\": [{\"name\": \"Genres\", \"values\": [\"Pop\", \"Rock\", \"Jazz\", \"Metal\"]}, {\"name\": \"Types\", \"values\": [\"Hard\", \"Smooth\", \"Experimental\"]}], \"measures\": [{\"name\": \"Popularity\", \"values\": [[114, 96, 78, 52], [56, 36, 174, 121], [127, 83, 94, 58]]}]}});\n",
       "chart.animate({\"config\": {\"channels\": {\"y\": {\"set\": [\"Popularity\", \"Types\"], \"range\": {\"max\": \"150%\"}}, \"x\": {\"set\": \"Genres\"}, \"label\": {\"attach\": \"Popularity\"}}, \"color\": {\"attach\": \"Types\"}, \"title\": \"Axis range set explicitly on an axis with discrete series\"}});\n",
       "chart.animate({\"config\": {\"channels\": {\"x\": {\"range\": {\"min\": -2, \"max\": 3}}}}});\n",
       "} );\n",
       "</script>"
      ]
     },
     "metadata": {},
     "output_type": "display_data"
    }
   ],
   "source": [
    "from ipyvizzu import Chart, Config\n",
    "from data_examples import music_example_data\n",
    "\n",
    "chart = Chart()\n",
    "chart.animate(music_example_data)\n",
    "\n",
    "chart.animate(Config({\n",
    "    \"channels\": {\n",
    "        \"y\": {\n",
    "            \"set\": [\"Popularity\", \"Types\"],\n",
    "            \"range\": {\n",
    "                \"max\": \"150%\"\n",
    "            }\n",
    "        }, \n",
    "        \"x\": {\n",
    "            \"set\": \"Genres\"\n",
    "        },\n",
    "        \"label\": {\n",
    "            \"attach\": \"Popularity\"\n",
    "        }\n",
    "    },\n",
    "    \"color\": {\n",
    "        \"attach\": \"Types\"\n",
    "    },\n",
    "    \"title\": \"Axis range set explicitly on an axis with discrete series\"\n",
    "}))\n",
    "\n",
    "chart.animate(Config({\n",
    "    \"channels\": {\n",
    "        \"x\": {\n",
    "            \"range\": {\n",
    "                \"min\": -2,\n",
    "                \"max\": 3,\n",
    "            }\n",
    "        }\n",
    "    }\n",
    "}))\n",
    "\n",
    "chart.show()"
   ]
  },
  {
   "cell_type": "markdown",
   "id": "8d504699",
   "metadata": {},
   "source": [
    "Ranges have certain defaults depending on the chart's configuration, based on common data viz guidelines because we wanted to make it easy for you to create sleek charts. For example, in the cartesian coordinate system, the range will be automatically set to the max:110% for an axis with a measure on it. Polar coordinates work differently, as you can see for yourself in the Orientation, split & polar chapter.\n",
    "\n",
    "Whenever you want to set your ranges back to the default value, just set them to ‘auto’."
   ]
  },
  {
   "cell_type": "code",
   "execution_count": 6,
   "id": "db518966",
   "metadata": {},
   "outputs": [
    {
     "data": {
      "text/html": [
       "\n",
       "<div id=\"myVizzu_140682046128624\" style=\"width:800px; height:480px;\" />\n",
       "<script type=\"module\">\n",
       "import Vizzu from 'https://cdn.jsdelivr.net/npm/vizzu@latest/dist/vizzu.min.js';\n",
       "\n",
       "let chart = new Vizzu('myVizzu_140682046128624');\n",
       "chart.initializing.then( chart => {\n",
       "\n",
       "chart.animate({\"data\": {\"dimensions\": [{\"name\": \"Genres\", \"values\": [\"Pop\", \"Rock\", \"Jazz\", \"Metal\"]}, {\"name\": \"Types\", \"values\": [\"Hard\", \"Smooth\", \"Experimental\"]}], \"measures\": [{\"name\": \"Popularity\", \"values\": [[114, 96, 78, 52], [56, 36, 174, 121], [127, 83, 94, 58]]}]}});\n",
       "chart.animate({\"config\": {\"channels\": {\"y\": {\"set\": [\"Popularity\", \"Types\"], \"range\": {\"max\": \"150%\"}}, \"x\": {\"set\": \"Genres\", \"range\": {\"min\": -2, \"max\": 3}}, \"label\": {\"attach\": \"Popularity\"}}, \"color\": {\"attach\": \"Types\"}, \"title\": \"Back to the default ranges\"}});\n",
       "chart.animate({\"config\": {\"channels\": {\"y\": {\"range\": {\"max\": \"auto\"}}, \"x\": {\"range\": {\"min\": \"auto\", \"max\": \"auto\"}}}}});\n",
       "} );\n",
       "</script>"
      ]
     },
     "metadata": {},
     "output_type": "display_data"
    }
   ],
   "source": [
    "from ipyvizzu import Chart, Config\n",
    "from data_examples import music_example_data\n",
    "\n",
    "chart = Chart()\n",
    "chart.animate(music_example_data)\n",
    "\n",
    "chart.animate(Config({\n",
    "    \"channels\": {\n",
    "        \"y\": {\n",
    "            \"set\": [\"Popularity\", \"Types\"],\n",
    "            \"range\": {\n",
    "                \"max\": \"150%\"\n",
    "            }\n",
    "        }, \n",
    "        \"x\": {\n",
    "            \"set\": \"Genres\",\n",
    "            \"range\": {\n",
    "                \"min\": -2,\n",
    "                \"max\": 3,\n",
    "            }\n",
    "        },\n",
    "        \"label\": {\n",
    "            \"attach\": \"Popularity\"\n",
    "        }\n",
    "    },\n",
    "    \"color\": {\n",
    "        \"attach\": \"Types\"\n",
    "    },\n",
    "    \"title\": \"Back to the default ranges\"\n",
    "}))\n",
    "\n",
    "chart.animate(Config({\n",
    "    \"channels\": {\n",
    "        \"y\": {\n",
    "            \"range\": {\n",
    "                \"max\": \"auto\"\n",
    "            }\n",
    "        },\n",
    "        \"x\": {\n",
    "            \"range\": {\n",
    "                \"min\": \"auto\",\n",
    "                \"max\": \"auto\",\n",
    "            }\n",
    "        }\n",
    "    }\n",
    "}))\n",
    "\n",
    "chart.show()"
   ]
  }
 ],
 "metadata": {
  "kernelspec": {
   "display_name": "Python 3 (ipykernel)",
   "language": "python",
   "name": "python3"
  },
  "language_info": {
   "codemirror_mode": {
    "name": "ipython",
    "version": 3
   },
   "file_extension": ".py",
   "mimetype": "text/x-python",
   "name": "python",
   "nbconvert_exporter": "python",
   "pygments_lexer": "ipython3",
   "version": "3.10.1"
  }
 },
 "nbformat": 4,
 "nbformat_minor": 5
}
