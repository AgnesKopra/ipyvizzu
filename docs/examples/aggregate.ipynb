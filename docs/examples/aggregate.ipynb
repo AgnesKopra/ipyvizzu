{
 "cells": [
  {
   "cell_type": "markdown",
   "id": "e582c95b",
   "metadata": {},
   "source": [
    "## Aggregate/drill-down\n",
    "\n",
    "These features basically mean that you add or remove an additional dimension to/from an axis or another channel. As you can see below, there are some important things to keep in mind when you use them.\n",
    "\n",
    "Let’s stack together the elements by putting the Genres dimension from the x-axis to the y-axis. At the end of this phase, there are chart elements with the same color stacked on top of each other, which is something you would want to avoid."
   ]
  },
  {
   "cell_type": "code",
   "execution_count": 1,
   "id": "6cae8fe1",
   "metadata": {},
   "outputs": [
    {
     "data": {
      "text/html": [
       "<script id=\"myVizzu_89774be\">\n",
       "    document.getElementById(\"myVizzu_89774be\").parentNode.style.padding = \"0px\";\n",
       "</script>\n",
       "<div id=\"myVizzu_f89ddee\" style=\"width:800px; height:480px;\"/>\n",
       "<script>\n",
       "    let myVizzu_f89ddee = document.getElementById(\"myVizzu_f89ddee\")\n",
       "    let chart_f89ddee = import(\"https://cdn.jsdelivr.net/npm/vizzu@~0.4.0/dist/vizzu.min.js\").then(Vizzu => new Vizzu.default(\"myVizzu_f89ddee\").initializing);\n",
       "</script>"
      ]
     },
     "metadata": {},
     "output_type": "display_data"
    },
    {
     "data": {
      "text/html": [
       "<script id=\"myVizzu_441997f\">\n",
       "    document.getElementById(\"myVizzu_441997f\").parentNode.style.padding = \"0px\";\n",
       "</script>\n",
       "<div id=\"myVizzu_fe42eef\"/>\n",
       "<script>\n",
       "    chart_f89ddee = chart_f89ddee.then(chart => {\n",
       "        document.getElementById(\"myVizzu_fe42eef\").appendChild(myVizzu_f89ddee);\n",
       "        return chart.animate({\"data\": {\"dimensions\": [{\"name\": \"Genres\", \"values\": [\"Pop\", \"Rock\", \"Jazz\", \"Metal\"]}, {\"name\": \"Types\", \"values\": [\"Hard\", \"Smooth\", \"Experimental\"]}], \"measures\": [{\"name\": \"Popularity\", \"values\": [[114, 96, 78, 52], [56, 36, 174, 121], [127, 83, 94, 58]]}]}})\n",
       "    });\n",
       "</script>"
      ]
     },
     "metadata": {},
     "output_type": "display_data"
    },
    {
     "data": {
      "text/html": [
       "<script id=\"myVizzu_040657f\">\n",
       "    document.getElementById(\"myVizzu_040657f\").parentNode.style.padding = \"0px\";\n",
       "</script>\n",
       "<div id=\"myVizzu_674e817\"/>\n",
       "<script>\n",
       "    chart_f89ddee = chart_f89ddee.then(chart => {\n",
       "        document.getElementById(\"myVizzu_674e817\").appendChild(myVizzu_f89ddee);\n",
       "        return chart.animate({\"config\": {\"channels\": {\"y\": {\"set\": [\"Popularity\", \"Types\"]}, \"x\": {\"set\": \"Genres\"}, \"label\": {\"attach\": \"Popularity\"}}, \"color\": {\"attach\": \"Types\"}, \"title\": \"Stack\"}})\n",
       "    });\n",
       "</script>"
      ]
     },
     "metadata": {},
     "output_type": "display_data"
    },
    {
     "data": {
      "text/html": [
       "<script id=\"myVizzu_7005e3f\">\n",
       "    document.getElementById(\"myVizzu_7005e3f\").parentNode.style.padding = \"0px\";\n",
       "</script>\n",
       "<div id=\"myVizzu_be1261b\"/>\n",
       "<script>\n",
       "    chart_f89ddee = chart_f89ddee.then(chart => {\n",
       "        document.getElementById(\"myVizzu_be1261b\").appendChild(myVizzu_f89ddee);\n",
       "        return chart.animate({\"config\": {\"channels\": {\"y\": {\"attach\": \"Genres\"}, \"x\": {\"set\": null}}}})\n",
       "    });\n",
       "</script>"
      ]
     },
     "metadata": {},
     "output_type": "display_data"
    },
    {
     "data": {
      "text/html": [
       "<script id=\"myVizzu_27e7975\">\n",
       "    document.getElementById(\"myVizzu_27e7975\").parentNode.style.padding = \"0px\";\n",
       "</script>\n",
       "<script>\n",
       "    let snapshot_452dfca;\n",
       "    chart_f89ddee = chart_f89ddee.then(chart => {\n",
       "        snapshot_452dfca = chart.store();\n",
       "        return chart;\n",
       "    });\n",
       "</script>"
      ]
     },
     "metadata": {},
     "output_type": "display_data"
    }
   ],
   "source": [
    "from ipyvizzu import Chart, Data, Config\n",
    "\n",
    "chart = Chart()\n",
    "\n",
    "data = Data.from_json(\"../data/music_example_data.json\")\n",
    "\n",
    "chart.animate(data)\n",
    "\n",
    "chart.animate(Config({\n",
    "    \"channels\": {\n",
    "        \"y\": {\n",
    "            \"set\": [\"Popularity\", \"Types\"]\n",
    "        }, \n",
    "        \"x\": {\n",
    "            \"set\": \"Genres\"\n",
    "        },\n",
    "        \"label\": {\n",
    "            \"attach\": \"Popularity\"\n",
    "        }\n",
    "    },\n",
    "    \"color\": {\n",
    "        \"attach\": \"Types\"\n",
    "    },\n",
    "    \"title\": \"Stack\"\n",
    "}))\n",
    "\n",
    "chart.animate(Config({\n",
    "    \"channels\": {\n",
    "        \"y\": {\n",
    "            \"attach\": \"Genres\",\n",
    "        },\n",
    "        \"x\": {\n",
    "            \"set\": None\n",
    "        }\n",
    "    }\n",
    "}))\n",
    "\n",
    "snapshot1 = chart.store()"
   ]
  },
  {
   "cell_type": "markdown",
   "id": "5f11abdd",
   "metadata": {},
   "source": [
    "By taking the Genres off of the y-axis, only one chart element remains for every color, and Vizzu automatically calculates and shows the aggregate value of the elements.\n",
    "\n",
    "Note: Instead of taking the unwanted dimension down from the chart, Genres could have been added to the lightness channel to differentiate the chart elements."
   ]
  },
  {
   "cell_type": "code",
   "execution_count": 2,
   "id": "fca41144",
   "metadata": {},
   "outputs": [
    {
     "data": {
      "text/html": [
       "<script id=\"myVizzu_bbb822a\">\n",
       "    document.getElementById(\"myVizzu_bbb822a\").parentNode.style.padding = \"0px\";\n",
       "</script>\n",
       "<div id=\"myVizzu_851a884\"/>\n",
       "<script>\n",
       "    chart_f89ddee = chart_f89ddee.then(chart => {\n",
       "        document.getElementById(\"myVizzu_851a884\").appendChild(myVizzu_f89ddee);\n",
       "        return chart.animate(snapshot_452dfca)\n",
       "    });\n",
       "</script>"
      ]
     },
     "metadata": {},
     "output_type": "display_data"
    },
    {
     "data": {
      "text/html": [
       "<script id=\"myVizzu_d116951\">\n",
       "    document.getElementById(\"myVizzu_d116951\").parentNode.style.padding = \"0px\";\n",
       "</script>\n",
       "<div id=\"myVizzu_9ef8575\"/>\n",
       "<script>\n",
       "    chart_f89ddee = chart_f89ddee.then(chart => {\n",
       "        document.getElementById(\"myVizzu_9ef8575\").appendChild(myVizzu_f89ddee);\n",
       "        return chart.animate({\"config\": {\"title\": \"Aggregate element\"}})\n",
       "    });\n",
       "</script>"
      ]
     },
     "metadata": {},
     "output_type": "display_data"
    },
    {
     "data": {
      "text/html": [
       "<script id=\"myVizzu_6e4eba5\">\n",
       "    document.getElementById(\"myVizzu_6e4eba5\").parentNode.style.padding = \"0px\";\n",
       "</script>\n",
       "<div id=\"myVizzu_f720742\"/>\n",
       "<script>\n",
       "    chart_f89ddee = chart_f89ddee.then(chart => {\n",
       "        document.getElementById(\"myVizzu_f720742\").appendChild(myVizzu_f89ddee);\n",
       "        return chart.animate({\"config\": {\"channels\": {\"y\": {\"detach\": \"Genres\"}}}})\n",
       "    });\n",
       "</script>"
      ]
     },
     "metadata": {},
     "output_type": "display_data"
    },
    {
     "data": {
      "text/html": [
       "<script id=\"myVizzu_0dd0cf2\">\n",
       "    document.getElementById(\"myVizzu_0dd0cf2\").parentNode.style.padding = \"0px\";\n",
       "</script>\n",
       "<script>\n",
       "    let snapshot_85aff06;\n",
       "    chart_f89ddee = chart_f89ddee.then(chart => {\n",
       "        snapshot_85aff06 = chart.store();\n",
       "        return chart;\n",
       "    });\n",
       "</script>"
      ]
     },
     "metadata": {},
     "output_type": "display_data"
    }
   ],
   "source": [
    "chart.animate(snapshot1)\n",
    "\n",
    "chart.animate(Config({\"title\": \"Aggregate element\"}))\n",
    "\n",
    "chart.animate(Config({\n",
    "    \"channels\": {\n",
    "        \"y\": {\n",
    "            \"detach\": \"Genres\",\n",
    "        },\n",
    "    }\n",
    "}))\n",
    "\n",
    "snapshot2 = chart.store()"
   ]
  },
  {
   "cell_type": "markdown",
   "id": "4782dfe9",
   "metadata": {},
   "source": [
    "To drill-down, the same dimension is put back on the y-axis, which results in a state that we suggest you to only use temporarily when in transition."
   ]
  },
  {
   "cell_type": "code",
   "execution_count": 3,
   "id": "e99596c4",
   "metadata": {},
   "outputs": [
    {
     "data": {
      "text/html": [
       "<script id=\"myVizzu_a479593\">\n",
       "    document.getElementById(\"myVizzu_a479593\").parentNode.style.padding = \"0px\";\n",
       "</script>\n",
       "<div id=\"myVizzu_3ddcd2b\"/>\n",
       "<script>\n",
       "    chart_f89ddee = chart_f89ddee.then(chart => {\n",
       "        document.getElementById(\"myVizzu_3ddcd2b\").appendChild(myVizzu_f89ddee);\n",
       "        return chart.animate(snapshot_85aff06)\n",
       "    });\n",
       "</script>"
      ]
     },
     "metadata": {},
     "output_type": "display_data"
    },
    {
     "data": {
      "text/html": [
       "<script id=\"myVizzu_f124776\">\n",
       "    document.getElementById(\"myVizzu_f124776\").parentNode.style.padding = \"0px\";\n",
       "</script>\n",
       "<div id=\"myVizzu_4c6d9cf\"/>\n",
       "<script>\n",
       "    chart_f89ddee = chart_f89ddee.then(chart => {\n",
       "        document.getElementById(\"myVizzu_4c6d9cf\").appendChild(myVizzu_f89ddee);\n",
       "        return chart.animate({\"config\": {\"title\": \"Drill-down\"}})\n",
       "    });\n",
       "</script>"
      ]
     },
     "metadata": {},
     "output_type": "display_data"
    },
    {
     "data": {
      "text/html": [
       "<script id=\"myVizzu_033b2b5\">\n",
       "    document.getElementById(\"myVizzu_033b2b5\").parentNode.style.padding = \"0px\";\n",
       "</script>\n",
       "<div id=\"myVizzu_705fe05\"/>\n",
       "<script>\n",
       "    chart_f89ddee = chart_f89ddee.then(chart => {\n",
       "        document.getElementById(\"myVizzu_705fe05\").appendChild(myVizzu_f89ddee);\n",
       "        return chart.animate({\"config\": {\"channels\": {\"y\": {\"attach\": \"Genres\"}}}})\n",
       "    });\n",
       "</script>"
      ]
     },
     "metadata": {},
     "output_type": "display_data"
    },
    {
     "data": {
      "text/html": [
       "<script id=\"myVizzu_e6937d7\">\n",
       "    document.getElementById(\"myVizzu_e6937d7\").parentNode.style.padding = \"0px\";\n",
       "</script>\n",
       "<script>\n",
       "    let snapshot_0ef1c09;\n",
       "    chart_f89ddee = chart_f89ddee.then(chart => {\n",
       "        snapshot_0ef1c09 = chart.store();\n",
       "        return chart;\n",
       "    });\n",
       "</script>"
      ]
     },
     "metadata": {},
     "output_type": "display_data"
    }
   ],
   "source": [
    "chart.animate(snapshot2)\n",
    "\n",
    "chart.animate(Config({\"title\": \"Drill-down\"}))\n",
    "\n",
    "chart.animate(Config({\n",
    "    \"channels\": {\n",
    "        \"y\": {\n",
    "            \"attach\": \"Genres\",\n",
    "        },\n",
    "    }\n",
    "}))\n",
    "\n",
    "snapshot3 = chart.store()"
   ]
  },
  {
   "cell_type": "markdown",
   "id": "f971cdc5",
   "metadata": {},
   "source": [
    "We group the elements by putting once again the Genres dimension on the x-axis."
   ]
  },
  {
   "cell_type": "code",
   "execution_count": 4,
   "id": "5735f1e9",
   "metadata": {},
   "outputs": [
    {
     "data": {
      "text/html": [
       "<script id=\"myVizzu_c3f1daf\">\n",
       "    document.getElementById(\"myVizzu_c3f1daf\").parentNode.style.padding = \"0px\";\n",
       "</script>\n",
       "<div id=\"myVizzu_5f45c71\"/>\n",
       "<script>\n",
       "    chart_f89ddee = chart_f89ddee.then(chart => {\n",
       "        document.getElementById(\"myVizzu_5f45c71\").appendChild(myVizzu_f89ddee);\n",
       "        return chart.animate(snapshot_0ef1c09)\n",
       "    });\n",
       "</script>"
      ]
     },
     "metadata": {},
     "output_type": "display_data"
    },
    {
     "data": {
      "text/html": [
       "<script id=\"myVizzu_835b81a\">\n",
       "    document.getElementById(\"myVizzu_835b81a\").parentNode.style.padding = \"0px\";\n",
       "</script>\n",
       "<div id=\"myVizzu_5dedf02\"/>\n",
       "<script>\n",
       "    chart_f89ddee = chart_f89ddee.then(chart => {\n",
       "        document.getElementById(\"myVizzu_5dedf02\").appendChild(myVizzu_f89ddee);\n",
       "        return chart.animate({\"config\": {\"title\": \"Group\"}})\n",
       "    });\n",
       "</script>"
      ]
     },
     "metadata": {},
     "output_type": "display_data"
    },
    {
     "data": {
      "text/html": [
       "<script id=\"myVizzu_f1898b2\">\n",
       "    document.getElementById(\"myVizzu_f1898b2\").parentNode.style.padding = \"0px\";\n",
       "</script>\n",
       "<div id=\"myVizzu_8e0fa21\"/>\n",
       "<script>\n",
       "    chart_f89ddee = chart_f89ddee.then(chart => {\n",
       "        document.getElementById(\"myVizzu_8e0fa21\").appendChild(myVizzu_f89ddee);\n",
       "        return chart.animate({\"config\": {\"channels\": {\"y\": {\"detach\": \"Genres\"}, \"x\": {\"set\": \"Genres\"}}}})\n",
       "    });\n",
       "</script>"
      ]
     },
     "metadata": {},
     "output_type": "display_data"
    }
   ],
   "source": [
    "chart.animate(snapshot3)\n",
    "\n",
    "chart.animate(Config({\"title\": \"Group\"}))\n",
    "\n",
    "chart.animate(Config({\n",
    "    \"channels\": {\n",
    "        \"y\": {\n",
    "            \"detach\": \"Genres\",\n",
    "        },\n",
    "        \"x\": {\n",
    "            \"set\": \"Genres\",\n",
    "        }\n",
    "    }\n",
    "}))"
   ]
  }
 ],
 "metadata": {
  "kernelspec": {
   "display_name": "Python 3 (ipykernel)",
   "language": "python",
   "name": "python3"
  },
  "language_info": {
   "codemirror_mode": {
    "name": "ipython",
    "version": 3
   },
   "file_extension": ".py",
   "mimetype": "text/x-python",
   "name": "python",
   "nbconvert_exporter": "python",
   "pygments_lexer": "ipython3",
   "version": "3.8.10"
  }
 },
 "nbformat": 4,
 "nbformat_minor": 5
}
