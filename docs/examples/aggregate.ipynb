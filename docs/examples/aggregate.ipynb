{
 "cells": [
  {
   "cell_type": "markdown",
   "id": "e582c95b",
   "metadata": {},
   "source": [
    "## Aggregate/drill-down\n",
    "\n",
    "These features basically mean that you add or remove an additional dimension to/from an axis or another channel. As you can see below, there are some important things to keep in mind when you use them.\n",
    "\n",
    "Let’s stack together the elements by putting the Genres dimension from the x-axis to the y-axis. At the end of this phase, there are chart elements with the same color stacked on top of each other, which is something you would want to avoid. "
   ]
  },
  {
   "cell_type": "code",
   "execution_count": 27,
   "id": "6cae8fe1",
   "metadata": {},
   "outputs": [
    {
     "data": {
      "text/html": [
       "\n",
       "<div id=\"myVizzu_140368440684656\" style=\"width:800px; height:480px;\" />\n",
       "<script type=\"module\">\n",
       "import Vizzu from 'https://cdn.jsdelivr.net/npm/vizzu@latest/dist/vizzu.min.js';\n",
       "\n",
       "let chart = new Vizzu('myVizzu_140368440684656');\n",
       "chart.initializing.then( chart => {\n",
       "\n",
       "chart.animate({\"data\": {\"dimensions\": [{\"name\": \"Genres\", \"values\": [\"Pop\", \"Rock\", \"Jazz\", \"Metal\"]}, {\"name\": \"Types\", \"values\": [\"Hard\", \"Smooth\", \"Experimental\"]}], \"measures\": [{\"name\": \"Popularity\", \"values\": [[114, 96, 78, 52], [56, 36, 174, 121], [127, 83, 94, 58]]}]}});\n",
       "chart.animate({\"config\": {\"channels\": {\"y\": {\"set\": \"Popularity\"}, \"x\": {\"set\": \"Genres\"}}}});\n",
       "chart.animate({\"config\": {\"channels\": {\"label\": {\"attach\": [\"Popularity\"]}}}});\n",
       "chart.animate({\"config\": {\"color\": {\"set\": [\"Genres\"]}}});\n",
       "chart.animate({\"config\": {\"channels\": {\"y\": {\"attach\": [\"Genres\"]}, \"x\": {\"set\": null}}}});\n",
       "} );\n",
       "</script>"
      ]
     },
     "metadata": {},
     "output_type": "display_data"
    }
   ],
   "source": [
    "import ipyvizzu\n",
    "\n",
    "data = ipyvizzu.Data()\n",
    "\n",
    "data.add_dimension('Genres', [ 'Pop', 'Rock', 'Jazz', 'Metal'])\n",
    "data.add_dimension('Types', [ 'Hard', 'Smooth', 'Experimental' ])\n",
    "\n",
    "data.add_measure(\n",
    "    'Popularity',\n",
    "    [\n",
    "        [114, 96, 78, 52],\n",
    "        [56, 36, 174, 121],\n",
    "        [127, 83, 94, 58],\n",
    "    ]\n",
    ")\n",
    "\n",
    "chart = ipyvizzu.Chart()\n",
    "chart.set_data(data)\n",
    "chart.set_config({\"channels\": {\"y\": {\"set\": \"Popularity\"}, \"x\": {\"set\": \"Genres\"}}})\n",
    "chart.set_config({\"channels\": {\"label\": {\"attach\": [\"Popularity\"]}}})\n",
    "chart.set_config({\"color\": {\"set\": [\"Genres\"]}})\n",
    "chart.set_config({\n",
    "    \"channels\": {\n",
    "        \"y\": {\n",
    "            \"attach\": [\"Genres\"],\n",
    "        },\n",
    "        \"x\": {\n",
    "            \"set\": None\n",
    "        }\n",
    "    }\n",
    "})\n",
    "\n",
    "chart.show()"
   ]
  },
  {
   "cell_type": "markdown",
   "id": "5f11abdd",
   "metadata": {},
   "source": [
    "By taking the Genres off of the y-axis, only one chart element remains for every color, and Vizzu automatically calculates and shows the aggregate value of the elements.\n",
    "\n",
    "Note: Instead of taking the unwanted dimension down from the chart, Genres could have been added to the lightness channel to differentiate the chart elements."
   ]
  },
  {
   "cell_type": "code",
   "execution_count": 28,
   "id": "fca41144",
   "metadata": {},
   "outputs": [
    {
     "data": {
      "text/html": [
       "\n",
       "<div id=\"myVizzu_140368440674144\" style=\"width:800px; height:480px;\" />\n",
       "<script type=\"module\">\n",
       "import Vizzu from 'https://cdn.jsdelivr.net/npm/vizzu@latest/dist/vizzu.min.js';\n",
       "\n",
       "let chart = new Vizzu('myVizzu_140368440674144');\n",
       "chart.initializing.then( chart => {\n",
       "\n",
       "chart.animate({\"data\": {\"dimensions\": [{\"name\": \"Genres\", \"values\": [\"Pop\", \"Rock\", \"Jazz\", \"Metal\"]}, {\"name\": \"Types\", \"values\": [\"Hard\", \"Smooth\", \"Experimental\"]}], \"measures\": [{\"name\": \"Popularity\", \"values\": [[114, 96, 78, 52], [56, 36, 174, 121], [127, 83, 94, 58]]}]}});\n",
       "chart.animate({\"config\": {\"channels\": {\"y\": {\"set\": \"Popularity\"}, \"x\": {\"set\": \"Genres\"}}}});\n",
       "chart.animate({\"config\": {\"channels\": {\"label\": {\"attach\": [\"Popularity\"]}}}});\n",
       "chart.animate({\"config\": {\"color\": {\"set\": [\"Genres\"]}}});\n",
       "chart.animate({\"config\": {\"channels\": {\"y\": {\"attach\": [\"Genres\"]}, \"x\": {\"set\": null}}}});\n",
       "chart.animate({\"config\": {\"channels\": {\"y\": {\"detach\": [\"Genres\"]}}}});\n",
       "} );\n",
       "</script>"
      ]
     },
     "metadata": {},
     "output_type": "display_data"
    }
   ],
   "source": [
    "import ipyvizzu\n",
    "\n",
    "data = ipyvizzu.Data()\n",
    "\n",
    "data.add_dimension('Genres', [ 'Pop', 'Rock', 'Jazz', 'Metal'])\n",
    "data.add_dimension('Types', [ 'Hard', 'Smooth', 'Experimental' ])\n",
    "\n",
    "data.add_measure(\n",
    "    'Popularity',\n",
    "    [\n",
    "        [114, 96, 78, 52],\n",
    "        [56, 36, 174, 121],\n",
    "        [127, 83, 94, 58],\n",
    "    ]\n",
    ")\n",
    "\n",
    "chart = ipyvizzu.Chart()\n",
    "chart.set_data(data)\n",
    "chart.set_config({\"channels\": {\"y\": {\"set\": \"Popularity\"}, \"x\": {\"set\": \"Genres\"}}})\n",
    "chart.set_config({\"channels\": {\"label\": {\"attach\": [\"Popularity\"]}}})\n",
    "chart.set_config({\"color\": {\"set\": [\"Genres\"]}})\n",
    "chart.set_config({\n",
    "    \"channels\": {\n",
    "        \"y\": {\n",
    "            \"attach\": [\"Genres\"],\n",
    "        },\n",
    "        \"x\": {\n",
    "            \"set\": None\n",
    "        }\n",
    "    }\n",
    "})\n",
    "chart.set_config({\n",
    "    \"channels\": {\n",
    "        \"y\": {\n",
    "            \"detach\": [\"Genres\"],\n",
    "        },\n",
    "    }\n",
    "})\n",
    "\n",
    "chart.show()"
   ]
  },
  {
   "cell_type": "markdown",
   "id": "4782dfe9",
   "metadata": {},
   "source": [
    "To drill-down, the same dimension is put back on the y-axis, which results in a state that we suggest you to only use temporarily when in transition."
   ]
  },
  {
   "cell_type": "code",
   "execution_count": 29,
   "id": "e99596c4",
   "metadata": {},
   "outputs": [
    {
     "data": {
      "text/html": [
       "\n",
       "<div id=\"myVizzu_140368440682832\" style=\"width:800px; height:480px;\" />\n",
       "<script type=\"module\">\n",
       "import Vizzu from 'https://cdn.jsdelivr.net/npm/vizzu@latest/dist/vizzu.min.js';\n",
       "\n",
       "let chart = new Vizzu('myVizzu_140368440682832');\n",
       "chart.initializing.then( chart => {\n",
       "\n",
       "chart.animate({\"data\": {\"dimensions\": [{\"name\": \"Genres\", \"values\": [\"Pop\", \"Rock\", \"Jazz\", \"Metal\"]}, {\"name\": \"Types\", \"values\": [\"Hard\", \"Smooth\", \"Experimental\"]}], \"measures\": [{\"name\": \"Popularity\", \"values\": [[114, 96, 78, 52], [56, 36, 174, 121], [127, 83, 94, 58]]}]}});\n",
       "chart.animate({\"config\": {\"channels\": {\"y\": {\"set\": \"Popularity\"}, \"x\": {\"set\": \"Genres\"}}}});\n",
       "chart.animate({\"config\": {\"channels\": {\"label\": {\"attach\": [\"Popularity\"]}}}});\n",
       "chart.animate({\"config\": {\"color\": {\"set\": [\"Genres\"]}}});\n",
       "chart.animate({\"config\": {\"channels\": {\"y\": {\"attach\": [\"Genres\"]}, \"x\": {\"set\": null}}}});\n",
       "chart.animate({\"config\": {\"channels\": {\"y\": {\"detach\": [\"Genres\"]}}}});\n",
       "chart.animate({\"config\": {\"channels\": {\"y\": {\"attach\": [\"Genres\"]}}}});\n",
       "} );\n",
       "</script>"
      ]
     },
     "metadata": {},
     "output_type": "display_data"
    }
   ],
   "source": [
    "import ipyvizzu\n",
    "\n",
    "data = ipyvizzu.Data()\n",
    "\n",
    "data.add_dimension('Genres', [ 'Pop', 'Rock', 'Jazz', 'Metal'])\n",
    "data.add_dimension('Types', [ 'Hard', 'Smooth', 'Experimental' ])\n",
    "\n",
    "data.add_measure(\n",
    "    'Popularity',\n",
    "    [\n",
    "        [114, 96, 78, 52],\n",
    "        [56, 36, 174, 121],\n",
    "        [127, 83, 94, 58],\n",
    "    ]\n",
    ")\n",
    "\n",
    "chart = ipyvizzu.Chart()\n",
    "chart.set_data(data)\n",
    "chart.set_config({\"channels\": {\"y\": {\"set\": \"Popularity\"}, \"x\": {\"set\": \"Genres\"}}})\n",
    "chart.set_config({\"channels\": {\"label\": {\"attach\": [\"Popularity\"]}}})\n",
    "chart.set_config({\"color\": {\"set\": [\"Genres\"]}})\n",
    "chart.set_config({\n",
    "    \"channels\": {\n",
    "        \"y\": {\n",
    "            \"attach\": [\"Genres\"],\n",
    "        },\n",
    "        \"x\": {\n",
    "            \"set\": None\n",
    "        }\n",
    "    }\n",
    "})\n",
    "chart.set_config({\n",
    "    \"channels\": {\n",
    "        \"y\": {\n",
    "            \"detach\": [\"Genres\"],\n",
    "        },\n",
    "    }\n",
    "})\n",
    "chart.set_config({\n",
    "    \"channels\": {\n",
    "        \"y\": {\n",
    "            \"attach\": [\"Genres\"],\n",
    "        },\n",
    "    }\n",
    "})\n",
    "\n",
    "chart.show()"
   ]
  },
  {
   "cell_type": "markdown",
   "id": "f971cdc5",
   "metadata": {},
   "source": [
    "We group the elements by putting once again the Genres dimension on the x-axis."
   ]
  },
  {
   "cell_type": "code",
   "execution_count": 30,
   "id": "5735f1e9",
   "metadata": {},
   "outputs": [
    {
     "data": {
      "text/html": [
       "\n",
       "<div id=\"myVizzu_140368440701376\" style=\"width:800px; height:480px;\" />\n",
       "<script type=\"module\">\n",
       "import Vizzu from 'https://cdn.jsdelivr.net/npm/vizzu@latest/dist/vizzu.min.js';\n",
       "\n",
       "let chart = new Vizzu('myVizzu_140368440701376');\n",
       "chart.initializing.then( chart => {\n",
       "\n",
       "chart.animate({\"data\": {\"dimensions\": [{\"name\": \"Genres\", \"values\": [\"Pop\", \"Rock\", \"Jazz\", \"Metal\"]}, {\"name\": \"Types\", \"values\": [\"Hard\", \"Smooth\", \"Experimental\"]}], \"measures\": [{\"name\": \"Popularity\", \"values\": [[114, 96, 78, 52], [56, 36, 174, 121], [127, 83, 94, 58]]}]}});\n",
       "chart.animate({\"config\": {\"channels\": {\"y\": {\"set\": \"Popularity\"}, \"x\": {\"set\": \"Genres\"}}}});\n",
       "chart.animate({\"config\": {\"channels\": {\"label\": {\"attach\": [\"Popularity\"]}}}});\n",
       "chart.animate({\"config\": {\"color\": {\"set\": [\"Genres\"]}}});\n",
       "chart.animate({\"config\": {\"channels\": {\"y\": {\"attach\": [\"Genres\"]}, \"x\": {\"set\": null}}}});\n",
       "chart.animate({\"config\": {\"channels\": {\"y\": {\"detach\": [\"Genres\"]}}}});\n",
       "chart.animate({\"config\": {\"channels\": {\"y\": {\"attach\": [\"Genres\"]}}}});\n",
       "chart.animate({\"config\": {\"channels\": {\"y\": {\"detach\": [\"Genres\"]}, \"x\": {\"set\": [\"Genres\"]}}}});\n",
       "} );\n",
       "</script>"
      ]
     },
     "metadata": {},
     "output_type": "display_data"
    }
   ],
   "source": [
    "import ipyvizzu\n",
    "\n",
    "data = ipyvizzu.Data()\n",
    "\n",
    "data.add_dimension('Genres', [ 'Pop', 'Rock', 'Jazz', 'Metal'])\n",
    "data.add_dimension('Types', [ 'Hard', 'Smooth', 'Experimental' ])\n",
    "\n",
    "data.add_measure(\n",
    "    'Popularity',\n",
    "    [\n",
    "        [114, 96, 78, 52],\n",
    "        [56, 36, 174, 121],\n",
    "        [127, 83, 94, 58],\n",
    "    ]\n",
    ")\n",
    "\n",
    "chart = ipyvizzu.Chart()\n",
    "chart.set_data(data)\n",
    "chart.set_config({\"channels\": {\"y\": {\"set\": \"Popularity\"}, \"x\": {\"set\": \"Genres\"}}})\n",
    "chart.set_config({\"channels\": {\"label\": {\"attach\": [\"Popularity\"]}}})\n",
    "chart.set_config({\"color\": {\"set\": [\"Genres\"]}})\n",
    "chart.set_config({\n",
    "    \"channels\": {\n",
    "        \"y\": {\n",
    "            \"attach\": [\"Genres\"],\n",
    "        },\n",
    "        \"x\": {\n",
    "            \"set\": None,\n",
    "        }\n",
    "    }\n",
    "})\n",
    "chart.set_config({\n",
    "    \"channels\": {\n",
    "        \"y\": {\n",
    "            \"detach\": [\"Genres\"],\n",
    "        },\n",
    "    }\n",
    "})\n",
    "chart.set_config({\n",
    "    \"channels\": {\n",
    "        \"y\": {\n",
    "            \"attach\": [\"Genres\"],\n",
    "        },\n",
    "    }\n",
    "})\n",
    "chart.set_config({\n",
    "    \"channels\": {\n",
    "        \"y\": {\n",
    "            \"detach\": [\"Genres\"],\n",
    "        },\n",
    "        \"x\": {\n",
    "            \"set\": [\"Genres\"],\n",
    "        }\n",
    "    }\n",
    "})\n",
    "\n",
    "chart.show()"
   ]
  }
 ],
 "metadata": {
  "kernelspec": {
   "display_name": "Python 3 (ipykernel)",
   "language": "python",
   "name": "python3"
  },
  "language_info": {
   "codemirror_mode": {
    "name": "ipython",
    "version": 3
   },
   "file_extension": ".py",
   "mimetype": "text/x-python",
   "name": "python",
   "nbconvert_exporter": "python",
   "pygments_lexer": "ipython3",
   "version": "3.10.1"
  }
 },
 "nbformat": 4,
 "nbformat_minor": 5
}
