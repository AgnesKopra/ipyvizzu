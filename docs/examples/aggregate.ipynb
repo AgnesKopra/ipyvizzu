{
 "cells": [
  {
   "cell_type": "markdown",
   "id": "e582c95b",
   "metadata": {},
   "source": [
    "## Aggregate/drill-down\n",
    "\n",
    "These features basically mean that you add or remove an additional dimension to/from an axis or another channel. As you can see below, there are some important things to keep in mind when you use them.\n",
    "\n",
    "Let’s stack together the elements by putting the Genres dimension from the x-axis to the y-axis. At the end of this phase, there are chart elements with the same color stacked on top of each other, which is something you would want to avoid."
   ]
  },
  {
   "cell_type": "code",
   "execution_count": 1,
   "id": "6cae8fe1",
   "metadata": {},
   "outputs": [
    {
     "data": {
      "text/html": [
       "<script id=\"myVizzu_463d734\">\n",
       "        document.getElementById(\"myVizzu_463d734\").parentNode.style.padding = \"0px\";\n",
       "        </script>\n",
       "<div id=\"myVizzu_8014372\" style=\"width:800px; height:480px;\"/>\n",
       "        <script>\n",
       "        let myVizzu_8014372 = document.getElementById(\"myVizzu_8014372\")\n",
       "        let chart_8014372 = import(\"https://cdn.jsdelivr.net/npm/vizzu@~0.4.0/dist/vizzu.min.js\").then(Vizzu => new Vizzu.default(\"myVizzu_8014372\").initializing);\n",
       "        </script>"
      ]
     },
     "metadata": {},
     "output_type": "display_data"
    },
    {
     "data": {
      "text/html": [
       "<script id=\"myVizzu_2c46680\">\n",
       "        document.getElementById(\"myVizzu_2c46680\").parentNode.style.padding = \"0px\";\n",
       "        </script>\n",
       "<div id=\"myVizzu_0192bce\"/>\n",
       "        <script>\n",
       "        \n",
       "        chart_8014372 = chart_8014372.then(chart => {\n",
       "            document.getElementById(\"myVizzu_0192bce\").appendChild(myVizzu_8014372);\n",
       "            return chart.animate({\"data\": {\"dimensions\": [{\"name\": \"Genres\", \"values\": [\"Pop\", \"Rock\", \"Jazz\", \"Metal\"]}, {\"name\": \"Types\", \"values\": [\"Hard\", \"Smooth\", \"Experimental\"]}], \"measures\": [{\"name\": \"Popularity\", \"values\": [[114, 96, 78, 52], [56, 36, 174, 121], [127, 83, 94, 58]]}]}})\n",
       "        });\n",
       "        </script>"
      ]
     },
     "metadata": {},
     "output_type": "display_data"
    },
    {
     "data": {
      "text/html": [
       "<script id=\"myVizzu_32760a0\">\n",
       "        document.getElementById(\"myVizzu_32760a0\").parentNode.style.padding = \"0px\";\n",
       "        </script>\n",
       "<div id=\"myVizzu_24c8ca7\"/>\n",
       "        <script>\n",
       "        \n",
       "        chart_8014372 = chart_8014372.then(chart => {\n",
       "            document.getElementById(\"myVizzu_24c8ca7\").appendChild(myVizzu_8014372);\n",
       "            return chart.animate({\"config\": {\"channels\": {\"y\": {\"set\": [\"Popularity\", \"Types\"]}, \"x\": {\"set\": \"Genres\"}, \"label\": {\"attach\": \"Popularity\"}}, \"color\": {\"attach\": \"Types\"}, \"title\": \"Stack\"}})\n",
       "        });\n",
       "        </script>"
      ]
     },
     "metadata": {},
     "output_type": "display_data"
    },
    {
     "data": {
      "text/html": [
       "<script id=\"myVizzu_207a29f\">\n",
       "        document.getElementById(\"myVizzu_207a29f\").parentNode.style.padding = \"0px\";\n",
       "        </script>\n",
       "<div id=\"myVizzu_3990d0f\"/>\n",
       "        <script>\n",
       "        \n",
       "        chart_8014372 = chart_8014372.then(chart => {\n",
       "            document.getElementById(\"myVizzu_3990d0f\").appendChild(myVizzu_8014372);\n",
       "            return chart.animate({\"config\": {\"channels\": {\"y\": {\"attach\": \"Genres\"}, \"x\": {\"set\": null}}}})\n",
       "        });\n",
       "        </script>"
      ]
     },
     "metadata": {},
     "output_type": "display_data"
    },
    {
     "data": {
      "text/html": [
       "<script id=\"myVizzu_cc200c2\">\n",
       "        document.getElementById(\"myVizzu_cc200c2\").parentNode.style.padding = \"0px\";\n",
       "        </script>\n",
       "<script>\n",
       "        let snapshot_1dcc670;\n",
       "        chart_8014372 = chart_8014372.then(chart => {\n",
       "            snapshot_1dcc670 = chart.store();\n",
       "            return chart;\n",
       "        });\n",
       "        </script>"
      ]
     },
     "metadata": {},
     "output_type": "display_data"
    }
   ],
   "source": [
    "from ipyvizzu import Chart, Data, Config\n",
    "\n",
    "chart = Chart()\n",
    "\n",
    "data = Data.from_json(\"../data/music_example_data.json\")\n",
    "\n",
    "chart.animate(data)\n",
    "\n",
    "chart.animate(Config({\n",
    "    \"channels\": {\n",
    "        \"y\": {\n",
    "            \"set\": [\"Popularity\", \"Types\"]\n",
    "        }, \n",
    "        \"x\": {\n",
    "            \"set\": \"Genres\"\n",
    "        },\n",
    "        \"label\": {\n",
    "            \"attach\": \"Popularity\"\n",
    "        }\n",
    "    },\n",
    "    \"color\": {\n",
    "        \"attach\": \"Types\"\n",
    "    },\n",
    "    \"title\": \"Stack\"\n",
    "}))\n",
    "\n",
    "chart.animate(Config({\n",
    "    \"channels\": {\n",
    "        \"y\": {\n",
    "            \"attach\": \"Genres\",\n",
    "        },\n",
    "        \"x\": {\n",
    "            \"set\": None\n",
    "        }\n",
    "    }\n",
    "}))\n",
    "\n",
    "snapshot1 = chart.store()"
   ]
  },
  {
   "cell_type": "markdown",
   "id": "5f11abdd",
   "metadata": {},
   "source": [
    "By taking the Genres off of the y-axis, only one chart element remains for every color, and Vizzu automatically calculates and shows the aggregate value of the elements.\n",
    "\n",
    "Note: Instead of taking the unwanted dimension down from the chart, Genres could have been added to the lightness channel to differentiate the chart elements."
   ]
  },
  {
   "cell_type": "code",
   "execution_count": 2,
   "id": "fca41144",
   "metadata": {},
   "outputs": [
    {
     "data": {
      "text/html": [
       "<script id=\"myVizzu_e8ddd4f\">\n",
       "        document.getElementById(\"myVizzu_e8ddd4f\").parentNode.style.padding = \"0px\";\n",
       "        </script>\n",
       "<div id=\"myVizzu_d2d6bf5\"/>\n",
       "        <script>\n",
       "        \n",
       "        chart_8014372 = chart_8014372.then(chart => {\n",
       "            document.getElementById(\"myVizzu_d2d6bf5\").appendChild(myVizzu_8014372);\n",
       "            return chart.animate(snapshot_1dcc670)\n",
       "        });\n",
       "        </script>"
      ]
     },
     "metadata": {},
     "output_type": "display_data"
    },
    {
     "data": {
      "text/html": [
       "<script id=\"myVizzu_d8d5c0b\">\n",
       "        document.getElementById(\"myVizzu_d8d5c0b\").parentNode.style.padding = \"0px\";\n",
       "        </script>\n",
       "<div id=\"myVizzu_46d02a4\"/>\n",
       "        <script>\n",
       "        \n",
       "        chart_8014372 = chart_8014372.then(chart => {\n",
       "            document.getElementById(\"myVizzu_46d02a4\").appendChild(myVizzu_8014372);\n",
       "            return chart.animate({\"config\": {\"title\": \"Aggregate element\"}})\n",
       "        });\n",
       "        </script>"
      ]
     },
     "metadata": {},
     "output_type": "display_data"
    },
    {
     "data": {
      "text/html": [
       "<script id=\"myVizzu_fd21591\">\n",
       "        document.getElementById(\"myVizzu_fd21591\").parentNode.style.padding = \"0px\";\n",
       "        </script>\n",
       "<div id=\"myVizzu_e0b6468\"/>\n",
       "        <script>\n",
       "        \n",
       "        chart_8014372 = chart_8014372.then(chart => {\n",
       "            document.getElementById(\"myVizzu_e0b6468\").appendChild(myVizzu_8014372);\n",
       "            return chart.animate({\"config\": {\"channels\": {\"y\": {\"detach\": \"Genres\"}}}})\n",
       "        });\n",
       "        </script>"
      ]
     },
     "metadata": {},
     "output_type": "display_data"
    },
    {
     "data": {
      "text/html": [
       "<script id=\"myVizzu_214cb23\">\n",
       "        document.getElementById(\"myVizzu_214cb23\").parentNode.style.padding = \"0px\";\n",
       "        </script>\n",
       "<script>\n",
       "        let snapshot_d127eb2;\n",
       "        chart_8014372 = chart_8014372.then(chart => {\n",
       "            snapshot_d127eb2 = chart.store();\n",
       "            return chart;\n",
       "        });\n",
       "        </script>"
      ]
     },
     "metadata": {},
     "output_type": "display_data"
    }
   ],
   "source": [
    "chart.animate(snapshot1)\n",
    "\n",
    "chart.animate(Config({\"title\": \"Aggregate element\"}))\n",
    "\n",
    "chart.animate(Config({\n",
    "    \"channels\": {\n",
    "        \"y\": {\n",
    "            \"detach\": \"Genres\",\n",
    "        },\n",
    "    }\n",
    "}))\n",
    "\n",
    "snapshot2 = chart.store()"
   ]
  },
  {
   "cell_type": "markdown",
   "id": "4782dfe9",
   "metadata": {},
   "source": [
    "To drill-down, the same dimension is put back on the y-axis, which results in a state that we suggest you to only use temporarily when in transition."
   ]
  },
  {
   "cell_type": "code",
   "execution_count": 3,
   "id": "e99596c4",
   "metadata": {},
   "outputs": [
    {
     "data": {
      "text/html": [
       "<script id=\"myVizzu_78c9892\">\n",
       "        document.getElementById(\"myVizzu_78c9892\").parentNode.style.padding = \"0px\";\n",
       "        </script>\n",
       "<div id=\"myVizzu_a155914\"/>\n",
       "        <script>\n",
       "        \n",
       "        chart_8014372 = chart_8014372.then(chart => {\n",
       "            document.getElementById(\"myVizzu_a155914\").appendChild(myVizzu_8014372);\n",
       "            return chart.animate(snapshot_d127eb2)\n",
       "        });\n",
       "        </script>"
      ]
     },
     "metadata": {},
     "output_type": "display_data"
    },
    {
     "data": {
      "text/html": [
       "<script id=\"myVizzu_933923f\">\n",
       "        document.getElementById(\"myVizzu_933923f\").parentNode.style.padding = \"0px\";\n",
       "        </script>\n",
       "<div id=\"myVizzu_d4c77f8\"/>\n",
       "        <script>\n",
       "        \n",
       "        chart_8014372 = chart_8014372.then(chart => {\n",
       "            document.getElementById(\"myVizzu_d4c77f8\").appendChild(myVizzu_8014372);\n",
       "            return chart.animate({\"config\": {\"title\": \"Drill-down\"}})\n",
       "        });\n",
       "        </script>"
      ]
     },
     "metadata": {},
     "output_type": "display_data"
    },
    {
     "data": {
      "text/html": [
       "<script id=\"myVizzu_d234cff\">\n",
       "        document.getElementById(\"myVizzu_d234cff\").parentNode.style.padding = \"0px\";\n",
       "        </script>\n",
       "<div id=\"myVizzu_1ea4904\"/>\n",
       "        <script>\n",
       "        \n",
       "        chart_8014372 = chart_8014372.then(chart => {\n",
       "            document.getElementById(\"myVizzu_1ea4904\").appendChild(myVizzu_8014372);\n",
       "            return chart.animate({\"config\": {\"channels\": {\"y\": {\"attach\": \"Genres\"}}}})\n",
       "        });\n",
       "        </script>"
      ]
     },
     "metadata": {},
     "output_type": "display_data"
    },
    {
     "data": {
      "text/html": [
       "<script id=\"myVizzu_5cde06e\">\n",
       "        document.getElementById(\"myVizzu_5cde06e\").parentNode.style.padding = \"0px\";\n",
       "        </script>\n",
       "<script>\n",
       "        let snapshot_9e85825;\n",
       "        chart_8014372 = chart_8014372.then(chart => {\n",
       "            snapshot_9e85825 = chart.store();\n",
       "            return chart;\n",
       "        });\n",
       "        </script>"
      ]
     },
     "metadata": {},
     "output_type": "display_data"
    }
   ],
   "source": [
    "chart.animate(snapshot2)\n",
    "\n",
    "chart.animate(Config({\"title\": \"Drill-down\"}))\n",
    "\n",
    "chart.animate(Config({\n",
    "    \"channels\": {\n",
    "        \"y\": {\n",
    "            \"attach\": \"Genres\",\n",
    "        },\n",
    "    }\n",
    "}))\n",
    "\n",
    "snapshot3 = chart.store()"
   ]
  },
  {
   "cell_type": "markdown",
   "id": "f971cdc5",
   "metadata": {},
   "source": [
    "We group the elements by putting once again the Genres dimension on the x-axis."
   ]
  },
  {
   "cell_type": "code",
   "execution_count": 4,
   "id": "5735f1e9",
   "metadata": {},
   "outputs": [
    {
     "data": {
      "text/html": [
       "<script id=\"myVizzu_cacdecf\">\n",
       "        document.getElementById(\"myVizzu_cacdecf\").parentNode.style.padding = \"0px\";\n",
       "        </script>\n",
       "<div id=\"myVizzu_055eb27\"/>\n",
       "        <script>\n",
       "        \n",
       "        chart_8014372 = chart_8014372.then(chart => {\n",
       "            document.getElementById(\"myVizzu_055eb27\").appendChild(myVizzu_8014372);\n",
       "            return chart.animate(snapshot_9e85825)\n",
       "        });\n",
       "        </script>"
      ]
     },
     "metadata": {},
     "output_type": "display_data"
    },
    {
     "data": {
      "text/html": [
       "<script id=\"myVizzu_2bec31b\">\n",
       "        document.getElementById(\"myVizzu_2bec31b\").parentNode.style.padding = \"0px\";\n",
       "        </script>\n",
       "<div id=\"myVizzu_d2eb088\"/>\n",
       "        <script>\n",
       "        \n",
       "        chart_8014372 = chart_8014372.then(chart => {\n",
       "            document.getElementById(\"myVizzu_d2eb088\").appendChild(myVizzu_8014372);\n",
       "            return chart.animate({\"config\": {\"title\": \"Group\"}})\n",
       "        });\n",
       "        </script>"
      ]
     },
     "metadata": {},
     "output_type": "display_data"
    },
    {
     "data": {
      "text/html": [
       "<script id=\"myVizzu_73f97f9\">\n",
       "        document.getElementById(\"myVizzu_73f97f9\").parentNode.style.padding = \"0px\";\n",
       "        </script>\n",
       "<div id=\"myVizzu_384dd26\"/>\n",
       "        <script>\n",
       "        \n",
       "        chart_8014372 = chart_8014372.then(chart => {\n",
       "            document.getElementById(\"myVizzu_384dd26\").appendChild(myVizzu_8014372);\n",
       "            return chart.animate({\"config\": {\"channels\": {\"y\": {\"detach\": \"Genres\"}, \"x\": {\"set\": \"Genres\"}}}})\n",
       "        });\n",
       "        </script>"
      ]
     },
     "metadata": {},
     "output_type": "display_data"
    }
   ],
   "source": [
    "chart.animate(snapshot3)\n",
    "\n",
    "chart.animate(Config({\"title\": \"Group\"}))\n",
    "\n",
    "chart.animate(Config({\n",
    "    \"channels\": {\n",
    "        \"y\": {\n",
    "            \"detach\": \"Genres\",\n",
    "        },\n",
    "        \"x\": {\n",
    "            \"set\": \"Genres\",\n",
    "        }\n",
    "    }\n",
    "}))"
   ]
  }
 ],
 "metadata": {
  "kernelspec": {
   "display_name": "Python 3 (ipykernel)",
   "language": "python",
   "name": "python3"
  },
  "language_info": {
   "codemirror_mode": {
    "name": "ipython",
    "version": 3
   },
   "file_extension": ".py",
   "mimetype": "text/x-python",
   "name": "python",
   "nbconvert_exporter": "python",
   "pygments_lexer": "ipython3",
   "version": "3.8.10"
  }
 },
 "nbformat": 4,
 "nbformat_minor": 5
}
