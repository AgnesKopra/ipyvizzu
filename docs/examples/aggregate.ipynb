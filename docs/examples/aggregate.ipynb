{
 "cells": [
  {
   "cell_type": "markdown",
   "id": "e582c95b",
   "metadata": {},
   "source": [
    "## Aggregate/drill-down\n",
    "\n",
    "These features basically mean that you add or remove an additional dimension to/from an axis or another channel. As you can see below, there are some important things to keep in mind when you use them.\n",
    "\n",
    "Let’s stack together the elements by putting the Genres dimension from the x-axis to the y-axis. At the end of this phase, there are chart elements with the same color stacked on top of each other, which is something you would want to avoid."
   ]
  },
  {
   "cell_type": "code",
   "execution_count": 1,
   "id": "6cae8fe1",
   "metadata": {},
   "outputs": [
    {
     "data": {
      "text/html": [
       "<script>\n",
       "    let myVizzu_520df33 = document.createElement(\"div\");\n",
       "    myVizzu_520df33.style.cssText = \"width: 800px; height: 480px;\";\n",
       "    let chart_520df33 = import(\"https://cdn.jsdelivr.net/npm/vizzu@~0.4.0/dist/vizzu.min.js\").then(Vizzu => new Vizzu.default(myVizzu_520df33).initializing);\n",
       "</script>"
      ]
     },
     "metadata": {},
     "output_type": "display_data"
    },
    {
     "data": {
      "text/html": [
       "<script id=\"myVizzu_700edad\">\n",
       "    chart_520df33 = chart_520df33.then(chart => {\n",
       "        let script = document.getElementById(\"myVizzu_700edad\");\n",
       "        if (myVizzu_520df33.parentNode && myVizzu_520df33.parentNode.parentNode) {\n",
       "            let display = myVizzu_520df33.parentNode.parentNode.style.display;\n",
       "            myVizzu_520df33.parentNode.parentNode.style.display = \"none\";\n",
       "            script.parentNode.parentNode.style.display = display;\n",
       "        }\n",
       "        script.parentNode.insertBefore(myVizzu_520df33, script);\n",
       "        return chart.animate({\"data\": {\"dimensions\": [{\"name\": \"Genres\", \"values\": [\"Pop\", \"Rock\", \"Jazz\", \"Metal\"]}, {\"name\": \"Types\", \"values\": [\"Hard\", \"Smooth\", \"Experimental\"]}], \"measures\": [{\"name\": \"Popularity\", \"values\": [[114, 96, 78, 52], [56, 36, 174, 121], [127, 83, 94, 58]]}]}});\n",
       "    });\n",
       "</script>"
      ]
     },
     "metadata": {},
     "output_type": "display_data"
    },
    {
     "data": {
      "text/html": [
       "<script id=\"myVizzu_d58696d\">\n",
       "    chart_520df33 = chart_520df33.then(chart => {\n",
       "        let script = document.getElementById(\"myVizzu_d58696d\");\n",
       "        if (myVizzu_520df33.parentNode && myVizzu_520df33.parentNode.parentNode) {\n",
       "            let display = myVizzu_520df33.parentNode.parentNode.style.display;\n",
       "            myVizzu_520df33.parentNode.parentNode.style.display = \"none\";\n",
       "            script.parentNode.parentNode.style.display = display;\n",
       "        }\n",
       "        script.parentNode.insertBefore(myVizzu_520df33, script);\n",
       "        return chart.animate({\"config\": {\"channels\": {\"y\": {\"set\": [\"Popularity\", \"Types\"]}, \"x\": {\"set\": \"Genres\"}, \"label\": {\"attach\": \"Popularity\"}}, \"color\": {\"attach\": \"Types\"}, \"title\": \"Stack\"}});\n",
       "    });\n",
       "</script>"
      ]
     },
     "metadata": {},
     "output_type": "display_data"
    },
    {
     "data": {
      "text/html": [
       "<script id=\"myVizzu_beb4a05\">\n",
       "    chart_520df33 = chart_520df33.then(chart => {\n",
       "        let script = document.getElementById(\"myVizzu_beb4a05\");\n",
       "        if (myVizzu_520df33.parentNode && myVizzu_520df33.parentNode.parentNode) {\n",
       "            let display = myVizzu_520df33.parentNode.parentNode.style.display;\n",
       "            myVizzu_520df33.parentNode.parentNode.style.display = \"none\";\n",
       "            script.parentNode.parentNode.style.display = display;\n",
       "        }\n",
       "        script.parentNode.insertBefore(myVizzu_520df33, script);\n",
       "        return chart.animate({\"config\": {\"channels\": {\"y\": {\"attach\": \"Genres\"}, \"x\": {\"set\": null}}}});\n",
       "    });\n",
       "</script>"
      ]
     },
     "metadata": {},
     "output_type": "display_data"
    },
    {
     "data": {
      "text/html": [
       "<script>\n",
       "    let snapshot_d22f359;\n",
       "    chart_520df33 = chart_520df33.then(chart => {\n",
       "        snapshot_d22f359 = chart.store();\n",
       "        return chart;\n",
       "    });\n",
       "</script>"
      ]
     },
     "metadata": {},
     "output_type": "display_data"
    }
   ],
   "source": [
    "from ipyvizzu import Chart, Data, Config\n",
    "\n",
    "chart = Chart()\n",
    "\n",
    "data = Data.from_json(\"../data/music_example_data.json\")\n",
    "\n",
    "chart.animate(data)\n",
    "\n",
    "chart.animate(Config({\n",
    "    \"channels\": {\n",
    "        \"y\": {\n",
    "            \"set\": [\"Popularity\", \"Types\"]\n",
    "        }, \n",
    "        \"x\": {\n",
    "            \"set\": \"Genres\"\n",
    "        },\n",
    "        \"label\": {\n",
    "            \"attach\": \"Popularity\"\n",
    "        }\n",
    "    },\n",
    "    \"color\": {\n",
    "        \"attach\": \"Types\"\n",
    "    },\n",
    "    \"title\": \"Stack\"\n",
    "}))\n",
    "\n",
    "chart.animate(Config({\n",
    "    \"channels\": {\n",
    "        \"y\": {\n",
    "            \"attach\": \"Genres\",\n",
    "        },\n",
    "        \"x\": {\n",
    "            \"set\": None\n",
    "        }\n",
    "    }\n",
    "}))\n",
    "\n",
    "snapshot1 = chart.store()"
   ]
  },
  {
   "cell_type": "markdown",
   "id": "5f11abdd",
   "metadata": {},
   "source": [
    "By taking the Genres off of the y-axis, only one chart element remains for every color, and Vizzu automatically calculates and shows the aggregate value of the elements.\n",
    "\n",
    "Note: Instead of taking the unwanted dimension down from the chart, Genres could have been added to the lightness channel to differentiate the chart elements."
   ]
  },
  {
   "cell_type": "code",
   "execution_count": 2,
   "id": "fca41144",
   "metadata": {},
   "outputs": [
    {
     "data": {
      "text/html": [
       "<script id=\"myVizzu_d50f4d2\">\n",
       "    chart_520df33 = chart_520df33.then(chart => {\n",
       "        let script = document.getElementById(\"myVizzu_d50f4d2\");\n",
       "        if (myVizzu_520df33.parentNode && myVizzu_520df33.parentNode.parentNode) {\n",
       "            let display = myVizzu_520df33.parentNode.parentNode.style.display;\n",
       "            myVizzu_520df33.parentNode.parentNode.style.display = \"none\";\n",
       "            script.parentNode.parentNode.style.display = display;\n",
       "        }\n",
       "        script.parentNode.insertBefore(myVizzu_520df33, script);\n",
       "        return chart.animate(snapshot_d22f359);\n",
       "    });\n",
       "</script>"
      ]
     },
     "metadata": {},
     "output_type": "display_data"
    },
    {
     "data": {
      "text/html": [
       "<script id=\"myVizzu_e1f7918\">\n",
       "    chart_520df33 = chart_520df33.then(chart => {\n",
       "        let script = document.getElementById(\"myVizzu_e1f7918\");\n",
       "        if (myVizzu_520df33.parentNode && myVizzu_520df33.parentNode.parentNode) {\n",
       "            let display = myVizzu_520df33.parentNode.parentNode.style.display;\n",
       "            myVizzu_520df33.parentNode.parentNode.style.display = \"none\";\n",
       "            script.parentNode.parentNode.style.display = display;\n",
       "        }\n",
       "        script.parentNode.insertBefore(myVizzu_520df33, script);\n",
       "        return chart.animate({\"config\": {\"title\": \"Aggregate element\"}});\n",
       "    });\n",
       "</script>"
      ]
     },
     "metadata": {},
     "output_type": "display_data"
    },
    {
     "data": {
      "text/html": [
       "<script id=\"myVizzu_02d6f93\">\n",
       "    chart_520df33 = chart_520df33.then(chart => {\n",
       "        let script = document.getElementById(\"myVizzu_02d6f93\");\n",
       "        if (myVizzu_520df33.parentNode && myVizzu_520df33.parentNode.parentNode) {\n",
       "            let display = myVizzu_520df33.parentNode.parentNode.style.display;\n",
       "            myVizzu_520df33.parentNode.parentNode.style.display = \"none\";\n",
       "            script.parentNode.parentNode.style.display = display;\n",
       "        }\n",
       "        script.parentNode.insertBefore(myVizzu_520df33, script);\n",
       "        return chart.animate({\"config\": {\"channels\": {\"y\": {\"detach\": \"Genres\"}}}});\n",
       "    });\n",
       "</script>"
      ]
     },
     "metadata": {},
     "output_type": "display_data"
    },
    {
     "data": {
      "text/html": [
       "<script>\n",
       "    let snapshot_297f84f;\n",
       "    chart_520df33 = chart_520df33.then(chart => {\n",
       "        snapshot_297f84f = chart.store();\n",
       "        return chart;\n",
       "    });\n",
       "</script>"
      ]
     },
     "metadata": {},
     "output_type": "display_data"
    }
   ],
   "source": [
    "chart.animate(snapshot1)\n",
    "\n",
    "chart.animate(Config({\"title\": \"Aggregate element\"}))\n",
    "\n",
    "chart.animate(Config({\n",
    "    \"channels\": {\n",
    "        \"y\": {\n",
    "            \"detach\": \"Genres\",\n",
    "        },\n",
    "    }\n",
    "}))\n",
    "\n",
    "snapshot2 = chart.store()"
   ]
  },
  {
   "cell_type": "markdown",
   "id": "4782dfe9",
   "metadata": {},
   "source": [
    "To drill-down, the same dimension is put back on the y-axis, which results in a state that we suggest you to only use temporarily when in transition."
   ]
  },
  {
   "cell_type": "code",
   "execution_count": 3,
   "id": "e99596c4",
   "metadata": {},
   "outputs": [
    {
     "data": {
      "text/html": [
       "<script id=\"myVizzu_84f94ee\">\n",
       "    chart_520df33 = chart_520df33.then(chart => {\n",
       "        let script = document.getElementById(\"myVizzu_84f94ee\");\n",
       "        if (myVizzu_520df33.parentNode && myVizzu_520df33.parentNode.parentNode) {\n",
       "            let display = myVizzu_520df33.parentNode.parentNode.style.display;\n",
       "            myVizzu_520df33.parentNode.parentNode.style.display = \"none\";\n",
       "            script.parentNode.parentNode.style.display = display;\n",
       "        }\n",
       "        script.parentNode.insertBefore(myVizzu_520df33, script);\n",
       "        return chart.animate(snapshot_297f84f);\n",
       "    });\n",
       "</script>"
      ]
     },
     "metadata": {},
     "output_type": "display_data"
    },
    {
     "data": {
      "text/html": [
       "<script id=\"myVizzu_8ac83c8\">\n",
       "    chart_520df33 = chart_520df33.then(chart => {\n",
       "        let script = document.getElementById(\"myVizzu_8ac83c8\");\n",
       "        if (myVizzu_520df33.parentNode && myVizzu_520df33.parentNode.parentNode) {\n",
       "            let display = myVizzu_520df33.parentNode.parentNode.style.display;\n",
       "            myVizzu_520df33.parentNode.parentNode.style.display = \"none\";\n",
       "            script.parentNode.parentNode.style.display = display;\n",
       "        }\n",
       "        script.parentNode.insertBefore(myVizzu_520df33, script);\n",
       "        return chart.animate({\"config\": {\"title\": \"Drill-down\"}});\n",
       "    });\n",
       "</script>"
      ]
     },
     "metadata": {},
     "output_type": "display_data"
    },
    {
     "data": {
      "text/html": [
       "<script id=\"myVizzu_e884c67\">\n",
       "    chart_520df33 = chart_520df33.then(chart => {\n",
       "        let script = document.getElementById(\"myVizzu_e884c67\");\n",
       "        if (myVizzu_520df33.parentNode && myVizzu_520df33.parentNode.parentNode) {\n",
       "            let display = myVizzu_520df33.parentNode.parentNode.style.display;\n",
       "            myVizzu_520df33.parentNode.parentNode.style.display = \"none\";\n",
       "            script.parentNode.parentNode.style.display = display;\n",
       "        }\n",
       "        script.parentNode.insertBefore(myVizzu_520df33, script);\n",
       "        return chart.animate({\"config\": {\"channels\": {\"y\": {\"attach\": \"Genres\"}}}});\n",
       "    });\n",
       "</script>"
      ]
     },
     "metadata": {},
     "output_type": "display_data"
    },
    {
     "data": {
      "text/html": [
       "<script>\n",
       "    let snapshot_aa01312;\n",
       "    chart_520df33 = chart_520df33.then(chart => {\n",
       "        snapshot_aa01312 = chart.store();\n",
       "        return chart;\n",
       "    });\n",
       "</script>"
      ]
     },
     "metadata": {},
     "output_type": "display_data"
    }
   ],
   "source": [
    "chart.animate(snapshot2)\n",
    "\n",
    "chart.animate(Config({\"title\": \"Drill-down\"}))\n",
    "\n",
    "chart.animate(Config({\n",
    "    \"channels\": {\n",
    "        \"y\": {\n",
    "            \"attach\": \"Genres\",\n",
    "        },\n",
    "    }\n",
    "}))\n",
    "\n",
    "snapshot3 = chart.store()"
   ]
  },
  {
   "cell_type": "markdown",
   "id": "f971cdc5",
   "metadata": {},
   "source": [
    "We group the elements by putting once again the Genres dimension on the x-axis."
   ]
  },
  {
   "cell_type": "code",
   "execution_count": 4,
   "id": "5735f1e9",
   "metadata": {},
   "outputs": [
    {
     "data": {
      "text/html": [
       "<script id=\"myVizzu_e6ee4d8\">\n",
       "    chart_520df33 = chart_520df33.then(chart => {\n",
       "        let script = document.getElementById(\"myVizzu_e6ee4d8\");\n",
       "        if (myVizzu_520df33.parentNode && myVizzu_520df33.parentNode.parentNode) {\n",
       "            let display = myVizzu_520df33.parentNode.parentNode.style.display;\n",
       "            myVizzu_520df33.parentNode.parentNode.style.display = \"none\";\n",
       "            script.parentNode.parentNode.style.display = display;\n",
       "        }\n",
       "        script.parentNode.insertBefore(myVizzu_520df33, script);\n",
       "        return chart.animate(snapshot_aa01312);\n",
       "    });\n",
       "</script>"
      ]
     },
     "metadata": {},
     "output_type": "display_data"
    },
    {
     "data": {
      "text/html": [
       "<script id=\"myVizzu_9f6196d\">\n",
       "    chart_520df33 = chart_520df33.then(chart => {\n",
       "        let script = document.getElementById(\"myVizzu_9f6196d\");\n",
       "        if (myVizzu_520df33.parentNode && myVizzu_520df33.parentNode.parentNode) {\n",
       "            let display = myVizzu_520df33.parentNode.parentNode.style.display;\n",
       "            myVizzu_520df33.parentNode.parentNode.style.display = \"none\";\n",
       "            script.parentNode.parentNode.style.display = display;\n",
       "        }\n",
       "        script.parentNode.insertBefore(myVizzu_520df33, script);\n",
       "        return chart.animate({\"config\": {\"title\": \"Group\"}});\n",
       "    });\n",
       "</script>"
      ]
     },
     "metadata": {},
     "output_type": "display_data"
    },
    {
     "data": {
      "text/html": [
       "<script id=\"myVizzu_6d4fb7f\">\n",
       "    chart_520df33 = chart_520df33.then(chart => {\n",
       "        let script = document.getElementById(\"myVizzu_6d4fb7f\");\n",
       "        if (myVizzu_520df33.parentNode && myVizzu_520df33.parentNode.parentNode) {\n",
       "            let display = myVizzu_520df33.parentNode.parentNode.style.display;\n",
       "            myVizzu_520df33.parentNode.parentNode.style.display = \"none\";\n",
       "            script.parentNode.parentNode.style.display = display;\n",
       "        }\n",
       "        script.parentNode.insertBefore(myVizzu_520df33, script);\n",
       "        return chart.animate({\"config\": {\"channels\": {\"y\": {\"detach\": \"Genres\"}, \"x\": {\"set\": \"Genres\"}}}});\n",
       "    });\n",
       "</script>"
      ]
     },
     "metadata": {},
     "output_type": "display_data"
    }
   ],
   "source": [
    "chart.animate(snapshot3)\n",
    "\n",
    "chart.animate(Config({\"title\": \"Group\"}))\n",
    "\n",
    "chart.animate(Config({\n",
    "    \"channels\": {\n",
    "        \"y\": {\n",
    "            \"detach\": \"Genres\",\n",
    "        },\n",
    "        \"x\": {\n",
    "            \"set\": \"Genres\",\n",
    "        }\n",
    "    }\n",
    "}))"
   ]
  }
 ],
 "metadata": {
  "kernelspec": {
   "display_name": "Python 3 (ipykernel)",
   "language": "python",
   "name": "python3"
  },
  "language_info": {
   "codemirror_mode": {
    "name": "ipython",
    "version": 3
   },
   "file_extension": ".py",
   "mimetype": "text/x-python",
   "name": "python",
   "nbconvert_exporter": "python",
   "pygments_lexer": "ipython3",
   "version": "3.8.10"
  }
 },
 "nbformat": 4,
 "nbformat_minor": 5
}
