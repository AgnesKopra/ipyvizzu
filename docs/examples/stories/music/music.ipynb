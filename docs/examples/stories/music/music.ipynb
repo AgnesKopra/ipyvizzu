{
 "cells": [
  {
   "cell_type": "markdown",
   "source": [
    "**Note:** The data used in this example is available [here](https://github.com/vizzuhq/ipyvizzu/blob/gh-pages/docs/examples/stories/music/music.csv). You can read more about the available types of data in the [Adding data](../../../tutorial/01_02_adding_data.ipynb) chapter."
   ],
   "metadata": {}
  },
  {
   "cell_type": "code",
   "execution_count": null,
   "source": [
    "import pandas as pd\n",
    "from ipyvizzu import Chart, Data, Config, Style\n",
    "\n",
    "data_frame = pd.read_csv('./music.csv', dtype={\"Year\": str})\n",
    "data = Data()\n",
    "data.add_data_frame(data_frame)\n",
    "\n",
    "chart = Chart(width=\"100%\", height=\"360px\")\n",
    "\n",
    "chart.animate(data)\n",
    "\n",
    "chart.animate(\n",
    "    Config({\"x\": \"Year\", \"y\": [\"Format\",\"Revenue [m$]\"], \"color\": \"Format\", \"geometry\":\"area\", \"align\":\"center\", \"title\":\"Revenue by Music Format 1973-2020\"}),\n",
    "    Style({\"plot\":{ \"xAxis\": { \"label\": { \"fontSize\": 9, \"angle\": 2.0}},\n",
    "    \"marker\": { \"colorPalette\": '#b74c20FF #c47f58FF #1c9761FF #ea4549FF #875792FF #3562b6FF #ee7c34FF #efae3aFF' }}})\n",
    ")\n",
    "\n",
    "chart.animate(\n",
    "    Config({\"align\":\"stretch\",\"title\":\"Revenue by Music Format 1973-2020(%)\"}),\n",
    "    delay = 1\n",
    ")\n",
    "\n",
    "chart.animate(\n",
    "    Config({\"align\":\"center\",\"title\":\"Revenue by Music Format 1973-2020\"}),\n",
    "    delay = 1\n",
    ")\n",
    "\n",
    "chart.animate(\n",
    "    Config({\"split\":True}),\n",
    "    delay = 1\n",
    ")\n",
    "\n",
    "chart.animate(\n",
    "    Data.filter(\"record.Format == 'Vinyl' ||record.Format == 'Streaming'\"),\n",
    "    Config({\"title\":\"Revenue of Vinyl & Streaming 1973-2020\"}),\n",
    "    delay = 1\n",
    ")\n",
    "\n",
    "chart.animate(\n",
    "    Data.filter(None),\n",
    "    Config({\"title\":\"Revenue by Music Format 1973-2020\", \"split\":False}),\n",
    "    delay = 1\n",
    ")\n",
    "\n",
    "chart.animate(\n",
    "    Config({\"x\": \"Year\", \"y\": \"Revenue [m$]\", \"noop\":\"Format\",\"align\":\"none\",\"geometry\":\"line\"}),\n",
    "    delay = 1\n",
    ")"
   ],
   "outputs": [],
   "metadata": {
    "scrolled": true
   }
  },
  {
   "cell_type": "markdown",
   "source": [
    "Back to the [Examples](../../examples.ipynb) ----- Back to the [Table of contents](../../../doc.ipynb#tutorial)"
   ],
   "metadata": {}
  }
 ],
 "metadata": {
  "kernelspec": {
   "display_name": ".venv",
   "language": "python",
   "name": ".venv"
  },
  "language_info": {
   "codemirror_mode": {
    "name": "ipython",
    "version": 3
   },
   "file_extension": ".py",
   "mimetype": "text/x-python",
   "name": "python",
   "nbconvert_exporter": "python",
   "pygments_lexer": "ipython3",
   "version": "3.8.10"
  },
  "title": "ipyvizzu - Story"
 },
 "nbformat": 4,
 "nbformat_minor": 2
}