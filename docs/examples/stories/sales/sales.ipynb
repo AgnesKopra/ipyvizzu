{
 "cells": [
  {
   "cell_type": "code",
   "metadata": {
    "tags": [],
    "cell_id": "71cb2210-f0aa-45e7-b3bf-610e7f1704aa",
    "deepnote_to_be_reexecuted": false,
    "source_hash": "ceccda01",
    "execution_start": 1652346425989,
    "execution_millis": 333,
    "deepnote_app_coordinates": {
     "x": 0,
     "y": null,
     "w": 12,
     "h": 5
    },
    "owner_user_id": "a233227e-27fc-42c3-898c-d4cac90c985c",
    "deepnote_cell_type": "code",
    "deepnote_cell_height": 1413,
    "deepnote_output_heights": [
     362
    ]
   },
   "source": "import pandas as pd\nfrom ipyvizzu import Chart, Data, Config, Style\n\ndata_frame = pd.read_csv('https://raw.githubusercontent.com/petervidos/vizzu-pres/main/sales.csv', dtype={\"tenure\": str})\ndata = Data()\ndata.add_data_frame(data_frame)\n\nchart = Chart(width=\"100%\", height=\"360px\", display=\"manual\")\n\nchart.animate(data)\n\nchart.animate(\n    Data.filter(\"record['Product'] == 'Shoes'\"),  \n    Config({\"x\": \"Region\", \"y\": [\"Sales\",\"Product\"], \"label\": \"Sales\", \"color\": \"Product\", \"title\":\"Sales of Shoes\"})\n)\n\nchart.animate(\n    Data.filter(\"record['Product'] == 'Shoes' || record['Product'] == 'Handbags'\"),\n    Config({\"title\":\"Sales of Shoes & Handbags\"}),\n    delay=1    \n)\n\nchart.animate(\n    Data.filter(\"record['Product'] != 'Accessories'\"),  \n    Config({\"title\":\"Sales of Shoes, Handbags & Gloves\"}),\n    delay=1    \n)\n\nchart.animate(\n    Data.filter(None),  \n    Config({\"title\":\"Sales of All Products\"}),\n    delay=1    \n)\n\nchart.animate(\n    Config({\"y\": [\"Revenue [$]\",\"Product\"],\"label\": \"Revenue [$]\",\"title\":\"Revenue of All Products\"}),\n    delay=1    \n)\n\nchart.animate(\n    Config({\"x\": [\"Region\",\"Revenue [$]\"],\"y\": \"Product\"}),\n    delay=2    \n)\n\nchart.animate(\n    Config({\"x\": \"Revenue [$]\",\"y\": \"Product\"})\n)\n\nchart.animate(\n    Config({\"coordSystem\": \"polar\", \"sort\": \"byValue\"}),\n    delay=1    \n)\n\nchart.show()",
   "execution_count": null,
   "outputs": [
    {
     "data": {
      "application/javascript": "\n        class IpyVizzu \n{\n    constructor(element, chartId, vizzulib, divWidth, divHeight)\n    {\n        IpyVizzu.inhibitScroll = false;\n        IpyVizzu.nbconvert = false;\n        document.addEventListener('wheel', (evt) => { IpyVizzu.inhibitScroll = true }, true);\n        document.addEventListener('keydown', (evt) => { IpyVizzu.inhibitScroll = true }, true);\n        document.addEventListener('touchstart', (evt) => { IpyVizzu.inhibitScroll = true }, true);\n\n        this.elements = {};\n        this.elements[chartId] = document.createElement(\"div\");\n        this.elements[chartId].style.cssText = `width: ${divWidth}; height: ${divHeight};`;\n\n        this.charts = {};\n        this.charts[chartId] = import(vizzulib).then(Vizzu => new Vizzu.default(this.elements[chartId]).initializing);\n        this._moveHere(chartId, element);\n\n        this.snapshots = {};\n        this.displays = {};\n    }\n\n    static clearInhibitScroll(element)\n    {\n        if (IpyVizzu.nbconvert) IpyVizzu._hide(element);\n        IpyVizzu.inhibitScroll = false;\n    }\n\n    animate(element, chartId, displayTarget, scrollEnabled, chartTarget, chartAnimOpts)\n    {\n        if (IpyVizzu.nbconvert) IpyVizzu._hide(element);\n        if (displayTarget === 'end') this._moveHere(chartId, element);\n        this.charts[chartId] = this.charts[chartId].then(chart => {\n            if (displayTarget === 'actual') this._moveHere(chartId, element);\n            this._scroll(chartId, scrollEnabled);\n            return chart.animate(chartTarget, chartAnimOpts);\n        });\n    }\n\n    store(element, chartId, id)\n    {\n        if (IpyVizzu.nbconvert) IpyVizzu._hide(element);\n        this.charts[chartId] = this.charts[chartId].then(chart => {\n            this.snapshots[id] = chart.store();\n            return chart;\n        });\n    }\n\n    stored(element, id)\n    {\n        if (IpyVizzu.nbconvert) IpyVizzu._hide(element);\n        return this.snapshots[id];\n    }\n\n    feature(element, chartId, name, enabled)\n    {\n        if (IpyVizzu.nbconvert) IpyVizzu._hide(element);\n        this.charts[chartId] = this.charts[chartId].then(chart => {\n            chart.feature(name, enabled);\n            return chart;\n        });\n    }\n\n    _moveHere(chartId, element)\n    {\n        if (IpyVizzu.nbconvert) IpyVizzu._display(this.elements[chartId], element);\n        element.append(this.elements[chartId]);\n    }\n\n    _scroll(chartId, enabled)\n    {\n        if (!IpyVizzu.inhibitScroll && enabled) {\n            this.elements[chartId].scrollIntoView({ behavior: \"auto\", block: \"center\" });\n        }\n    }\n\n    static _hide(element) {\n        document.getElementById(element.selector.substring(1)).parentNode.style.display = 'none';\n    }\n\n    static _display(prevElement, element) {\n        if (prevElement.parentNode) {\n            prevElement.parentNode.style.display = \"none\";\n        }\n        document.getElementById(element.selector.substring(1)).parentNode.style.display = 'flex';\n        document.getElementById(element.selector.substring(1)).parentNode.style.margin = 'auto';\n    }\n}\n\nwindow.IpyVizzu = IpyVizzu;\n        window.ipyvizzu = new window.IpyVizzu(element, \"0ff5ce3\", \"https://cdn.jsdelivr.net/npm/vizzu@~0.4.0/dist/vizzu.min.js\", \"100%\", \"360px\");\nwindow.ipyvizzu.animate(element, '0ff5ce3', 'manual', false, {\"data\": {\"series\": [{\"name\": \"Region\", \"type\": \"dimension\", \"values\": [\"North\", \"North\", \"North\", \"North\", \"South\", \"South\", \"South\", \"South\", \"East\", \"East\", \"East\", \"East\", \"West\", \"West\", \"West\", \"West\"]}, {\"name\": \"Product\", \"type\": \"dimension\", \"values\": [\"Shoes\", \"Handbags\", \"Gloves\", \"Accessories\", \"Shoes\", \"Handbags\", \"Gloves\", \"Accessories\", \"Shoes\", \"Handbags\", \"Gloves\", \"Accessories\", \"Shoes\", \"Handbags\", \"Gloves\", \"Accessories\"]}, {\"name\": \"Sales\", \"type\": \"measure\", \"values\": [4500.0, 7400.0, 2350.0, 8200.0, 3850.0, 6200.0, 3100.0, 10500.0, 2300.0, 3800.0, 7250.0, 5600.0, 4100.0, 6800.0, 3650.0, 7600.0]}, {\"name\": \"Revenue [$]\", \"type\": \"measure\", \"values\": [202500.0, 296000.0, 70500.0, 147600.0, 173250.0, 248000.0, 93000.0, 189000.0, 103500.0, 152000.0, 217500.0, 100800.0, 184500.0, 272000.0, 109500.0, 136800.0]}]}}, undefined);\nwindow.ipyvizzu.animate(element, '0ff5ce3', 'manual', false, {\"data\": {\"filter\": record => { return (record['Product'] == 'Shoes') }}, \"config\": {\"x\": \"Region\", \"y\": [\"Sales\", \"Product\"], \"label\": \"Sales\", \"color\": \"Product\", \"title\": \"Sales of Shoes\"}}, undefined);\nwindow.ipyvizzu.animate(element, '0ff5ce3', 'manual', false, {\"data\": {\"filter\": record => { return (record['Product'] == 'Shoes' || record['Product'] == 'Handbags') }}, \"config\": {\"title\": \"Sales of Shoes & Handbags\"}}, {\"delay\": 1});\nwindow.ipyvizzu.animate(element, '0ff5ce3', 'manual', false, {\"data\": {\"filter\": record => { return (record['Product'] != 'Accessories') }}, \"config\": {\"title\": \"Sales of Shoes, Handbags & Gloves\"}}, {\"delay\": 1});\nwindow.ipyvizzu.animate(element, '0ff5ce3', 'manual', false, {\"data\": {\"filter\": null}, \"config\": {\"title\": \"Sales of All Products\"}}, {\"delay\": 1});\nwindow.ipyvizzu.animate(element, '0ff5ce3', 'manual', false, {\"config\": {\"y\": [\"Revenue [$]\", \"Product\"], \"label\": \"Revenue [$]\", \"title\": \"Revenue of All Products\"}}, {\"delay\": 1});\nwindow.ipyvizzu.animate(element, '0ff5ce3', 'manual', false, {\"config\": {\"x\": [\"Region\", \"Revenue [$]\"], \"y\": \"Product\"}}, {\"delay\": 2});\nwindow.ipyvizzu.animate(element, '0ff5ce3', 'manual', false, {\"config\": {\"x\": \"Revenue [$]\", \"y\": \"Product\"}}, undefined);\nwindow.ipyvizzu.animate(element, '0ff5ce3', 'manual', false, {\"config\": {\"coordSystem\": \"polar\", \"sort\": \"byValue\"}}, {\"delay\": 1});"
     },
     "metadata": {},
     "output_type": "display_data"
    }
   ]
  },
  {
   "cell_type": "code",
   "metadata": {
    "cell_id": "a82ac5cc796a43f48e6f7bdee9f8f7ac",
    "tags": [],
    "deepnote_to_be_reexecuted": false,
    "source_hash": "b623e53d",
    "execution_start": 1652346426207,
    "execution_millis": 0,
    "deepnote_cell_type": "code",
    "deepnote_cell_height": 81
   },
   "source": "",
   "execution_count": null,
   "outputs": []
  },
  {
   "cell_type": "markdown",
   "source": "<a style='text-decoration:none;line-height:16px;display:flex;color:#5B5B62;padding:10px;justify-content:end;' href='https://deepnote.com?utm_source=created-in-deepnote-cell&projectId=5127b5fc-5a3f-4192-b046-c6fde3e264f7' target=\"_blank\">\n<img alt='Created in deepnote.com' style='display:inline;max-height:16px;margin:0px;margin-right:7.5px;' src='data:image/svg+xml;base64,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' > </img>\nCreated in <span style='font-weight:600;margin-left:4px;'>Deepnote</span></a>",
   "metadata": {
    "tags": [],
    "created_in_deepnote_cell": true,
    "deepnote_cell_type": "markdown"
   }
  }
 ],
 "nbformat": 4,
 "nbformat_minor": 2,
 "metadata": {
  "orig_nbformat": 2,
  "deepnote": {
   "is_reactive": false
  },
  "deepnote_notebook_id": "f568ea8f-379e-435c-a169-63e90ad59f8b",
  "deepnote_app_layout": "article",
  "deepnote_execution_queue": []
 }
}