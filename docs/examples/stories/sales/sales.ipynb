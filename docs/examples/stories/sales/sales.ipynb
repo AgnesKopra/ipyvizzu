{
 "cells": [
  {
   "cell_type": "markdown",
   "source": [
    "**Note:** The data used in this example is available [here](https://github.com/vizzuhq/ipyvizzu/blob/gh-pages/docs/examples/stories/sales/sales.csv). You can read more about the available types of data in the [Adding data](../../../tutorial/01_02_adding_data.ipynb) chapter."
   ],
   "metadata": {}
  },
  {
   "cell_type": "code",
   "execution_count": null,
   "source": [
    "import pandas as pd\n",
    "from ipyvizzu import Chart, Data, Config, Style\n",
    "\n",
    "data_frame = pd.read_csv('./sales.csv', dtype={\"tenure\": str})\n",
    "data = Data()\n",
    "data.add_data_frame(data_frame)\n",
    "\n",
    "chart = Chart(width=\"100%\", height=\"360px\", display=\"manual\")\n",
    "\n",
    "chart.animate(data)\n",
    "\n",
    "chart.animate(\n",
    "    Data.filter(\"record['Product'] == 'Shoes'\"),  \n",
    "    Config({\"x\": \"Region\", \"y\": [\"Sales\",\"Product\"], \"label\": \"Sales\", \"color\": \"Product\", \"title\":\"Sales of Shoes\"})\n",
    ")\n",
    "\n",
    "chart.animate(\n",
    "    Data.filter(\"record['Product'] == 'Shoes' || record['Product'] == 'Handbags'\"),\n",
    "    Config({\"title\":\"Sales of Shoes & Handbags\"}),\n",
    "    delay=1    \n",
    ")\n",
    "\n",
    "chart.animate(\n",
    "    Data.filter(\"record['Product'] != 'Accessories'\"),  \n",
    "    Config({\"title\":\"Sales of Shoes, Handbags & Gloves\"}),\n",
    "    delay=1    \n",
    ")\n",
    "\n",
    "chart.animate(\n",
    "    Data.filter(None),  \n",
    "    Config({\"title\":\"Sales of All Products\"}),\n",
    "    delay=1    \n",
    ")\n",
    "\n",
    "chart.animate(\n",
    "    Config({\"y\": [\"Revenue [$]\",\"Product\"],\"label\": \"Revenue [$]\",\"title\":\"Revenue of All Products\"}),\n",
    "    delay=1    \n",
    ")\n",
    "\n",
    "chart.animate(\n",
    "    Config({\"x\": [\"Region\",\"Revenue [$]\"],\"y\": \"Product\"}),\n",
    "    delay=2    \n",
    ")\n",
    "\n",
    "chart.animate(\n",
    "    Config({\"x\": \"Revenue [$]\",\"y\": \"Product\"})\n",
    ")\n",
    "\n",
    "chart.animate(\n",
    "    Config({\"coordSystem\": \"polar\", \"sort\": \"byValue\"}),\n",
    "    delay=1    \n",
    ")\n",
    "\n",
    "chart.show()"
   ],
   "outputs": [],
   "metadata": {
    "scrolled": true
   }
  },
  {
   "cell_type": "markdown",
   "source": [
    "Back to the [Examples](../../examples.ipynb) ----- Back to the [Table of contents](../../../doc.ipynb#tutorial)"
   ],
   "metadata": {}
  }
 ],
 "metadata": {
  "kernelspec": {
   "display_name": "Python 3 (ipykernel)",
   "language": "python",
   "name": "python3"
  },
  "language_info": {
   "codemirror_mode": {
    "name": "ipython",
    "version": 3
   },
   "file_extension": ".py",
   "mimetype": "text/x-python",
   "name": "python",
   "nbconvert_exporter": "python",
   "pygments_lexer": "ipython3",
   "version": "3.8.10"
  },
  "title": "ipyvizzu - Story"
 },
 "nbformat": 4,
 "nbformat_minor": 2
}